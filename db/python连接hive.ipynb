{
 "cells": [
  {
   "cell_type": "markdown",
   "metadata": {},
   "source": [
    "# pyhive\n",
    "https://pypi.org/project/PyHive/"
   ]
  },
  {
   "cell_type": "code",
   "execution_count": 6,
   "metadata": {},
   "outputs": [
    {
     "name": "stdout",
     "output_type": "stream",
     "text": [
      "PyHive==0.6.1\r\n"
     ]
    }
   ],
   "source": [
    "# !pip install sasl\n",
    "# !pip install thrift\n",
    "# !pip install thrift-sasl\n",
    "# !pip install PyHive\n",
    "!pip freeze | grep PyHive"
   ]
  },
  {
   "cell_type": "code",
   "execution_count": 2,
   "metadata": {},
   "outputs": [],
   "source": [
    "from pyhive import hive "
   ]
  },
  {
   "cell_type": "markdown",
   "metadata": {},
   "source": [
    "# 查询hive中存在的databases"
   ]
  },
  {
   "cell_type": "code",
   "execution_count": 11,
   "metadata": {},
   "outputs": [
    {
     "name": "stdout",
     "output_type": "stream",
     "text": [
      "hive连接成功！\n"
     ]
    }
   ],
   "source": [
    "try:\n",
    "    conn = hive.Connection(host='10.0.107.4', port=10000, database='default', username='hive')\n",
    "    print('hive连接成功！')\n",
    "except Exception as e:\n",
    "#     raise Exception(\"hive连接异常！\")\n",
    "    print('hive连接失败！')"
   ]
  },
  {
   "cell_type": "code",
   "execution_count": 12,
   "metadata": {},
   "outputs": [],
   "source": [
    "cursor = conn.cursor()"
   ]
  },
  {
   "cell_type": "code",
   "execution_count": 13,
   "metadata": {},
   "outputs": [
    {
     "data": {
      "text/plain": [
       "[('default',), ('information_schema',), ('sys',)]"
      ]
     },
     "execution_count": 13,
     "metadata": {},
     "output_type": "execute_result"
    }
   ],
   "source": [
    "\n",
    "cursor.execute('show databases')\n",
    "\n",
    "cursor.fetchall()"
   ]
  },
  {
   "cell_type": "markdown",
   "metadata": {},
   "source": [
    "# 查询hive存在的tables"
   ]
  },
  {
   "cell_type": "code",
   "execution_count": 14,
   "metadata": {},
   "outputs": [
    {
     "data": {
      "text/plain": [
       "[]"
      ]
     },
     "execution_count": 14,
     "metadata": {},
     "output_type": "execute_result"
    }
   ],
   "source": [
    "cursor.execute('show tables')\n",
    "\n",
    "cursor.fetchall()"
   ]
  },
  {
   "cell_type": "code",
   "execution_count": 8,
   "metadata": {},
   "outputs": [
    {
     "data": {
      "text/plain": [
       "[('bucketing_cols',),\n",
       " ('cds',),\n",
       " ('columns_v2',),\n",
       " ('database_params',),\n",
       " ('db_privs',),\n",
       " ('db_version',),\n",
       " ('dbs',),\n",
       " ('funcs',),\n",
       " ('global_privs',),\n",
       " ('key_constraints',),\n",
       " ('mv_creation_metadata',),\n",
       " ('mv_tables_used',),\n",
       " ('part_col_privs',),\n",
       " ('part_col_stats',),\n",
       " ('part_privs',),\n",
       " ('partition_key_vals',),\n",
       " ('partition_keys',),\n",
       " ('partition_params',),\n",
       " ('partitions',),\n",
       " ('role_map',),\n",
       " ('roles',),\n",
       " ('sd_params',),\n",
       " ('sds',),\n",
       " ('sequence_table',),\n",
       " ('serde_params',),\n",
       " ('serdes',),\n",
       " ('skewed_col_names',),\n",
       " ('skewed_col_value_loc_map',),\n",
       " ('skewed_string_list',),\n",
       " ('skewed_string_list_values',),\n",
       " ('skewed_values',),\n",
       " ('sort_cols',),\n",
       " ('tab_col_stats',),\n",
       " ('table_params',),\n",
       " ('tbl_col_privs',),\n",
       " ('tbl_privs',),\n",
       " ('tbls',),\n",
       " ('wm_mappings',),\n",
       " ('wm_pools',),\n",
       " ('wm_pools_to_triggers',),\n",
       " ('wm_resourceplans',),\n",
       " ('wm_triggers',)]"
      ]
     },
     "execution_count": 8,
     "metadata": {},
     "output_type": "execute_result"
    }
   ],
   "source": [
    "# cursor.execute('use sys')\n",
    "# cursor.execute('show tables')\n",
    "# cursor.fetchall()"
   ]
  },
  {
   "cell_type": "markdown",
   "metadata": {},
   "source": [
    "# create table"
   ]
  },
  {
   "cell_type": "code",
   "execution_count": 15,
   "metadata": {},
   "outputs": [],
   "source": [
    "cursor.execute('create table if not exists scores_model(model_file string,create_time int)')"
   ]
  },
  {
   "cell_type": "code",
   "execution_count": 24,
   "metadata": {},
   "outputs": [],
   "source": [
    "# cursor.execute('drop table scores_model')"
   ]
  },
  {
   "cell_type": "code",
   "execution_count": 16,
   "metadata": {},
   "outputs": [
    {
     "data": {
      "text/plain": [
       "[]"
      ]
     },
     "execution_count": 16,
     "metadata": {},
     "output_type": "execute_result"
    }
   ],
   "source": [
    "cursor.execute('select * from scores_model')\n",
    "\n",
    "cursor.fetchall()"
   ]
  },
  {
   "cell_type": "code",
   "execution_count": 17,
   "metadata": {},
   "outputs": [
    {
     "data": {
      "text/plain": [
       "[('model_file', 'string', ''), ('create_time', 'int', '')]"
      ]
     },
     "execution_count": 17,
     "metadata": {},
     "output_type": "execute_result"
    }
   ],
   "source": [
    "cursor.execute('desc scores_model')\n",
    "\n",
    "cursor.fetchall()"
   ]
  },
  {
   "cell_type": "markdown",
   "metadata": {},
   "source": [
    "# 修改table字段类型"
   ]
  },
  {
   "cell_type": "code",
   "execution_count": 18,
   "metadata": {},
   "outputs": [],
   "source": [
    "# cursor.execute('alter table scores_model change column create_time create_time string')"
   ]
  },
  {
   "cell_type": "code",
   "execution_count": 23,
   "metadata": {},
   "outputs": [
    {
     "data": {
      "text/plain": [
       "'insert into scores_model(model_file, create_time) VALUES (\"aa\", \"2018-01-01\")'"
      ]
     },
     "execution_count": 23,
     "metadata": {},
     "output_type": "execute_result"
    }
   ],
   "source": [
    "'insert into scores_model(model_file, create_time) VALUES (\"{}\", \"{}\")'.format('aa', '2018-01-01')"
   ]
  },
  {
   "cell_type": "code",
   "execution_count": null,
   "metadata": {},
   "outputs": [],
   "source": [
    "s = 'gANjc2tsZWFybi5saW5lYXJfbW9kZWwubG9naXN0aWMKTG9naXN0aWNSZWdyZXNzaW9uCnEAKYFxAX1xAihYBwAAAHBlbmFsdHlxA1gCAAAAbDJxBFgEAAAAZHVhbHEFiVgDAAAAdG9scQZHPxo24uscQy1YAQAAAENxB0c/8AAAAAAAAFgNAAAAZml0X2ludGVyY2VwdHEIiFgRAAAAaW50ZXJjZXB0X3NjYWxpbmdxCUsBWAwAAABjbGFzc193ZWlnaHRxCk5YDAAAAHJhbmRvbV9zdGF0ZXELTlgGAAAAc29sdmVycQxYBAAAAHdhcm5xDVgIAAAAbWF4X2l0ZXJxDktkWAsAAABtdWx0aV9jbGFzc3EPaA1YBwAAAHZlcmJvc2VxEEsAWAoAAAB3YXJtX3N0YXJ0cRGJWAYAAABuX2pvYnNxEk5YCAAAAGNsYXNzZXNfcRNjc2tsZWFybi5leHRlcm5hbHMuam9ibGliLm51bXB5X3BpY2tsZQpOdW1weUFycmF5V3JhcHBlcgpxFCmBcRV9cRYoWAgAAABzdWJjbGFzc3EXY251bXB5Cm5kYXJyYXkKcRhYBQAAAHNoYXBlcRlLAoVxGlgFAAAAb3JkZXJxG2gHWAUAAABkdHlwZXEcY251bXB5CmR0eXBlCnEdWAIAAABmOHEeSwBLAYdxH1JxIChLA1gBAAAAPHEhTk5OSv////9K/////0sAdHEiYlgKAAAAYWxsb3dfbW1hcHEjiHViAAAAAAAAAAAAAAAAAADwP1gFAAAAY29lZl9xJGgUKYFxJX1xJihoF2gYaBlLAUsrhnEnaBtoB2gcaCBoI4h1YimeboPVPuo/CtJSUare+j9X01JRqt76P4mD/SL2T4m/x7d+GcvCgT+mQCHyZVaHPzg2IfJlVoc/r7kh8mVWhz+v0SHyZVaHPz3BIfJlVoc/74sh8mVWhz+HViLyZVaHP1e3oB9RzIe/YPSBVhQNib8vpk4sSsn3P8nSUlGq3vo/ktNSUare+j+tdyHyZVaHP3EOIfJlVoc/aJsh8mVWhz/PJ8+oi2/zPyIgv8cnbgFA9kU8jd/AvT+rMzyN38C9P4JV9iNTguQ/XEilMxpZ8j+xf4gtNXLzP+vyfhUgFe0/NkxwOXCq5T9VUMWtL0/jPwqfIPJlVoc/SCx/ppE16D8zNyHyZVaHP087IfJlVoc/Z4Ah8mVWhz90biHyZVaHP3eqIPJlVoc/Y3Ifv6q3wj/iHgSEiOODvwKVIPJlVoc/8WcwB69f3D96bDAHr1/cP8ZpMAevX9w/WAoAAABpbnRlcmNlcHRfcShoFCmBcSl9cSooaBdoGGgZSwGFcStoG2gHaBxoIGgjiHVivBkZqJpJzD9YBwAAAG5faXRlcl9xLGgUKYFxLX1xLihoF2gYaBlLAYVxL2gbaAdoHGgdWAIAAABpNHEwSwBLAYdxMVJxMihLA2ghTk5OSv////9K/////0sAdHEzYmgjiHViBQAAAFgQAAAAX3NrbGVhcm5fdmVyc2lvbnE0WAYAAAAwLjIwLjNxNXViLg=='\n",
    "cursor.execute('insert into scores_model(model_file, create_time) VALUES (\"{}\", \"{}\")'.format(s, 101))\n"
   ]
  },
  {
   "cell_type": "code",
   "execution_count": null,
   "metadata": {},
   "outputs": [],
   "source": [
    "cursor.close()\n",
    "conn.close()"
   ]
  },
  {
   "cell_type": "markdown",
   "metadata": {},
   "source": [
    "# 异步执行"
   ]
  },
  {
   "cell_type": "code",
   "execution_count": null,
   "metadata": {},
   "outputs": [],
   "source": [
    "# In Python 3.7 async became a keyword; you can use async_ instead:\n",
    "\n",
    "cursor.execute('SELECT * FROM my_awesome_data LIMIT 10', async_=True)"
   ]
  }
 ],
 "metadata": {
  "kernelspec": {
   "display_name": "Python 3",
   "language": "python",
   "name": "python3"
  },
  "language_info": {
   "codemirror_mode": {
    "name": "ipython",
    "version": 3
   },
   "file_extension": ".py",
   "mimetype": "text/x-python",
   "name": "python",
   "nbconvert_exporter": "python",
   "pygments_lexer": "ipython3",
   "version": "3.7.3"
  },
  "toc": {
   "base_numbering": 1,
   "nav_menu": {},
   "number_sections": true,
   "sideBar": true,
   "skip_h1_title": false,
   "title_cell": "Table of Contents",
   "title_sidebar": "Contents",
   "toc_cell": false,
   "toc_position": {},
   "toc_section_display": true,
   "toc_window_display": true
  }
 },
 "nbformat": 4,
 "nbformat_minor": 2
}
