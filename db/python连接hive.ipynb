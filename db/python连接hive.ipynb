{
 "cells": [
  {
   "cell_type": "code",
   "execution_count": 1,
   "metadata": {},
   "outputs": [
    {
     "name": "stdout",
     "output_type": "stream",
     "text": [
      "Collecting sasl\n",
      "  Downloading https://files.pythonhosted.org/packages/8e/2c/45dae93d666aea8492678499e0999269b4e55f1829b1e4de5b8204706ad9/sasl-0.2.1.tar.gz\n",
      "Requirement already satisfied: six in /Users/luoyonggui/anaconda3/lib/python3.7/site-packages (from sasl) (1.12.0)\n",
      "Building wheels for collected packages: sasl\n",
      "  Building wheel for sasl (setup.py) ... \u001b[?25ldone\n",
      "\u001b[?25h  Stored in directory: /Users/luoyonggui/Library/Caches/pip/wheels/56/20/21/ff481fd0f4ae09d5d94c76d089f550204580b1703e44f27dd5\n",
      "Successfully built sasl\n",
      "Installing collected packages: sasl\n",
      "Successfully installed sasl-0.2.1\n",
      "Requirement already satisfied: thrift in /Users/luoyonggui/anaconda3/lib/python3.7/site-packages (0.11.0)\n",
      "Requirement already satisfied: six>=1.7.2 in /Users/luoyonggui/anaconda3/lib/python3.7/site-packages (from thrift) (1.12.0)\n",
      "Collecting thrift-sasl\n",
      "  Downloading https://files.pythonhosted.org/packages/50/fe/89cbc910809e3757c762f56ee190ca39e0f28b7ea451835232c0c988d706/thrift_sasl-0.3.0.tar.gz\n",
      "Requirement already satisfied: thrift>=0.10.0 in /Users/luoyonggui/anaconda3/lib/python3.7/site-packages (from thrift-sasl) (0.11.0)\n",
      "Requirement already satisfied: sasl>=0.2.1 in /Users/luoyonggui/anaconda3/lib/python3.7/site-packages (from thrift-sasl) (0.2.1)\n",
      "Requirement already satisfied: six>=1.7.2 in /Users/luoyonggui/anaconda3/lib/python3.7/site-packages (from thrift>=0.10.0->thrift-sasl) (1.12.0)\n",
      "Building wheels for collected packages: thrift-sasl\n",
      "  Building wheel for thrift-sasl (setup.py) ... \u001b[?25ldone\n",
      "\u001b[?25h  Stored in directory: /Users/luoyonggui/Library/Caches/pip/wheels/c8/3a/34/1d82df3d652788fc211c245d51dde857a58e603695ea41d93d\n",
      "Successfully built thrift-sasl\n",
      "Installing collected packages: thrift-sasl\n",
      "Successfully installed thrift-sasl-0.3.0\n",
      "Collecting PyHive\n",
      "\u001b[?25l  Downloading https://files.pythonhosted.org/packages/4e/26/de91125c0d9e8947d48f387f4d1f2e7a22aa92a30771ad02f63a5653361b/PyHive-0.6.1.tar.gz (41kB)\n",
      "\u001b[K     |████████████████████████████████| 51kB 260kB/s eta 0:00:01\n",
      "\u001b[?25hRequirement already satisfied: future in /Users/luoyonggui/anaconda3/lib/python3.7/site-packages (from PyHive) (0.17.1)\n",
      "Requirement already satisfied: python-dateutil in /Users/luoyonggui/anaconda3/lib/python3.7/site-packages (from PyHive) (2.8.0)\n",
      "Requirement already satisfied: six>=1.5 in /Users/luoyonggui/anaconda3/lib/python3.7/site-packages (from python-dateutil->PyHive) (1.12.0)\n",
      "Building wheels for collected packages: PyHive\n",
      "  Building wheel for PyHive (setup.py) ... \u001b[?25ldone\n",
      "\u001b[?25h  Stored in directory: /Users/luoyonggui/Library/Caches/pip/wheels/00/61/fb/77a0e77deb4c900276f689e62628a5ca7ba9df600f9ad7ba6a\n",
      "Successfully built PyHive\n",
      "Installing collected packages: PyHive\n",
      "Successfully installed PyHive-0.6.1\n"
     ]
    }
   ],
   "source": [
    "!pip install sasl\n",
    "!pip install thrift\n",
    "!pip install thrift-sasl\n",
    "!pip install PyHive"
   ]
  },
  {
   "cell_type": "code",
   "execution_count": 1,
   "metadata": {},
   "outputs": [],
   "source": [
    "from pyhive import hive "
   ]
  },
  {
   "cell_type": "code",
   "execution_count": 2,
   "metadata": {},
   "outputs": [],
   "source": [
    "conn = hive.Connection(host='222.128.34.13', port=10000, database='default')\n",
    "\n",
    "cursor = conn.cursor()\n",
    "cursor.execute('show tables')"
   ]
  },
  {
   "cell_type": "code",
   "execution_count": 3,
   "metadata": {},
   "outputs": [
    {
     "data": {
      "text/plain": [
       "[('claim_data',),\n",
       " ('dictionary_data',),\n",
       " ('duty_info',),\n",
       " ('event_data',),\n",
       " ('icd10_data',),\n",
       " ('invoice_data',),\n",
       " ('item_data',),\n",
       " ('person_info',),\n",
       " ('policy_info',),\n",
       " ('policy_insurance_info',),\n",
       " ('policy_product_info',),\n",
       " ('risk_claim_event_tree',),\n",
       " ('scores_model',)]"
      ]
     },
     "execution_count": 3,
     "metadata": {},
     "output_type": "execute_result"
    }
   ],
   "source": [
    "cursor.fetchall()"
   ]
  },
  {
   "cell_type": "code",
   "execution_count": 11,
   "metadata": {},
   "outputs": [
    {
     "data": {
      "text/plain": [
       "[('aa', '2019-01-01'),\n",
       " ('bb', '2018-01-01'),\n",
       " ('aa', '2018-01-01'),\n",
       " ('aa', '2018-01-01'),\n",
       " ('aa1', '2018-01-01'),\n",
       " ('s', '2018-01-01'),\n",
       " ('gANjc2tsZWFybi5saW5lYXJfbW9kZWwubG9naXN0aWMKTG9naXN0aWNSZWdyZXNzaW9uCnEAKYFxAX1xAihYBwAAAHBlbmFsdHlxA1gCAAAAbDJxBFgEAAAAZHVhbHEFiVgDAAAAdG9scQZHPxo24uscQy1YAQAAAENxB0c/8AAAAAAAAFgNAAAAZml0X2ludGVyY2VwdHEIiFgRAAAAaW50ZXJjZXB0X3NjYWxpbmdxCUsBWAwAAABjbGFzc193ZWlnaHRxCk5YDAAAAHJhbmRvbV9zdGF0ZXELTlgGAAAAc29sdmVycQxYBAAAAHdhcm5xDVgIAAAAbWF4X2l0ZXJxDktkWAsAAABtdWx0aV9jbGFzc3EPaA1YBwAAAHZlcmJvc2VxEEsAWAoAAAB3YXJtX3N0YXJ0cRGJWAYAAABuX2pvYnNxEk5YCAAAAGNsYXNzZXNfcRNjc2tsZWFybi5leHRlcm5hbHMuam9ibGliLm51bXB5X3BpY2tsZQpOdW1weUFycmF5V3JhcHBlcgpxFCmBcRV9cRYoWAgAAABzdWJjbGFzc3EXY251bXB5Cm5kYXJyYXkKcRhYBQAAAHNoYXBlcRlLAoVxGlgFAAAAb3JkZXJxG2gHWAUAAABkdHlwZXEcY251bXB5CmR0eXBlCnEdWAIAAABmOHEeSwBLAYdxH1JxIChLA1gBAAAAPHEhTk5OSv////9K/////0sAdHEiYlgKAAAAYWxsb3dfbW1hcHEjiHViAAAAAAAAAAAAAAAAAADwP1gFAAAAY29lZl9xJGgUKYFxJX1xJihoF2gYaBlLAUsohnEnaBtoB2gcaCBoI4h1Yv2a/XwLA+s/F7lWuuWE+j9EuFa65YT6P0QplgRefao/jovR2Ca/rz8FpUJ81z6wP2axQnzXPrA/C7lCfNc+sD98pkJ81z6wPxKuQnzXPrA/5Z5CfNc+sD82E/RDALSqP0EjI4foiqo/G714Yu2T9z86uVa65YT6PzC5VrrlhPo/TLdCfNc+sD8s1kJ81z6wP0O1QnzXPrA/GDksOuti8z/z7TiqwD8BQEQs6x4hesU/hSPrHiF6xT8Drb45isXlPzY6WKawY/I/JXOC8zRu8z9clKqW/J3tP01z3XIy0+Y/rZFBI3XG5D9NuEJ81z6wPyaF7Pq7Kek/tLhCfNc+sD/frEJ81z6wP3ezQnzXPrA/pqtCfNc+sD9LtkJ81z6wP5d4QQndack/TGpPlzYnqz9HykJ81z6wPy5PeGUrKOg/WAoAAABpbnRlcmNlcHRfcShoFCmBcSl9cSooaBdoGGgZSwGFcStoG2gHaBxoIGgjiHViGS3LxAhwtz9YBwAAAG5faXRlcl9xLGgUKYFxLX1xLihoF2gYaBlLAYVxL2gbaAdoHGgdWAIAAABpNHEwSwBLAYdxMVJxMihLA2ghTk5OSv////9K/////0sAdHEzYmgjiHViBwAAAFgQAAAAX3NrbGVhcm5fdmVyc2lvbnE0WAYAAAAwLjIwLjNxNXViLg==',\n",
       "  '2018-01-01')]"
      ]
     },
     "execution_count": 11,
     "metadata": {},
     "output_type": "execute_result"
    }
   ],
   "source": [
    "cursor.execute('select * from scores_model')\n",
    "\n",
    "cursor.fetchall()"
   ]
  },
  {
   "cell_type": "code",
   "execution_count": 38,
   "metadata": {},
   "outputs": [
    {
     "data": {
      "text/plain": [
       "[('model_file', 'string', ''), ('create_time', 'string', '')]"
      ]
     },
     "execution_count": 38,
     "metadata": {},
     "output_type": "execute_result"
    }
   ],
   "source": [
    "cursor.execute('desc scores_model')\n",
    "\n",
    "cursor.fetchall()"
   ]
  },
  {
   "cell_type": "code",
   "execution_count": 26,
   "metadata": {},
   "outputs": [],
   "source": [
    "cursor.execute('alter table scores_model change column create_time create_time string')\n",
    "\n",
    "# cursor.fetchall()"
   ]
  },
  {
   "cell_type": "code",
   "execution_count": 35,
   "metadata": {},
   "outputs": [
    {
     "data": {
      "text/plain": [
       "'insert into scores_model(model_file, create_time) VALUES (\"aa\", \"2018-01-01\")'"
      ]
     },
     "execution_count": 35,
     "metadata": {},
     "output_type": "execute_result"
    }
   ],
   "source": [
    "'insert into scores_model(model_file, create_time) VALUES (\"{}\", \"{}\")'.format('aa', '2018-01-01')"
   ]
  },
  {
   "cell_type": "code",
   "execution_count": 10,
   "metadata": {},
   "outputs": [],
   "source": [
    "s = 'gANjc2tsZWFybi5saW5lYXJfbW9kZWwubG9naXN0aWMKTG9naXN0aWNSZWdyZXNzaW9uCnEAKYFxAX1xAihYBwAAAHBlbmFsdHlxA1gCAAAAbDJxBFgEAAAAZHVhbHEFiVgDAAAAdG9scQZHPxo24uscQy1YAQAAAENxB0c/8AAAAAAAAFgNAAAAZml0X2ludGVyY2VwdHEIiFgRAAAAaW50ZXJjZXB0X3NjYWxpbmdxCUsBWAwAAABjbGFzc193ZWlnaHRxCk5YDAAAAHJhbmRvbV9zdGF0ZXELTlgGAAAAc29sdmVycQxYBAAAAHdhcm5xDVgIAAAAbWF4X2l0ZXJxDktkWAsAAABtdWx0aV9jbGFzc3EPaA1YBwAAAHZlcmJvc2VxEEsAWAoAAAB3YXJtX3N0YXJ0cRGJWAYAAABuX2pvYnNxEk5YCAAAAGNsYXNzZXNfcRNjc2tsZWFybi5leHRlcm5hbHMuam9ibGliLm51bXB5X3BpY2tsZQpOdW1weUFycmF5V3JhcHBlcgpxFCmBcRV9cRYoWAgAAABzdWJjbGFzc3EXY251bXB5Cm5kYXJyYXkKcRhYBQAAAHNoYXBlcRlLAoVxGlgFAAAAb3JkZXJxG2gHWAUAAABkdHlwZXEcY251bXB5CmR0eXBlCnEdWAIAAABmOHEeSwBLAYdxH1JxIChLA1gBAAAAPHEhTk5OSv////9K/////0sAdHEiYlgKAAAAYWxsb3dfbW1hcHEjiHViAAAAAAAAAAAAAAAAAADwP1gFAAAAY29lZl9xJGgUKYFxJX1xJihoF2gYaBlLAUsohnEnaBtoB2gcaCBoI4h1Yv2a/XwLA+s/F7lWuuWE+j9EuFa65YT6P0QplgRefao/jovR2Ca/rz8FpUJ81z6wP2axQnzXPrA/C7lCfNc+sD98pkJ81z6wPxKuQnzXPrA/5Z5CfNc+sD82E/RDALSqP0EjI4foiqo/G714Yu2T9z86uVa65YT6PzC5VrrlhPo/TLdCfNc+sD8s1kJ81z6wP0O1QnzXPrA/GDksOuti8z/z7TiqwD8BQEQs6x4hesU/hSPrHiF6xT8Drb45isXlPzY6WKawY/I/JXOC8zRu8z9clKqW/J3tP01z3XIy0+Y/rZFBI3XG5D9NuEJ81z6wPyaF7Pq7Kek/tLhCfNc+sD/frEJ81z6wP3ezQnzXPrA/pqtCfNc+sD9LtkJ81z6wP5d4QQndack/TGpPlzYnqz9HykJ81z6wPy5PeGUrKOg/WAoAAABpbnRlcmNlcHRfcShoFCmBcSl9cSooaBdoGGgZSwGFcStoG2gHaBxoIGgjiHViGS3LxAhwtz9YBwAAAG5faXRlcl9xLGgUKYFxLX1xLihoF2gYaBlLAYVxL2gbaAdoHGgdWAIAAABpNHEwSwBLAYdxMVJxMihLA2ghTk5OSv////9K/////0sAdHEzYmgjiHViBwAAAFgQAAAAX3NrbGVhcm5fdmVyc2lvbnE0WAYAAAAwLjIwLjNxNXViLg=='\n",
    "cursor.execute('insert into scores_model(model_file, create_time) VALUES (\"{}\", \"{}\")'.format(s, '2018-01-01'))\n",
    "\n",
    "# cursor.fetchall()"
   ]
  },
  {
   "cell_type": "code",
   "execution_count": null,
   "metadata": {},
   "outputs": [],
   "source": []
  }
 ],
 "metadata": {
  "kernelspec": {
   "display_name": "Python 3",
   "language": "python",
   "name": "python3"
  },
  "language_info": {
   "codemirror_mode": {
    "name": "ipython",
    "version": 3
   },
   "file_extension": ".py",
   "mimetype": "text/x-python",
   "name": "python",
   "nbconvert_exporter": "python",
   "pygments_lexer": "ipython3",
   "version": "3.7.3"
  },
  "toc": {
   "base_numbering": 1,
   "nav_menu": {},
   "number_sections": true,
   "sideBar": true,
   "skip_h1_title": false,
   "title_cell": "Table of Contents",
   "title_sidebar": "Contents",
   "toc_cell": false,
   "toc_position": {},
   "toc_section_display": true,
   "toc_window_display": false
  }
 },
 "nbformat": 4,
 "nbformat_minor": 2
}
