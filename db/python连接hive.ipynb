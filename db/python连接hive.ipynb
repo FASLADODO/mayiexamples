{
 "cells": [
  {
   "cell_type": "code",
   "execution_count": 1,
   "metadata": {},
   "outputs": [
    {
     "name": "stdout",
     "output_type": "stream",
     "text": [
      "absl-py==0.7.1\r\n",
      "aiohttp==3.5.4\r\n",
      "alabaster==0.7.12\r\n",
      "anaconda-client==1.7.2\r\n",
      "anaconda-navigator==1.9.7\r\n",
      "anaconda-project==0.8.2\r\n",
      "appnope==0.1.0\r\n",
      "appscript==1.0.1\r\n",
      "asn1crypto==0.24.0\r\n",
      "astor==0.7.1\r\n",
      "astroid==2.2.5\r\n",
      "astropy==3.1.2\r\n",
      "async-timeout==3.0.1\r\n",
      "atomicwrites==1.3.0\r\n",
      "attrs==19.1.0\r\n",
      "audioread==2.1.7\r\n",
      "Babel==2.6.0\r\n",
      "backcall==0.1.0\r\n",
      "backports.os==0.1.1\r\n",
      "backports.shutil-get-terminal-size==1.0.0\r\n",
      "beautifulsoup4==4.7.1\r\n",
      "bitarray==0.8.3\r\n",
      "bkcharts==0.2\r\n",
      "bleach==3.1.0\r\n",
      "bokeh==1.0.4\r\n",
      "boto==2.49.0\r\n",
      "boto3==1.9.137\r\n",
      "botocore==1.12.137\r\n",
      "Bottleneck==1.2.1\r\n",
      "brewer2mpl==1.4.1\r\n",
      "bs4==0.0.1\r\n",
      "category-encoders==2.0.0\r\n",
      "cattrs==0.9.0\r\n",
      "certifi==2019.6.16\r\n",
      "cffi==1.12.3\r\n",
      "chardet==3.0.4\r\n",
      "Click==7.0\r\n",
      "cloudpickle==1.2.1\r\n",
      "clyent==1.2.2\r\n",
      "colorama==0.4.1\r\n",
      "conda==4.6.14\r\n",
      "conda-build==3.17.8\r\n",
      "conda-verify==3.1.1\r\n",
      "contextlib2==0.5.5\r\n",
      "coreapi==2.3.3\r\n",
      "coreschema==0.0.4\r\n",
      "cryptography==2.7\r\n",
      "cycler==0.10.0\r\n",
      "Cython==0.29.6\r\n",
      "cytoolz==0.9.0.1\r\n",
      "dask==1.2.2\r\n",
      "decorator==4.4.0\r\n",
      "defusedxml==0.5.0\r\n",
      "Distance==0.1.3\r\n",
      "distributed==1.26.0\r\n",
      "Django==2.2\r\n",
      "django-rest-swagger==2.2.0\r\n",
      "djangorestframework==3.9.3\r\n",
      "docutils==0.14\r\n",
      "entrypoints==0.3\r\n",
      "et-xmlfile==1.0.1\r\n",
      "fastcache==1.0.2\r\n",
      "fastparquet==0.3.1\r\n",
      "feature-selector===N-A\r\n",
      "featuretools==0.9.1\r\n",
      "ffn==0.3.4\r\n",
      "filelock==3.0.10\r\n",
      "Flask==1.0.2\r\n",
      "future==0.17.1\r\n",
      "gast==0.2.2\r\n",
      "gensim==3.7.2\r\n",
      "gevent==1.4.0\r\n",
      "ggplot==0.11.5\r\n",
      "glob2==0.6\r\n",
      "gmpy2==2.0.8\r\n",
      "graphviz==0.10.1\r\n",
      "greenlet==0.4.15\r\n",
      "grpcio==1.20.0\r\n",
      "h5py==2.9.0\r\n",
      "heapdict==1.0.0\r\n",
      "html5lib==1.0.1\r\n",
      "ianspackage==0.1\r\n",
      "idna==2.8\r\n",
      "imageio==2.5.0\r\n",
      "imagesize==1.1.0\r\n",
      "imbalanced-learn==0.4.3\r\n",
      "importlib-metadata==0.0.0\r\n",
      "ipykernel==5.1.0\r\n",
      "ipython==7.4.0\r\n",
      "ipython-genutils==0.2.0\r\n",
      "ipywidgets==7.4.2\r\n",
      "isort==4.3.16\r\n",
      "itsdangerous==1.1.0\r\n",
      "itypes==1.1.0\r\n",
      "jdcal==1.4\r\n",
      "jedi==0.13.3\r\n",
      "jieba==0.39\r\n",
      "Jinja2==2.10\r\n",
      "jmespath==0.9.4\r\n",
      "joblib==0.13.2\r\n",
      "jsonschema==3.0.1\r\n",
      "jupyter==1.0.0\r\n",
      "jupyter-client==5.2.4\r\n",
      "jupyter-console==6.0.0\r\n",
      "jupyter-contrib-core==0.3.3\r\n",
      "jupyter-contrib-nbextensions==0.5.1\r\n",
      "jupyter-core==4.4.0\r\n",
      "jupyter-highlight-selected-word==0.2.0\r\n",
      "jupyter-latex-envs==1.4.6\r\n",
      "jupyter-nbextensions-configurator==0.4.1\r\n",
      "jupyterlab==0.35.4\r\n",
      "jupyterlab-server==0.2.0\r\n",
      "Keras==2.2.4\r\n",
      "Keras-Applications==1.0.7\r\n",
      "Keras-Preprocessing==1.0.9\r\n",
      "keyring==18.0.0\r\n",
      "kiwisolver==1.1.0\r\n",
      "lazy-object-proxy==1.3.1\r\n",
      "libarchive-c==2.8\r\n",
      "librosa==0.6.3\r\n",
      "lief==0.9.0\r\n",
      "lightgbm==2.2.3\r\n",
      "llvmlite==0.28.0\r\n",
      "locket==0.2.0\r\n",
      "lxml==4.3.2\r\n",
      "Markdown==3.1\r\n",
      "MarkupSafe==1.1.1\r\n",
      "matplotlib==3.0.3\r\n",
      "mccabe==0.6.1\r\n",
      "mistune==0.8.4\r\n",
      "mkl-fft==1.0.10\r\n",
      "mkl-random==1.0.2\r\n",
      "mock==2.0.0\r\n",
      "more-itertools==6.0.0\r\n",
      "mpmath==1.1.0\r\n",
      "msgpack==0.6.1\r\n",
      "multidict==4.5.2\r\n",
      "multipledispatch==0.6.0\r\n",
      "navigator-updater==0.2.1\r\n",
      "nbconvert==5.4.1\r\n",
      "nbformat==4.4.0\r\n",
      "networkx==2.3\r\n",
      "nltk==3.4\r\n",
      "nose==1.3.7\r\n",
      "notebook==5.7.8\r\n",
      "numba==0.43.1\r\n",
      "numexpr==2.6.9\r\n",
      "numpy==1.16.4\r\n",
      "numpydoc==0.8.0\r\n",
      "olefile==0.46\r\n",
      "openapi-codec==1.3.2\r\n",
      "opencv-python==4.1.0.25\r\n",
      "openpyxl==2.6.1\r\n",
      "packaging==19.0\r\n",
      "pandas==0.24.2\r\n",
      "pandas-datareader==0.7.0\r\n",
      "pandocfilters==1.4.2\r\n",
      "parso==0.3.4\r\n",
      "partd==0.3.10\r\n",
      "path.py==11.5.0\r\n",
      "pathlib2==2.3.3\r\n",
      "patsy==0.5.1\r\n",
      "pbr==5.1.3\r\n",
      "pep8==1.7.1\r\n",
      "pexpect==4.6.0\r\n",
      "pickleshare==0.7.5\r\n",
      "Pillow==6.0.0\r\n",
      "pkginfo==1.5.0.1\r\n",
      "plotly==3.9.0\r\n",
      "pluggy==0.9.0\r\n",
      "ply==3.11\r\n",
      "prettytable==0.7.2\r\n",
      "progressbar2==3.38.0\r\n",
      "prometheus-client==0.6.0\r\n",
      "prompt-toolkit==2.0.9\r\n",
      "protobuf==3.7.1\r\n",
      "psutil==5.6.1\r\n",
      "ptyprocess==0.6.0\r\n",
      "py==1.8.0\r\n",
      "py4j==0.10.7\r\n",
      "pycharts==0.1.5\r\n",
      "pycodestyle==2.5.0\r\n",
      "pycosat==0.6.3\r\n",
      "pycparser==2.19\r\n",
      "pycrypto==2.6.1\r\n",
      "pycurl==7.43.0.2\r\n",
      "pydot==1.4.1\r\n",
      "pyecharts==1.2.1\r\n",
      "pyflakes==2.1.1\r\n",
      "Pygments==2.3.1\r\n",
      "pygraphviz==1.5\r\n",
      "PyHive==0.6.1\r\n",
      "pylint==2.3.1\r\n",
      "pyminifier==2.1\r\n",
      "PyMySQL==0.9.3\r\n",
      "pynput==1.4.2\r\n",
      "pyobjc-core==5.2\r\n",
      "pyobjc-framework-Cocoa==5.2\r\n",
      "pyobjc-framework-Quartz==5.2\r\n",
      "pyod==0.6.9\r\n",
      "pyodbc==4.0.26\r\n",
      "pyOpenSSL==19.0.0\r\n",
      "pyparsing==2.4.0\r\n",
      "pypinyin==0.35.3\r\n",
      "pyrsistent==0.14.11\r\n",
      "PySocks==1.7.0\r\n",
      "pyspark==2.4.3\r\n",
      "pytest==4.3.1\r\n",
      "pytest-arraydiff==0.3\r\n",
      "pytest-astropy==0.5.0\r\n",
      "pytest-doctestplus==0.3.0\r\n",
      "pytest-openfiles==0.3.2\r\n",
      "pytest-remotedata==0.3.1\r\n",
      "python-dateutil==2.8.0\r\n",
      "python-snappy==0.5.4\r\n",
      "python-utils==2.3.0\r\n",
      "pytz==2018.9\r\n",
      "PyWavelets==1.0.3\r\n",
      "PyYAML==5.1\r\n",
      "pyzmq==18.0.0\r\n",
      "QtAwesome==0.5.7\r\n",
      "qtconsole==4.4.3\r\n",
      "QtPy==1.7.0\r\n",
      "requests==2.22.0\r\n",
      "resampy==0.2.1\r\n",
      "retrying==1.3.3\r\n",
      "rope==0.12.0\r\n",
      "ruamel-yaml==0.15.46\r\n",
      "s3transfer==0.2.0\r\n",
      "sasl==0.2.1\r\n",
      "scikit-image==0.14.2\r\n",
      "scikit-learn==0.20.3\r\n",
      "scikit-surprise==1.0.6\r\n",
      "scipy==1.1.0\r\n",
      "seaborn==0.9.0\r\n",
      "selenium==3.141.0\r\n",
      "Send2Trash==1.5.0\r\n",
      "shap==0.28.5\r\n",
      "simplegeneric==0.8.1\r\n",
      "simplejson==3.16.0\r\n",
      "singledispatch==3.4.0.3\r\n",
      "six==1.12.0\r\n",
      "smart-open==1.8.3\r\n",
      "snapshot-selenium==0.0.2\r\n",
      "snowballstemmer==1.2.1\r\n",
      "sortedcollections==1.1.2\r\n",
      "sortedcontainers==2.1.0\r\n",
      "soupsieve==1.8\r\n",
      "Sphinx==1.8.5\r\n",
      "sphinxcontrib-websupport==1.1.0\r\n",
      "spyder==3.3.3\r\n",
      "spyder-kernels==0.4.2\r\n",
      "SQLAlchemy==1.3.1\r\n",
      "sqlparse==0.3.0\r\n",
      "statsmodels==0.9.0\r\n",
      "sympy==1.3\r\n",
      "synonyms==3.10.2\r\n",
      "tables==3.5.1\r\n",
      "tabulate==0.8.3\r\n",
      "tblib==1.3.2\r\n",
      "tensorboard==1.13.1\r\n",
      "tensorflow==1.13.1\r\n",
      "tensorflow-estimator==1.13.0\r\n",
      "tensorlayer==1.11.1\r\n",
      "termcolor==1.1.0\r\n",
      "terminado==0.8.1\r\n",
      "testpath==0.4.2\r\n",
      "thrift==0.11.0\r\n",
      "thrift-sasl==0.3.0\r\n",
      "toolz==0.9.0\r\n",
      "tornado==6.0.2\r\n",
      "tqdm==4.31.1\r\n",
      "traitlets==4.3.2\r\n",
      "transitions==0.6.9\r\n",
      "tushare==1.2.34\r\n",
      "ujson==1.35\r\n",
      "unicodecsv==0.14.1\r\n",
      "uritemplate==3.0.0\r\n",
      "urllib3==1.24.3\r\n",
      "wcwidth==0.1.7\r\n",
      "webencodings==0.5.1\r\n",
      "Werkzeug==0.14.1\r\n",
      "widgetsnbextension==3.4.2\r\n",
      "wrapt==1.11.1\r\n",
      "wurlitzer==1.0.2\r\n",
      "xgboost==0.82\r\n",
      "xlrd==1.2.0\r\n",
      "XlsxWriter==1.1.5\r\n",
      "xlwings==0.15.4\r\n",
      "xlwt==1.3.0\r\n",
      "yarl==1.3.0\r\n",
      "zhconv==1.4.0\r\n",
      "zict==0.1.4\r\n",
      "zipp==0.3.3\r\n"
     ]
    }
   ],
   "source": [
    "!pip freeze"
   ]
  },
  {
   "cell_type": "code",
   "execution_count": 6,
   "metadata": {},
   "outputs": [
    {
     "name": "stdout",
     "output_type": "stream",
     "text": [
      "PyHive==0.6.1\r\n"
     ]
    }
   ],
   "source": [
    "# !pip install sasl\n",
    "# !pip install thrift\n",
    "# !pip install thrift-sasl\n",
    "# !pip install PyHive\n",
    "!pip freeze | grep PyHive"
   ]
  },
  {
   "cell_type": "code",
   "execution_count": 1,
   "metadata": {},
   "outputs": [],
   "source": [
    "from pyhive import hive "
   ]
  },
  {
   "cell_type": "markdown",
   "metadata": {},
   "source": [
    "# 查询hive中存在的databases"
   ]
  },
  {
   "cell_type": "code",
   "execution_count": 11,
   "metadata": {},
   "outputs": [
    {
     "name": "stdout",
     "output_type": "stream",
     "text": [
      "hive连接成功！\n"
     ]
    }
   ],
   "source": [
    "try:\n",
    "    conn = hive.Connection(host='10.0.107.4', port=10000, database='default', username='hive')\n",
    "    print('hive连接成功！')\n",
    "except Exception as e:\n",
    "#     raise Exception(\"hive连接异常！\")\n",
    "    print('hive连接失败！')"
   ]
  },
  {
   "cell_type": "code",
   "execution_count": 12,
   "metadata": {},
   "outputs": [],
   "source": [
    "cursor = conn.cursor()"
   ]
  },
  {
   "cell_type": "code",
   "execution_count": 13,
   "metadata": {},
   "outputs": [
    {
     "data": {
      "text/plain": [
       "[('default',), ('information_schema',), ('sys',)]"
      ]
     },
     "execution_count": 13,
     "metadata": {},
     "output_type": "execute_result"
    }
   ],
   "source": [
    "\n",
    "cursor.execute('show databases')\n",
    "\n",
    "cursor.fetchall()"
   ]
  },
  {
   "cell_type": "markdown",
   "metadata": {},
   "source": [
    "# 查询hive存在的tables"
   ]
  },
  {
   "cell_type": "code",
   "execution_count": 14,
   "metadata": {},
   "outputs": [
    {
     "data": {
      "text/plain": [
       "[]"
      ]
     },
     "execution_count": 14,
     "metadata": {},
     "output_type": "execute_result"
    }
   ],
   "source": [
    "cursor.execute('show tables')\n",
    "\n",
    "cursor.fetchall()"
   ]
  },
  {
   "cell_type": "code",
   "execution_count": 8,
   "metadata": {},
   "outputs": [
    {
     "data": {
      "text/plain": [
       "[('bucketing_cols',),\n",
       " ('cds',),\n",
       " ('columns_v2',),\n",
       " ('database_params',),\n",
       " ('db_privs',),\n",
       " ('db_version',),\n",
       " ('dbs',),\n",
       " ('funcs',),\n",
       " ('global_privs',),\n",
       " ('key_constraints',),\n",
       " ('mv_creation_metadata',),\n",
       " ('mv_tables_used',),\n",
       " ('part_col_privs',),\n",
       " ('part_col_stats',),\n",
       " ('part_privs',),\n",
       " ('partition_key_vals',),\n",
       " ('partition_keys',),\n",
       " ('partition_params',),\n",
       " ('partitions',),\n",
       " ('role_map',),\n",
       " ('roles',),\n",
       " ('sd_params',),\n",
       " ('sds',),\n",
       " ('sequence_table',),\n",
       " ('serde_params',),\n",
       " ('serdes',),\n",
       " ('skewed_col_names',),\n",
       " ('skewed_col_value_loc_map',),\n",
       " ('skewed_string_list',),\n",
       " ('skewed_string_list_values',),\n",
       " ('skewed_values',),\n",
       " ('sort_cols',),\n",
       " ('tab_col_stats',),\n",
       " ('table_params',),\n",
       " ('tbl_col_privs',),\n",
       " ('tbl_privs',),\n",
       " ('tbls',),\n",
       " ('wm_mappings',),\n",
       " ('wm_pools',),\n",
       " ('wm_pools_to_triggers',),\n",
       " ('wm_resourceplans',),\n",
       " ('wm_triggers',)]"
      ]
     },
     "execution_count": 8,
     "metadata": {},
     "output_type": "execute_result"
    }
   ],
   "source": [
    "# cursor.execute('use sys')\n",
    "# cursor.execute('show tables')\n",
    "# cursor.fetchall()"
   ]
  },
  {
   "cell_type": "markdown",
   "metadata": {},
   "source": [
    "# create table"
   ]
  },
  {
   "cell_type": "code",
   "execution_count": 15,
   "metadata": {},
   "outputs": [],
   "source": [
    "cursor.execute('create table if not exists scores_model(model_file string,create_time int)')"
   ]
  },
  {
   "cell_type": "code",
   "execution_count": 24,
   "metadata": {},
   "outputs": [],
   "source": [
    "# cursor.execute('drop table scores_model')"
   ]
  },
  {
   "cell_type": "code",
   "execution_count": 16,
   "metadata": {},
   "outputs": [
    {
     "data": {
      "text/plain": [
       "[]"
      ]
     },
     "execution_count": 16,
     "metadata": {},
     "output_type": "execute_result"
    }
   ],
   "source": [
    "cursor.execute('select * from scores_model')\n",
    "\n",
    "cursor.fetchall()"
   ]
  },
  {
   "cell_type": "code",
   "execution_count": 17,
   "metadata": {},
   "outputs": [
    {
     "data": {
      "text/plain": [
       "[('model_file', 'string', ''), ('create_time', 'int', '')]"
      ]
     },
     "execution_count": 17,
     "metadata": {},
     "output_type": "execute_result"
    }
   ],
   "source": [
    "cursor.execute('desc scores_model')\n",
    "\n",
    "cursor.fetchall()"
   ]
  },
  {
   "cell_type": "markdown",
   "metadata": {},
   "source": [
    "# 修改table字段类型"
   ]
  },
  {
   "cell_type": "code",
   "execution_count": 18,
   "metadata": {},
   "outputs": [],
   "source": [
    "# cursor.execute('alter table scores_model change column create_time create_time string')"
   ]
  },
  {
   "cell_type": "code",
   "execution_count": 23,
   "metadata": {},
   "outputs": [
    {
     "data": {
      "text/plain": [
       "'insert into scores_model(model_file, create_time) VALUES (\"aa\", \"2018-01-01\")'"
      ]
     },
     "execution_count": 23,
     "metadata": {},
     "output_type": "execute_result"
    }
   ],
   "source": [
    "'insert into scores_model(model_file, create_time) VALUES (\"{}\", \"{}\")'.format('aa', '2018-01-01')"
   ]
  },
  {
   "cell_type": "code",
   "execution_count": null,
   "metadata": {},
   "outputs": [],
   "source": [
    "s = 'gANjc2tsZWFybi5saW5lYXJfbW9kZWwubG9naXN0aWMKTG9naXN0aWNSZWdyZXNzaW9uCnEAKYFxAX1xAihYBwAAAHBlbmFsdHlxA1gCAAAAbDJxBFgEAAAAZHVhbHEFiVgDAAAAdG9scQZHPxo24uscQy1YAQAAAENxB0c/8AAAAAAAAFgNAAAAZml0X2ludGVyY2VwdHEIiFgRAAAAaW50ZXJjZXB0X3NjYWxpbmdxCUsBWAwAAABjbGFzc193ZWlnaHRxCk5YDAAAAHJhbmRvbV9zdGF0ZXELTlgGAAAAc29sdmVycQxYBAAAAHdhcm5xDVgIAAAAbWF4X2l0ZXJxDktkWAsAAABtdWx0aV9jbGFzc3EPaA1YBwAAAHZlcmJvc2VxEEsAWAoAAAB3YXJtX3N0YXJ0cRGJWAYAAABuX2pvYnNxEk5YCAAAAGNsYXNzZXNfcRNjc2tsZWFybi5leHRlcm5hbHMuam9ibGliLm51bXB5X3BpY2tsZQpOdW1weUFycmF5V3JhcHBlcgpxFCmBcRV9cRYoWAgAAABzdWJjbGFzc3EXY251bXB5Cm5kYXJyYXkKcRhYBQAAAHNoYXBlcRlLAoVxGlgFAAAAb3JkZXJxG2gHWAUAAABkdHlwZXEcY251bXB5CmR0eXBlCnEdWAIAAABmOHEeSwBLAYdxH1JxIChLA1gBAAAAPHEhTk5OSv////9K/////0sAdHEiYlgKAAAAYWxsb3dfbW1hcHEjiHViAAAAAAAAAAAAAAAAAADwP1gFAAAAY29lZl9xJGgUKYFxJX1xJihoF2gYaBlLAUsrhnEnaBtoB2gcaCBoI4h1YimeboPVPuo/CtJSUare+j9X01JRqt76P4mD/SL2T4m/x7d+GcvCgT+mQCHyZVaHPzg2IfJlVoc/r7kh8mVWhz+v0SHyZVaHPz3BIfJlVoc/74sh8mVWhz+HViLyZVaHP1e3oB9RzIe/YPSBVhQNib8vpk4sSsn3P8nSUlGq3vo/ktNSUare+j+tdyHyZVaHP3EOIfJlVoc/aJsh8mVWhz/PJ8+oi2/zPyIgv8cnbgFA9kU8jd/AvT+rMzyN38C9P4JV9iNTguQ/XEilMxpZ8j+xf4gtNXLzP+vyfhUgFe0/NkxwOXCq5T9VUMWtL0/jPwqfIPJlVoc/SCx/ppE16D8zNyHyZVaHP087IfJlVoc/Z4Ah8mVWhz90biHyZVaHP3eqIPJlVoc/Y3Ifv6q3wj/iHgSEiOODvwKVIPJlVoc/8WcwB69f3D96bDAHr1/cP8ZpMAevX9w/WAoAAABpbnRlcmNlcHRfcShoFCmBcSl9cSooaBdoGGgZSwGFcStoG2gHaBxoIGgjiHVivBkZqJpJzD9YBwAAAG5faXRlcl9xLGgUKYFxLX1xLihoF2gYaBlLAYVxL2gbaAdoHGgdWAIAAABpNHEwSwBLAYdxMVJxMihLA2ghTk5OSv////9K/////0sAdHEzYmgjiHViBQAAAFgQAAAAX3NrbGVhcm5fdmVyc2lvbnE0WAYAAAAwLjIwLjNxNXViLg=='\n",
    "cursor.execute('insert into scores_model(model_file, create_time) VALUES (\"{}\", \"{}\")'.format(s, 101))\n"
   ]
  },
  {
   "cell_type": "code",
   "execution_count": null,
   "metadata": {},
   "outputs": [],
   "source": []
  }
 ],
 "metadata": {
  "kernelspec": {
   "display_name": "Python 3",
   "language": "python",
   "name": "python3"
  },
  "language_info": {
   "codemirror_mode": {
    "name": "ipython",
    "version": 3
   },
   "file_extension": ".py",
   "mimetype": "text/x-python",
   "name": "python",
   "nbconvert_exporter": "python",
   "pygments_lexer": "ipython3",
   "version": "3.7.3"
  },
  "toc": {
   "base_numbering": 1,
   "nav_menu": {},
   "number_sections": true,
   "sideBar": true,
   "skip_h1_title": false,
   "title_cell": "Table of Contents",
   "title_sidebar": "Contents",
   "toc_cell": false,
   "toc_position": {},
   "toc_section_display": true,
   "toc_window_display": true
  }
 },
 "nbformat": 4,
 "nbformat_minor": 2
}
