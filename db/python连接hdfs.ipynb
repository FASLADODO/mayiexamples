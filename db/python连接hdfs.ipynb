{
 "cells": [
  {
   "cell_type": "markdown",
   "metadata": {},
   "source": [
    "python中有3个包可以做这个事情  \n",
    "* hdfs\n",
    "* hdfs3\n",
    "* pyhdfs"
   ]
  },
  {
   "cell_type": "markdown",
   "metadata": {},
   "source": [
    "公司hdfs环境 http://10.23.50.178:50070， 需要连Uclound vpn"
   ]
  },
  {
   "cell_type": "markdown",
   "metadata": {},
   "source": [
    "# hdfs\n",
    "https://hdfscli.readthedocs.io/en/latest/  \n",
    "https://hdfscli.readthedocs.io/en/latest/quickstart.html#python-bindings\n"
   ]
  },
  {
   "cell_type": "code",
   "execution_count": 9,
   "metadata": {},
   "outputs": [
    {
     "name": "stdout",
     "output_type": "stream",
     "text": [
      "hdfs==2.5.8\r\n",
      "hdfs3==0.3.1\r\n"
     ]
    }
   ],
   "source": [
    "#!pip install hdfs\n",
    "!pip freeze | grep hdfs"
   ]
  },
  {
   "cell_type": "markdown",
   "metadata": {},
   "source": [
    "## Instantiating a client"
   ]
  },
  {
   "cell_type": "code",
   "execution_count": 1,
   "metadata": {},
   "outputs": [],
   "source": [
    "from hdfs import InsecureClient\n",
    "# 50070: NameNode web管理端口\n",
    "client = InsecureClient('http://10.23.50.178:50070', user='hdfs')\n",
    "# from hdfs.client import Client\n",
    "# client = Client(\"http://10.23.50.178:50070\")  "
   ]
  },
  {
   "cell_type": "markdown",
   "metadata": {},
   "source": [
    "## Exploring the file system"
   ]
  },
  {
   "cell_type": "code",
   "execution_count": 4,
   "metadata": {},
   "outputs": [
    {
     "data": {
      "text/plain": [
       "{'directoryCount': 49,\n",
       " 'fileCount': 35,\n",
       " 'length': 80829331,\n",
       " 'quota': -1,\n",
       " 'spaceConsumed': 215585123,\n",
       " 'spaceQuota': -1,\n",
       " 'typeQuota': {}}"
      ]
     },
     "execution_count": 4,
     "metadata": {},
     "output_type": "execute_result"
    }
   ],
   "source": [
    "# Retrieving a file or folder content summary.\n",
    "content = client.content('/tmp')  # 如果是相对路径，会被默认到/user/hdfs/+相对路径\n",
    "content"
   ]
  },
  {
   "cell_type": "code",
   "execution_count": 5,
   "metadata": {},
   "outputs": [
    {
     "data": {
      "text/plain": [
       "['druid-indexing', 'entity-file-history', 'hive']"
      ]
     },
     "execution_count": 5,
     "metadata": {},
     "output_type": "execute_result"
    }
   ],
   "source": [
    "# Listing all files inside a directory.\n",
    "client.list(\"/tmp\")"
   ]
  },
  {
   "cell_type": "code",
   "execution_count": 6,
   "metadata": {},
   "outputs": [
    {
     "data": {
      "text/plain": [
       "{'accessTime': 1566203383342,\n",
       " 'blockSize': 134217728,\n",
       " 'childrenNum': 0,\n",
       " 'fileId': 4694548,\n",
       " 'group': 'hdfs',\n",
       " 'length': 11,\n",
       " 'modificationTime': 1566203383359,\n",
       " 'owner': 'hdfs',\n",
       " 'pathSuffix': '',\n",
       " 'permission': '644',\n",
       " 'replication': 1,\n",
       " 'storagePolicy': 0,\n",
       " 'type': 'FILE'}"
      ]
     },
     "execution_count": 6,
     "metadata": {},
     "output_type": "execute_result"
    }
   ],
   "source": [
    "client.status('/py.txt')"
   ]
  },
  {
   "cell_type": "code",
   "execution_count": 7,
   "metadata": {},
   "outputs": [],
   "source": [
    "# Renaming (\"moving\") a file.\n",
    "client.rename('/py.txt', '/tmp/pyt.txt')"
   ]
  },
  {
   "cell_type": "code",
   "execution_count": 8,
   "metadata": {},
   "outputs": [
    {
     "data": {
      "text/plain": [
       "True"
      ]
     },
     "execution_count": 8,
     "metadata": {},
     "output_type": "execute_result"
    }
   ],
   "source": [
    "# Deleting a file or folder.\n",
    "client.delete('/tmp/pyt.txt', recursive=True)"
   ]
  },
  {
   "cell_type": "code",
   "execution_count": 9,
   "metadata": {},
   "outputs": [
    {
     "data": {
      "text/plain": [
       "'/Users/luoyonggui/PycharmProjects/mayiexamples/db/aml'"
      ]
     },
     "execution_count": 9,
     "metadata": {},
     "output_type": "execute_result"
    }
   ],
   "source": [
    "# Download a file or folder locally.\n",
    "client.download('/aml', 'aml', n_threads=4)"
   ]
  },
  {
   "cell_type": "markdown",
   "metadata": {},
   "source": [
    "## Reading files"
   ]
  },
  {
   "cell_type": "code",
   "execution_count": 3,
   "metadata": {},
   "outputs": [
    {
     "name": "stdout",
     "output_type": "stream",
     "text": [
      "b'hello world'\n"
     ]
    }
   ],
   "source": [
    "# Loading a file in memory.\n",
    "with client.read('features') as reader:\n",
    "  features = reader.read()\n",
    "\n",
    "# Directly deserializing a JSON object.\n",
    "with client.read('model.json', encoding='utf-8') as reader:\n",
    "  from json import load\n",
    "  model = load(reader)"
   ]
  },
  {
   "cell_type": "markdown",
   "metadata": {},
   "source": [
    "If a chunk_size argument is passed, the method will return a generator instead, making it sometimes simpler to stream the file’s contents."
   ]
  },
  {
   "cell_type": "code",
   "execution_count": null,
   "metadata": {},
   "outputs": [],
   "source": [
    "# Stream a file.\n",
    "with client.read('features', chunk_size=8096) as reader:\n",
    "  for chunk in reader:\n",
    "    pass"
   ]
  },
  {
   "cell_type": "markdown",
   "metadata": {},
   "source": [
    "Similarly, if a delimiter argument is passed, the method will return a generator of the delimited chunks."
   ]
  },
  {
   "cell_type": "code",
   "execution_count": null,
   "metadata": {},
   "outputs": [],
   "source": [
    "with client.read('samples.csv', encoding='utf-8', delimiter='\\n') as reader:\n",
    "  for line in reader:\n",
    "    pass"
   ]
  },
  {
   "cell_type": "markdown",
   "metadata": {},
   "source": [
    "### 读取parquet文件，存入本地"
   ]
  },
  {
   "cell_type": "code",
   "execution_count": 4,
   "metadata": {},
   "outputs": [],
   "source": [
    "with client.read(\"/aml/b.parquet\") as reader: \n",
    "    data = reader.read()\n",
    "    with open('bb.parquet', mode='wb') as f:\n",
    "        f.write(data)\n",
    "#     ParquetFile()\n",
    "#     df = pd.read_parquet(reader.read())"
   ]
  },
  {
   "cell_type": "code",
   "execution_count": 5,
   "metadata": {},
   "outputs": [],
   "source": [
    "df = pd.read_parquet('bb.parquet')"
   ]
  },
  {
   "cell_type": "code",
   "execution_count": 3,
   "metadata": {},
   "outputs": [],
   "source": [
    "import pandas as pd"
   ]
  },
  {
   "cell_type": "code",
   "execution_count": 6,
   "metadata": {
    "scrolled": true
   },
   "outputs": [
    {
     "data": {
      "text/html": [
       "<div>\n",
       "<style scoped>\n",
       "    .dataframe tbody tr th:only-of-type {\n",
       "        vertical-align: middle;\n",
       "    }\n",
       "\n",
       "    .dataframe tbody tr th {\n",
       "        vertical-align: top;\n",
       "    }\n",
       "\n",
       "    .dataframe thead th {\n",
       "        text-align: right;\n",
       "    }\n",
       "</style>\n",
       "<table border=\"1\" class=\"dataframe\">\n",
       "  <thead>\n",
       "    <tr style=\"text-align: right;\">\n",
       "      <th></th>\n",
       "      <th>feeDetailNo</th>\n",
       "      <th>recipeDate</th>\n",
       "      <th>applyPayLevel</th>\n",
       "      <th>chargeType</th>\n",
       "      <th>doseForm</th>\n",
       "      <th>medicalSpecification</th>\n",
       "      <th>insuranceType</th>\n",
       "      <th>projectType</th>\n",
       "      <th>registerNo</th>\n",
       "      <th>hospNo</th>\n",
       "      <th>...</th>\n",
       "      <th>cd_overallPay</th>\n",
       "      <th>rs_overallPay</th>\n",
       "      <th>accountPay</th>\n",
       "      <th>rescuePay</th>\n",
       "      <th>amount</th>\n",
       "      <th>selfAmount</th>\n",
       "      <th>quantity</th>\n",
       "      <th>money</th>\n",
       "      <th>applyAmount</th>\n",
       "      <th>cdpAmount</th>\n",
       "    </tr>\n",
       "  </thead>\n",
       "  <tbody>\n",
       "    <tr>\n",
       "      <th>0</th>\n",
       "      <td>18eb4cdea7d393a2</td>\n",
       "      <td>2017-05-11 00:00:00</td>\n",
       "      <td>甲</td>\n",
       "      <td>治疗费</td>\n",
       "      <td>无</td>\n",
       "      <td>0</td>\n",
       "      <td>N</td>\n",
       "      <td>诊疗费</td>\n",
       "      <td>000b7c75ef6ca29d</td>\n",
       "      <td>330599100005</td>\n",
       "      <td>...</td>\n",
       "      <td>0.0</td>\n",
       "      <td>23.10</td>\n",
       "      <td>0.0</td>\n",
       "      <td>0.0</td>\n",
       "      <td>0.0</td>\n",
       "      <td>0.00</td>\n",
       "      <td>4.0</td>\n",
       "      <td>68.00</td>\n",
       "      <td>68.0</td>\n",
       "      <td>0.0</td>\n",
       "    </tr>\n",
       "    <tr>\n",
       "      <th>1</th>\n",
       "      <td>f54b5e83c95f4099</td>\n",
       "      <td>2017-05-11 00:00:00</td>\n",
       "      <td>乙</td>\n",
       "      <td>西药费</td>\n",
       "      <td>片  剂</td>\n",
       "      <td>0.1g*24片</td>\n",
       "      <td>N</td>\n",
       "      <td>药品费</td>\n",
       "      <td>000b7c75ef6ca29d</td>\n",
       "      <td>330599100005</td>\n",
       "      <td>...</td>\n",
       "      <td>0.0</td>\n",
       "      <td>23.10</td>\n",
       "      <td>0.0</td>\n",
       "      <td>0.0</td>\n",
       "      <td>0.0</td>\n",
       "      <td>3.22</td>\n",
       "      <td>2.0</td>\n",
       "      <td>61.22</td>\n",
       "      <td>58.0</td>\n",
       "      <td>0.0</td>\n",
       "    </tr>\n",
       "    <tr>\n",
       "      <th>2</th>\n",
       "      <td>e8cad9b577685f66</td>\n",
       "      <td>2017-05-11 00:00:00</td>\n",
       "      <td>乙</td>\n",
       "      <td>西药费</td>\n",
       "      <td>片  剂</td>\n",
       "      <td>10mg*7片</td>\n",
       "      <td>N</td>\n",
       "      <td>药品费</td>\n",
       "      <td>000b7c75ef6ca29d</td>\n",
       "      <td>330599100005</td>\n",
       "      <td>...</td>\n",
       "      <td>0.0</td>\n",
       "      <td>23.10</td>\n",
       "      <td>0.0</td>\n",
       "      <td>0.0</td>\n",
       "      <td>0.0</td>\n",
       "      <td>5.12</td>\n",
       "      <td>4.0</td>\n",
       "      <td>95.12</td>\n",
       "      <td>90.0</td>\n",
       "      <td>0.0</td>\n",
       "    </tr>\n",
       "    <tr>\n",
       "      <th>3</th>\n",
       "      <td>b6f5d28eff70359e</td>\n",
       "      <td>2017-05-11 00:00:00</td>\n",
       "      <td>乙</td>\n",
       "      <td>西药费</td>\n",
       "      <td>其它</td>\n",
       "      <td>0.15g/15g*1支</td>\n",
       "      <td>N</td>\n",
       "      <td>药品费</td>\n",
       "      <td>000b7c75ef6ca29d</td>\n",
       "      <td>330599100005</td>\n",
       "      <td>...</td>\n",
       "      <td>0.0</td>\n",
       "      <td>23.10</td>\n",
       "      <td>0.0</td>\n",
       "      <td>0.0</td>\n",
       "      <td>0.0</td>\n",
       "      <td>1.00</td>\n",
       "      <td>2.0</td>\n",
       "      <td>20.00</td>\n",
       "      <td>19.0</td>\n",
       "      <td>0.0</td>\n",
       "    </tr>\n",
       "    <tr>\n",
       "      <th>4</th>\n",
       "      <td>57b9100b2a2408eb</td>\n",
       "      <td>2017-03-06 00:00:00</td>\n",
       "      <td>乙</td>\n",
       "      <td>中成药费</td>\n",
       "      <td>无</td>\n",
       "      <td>0.3g*16s</td>\n",
       "      <td>N</td>\n",
       "      <td>药品费</td>\n",
       "      <td>0010b8084da5faf7</td>\n",
       "      <td>330523100001</td>\n",
       "      <td>...</td>\n",
       "      <td>0.0</td>\n",
       "      <td>70.95</td>\n",
       "      <td>0.0</td>\n",
       "      <td>0.0</td>\n",
       "      <td>0.0</td>\n",
       "      <td>7.36</td>\n",
       "      <td>4.0</td>\n",
       "      <td>149.36</td>\n",
       "      <td>142.0</td>\n",
       "      <td>0.0</td>\n",
       "    </tr>\n",
       "  </tbody>\n",
       "</table>\n",
       "<p>5 rows × 81 columns</p>\n",
       "</div>"
      ],
      "text/plain": [
       "        feeDetailNo           recipeDate applyPayLevel chargeType doseForm  \\\n",
       "0  18eb4cdea7d393a2  2017-05-11 00:00:00             甲        治疗费        无   \n",
       "1  f54b5e83c95f4099  2017-05-11 00:00:00             乙        西药费     片  剂   \n",
       "2  e8cad9b577685f66  2017-05-11 00:00:00             乙        西药费     片  剂   \n",
       "3  b6f5d28eff70359e  2017-05-11 00:00:00             乙        西药费       其它   \n",
       "4  57b9100b2a2408eb  2017-03-06 00:00:00             乙       中成药费        无   \n",
       "\n",
       "  medicalSpecification insuranceType projectType        registerNo  \\\n",
       "0                    0             N         诊疗费  000b7c75ef6ca29d   \n",
       "1             0.1g*24片             N         药品费  000b7c75ef6ca29d   \n",
       "2              10mg*7片             N         药品费  000b7c75ef6ca29d   \n",
       "3         0.15g/15g*1支             N         药品费  000b7c75ef6ca29d   \n",
       "4             0.3g*16s             N         药品费  0010b8084da5faf7   \n",
       "\n",
       "         hospNo  ... cd_overallPay rs_overallPay accountPay rescuePay amount  \\\n",
       "0  330599100005  ...           0.0         23.10        0.0       0.0    0.0   \n",
       "1  330599100005  ...           0.0         23.10        0.0       0.0    0.0   \n",
       "2  330599100005  ...           0.0         23.10        0.0       0.0    0.0   \n",
       "3  330599100005  ...           0.0         23.10        0.0       0.0    0.0   \n",
       "4  330523100001  ...           0.0         70.95        0.0       0.0    0.0   \n",
       "\n",
       "  selfAmount quantity   money applyAmount cdpAmount  \n",
       "0       0.00      4.0   68.00        68.0       0.0  \n",
       "1       3.22      2.0   61.22        58.0       0.0  \n",
       "2       5.12      4.0   95.12        90.0       0.0  \n",
       "3       1.00      2.0   20.00        19.0       0.0  \n",
       "4       7.36      4.0  149.36       142.0       0.0  \n",
       "\n",
       "[5 rows x 81 columns]"
      ]
     },
     "execution_count": 6,
     "metadata": {},
     "output_type": "execute_result"
    }
   ],
   "source": [
    "df.head()"
   ]
  },
  {
   "cell_type": "markdown",
   "metadata": {},
   "source": [
    "## Writing files"
   ]
  },
  {
   "cell_type": "code",
   "execution_count": null,
   "metadata": {},
   "outputs": [],
   "source": [
    "# Writing part of a file.\n",
    "with open('samples') as reader, client.write('samples') as writer:\n",
    "  for line in reader:\n",
    "    if line.startswith('-'):\n",
    "      writer.write(line)\n",
    "\n",
    "# Writing a serialized JSON object.\n",
    "with client.write('model.json', encoding='utf-8') as writer:\n",
    "  from json import dump\n",
    "  dump(model, writer)"
   ]
  },
  {
   "cell_type": "markdown",
   "metadata": {},
   "source": [
    "For convenience, it is also possible to pass an iterable data argument directly to the method."
   ]
  },
  {
   "cell_type": "code",
   "execution_count": null,
   "metadata": {},
   "outputs": [],
   "source": [
    "model = {}"
   ]
  },
  {
   "cell_type": "code",
   "execution_count": null,
   "metadata": {},
   "outputs": [],
   "source": [
    "# This is equivalent to the JSON example above.\n",
    "from json import dumps\n",
    "client.write('model.json', dumps(model))"
   ]
  },
  {
   "cell_type": "markdown",
   "metadata": {},
   "source": [
    "# pyhdfs"
   ]
  },
  {
   "cell_type": "code",
   "execution_count": 7,
   "metadata": {},
   "outputs": [],
   "source": [
    "from pyhdfs import HdfsClient"
   ]
  },
  {
   "cell_type": "code",
   "execution_count": 2,
   "metadata": {},
   "outputs": [],
   "source": [
    "client=HdfsClient(hosts='10.23.50.178:50070',user_name='hdfs')#只有hadoop用户拥有写权限"
   ]
  },
  {
   "cell_type": "code",
   "execution_count": 3,
   "metadata": {},
   "outputs": [],
   "source": [
    "str='hello world'\n",
    "client.create('/py.txt',str)#创建新文件并写入字符串"
   ]
  },
  {
   "cell_type": "markdown",
   "metadata": {},
   "source": [
    "# hdfs3"
   ]
  },
  {
   "cell_type": "code",
   "execution_count": 11,
   "metadata": {},
   "outputs": [],
   "source": [
    "from hdfs3 import HDFileSystem\n",
    "from fastparquet import ParquetFile"
   ]
  },
  {
   "cell_type": "code",
   "execution_count": 12,
   "metadata": {},
   "outputs": [],
   "source": [
    "hdfs = HDFileSystem(host='10.23.50.178', port=8020, user='hdfs')"
   ]
  },
  {
   "cell_type": "code",
   "execution_count": 5,
   "metadata": {},
   "outputs": [
    {
     "data": {
      "text/plain": [
       "['//aml',\n",
       " '//app-logs',\n",
       " '//apps',\n",
       " '//ats',\n",
       " '//atsv2',\n",
       " '//data',\n",
       " '//hdp',\n",
       " '//livy2-recovery',\n",
       " '//mapred',\n",
       " '//mr-history',\n",
       " '//ranger',\n",
       " '//spark2-history',\n",
       " '//tmp',\n",
       " '//user',\n",
       " '//warehouse']"
      ]
     },
     "execution_count": 5,
     "metadata": {},
     "output_type": "execute_result"
    }
   ],
   "source": [
    "hdfs.ls('/')"
   ]
  },
  {
   "cell_type": "code",
   "execution_count": 6,
   "metadata": {},
   "outputs": [
    {
     "data": {
      "text/plain": [
       "['/aml/a.parquet',\n",
       " '/aml/a1.parquet',\n",
       " '/aml/a2.parquet',\n",
       " '/aml/b.parquet',\n",
       " '/aml/hivemetastore.log']"
      ]
     },
     "execution_count": 6,
     "metadata": {},
     "output_type": "execute_result"
    }
   ],
   "source": [
    "hdfs.ls('/aml')"
   ]
  },
  {
   "cell_type": "code",
   "execution_count": 7,
   "metadata": {},
   "outputs": [],
   "source": [
    "import pandas as pd"
   ]
  },
  {
   "cell_type": "code",
   "execution_count": null,
   "metadata": {},
   "outputs": [],
   "source": [
    "with hdfs.open('/aml/b.parquet') as f:\n",
    "    df = pd.read_parquet(f)"
   ]
  },
  {
   "cell_type": "code",
   "execution_count": 4,
   "metadata": {},
   "outputs": [],
   "source": [
    "sc = hdfs.open"
   ]
  },
  {
   "cell_type": "code",
   "execution_count": null,
   "metadata": {},
   "outputs": [],
   "source": [
    "pf = ParquetFile('/aml/b.parquet', open_with=sc)"
   ]
  },
  {
   "cell_type": "code",
   "execution_count": null,
   "metadata": {},
   "outputs": [],
   "source": []
  }
 ],
 "metadata": {
  "kernelspec": {
   "display_name": "Python 3",
   "language": "python",
   "name": "python3"
  },
  "language_info": {
   "codemirror_mode": {
    "name": "ipython",
    "version": 3
   },
   "file_extension": ".py",
   "mimetype": "text/x-python",
   "name": "python",
   "nbconvert_exporter": "python",
   "pygments_lexer": "ipython3",
   "version": "3.7.3"
  },
  "toc": {
   "base_numbering": 1,
   "nav_menu": {},
   "number_sections": true,
   "sideBar": true,
   "skip_h1_title": false,
   "title_cell": "Table of Contents",
   "title_sidebar": "Contents",
   "toc_cell": false,
   "toc_position": {},
   "toc_section_display": true,
   "toc_window_display": true
  }
 },
 "nbformat": 4,
 "nbformat_minor": 2
}
