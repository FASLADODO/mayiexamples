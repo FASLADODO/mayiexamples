{
 "cells": [
  {
   "cell_type": "markdown",
   "metadata": {},
   "source": [
    "# zipfile\n",
    "zipFile模块式Python自带的模块，提供了对zip 文件的创建，读，写，追加，解压以及列出文件列表的操作"
   ]
  },
  {
   "cell_type": "code",
   "execution_count": 12,
   "metadata": {},
   "outputs": [],
   "source": [
    "import zipfile"
   ]
  },
  {
   "cell_type": "code",
   "execution_count": 13,
   "metadata": {},
   "outputs": [],
   "source": [
    "filepath = 'test.zip'"
   ]
  },
  {
   "cell_type": "code",
   "execution_count": 16,
   "metadata": {},
   "outputs": [],
   "source": [
    "f = zipfile.ZipFile(filepath)"
   ]
  },
  {
   "cell_type": "code",
   "execution_count": 18,
   "metadata": {},
   "outputs": [
    {
     "data": {
      "text/plain": [
       "['σÅÿσêåΦç¬τ╝ûτáüσÖ¿/',\n",
       " 'σÅÿσêåΦç¬τ╝ûτáüσÖ¿/VAE _ Index Construction.ipynb',\n",
       " '__MACOSX/',\n",
       " '__MACOSX/σÅÿσêåΦç¬τ╝ûτáüσÖ¿/',\n",
       " '__MACOSX/σÅÿσêåΦç¬τ╝ûτáüσÖ¿/._VAE _ Index Construction.ipynb',\n",
       " 'σÅÿσêåΦç¬τ╝ûτáüσÖ¿/.DS_Store',\n",
       " '__MACOSX/σÅÿσêåΦç¬τ╝ûτáüσÖ¿/._.DS_Store',\n",
       " 'σÅÿσêåΦç¬τ╝ûτáüσÖ¿/ΘçÅσîûµèòΦ╡äΣ╕Äµ£║σÖ¿σ¡ªΣ╣áσà¼Σ╝ùσÅ╖.jpeg',\n",
       " '__MACOSX/σÅÿσêåΦç¬τ╝ûτáüσÖ¿/._ΘçÅσîûµèòΦ╡äΣ╕Äµ£║σÖ¿σ¡ªΣ╣áσà¼Σ╝ùσÅ╖.jpeg',\n",
       " 'σÅÿσêåΦç¬τ╝ûτáüσÖ¿/README.md',\n",
       " '__MACOSX/σÅÿσêåΦç¬τ╝ûτáüσÖ¿/._README.md',\n",
       " 'σÅÿσêåΦç¬τ╝ûτáüσÖ¿/Data Treatment.ipynb',\n",
       " '__MACOSX/σÅÿσêåΦç¬τ╝ûτáüσÖ¿/._Data Treatment.ipynb',\n",
       " 'σÅÿσêåΦç¬τ╝ûτáüσÖ¿/σà¼Σ╝ùσÅ╖σÉÄΦè▒σ¢¡.png',\n",
       " '__MACOSX/σÅÿσêåΦç¬τ╝ûτáüσÖ¿/._σà¼Σ╝ùσÅ╖σÉÄΦè▒σ¢¡.png',\n",
       " '__MACOSX/._σÅÿσêåΦç¬τ╝ûτáüσÖ¿']"
      ]
     },
     "execution_count": 18,
     "metadata": {},
     "output_type": "execute_result"
    }
   ],
   "source": [
    "f.namelist()"
   ]
  },
  {
   "cell_type": "code",
   "execution_count": 25,
   "metadata": {},
   "outputs": [
    {
     "data": {
      "text/plain": [
       "'σÅÿσêåΦç¬τ╝ûτáüσÖ¿/README.md'"
      ]
     },
     "execution_count": 25,
     "metadata": {},
     "output_type": "execute_result"
    }
   ],
   "source": [
    "f.namelist()[9]"
   ]
  },
  {
   "cell_type": "markdown",
   "metadata": {},
   "source": [
    "## 读取zipfile中的文件内容"
   ]
  },
  {
   "cell_type": "code",
   "execution_count": 28,
   "metadata": {},
   "outputs": [
    {
     "name": "stdout",
     "output_type": "stream",
     "text": [
      "# Variational AutoEncoder for Dimensionality Reduction in Finance\n",
      "This notebook revolves on a full-cycle application of Variational AutoEncoders for dimensionality reduction.\n",
      "It is designed to be used on finance data. \n",
      "It is also about exploring the possibility of Index creation.\n",
      "\n",
      "## License\n",
      "This code is under AGPLv3 license.\n",
      "\n",
      "## The code\n",
      "As dataset, data from Yahoo Finance was used and anonymized.\n",
      "\n",
      "It is based on a pair of Python notebook files:\n",
      "\n",
      "- Data Preparation\n",
      "- Model, results and Index Creation\n",
      "\n",
      "2019-04-10: First release\n",
      "\n"
     ]
    }
   ],
   "source": [
    "print(f.read(f.namelist()[9]).decode('utf8'))"
   ]
  },
  {
   "cell_type": "code",
   "execution_count": 29,
   "metadata": {},
   "outputs": [],
   "source": [
    "f.close()"
   ]
  },
  {
   "cell_type": "code",
   "execution_count": 30,
   "metadata": {},
   "outputs": [],
   "source": [
    "zf = zipfile.ZipFile('test.zip')"
   ]
  },
  {
   "cell_type": "markdown",
   "metadata": {},
   "source": [
    "## extractall(path=None, members=None, pwd=None)\n",
    "把zipfile解压到指定的路径。\n",
    "\n",
    "Extract all members from the archive to the current working\n",
    "directory."
   ]
  },
  {
   "cell_type": "code",
   "execution_count": 31,
   "metadata": {},
   "outputs": [],
   "source": [
    "zf.extractall()"
   ]
  },
  {
   "cell_type": "markdown",
   "metadata": {},
   "source": [
    "# FileOperationWrapper"
   ]
  },
  {
   "cell_type": "code",
   "execution_count": 1,
   "metadata": {},
   "outputs": [],
   "source": [
    "import sys\n",
    "sys.path.append('/Users/luoyonggui/PycharmProjects/mayiutils_n1/mayiutils/fileio')"
   ]
  },
  {
   "cell_type": "code",
   "execution_count": 4,
   "metadata": {},
   "outputs": [],
   "source": [
    "from fileoperation_wrapper import FileOperationWrapper as fow"
   ]
  },
  {
   "cell_type": "code",
   "execution_count": 3,
   "metadata": {},
   "outputs": [
    {
     "data": {
      "text/plain": [
       "'# Variational AutoEncoder for Dimensionality Reduction in Finance\\nThis notebook revolves on a full-cycle application of Variational AutoEncoders for dimensionality reduction.\\nIt is designed to be used on finance data. \\nIt is also about exploring the possibility of Index creation.\\n\\n## License\\nThis code is under AGPLv3 license.\\n\\n## The code\\nAs dataset, data from Yahoo Finance was used and anonymized.\\n\\nIt is based on a pair of Python notebook files:\\n\\n- Data Preparation\\n- Model, results and Index Creation\\n\\n2019-04-10: First release\\n'"
      ]
     },
     "execution_count": 3,
     "metadata": {},
     "output_type": "execute_result"
    }
   ],
   "source": [
    "fow.readZipFile('test.zip', 9)"
   ]
  },
  {
   "cell_type": "code",
   "execution_count": null,
   "metadata": {},
   "outputs": [],
   "source": []
  }
 ],
 "metadata": {
  "kernelspec": {
   "display_name": "Python 3",
   "language": "python",
   "name": "python3"
  },
  "language_info": {
   "codemirror_mode": {
    "name": "ipython",
    "version": 3
   },
   "file_extension": ".py",
   "mimetype": "text/x-python",
   "name": "python",
   "nbconvert_exporter": "python",
   "pygments_lexer": "ipython3",
   "version": "3.7.3"
  },
  "toc": {
   "base_numbering": 1,
   "nav_menu": {},
   "number_sections": true,
   "sideBar": true,
   "skip_h1_title": false,
   "title_cell": "Table of Contents",
   "title_sidebar": "Contents",
   "toc_cell": false,
   "toc_position": {},
   "toc_section_display": true,
   "toc_window_display": true
  }
 },
 "nbformat": 4,
 "nbformat_minor": 2
}
