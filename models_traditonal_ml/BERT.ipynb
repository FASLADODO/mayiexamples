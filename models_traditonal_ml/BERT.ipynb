{
 "cells": [
  {
   "cell_type": "markdown",
   "metadata": {},
   "source": [
    "# BERT\n",
    "\n",
    "https://blog.csdn.net/weixin_37947156/article/details/84877254  \n",
    "https://blog.csdn.net/u012526436/article/details/84637834\n",
    "https://github.com/terrifyzhao/bert-utils\n",
    "BERT本质上是一个两段式的NLP模型。\n",
    "* 第一个阶段叫做：Pre-training，跟WordEmbedding类似，利用现有无标记的语料训练一个语言模型。\n",
    "* 第二个阶段叫做：Fine-tuning，利用预训练好的语言模型，完成具体的NLP下游任务。\n",
    "\n",
    "Google已经投入了大规模的语料和昂贵的机器帮我们完成了Pre-training过程，结果可以在其GitHub上下载\n",
    "BERT-Base, Chinese: Chinese Simplified and Traditional, 12-layer, 768-hidden, 12-heads, 110M parameters\n",
    "https://storage.googleapis.com/bert_models/2018_11_03/chinese_L-12_H-768_A-12.zip\n",
    "\n",
    "Each .zip file contains three items:\n",
    "\n",
    "A TensorFlow checkpoint (bert_model.ckpt) containing the pre-trained weights (which is actually 3 files).\n",
    "A vocab file (vocab.txt) to map WordPiece to word id.\n",
    "A config file (bert_config.json) which specifies the hyperparameters of the model.\n",
    "\n",
    "这里主要介绍fine-tuning过程。\n",
    "\n",
    "回到Github中的代码，只有run_classifier.py和run_squad.py是用来做fine-tuning 的，其他可以暂时不考虑。\n",
    "这里使用run_classifier.py进行文本相似度（本质分类建模）。\n",
    "\n",
    "代码解析\n",
    "\n",
    "    从主函数开始，可以发现它指定了必须的参数：\n",
    "        data_dir指的是我们的输入数据的文件夹路径。查看代码，不难发现，作者给出了输入数据的格式：\n",
    "        可以发现它要求的输入分别是guid, text_a, text_b, label，其中text_b和label为可选参数。\n",
    "        例如我们要做的是单个句子的分类任务，那么就不需要输入text_b；另外，在test样本中，我们便不需要输入label。\n",
    "\n",
    "    这里的task_name，一开始可能不好理解它是用来做什么的。仔细查看代码可以发现：task_name是用来选择processor的。"
   ]
  },
  {
   "cell_type": "code",
   "execution_count": null,
   "metadata": {},
   "outputs": [],
   "source": []
  }
 ],
 "metadata": {
  "kernelspec": {
   "display_name": "Python 3",
   "language": "python",
   "name": "python3"
  },
  "language_info": {
   "codemirror_mode": {
    "name": "ipython",
    "version": 3
   },
   "file_extension": ".py",
   "mimetype": "text/x-python",
   "name": "python",
   "nbconvert_exporter": "python",
   "pygments_lexer": "ipython3",
   "version": "3.7.3"
  },
  "toc": {
   "base_numbering": 1,
   "nav_menu": {},
   "number_sections": true,
   "sideBar": true,
   "skip_h1_title": false,
   "title_cell": "Table of Contents",
   "title_sidebar": "Contents",
   "toc_cell": false,
   "toc_position": {},
   "toc_section_display": true,
   "toc_window_display": false
  }
 },
 "nbformat": 4,
 "nbformat_minor": 2
}
