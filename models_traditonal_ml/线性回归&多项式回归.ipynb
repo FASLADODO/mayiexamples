{
 "cells": [
  {
   "cell_type": "markdown",
   "metadata": {},
   "source": [
    "https://mp.weixin.qq.com/s/-z4QaxgOcxSLAdionlzWLw"
   ]
  },
  {
   "cell_type": "markdown",
   "metadata": {},
   "source": [
    "# 什么是回归\n",
    "回归模型中通常有一个连续且无界的因变量。但是，自变量可以是连续的，离散的，甚至是像性别，国籍，品牌等分类数据。\n",
    "\n",
    "通常用y表示因变量，x表示自变量。如果有两个或者多个自变量，可以用向量x=(x1, …, xr)表示。"
   ]
  },
  {
   "cell_type": "markdown",
   "metadata": {},
   "source": [
    "# 线性回归的原理\n",
    "* 单变量线性回归\n",
    "* 多变量线性回归"
   ]
  },
  {
   "cell_type": "markdown",
   "metadata": {},
   "source": [
    "## 回归方程\n",
    "在对一组自变量x=(x1,…,xr)和因变量y进行回归时，我们假设y与x的关系：  \n",
    "y=β0+β1x1+···+βrxr+ε。  \n",
    "这个方程叫做回归方程。β0, β1,... ,βr是回归系数， ε是随机误差。"
   ]
  },
  {
   "cell_type": "markdown",
   "metadata": {},
   "source": [
    "## 求解：最小二乘法"
   ]
  },
  {
   "cell_type": "markdown",
   "metadata": {},
   "source": [
    "通常使用最小化残差平方和的方法来计算最优权重，即最小化  \n",
    "`SSR=∑i(yi-f(xi))2`。这种方法叫做最小二乘法OLS。"
   ]
  },
  {
   "cell_type": "markdown",
   "metadata": {},
   "source": [
    "## 评价回归模型"
   ]
  },
  {
   "cell_type": "markdown",
   "metadata": {},
   "source": [
    "实际观测值yi的变化一部分由于自变量xi的变化导致的。但是实际观测值yi仍然会有无法用回归函数f(xi)解释的部分。\n",
    "\n",
    "\n",
    "\n",
    "\n",
    "\n",
    "而决定系数R2，用来说明实际观测值yi中有多大程度可以由回归函数f(x)解释。R2越大，两者拟合程度越高，意味着观测值yi-xi数据组可以很好的契合回归函数f(x)。\n",
    "\n",
    "\n",
    "\n",
    "\n",
    "\n",
    "R2=1时，即SSR=0，称作完全拟合，这意味着所有yi-xi可以完全匹配回归函数f(x)。"
   ]
  },
  {
   "cell_type": "markdown",
   "metadata": {},
   "source": [
    "# 多项式回归\n",
    "在2阶多变量的情形中，回归函数可以像这样：f(x1,x2)=b0+b1x1+b2x2+b3x12+b4x1x2+b5x22"
   ]
  },
  {
   "cell_type": "markdown",
   "metadata": {},
   "source": [
    "# 在Python中实现线性回归\n",
    "\n"
   ]
  },
  {
   "cell_type": "markdown",
   "metadata": {},
   "source": [
    "## 基于sklearn的单变量线性回归"
   ]
  },
  {
   "cell_type": "code",
   "execution_count": 1,
   "metadata": {},
   "outputs": [],
   "source": [
    "import pandas as pd\n",
    "import numpy as np\n",
    "import tushare as ts\n",
    "from sklearn.linear_model import LinearRegression"
   ]
  },
  {
   "cell_type": "markdown",
   "metadata": {},
   "source": [
    "### 读取数据"
   ]
  },
  {
   "cell_type": "code",
   "execution_count": 3,
   "metadata": {},
   "outputs": [
    {
     "data": {
      "text/html": [
       "<div>\n",
       "<style scoped>\n",
       "    .dataframe tbody tr th:only-of-type {\n",
       "        vertical-align: middle;\n",
       "    }\n",
       "\n",
       "    .dataframe tbody tr th {\n",
       "        vertical-align: top;\n",
       "    }\n",
       "\n",
       "    .dataframe thead th {\n",
       "        text-align: right;\n",
       "    }\n",
       "</style>\n",
       "<table border=\"1\" class=\"dataframe\">\n",
       "  <thead>\n",
       "    <tr style=\"text-align: right;\">\n",
       "      <th></th>\n",
       "      <th>ts_code</th>\n",
       "      <th>trade_date</th>\n",
       "      <th>close</th>\n",
       "      <th>open</th>\n",
       "      <th>high</th>\n",
       "      <th>low</th>\n",
       "      <th>pre_close</th>\n",
       "      <th>change</th>\n",
       "      <th>pct_chg</th>\n",
       "      <th>vol</th>\n",
       "      <th>amount</th>\n",
       "    </tr>\n",
       "  </thead>\n",
       "  <tbody>\n",
       "    <tr>\n",
       "      <th>0</th>\n",
       "      <td>399300.SZ</td>\n",
       "      <td>20190110</td>\n",
       "      <td>3072.6864</td>\n",
       "      <td>3077.4817</td>\n",
       "      <td>3092.5411</td>\n",
       "      <td>3062.5721</td>\n",
       "      <td>3078.4759</td>\n",
       "      <td>-5.7895</td>\n",
       "      <td>-0.1881</td>\n",
       "      <td>85271756.0</td>\n",
       "      <td>90206871.7</td>\n",
       "    </tr>\n",
       "    <tr>\n",
       "      <th>1</th>\n",
       "      <td>399300.SZ</td>\n",
       "      <td>20190109</td>\n",
       "      <td>3078.4759</td>\n",
       "      <td>3065.2307</td>\n",
       "      <td>3117.9614</td>\n",
       "      <td>3062.8474</td>\n",
       "      <td>3047.7035</td>\n",
       "      <td>30.7724</td>\n",
       "      <td>1.0097</td>\n",
       "      <td>107364350.0</td>\n",
       "      <td>117129678.9</td>\n",
       "    </tr>\n",
       "    <tr>\n",
       "      <th>2</th>\n",
       "      <td>399300.SZ</td>\n",
       "      <td>20190108</td>\n",
       "      <td>3047.7035</td>\n",
       "      <td>3049.8747</td>\n",
       "      <td>3055.5100</td>\n",
       "      <td>3038.5339</td>\n",
       "      <td>3054.3030</td>\n",
       "      <td>-6.5995</td>\n",
       "      <td>-0.2161</td>\n",
       "      <td>86170585.0</td>\n",
       "      <td>79628882.6</td>\n",
       "    </tr>\n",
       "    <tr>\n",
       "      <th>3</th>\n",
       "      <td>399300.SZ</td>\n",
       "      <td>20190107</td>\n",
       "      <td>3054.3030</td>\n",
       "      <td>3055.1535</td>\n",
       "      <td>3061.7490</td>\n",
       "      <td>3035.9123</td>\n",
       "      <td>3035.8741</td>\n",
       "      <td>18.4289</td>\n",
       "      <td>0.6070</td>\n",
       "      <td>101164359.0</td>\n",
       "      <td>105703940.7</td>\n",
       "    </tr>\n",
       "    <tr>\n",
       "      <th>4</th>\n",
       "      <td>399300.SZ</td>\n",
       "      <td>20190104</td>\n",
       "      <td>3035.8741</td>\n",
       "      <td>2940.1916</td>\n",
       "      <td>3036.8147</td>\n",
       "      <td>2935.8295</td>\n",
       "      <td>2964.8421</td>\n",
       "      <td>71.0320</td>\n",
       "      <td>2.3958</td>\n",
       "      <td>103318972.0</td>\n",
       "      <td>107141037.0</td>\n",
       "    </tr>\n",
       "  </tbody>\n",
       "</table>\n",
       "</div>"
      ],
      "text/plain": [
       "     ts_code trade_date      close       open       high        low  \\\n",
       "0  399300.SZ   20190110  3072.6864  3077.4817  3092.5411  3062.5721   \n",
       "1  399300.SZ   20190109  3078.4759  3065.2307  3117.9614  3062.8474   \n",
       "2  399300.SZ   20190108  3047.7035  3049.8747  3055.5100  3038.5339   \n",
       "3  399300.SZ   20190107  3054.3030  3055.1535  3061.7490  3035.9123   \n",
       "4  399300.SZ   20190104  3035.8741  2940.1916  3036.8147  2935.8295   \n",
       "\n",
       "   pre_close   change  pct_chg          vol       amount  \n",
       "0  3078.4759  -5.7895  -0.1881   85271756.0   90206871.7  \n",
       "1  3047.7035  30.7724   1.0097  107364350.0  117129678.9  \n",
       "2  3054.3030  -6.5995  -0.2161   86170585.0   79628882.6  \n",
       "3  3035.8741  18.4289   0.6070  101164359.0  105703940.7  \n",
       "4  2964.8421  71.0320   2.3958  103318972.0  107141037.0  "
      ]
     },
     "execution_count": 3,
     "metadata": {},
     "output_type": "execute_result"
    }
   ],
   "source": [
    "# 使用tushare获取数据\n",
    "# ts.set_token('5fd1639100f8a22b7f86e882e03192009faa72bae1ae93803e1172d5')\n",
    "# pro = ts.pro_api()\n",
    "\n",
    "# # 获取沪深300与中国平安股票2018年全年以及2019年前7个交易日的日线数据\n",
    "# index_hs300 = pro.index_daily(ts_code='399300.SZ', start_date='20180101', end_date='20190110')\n",
    "# index_hs300.to_pickle('data/index_hs300.pkl')\n",
    "index_hs300 = pd.read_pickle('data/index_hs300.pkl')\n",
    "index_hs300.head()"
   ]
  },
  {
   "cell_type": "code",
   "execution_count": 5,
   "metadata": {},
   "outputs": [
    {
     "data": {
      "text/html": [
       "<div>\n",
       "<style scoped>\n",
       "    .dataframe tbody tr th:only-of-type {\n",
       "        vertical-align: middle;\n",
       "    }\n",
       "\n",
       "    .dataframe tbody tr th {\n",
       "        vertical-align: top;\n",
       "    }\n",
       "\n",
       "    .dataframe thead th {\n",
       "        text-align: right;\n",
       "    }\n",
       "</style>\n",
       "<table border=\"1\" class=\"dataframe\">\n",
       "  <thead>\n",
       "    <tr style=\"text-align: right;\">\n",
       "      <th></th>\n",
       "      <th>ts_code</th>\n",
       "      <th>trade_date</th>\n",
       "      <th>pct_chg</th>\n",
       "    </tr>\n",
       "  </thead>\n",
       "  <tbody>\n",
       "    <tr>\n",
       "      <th>0</th>\n",
       "      <td>000001.SZ</td>\n",
       "      <td>20190110</td>\n",
       "      <td>1.6097</td>\n",
       "    </tr>\n",
       "    <tr>\n",
       "      <th>1</th>\n",
       "      <td>000001.SZ</td>\n",
       "      <td>20190109</td>\n",
       "      <td>2.8986</td>\n",
       "    </tr>\n",
       "    <tr>\n",
       "      <th>2</th>\n",
       "      <td>000001.SZ</td>\n",
       "      <td>20190108</td>\n",
       "      <td>-0.8214</td>\n",
       "    </tr>\n",
       "    <tr>\n",
       "      <th>3</th>\n",
       "      <td>000001.SZ</td>\n",
       "      <td>20190107</td>\n",
       "      <td>-0.1026</td>\n",
       "    </tr>\n",
       "    <tr>\n",
       "      <th>4</th>\n",
       "      <td>000001.SZ</td>\n",
       "      <td>20190104</td>\n",
       "      <td>5.0647</td>\n",
       "    </tr>\n",
       "  </tbody>\n",
       "</table>\n",
       "</div>"
      ],
      "text/plain": [
       "     ts_code trade_date  pct_chg\n",
       "0  000001.SZ   20190110   1.6097\n",
       "1  000001.SZ   20190109   2.8986\n",
       "2  000001.SZ   20190108  -0.8214\n",
       "3  000001.SZ   20190107  -0.1026\n",
       "4  000001.SZ   20190104   5.0647"
      ]
     },
     "execution_count": 5,
     "metadata": {},
     "output_type": "execute_result"
    }
   ],
   "source": [
    "# stock_000001 = pro.query('daily', ts_code='000001.SZ', start_date='20180101', end_date='20190110', fields='ts_code, trade_date ,pct_chg')\n",
    "# stock_000001.to_pickle('data/stock_000001.pkl')\n",
    "stock_000001 = pd.read_pickle('data/stock_000001.pkl')\n",
    "stock_000001.head()"
   ]
  },
  {
   "cell_type": "code",
   "execution_count": 6,
   "metadata": {},
   "outputs": [
    {
     "data": {
      "text/html": [
       "<div>\n",
       "<style scoped>\n",
       "    .dataframe tbody tr th:only-of-type {\n",
       "        vertical-align: middle;\n",
       "    }\n",
       "\n",
       "    .dataframe tbody tr th {\n",
       "        vertical-align: top;\n",
       "    }\n",
       "\n",
       "    .dataframe thead th {\n",
       "        text-align: right;\n",
       "    }\n",
       "</style>\n",
       "<table border=\"1\" class=\"dataframe\">\n",
       "  <thead>\n",
       "    <tr style=\"text-align: right;\">\n",
       "      <th></th>\n",
       "      <th>y_stock</th>\n",
       "      <th>x_index</th>\n",
       "    </tr>\n",
       "    <tr>\n",
       "      <th>trade_date</th>\n",
       "      <th></th>\n",
       "      <th></th>\n",
       "    </tr>\n",
       "  </thead>\n",
       "  <tbody>\n",
       "    <tr>\n",
       "      <th>20180102</th>\n",
       "      <td>3.01</td>\n",
       "      <td>1.4028</td>\n",
       "    </tr>\n",
       "    <tr>\n",
       "      <th>20180103</th>\n",
       "      <td>-2.70</td>\n",
       "      <td>0.5870</td>\n",
       "    </tr>\n",
       "    <tr>\n",
       "      <th>20180104</th>\n",
       "      <td>-0.60</td>\n",
       "      <td>0.4237</td>\n",
       "    </tr>\n",
       "    <tr>\n",
       "      <th>20180105</th>\n",
       "      <td>0.38</td>\n",
       "      <td>0.2407</td>\n",
       "    </tr>\n",
       "    <tr>\n",
       "      <th>20180108</th>\n",
       "      <td>-2.56</td>\n",
       "      <td>0.5173</td>\n",
       "    </tr>\n",
       "  </tbody>\n",
       "</table>\n",
       "</div>"
      ],
      "text/plain": [
       "            y_stock  x_index\n",
       "trade_date                  \n",
       "20180102       3.01   1.4028\n",
       "20180103      -2.70   0.5870\n",
       "20180104      -0.60   0.4237\n",
       "20180105       0.38   0.2407\n",
       "20180108      -2.56   0.5173"
      ]
     },
     "execution_count": 6,
     "metadata": {},
     "output_type": "execute_result"
    }
   ],
   "source": [
    "# 保留用于回归的数据，数据对齐\n",
    "# join的inner参数用于剔除指数日线数据中中国平安无交易日的数据，比如停牌。\n",
    "# 同时保留中国平安和指数的日收益率并分别命名两组列名y_stock, x_index，确定因变量和自变量\n",
    "index_pct_chg = index_hs300.set_index('trade_date')['pct_chg']\n",
    "stock_pct_chg = stock_000001.set_index('trade_date')['pct_chg']\n",
    "df = pd.concat([stock_pct_chg, index_pct_chg], keys=['y_stock', 'x_index'], join='inner', axis=1, sort=True)\n",
    "df.head()"
   ]
  },
  {
   "cell_type": "code",
   "execution_count": 7,
   "metadata": {},
   "outputs": [],
   "source": [
    "# 选中2018年的x，y数据作为现有数据进行线性回归\n",
    "df_existing_data = df[df.index < '20190101']"
   ]
  },
  {
   "cell_type": "code",
   "execution_count": 8,
   "metadata": {},
   "outputs": [],
   "source": [
    "# 注意：自变量x为pandas.DataFrame类型，其为二维数据结构，注意与因变量的pandas.Series数据结构的区别。也可以用numpy.array的.reshape((-1, 1))将数据结构改为二维数组。\n",
    "x = df_existing_data[['x_index']]\n",
    "y = df_existing_data['y_stock']"
   ]
  },
  {
   "cell_type": "markdown",
   "metadata": {},
   "source": [
    "### 数据可视化"
   ]
  },
  {
   "cell_type": "code",
   "execution_count": 12,
   "metadata": {},
   "outputs": [],
   "source": [
    "import seaborn as sns"
   ]
  },
  {
   "cell_type": "code",
   "execution_count": 14,
   "metadata": {},
   "outputs": [
    {
     "data": {
      "text/plain": [
       "<seaborn.axisgrid.FacetGrid at 0x1149763c8>"
      ]
     },
     "execution_count": 14,
     "metadata": {},
     "output_type": "execute_result"
    },
    {
     "data": {
      "image/png": "[encoded data removed]",
      "text/plain": [
       "<Figure size 360x360 with 1 Axes>"
      ]
     },
     "metadata": {
      "needs_background": "light"
     },
     "output_type": "display_data"
    }
   ],
   "source": [
    "sns.relplot('x_index', 'y_stock', data=df_existing_data)"
   ]
  },
  {
   "cell_type": "markdown",
   "metadata": {},
   "source": [
    "### 建立模型并拟合数据"
   ]
  },
  {
   "cell_type": "code",
   "execution_count": 9,
   "metadata": {},
   "outputs": [],
   "source": [
    "model = LinearRegression()"
   ]
  },
  {
   "cell_type": "code",
   "execution_count": 10,
   "metadata": {},
   "outputs": [
    {
     "name": "stderr",
     "output_type": "stream",
     "text": [
      "/Users/luoyonggui/anaconda3/lib/python3.7/site-packages/sklearn/linear_model/base.py:485: RuntimeWarning: internal gelsd driver lwork query error, required iwork dimension not returned. This is likely the result of LAPACK bug 0038, fixed in LAPACK 3.2.2 (released July 21, 2010). Falling back to 'gelss' driver.\n",
      "  linalg.lstsq(X, y)\n"
     ]
    },
    {
     "data": {
      "text/plain": [
       "LinearRegression(copy_X=True, fit_intercept=True, n_jobs=None,\n",
       "         normalize=False)"
      ]
     },
     "execution_count": 10,
     "metadata": {},
     "output_type": "execute_result"
    }
   ],
   "source": [
    "model.fit(x, y)"
   ]
  },
  {
   "cell_type": "markdown",
   "metadata": {},
   "source": [
    "### 输出结果"
   ]
  },
  {
   "cell_type": "code",
   "execution_count": 11,
   "metadata": {},
   "outputs": [
    {
     "name": "stdout",
     "output_type": "stream",
     "text": [
      "coefficient of determination:  0.5674052646582468\n"
     ]
    }
   ],
   "source": [
    "r_sq = model.score(x, y)\n",
    "print('coefficient of determination: ', r_sq)"
   ]
  },
  {
   "cell_type": "code",
   "execution_count": 17,
   "metadata": {},
   "outputs": [
    {
     "data": {
      "text/plain": [
       "0.5674052646582468"
      ]
     },
     "execution_count": 17,
     "metadata": {},
     "output_type": "execute_result"
    }
   ],
   "source": [
    "from sklearn.metrics import r2_score\n",
    "r2_score(y, model.predict(x))"
   ]
  },
  {
   "cell_type": "code",
   "execution_count": 18,
   "metadata": {},
   "outputs": [
    {
     "name": "stdout",
     "output_type": "stream",
     "text": [
      "intercept: 0.01762302497463815\n",
      "slope: [1.18891167]\n"
     ]
    }
   ],
   "source": [
    "print('intercept:', model.intercept_)\n",
    "print('slope:', model.coef_)\n"
   ]
  },
  {
   "cell_type": "markdown",
   "metadata": {},
   "source": [
    "### 模型预测"
   ]
  },
  {
   "cell_type": "code",
   "execution_count": 19,
   "metadata": {},
   "outputs": [
    {
     "name": "stdout",
     "output_type": "stream",
     "text": [
      "predicted response:\n",
      "[-1.60619253 -0.17022502  2.86601759  0.73929241 -0.23930079  1.21806713\n",
      " -0.20601126]\n"
     ]
    }
   ],
   "source": [
    "# 选2019年前7个交易日的数据作为新数据进行预测\n",
    "df_new_data = df[df.index > '20190101']\n",
    "\n",
    "# 将自变量x，数据类型为DataFrame\n",
    "new_x = df_new_data[['x_index']]\n",
    "\n",
    "# 预测\n",
    "y_pred = model.predict(new_x)\n",
    "print('predicted response:', y_pred, sep='\\n')"
   ]
  },
  {
   "cell_type": "code",
   "execution_count": 20,
   "metadata": {},
   "outputs": [
    {
     "name": "stdout",
     "output_type": "stream",
     "text": [
      "predicted response:\n",
      "              y_pred\n",
      "trade_date          \n",
      "20190102   -1.606193\n",
      "20190103   -0.170225\n",
      "20190104    2.866018\n",
      "20190107    0.739292\n",
      "20190108   -0.239301\n",
      "20190109    1.218067\n",
      "20190110   -0.206011\n"
     ]
    }
   ],
   "source": [
    "b0, b1 = model.intercept_, model.coef_\n",
    "y_pred = b0 + b1 * new_x\n",
    "y_pred.columns = ['y_pred']\n",
    "\n",
    "print('predicted response:', y_pred, sep='\\n')\n"
   ]
  },
  {
   "cell_type": "markdown",
   "metadata": {},
   "source": [
    "## 基于sklearn的多变量线性回归"
   ]
  },
  {
   "cell_type": "code",
   "execution_count": 21,
   "metadata": {},
   "outputs": [],
   "source": [
    "# 获取沪深300，中金细分有色指数，中金细分金融指数2018年全年日线数据\n",
    "index_hs300 = pro.index_daily(ts_code='399300.SZ', start_date='20180101', end_date='20190110')\n",
    "index_metal = ts.pro_bar(ts_code='000811.CSI', freq='D', asset='I', start_date='20180101', end_date='20190110')\n",
    "index_finance = ts.pro_bar(ts_code='000818.CSI', freq='D', asset='I', start_date='20180101', end_date='20190110')\n"
   ]
  },
  {
   "cell_type": "code",
   "execution_count": 22,
   "metadata": {},
   "outputs": [],
   "source": [
    "# 保留用于回归的数据，数据对齐\n",
    "# join的inner参数用于剔除指数日线数据中交易日不匹配的数据\n",
    "# 同时保留三个指数的日收益率并分别命名两组列名y_zz300, x1_metal，x2_finance，确定因变量和自变量\n",
    "index_hs300_pct_chg = index_hs300.set_index('trade_date')['pct_chg']\n",
    "index_metal_pct_chg = index_metal.set_index('trade_date')['pct_chg']\n",
    "index_finance_pct_chg = index_finance.set_index('trade_date')['pct_chg']\n",
    "df = pd.concat([index_hs300_pct_chg, index_metal_pct_chg, index_finance_pct_chg], keys=['y_hs300', 'x1_metal', 'x2_finance'], join='inner', axis=1, sort=True)\n"
   ]
  },
  {
   "cell_type": "code",
   "execution_count": 23,
   "metadata": {},
   "outputs": [],
   "source": [
    "# 选中2018年的x1，x2，y数据作为现有数据进行多变量线性回归\n",
    "df_existing_data = df[df.index < '20190101']\n",
    "\n",
    "# 提取多变量x1，x2，其数据类型为DataFrame。另外numpy需要的数据结构可以通过np.array(x)查看，也是二维数组。\n",
    "x = df_existing_data[['x1_metal', 'x2_finance']]\n",
    "y = df_existing_data['y_hs300']\n"
   ]
  },
  {
   "cell_type": "markdown",
   "metadata": {},
   "source": [
    "### 建立模型并拟合数据"
   ]
  },
  {
   "cell_type": "code",
   "execution_count": 24,
   "metadata": {},
   "outputs": [],
   "source": [
    "model = LinearRegression().fit(x, y)"
   ]
  },
  {
   "cell_type": "code",
   "execution_count": 25,
   "metadata": {},
   "outputs": [
    {
     "name": "stdout",
     "output_type": "stream",
     "text": [
      "coefficient of determination: 0.8923741832489496\n",
      "intercept: 0.0005333314305123321\n",
      "slope: [0.30529472 0.64221632]\n"
     ]
    }
   ],
   "source": [
    "r_sq = model.score(x, y)\n",
    "print('coefficient of determination:', r_sq)\n",
    "print('intercept:', model.intercept_)\n",
    "print('slope:', model.coef_)"
   ]
  },
  {
   "cell_type": "code",
   "execution_count": 26,
   "metadata": {},
   "outputs": [
    {
     "name": "stdout",
     "output_type": "stream",
     "text": [
      "predicted response:\n",
      "[-1.4716842   1.17891556  2.55034238  0.17701977 -0.81283822  0.57159138\n",
      " -0.19729323]\n"
     ]
    }
   ],
   "source": [
    "# 选中2019年前7个交易日的数据作为新数据进行预测\n",
    "df_new_data = df[df.index > '20190101']\n",
    "# 取自变量x1，x2\n",
    "new_x = df_new_data[['x1_metal', 'x2_finance']]\n",
    "# 预测\n",
    "y_pred = model.predict(new_x)\n",
    "print('predicted response:', y_pred, sep='\\n')"
   ]
  },
  {
   "cell_type": "code",
   "execution_count": 27,
   "metadata": {},
   "outputs": [
    {
     "name": "stdout",
     "output_type": "stream",
     "text": [
      "predicted response:\n",
      "trade_date\n",
      "20190102   -1.471684\n",
      "20190103    1.178916\n",
      "20190104    2.550342\n",
      "20190107    0.177020\n",
      "20190108   -0.812838\n",
      "20190109    0.571591\n",
      "20190110   -0.197293\n",
      "dtype: float64\n"
     ]
    }
   ],
   "source": [
    "y_pred = model.intercept_ + (model.coef_ * new_x).sum(axis=1)\n",
    "print('predicted response:', y_pred, sep='\\n')\n"
   ]
  },
  {
   "cell_type": "markdown",
   "metadata": {},
   "source": [
    "## 基于sklearn的多项式回归"
   ]
  },
  {
   "cell_type": "code",
   "execution_count": 28,
   "metadata": {},
   "outputs": [],
   "source": [
    "from sklearn.preprocessing import PolynomialFeatures"
   ]
  },
  {
   "cell_type": "markdown",
   "metadata": {},
   "source": [
    "### 读取数据"
   ]
  },
  {
   "cell_type": "code",
   "execution_count": 29,
   "metadata": {},
   "outputs": [],
   "source": [
    "# 获取沪深300，中金细分金融指数2018年全年日线数据及2019年前7个交易日数据\n",
    "index_hs300 = pro.index_daily(ts_code='399300.SZ', start_date='20180101', end_date='20190110')\n",
    "index_finance = ts.pro_bar(ts_code='000818.CSI', freq='D', asset='I', start_date='20180101', end_date='20190110')\n",
    "\n",
    "index_hs300_pct_chg = index_hs300.set_index('trade_date')['pct_chg']\n",
    "index_finance_pct_chg = index_finance.set_index('trade_date')['pct_chg']\n",
    "df = pd.concat([index_hs300_pct_chg, index_finance_pct_chg], keys=['y_hs300', 'x_finance'], join='inner', axis=1, sort=True)\n",
    "\n",
    "df_existing_data = df[df.index < '20190101']\n",
    "\n",
    "x = df_existing_data[['x_finance']]\n",
    "y = df_existing_data['y_hs300']"
   ]
  },
  {
   "cell_type": "markdown",
   "metadata": {},
   "source": [
    "### 自变量转换\n",
    "这个步骤是多项式回归需要执行的步骤。由于多项式回归中有x2项，因此需要将x数组转换成x2并作为新的列。\n",
    "\n",
    "\n",
    "\n",
    "\n",
    "\n",
    "有很多种转换方式，比如使用numpy中的insert()方法，或者pandas的DataFrame添加x2列。本例中使用的是PolynomialFeatures类："
   ]
  },
  {
   "cell_type": "code",
   "execution_count": 30,
   "metadata": {},
   "outputs": [],
   "source": [
    "transformer = PolynomialFeatures(degree=2, include_bias=False)\n"
   ]
  },
  {
   "cell_type": "markdown",
   "metadata": {},
   "source": [
    "transformer是PolynomialFeatures类的实例，用于对自变量x进行转换。\n",
    "\n",
    "PolynomialFeatures类中有以下几个可选参数：\n",
    "\n",
    "\n",
    "\n",
    " \n",
    "\n",
    "degree：整型，默认为2。用于决定线性回归模型的阶数。\n",
    "\n",
    "interaction_only：布尔值，默认为False。如果指定为True，那么就不会有xi2项，只有如xixj的交叉项。\n",
    "\n",
    "include_bias：布尔值，默认为True。此参数决定是否将截距项添加为回归模型中的一项，即增加一列值为1的列。False表示不添加。\n",
    "\n",
    "\n",
    "\n",
    "\n",
    "\n",
    "先将自变量x数据传入转换器transformer中："
   ]
  },
  {
   "cell_type": "code",
   "execution_count": 31,
   "metadata": {},
   "outputs": [
    {
     "data": {
      "text/plain": [
       "PolynomialFeatures(degree=2, include_bias=False, interaction_only=False)"
      ]
     },
     "execution_count": 31,
     "metadata": {},
     "output_type": "execute_result"
    }
   ],
   "source": [
    "transformer.fit(x)"
   ]
  },
  {
   "cell_type": "code",
   "execution_count": 35,
   "metadata": {},
   "outputs": [
    {
     "data": {
      "text/plain": [
       "array([[ 1.6890000e+00,  2.8527210e+00],\n",
       "       [-4.5800000e-02,  2.0976400e-03],\n",
       "       [-3.2760000e-01,  1.0732176e-01],\n",
       "       [ 1.3910000e-01,  1.9348810e-02],\n",
       "       [ 5.2900000e-02,  2.7984100e-03]])"
      ]
     },
     "execution_count": 35,
     "metadata": {},
     "output_type": "execute_result"
    }
   ],
   "source": [
    "x_ = transformer.transform(x)\n",
    "x_[:5]"
   ]
  },
  {
   "cell_type": "markdown",
   "metadata": {},
   "source": [
    "### 建立模型并拟合数据\n",
    "\n"
   ]
  },
  {
   "cell_type": "code",
   "execution_count": 36,
   "metadata": {},
   "outputs": [],
   "source": [
    "model = LinearRegression().fit(x_, y)\n"
   ]
  },
  {
   "cell_type": "code",
   "execution_count": 37,
   "metadata": {},
   "outputs": [
    {
     "name": "stdout",
     "output_type": "stream",
     "text": [
      "coefficient of determination: 0.8133705974408868\n",
      "intercept: -0.013957549345282719\n",
      "coefficients: [ 0.86215933 -0.01444605]\n"
     ]
    }
   ],
   "source": [
    "r_sq = model.score(x_, y)\n",
    "print('coefficient of determination:', r_sq)\n",
    "print('intercept:', model.intercept_)\n",
    "print('coefficients:', model.coef_)"
   ]
  },
  {
   "cell_type": "markdown",
   "metadata": {},
   "source": [
    "## statsmodels库的线性回归应用"
   ]
  },
  {
   "cell_type": "code",
   "execution_count": 38,
   "metadata": {},
   "outputs": [],
   "source": [
    "import statsmodels.api as sm"
   ]
  },
  {
   "cell_type": "code",
   "execution_count": 39,
   "metadata": {},
   "outputs": [
    {
     "ename": "KeyError",
     "evalue": "\"None of [Index(['x1_metal', 'x2_finance'], dtype='object')] are in the [columns]\"",
     "output_type": "error",
     "traceback": [
      "\u001b[0;31m---------------------------------------------------------------------------\u001b[0m",
      "\u001b[0;31mKeyError\u001b[0m                                  Traceback (most recent call last)",
      "\u001b[0;32m<ipython-input-39-32b96f7b971c>\u001b[0m in \u001b[0;36m<module>\u001b[0;34m\u001b[0m\n\u001b[0;32m----> 1\u001b[0;31m \u001b[0mx\u001b[0m \u001b[0;34m=\u001b[0m \u001b[0mdf_existing_data\u001b[0m\u001b[0;34m[\u001b[0m\u001b[0;34m[\u001b[0m\u001b[0;34m'x1_metal'\u001b[0m\u001b[0;34m,\u001b[0m \u001b[0;34m'x2_finance'\u001b[0m\u001b[0;34m]\u001b[0m\u001b[0;34m]\u001b[0m\u001b[0;34m\u001b[0m\u001b[0;34m\u001b[0m\u001b[0m\n\u001b[0m\u001b[1;32m      2\u001b[0m \u001b[0my\u001b[0m \u001b[0;34m=\u001b[0m \u001b[0mdf_existing_data\u001b[0m\u001b[0;34m[\u001b[0m\u001b[0;34m'y_hs300'\u001b[0m\u001b[0;34m]\u001b[0m\u001b[0;34m\u001b[0m\u001b[0;34m\u001b[0m\u001b[0m\n",
      "\u001b[0;32m~/anaconda3/lib/python3.7/site-packages/pandas/core/frame.py\u001b[0m in \u001b[0;36m__getitem__\u001b[0;34m(self, key)\u001b[0m\n\u001b[1;32m   2932\u001b[0m                 \u001b[0mkey\u001b[0m \u001b[0;34m=\u001b[0m \u001b[0mlist\u001b[0m\u001b[0;34m(\u001b[0m\u001b[0mkey\u001b[0m\u001b[0;34m)\u001b[0m\u001b[0;34m\u001b[0m\u001b[0;34m\u001b[0m\u001b[0m\n\u001b[1;32m   2933\u001b[0m             indexer = self.loc._convert_to_indexer(key, axis=1,\n\u001b[0;32m-> 2934\u001b[0;31m                                                    raise_missing=True)\n\u001b[0m\u001b[1;32m   2935\u001b[0m \u001b[0;34m\u001b[0m\u001b[0m\n\u001b[1;32m   2936\u001b[0m         \u001b[0;31m# take() does not accept boolean indexers\u001b[0m\u001b[0;34m\u001b[0m\u001b[0;34m\u001b[0m\u001b[0;34m\u001b[0m\u001b[0m\n",
      "\u001b[0;32m~/anaconda3/lib/python3.7/site-packages/pandas/core/indexing.py\u001b[0m in \u001b[0;36m_convert_to_indexer\u001b[0;34m(self, obj, axis, is_setter, raise_missing)\u001b[0m\n\u001b[1;32m   1352\u001b[0m                 kwargs = {'raise_missing': True if is_setter else\n\u001b[1;32m   1353\u001b[0m                           raise_missing}\n\u001b[0;32m-> 1354\u001b[0;31m                 \u001b[0;32mreturn\u001b[0m \u001b[0mself\u001b[0m\u001b[0;34m.\u001b[0m\u001b[0m_get_listlike_indexer\u001b[0m\u001b[0;34m(\u001b[0m\u001b[0mobj\u001b[0m\u001b[0;34m,\u001b[0m \u001b[0maxis\u001b[0m\u001b[0;34m,\u001b[0m \u001b[0;34m**\u001b[0m\u001b[0mkwargs\u001b[0m\u001b[0;34m)\u001b[0m\u001b[0;34m[\u001b[0m\u001b[0;36m1\u001b[0m\u001b[0;34m]\u001b[0m\u001b[0;34m\u001b[0m\u001b[0;34m\u001b[0m\u001b[0m\n\u001b[0m\u001b[1;32m   1355\u001b[0m         \u001b[0;32melse\u001b[0m\u001b[0;34m:\u001b[0m\u001b[0;34m\u001b[0m\u001b[0;34m\u001b[0m\u001b[0m\n\u001b[1;32m   1356\u001b[0m             \u001b[0;32mtry\u001b[0m\u001b[0;34m:\u001b[0m\u001b[0;34m\u001b[0m\u001b[0;34m\u001b[0m\u001b[0m\n",
      "\u001b[0;32m~/anaconda3/lib/python3.7/site-packages/pandas/core/indexing.py\u001b[0m in \u001b[0;36m_get_listlike_indexer\u001b[0;34m(self, key, axis, raise_missing)\u001b[0m\n\u001b[1;32m   1159\u001b[0m         self._validate_read_indexer(keyarr, indexer,\n\u001b[1;32m   1160\u001b[0m                                     \u001b[0mo\u001b[0m\u001b[0;34m.\u001b[0m\u001b[0m_get_axis_number\u001b[0m\u001b[0;34m(\u001b[0m\u001b[0maxis\u001b[0m\u001b[0;34m)\u001b[0m\u001b[0;34m,\u001b[0m\u001b[0;34m\u001b[0m\u001b[0;34m\u001b[0m\u001b[0m\n\u001b[0;32m-> 1161\u001b[0;31m                                     raise_missing=raise_missing)\n\u001b[0m\u001b[1;32m   1162\u001b[0m         \u001b[0;32mreturn\u001b[0m \u001b[0mkeyarr\u001b[0m\u001b[0;34m,\u001b[0m \u001b[0mindexer\u001b[0m\u001b[0;34m\u001b[0m\u001b[0;34m\u001b[0m\u001b[0m\n\u001b[1;32m   1163\u001b[0m \u001b[0;34m\u001b[0m\u001b[0m\n",
      "\u001b[0;32m~/anaconda3/lib/python3.7/site-packages/pandas/core/indexing.py\u001b[0m in \u001b[0;36m_validate_read_indexer\u001b[0;34m(self, key, indexer, axis, raise_missing)\u001b[0m\n\u001b[1;32m   1244\u001b[0m                 raise KeyError(\n\u001b[1;32m   1245\u001b[0m                     u\"None of [{key}] are in the [{axis}]\".format(\n\u001b[0;32m-> 1246\u001b[0;31m                         key=key, axis=self.obj._get_axis_name(axis)))\n\u001b[0m\u001b[1;32m   1247\u001b[0m \u001b[0;34m\u001b[0m\u001b[0m\n\u001b[1;32m   1248\u001b[0m             \u001b[0;31m# We (temporarily) allow for some missing keys with .loc, except in\u001b[0m\u001b[0;34m\u001b[0m\u001b[0;34m\u001b[0m\u001b[0;34m\u001b[0m\u001b[0m\n",
      "\u001b[0;31mKeyError\u001b[0m: \"None of [Index(['x1_metal', 'x2_finance'], dtype='object')] are in the [columns]\""
     ]
    }
   ],
   "source": [
    "x = df_existing_data[['x1_metal', 'x2_finance']]\n",
    "y = df_existing_data['y_hs300']"
   ]
  },
  {
   "cell_type": "code",
   "execution_count": null,
   "metadata": {},
   "outputs": [],
   "source": []
  }
 ],
 "metadata": {
  "kernelspec": {
   "display_name": "Python 3",
   "language": "python",
   "name": "python3"
  },
  "language_info": {
   "codemirror_mode": {
    "name": "ipython",
    "version": 3
   },
   "file_extension": ".py",
   "mimetype": "text/x-python",
   "name": "python",
   "nbconvert_exporter": "python",
   "pygments_lexer": "ipython3",
   "version": "3.7.3"
  },
  "toc": {
   "base_numbering": 1,
   "nav_menu": {},
   "number_sections": true,
   "sideBar": true,
   "skip_h1_title": false,
   "title_cell": "Table of Contents",
   "title_sidebar": "Contents",
   "toc_cell": false,
   "toc_position": {},
   "toc_section_display": true,
   "toc_window_display": true
  }
 },
 "nbformat": 4,
 "nbformat_minor": 2
}
