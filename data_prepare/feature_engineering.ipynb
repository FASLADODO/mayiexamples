{
 "cells": [
  {
   "cell_type": "markdown",
   "metadata": {},
   "source": [
    "# Automated Feature Engineering"
   ]
  },
  {
   "cell_type": "markdown",
   "metadata": {},
   "source": [
    "https://github.com/WillKoehrsen/automated-feature-engineering"
   ]
  },
  {
   "cell_type": "markdown",
   "metadata": {},
   "source": [
    "In this notebook, we will walk through an implementation of using [Featuretools](https://www.featuretools.com/), an open-source Python library for automatically creating features with relational data (where the data is in structured tables). Although there are now many efforts working to enable automated model selection and hyperparameter tuning, there has been a lack of automating work on the feature engineering aspect of the pipeline. This library seeks to close that gap and the general methodology has been proven effective in both [machine learning competitions with the data science machine](https://github.com/HDI-Project/Data-Science-Machine) and [business use cases](https://www.featurelabs.com/blog/predicting-credit-card-fraud/). "
   ]
  },
  {
   "cell_type": "markdown",
   "metadata": {},
   "source": [
    "## Dataset\n",
    "\n",
    "To show the basic idea of featuretools we will use an example dataset consisting of three tables:\n",
    "\n",
    "* `clients`: information about clients at a credit union\n",
    "* `loans`: previous loans taken out by the clients\n",
    "* `payments`: payments made/missed on the previous loans\n",
    "\n",
    "The general problem of feature engineering is taking disparate data, often distributed across multiple tables, and combining it into a single table that can be used for training a machine learning model. Featuretools has the ability to do this for us, creating many new candidate features with minimal effort. These features are combined into a single table that can then be passed on to our model. \n",
    "\n",
    "First, let's load in the data and look at the problem we are working with."
   ]
  },
  {
   "cell_type": "code",
   "execution_count": 1,
   "metadata": {
    "collapsed": true
   },
   "outputs": [
    {
     "name": "stdout",
     "output_type": "stream",
     "text": [
      "Collecting featuretools\n",
      "\u001b[?25l  Downloading https://files.pythonhosted.org/packages/52/5f/57c526a0ea506b29a0029f234f09b1fcbf4dbb1e32a1996fe5228d2b2833/featuretools-0.9.1-py3-none-any.whl (221kB)\n",
      "\u001b[K     |████████████████████████████████| 225kB 16kB/s eta 0:00:011\n",
      "\u001b[?25hRequirement already satisfied, skipping upgrade: distributed>=1.24.2; python_version >= \"3\" in /Users/luoyonggui/anaconda3/lib/python3.7/site-packages (from featuretools) (1.26.0)\n",
      "Requirement already satisfied, skipping upgrade: cloudpickle>=0.4.0 in /Users/luoyonggui/anaconda3/lib/python3.7/site-packages (from featuretools) (1.2.1)\n",
      "Requirement already satisfied, skipping upgrade: future>=0.16.0 in /Users/luoyonggui/anaconda3/lib/python3.7/site-packages (from featuretools) (0.17.1)\n",
      "Requirement already satisfied, skipping upgrade: scikit-learn>=0.20.0; python_version >= \"3\" in /Users/luoyonggui/anaconda3/lib/python3.7/site-packages (from featuretools) (0.20.3)\n",
      "Requirement already satisfied, skipping upgrade: numpy>=1.13.3 in /Users/luoyonggui/anaconda3/lib/python3.7/site-packages (from featuretools) (1.14.4)\n",
      "Requirement already satisfied, skipping upgrade: pandas>=0.23.0 in /Users/luoyonggui/anaconda3/lib/python3.7/site-packages (from featuretools) (0.24.2)\n",
      "Requirement already satisfied, skipping upgrade: tqdm>=4.19.2 in /Users/luoyonggui/anaconda3/lib/python3.7/site-packages (from featuretools) (4.31.1)\n",
      "Requirement already satisfied, skipping upgrade: dask>=1.1.0; python_version >= \"3\" in /Users/luoyonggui/anaconda3/lib/python3.7/site-packages (from featuretools) (1.2.2)\n",
      "Requirement already satisfied, skipping upgrade: toolz>=0.8.2 in /Users/luoyonggui/anaconda3/lib/python3.7/site-packages (from featuretools) (0.9.0)\n",
      "Requirement already satisfied, skipping upgrade: click>=7.0.0 in /Users/luoyonggui/anaconda3/lib/python3.7/site-packages (from featuretools) (7.0)\n",
      "Requirement already satisfied, skipping upgrade: pyyaml>=3.12 in /Users/luoyonggui/anaconda3/lib/python3.7/site-packages (from featuretools) (5.1)\n",
      "Requirement already satisfied, skipping upgrade: psutil>=5.4.8 in /Users/luoyonggui/anaconda3/lib/python3.7/site-packages (from featuretools) (5.6.1)\n",
      "Requirement already satisfied, skipping upgrade: msgpack in /Users/luoyonggui/anaconda3/lib/python3.7/site-packages (from distributed>=1.24.2; python_version >= \"3\"->featuretools) (0.6.1)\n",
      "Requirement already satisfied, skipping upgrade: six in /Users/luoyonggui/anaconda3/lib/python3.7/site-packages (from distributed>=1.24.2; python_version >= \"3\"->featuretools) (1.12.0)\n",
      "Requirement already satisfied, skipping upgrade: sortedcontainers!=2.0.0,!=2.0.1 in /Users/luoyonggui/anaconda3/lib/python3.7/site-packages (from distributed>=1.24.2; python_version >= \"3\"->featuretools) (2.1.0)\n",
      "Requirement already satisfied, skipping upgrade: tblib in /Users/luoyonggui/anaconda3/lib/python3.7/site-packages (from distributed>=1.24.2; python_version >= \"3\"->featuretools) (1.3.2)\n",
      "Requirement already satisfied, skipping upgrade: tornado>=5 in /Users/luoyonggui/anaconda3/lib/python3.7/site-packages (from distributed>=1.24.2; python_version >= \"3\"->featuretools) (6.0.2)\n",
      "Requirement already satisfied, skipping upgrade: zict>=0.1.3 in /Users/luoyonggui/anaconda3/lib/python3.7/site-packages (from distributed>=1.24.2; python_version >= \"3\"->featuretools) (0.1.4)\n",
      "Requirement already satisfied, skipping upgrade: scipy>=0.13.3 in /Users/luoyonggui/anaconda3/lib/python3.7/site-packages (from scikit-learn>=0.20.0; python_version >= \"3\"->featuretools) (1.1.0)\n",
      "Requirement already satisfied, skipping upgrade: pytz>=2011k in /Users/luoyonggui/anaconda3/lib/python3.7/site-packages (from pandas>=0.23.0->featuretools) (2018.9)\n",
      "Requirement already satisfied, skipping upgrade: python-dateutil>=2.5.0 in /Users/luoyonggui/anaconda3/lib/python3.7/site-packages (from pandas>=0.23.0->featuretools) (2.8.0)\n",
      "Requirement already satisfied, skipping upgrade: heapdict in /Users/luoyonggui/anaconda3/lib/python3.7/site-packages (from zict>=0.1.3->distributed>=1.24.2; python_version >= \"3\"->featuretools) (1.0.0)\n",
      "Installing collected packages: featuretools\n",
      "  Found existing installation: featuretools 0.7.0\n",
      "    Uninstalling featuretools-0.7.0:\n",
      "      Successfully uninstalled featuretools-0.7.0\n",
      "Successfully installed featuretools-0.9.1\n"
     ]
    }
   ],
   "source": [
    "# !pip install -U featuretools"
   ]
  },
  {
   "cell_type": "code",
   "execution_count": 2,
   "metadata": {},
   "outputs": [],
   "source": [
    "# pandas and numpy for data manipulation\n",
    "import pandas as pd\n",
    "import numpy as np\n",
    "\n",
    "# featuretools for automated feature engineering\n",
    "import featuretools as ft\n",
    "\n",
    "# ignore warnings from pandas\n",
    "# import warnings\n",
    "# warnings.filterwarnings('ignore')"
   ]
  },
  {
   "cell_type": "code",
   "execution_count": 3,
   "metadata": {},
   "outputs": [],
   "source": [
    "# Read in the data\n",
    "clients = pd.read_csv('data/clients.csv', parse_dates = ['joined'])\n",
    "loans = pd.read_csv('data/loans.csv', parse_dates = ['loan_start', 'loan_end'])\n",
    "payments = pd.read_csv('data/payments.csv', parse_dates = ['payment_date'])"
   ]
  },
  {
   "cell_type": "code",
   "execution_count": 4,
   "metadata": {},
   "outputs": [
    {
     "data": {
      "text/html": [
       "<div>\n",
       "<style scoped>\n",
       "    .dataframe tbody tr th:only-of-type {\n",
       "        vertical-align: middle;\n",
       "    }\n",
       "\n",
       "    .dataframe tbody tr th {\n",
       "        vertical-align: top;\n",
       "    }\n",
       "\n",
       "    .dataframe thead th {\n",
       "        text-align: right;\n",
       "    }\n",
       "</style>\n",
       "<table border=\"1\" class=\"dataframe\">\n",
       "  <thead>\n",
       "    <tr style=\"text-align: right;\">\n",
       "      <th></th>\n",
       "      <th>client_id</th>\n",
       "      <th>joined</th>\n",
       "      <th>income</th>\n",
       "      <th>credit_score</th>\n",
       "    </tr>\n",
       "  </thead>\n",
       "  <tbody>\n",
       "    <tr>\n",
       "      <th>0</th>\n",
       "      <td>46109</td>\n",
       "      <td>2002-04-16</td>\n",
       "      <td>172677</td>\n",
       "      <td>527</td>\n",
       "    </tr>\n",
       "    <tr>\n",
       "      <th>1</th>\n",
       "      <td>49545</td>\n",
       "      <td>2007-11-14</td>\n",
       "      <td>104564</td>\n",
       "      <td>770</td>\n",
       "    </tr>\n",
       "    <tr>\n",
       "      <th>2</th>\n",
       "      <td>41480</td>\n",
       "      <td>2013-03-11</td>\n",
       "      <td>122607</td>\n",
       "      <td>585</td>\n",
       "    </tr>\n",
       "    <tr>\n",
       "      <th>3</th>\n",
       "      <td>46180</td>\n",
       "      <td>2001-11-06</td>\n",
       "      <td>43851</td>\n",
       "      <td>562</td>\n",
       "    </tr>\n",
       "    <tr>\n",
       "      <th>4</th>\n",
       "      <td>25707</td>\n",
       "      <td>2006-10-06</td>\n",
       "      <td>211422</td>\n",
       "      <td>621</td>\n",
       "    </tr>\n",
       "  </tbody>\n",
       "</table>\n",
       "</div>"
      ],
      "text/plain": [
       "   client_id     joined  income  credit_score\n",
       "0      46109 2002-04-16  172677           527\n",
       "1      49545 2007-11-14  104564           770\n",
       "2      41480 2013-03-11  122607           585\n",
       "3      46180 2001-11-06   43851           562\n",
       "4      25707 2006-10-06  211422           621"
      ]
     },
     "execution_count": 4,
     "metadata": {},
     "output_type": "execute_result"
    }
   ],
   "source": [
    "clients.head()"
   ]
  },
  {
   "cell_type": "code",
   "execution_count": 5,
   "metadata": {},
   "outputs": [
    {
     "data": {
      "text/html": [
       "<div>\n",
       "<style scoped>\n",
       "    .dataframe tbody tr th:only-of-type {\n",
       "        vertical-align: middle;\n",
       "    }\n",
       "\n",
       "    .dataframe tbody tr th {\n",
       "        vertical-align: top;\n",
       "    }\n",
       "\n",
       "    .dataframe thead th {\n",
       "        text-align: right;\n",
       "    }\n",
       "</style>\n",
       "<table border=\"1\" class=\"dataframe\">\n",
       "  <thead>\n",
       "    <tr style=\"text-align: right;\">\n",
       "      <th></th>\n",
       "      <th>client_id</th>\n",
       "      <th>loan_type</th>\n",
       "      <th>loan_amount</th>\n",
       "      <th>repaid</th>\n",
       "      <th>loan_id</th>\n",
       "      <th>loan_start</th>\n",
       "      <th>loan_end</th>\n",
       "      <th>rate</th>\n",
       "    </tr>\n",
       "  </thead>\n",
       "  <tbody>\n",
       "    <tr>\n",
       "      <th>284</th>\n",
       "      <td>32885</td>\n",
       "      <td>cash</td>\n",
       "      <td>12291</td>\n",
       "      <td>1</td>\n",
       "      <td>10198</td>\n",
       "      <td>2012-03-28</td>\n",
       "      <td>2014-08-14</td>\n",
       "      <td>1.16</td>\n",
       "    </tr>\n",
       "    <tr>\n",
       "      <th>112</th>\n",
       "      <td>39505</td>\n",
       "      <td>credit</td>\n",
       "      <td>10436</td>\n",
       "      <td>0</td>\n",
       "      <td>10509</td>\n",
       "      <td>2007-06-15</td>\n",
       "      <td>2009-03-02</td>\n",
       "      <td>1.34</td>\n",
       "    </tr>\n",
       "    <tr>\n",
       "      <th>205</th>\n",
       "      <td>26326</td>\n",
       "      <td>home</td>\n",
       "      <td>12760</td>\n",
       "      <td>0</td>\n",
       "      <td>11708</td>\n",
       "      <td>2003-12-11</td>\n",
       "      <td>2006-04-13</td>\n",
       "      <td>5.43</td>\n",
       "    </tr>\n",
       "    <tr>\n",
       "      <th>440</th>\n",
       "      <td>26945</td>\n",
       "      <td>other</td>\n",
       "      <td>9329</td>\n",
       "      <td>0</td>\n",
       "      <td>10154</td>\n",
       "      <td>2001-12-17</td>\n",
       "      <td>2004-07-22</td>\n",
       "      <td>5.65</td>\n",
       "    </tr>\n",
       "    <tr>\n",
       "      <th>96</th>\n",
       "      <td>25707</td>\n",
       "      <td>other</td>\n",
       "      <td>11467</td>\n",
       "      <td>1</td>\n",
       "      <td>11499</td>\n",
       "      <td>2011-10-27</td>\n",
       "      <td>2014-01-09</td>\n",
       "      <td>4.56</td>\n",
       "    </tr>\n",
       "  </tbody>\n",
       "</table>\n",
       "</div>"
      ],
      "text/plain": [
       "     client_id loan_type  loan_amount  repaid  loan_id loan_start   loan_end  \\\n",
       "284      32885      cash        12291       1    10198 2012-03-28 2014-08-14   \n",
       "112      39505    credit        10436       0    10509 2007-06-15 2009-03-02   \n",
       "205      26326      home        12760       0    11708 2003-12-11 2006-04-13   \n",
       "440      26945     other         9329       0    10154 2001-12-17 2004-07-22   \n",
       "96       25707     other        11467       1    11499 2011-10-27 2014-01-09   \n",
       "\n",
       "     rate  \n",
       "284  1.16  \n",
       "112  1.34  \n",
       "205  5.43  \n",
       "440  5.65  \n",
       "96   4.56  "
      ]
     },
     "execution_count": 5,
     "metadata": {},
     "output_type": "execute_result"
    }
   ],
   "source": [
    "loans.sample(5)"
   ]
  },
  {
   "cell_type": "code",
   "execution_count": 6,
   "metadata": {},
   "outputs": [
    {
     "data": {
      "text/html": [
       "<div>\n",
       "<style scoped>\n",
       "    .dataframe tbody tr th:only-of-type {\n",
       "        vertical-align: middle;\n",
       "    }\n",
       "\n",
       "    .dataframe tbody tr th {\n",
       "        vertical-align: top;\n",
       "    }\n",
       "\n",
       "    .dataframe thead th {\n",
       "        text-align: right;\n",
       "    }\n",
       "</style>\n",
       "<table border=\"1\" class=\"dataframe\">\n",
       "  <thead>\n",
       "    <tr style=\"text-align: right;\">\n",
       "      <th></th>\n",
       "      <th>loan_id</th>\n",
       "      <th>payment_amount</th>\n",
       "      <th>payment_date</th>\n",
       "      <th>missed</th>\n",
       "    </tr>\n",
       "  </thead>\n",
       "  <tbody>\n",
       "    <tr>\n",
       "      <th>550</th>\n",
       "      <td>11649</td>\n",
       "      <td>1995</td>\n",
       "      <td>2006-05-02</td>\n",
       "      <td>1</td>\n",
       "    </tr>\n",
       "    <tr>\n",
       "      <th>2750</th>\n",
       "      <td>11728</td>\n",
       "      <td>444</td>\n",
       "      <td>2002-09-20</td>\n",
       "      <td>1</td>\n",
       "    </tr>\n",
       "    <tr>\n",
       "      <th>2104</th>\n",
       "      <td>10116</td>\n",
       "      <td>937</td>\n",
       "      <td>2001-10-06</td>\n",
       "      <td>1</td>\n",
       "    </tr>\n",
       "    <tr>\n",
       "      <th>2720</th>\n",
       "      <td>10612</td>\n",
       "      <td>407</td>\n",
       "      <td>2005-01-05</td>\n",
       "      <td>1</td>\n",
       "    </tr>\n",
       "    <tr>\n",
       "      <th>2057</th>\n",
       "      <td>10732</td>\n",
       "      <td>834</td>\n",
       "      <td>2003-10-24</td>\n",
       "      <td>0</td>\n",
       "    </tr>\n",
       "  </tbody>\n",
       "</table>\n",
       "</div>"
      ],
      "text/plain": [
       "      loan_id  payment_amount payment_date  missed\n",
       "550     11649            1995   2006-05-02       1\n",
       "2750    11728             444   2002-09-20       1\n",
       "2104    10116             937   2001-10-06       1\n",
       "2720    10612             407   2005-01-05       1\n",
       "2057    10732             834   2003-10-24       0"
      ]
     },
     "execution_count": 6,
     "metadata": {},
     "output_type": "execute_result"
    }
   ],
   "source": [
    "payments.sample(5)"
   ]
  },
  {
   "cell_type": "code",
   "execution_count": null,
   "metadata": {},
   "outputs": [],
   "source": []
  }
 ],
 "metadata": {
  "kernelspec": {
   "display_name": "Python 3",
   "language": "python",
   "name": "python3"
  },
  "language_info": {
   "codemirror_mode": {
    "name": "ipython",
    "version": 3
   },
   "file_extension": ".py",
   "mimetype": "text/x-python",
   "name": "python",
   "nbconvert_exporter": "python",
   "pygments_lexer": "ipython3",
   "version": "3.7.3"
  },
  "toc": {
   "base_numbering": 1,
   "nav_menu": {},
   "number_sections": true,
   "sideBar": true,
   "skip_h1_title": false,
   "title_cell": "Table of Contents",
   "title_sidebar": "Contents",
   "toc_cell": false,
   "toc_position": {},
   "toc_section_display": true,
   "toc_window_display": true
  }
 },
 "nbformat": 4,
 "nbformat_minor": 2
}
