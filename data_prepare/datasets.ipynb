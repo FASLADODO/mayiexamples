{
 "cells": [
  {
   "cell_type": "markdown",
   "metadata": {},
   "source": [
    "# 生成符合要求的假数据"
   ]
  },
  {
   "cell_type": "code",
   "execution_count": 1,
   "metadata": {},
   "outputs": [],
   "source": [
    "from sklearn.datasets import make_moons, make_blobs"
   ]
  },
  {
   "cell_type": "code",
   "execution_count": 10,
   "metadata": {},
   "outputs": [],
   "source": [
    "import pandas as pd"
   ]
  },
  {
   "cell_type": "code",
   "execution_count": 3,
   "metadata": {},
   "outputs": [],
   "source": [
    "blobs_params = dict(random_state=0, n_samples=250, n_features=2)"
   ]
  },
  {
   "cell_type": "markdown",
   "metadata": {},
   "source": [
    "## 生成各向同性高斯团簇"
   ]
  },
  {
   "cell_type": "code",
   "execution_count": 6,
   "metadata": {},
   "outputs": [],
   "source": [
    "X, y = make_blobs(centers=[[0, 0], [0, 0]], cluster_std=0.5, **blobs_params)\n"
   ]
  },
  {
   "cell_type": "code",
   "execution_count": 12,
   "metadata": {
    "scrolled": true
   },
   "outputs": [
    {
     "data": {
      "text/plain": [
       "((250, 2), (250,))"
      ]
     },
     "execution_count": 12,
     "metadata": {},
     "output_type": "execute_result"
    }
   ],
   "source": [
    "X.shape, y.shape"
   ]
  },
  {
   "cell_type": "code",
   "execution_count": 11,
   "metadata": {},
   "outputs": [
    {
     "data": {
      "text/plain": [
       "1    125\n",
       "0    125\n",
       "dtype: int64"
      ]
     },
     "execution_count": 11,
     "metadata": {},
     "output_type": "execute_result"
    }
   ],
   "source": [
    "pd.Series(y).value_counts()"
   ]
  },
  {
   "cell_type": "code",
   "execution_count": 5,
   "metadata": {},
   "outputs": [],
   "source": [
    "import matplotlib.pyplot as plt"
   ]
  },
  {
   "cell_type": "code",
   "execution_count": 9,
   "metadata": {},
   "outputs": [
    {
     "data": {
      "text/plain": [
       "[<matplotlib.lines.Line2D at 0x11899c6d8>]"
      ]
     },
     "execution_count": 9,
     "metadata": {},
     "output_type": "execute_result"
    },
    {
     "data": {
      "image/png": "[encoded data removed]",
      "text/plain": [
       "<Figure size 432x288 with 1 Axes>"
      ]
     },
     "metadata": {
      "needs_background": "light"
     },
     "output_type": "display_data"
    }
   ],
   "source": [
    "plt.plot(X[:, 0], X[:, 1], 'bo')"
   ]
  },
  {
   "cell_type": "code",
   "execution_count": 13,
   "metadata": {},
   "outputs": [],
   "source": [
    "X, y = make_blobs(centers=[[2, 2], [-2, -2]], cluster_std=[0.5, 0.5],\n",
    "               **blobs_params)"
   ]
  },
  {
   "cell_type": "code",
   "execution_count": 14,
   "metadata": {},
   "outputs": [
    {
     "data": {
      "text/plain": [
       "((250, 2), (250,))"
      ]
     },
     "execution_count": 14,
     "metadata": {},
     "output_type": "execute_result"
    }
   ],
   "source": [
    "X.shape, y.shape"
   ]
  },
  {
   "cell_type": "code",
   "execution_count": 16,
   "metadata": {},
   "outputs": [
    {
     "data": {
      "text/plain": [
       "1    125\n",
       "0    125\n",
       "dtype: int64"
      ]
     },
     "execution_count": 16,
     "metadata": {},
     "output_type": "execute_result"
    }
   ],
   "source": [
    "pd.Series(y).value_counts()"
   ]
  },
  {
   "cell_type": "code",
   "execution_count": 15,
   "metadata": {},
   "outputs": [
    {
     "data": {
      "text/plain": [
       "[<matplotlib.lines.Line2D at 0x11cd40e10>]"
      ]
     },
     "execution_count": 15,
     "metadata": {},
     "output_type": "execute_result"
    },
    {
     "data": {
      "image/png": "[encoded data removed]",
      "text/plain": [
       "<Figure size 432x288 with 1 Axes>"
      ]
     },
     "metadata": {
      "needs_background": "light"
     },
     "output_type": "display_data"
    }
   ],
   "source": [
    "plt.plot(X[:, 0], X[:, 1], 'bo')"
   ]
  },
  {
   "cell_type": "code",
   "execution_count": 17,
   "metadata": {},
   "outputs": [],
   "source": [
    "X, y = make_blobs(centers=[[2, 2], [-2, -2]], cluster_std=[1.5, 0.3],\n",
    "               **blobs_params)"
   ]
  },
  {
   "cell_type": "code",
   "execution_count": 18,
   "metadata": {},
   "outputs": [
    {
     "data": {
      "text/plain": [
       "((250, 2), (250,))"
      ]
     },
     "execution_count": 18,
     "metadata": {},
     "output_type": "execute_result"
    }
   ],
   "source": [
    "X.shape, y.shape"
   ]
  },
  {
   "cell_type": "code",
   "execution_count": 19,
   "metadata": {},
   "outputs": [
    {
     "data": {
      "text/plain": [
       "1    125\n",
       "0    125\n",
       "dtype: int64"
      ]
     },
     "execution_count": 19,
     "metadata": {},
     "output_type": "execute_result"
    }
   ],
   "source": [
    "pd.Series(y).value_counts()"
   ]
  },
  {
   "cell_type": "code",
   "execution_count": 20,
   "metadata": {},
   "outputs": [
    {
     "data": {
      "text/plain": [
       "[<matplotlib.lines.Line2D at 0x11d23cac8>]"
      ]
     },
     "execution_count": 20,
     "metadata": {},
     "output_type": "execute_result"
    },
    {
     "data": {
      "image/png": "[encoded data removed]",
      "text/plain": [
       "<Figure size 432x288 with 1 Axes>"
      ]
     },
     "metadata": {
      "needs_background": "light"
     },
     "output_type": "display_data"
    }
   ],
   "source": [
    "plt.plot(X[:, 0], X[:, 1], 'bo')"
   ]
  },
  {
   "cell_type": "markdown",
   "metadata": {},
   "source": [
    "# Faker\n",
    "https://mp.weixin.qq.com/s/iLjr95uqgTclxYfWWNxrAA  \n",
    "还有更多的内容大家可以参考官方文档，链接：https://faker.readthedocs.io/。  \n",
    "在 Python 中有个神库，叫做 Faker，它可以自动帮我们来生成各种各样的看起来很真的”假“数据，让我们来看看吧！"
   ]
  },
  {
   "cell_type": "code",
   "execution_count": 3,
   "metadata": {},
   "outputs": [
    {
     "name": "stdout",
     "output_type": "stream",
     "text": [
      "Faker==2.0.0\r\n"
     ]
    }
   ],
   "source": [
    "# !pip install faker\n",
    "!pip freeze | grep Faker"
   ]
  },
  {
   "cell_type": "markdown",
   "metadata": {},
   "source": [
    "# examples"
   ]
  },
  {
   "cell_type": "code",
   "execution_count": 4,
   "metadata": {},
   "outputs": [
    {
     "name": "stdout",
     "output_type": "stream",
     "text": [
      "name: David Shields\n",
      "address: 508 Mathis Estates Suite 102\n",
      "Lake Willieshire, VT 03219\n",
      "text: Daughter available dream. Senior heavy walk her follow.\n",
      "Child option nice however do change detail. Although animal later only become.\n"
     ]
    }
   ],
   "source": [
    "from faker import Faker\n",
    "\n",
    "faker = Faker()\n",
    "print('name:', faker.name())\n",
    "print('address:', faker.address())\n",
    "print('text:', faker.text())"
   ]
  },
  {
   "cell_type": "markdown",
   "metadata": {},
   "source": [
    "但我们是中国人，我们肯定想要生成中文的吧，不用担心，这个库对非常多的语言都有支持，当然也包括中文了，具体的支持的语言列表可以见：https://faker.readthedocs.io/en/master/locales.html。\n",
    "\n",
    "这里几个比较常见的语言代号列一下：\n",
    "\n",
    "简体中文：zh_CN\n",
    "\n",
    "繁体中文：zh_TW\n",
    "\n",
    "美国英文：en_US\n",
    "\n",
    "英国英文：en_GB\n",
    "\n",
    "德文：de_DE\n",
    "\n",
    "日文：ja_JP\n",
    "\n",
    "韩文：ko_KR\n",
    "\n",
    "法文：fr_FR"
   ]
  },
  {
   "cell_type": "markdown",
   "metadata": {},
   "source": [
    "## 中文假数据"
   ]
  },
  {
   "cell_type": "code",
   "execution_count": 5,
   "metadata": {},
   "outputs": [
    {
     "name": "stdout",
     "output_type": "stream",
     "text": [
      "name: 赵云\n",
      "address: 青海省建市浔阳王街W座 910537\n",
      "text: 那么手机怎么本站.手机事情项目必须.\n",
      "数据类别以后中文电脑问题业务.日期法律进行次数.\n",
      "发布来自空间广告知道方式网络必须.能够还是业务比较品牌出现最后.\n",
      "重要法律关于一样发布女人建设.质量生活那么使用系统特别设备一下.\n",
      "已经可能的人社区.密码方面应该的人.\n",
      "法律这样安全.名称认为可是解决记者.说明报告经验这样没有法律方法.\n",
      "很多然后进入新闻那个这样.对于觉得历史一直自己.有些之间他的选择地址.\n"
     ]
    }
   ],
   "source": [
    "from faker import Faker\n",
    "\n",
    "faker = Faker('zh_CN')\n",
    "print('name:', faker.name())\n",
    "print('address:', faker.address())\n",
    "print('text:', faker.text())"
   ]
  },
  {
   "cell_type": "markdown",
   "metadata": {},
   "source": [
    "## Provider\n",
    "接下来让我们详细看下 faker 可以都生成什么类型的数据，具体的可用 API 可以看 https://faker.readthedocs.io/en/master/locales/zh_CN.html，\n",
    "\n",
    "这里面列出来了可用的所有方法。\n",
    "\n",
    "但打开之后可以发现，这里面多了一个 Provider 对象，那么这个 Provider 是怎么一回事呢？\n",
    "\n",
    "实际上这个 faker 库在设计上，为了解耦，将 Provider 对象做成了 Faker 对象的”插件“。Faker 可以添加一个个 Provider 对象，Provider 对象为 Faker 对象提供了生成某项数据的核心实现。就相当于 Faker 对象是一个生成器，它的生成功能依赖于什么呢？依赖于 Provider，是 Provider 提供给了 Faker 对象生成某项数据的能力。\n",
    "\n",
    "正是因为 Faker 对象内置了一些 Provider 对象，Faker 对象才可以生成刚才所要求的姓名、地址和文本。\n",
    "\n",
    "那么这时候我们肯定就很好奇了，既然 Faker 对象有生成数据的能力，那么它一定内置了一些默认的 Provider 对象，下面我们来打印看一下："
   ]
  },
  {
   "cell_type": "code",
   "execution_count": 6,
   "metadata": {},
   "outputs": [
    {
     "name": "stdout",
     "output_type": "stream",
     "text": [
      "[<faker.providers.user_agent.Provider object at 0x108be7898>, <faker.providers.ssn.zh_CN.Provider object at 0x108be7860>, <faker.providers.python.Provider object at 0x10867ea90>, <faker.providers.profile.Provider object at 0x10867ebe0>, <faker.providers.phone_number.zh_CN.Provider object at 0x10867eb70>, <faker.providers.person.zh_CN.Provider object at 0x108be76a0>, <faker.providers.misc.Provider object at 0x10867ef60>, <faker.providers.lorem.zh_CN.Provider object at 0x10867ecf8>, <faker.providers.job.zh_CN.Provider object at 0x10867eda0>, <faker.providers.isbn.Provider object at 0x10867e898>, <faker.providers.internet.zh_CN.Provider object at 0x10867ed30>, <faker.providers.geo.en_US.Provider object at 0x108665780>, <faker.providers.file.Provider object at 0x108bd9d30>, <faker.providers.date_time.en_US.Provider object at 0x108bd9e10>, <faker.providers.currency.Provider object at 0x10867e470>, <faker.providers.credit_card.Provider object at 0x10867ee48>, <faker.providers.company.zh_CN.Provider object at 0x108665eb8>, <faker.providers.color.en_US.Provider object at 0x108d7e1d0>, <faker.providers.barcode.Provider object at 0x108d7e198>, <faker.providers.bank.en_GB.Provider object at 0x108d7e048>, <faker.providers.automotive.en_US.Provider object at 0x108d7e080>, <faker.providers.address.zh_CN.Provider object at 0x108d7e160>]\n"
     ]
    }
   ],
   "source": [
    "from faker import Faker\n",
    "\n",
    "faker = Faker('zh_CN')\n",
    "print(faker.providers)"
   ]
  },
  {
   "cell_type": "markdown",
   "metadata": {},
   "source": [
    "# 方法列举\n",
    "既然有这么多 Provider，下面我们再详细地看看还有哪些常用的方法吧，下面进行一部分简单的梳理，参考来源文档地址为：https://faker.readthedocs.io/en/master/providers.html。"
   ]
  },
  {
   "cell_type": "markdown",
   "metadata": {},
   "source": [
    "## Address\n",
    "Address，用于生成一些和地址相关的数据，如地址、城市、邮政编码、街道等内容， 用法如下："
   ]
  },
  {
   "cell_type": "code",
   "execution_count": 7,
   "metadata": {},
   "outputs": [
    {
     "data": {
      "text/plain": [
       "'路'"
      ]
     },
     "execution_count": 7,
     "metadata": {},
     "output_type": "execute_result"
    }
   ],
   "source": [
    "faker.address()\n",
    "# '新疆维吾尔自治区杰县南湖武汉街D座 253105'\n",
    "faker.building_number()\n",
    "# 'B座'\n",
    "faker.city()\n",
    "# '璐县'\n",
    "faker.city_name()\n",
    "# '贵阳'\n",
    "faker.city_suffix()\n",
    "# '县'\n",
    "faker.country()\n",
    "# '阿拉斯加'\n",
    "faker.country_code(representation=\"alpha-2\")\n",
    "# 'CR'\n",
    "faker.district()\n",
    "# '西峰'\n",
    "faker.postcode()\n",
    "# '726749'\n",
    "faker.province()\n",
    "# '福建省'\n",
    "faker.street_address()\n",
    "# '余路N座'\n",
    "faker.street_name()\n",
    "# '李路'\n",
    "faker.street_suffix()\n",
    "# '路'"
   ]
  },
  {
   "cell_type": "markdown",
   "metadata": {},
   "source": [
    "## Color\n",
    "Color，用于生成和颜色相关的数据，如 HEX、RGB、RGBA 等格式的颜色，用法如下："
   ]
  },
  {
   "cell_type": "code",
   "execution_count": 8,
   "metadata": {},
   "outputs": [
    {
     "data": {
      "text/plain": [
       "'#ee1100'"
      ]
     },
     "execution_count": 8,
     "metadata": {},
     "output_type": "execute_result"
    }
   ],
   "source": [
    "faker.color_name()\n",
    "# 'DarkKhaki'\n",
    "faker.hex_color()\n",
    "# '#97d14e'\n",
    "faker.rgb_color()\n",
    "# '107,179,51'\n",
    "faker.rgb_css_color()\n",
    "# 'rgb(20,46,70)'\n",
    "faker.safe_color_name()\n",
    "# 'navy'\n",
    "faker.safe_hex_color()\n",
    "# '#dd2200'"
   ]
  },
  {
   "cell_type": "markdown",
   "metadata": {},
   "source": [
    "## Company\n",
    "Company，用于生成公司相关数据，如公司名、公司前缀、公司后缀等内容，用法如下："
   ]
  },
  {
   "cell_type": "code",
   "execution_count": 9,
   "metadata": {},
   "outputs": [
    {
     "data": {
      "text/plain": [
       "'传媒有限公司'"
      ]
     },
     "execution_count": 9,
     "metadata": {},
     "output_type": "execute_result"
    }
   ],
   "source": [
    "faker.bs()\n",
    "# 'grow rich initiatives'\n",
    "faker.catch_phrase()\n",
    "# 'Self-enabling encompassing function'\n",
    "faker.company()\n",
    "# '恒聪百汇网络有限公司'\n",
    "faker.company_prefix()\n",
    "# '晖来计算机'\n",
    "faker.company_suffix()\n",
    "# '信息有限公司'"
   ]
  },
  {
   "cell_type": "markdown",
   "metadata": {},
   "source": [
    "## Credit Card\n",
    "Credit Card，用于生成信用卡相关数据，如过期时间、银行卡号、安全码等内容，用法如下："
   ]
  },
  {
   "cell_type": "code",
   "execution_count": 10,
   "metadata": {},
   "outputs": [
    {
     "data": {
      "text/plain": [
       "'896'"
      ]
     },
     "execution_count": 10,
     "metadata": {},
     "output_type": "execute_result"
    }
   ],
   "source": [
    "faker.credit_card_expire(start=\"now\", end=\"+10y\", date_format=\"%m/%y\")\n",
    "# '08/20'\n",
    "faker.credit_card_full(card_type=None)\n",
    "# 'Mastercard\\n玉兰 范\\n5183689713096897 01/25\\nCVV: 012\\n'\n",
    "faker.credit_card_number(card_type=None)\n",
    "# '4009911097184929918'\n",
    "faker.credit_card_provider(card_type=None)\n",
    "# 'JCB 15 digit'\n",
    "faker.credit_card_security_code(card_type=None)\n",
    "# '259'"
   ]
  },
  {
   "cell_type": "markdown",
   "metadata": {},
   "source": [
    "## Date Time\n",
    "Date Time，用于生成时间相关数据，如年份、月份、星期、出生日期等内容，可以返回 datetime 类型的数据，用法如下："
   ]
  },
  {
   "cell_type": "code",
   "execution_count": 11,
   "metadata": {},
   "outputs": [
    {
     "data": {
      "text/plain": [
       "'1988'"
      ]
     },
     "execution_count": 11,
     "metadata": {},
     "output_type": "execute_result"
    }
   ],
   "source": [
    "faker.am_pm()\n",
    "# 'AM'\n",
    "faker.century()\n",
    "# 'X'\n",
    "faker.date(pattern=\"%Y-%m-%d\", end_datetime=None)\n",
    "# '1997-06-16'\n",
    "faker.date_between(start_date=\"-30y\", end_date=\"today\")\n",
    "# datetime.date(2000, 8, 30)\n",
    "faker.date_between_dates(date_start=None, date_end=None)\n",
    "# datetime.date(2019, 7, 30)\n",
    "faker.date_object(end_datetime=None)\n",
    "# datetime.date(1978, 3, 12)\n",
    "faker.date_of_birth(tzinfo=None, minimum_age=0, maximum_age=115)\n",
    "# datetime.date(2012, 6, 3)\n",
    "faker.date_this_century(before_today=True, after_today=False)\n",
    "# datetime.date(2011, 6, 12)\n",
    "faker.date_this_decade(before_today=True, after_today=False)\n",
    "# datetime.date(2011, 8, 22)\n",
    "faker.date_this_month(before_today=True, after_today=False)\n",
    "# datetime.date(2019, 7, 25)\n",
    "faker.date_this_year(before_today=True, after_today=False)\n",
    "# datetime.date(2019, 7, 22)\n",
    "faker.date_time(tzinfo=None, end_datetime=None)\n",
    "# datetime.datetime(2018, 8, 11, 22, 3, 34)\n",
    "faker.date_time_ad(tzinfo=None, end_datetime=None, start_datetime=None)\n",
    "# datetime.datetime(1566, 8, 26, 16, 25, 30)\n",
    "faker.date_time_between(start_date=\"-30y\", end_date=\"now\", tzinfo=None)\n",
    "# datetime.datetime(2015, 1, 31, 4, 14, 10)\n",
    "faker.date_time_between_dates(datetime_start=None, datetime_end=None, tzinfo=None)\n",
    "# datetime.datetime(2019, 7, 30, 17, 51, 44)\n",
    "faker.date_time_this_century(before_now=True, after_now=False, tzinfo=None)\n",
    "# datetime.datetime(2002, 9, 25, 23, 59, 49)\n",
    "faker.date_time_this_decade(before_now=True, after_now=False, tzinfo=None)\n",
    "# datetime.datetime(2010, 5, 25, 20, 20, 52)\n",
    "faker.date_time_this_month(before_now=True, after_now=False, tzinfo=None)\n",
    "# datetime.datetime(2019, 7, 19, 18, 4, 6)\n",
    "faker.date_time_this_year(before_now=True, after_now=False, tzinfo=None)\n",
    "# datetime.datetime(2019, 3, 15, 11, 4, 18)\n",
    "faker.day_of_month()\n",
    "# '04'\n",
    "faker.day_of_week()\n",
    "# 'Monday'\n",
    "faker.future_date(end_date=\"+30d\", tzinfo=None)\n",
    "# datetime.date(2019, 8, 12)\n",
    "faker.future_datetime(end_date=\"+30d\", tzinfo=None)\n",
    "# datetime.datetime(2019, 8, 24, 2, 59, 4)\n",
    "faker.iso8601(tzinfo=None, end_datetime=None)\n",
    "# '1987-07-01T18:33:56'\n",
    "faker.month()\n",
    "# '11'\n",
    "faker.month_name()\n",
    "# 'August'\n",
    "faker.past_date(start_date=\"-30d\", tzinfo=None)\n",
    "# datetime.date(2019, 7, 25)\n",
    "faker.past_datetime(start_date=\"-30d\", tzinfo=None)\n",
    "# datetime.datetime(2019, 7, 18, 22, 46, 51)\n",
    "faker.time(pattern=\"%H:%M:%S\", end_datetime=None)\n",
    "# '16:22:30'\n",
    "faker.time_delta(end_datetime=None)\n",
    "# datetime.timedelta(0)\n",
    "faker.time_object(end_datetime=None)\n",
    "# datetime.time(22, 12, 15)\n",
    "faker.time_series(start_date=\"-30d\", end_date=\"now\", precision=None, distrib=None, tzinfo=None)\n",
    "# <generator object Provider.time_series at 0x7fcbce0604f8>\n",
    "faker.timezone()\n",
    "# 'Indian/Comoro'\n",
    "faker.unix_time(end_datetime=None, start_datetime=None)\n",
    "# 1182857626\n",
    "faker.year()\n",
    "# '1970'"
   ]
  },
  {
   "cell_type": "markdown",
   "metadata": {},
   "source": [
    "## File\n",
    "File，用于生成文件和文件路径相关的数据，包括文件扩展名、文件路径、MIME_TYPE、磁盘分区等内容，用法如下："
   ]
  },
  {
   "cell_type": "code",
   "execution_count": 12,
   "metadata": {},
   "outputs": [
    {
     "data": {
      "text/plain": [
       "'/dev/vdv7'"
      ]
     },
     "execution_count": 12,
     "metadata": {},
     "output_type": "execute_result"
    }
   ],
   "source": [
    "faker.file_extension(category=None)\n",
    "# 'flac'\n",
    "faker.file_name(category=None, extension=None)\n",
    "# '然后.numbers'\n",
    "faker.file_path(depth=1, category=None, extension=None)\n",
    "# '/关系/科技.mov'\n",
    "faker.mime_type(category=None)\n",
    "# 'video/ogg'\n",
    "faker.unix_device(prefix=None)\n",
    "# '/dev/sdd'\n",
    "faker.unix_partition(prefix=None)\n",
    "# '/dev/xvds3'"
   ]
  },
  {
   "cell_type": "markdown",
   "metadata": {},
   "source": [
    "## Geo\n",
    "Geo，用于生成和地理位置相关的数据，包括经纬度，时区等等信息，用法如下："
   ]
  },
  {
   "cell_type": "code",
   "execution_count": 13,
   "metadata": {},
   "outputs": [
    {
     "data": {
      "text/plain": [
       "Decimal('-75.748109')"
      ]
     },
     "execution_count": 13,
     "metadata": {},
     "output_type": "execute_result"
    }
   ],
   "source": [
    "faker.coordinate(center=None, radius=0.001)\n",
    "# Decimal('-114.420686')\n",
    "faker.latitude()\n",
    "# Decimal('-9.772541')\n",
    "faker.latlng()\n",
    "# (Decimal('-27.0730915'), Decimal('-5.919460'))\n",
    "faker.local_latlng(country_code=\"US\", coords_only=False)\n",
    "# ('41.47892', '-87.45476', 'Schererville', 'US', 'America/Chicago')\n",
    "faker.location_on_land(coords_only=False)\n",
    "# ('12.74482', '4.52514', 'Argungu', 'NG', 'Africa/Lagos')\n",
    "faker.longitude()\n",
    "# Decimal('40.885895')\n"
   ]
  },
  {
   "cell_type": "markdown",
   "metadata": {},
   "source": [
    "## Internet\n",
    "Internet，用于生成和互联网相关的数据，包括随机电子邮箱、域名、IP 地址、URL、用户名、后缀名等内容，用法如下："
   ]
  },
  {
   "cell_type": "code",
   "execution_count": 15,
   "metadata": {},
   "outputs": [
    {
     "data": {
      "text/plain": [
       "'juan86@shichen.cn'"
      ]
     },
     "execution_count": 15,
     "metadata": {},
     "output_type": "execute_result"
    }
   ],
   "source": [
    "faker.ascii_company_email()\n",
    "# 'xuna@xiaqian.cn'"
   ]
  },
  {
   "cell_type": "code",
   "execution_count": 16,
   "metadata": {},
   "outputs": [
    {
     "data": {
      "text/plain": [
       "'mingding'"
      ]
     },
     "execution_count": 16,
     "metadata": {},
     "output_type": "execute_result"
    }
   ],
   "source": [
    "faker.ascii_email()\n",
    "# 'min59@60.cn'\n",
    "faker.ascii_free_email()\n",
    "# 'min75@gmail.com'\n",
    "faker.ascii_safe_email()\n",
    "# 'cliu@example.com'\n",
    "faker.company_email()\n",
    "# 'ilong@99.cn'\n",
    "faker.domain_name(levels=1)\n",
    "# 'xiulan.cn'\n",
    "faker.domain_word()\n",
    "# 'luo'\n",
    "faker.email()\n",
    "# 'maoxiulan@hotmail.com'\n",
    "faker.free_email()\n",
    "# 'yanshen@gmail.com'\n",
    "faker.free_email_domain()\n",
    "# 'yahoo.com'\n",
    "faker.hostname()\n",
    "# 'lt-18.pan.cn'\n",
    "faker.image_url(width=None, height=None)\n",
    "# 'https://placekitten.com/51/201'\n",
    "faker.ipv4(network=False, address_class=None, private=None)\n",
    "# '192.233.68.5'\n",
    "faker.ipv4_network_class()\n",
    "# 'a'\n",
    "faker.ipv4_private(network=False, address_class=None)\n",
    "# '10.9.97.93'\n",
    "faker.ipv4_public(network=False, address_class=None)\n",
    "# '192.51.22.7'\n",
    "faker.ipv6(network=False)\n",
    "# 'de57:9c6f:a38c:9864:10ec:6442:775d:5f02'\n",
    "faker.mac_address()\n",
    "# '99:80:5c:ab:8c:a9'\n",
    "faker.safe_email()\n",
    "# 'tangjuan@example.net'\n",
    "faker.slug()\n",
    "# ''\n",
    "faker.tld()\n",
    "# 'cn'\n",
    "faker.uri()\n",
    "# 'http://fangfan.org/app/tag/post/'\n",
    "faker.uri_extension()\n",
    "# '.php'\n",
    "faker.uri_page()\n",
    "# 'about'\n",
    "faker.uri_path(deep=None)\n",
    "# 'app'\n",
    "faker.url(schemes=None)\n",
    "# 'http://mingli.cn/'\n",
    "faker.user_name()\n",
    "# 'jie54'"
   ]
  },
  {
   "cell_type": "markdown",
   "metadata": {},
   "source": [
    "## Job\n",
    "Job，用于生成和职业相关的数据，用法如下："
   ]
  },
  {
   "cell_type": "code",
   "execution_count": 17,
   "metadata": {},
   "outputs": [
    {
     "data": {
      "text/plain": [
       "'美甲师'"
      ]
     },
     "execution_count": 17,
     "metadata": {},
     "output_type": "execute_result"
    }
   ],
   "source": [
    "faker.job()"
   ]
  },
  {
   "cell_type": "markdown",
   "metadata": {},
   "source": [
    "## Lorem\n",
    "Lorem，用于生成一些假文字数据，包括句子、自然段、长文本、关键词等，另外可以传入不同的参数来控制生成的长度，用法如下："
   ]
  },
  {
   "cell_type": "code",
   "execution_count": 18,
   "metadata": {},
   "outputs": [
    {
     "data": {
      "text/plain": [
       "['简介', '行业', '数据']"
      ]
     },
     "execution_count": 18,
     "metadata": {},
     "output_type": "execute_result"
    }
   ],
   "source": [
    "faker.paragraph(nb_sentences=3, variable_nb_sentences=True, ext_word_list=None)\n",
    "# '包括的是报告那些一点.图片地址基本全部.'\n",
    "faker.paragraphs(nb=3, ext_word_list=None)\n",
    "# [   '计划规定这样所以组织商品其中.参加成为不同发表地区.精华科技谢谢大家需要.一下手机上海中文工程.',\n",
    "#     '非常相关是一就是一个一种文章发生.增加那些以及之后以下你的.',\n",
    "#     '学生应该出来分析增加关系组织.评论来源朋友注册应该需要单位.感觉最后无法发现选择人民.']\n",
    "faker.sentence(nb_words=6, variable_nb_words=True, ext_word_list=None)\n",
    "# '介绍结果自己解决处理.'\n",
    "faker.sentences(nb=3, ext_word_list=None)\n",
    "# ['查看其实一次学习登录浏览是一他们.', '而且资源的人事情.', '科技价格免费大学教育.']\n",
    "faker.text(max_nb_chars=200, ext_word_list=None)\n",
    "# ('只是当前国内中文所以.威望系统在线虽然.\\n'\n",
    "#  '图片人民非常合作这种谢谢更新.名称详细直接社会一直首页完全.\\n'\n",
    "#  '重要更多只要市场.必须只是学生音乐.系统美国类别这些一切环境.\\n'\n",
    "#  '但是的话人民美国关于.\\n'\n",
    "#  '情况专业国际看到研究.音乐环境市场搜索发现.\\n'\n",
    "#  '工具还是到了今天位置人民.留言作者品牌工程项目必须.上海精华现在我们新闻应该关系.\\n'\n",
    "#  '更新经济能力全部资源如果.手机能够登录国内.')\n",
    "faker.texts(nb_texts=3, max_nb_chars=200, ext_word_list=None)\n",
    "# [   '成功可能推荐你的行业.地区而且推荐.\\n'\n",
    "#     '网络不断是一主要必须.开始安全服务.\\n'\n",
    "#     '应该网上通过以后通过大学.管理要求有关国际阅读当前.为了应该结果点击公司开始怎么.\\n'\n",
    "#     '成功一次最大生产网站.这种加入她的地址有限.\\n'\n",
    "#     '根据新闻汽车起来非常主题显示必须.有些建设来自作者电话支持.\\n'\n",
    "#     '只是资源还是由于经济事情喜欢.为什中文大小得到服务.网络密码是否免费参加一次社区欢迎.',\n",
    "#     '部门活动技术.商品影响发生行业密码完成.就是部门结果资料学习当然.或者帮助城市要求首页市场教育你们.\\n'\n",
    "#     '专业完全分析处理城市大学什么.\\n'\n",
    "#     '文件非常国际全部起来积分公司.资料的是电影没有.这是本站需要.\\n'\n",
    "#     '合作重要没有现在市场开发空间.您的会员推荐成功教育进行中国.\\n'\n",
    "#     '文件不是如果评论.因为经验设备规定.\\n'\n",
    "#     '加入一起影响网上大家运行在线如果.工程企业这种以后.',\n",
    "#     '空间市场出现必须基本电话.显示一个标准其他设计作品.工程不断新闻问题更多更新这么.\\n'\n",
    "#     '一起简介网上内容不会.任何知道各种两个.类别事情经营那么投资市场.\\n'\n",
    "#     '那些使用介绍公司朋友人民你们浏览.应该表示一点一般说明主要谢谢.电话回复起来经验一个来源加入.\\n'\n",
    "#     '地区法律其他表示虽然.参加社会喜欢有限论坛一般发布.类别目前文化可以.\\n'\n",
    "#     '报告质量工作主要.企业发布完全.得到名称作者等级两个论坛只要电话.']\n",
    "faker.word(ext_word_list=None)\n",
    "# '注意'\n",
    "faker.words(nb=3, ext_word_list=None, unique=False)\n",
    "# ['责任', '组织', '以后']"
   ]
  },
  {
   "cell_type": "markdown",
   "metadata": {},
   "source": [
    "## Misc\n",
    "Misc，用于生成生成一些混淆数据，比如密码、sha1、sha256、md5 等加密后的内容，用法如下："
   ]
  },
  {
   "cell_type": "code",
   "execution_count": 20,
   "metadata": {},
   "outputs": [
    {
     "data": {
      "text/plain": [
       "'444ab74c-b097-44a4-a169-6edf7fa4dd7f'"
      ]
     },
     "execution_count": 20,
     "metadata": {},
     "output_type": "execute_result"
    }
   ],
   "source": [
    "faker.boolean(chance_of_getting_true=50)\n",
    "# True\n",
    "faker.md5(raw_output=False)\n",
    "# '3166fa26ffd3f2a33e020dfe11191ac6'\n",
    "faker.null_boolean()\n",
    "# False\n",
    "faker.password(length=10, special_chars=True, digits=True, upper_case=True, lower_case=True)\n",
    "# 'W7Ln8La@%O'\n",
    "faker.sha1(raw_output=False)\n",
    "# 'c8301a2a79445439ee5287f38053e4b3a05eac79'\n",
    "faker.sha256(raw_output=False)\n",
    "# '1e909d331e20cf241aaa2da894deae5a3a75e5cdc35c053422d9b8e7ccfa0402'\n",
    "faker.uuid4()\n",
    "# '6e6fe387-6877-48d9-94ea-4263c4c71aa5'"
   ]
  },
  {
   "cell_type": "markdown",
   "metadata": {},
   "source": [
    "## Person\n",
    "Person，用于生成和人名相关的数据，包括姓氏、名字、全名、英文名等内容，还能区分男女名字，用法如下："
   ]
  },
  {
   "cell_type": "code",
   "execution_count": 21,
   "metadata": {},
   "outputs": [
    {
     "data": {
      "text/plain": [
       "'孙辉'"
      ]
     },
     "execution_count": 21,
     "metadata": {},
     "output_type": "execute_result"
    }
   ],
   "source": [
    "faker.first_name()\n",
    "# '颖'\n",
    "faker.first_name_female()\n",
    "# '芳'\n",
    "faker.first_name_male()\n",
    "# '利'\n",
    "faker.first_romanized_name()\n",
    "# 'Jing'\n",
    "faker.last_name()\n",
    "# '温'\n",
    "faker.last_name_female()\n",
    "# '寇'\n",
    "faker.last_name_male()\n",
    "# '陈'\n",
    "faker.last_romanized_name()\n",
    "# 'Lei'\n",
    "faker.name()\n",
    "# '黄明'\n",
    "faker.name_female()\n",
    "# '张凯'\n",
    "faker.name_male()\n",
    "# '黄鹏'"
   ]
  },
  {
   "cell_type": "markdown",
   "metadata": {},
   "source": [
    "## User-Agent\n",
    "User-Agent，用于生成和浏览器 User-Agent 相关的内容，可以定制各种浏览器，还可以传入版本信息来控制生成的内容，用法如下：\n",
    "以上仅仅列了一部分，还有更多的功能大家可以查看官方文档的内容，链接为：https://faker.readthedocs.io/en/master/locales/zh_CN.html。"
   ]
  },
  {
   "cell_type": "code",
   "execution_count": 22,
   "metadata": {},
   "outputs": [
    {
     "data": {
      "text/plain": [
       "'Windows NT 5.01'"
      ]
     },
     "execution_count": 22,
     "metadata": {},
     "output_type": "execute_result"
    }
   ],
   "source": [
    "faker.chrome(version_from=13, version_to=63, build_from=800, build_to=899)\n",
    "# ('Mozilla/5.0 (X11; Linux x86_64) AppleWebKit/5332 (KHTML, like Gecko) '\n",
    "#  'Chrome/40.0.837.0 Safari/5332')\n",
    "faker.firefox()\n",
    "# ('Mozilla/5.0 (Macintosh; U; Intel Mac OS X 10_8_9; rv:1.9.4.20) '\n",
    "#  'Gecko/2019-05-02 05:58:44 Firefox/3.6.19')\n",
    "faker.internet_explorer()\n",
    "# 'Mozilla/5.0 (compatible; MSIE 8.0; Windows NT 5.2; Trident/3.0)'\n",
    "faker.linux_platform_token()\n",
    "# 'X11; Linux i686'\n",
    "faker.linux_processor()\n",
    "# 'x86_64'\n",
    "faker.mac_platform_token()\n",
    "# 'Macintosh; U; PPC Mac OS X 10_12_5'\n",
    "faker.mac_processor()\n",
    "# 'U; Intel'\n",
    "faker.opera()\n",
    "# 'Opera/9.77.(Windows NT 4.0; vi-VN) Presto/2.9.182 Version/11.00'\n",
    "faker.safari()\n",
    "# ('Mozilla/5.0 (Macintosh; PPC Mac OS X 10_7_1 rv:5.0; or-IN) '\n",
    "#  'AppleWebKit/535.9.4 (KHTML, like Gecko) Version/5.0.2 Safari/535.9.4')\n",
    "faker.user_agent()\n",
    "# 'Opera/8.69.(X11; Linux i686; ml-IN) Presto/2.9.170 Version/11.00'\n",
    "faker.windows_platform_token()\n",
    "# 'Windows NT 6.1'"
   ]
  },
  {
   "cell_type": "markdown",
   "metadata": {},
   "source": [
    "## 其他 Provider\n",
    "另外还有一些社区贡献的 Provider，如 WiFi、微服务相关的，大家可以查看文档的说明，另外需要额外安装这些扩展包并自行添加 Provider，文档见：https://faker.readthedocs.io/en/master/communityproviders.html。\n",
    "\n",
    "添加 Provider 需要调用 add_provider 方法，用法示例如下："
   ]
  },
  {
   "cell_type": "code",
   "execution_count": 23,
   "metadata": {},
   "outputs": [
    {
     "name": "stdout",
     "output_type": "stream",
     "text": [
      "172.19.133.153\n"
     ]
    }
   ],
   "source": [
    "from faker import Faker\n",
    "from faker.providers import internet\n",
    "\n",
    "faker = Faker()\n",
    "faker.add_provider(internet)\n",
    "print(faker.ipv4_private())"
   ]
  },
  {
   "cell_type": "code",
   "execution_count": null,
   "metadata": {},
   "outputs": [],
   "source": []
  }
 ],
 "metadata": {
  "kernelspec": {
   "display_name": "Python 3",
   "language": "python",
   "name": "python3"
  },
  "language_info": {
   "codemirror_mode": {
    "name": "ipython",
    "version": 3
   },
   "file_extension": ".py",
   "mimetype": "text/x-python",
   "name": "python",
   "nbconvert_exporter": "python",
   "pygments_lexer": "ipython3",
   "version": "3.7.3"
  },
  "toc": {
   "base_numbering": 1,
   "nav_menu": {},
   "number_sections": true,
   "sideBar": true,
   "skip_h1_title": false,
   "title_cell": "Table of Contents",
   "title_sidebar": "Contents",
   "toc_cell": false,
   "toc_position": {},
   "toc_section_display": true,
   "toc_window_display": true
  }
 },
 "nbformat": 4,
 "nbformat_minor": 2
}
