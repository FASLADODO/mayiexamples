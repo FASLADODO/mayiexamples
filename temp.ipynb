{
 "cells": [
  {
   "cell_type": "code",
   "execution_count": 1,
   "metadata": {},
   "outputs": [],
   "source": [
    "ll = ['finish_time', \n",
    "'change_id',\n",
    "'service_id',\n",
    "'policy_id',\n",
    "'head_id',\n",
    "'branch_id',\n",
    "'organ_id',\n",
    "'apply_date',\n",
    "'channel_type',\n",
    "'issue_org_id',\n",
    "'amount',\n",
    "'gross_prem_af',\n",
    "'initial_type',\n",
    "'fee_amount',\n",
    "'fee_type',\n",
    "'fee_id',\n",
    "'register_code',\n",
    "'applicant_company_name',\n",
    "'applicant_kind',\n",
    "'company_kind',\n",
    "'job_kind_name',\n",
    "'industry',]"
   ]
  },
  {
   "cell_type": "code",
   "execution_count": 2,
   "metadata": {},
   "outputs": [
    {
     "data": {
      "text/plain": [
       "['FINISH_TIME',\n",
       " 'CHANGE_ID',\n",
       " 'SERVICE_ID',\n",
       " 'POLICY_ID',\n",
       " 'HEAD_ID',\n",
       " 'BRANCH_ID',\n",
       " 'ORGAN_ID',\n",
       " 'APPLY_DATE',\n",
       " 'CHANNEL_TYPE',\n",
       " 'ISSUE_ORG_ID',\n",
       " 'AMOUNT',\n",
       " 'GROSS_PREM_AF',\n",
       " 'INITIAL_TYPE',\n",
       " 'FEE_AMOUNT',\n",
       " 'FEE_TYPE',\n",
       " 'FEE_ID',\n",
       " 'REGISTER_CODE',\n",
       " 'APPLICANT_COMPANY_NAME',\n",
       " 'APPLICANT_KIND',\n",
       " 'COMPANY_KIND',\n",
       " 'JOB_KIND_NAME',\n",
       " 'INDUSTRY']"
      ]
     },
     "execution_count": 2,
     "metadata": {},
     "output_type": "execute_result"
    }
   ],
   "source": [
    "[i.upper() for i in ll]"
   ]
  },
  {
   "cell_type": "code",
   "execution_count": null,
   "metadata": {},
   "outputs": [],
   "source": []
  }
 ],
 "metadata": {
  "kernelspec": {
   "display_name": "Python 3",
   "language": "python",
   "name": "python3"
  },
  "language_info": {
   "codemirror_mode": {
    "name": "ipython",
    "version": 3
   },
   "file_extension": ".py",
   "mimetype": "text/x-python",
   "name": "python",
   "nbconvert_exporter": "python",
   "pygments_lexer": "ipython3",
   "version": "3.7.3"
  },
  "toc": {
   "base_numbering": 1,
   "nav_menu": {},
   "number_sections": true,
   "sideBar": true,
   "skip_h1_title": false,
   "title_cell": "Table of Contents",
   "title_sidebar": "Contents",
   "toc_cell": false,
   "toc_position": {},
   "toc_section_display": true,
   "toc_window_display": false
  }
 },
 "nbformat": 4,
 "nbformat_minor": 2
}
