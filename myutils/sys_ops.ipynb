{
 "cells": [
  {
   "cell_type": "code",
   "execution_count": 1,
   "metadata": {},
   "outputs": [],
   "source": [
    "import sys"
   ]
  },
  {
   "cell_type": "markdown",
   "metadata": {},
   "source": [
    "## 打印python类扫描路径"
   ]
  },
  {
   "cell_type": "code",
   "execution_count": 2,
   "metadata": {},
   "outputs": [
    {
     "data": {
      "text/plain": [
       "['/Users/luoyonggui/PycharmProjects/mayiexamples',\n",
       " '/Users/luoyonggui/anaconda3/lib/python37.zip',\n",
       " '/Users/luoyonggui/anaconda3/lib/python3.7',\n",
       " '/Users/luoyonggui/anaconda3/lib/python3.7/lib-dynload',\n",
       " '',\n",
       " '/Users/luoyonggui/anaconda3/lib/python3.7/site-packages',\n",
       " '/Users/luoyonggui/anaconda3/lib/python3.7/site-packages/aeosa',\n",
       " '/Users/luoyonggui/anaconda3/lib/python3.7/site-packages/feature_selector-N_A-py3.7.egg',\n",
       " '/Users/luoyonggui/anaconda3/lib/python3.7/site-packages/mayiutils-0.1-py3.7.egg',\n",
       " '/Users/luoyonggui/anaconda3/lib/python3.7/site-packages/ianspackage-0.1-py3.7.egg',\n",
       " '/Users/luoyonggui/anaconda3/lib/python3.7/site-packages/IPython/extensions',\n",
       " '/Users/luoyonggui/.ipython']"
      ]
     },
     "execution_count": 2,
     "metadata": {},
     "output_type": "execute_result"
    }
   ],
   "source": [
    "sys.path"
   ]
  },
  {
   "cell_type": "code",
   "execution_count": null,
   "metadata": {},
   "outputs": [],
   "source": []
  }
 ],
 "metadata": {
  "kernelspec": {
   "display_name": "Python 3",
   "language": "python",
   "name": "python3"
  },
  "language_info": {
   "codemirror_mode": {
    "name": "ipython",
    "version": 3
   },
   "file_extension": ".py",
   "mimetype": "text/x-python",
   "name": "python",
   "nbconvert_exporter": "python",
   "pygments_lexer": "ipython3",
   "version": "3.7.3"
  },
  "toc": {
   "base_numbering": 1,
   "nav_menu": {},
   "number_sections": true,
   "sideBar": true,
   "skip_h1_title": false,
   "title_cell": "Table of Contents",
   "title_sidebar": "Contents",
   "toc_cell": false,
   "toc_position": {},
   "toc_section_display": true,
   "toc_window_display": false
  }
 },
 "nbformat": 4,
 "nbformat_minor": 2
}
