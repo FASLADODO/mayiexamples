{
 "cells": [
  {
   "cell_type": "markdown",
   "metadata": {},
   "source": [
    "# 1ogging\n",
    "https://cuiqingcai.com/6080.html\n",
    "\n",
    "logging 模块相比 print 有这么几个优点：\n",
    "\n",
    "* 可以在 logging 模块中设置日志等级，在不同的版本（如开发环境、生产环境）上通过设置不同的输出等级来记录对应的日志，非常灵活。\n",
    "\n",
    "* print 的输出信息都会输出到标准输出流中，而 logging 模块就更加灵活，可以设置输出到任意位置，如写入文件、写入远程服务器等。\n",
    "\n",
    "* logging 模块具有灵活的配置和格式化功能，如配置输出当前模块信息、运行时间等，相比 print 的字符串格式化更加方便易用。\n",
    "\n",
    "下面我们初步来了解下 logging 模块的基本用法，先用一个实例来感受一下："
   ]
  },
  {
   "cell_type": "code",
   "execution_count": 1,
   "metadata": {},
   "outputs": [],
   "source": [
    "import logging"
   ]
  },
  {
   "cell_type": "markdown",
   "metadata": {},
   "source": [
    "## 基本配置basicConfig"
   ]
  },
  {
   "cell_type": "markdown",
   "metadata": {},
   "source": [
    "### 在这里我们首先引入了 logging 模块，然后进行了一下基本的配置，这里通过 basicConfig 配置了 level 信息和 format 信息，\n",
    "## level 信息\n",
    "这里 level 配置为 INFO 信息，即只输出 INFO 级别的信息，  \n",
    "\n",
    "首先我们来了解一下输出日志的等级信息，logging 模块共提供了如下等级，每个等级其实都对应了一个数值，列表如下：\n",
    "\n",
    "|等级\t|数值|\n",
    "|-|-|\n",
    "|CRITICAL\t|50\n",
    "|FATAL\t|50\n",
    "|ERROR\t|40\n",
    "|WARNING\t|30\n",
    "|WARN\t|30\n",
    "|INFO\t|20\n",
    "|DEBUG\t|10\n",
    "|NOTSET\t|0\n",
    "\n",
    "## format 信息\n",
    "另外这里指定了 format 格式的字符串，包括 \n",
    "* asctime、运行时间、\n",
    "* name、模块名称、\n",
    "* levelname、日志级别、\n",
    "* message  日志内容\n",
    "\n",
    "这样输出内容便是这四者组合而成的内容了，这就是 logging 的全局配置。"
   ]
  },
  {
   "cell_type": "code",
   "execution_count": 1,
   "metadata": {},
   "outputs": [
    {
     "data": {
      "text/plain": [
       "'__main__'"
      ]
     },
     "execution_count": 1,
     "metadata": {},
     "output_type": "execute_result"
    }
   ],
   "source": [
    "__name__"
   ]
  },
  {
   "cell_type": "code",
   "execution_count": 4,
   "metadata": {},
   "outputs": [
    {
     "name": "stderr",
     "output_type": "stream",
     "text": [
      "2019-08-08 13:17:58,989 - my.py - INFO - This is a log info\n",
      "2019-08-08 13:17:58,990 - my.py - WARNING - Warning exists\n",
      "2019-08-08 13:17:58,994 - my.py - INFO - Finish\n"
     ]
    }
   ],
   "source": [
    "import logging\n",
    "logging.basicConfig(level=logging.INFO, format='%(asctime)s - %(name)s - %(levelname)s - %(message)s')\n",
    "logger = logging.getLogger('my.py')\n",
    " \n",
    "logger.info('This is a log info')\n",
    "logger.debug('Debugging')\n",
    "logger.warning('Warning exists')\n",
    "logger.info('Finish')\n"
   ]
  },
  {
   "cell_type": "code",
   "execution_count": 2,
   "metadata": {},
   "outputs": [
    {
     "name": "stderr",
     "output_type": "stream",
     "text": [
      "2019-08-08 13:22:22,491 - __main__ - INFO - This is a log info\n",
      "2019-08-08 13:22:22,492 - __main__ - DEBUG - Debugging\n",
      "2019-08-08 13:22:22,493 - __main__ - WARNING - Warning exists\n",
      "2019-08-08 13:22:22,494 - __main__ - INFO - Finish\n"
     ]
    }
   ],
   "source": [
    "import logging\n",
    "logging.basicConfig(level=logging.DEBUG, format='%(asctime)s - %(name)s - %(levelname)s - %(message)s')\n",
    "logger1 = logging.getLogger(__name__)\n",
    "\n",
    "logger1.info('This is a log info')\n",
    "logger1.debug('Debugging')\n",
    "logger1.warning('Warning exists')\n",
    "logger1.info('Finish')"
   ]
  },
  {
   "cell_type": "code",
   "execution_count": 1,
   "metadata": {},
   "outputs": [],
   "source": [
    "import logging\n",
    " \n",
    "logging.basicConfig(level=logging.DEBUG,\n",
    "                    filename='output.log',\n",
    "                    datefmt='%Y/%m/%d %H:%M:%S',\n",
    "                    format='%(asctime)s - %(name)s - %(levelname)s - %(lineno)d - %(module)s - %(message)s')\n",
    "logger = logging.getLogger(__name__)\n",
    " \n",
    "logger.info('This is a log info')\n",
    "logger.debug('Debugging')\n",
    "logger.warning('Warning exists')\n",
    "logger.info('Finish')"
   ]
  },
  {
   "cell_type": "markdown",
   "metadata": {},
   "source": [
    "## Handler\n",
    "下面我们先来了解一下 Handler 的用法，看下面的实例："
   ]
  },
  {
   "cell_type": "code",
   "execution_count": 1,
   "metadata": {},
   "outputs": [],
   "source": [
    "import logging\n",
    " \n",
    "logger = logging.getLogger(__name__)\n",
    "logger.setLevel(level=logging.INFO)\n",
    "handler = logging.FileHandler('output.log')\n",
    "formatter = logging.Formatter('%(asctime)s - %(name)s - %(levelname)s - %(message)s')\n",
    "handler.setFormatter(formatter)\n",
    "logger.addHandler(handler)\n",
    " \n",
    "logger.info('This is a log info')\n",
    "logger.debug('Debugging')\n",
    "logger.warning('Warning exists')\n",
    "logger.info('Finish')"
   ]
  },
  {
   "cell_type": "markdown",
   "metadata": {},
   "source": [
    "这里我们没有再使用 basicConfig 全局配置，而是先声明了一个 Logger 对象，然后指定了其对应的 Handler 为 FileHandler 对象，然后 Handler 对象还单独指定了 Formatter 对象单独配置输出格式，最后给 Logger 对象添加对应的 Handler 即可，最后可以发现日志就会被输出到 output.log 中，内容如下："
   ]
  },
  {
   "cell_type": "markdown",
   "metadata": {},
   "source": [
    "另外我们还可以使用其他的 Handler 进行日志的输出，logging 模块提供的 Handler 有：\n",
    "\n",
    "* StreamHandler：logging.StreamHandler；日志输出到流，可以是 sys.stderr，sys.stdout 或者文件。\n",
    "* FileHandler：logging.FileHandler；日志输出到文件。\n",
    "* BaseRotatingHandler：logging.handlers.BaseRotatingHandler；基本的日志回滚方式。\n",
    "* RotatingHandler：logging.handlers.RotatingHandler；日志回滚方式，支持日志文件最大数量和日志文件回滚。\n",
    "* TimeRotatingHandler：logging.handlers.TimeRotatingHandler；日志回滚方式，在一定时间区域内回滚日志文件。\n",
    "* SocketHandler：logging.handlers.SocketHandler；远程输出日志到TCP/IP sockets。\n",
    "* DatagramHandler：logging.handlers.DatagramHandler；远程输出日志到UDP sockets。\n",
    "* SMTPHandler：logging.handlers.SMTPHandler；远程输出日志到邮件地址。\n",
    "* SysLogHandler：logging.handlers.SysLogHandler；日志输出到syslog。\n",
    "* NTEventLogHandler：logging.handlers.NTEventLogHandler；远程输出日志到Windows NT/2000/XP的事件日志。\n",
    "* MemoryHandler：logging.handlers.MemoryHandler；日志输出到内存中的指定buffer。\n",
    "* HTTPHandler：logging.handlers.HTTPHandler；通过”GET”或者”POST”远程输出到HTTP服务器。\n",
    "\n",
    "下面我们使用三个 Handler 来实现日志同时输出到控制台、文件、HTTP 服务器："
   ]
  },
  {
   "cell_type": "code",
   "execution_count": 1,
   "metadata": {},
   "outputs": [
    {
     "name": "stdout",
     "output_type": "stream",
     "text": [
      "This is a log info\n",
      "Debugging\n",
      "Warning exists\n",
      "Finish\n"
     ]
    }
   ],
   "source": [
    "import logging\n",
    "from logging.handlers import HTTPHandler\n",
    "import sys\n",
    " \n",
    "logger = logging.getLogger(__name__)\n",
    "    \n",
    "formatter = logging.Formatter('%(asctime)s - %(name)s - %(levelname)s - %(message)s')\n",
    "# StreamHandler\n",
    "stream_handler = logging.StreamHandler(sys.stdout)\n",
    "stream_handler.setLevel(level=logging.DEBUG)\n",
    "stream_handler.setFormatter(formatter)\n",
    "logger.addHandler(stream_handler)\n",
    " \n",
    "# FileHandler\n",
    "file_handler = logging.FileHandler('output.log')\n",
    "file_handler.setLevel(level=logging.INFO)\n",
    "file_handler.setFormatter(formatter)\n",
    "logger.addHandler(file_handler)\n",
    " \n",
    "# HTTPHandler\n",
    "# http_handler = HTTPHandler(host='localhost:8001', url='log', method='POST')\n",
    "# logger.addHandler(http_handler)\n",
    " \n",
    "# Log\n",
    "logger.info('This is a log info')\n",
    "logger.debug('Debugging')\n",
    "logger.warning('Warning exists')\n",
    "logger.info('Finish')"
   ]
  },
  {
   "cell_type": "markdown",
   "metadata": {},
   "source": [
    "运行之前我们需要先启动 HTTP Server，并运行在 8001 端口，其中 log 接口是用来接收日志的接口。\n",
    "\n",
    "运行之后控制台输出会输出如下内容：\n",
    "\n",
    "HTTP Server 会收到控制台输出的信息。\n",
    "\n",
    "这样一来，我们就通过设置多个 Handler 来控制了日志的多目标输出。\n",
    "\n",
    "另外值得注意的是，在这里 StreamHandler 对象我们没有设置 Formatter，因此控制台只输出了日志的内容，而没有包含时间、模块等信息，而 FileHandler 我们通过 setFormatter() 方法设置了一个 Formatter 对象，因此输出的内容便是格式化后的日志信息。\n",
    "\n",
    "另外每个 Handler 还可以设置 level 信息，最终输出结果的 level 信息会取 Logger 对象的 level 和 Handler 对象的 level 的交集。"
   ]
  },
  {
   "cell_type": "markdown",
   "metadata": {},
   "source": [
    "## Formatter\n",
    "在进行日志格式化输出的时候，我们可以不借助于 basicConfig 来全局配置格式化输出内容，可以借助于 Formatter 来完成，下面我们再来单独看下 Formatter 的用法："
   ]
  },
  {
   "cell_type": "code",
   "execution_count": 1,
   "metadata": {},
   "outputs": [
    {
     "name": "stderr",
     "output_type": "stream",
     "text": [
      "2019/08/08 13:47:35 - __main__ - CRITICAL - Critical Something\n",
      "2019/08/08 13:47:35 - __main__ - ERROR - Error Occurred\n",
      "2019/08/08 13:47:35 - __main__ - WARNING - Warning exists\n"
     ]
    }
   ],
   "source": [
    "import logging\n",
    " \n",
    "logger = logging.getLogger(__name__)\n",
    "logger.setLevel(level=logging.WARN)\n",
    "formatter = logging.Formatter(fmt='%(asctime)s - %(name)s - %(levelname)s - %(message)s', datefmt='%Y/%m/%d %H:%M:%S')\n",
    "handler = logging.StreamHandler()\n",
    "handler.setFormatter(formatter)\n",
    "logger.addHandler(handler)\n",
    " \n",
    "# Log\n",
    "logger.debug('Debugging')\n",
    "logger.critical('Critical Something')\n",
    "logger.error('Error Occurred')\n",
    "logger.warning('Warning exists')\n",
    "logger.info('Finished')"
   ]
  },
  {
   "cell_type": "markdown",
   "metadata": {},
   "source": [
    "## 配置共享\n",
    "在写项目的时候，我们肯定会将许多配置放置在许多模块下面，这时如果我们每个文件都来配置 logging 配置那就太繁琐了，logging 模块提供了父子模块共享配置的机制，会根据 Logger 的名称来自动加载父模块的配置。\n",
    "\n",
    "例如我们这里首先定义一个 main.py 文件："
   ]
  },
  {
   "cell_type": "markdown",
   "metadata": {},
   "source": [
    "# loguru\n",
    "https://mp.weixin.qq.com/s/5Ri1WS5cTGCNAQ0I_zYycg\n",
    "\n",
    "https://loguru.readthedocs.io/en/stable/index.html\n",
    "\n",
    "上面的实现方式已经是一个较为可行的配置方案了。然而，我还是会感觉到有些 Handler 配起来麻烦，尤其是新建一个项目的很多时候懒得去写一些配置。\n",
    "\n",
    "我也懒得去写，感觉并不是一个优雅的实现方式。\n",
    "\n",
    "有需求就有动力啊，这不，就有人实现了这么一个库，叫做 loguru，可以将 log 的配置和使用更加简单和方便。\n",
    "\n",
    "下面我们来看看它到底是怎么用的吧。"
   ]
  },
  {
   "cell_type": "markdown",
   "metadata": {},
   "source": [
    "## install"
   ]
  },
  {
   "cell_type": "code",
   "execution_count": 2,
   "metadata": {},
   "outputs": [
    {
     "name": "stdout",
     "output_type": "stream",
     "text": [
      "loguru==0.3.2\r\n"
     ]
    }
   ],
   "source": [
    "# !pip install loguru\n",
    "!pip freeze | grep loguru"
   ]
  },
  {
   "cell_type": "markdown",
   "metadata": {},
   "source": [
    "## 基本使用"
   ]
  },
  {
   "cell_type": "markdown",
   "metadata": {},
   "source": [
    "看到了吧，不需要配置什么东西，直接引入一个 logger，然后调用其 debug 方法即可。\n",
    "\n",
    "在 loguru 里面有且仅有一个主要对象，那就是 logger，loguru 里面有且仅有一个 logger，而且它已经被提前配置了一些基础信息，比如比较友好的格式化、文本颜色信息等等。"
   ]
  },
  {
   "cell_type": "code",
   "execution_count": 3,
   "metadata": {},
   "outputs": [
    {
     "name": "stderr",
     "output_type": "stream",
     "text": [
      "2019-11-22 13:46:19.117 | DEBUG    | __main__:<module>:3 - this is a debug message\n"
     ]
    }
   ],
   "source": [
    "from loguru import logger\n",
    "\n",
    "logger.debug('this is a debug message')"
   ]
  },
  {
   "cell_type": "markdown",
   "metadata": {},
   "source": [
    "可以看到其默认的输出格式是上面的内容，有时间、级别、模块名、行号以及日志信息，不需要手动创建 logger，直接使用即可，另外其输出还是彩色的，看起来会更加友好。\n",
    "\n",
    "以上的日志信息是直接输出到控制台的，并没有输出到其他的地方，如果想要输出到其他的位置，比如存为文件，我们只需要使用一行代码声明即可。\n",
    "\n",
    "例如将结果同时输出到一个 runtime.log 文件里面，可以这么写："
   ]
  },
  {
   "cell_type": "code",
   "execution_count": 4,
   "metadata": {},
   "outputs": [
    {
     "name": "stderr",
     "output_type": "stream",
     "text": [
      "2019-11-22 13:47:27.406 | DEBUG    | __main__:<module>:4 - this is a debug\n"
     ]
    }
   ],
   "source": [
    "from loguru import logger\n",
    "\n",
    "logger.add('runtime.log')\n",
    "logger.debug('this is a debug')"
   ]
  },
  {
   "cell_type": "markdown",
   "metadata": {},
   "source": [
    "很简单吧，我们也不需要再声明一个 FileHandler 了，就一行 add 语句搞定，运行之后会发现目录下 runtime.log 里面同样出现了刚刚控制台输出的 DEBUG 信息。\n",
    "\n",
    "上面就是一些基本的使用，但这还远远不够，下面我们来详细了解下它的一些功能模块。"
   ]
  },
  {
   "cell_type": "markdown",
   "metadata": {},
   "source": [
    "## 详细使用"
   ]
  },
  {
   "cell_type": "markdown",
   "metadata": {},
   "source": [
    "既然是日志，那么最常见的就是输出到文件了。loguru 对输出到文件的配置有非常强大的支持，比如支持输出到多个文件，分级别分别输出，过大创建新文件，过久自动删除等等。\n",
    "### add\n",
    "下面我们分别看看这些怎样来实现，这里基本上就是 add 方法的使用介绍。因为这个 add 方法就相当于给 logger 添加了一个 Handler，它给我们暴露了许多参数来实现 Handler 的配置，下面我们来详细介绍下。\n",
    "\n",
    "首先看看它的方法定义吧："
   ]
  },
  {
   "cell_type": "code",
   "execution_count": null,
   "metadata": {},
   "outputs": [],
   "source": [
    "logger.add(\n",
    "    sink,\n",
    "    *,\n",
    "    level='DEBUG',\n",
    "    format='<green>{time:YYYY-MM-DD HH:mm:ss.SSS}</green> | <level>{level: <8}</level> | <cyan>{name}</cyan>:<cyan>{function}</cyan>:<cyan>{line}</cyan> - <level>{message}</level>',\n",
    "    filter=None,\n",
    "    colorize=None,\n",
    "    serialize=False,\n",
    "    backtrace=True,\n",
    "    diagnose=True,\n",
    "    enqueue=False,\n",
    "    catch=True,\n",
    "    **kwargs,\n",
    ")"
   ]
  },
  {
   "cell_type": "markdown",
   "metadata": {},
   "source": [
    "### sink\n",
    "sink : |file-like object|_, |str|, |Path|, |function|_, |Handler| or |class|_\n",
    "    An object in charge of receiving formatted logging messages and propagating them to an appropriate endpoint.\n",
    "    \n",
    "另外我们还注意到它有个非常重要的参数 sink，我们看看官方文档：https://loguru.readthedocs.io/en/stable/api/logger.html#sink，可以了解到通过 sink 我们可以传入多种不同的数据结构，汇总如下：\n",
    "\n",
    "\n",
    "* sink 可以传入一个 file 对象，例如 sys.stderr 或者 open('file.log', 'w') 都可以。\n",
    "* sink 可以直接传入一个 str 字符串或者 pathlib.Path 对象，其实就是代表文件路径的，如果识别到是这种类型，它会自动创建对应路径的日志文件并将日志输出进去。\n",
    "* sink 可以是一个方法，可以自行定义输出实现。\n",
    "* sink 可以是一个 logging 模块的 Handler，比如 FileHandler、StreamHandler 等等，或者上文中我们提到的 CMRESHandler 照样也是可以的，这样就可以实现自定义 Handler 的配置。\n",
    "* sink 还可以是一个自定义的类，具体的实现规范可以参见官方文档。\n",
    "\n",
    "所以说，刚才我们所演示的输出到文件，仅仅给它传了一个 str 字符串路径，他就给我们创建了一个日志文件，就是这个原理。"
   ]
  },
  {
   "cell_type": "markdown",
   "metadata": {},
   "source": [
    "### format、filter、level\n",
    "\n",
    "下面我们再了解下它的其他参数，例如 format、filter、level 等等。\n",
    "\n",
    "其实它们的概念和格式和 logging 模块都是基本一样的了，例如这里使用 format、filter、level 来规定输出的格式："
   ]
  },
  {
   "cell_type": "code",
   "execution_count": null,
   "metadata": {},
   "outputs": [],
   "source": [
    "logger.add('runtime.log', format=\"{time} {level} {message}\", filter=\"my_module\", level=\"INFO\")"
   ]
  },
  {
   "cell_type": "markdown",
   "metadata": {},
   "source": [
    "### 删除 sink\n",
    "\n",
    "另外添加 sink 之后我们也可以对其进行删除，相当于重新刷新并写入新的内容。\n",
    "\n",
    "删除的时候根据刚刚 add 方法返回的 id 进行删除即可，看下面的例子："
   ]
  },
  {
   "cell_type": "code",
   "execution_count": 1,
   "metadata": {},
   "outputs": [
    {
     "name": "stderr",
     "output_type": "stream",
     "text": [
      "2019-11-22 13:57:30.934 | DEBUG    | __main__:<module>:4 - this is a debug message\n",
      "2019-11-22 13:57:30.936 | DEBUG    | __main__:<module>:6 - this is another debug message\n"
     ]
    }
   ],
   "source": [
    "from loguru import logger\n",
    "\n",
    "trace = logger.add('runtime.log')\n",
    "logger.debug('this is a debug message')\n",
    "logger.remove(trace)\n",
    "logger.debug('this is another debug message')"
   ]
  },
  {
   "cell_type": "markdown",
   "metadata": {},
   "source": [
    "### rotation 配置\n",
    "\n",
    "用了 loguru 我们还可以非常方便地使用 rotation 配置，比如我们想一天输出一个日志文件，或者文件太大了自动分隔日志文件，我们可以直接使用 add 方法的 rotation 参数进行配置。\n",
    "\n",
    "我们看看下面的例子："
   ]
  },
  {
   "cell_type": "code",
   "execution_count": null,
   "metadata": {},
   "outputs": [],
   "source": [
    "logger.add('runtime_{time}.log', rotation=\"500 MB\")"
   ]
  },
  {
   "cell_type": "markdown",
   "metadata": {},
   "source": [
    "通过这样的配置我们就可以实现每 500MB 存储一个文件，每个 log 文件过大就会新创建一个 log 文件。我们在配置 log 名字时加上了一个 time 占位符，这样在生成时可以自动将时间替换进去，生成一个文件名包含时间的 log 文件。\n",
    "\n",
    "另外我们也可以使用 rotation 参数实现定时创建 log 文件，例如："
   ]
  },
  {
   "cell_type": "code",
   "execution_count": null,
   "metadata": {},
   "outputs": [],
   "source": [
    "logger.add('runtime_{time}.log', rotation='00:00')"
   ]
  },
  {
   "cell_type": "markdown",
   "metadata": {},
   "source": [
    "这样就可以实现每天 0 点新创建一个 log 文件输出了。\n",
    "\n",
    "另外我们也可以配置 log 文件的循环时间，比如每隔一周创建一个 log 文件，写法如下："
   ]
  },
  {
   "cell_type": "code",
   "execution_count": null,
   "metadata": {},
   "outputs": [],
   "source": [
    "logger.add('runtime_{time}.log', rotation='1 week')"
   ]
  },
  {
   "cell_type": "markdown",
   "metadata": {},
   "source": [
    "### retention 配置\n",
    "\n",
    "很多情况下，一些非常久远的 log 对我们来说并没有什么用处了，它白白占据了一些存储空间，不清除掉就会非常浪费。retention 这个参数可以配置日志的最长保留时间。\n",
    "\n",
    "比如我们想要设置日志文件最长保留 10 天，可以这么来配置："
   ]
  },
  {
   "cell_type": "code",
   "execution_count": null,
   "metadata": {},
   "outputs": [],
   "source": [
    "logger.add('runtime.log', retention='10 days')"
   ]
  },
  {
   "cell_type": "markdown",
   "metadata": {},
   "source": [
    "这样可以更加节省存储空间。\n",
    "### 字符串格式化\n",
    "\n",
    "loguru 在输出 log 的时候还提供了非常友好的字符串格式化功能，像这样："
   ]
  },
  {
   "cell_type": "code",
   "execution_count": null,
   "metadata": {},
   "outputs": [],
   "source": [
    "logger.info('If you are using Python {}, prefer {feature} of course!', 3.6, feature='f-strings')"
   ]
  },
  {
   "cell_type": "markdown",
   "metadata": {},
   "source": [
    "这样在添加参数就非常方便了。\n",
    "### Traceback 记录\n",
    "\n",
    "在很多情况下，如果遇到运行错误，而我们在打印输出 log 的时候万一不小心没有配置好 Traceback 的输出，很有可能我们就没法追踪错误所在了。\n",
    "\n",
    "但用了 loguru 之后，我们用它提供的装饰器就可以直接进行 Traceback 的记录，类似这样的配置即可："
   ]
  },
  {
   "cell_type": "code",
   "execution_count": 1,
   "metadata": {},
   "outputs": [],
   "source": [
    "from loguru import logger\n",
    "\n",
    "trace = logger.add('runtime.log')"
   ]
  },
  {
   "cell_type": "code",
   "execution_count": 2,
   "metadata": {},
   "outputs": [],
   "source": [
    "@logger.catch\n",
    "def my_function(x, y, z):\n",
    "    # An error? It's caught anyway!\n",
    "    return 1 / (x + y + z)"
   ]
  },
  {
   "cell_type": "markdown",
   "metadata": {},
   "source": [
    "我们做个测试，我们在调用时三个参数都传入 0，直接引发除以 0 的错误，看看会出现什么情况："
   ]
  },
  {
   "cell_type": "code",
   "execution_count": 3,
   "metadata": {},
   "outputs": [
    {
     "name": "stderr",
     "output_type": "stream",
     "text": [
      "2019-11-22 14:05:05.081 | ERROR    | __main__:<module>:1 - An error has been caught in function '<module>', process 'MainProcess' (1544), thread 'MainThread' (140735481316224):\n",
      "Traceback (most recent call last):\n",
      "  File \"/Users/luoyonggui/anaconda3/lib/python3.7/runpy.py\", line 193, in _run_module_as_main\n",
      "    \"__main__\", mod_spec)\n",
      "                └ ModuleSpec(name='ipykernel_launcher', loader=<_frozen_importlib_external.SourceFileLoader object at 0x10400ff60>, origin='/Us...\n",
      "  File \"/Users/luoyonggui/anaconda3/lib/python3.7/runpy.py\", line 85, in _run_code\n",
      "    exec(code, run_globals)\n",
      "         │     └ {'__name__': '__main__', '__doc__': 'Entry point for launching an IPython kernel.\\n\\nThis is separate from the ipykernel pack...\n",
      "         └ <code object <module> at 0x103b6ff60, file \"/Users/luoyonggui/anaconda3/lib/python3.7/site-packages/ipykernel_launcher.py\", l...\n",
      "  File \"/Users/luoyonggui/anaconda3/lib/python3.7/site-packages/ipykernel_launcher.py\", line 16, in <module>\n",
      "    app.launch_new_instance()\n",
      "    │   └ <bound method Application.launch_instance of <class 'ipykernel.kernelapp.IPKernelApp'>>\n",
      "    └ <module 'ipykernel.kernelapp' from '/Users/luoyonggui/anaconda3/lib/python3.7/site-packages/ipykernel/kernelapp.py'>\n",
      "  File \"/Users/luoyonggui/anaconda3/lib/python3.7/site-packages/traitlets/config/application.py\", line 658, in launch_instance\n",
      "    app.start()\n",
      "    │   └ <function IPKernelApp.start at 0x1069ad2f0>\n",
      "    └ <ipykernel.kernelapp.IPKernelApp object at 0x103a0e6d8>\n",
      "  File \"/Users/luoyonggui/anaconda3/lib/python3.7/site-packages/ipykernel/kernelapp.py\", line 505, in start\n",
      "    self.io_loop.start()\n",
      "    │    │       └ <function BaseAsyncIOLoop.start at 0x1068b9510>\n",
      "    │    └ <tornado.platform.asyncio.AsyncIOMainLoop object at 0x1069c11d0>\n",
      "    └ <ipykernel.kernelapp.IPKernelApp object at 0x103a0e6d8>\n",
      "  File \"/Users/luoyonggui/anaconda3/lib/python3.7/site-packages/tornado/platform/asyncio.py\", line 148, in start\n",
      "    self.asyncio_loop.run_forever()\n",
      "    │    │            └ <function BaseEventLoop.run_forever at 0x104ba5b70>\n",
      "    │    └ <_UnixSelectorEventLoop running=True closed=False debug=False>\n",
      "    └ <tornado.platform.asyncio.AsyncIOMainLoop object at 0x1069c11d0>\n",
      "  File \"/Users/luoyonggui/anaconda3/lib/python3.7/asyncio/base_events.py\", line 539, in run_forever\n",
      "    self._run_once()\n",
      "    │    └ <function BaseEventLoop._run_once at 0x104bab598>\n",
      "    └ <_UnixSelectorEventLoop running=True closed=False debug=False>\n",
      "  File \"/Users/luoyonggui/anaconda3/lib/python3.7/asyncio/base_events.py\", line 1775, in _run_once\n",
      "    handle._run()\n",
      "    │      └ <function Handle._run at 0x104b69510>\n",
      "    └ <Handle IOLoop.add_future.<locals>.<lambda>(<Future finis...4ea8>, ...]))>) at /Users/luoyonggui/anaconda3/lib/python3.7/site...\n",
      "  File \"/Users/luoyonggui/anaconda3/lib/python3.7/asyncio/events.py\", line 88, in _run\n",
      "    self._context.run(self._callback, *self._args)\n",
      "    │    │            │    │           │    └ <member '_args' of 'Handle' objects>\n",
      "    │    │            │    │           └ <Handle IOLoop.add_future.<locals>.<lambda>(<Future finis...4ea8>, ...]))>) at /Users/luoyonggui/anaconda3/lib/python3.7/site...\n",
      "    │    │            │    └ <member '_callback' of 'Handle' objects>\n",
      "    │    │            └ <Handle IOLoop.add_future.<locals>.<lambda>(<Future finis...4ea8>, ...]))>) at /Users/luoyonggui/anaconda3/lib/python3.7/site...\n",
      "    │    └ <member '_context' of 'Handle' objects>\n",
      "    └ <Handle IOLoop.add_future.<locals>.<lambda>(<Future finis...4ea8>, ...]))>) at /Users/luoyonggui/anaconda3/lib/python3.7/site...\n",
      "  File \"/Users/luoyonggui/anaconda3/lib/python3.7/site-packages/tornado/ioloop.py\", line 690, in <lambda>\n",
      "    lambda f: self._run_callback(functools.partial(callback, future))\n",
      "           │  │    │             │         │       │         └ <Future finished result=(10, 4, <bound method... 0x1069c1978>>, (<zmq.eventloo...t 0x1069c1320>, [<zmq.sugar.fr...t 0x106a14b...\n",
      "           │  │    │             │         │       └ <function Runner.handle_yield.<locals>.inner at 0x106a5b268>\n",
      "           │  │    │             │         └ <class 'functools.partial'>\n",
      "           │  │    │             └ <module 'functools' from '/Users/luoyonggui/anaconda3/lib/python3.7/functools.py'>\n",
      "           │  │    └ <function IOLoop._run_callback at 0x1068a0510>\n",
      "           │  └ <tornado.platform.asyncio.AsyncIOMainLoop object at 0x1069c11d0>\n",
      "           └ <Future finished result=(10, 4, <bound method... 0x1069c1978>>, (<zmq.eventloo...t 0x1069c1320>, [<zmq.sugar.fr...t 0x106a14b...\n",
      "  File \"/Users/luoyonggui/anaconda3/lib/python3.7/site-packages/tornado/ioloop.py\", line 743, in _run_callback\n",
      "    ret = callback()\n",
      "          └ functools.partial(<function Runner.handle_yield.<locals>.inner at 0x106a5b268>, <Future finished result=(10, 4, <bound method...\n",
      "  File \"/Users/luoyonggui/anaconda3/lib/python3.7/site-packages/tornado/gen.py\", line 781, in inner\n",
      "    self.run()\n",
      "    │    └ <function Runner.run at 0x1068a7d90>\n",
      "    └ <tornado.gen.Runner object at 0x106b9bf60>\n",
      "  File \"/Users/luoyonggui/anaconda3/lib/python3.7/site-packages/tornado/gen.py\", line 742, in run\n",
      "    yielded = self.gen.send(value)\n",
      "              │    │   │    └ (10, 4, <bound method Kernel.dispatch_shell of <ipykernel.ipkernel.IPythonKernel object at 0x1069c1978>>, (<zmq.eventloop.zmq...\n",
      "              │    │   └ <method 'send' of 'generator' objects>\n",
      "              │    └ <generator object Kernel.process_one at 0x106aaeed0>\n",
      "              └ <tornado.gen.Runner object at 0x106b9bf60>\n",
      "  File \"/Users/luoyonggui/anaconda3/lib/python3.7/site-packages/ipykernel/kernelbase.py\", line 357, in process_one\n",
      "    yield gen.maybe_future(dispatch(*args))\n",
      "          │   │            │         └ (<zmq.eventloop.zmqstream.ZMQStream object at 0x1069c1320>, [<zmq.sugar.frame.Frame object at 0x106a14b10>, <zmq.sugar.frame....\n",
      "          │   │            └ <bound method Kernel.dispatch_shell of <ipykernel.ipkernel.IPythonKernel object at 0x1069c1978>>\n",
      "          │   └ <function maybe_future at 0x1068a79d8>\n",
      "          └ <module 'tornado.gen' from '/Users/luoyonggui/anaconda3/lib/python3.7/site-packages/tornado/gen.py'>\n",
      "  File \"/Users/luoyonggui/anaconda3/lib/python3.7/site-packages/tornado/gen.py\", line 209, in wrapper\n",
      "    yielded = next(result)\n",
      "                   └ <generator object Kernel.dispatch_shell at 0x106aaef48>\n",
      "  File \"/Users/luoyonggui/anaconda3/lib/python3.7/site-packages/ipykernel/kernelbase.py\", line 267, in dispatch_shell\n",
      "    yield gen.maybe_future(handler(stream, idents, msg))\n",
      "          │   │            │       │       │       └ {'header': {'msg_id': '7011073c14f9444585eefc30c806bc23', 'username': 'username', 'session': '1688f4e8675b4ad48f9c46b8863a20e...\n",
      "          │   │            │       │       └ [b'1688f4e8675b4ad48f9c46b8863a20ed']\n",
      "          │   │            │       └ <zmq.eventloop.zmqstream.ZMQStream object at 0x1069c1320>\n",
      "          │   │            └ <bound method Kernel.execute_request of <ipykernel.ipkernel.IPythonKernel object at 0x1069c1978>>\n",
      "          │   └ <function maybe_future at 0x1068a79d8>\n",
      "          └ <module 'tornado.gen' from '/Users/luoyonggui/anaconda3/lib/python3.7/site-packages/tornado/gen.py'>\n",
      "  File \"/Users/luoyonggui/anaconda3/lib/python3.7/site-packages/tornado/gen.py\", line 209, in wrapper\n",
      "    yielded = next(result)\n",
      "                   └ <generator object Kernel.execute_request at 0x106b24048>\n",
      "  File \"/Users/luoyonggui/anaconda3/lib/python3.7/site-packages/ipykernel/kernelbase.py\", line 534, in execute_request\n",
      "    user_expressions, allow_stdin,\n",
      "    │                 └ True\n",
      "    └ {}\n",
      "  File \"/Users/luoyonggui/anaconda3/lib/python3.7/site-packages/tornado/gen.py\", line 209, in wrapper\n",
      "    yielded = next(result)\n",
      "                   └ <generator object IPythonKernel.do_execute at 0x106b240c0>\n",
      "  File \"/Users/luoyonggui/anaconda3/lib/python3.7/site-packages/ipykernel/ipkernel.py\", line 294, in do_execute\n",
      "    res = shell.run_cell(code, store_history=store_history, silent=silent)\n",
      "          │     │        │     │             │              │      └ False\n",
      "          │     │        │     │             │              └ False\n",
      "          │     │        │     │             └ True\n",
      "          │     │        │     └ True\n",
      "          │     │        └ 'my_function(0, 0, 0)'\n",
      "          │     └ <function ZMQInteractiveShell.run_cell at 0x1069a4268>\n",
      "          └ <ipykernel.zmqshell.ZMQInteractiveShell object at 0x1069c1cf8>\n",
      "  File \"/Users/luoyonggui/anaconda3/lib/python3.7/site-packages/ipykernel/zmqshell.py\", line 536, in run_cell\n",
      "    return super(ZMQInteractiveShell, self).run_cell(*args, **kwargs)\n",
      "                 │                    │               │       └ {'store_history': True, 'silent': False}\n",
      "                 │                    │               └ ('my_function(0, 0, 0)',)\n",
      "                 │                    └ <ipykernel.zmqshell.ZMQInteractiveShell object at 0x1069c1cf8>\n",
      "                 └ <class 'ipykernel.zmqshell.ZMQInteractiveShell'>\n",
      "  File \"/Users/luoyonggui/anaconda3/lib/python3.7/site-packages/IPython/core/interactiveshell.py\", line 2848, in run_cell\n",
      "    raw_cell, store_history, silent, shell_futures)\n",
      "    │         │              │       └ True\n",
      "    │         │              └ False\n",
      "    │         └ True\n",
      "    └ 'my_function(0, 0, 0)'\n",
      "  File \"/Users/luoyonggui/anaconda3/lib/python3.7/site-packages/IPython/core/interactiveshell.py\", line 2874, in _run_cell\n",
      "    return runner(coro)\n",
      "           │      └ <generator object InteractiveShell.run_cell_async at 0x106b24138>\n",
      "           └ <function _pseudo_sync_runner at 0x104ed3c80>\n",
      "  File \"/Users/luoyonggui/anaconda3/lib/python3.7/site-packages/IPython/core/async_helpers.py\", line 67, in _pseudo_sync_runner\n",
      "    coro.send(None)\n",
      "    │    └ <method 'send' of 'generator' objects>\n",
      "    └ <generator object InteractiveShell.run_cell_async at 0x106b24138>\n",
      "  File \"/Users/luoyonggui/anaconda3/lib/python3.7/site-packages/IPython/core/interactiveshell.py\", line 3049, in run_cell_async\n",
      "    interactivity=interactivity, compiler=compiler, result=result)\n",
      "    │             │              │        │         │      └ <ExecutionResult object at 106a61a58, execution_count=3 error_before_exec=None error_in_exec=None info=<ExecutionInfo object ...\n",
      "    │             │              │        │         └ <ExecutionResult object at 106a61a58, execution_count=3 error_before_exec=None error_in_exec=None info=<ExecutionInfo object ...\n",
      "    │             │              │        └ <IPython.core.compilerop.CachingCompiler object at 0x1068e70f0>\n",
      "    │             │              └ <IPython.core.compilerop.CachingCompiler object at 0x1068e70f0>\n",
      "    │             └ 'last_expr'\n",
      "    └ 'last_expr'\n",
      "  File \"/Users/luoyonggui/anaconda3/lib/python3.7/site-packages/IPython/core/interactiveshell.py\", line 3220, in run_ast_nodes\n",
      "    if (yield from self.run_code(code, result)):\n",
      "                   │    │        │     └ <ExecutionResult object at 106a61a58, execution_count=3 error_before_exec=None error_in_exec=None info=<ExecutionInfo object ...\n",
      "                   │    │        └ <code object <module> at 0x103b038a0, file \"<ipython-input-3-7d03f1b15a39>\", line 1>\n",
      "                   │    └ <function InteractiveShell.run_code at 0x104ee96a8>\n",
      "                   └ <ipykernel.zmqshell.ZMQInteractiveShell object at 0x1069c1cf8>\n",
      "  File \"/Users/luoyonggui/anaconda3/lib/python3.7/site-packages/IPython/core/interactiveshell.py\", line 3296, in run_code\n",
      "    exec(code_obj, self.user_global_ns, self.user_ns)\n",
      "         │         │    │               │    └ {'__name__': '__main__', '__doc__': 'Automatically created module for IPython interactive environment', '__package__': None, ...\n",
      "         │         │    │               └ <ipykernel.zmqshell.ZMQInteractiveShell object at 0x1069c1cf8>\n",
      "         │         │    └ <property object at 0x104edd458>\n",
      "         │         └ <ipykernel.zmqshell.ZMQInteractiveShell object at 0x1069c1cf8>\n",
      "         └ <code object <module> at 0x103b038a0, file \"<ipython-input-3-7d03f1b15a39>\", line 1>\n",
      "> File \"<ipython-input-3-7d03f1b15a39>\", line 1, in <module>\n",
      "    my_function(0, 0, 0)\n",
      "    └ <function my_function at 0x106b15400>\n",
      "  File \"<ipython-input-2-3dce1744837d>\", line 4, in my_function\n",
      "    return 1 / (x + y + z)\n",
      "                │   │   └ 0\n",
      "                │   └ 0\n",
      "                └ 0\n",
      "\n",
      "ZeroDivisionError: division by zero\n"
     ]
    }
   ],
   "source": [
    "my_function(0, 0, 0)"
   ]
  },
  {
   "cell_type": "markdown",
   "metadata": {},
   "source": [
    "运行完毕之后，可以发现 log 里面就出现了 Traceback 信息，而且给我们输出了当时的变量值，真的是不能再赞了！\n",
    "\n",
    "因此，用 loguru 可以非常方便地实现日志追踪，debug 效率可能要高上十倍了？\n",
    "\n",
    "另外 loguru 还有很多很多强大的功能，这里就不再一一展开讲解了，更多的内容大家可以看看 loguru 的官方文档详细了解一下：\n",
    "\n",
    "看完之后，是时候把自己的 logging 模块替换成 loguru 啦！"
   ]
  },
  {
   "cell_type": "code",
   "execution_count": null,
   "metadata": {},
   "outputs": [],
   "source": []
  }
 ],
 "metadata": {
  "kernelspec": {
   "display_name": "Python 3",
   "language": "python",
   "name": "python3"
  },
  "language_info": {
   "codemirror_mode": {
    "name": "ipython",
    "version": 3
   },
   "file_extension": ".py",
   "mimetype": "text/x-python",
   "name": "python",
   "nbconvert_exporter": "python",
   "pygments_lexer": "ipython3",
   "version": "3.7.3"
  },
  "toc": {
   "base_numbering": 1,
   "nav_menu": {},
   "number_sections": true,
   "sideBar": true,
   "skip_h1_title": false,
   "title_cell": "Table of Contents",
   "title_sidebar": "Contents",
   "toc_cell": false,
   "toc_position": {},
   "toc_section_display": true,
   "toc_window_display": true
  }
 },
 "nbformat": 4,
 "nbformat_minor": 2
}
