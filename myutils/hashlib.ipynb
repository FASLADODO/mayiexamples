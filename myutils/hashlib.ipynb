{
 "cells": [
  {
   "cell_type": "markdown",
   "metadata": {},
   "source": [
    "https://mp.weixin.qq.com/s/APvmKcFyrwA5wLYZ1vrF5g\n",
    "    \n",
    "hashlib模块提供了很多加密的算法"
   ]
  },
  {
   "cell_type": "markdown",
   "metadata": {},
   "source": [
    "# md5()加密算法"
   ]
  },
  {
   "cell_type": "code",
   "execution_count": 1,
   "metadata": {},
   "outputs": [
    {
     "name": "stdout",
     "output_type": "stream",
     "text": [
      "5f4dcc3b5aa765d61d8327deb882cf99\n"
     ]
    }
   ],
   "source": [
    "import hashlib\n",
    "hash = hashlib.md5()#创建了一个md5算法的对象(md5不能反解)，即造出hash工厂\n",
    "hash.update(bytes('password',encoding='utf-8'))#运送原材料喽，要对哪个字符串进行加密，就放这里\n",
    "print(hash.hexdigest())#产出hash值,拿到加密字符串"
   ]
  },
  {
   "cell_type": "markdown",
   "metadata": {},
   "source": [
    "我们可以看到生成结果是一个32位（5f4dcc3b5aa765d61d8327deb882cf99）的16进制字符串，生成结果是固定的128 bit字节（需要注意的是加密是固定的，就是关系是一一对应的，是存在缺陷的，可以被对撞出来，特别是一些使用123456666类作为密码的用户）"
   ]
  },
  {
   "cell_type": "markdown",
   "metadata": {},
   "source": [
    "# sha1()加密算法"
   ]
  },
  {
   "cell_type": "code",
   "execution_count": 2,
   "metadata": {},
   "outputs": [
    {
     "name": "stdout",
     "output_type": "stream",
     "text": [
      "5baa61e4c9b93f3f0682250b6cf8331b7ee68fd8\n"
     ]
    }
   ],
   "source": [
    "hash2=hashlib.sha1()#sha1算法，hashlib很多加密算法\n",
    "hash2.update(bytes('password',encoding='utf-8'))\n",
    "print(hash2.hexdigest())"
   ]
  },
  {
   "cell_type": "markdown",
   "metadata": {},
   "source": [
    "sha1()加密算法的结果是160 bit字节，通常用一个40位的16进制字符串表示。"
   ]
  },
  {
   "cell_type": "markdown",
   "metadata": {},
   "source": [
    "# sha256()加密算法"
   ]
  },
  {
   "cell_type": "code",
   "execution_count": 4,
   "metadata": {},
   "outputs": [
    {
     "name": "stdout",
     "output_type": "stream",
     "text": [
      "5e884898da28047151d0e56f8dc6292773603d0d6aabbdd62a11ef721d1542d8\n"
     ]
    }
   ],
   "source": [
    "hash3=hashlib.sha256()#不同算法，hashlib很多加密算法\n",
    "hash3.update(bytes('password',encoding='utf-8'))\n",
    "print(hash3.hexdigest())"
   ]
  },
  {
   "cell_type": "markdown",
   "metadata": {},
   "source": [
    "比sha1更安全的算法是SHA256和SHA512，不过越安全的算法越慢，而且摘要长度更长。\n",
    "\n"
   ]
  },
  {
   "cell_type": "code",
   "execution_count": null,
   "metadata": {},
   "outputs": [],
   "source": []
  }
 ],
 "metadata": {
  "kernelspec": {
   "display_name": "Python 3",
   "language": "python",
   "name": "python3"
  },
  "language_info": {
   "codemirror_mode": {
    "name": "ipython",
    "version": 3
   },
   "file_extension": ".py",
   "mimetype": "text/x-python",
   "name": "python",
   "nbconvert_exporter": "python",
   "pygments_lexer": "ipython3",
   "version": "3.7.3"
  },
  "toc": {
   "base_numbering": 1,
   "nav_menu": {},
   "number_sections": true,
   "sideBar": true,
   "skip_h1_title": false,
   "title_cell": "Table of Contents",
   "title_sidebar": "Contents",
   "toc_cell": false,
   "toc_position": {},
   "toc_section_display": true,
   "toc_window_display": false
  }
 },
 "nbformat": 4,
 "nbformat_minor": 2
}
