{
 "cells": [
  {
   "cell_type": "markdown",
   "metadata": {},
   "source": [
    "# pyquery\n",
    "pyquery allows you to make jquery queries on xml documents. The API is as much as possible the similar to jquery. pyquery uses lxml for fast xml and html manipulation.\n",
    "\n",
    "https://pythonhosted.org/pyquery/\n",
    "\n",
    "https://pythonhosted.org/pyquery/api.html"
   ]
  },
  {
   "cell_type": "code",
   "execution_count": 3,
   "metadata": {},
   "outputs": [
    {
     "name": "stdout",
     "output_type": "stream",
     "text": [
      "pyquery==1.4.0\r\n"
     ]
    }
   ],
   "source": [
    "#!pip install -U pyquery\n",
    "!pip freeze | grep pyquery"
   ]
  },
  {
   "cell_type": "code",
   "execution_count": 4,
   "metadata": {},
   "outputs": [],
   "source": [
    "from pyquery import PyQuery as pq"
   ]
  },
  {
   "cell_type": "markdown",
   "metadata": {},
   "source": [
    "# pyquery操作html dom tree"
   ]
  },
  {
   "cell_type": "markdown",
   "metadata": {},
   "source": [
    "## 使用pyquery生成html\n",
    "可以生成，但是不太优雅。。。"
   ]
  },
  {
   "cell_type": "code",
   "execution_count": 40,
   "metadata": {},
   "outputs": [],
   "source": [
    "html = \"\"\"\n",
    "<html>  \n",
    "  <head>\n",
    "    <meta http-equiv=\"Content-Type\" content=\"text/html; charset=utf8\" />\n",
    "    <title></title>\n",
    "  </head>  \n",
    "  <body>  \n",
    "  </body>  \n",
    "</html> \n",
    "\"\"\""
   ]
  },
  {
   "cell_type": "code",
   "execution_count": 41,
   "metadata": {},
   "outputs": [],
   "source": [
    "d = pq(html)"
   ]
  },
  {
   "cell_type": "code",
   "execution_count": 35,
   "metadata": {},
   "outputs": [
    {
     "name": "stdout",
     "output_type": "stream",
     "text": [
      "  \n",
      "  <head>\n",
      "    <meta http-equiv=\"Content-Type\" content=\"text/html; charset=utf8\"/>\n",
      "    <title/>\n",
      "  </head>  \n",
      "  <body>  \n",
      "  </body>  \n",
      "\n"
     ]
    }
   ],
   "source": [
    "print(d.html())"
   ]
  },
  {
   "cell_type": "code",
   "execution_count": 36,
   "metadata": {},
   "outputs": [
    {
     "name": "stdout",
     "output_type": "stream",
     "text": [
      "<html>  \n",
      "  <head>\n",
      "    <meta http-equiv=\"Content-Type\" content=\"text/html; charset=utf8\">\n",
      "    <title></title>\n",
      "  </head>  \n",
      "  <body>  \n",
      "  </body>  \n",
      "</html>\n"
     ]
    }
   ],
   "source": [
    "print(d.outerHtml())"
   ]
  },
  {
   "cell_type": "code",
   "execution_count": 37,
   "metadata": {},
   "outputs": [
    {
     "name": "stdout",
     "output_type": "stream",
     "text": [
      "<html>  \n",
      "  <head>\n",
      "    <meta http-equiv=\"Content-Type\" content=\"text/html; charset=utf8\">\n",
      "    <title></title>\n",
      "  </head>  \n",
      "  <body>  \n",
      "  </body>  \n",
      "</html>\n"
     ]
    }
   ],
   "source": [
    "print(d.outer_html())"
   ]
  },
  {
   "cell_type": "code",
   "execution_count": 4,
   "metadata": {},
   "outputs": [],
   "source": [
    "s = \"\"\"ts_code\tstr\tTS股票代码\n",
    "trade_date\tstr\t交易日期\n",
    "close\tfloat\t当日收盘价\n",
    "turnover_rate\tfloat\t换手率（%）\n",
    "turnover_rate_f\tfloat\t换手率（自由流通股）\n",
    "volume_ratio\tfloat\t量比\n",
    "pe\tfloat\t市盈率（总市值/净利润）\n",
    "pe_ttm\tfloat\t市盈率（TTM）\n",
    "pb\tfloat\t市净率（总市值/净资产）\n",
    "ps\tfloat\t市销率\n",
    "ps_ttm\tfloat\t市销率（TTM）\n",
    "total_share\tfloat\t总股本 （万股）\n",
    "float_share\tfloat\t流通股本 （万股）\n",
    "free_share\tfloat\t自由流通股本 （万）\n",
    "total_mv\tfloat\t总市值 （万元）\n",
    "circ_mv\tfloat\t流通市值（万元）\"\"\""
   ]
  },
  {
   "cell_type": "code",
   "execution_count": 9,
   "metadata": {},
   "outputs": [
    {
     "data": {
      "text/plain": [
       "['TS股票代码',\n",
       " '交易日期',\n",
       " '当日收盘价',\n",
       " '换手率（%）',\n",
       " '换手率（自由流通股）',\n",
       " '量比',\n",
       " '市盈率（总市值/净利润）',\n",
       " '市盈率（TTM）',\n",
       " '市净率（总市值/净资产）',\n",
       " '市销率',\n",
       " '市销率（TTM）',\n",
       " '总股本',\n",
       " '流通股本',\n",
       " '自由流通股本',\n",
       " '总市值',\n",
       " '流通市值（万元）']"
      ]
     },
     "execution_count": 9,
     "metadata": {},
     "output_type": "execute_result"
    }
   ],
   "source": [
    "[i.split()[2] for i in s.split('\\n')]"
   ]
  },
  {
   "cell_type": "code",
   "execution_count": 8,
   "metadata": {},
   "outputs": [
    {
     "data": {
      "text/plain": [
       "'TS股票代码,交易日期,当日收盘价,换手率（%）,换手率（自由流通股）,量比,市盈率（总市值/净利润）,市盈率（TTM）,市净率（总市值/净资产）,市销率,市销率（TTM）,总股本,流通股本,自由流通股本,总市值,流通市值（万元）'"
      ]
     },
     "execution_count": 8,
     "metadata": {},
     "output_type": "execute_result"
    }
   ],
   "source": [
    "','.join([i.split()[2] for i in s.split('\\n')])"
   ]
  },
  {
   "cell_type": "markdown",
   "metadata": {},
   "source": [
    "## 标签选择器"
   ]
  },
  {
   "cell_type": "code",
   "execution_count": 42,
   "metadata": {},
   "outputs": [
    {
     "name": "stdout",
     "output_type": "stream",
     "text": [
      "<html>  \n",
      "  <head>\n",
      "    <meta http-equiv=\"Content-Type\" content=\"text/html; charset=utf8\">\n",
      "    <title>Title1</title>\n",
      "  </head>  \n",
      "  <body>  \n",
      "  </body>  \n",
      "</html>\n"
     ]
    }
   ],
   "source": [
    "d('title').append('Title1')\n",
    "print(d.outer_html())"
   ]
  },
  {
   "cell_type": "code",
   "execution_count": 44,
   "metadata": {},
   "outputs": [
    {
     "name": "stdout",
     "output_type": "stream",
     "text": [
      "<table><thead><tr><th>code</th><th>close</th><th>vol</th><th>trade_date</th></tr></thead><tbody><tr><td>code</td><td>close</td><td>vol</td><td>trade_date</td></tr></tbody></table>\n"
     ]
    }
   ],
   "source": [
    "table = pq('<table><thead></thead><tbody></tbody></table>')\n",
    "table('thead').append('<tr><th>code</th><th>close</th><th>vol</th><th>trade_date</th></tr>')\n",
    "table('tbody').append('<tr><td>code</td><td>close</td><td>vol</td><td>trade_date</td></tr>')\n",
    "print(table.outer_html())"
   ]
  },
  {
   "cell_type": "code",
   "execution_count": 47,
   "metadata": {},
   "outputs": [
    {
     "data": {
      "text/plain": [
       "[<body>]"
      ]
     },
     "execution_count": 47,
     "metadata": {},
     "output_type": "execute_result"
    }
   ],
   "source": [
    "d('body').append(table)"
   ]
  },
  {
   "cell_type": "code",
   "execution_count": 48,
   "metadata": {},
   "outputs": [
    {
     "name": "stdout",
     "output_type": "stream",
     "text": [
      "<html>  \n",
      "  <head>\n",
      "    <meta http-equiv=\"Content-Type\" content=\"text/html; charset=utf8\">\n",
      "    <title>Title1</title>\n",
      "  </head>  \n",
      "  <body>  \n",
      "  <table><thead><tr><th>code</th><th>close</th><th>vol</th><th>trade_date</th></tr></thead><tbody><tr><td>code</td><td>close</td><td>vol</td><td>trade_date</td></tr></tbody></table></body>  \n",
      "</html>\n"
     ]
    }
   ],
   "source": [
    "print(d.outer_html())"
   ]
  },
  {
   "cell_type": "code",
   "execution_count": 9,
   "metadata": {},
   "outputs": [
    {
     "data": {
      "text/plain": [
       "'<a href=\"http://python.org\">python</a> !'"
      ]
     },
     "execution_count": 9,
     "metadata": {},
     "output_type": "execute_result"
    }
   ],
   "source": [
    "d('#test').html()"
   ]
  },
  {
   "cell_type": "code",
   "execution_count": 7,
   "metadata": {},
   "outputs": [
    {
     "data": {
      "text/plain": [
       "[<html>]"
      ]
     },
     "execution_count": 7,
     "metadata": {},
     "output_type": "execute_result"
    }
   ],
   "source": [
    "d.show()"
   ]
  },
  {
   "cell_type": "code",
   "execution_count": null,
   "metadata": {},
   "outputs": [],
   "source": []
  }
 ],
 "metadata": {
  "kernelspec": {
   "display_name": "Python 3",
   "language": "python",
   "name": "python3"
  },
  "language_info": {
   "codemirror_mode": {
    "name": "ipython",
    "version": 3
   },
   "file_extension": ".py",
   "mimetype": "text/x-python",
   "name": "python",
   "nbconvert_exporter": "python",
   "pygments_lexer": "ipython3",
   "version": "3.7.3"
  },
  "toc": {
   "base_numbering": 1,
   "nav_menu": {},
   "number_sections": true,
   "sideBar": true,
   "skip_h1_title": false,
   "title_cell": "Table of Contents",
   "title_sidebar": "Contents",
   "toc_cell": false,
   "toc_position": {},
   "toc_section_display": true,
   "toc_window_display": true
  }
 },
 "nbformat": 4,
 "nbformat_minor": 2
}
