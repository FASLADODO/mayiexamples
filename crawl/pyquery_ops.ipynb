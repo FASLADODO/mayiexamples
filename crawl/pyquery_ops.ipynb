{
 "cells": [
  {
   "cell_type": "markdown",
   "metadata": {},
   "source": [
    "# pyquery\n",
    "pyquery allows you to make jquery queries on xml documents. The API is as much as possible the similar to jquery. pyquery uses lxml for fast xml and html manipulation.\n",
    "\n",
    "https://pythonhosted.org/pyquery/\n",
    "\n",
    "https://pythonhosted.org/pyquery/api.html"
   ]
  },
  {
   "cell_type": "code",
   "execution_count": 3,
   "metadata": {},
   "outputs": [
    {
     "name": "stdout",
     "output_type": "stream",
     "text": [
      "pyquery==1.4.0\r\n"
     ]
    }
   ],
   "source": [
    "#!pip install -U pyquery\n",
    "!pip freeze | grep pyquery"
   ]
  },
  {
   "cell_type": "code",
   "execution_count": 4,
   "metadata": {},
   "outputs": [],
   "source": [
    "from pyquery import PyQuery as pq"
   ]
  },
  {
   "cell_type": "markdown",
   "metadata": {},
   "source": [
    "# pyquery操作html dom tree"
   ]
  },
  {
   "cell_type": "markdown",
   "metadata": {},
   "source": [
    "## 使用pyquery生成html\n",
    "可以生成，但是不太优雅。。。"
   ]
  },
  {
   "cell_type": "code",
   "execution_count": 40,
   "metadata": {},
   "outputs": [],
   "source": [
    "html = \"\"\"\n",
    "<html>  \n",
    "  <head>\n",
    "    <meta http-equiv=\"Content-Type\" content=\"text/html; charset=utf8\" />\n",
    "    <title></title>\n",
    "  </head>  \n",
    "  <body>  \n",
    "  </body>  \n",
    "</html> \n",
    "\"\"\""
   ]
  },
  {
   "cell_type": "code",
   "execution_count": 41,
   "metadata": {},
   "outputs": [],
   "source": [
    "d = pq(html)"
   ]
  },
  {
   "cell_type": "code",
   "execution_count": 35,
   "metadata": {},
   "outputs": [
    {
     "name": "stdout",
     "output_type": "stream",
     "text": [
      "  \n",
      "  <head>\n",
      "    <meta http-equiv=\"Content-Type\" content=\"text/html; charset=utf8\"/>\n",
      "    <title/>\n",
      "  </head>  \n",
      "  <body>  \n",
      "  </body>  \n",
      "\n"
     ]
    }
   ],
   "source": [
    "print(d.html())"
   ]
  },
  {
   "cell_type": "code",
   "execution_count": 36,
   "metadata": {},
   "outputs": [
    {
     "name": "stdout",
     "output_type": "stream",
     "text": [
      "<html>  \n",
      "  <head>\n",
      "    <meta http-equiv=\"Content-Type\" content=\"text/html; charset=utf8\">\n",
      "    <title></title>\n",
      "  </head>  \n",
      "  <body>  \n",
      "  </body>  \n",
      "</html>\n"
     ]
    }
   ],
   "source": [
    "print(d.outerHtml())"
   ]
  },
  {
   "cell_type": "code",
   "execution_count": 37,
   "metadata": {},
   "outputs": [
    {
     "name": "stdout",
     "output_type": "stream",
     "text": [
      "<html>  \n",
      "  <head>\n",
      "    <meta http-equiv=\"Content-Type\" content=\"text/html; charset=utf8\">\n",
      "    <title></title>\n",
      "  </head>  \n",
      "  <body>  \n",
      "  </body>  \n",
      "</html>\n"
     ]
    }
   ],
   "source": [
    "print(d.outer_html())"
   ]
  },
  {
   "cell_type": "markdown",
   "metadata": {},
   "source": [
    "## 标签选择器"
   ]
  },
  {
   "cell_type": "code",
   "execution_count": 42,
   "metadata": {},
   "outputs": [
    {
     "name": "stdout",
     "output_type": "stream",
     "text": [
      "<html>  \n",
      "  <head>\n",
      "    <meta http-equiv=\"Content-Type\" content=\"text/html; charset=utf8\">\n",
      "    <title>Title1</title>\n",
      "  </head>  \n",
      "  <body>  \n",
      "  </body>  \n",
      "</html>\n"
     ]
    }
   ],
   "source": [
    "d('title').append('Title1')\n",
    "print(d.outer_html())"
   ]
  },
  {
   "cell_type": "code",
   "execution_count": 44,
   "metadata": {},
   "outputs": [
    {
     "name": "stdout",
     "output_type": "stream",
     "text": [
      "<table><thead><tr><th>code</th><th>close</th><th>vol</th><th>trade_date</th></tr></thead><tbody><tr><td>code</td><td>close</td><td>vol</td><td>trade_date</td></tr></tbody></table>\n"
     ]
    }
   ],
   "source": [
    "table = pq('<table><thead></thead><tbody></tbody></table>')\n",
    "table('thead').append('<tr><th>code</th><th>close</th><th>vol</th><th>trade_date</th></tr>')\n",
    "table('tbody').append('<tr><td>code</td><td>close</td><td>vol</td><td>trade_date</td></tr>')\n",
    "print(table.outer_html())"
   ]
  },
  {
   "cell_type": "code",
   "execution_count": 47,
   "metadata": {},
   "outputs": [
    {
     "data": {
      "text/plain": [
       "[<body>]"
      ]
     },
     "execution_count": 47,
     "metadata": {},
     "output_type": "execute_result"
    }
   ],
   "source": [
    "d('body').append(table)"
   ]
  },
  {
   "cell_type": "code",
   "execution_count": 48,
   "metadata": {},
   "outputs": [
    {
     "name": "stdout",
     "output_type": "stream",
     "text": [
      "<html>  \n",
      "  <head>\n",
      "    <meta http-equiv=\"Content-Type\" content=\"text/html; charset=utf8\">\n",
      "    <title>Title1</title>\n",
      "  </head>  \n",
      "  <body>  \n",
      "  <table><thead><tr><th>code</th><th>close</th><th>vol</th><th>trade_date</th></tr></thead><tbody><tr><td>code</td><td>close</td><td>vol</td><td>trade_date</td></tr></tbody></table></body>  \n",
      "</html>\n"
     ]
    }
   ],
   "source": [
    "print(d.outer_html())"
   ]
  },
  {
   "cell_type": "code",
   "execution_count": 9,
   "metadata": {},
   "outputs": [
    {
     "data": {
      "text/plain": [
       "'<a href=\"http://python.org\">python</a> !'"
      ]
     },
     "execution_count": 9,
     "metadata": {},
     "output_type": "execute_result"
    }
   ],
   "source": [
    "d('#test').html()"
   ]
  },
  {
   "cell_type": "code",
   "execution_count": 7,
   "metadata": {},
   "outputs": [
    {
     "data": {
      "text/plain": [
       "[<html>]"
      ]
     },
     "execution_count": 7,
     "metadata": {},
     "output_type": "execute_result"
    }
   ],
   "source": [
    "d.show()"
   ]
  },
  {
   "cell_type": "code",
   "execution_count": null,
   "metadata": {},
   "outputs": [],
   "source": []
  }
 ],
 "metadata": {
  "kernelspec": {
   "display_name": "Python 3",
   "language": "python",
   "name": "python3"
  },
  "language_info": {
   "codemirror_mode": {
    "name": "ipython",
    "version": 3
   },
   "file_extension": ".py",
   "mimetype": "text/x-python",
   "name": "python",
   "nbconvert_exporter": "python",
   "pygments_lexer": "ipython3",
   "version": "3.7.3"
  },
  "toc": {
   "base_numbering": 1,
   "nav_menu": {},
   "number_sections": true,
   "sideBar": true,
   "skip_h1_title": false,
   "title_cell": "Table of Contents",
   "title_sidebar": "Contents",
   "toc_cell": false,
   "toc_position": {},
   "toc_section_display": true,
   "toc_window_display": true
  }
 },
 "nbformat": 4,
 "nbformat_minor": 2
}
