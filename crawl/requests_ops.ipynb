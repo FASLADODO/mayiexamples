{
 "cells": [
  {
   "cell_type": "code",
   "execution_count": 1,
   "metadata": {},
   "outputs": [
    {
     "name": "stdout",
     "output_type": "stream",
     "text": [
      "requests==2.22.0\r\n"
     ]
    }
   ],
   "source": [
    "# !pip install requests -U\n",
    "!pip freeze | grep requests"
   ]
  },
  {
   "cell_type": "markdown",
   "metadata": {},
   "source": [
    "[Requests: HTTP for Humans™](https://2.python-requests.org//en/latest/index.html)"
   ]
  },
  {
   "cell_type": "code",
   "execution_count": 4,
   "metadata": {},
   "outputs": [],
   "source": [
    "import requests"
   ]
  },
  {
   "cell_type": "markdown",
   "metadata": {},
   "source": [
    "# quickstart\n",
    "https://2.python-requests.org//en/latest/user/quickstart/"
   ]
  },
  {
   "cell_type": "markdown",
   "metadata": {},
   "source": [
    "## head"
   ]
  },
  {
   "cell_type": "code",
   "execution_count": 18,
   "metadata": {},
   "outputs": [],
   "source": [
    "r = requests.head('http://httpbin.org/get')"
   ]
  },
  {
   "cell_type": "code",
   "execution_count": 20,
   "metadata": {},
   "outputs": [
    {
     "data": {
      "text/plain": [
       "{'Access-Control-Allow-Credentials': 'true', 'Access-Control-Allow-Origin': '*', 'Content-Encoding': 'gzip', 'Content-Type': 'application/json', 'Date': 'Thu, 25 Jul 2019 03:57:58 GMT', 'Referrer-Policy': 'no-referrer-when-downgrade', 'Server': 'nginx', 'X-Content-Type-Options': 'nosniff', 'X-Frame-Options': 'DENY', 'X-XSS-Protection': '1; mode=block', 'Connection': 'keep-alive'}"
      ]
     },
     "execution_count": 20,
     "metadata": {},
     "output_type": "execute_result"
    }
   ],
   "source": [
    "r.headers"
   ]
  },
  {
   "cell_type": "markdown",
   "metadata": {},
   "source": [
    "## put"
   ]
  },
  {
   "cell_type": "code",
   "execution_count": 21,
   "metadata": {},
   "outputs": [],
   "source": [
    "r = requests.put('http://httpbin.org/put', data = {'key':'value'})"
   ]
  },
  {
   "cell_type": "code",
   "execution_count": 23,
   "metadata": {},
   "outputs": [
    {
     "data": {
      "text/plain": [
       "{'args': {},\n",
       " 'data': '',\n",
       " 'files': {},\n",
       " 'form': {'key': 'value'},\n",
       " 'headers': {'Accept': '*/*',\n",
       "  'Accept-Encoding': 'gzip, deflate',\n",
       "  'Content-Length': '9',\n",
       "  'Content-Type': 'application/x-www-form-urlencoded',\n",
       "  'Host': 'httpbin.org',\n",
       "  'User-Agent': 'python-requests/2.22.0'},\n",
       " 'json': None,\n",
       " 'origin': '180.167.88.42, 180.167.88.42',\n",
       " 'url': 'https://httpbin.org/put'}"
      ]
     },
     "execution_count": 23,
     "metadata": {},
     "output_type": "execute_result"
    }
   ],
   "source": [
    "r.json()"
   ]
  },
  {
   "cell_type": "markdown",
   "metadata": {},
   "source": [
    "## delete"
   ]
  },
  {
   "cell_type": "code",
   "execution_count": 24,
   "metadata": {},
   "outputs": [
    {
     "data": {
      "text/plain": [
       "{'args': {},\n",
       " 'data': '',\n",
       " 'files': {},\n",
       " 'form': {},\n",
       " 'headers': {'Accept': '*/*',\n",
       "  'Accept-Encoding': 'gzip, deflate',\n",
       "  'Host': 'httpbin.org',\n",
       "  'User-Agent': 'python-requests/2.22.0'},\n",
       " 'json': None,\n",
       " 'origin': '180.167.88.42, 180.167.88.42',\n",
       " 'url': 'https://httpbin.org/delete'}"
      ]
     },
     "execution_count": 24,
     "metadata": {},
     "output_type": "execute_result"
    }
   ],
   "source": [
    "r = requests.delete('http://httpbin.org/delete')\n",
    "r.json()"
   ]
  },
  {
   "cell_type": "markdown",
   "metadata": {},
   "source": [
    "## options"
   ]
  },
  {
   "cell_type": "code",
   "execution_count": 26,
   "metadata": {},
   "outputs": [],
   "source": [
    "r = requests.options('http://httpbin.org/get')"
   ]
  },
  {
   "cell_type": "code",
   "execution_count": 27,
   "metadata": {},
   "outputs": [
    {
     "data": {
      "text/plain": [
       "{'Access-Control-Allow-Credentials': 'true', 'Access-Control-Allow-Methods': 'GET, POST, PUT, DELETE, PATCH, OPTIONS', 'Access-Control-Allow-Origin': '*', 'Access-Control-Max-Age': '3600', 'Allow': 'OPTIONS, HEAD, GET', 'Content-Type': 'text/html; charset=utf-8', 'Date': 'Thu, 25 Jul 2019 04:00:57 GMT', 'Referrer-Policy': 'no-referrer-when-downgrade', 'Server': 'nginx', 'X-Content-Type-Options': 'nosniff', 'X-Frame-Options': 'DENY', 'X-XSS-Protection': '1; mode=block', 'Content-Length': '0', 'Connection': 'keep-alive'}"
      ]
     },
     "execution_count": 27,
     "metadata": {},
     "output_type": "execute_result"
    }
   ],
   "source": [
    "r.headers"
   ]
  },
  {
   "cell_type": "code",
   "execution_count": 37,
   "metadata": {},
   "outputs": [
    {
     "data": {
      "text/plain": [
       "'application/json; charset=utf-8'"
      ]
     },
     "execution_count": 37,
     "metadata": {},
     "output_type": "execute_result"
    }
   ],
   "source": [
    "r.headers['Content-Type']"
   ]
  },
  {
   "cell_type": "code",
   "execution_count": 38,
   "metadata": {},
   "outputs": [
    {
     "data": {
      "text/plain": [
       "'application/json; charset=utf-8'"
      ]
     },
     "execution_count": 38,
     "metadata": {},
     "output_type": "execute_result"
    }
   ],
   "source": [
    "r.headers.get('content-type')"
   ]
  },
  {
   "cell_type": "code",
   "execution_count": 28,
   "metadata": {},
   "outputs": [
    {
     "data": {
      "text/plain": [
       "''"
      ]
     },
     "execution_count": 28,
     "metadata": {},
     "output_type": "execute_result"
    }
   ],
   "source": [
    "r.text"
   ]
  },
  {
   "cell_type": "markdown",
   "metadata": {},
   "source": [
    "## Passing Parameters In URLs"
   ]
  },
  {
   "cell_type": "code",
   "execution_count": 5,
   "metadata": {},
   "outputs": [
    {
     "data": {
      "text/plain": [
       "'http://httpbin.org/get?key1=value1&key2=value2'"
      ]
     },
     "execution_count": 5,
     "metadata": {},
     "output_type": "execute_result"
    }
   ],
   "source": [
    "payload = {'key1': 'value1', 'key2': 'value2'}\n",
    "r = requests.get('http://httpbin.org/get', params=payload)\n",
    "r.url"
   ]
  },
  {
   "cell_type": "code",
   "execution_count": 16,
   "metadata": {},
   "outputs": [
    {
     "data": {
      "text/plain": [
       "'http://httpbin.org/get?key1=value1&key2=value2&key2=value3'"
      ]
     },
     "execution_count": 16,
     "metadata": {},
     "output_type": "execute_result"
    }
   ],
   "source": [
    "payload = {'key1': 'value1', 'key2': ['value2', 'value3']}\n",
    "r = requests.get('http://httpbin.org/get', params=payload)\n",
    "r.url"
   ]
  },
  {
   "cell_type": "markdown",
   "metadata": {},
   "source": [
    "## Response Content"
   ]
  },
  {
   "cell_type": "code",
   "execution_count": 29,
   "metadata": {},
   "outputs": [],
   "source": [
    "r = requests.get('https://api.github.com/events')"
   ]
  },
  {
   "cell_type": "code",
   "execution_count": 30,
   "metadata": {},
   "outputs": [
    {
     "data": {
      "text/plain": [
       "'[{\"id\":\"10080042952\",\"type\":\"PushEvent\",\"actor\":{\"id\":18415433,\"login\":\"goldenbili\",\"display_login\":\"goldenbili\",\"gravatar_id\":\"\",\"url\":\"https://api.github.com/users/goldenbili\",\"avatar_url\":\"https://avatars.githubusercontent.com/u/18415433?\"},\"repo\":{\"id\":174492544,\"name\":\"goldenbili/Bert_Test2\",\"url\":\"https://api.github.com/repos/goldenbili/Bert_Test2\"},\"payload\":{\"push_id\":3853469076,\"size\":1,\"distinct_size\":1,\"ref\":\"refs/heads/master\",\"head\":\"f3e2576e7b377c12b7d5ad92909be28eebad1741\",\"before\":\"69b685c9e65bebd3af0189ec14b38dce921b8cb3\",\"commits\":[{\"sha\":\"f3e2576e7b377c12b7d5ad92909be28eebad1741\",\"author\":{\"email\":\"waeechang@gmail.com\",\"name\":\"partydog\"},\"message\":\"Update run_squad_coding.py\",\"distinct\":true,\"url\":\"https://api.github.com/repos/goldenbili/Bert_Test2/commits/f3e2576e7b377c12b7d5ad92909be28eebad1741\"}]},\"public\":true,\"created_at\":\"2019-07-25T04:03:39Z\"},{\"id\":\"10080042950\",\"type\":\"WatchEvent\",\"actor\":{\"id\":43257139,\"login\":\"thomasjlsn\",\"display_login\":\"thomasjlsn\",\"gravatar_id\":\"\",\"url\":\"https://api.github.com/users/thomasjlsn\",\"avatar_url\":\"https://avatars.githubusercontent.com/u/43257139?\"},\"repo\":{\"id\":5724223,\"name\":\"tomnomnom/gron\",\"url\":\"https://api.github.com/repos/tomnomnom/gron\"},\"payload\":{\"action\":\"started\"},\"public\":true,\"created_at\":\"2019-07-25T04:03:39Z\"},{\"id\":\"10080042949\",\"type\":\"WatchEvent\",\"actor\":{\"id\":8077772,\"login\":\"v5anyexiuluo\",\"display_login\":\"v5anyexiuluo\",\"gravatar_id\":\"\",\"url\":\"https://api.github.com/users/v5anyexiuluo\",\"avatar_url\":\"https://avatars.githubusercontent.com/u/8077772?\"},\"repo\":{\"id\":93289532,\"name\":\"notedit/rtp-streamer\",\"url\":\"https://api.github.com/repos/notedit/rtp-streamer\"},\"payload\":{\"action\":\"started\"},\"public\":true,\"created_at\":\"2019-07-25T04:03:39Z\"},{\"id\":\"10080042946\",\"type\":\"PushEvent\",\"actor\":{\"id\":28830147,\"login\":\"Shubham-SK\",\"display_login\":\"Shubham-SK\",\"gravatar_id\":\"\",\"url\":\"https://api.github.com/users/Shubham-SK\",\"avatar_url\":\"https://avatars.githubusercontent.com/u/28830147?\"},\"repo\":{\"id\":198479021,\"name\":\"Shubham-SK/DL-models-numpy\",\"url\":\"https://api.github.com/repos/Shubham-SK/DL-models-numpy\"},\"payload\":{\"push_id\":3853469072,\"size\":1,\"distinct_size\":1,\"ref\":\"refs/heads/master\",\"head\":\"381801b5421aa0ff304b56fb32b169876ad96e28\",\"before\":\"fb0d3cca22f2b7d168ff3ec7f7041399fc1e2a87\",\"commits\":[{\"sha\":\"381801b5421aa0ff304b56fb32b169876ad96e28\",\"author\":{\"email\":\"kumar.shubham5504@gmail.com\",\"name\":\"Shubham Kumar\"},\"message\":\"First Commit\",\"distinct\":true,\"url\":\"https://api.github.com/repos/Shubham-SK/DL-models-numpy/commits/381801b5421aa0ff304b56fb32b169876ad96e28\"}]},\"public\":true,\"created_at\":\"2019-07-25T04:03:39Z\"},{\"id\":\"10080042943\",\"type\":\"PushEvent\",\"actor\":{\"id\":355907,\"login\":\"sahuguet\",\"display_login\":\"sahuguet\",\"gravatar_id\":\"\",\"url\":\"https://api.github.com/users/sahuguet\",\"avatar_url\":\"https://avatars.githubusercontent.com/u/355907?\"},\"repo\":{\"id\":171554852,\"name\":\"ct-studio-buildboard/ST19-18\",\"url\":\"https://api.github.com/repos/ct-studio-buildboard/ST19-18\"},\"payload\":{\"push_id\":3853469068,\"size\":1,\"distinct_size\":1,\"ref\":\"refs/heads/master\",\"head\":\"921bd451dcb5bf11e8426aa1f6bdc7fe96303dd5\",\"before\":\"7e22b4cdefca23a3d9dd69e600d8fe289bb4b80e\",\"commits\":[{\"sha\":\"921bd451dcb5bf11e8426aa1f6bdc7fe96303dd5\",\"author\":{\"email\":\"sahuguet@users.noreply.github.com\",\"name\":\"Arnaud Sahuguet\"},\"message\":\"Messages from Buildboard daemon.\",\"distinct\":true,\"url\":\"https://api.github.com/repos/ct-studio-buildboard/ST19-18/commits/921bd451dcb5bf11e8426aa1f6bdc7fe96303dd5\"}]},\"public\":true,\"created_at\":\"2019-07-25T04:03:39Z\",\"org\":{\"id\":47397550,\"login\":\"ct-studio-buildboard\",\"gravatar_id\":\"\",\"url\":\"https://api.github.com/orgs/ct-studio-buildboard\",\"avatar_url\":\"https://avatars.githubusercontent.com/u/47397550?\"}},{\"id\":\"10080042947\",\"type\":\"WatchEvent\",\"actor\":{\"id\":14356126,\"login\":\"JoouA\",\"display_login\":\"JoouA\",\"gravatar_id\":\"\",\"url\":\"https://api.github.com/users/JoouA\",\"avatar_url\":\"https://avatars.githubusercontent.com/u/14356126?\"},\"repo\":{\"id\":130644624,\"name\":\"b3log/baidu-netdisk-downloaderx\",\"url\":\"https://api.github.com/repos/b3log/baidu-netdisk-downloaderx\"},\"payload\":{\"action\":\"started\"},\"public\":true,\"created_at\":\"2019-07-25T04:03:39Z\",\"org\":{\"id\":1627618,\"login\":\"b3log\",\"gravatar_id\":\"\",\"url\":\"https://api.github.com/orgs/b3log\",\"avatar_url\":\"https://avatars.githubusercontent.com/u/1627618?\"}},{\"id\":\"10080042941\",\"type\":\"CreateEvent\",\"actor\":{\"id\":6539267,\"login\":\"jfcarocota\",\"display_login\":\"jfcarocota\",\"gravatar_id\":\"\",\"url\":\"https://api.github.com/users/jfcarocota\",\"avatar_url\":\"https://avatars.githubusercontent.com/u/6539267?\"},\"repo\":{\"id\":198753476,\"name\":\"jfcarocota/dsc-udavinci\",\"url\":\"https://api.github.com/repos/jfcarocota/dsc-udavinci\"},\"payload\":{\"ref\":\"add-license-1\",\"ref_type\":\"branch\",\"master_branch\":\"master\",\"description\":\"Repositorio con prácticas e información del programa de doctorado de Universidad Da Vinci A. C. 2019 - 2022\",\"pusher_type\":\"user\"},\"public\":true,\"created_at\":\"2019-07-25T04:03:39Z\"},{\"id\":\"10080042935\",\"type\":\"CreateEvent\",\"actor\":{\"id\":41179777,\"login\":\"Justin-Singh125125\",\"display_login\":\"Justin-Singh125125\",\"gravatar_id\":\"\",\"url\":\"https://api.github.com/users/Justin-Singh125125\",\"avatar_url\":\"https://avatars.githubusercontent.com/u/41179777?\"},\"repo\":{\"id\":198754471,\"name\":\"Justin-Singh125125/heroku-test\",\"url\":\"https://api.github.com/repos/Justin-Singh125125/heroku-test\"},\"payload\":{\"ref\":\"master\",\"ref_type\":\"branch\",\"master_branch\":\"master\",\"description\":null,\"pusher_type\":\"user\"},\"public\":true,\"created_at\":\"2019-07-25T04:03:39Z\"},{\"id\":\"10080042933\",\"type\":\"CreateEvent\",\"actor\":{\"id\":28508438,\"login\":\"yuhongherald\",\"display_login\":\"yuhongherald\",\"gravatar_id\":\"\",\"url\":\"https://api.github.com/users/yuhongherald\",\"avatar_url\":\"https://avatars.githubusercontent.com/u/28508438?\"},\"repo\":{\"id\":161479118,\"name\":\"yuhongherald/PowerPointLabs\",\"url\":\"https://api.github.com/repos/yuhongherald/PowerPointLabs\"},\"payload\":{\"ref\":\"1971-EffectsLab-undo-exception\",\"ref_type\":\"branch\",\"master_branch\":\"master\",\"description\":\"This is the project for PowerPointLabs, a productivity add-in for PowerPoint\",\"pusher_type\":\"user\"},\"public\":true,\"created_at\":\"2019-07-25T04:03:39Z\"},{\"id\":\"10080042932\",\"type\":\"DeleteEvent\",\"actor\":{\"id\":53002629,\"login\":\"dungeon-slayer\",\"display_login\":\"dungeon-slayer\",\"gravatar_id\":\"\",\"url\":\"https://api.github.com/users/dungeon-slayer\",\"avatar_url\":\"https://avatars.githubusercontent.com/u/53002629?\"},\"repo\":{\"id\":197373878,\"name\":\"dungeon-slayer/dungeon-slayer.github.io\",\"url\":\"https://api.github.com/repos/dungeon-slayer/dungeon-slayer.github.io\"},\"payload\":{\"ref\":\"0.3.1-dev\",\"ref_type\":\"branch\",\"pusher_type\":\"user\"},\"public\":true,\"created_at\":\"2019-07-25T04:03:39Z\"},{\"id\":\"10080042922\",\"type\":\"PushEvent\",\"actor\":{\"id\":4562546,\"login\":\"osnipezzini\",\"display_login\":\"osnipezzini\",\"gravatar_id\":\"\",\"url\":\"https://api.github.com/users/osnipezzini\",\"avatar_url\":\"https://avatars.githubusercontent.com/u/4562546?\"},\"repo\":{\"id\":198311549,\"name\":\"osnipezzini/ElliteMobile\",\"url\":\"https://api.github.com/repos/osnipezzini/ElliteMobile\"},\"payload\":{\"push_id\":3853469059,\"size\":1,\"distinct_size\":1,\"ref\":\"refs/heads/master\",\"head\":\"339f8658d4cc2313ab2d7a79dc72c4caec8e0987\",\"before\":\"dab63c8bc6e2e502d3cbbfc52fd899b88f26eef0\",\"commits\":[{\"sha\":\"339f8658d4cc2313ab2d7a79dc72c4caec8e0987\",\"author\":{\"email\":\"osni.pezzini@gmail.com\",\"name\":\"osni.pezzini@gmail.com\"},\"message\":\"Improved authentication usage ...\",\"distinct\":true,\"url\":\"https://api.github.com/repos/osnipezzini/ElliteMobile/commits/339f8658d4cc2313ab2d7a79dc72c4caec8e0987\"}]},\"public\":true,\"created_at\":\"2019-07-25T04:03:39Z\"},{\"id\":\"10080042920\",\"type\":\"PushEvent\",\"actor\":{\"id\":42781255,\"login\":\"ThomasUtsey\",\"display_login\":\"ThomasUtsey\",\"gravatar_id\":\"\",\"url\":\"https://api.github.com/users/ThomasUtsey\",\"avatar_url\":\"https://avatars.githubusercontent.com/u/42781255?\"},\"repo\":{\"id\":185896674,\"name\":\"labslibrarypt3/LabsLibraryPT3_BE\",\"url\":\"https://api.github.com/repos/labslibrarypt3/LabsLibraryPT3_BE\"},\"payload\":{\"push_id\":3853469058,\"size\":6,\"distinct_size\":1,\"ref\":\"refs/heads/development\",\"head\":\"37df678fd295dae223729a0c764dede72a93f47d\",\"before\":\"8d4d67598afcf4f5fb672a354192a131c3a54b9d\",\"commits\":[{\"sha\":\"d42b8cd30be90ecf1ae049b61be5e25b6f72d18d\",\"author\":{\"email\":\"ira.d.sanchez@gmail.com\",\"name\":\"iradsanchez\"},\"message\":\"map backend\",\"distinct\":false,\"url\":\"https://api.github.com/repos/labslibrarypt3/LabsLibraryPT3_BE/commits/d42b8cd30be90ecf1ae049b61be5e25b6f72d18d\"},{\"sha\":\"40d450b3ee0af819e5fb5feeffcf54317ca91810\",\"author\":{\"email\":\"ira.d.sanchez@gmail.com\",\"name\":\"iradsanchez\"},\"message\":\"merge conflicts\",\"distinct\":false,\"url\":\"https://api.github.com/repos/labslibrarypt3/LabsLibraryPT3_BE/commits/40d450b3ee0af819e5fb5feeffcf54317ca91810\"},{\"sha\":\"5ca08cadad6d404de26605347884ca41d3620ab3\",\"author\":{\"email\":\"ira.d.sanchez@gmail.com\",\"name\":\"iradsanchez\"},\"message\":\"merge conflict\",\"distinct\":false,\"url\":\"https://api.github.com/repos/labslibrarypt3/LabsLibraryPT3_BE/commits/5ca08cadad6d404de26605347884ca41d3620ab3\"},{\"sha\":\"0e01b79913579c8ecf638b111cb27ca816c07a03\",\"author\":{\"email\":\"ira.d.sanchez@gmail.com\",\"name\":\"iradsanchez\"},\"message\":\"replace localhost urls with env variable\",\"distinct\":false,\"url\":\"https://api.github.com/repos/labslibrarypt3/LabsLibraryPT3_BE/commits/0e01b79913579c8ecf638b111cb27ca816c07a03\"},{\"sha\":\"b60b3f559c1796e92d9dde5763a31d159dddc94a\",\"author\":{\"email\":\"ira.d.sanchez@gmail.com\",\"name\":\"iradsanchez\"},\"message\":\"just in case I forgot to save something from last time\",\"distinct\":false,\"url\":\"https://api.github.com/repos/labslibrarypt3/LabsLibraryPT3_BE/commits/b60b3f559c1796e92d9dde5763a31d159dddc94a\"},{\"sha\":\"37df678fd295dae223729a0c764dede72a93f47d\",\"author\":{\"email\":\"42781255+ThomasUtsey@users.noreply.github.com\",\"name\":\"ThomasUtsey\"},\"message\":\"Merge pull request #102 from labslibrarypt3/ira-sanchez\\\\n\\\\nIra sanchez\",\"distinct\":true,\"url\":\"https://api.github.com/repos/labslibrarypt3/LabsLibraryPT3_BE/commits/37df678fd295dae223729a0c764dede72a93f47d\"}]},\"public\":true,\"created_at\":\"2019-07-25T04:03:39Z\",\"org\":{\"id\":50470163,\"login\":\"labslibrarypt3\",\"gravatar_id\":\"\",\"url\":\"https://api.github.com/orgs/labslibrarypt3\",\"avatar_url\":\"https://avatars.githubusercontent.com/u/50470163?\"}},{\"id\":\"10080042921\",\"type\":\"CreateEvent\",\"actor\":{\"id\":49300935,\"login\":\"kendim297\",\"display_login\":\"kendim297\",\"gravatar_id\":\"\",\"url\":\"https://api.github.com/users/kendim297\",\"avatar_url\":\"https://avatars.githubusercontent.com/u/49300935?\"},\"repo\":{\"id\":198754806,\"name\":\"kendim297/MyKeyboard\",\"url\":\"https://api.github.com/repos/kendim297/MyKeyboard\"},\"payload\":{\"ref\":null,\"ref_type\":\"repository\",\"master_branch\":\"master\",\"description\":null,\"pusher_type\":\"user\"},\"public\":true,\"created_at\":\"2019-07-25T04:03:39Z\"},{\"id\":\"10080042915\",\"type\":\"PushEvent\",\"actor\":{\"id\":52219703,\"login\":\"CalebMigosi\",\"display_login\":\"CalebMigosi\",\"gravatar_id\":\"\",\"url\":\"https://api.github.com/users/CalebMigosi\",\"avatar_url\":\"https://avatars.githubusercontent.com/u/52219703?\"},\"repo\":{\"id\":198468154,\"name\":\"CalebMigosi/Clustering-Analysis-for-Portfolio-Management\",\"url\":\"https://api.github.com/repos/CalebMigosi/Clustering-Analysis-for-Portfolio-Management\"},\"payload\":{\"push_id\":3853469053,\"size\":1,\"distinct_size\":1,\"ref\":\"refs/heads/master\",\"head\":\"9c5b00d8763b309417170467e571bfd88fbaf485\",\"before\":\"e661fd01f572b6ef50c09466cd70f7dbdeb55701\",\"commits\":[{\"sha\":\"9c5b00d8763b309417170467e571bfd88fbaf485\",\"author\":{\"email\":\"52219703+CalebMigosi@users.noreply.github.com\",\"name\":\"CalebMigosi\"},\"message\":\"Update 02 - Clustering des données actions.R\",\"distinct\":true,\"url\":\"https://api.github.com/repos/CalebMigosi/Clustering-Analysis-for-Portfolio-Management/commits/9c5b00d8763b309417170467e571bfd88fbaf485\"}]},\"public\":true,\"created_at\":\"2019-07-25T04:03:38Z\"},{\"id\":\"10080042914\",\"type\":\"PushEvent\",\"actor\":{\"id\":15026413,\"login\":\"lwood54\",\"display_login\":\"lwood54\",\"gravatar_id\":\"\",\"url\":\"https://api.github.com/users/lwood54\",\"avatar_url\":\"https://avatars.githubusercontent.com/u/15026413?\"},\"repo\":{\"id\":196497289,\"name\":\"lwood54/snow-buddy\",\"url\":\"https://api.github.com/repos/lwood54/snow-buddy\"},\"payload\":{\"push_id\":3853469051,\"size\":1,\"distinct_size\":1,\"ref\":\"refs/heads/master\",\"head\":\"3502a2e07b8fed135f3ee42dca81afd15023421f\",\"before\":\"a7c104b568c02fdf1745bce28713e732f687459b\",\"commits\":[{\"sha\":\"3502a2e07b8fed135f3ee42dca81afd15023421f\",\"author\":{\"email\":\"lwood3499@gmail.com\",\"name\":\"Logan Wood\"},\"message\":\"wip protected actions with login\",\"distinct\":true,\"url\":\"https://api.github.com/repos/lwood54/snow-buddy/commits/3502a2e07b8fed135f3ee42dca81afd15023421f\"}]},\"public\":true,\"created_at\":\"2019-07-25T04:03:38Z\"},{\"id\":\"10080042913\",\"type\":\"PushEvent\",\"actor\":{\"id\":29721243,\"login\":\"chengming9731\",\"display_login\":\"chengming9731\",\"gravatar_id\":\"\",\"url\":\"https://api.github.com/users/chengming9731\",\"avatar_url\":\"https://avatars.githubusercontent.com/u/29721243?\"},\"repo\":{\"id\":163672192,\"name\":\"hcmzhzx/db_admin\",\"url\":\"https://api.github.com/repos/hcmzhzx/db_admin\"},\"payload\":{\"push_id\":3853469052,\"size\":1,\"distinct_size\":1,\"ref\":\"refs/heads/master\",\"head\":\"70bc96e3f041460be5588348d5348c6cdee0a025\",\"before\":\"f2e912b63f4b0dda67d9b2de32089537478c20fe\",\"commits\":[{\"sha\":\"70bc96e3f041460be5588348d5348c6cdee0a025\",\"author\":{\"email\":\"793538930@qq.com\",\"name\":\"chengming9731\"},\"message\":\"\\'订单列表新增学期\\'\",\"distinct\":true,\"url\":\"https://api.github.com/repos/hcmzhzx/db_admin/commits/70bc96e3f041460be5588348d5348c6cdee0a025\"}]},\"public\":true,\"created_at\":\"2019-07-25T04:03:38Z\",\"org\":{\"id\":32352811,\"login\":\"hcmzhzx\",\"gravatar_id\":\"\",\"url\":\"https://api.github.com/orgs/hcmzhzx\",\"avatar_url\":\"https://avatars.githubusercontent.com/u/32352811?\"}},{\"id\":\"10080042912\",\"type\":\"WatchEvent\",\"actor\":{\"id\":21528728,\"login\":\"Android-MI\",\"display_login\":\"Android-MI\",\"gravatar_id\":\"\",\"url\":\"https://api.github.com/users/Android-MI\",\"avatar_url\":\"https://avatars.githubusercontent.com/u/21528728?\"},\"repo\":{\"id\":164813811,\"name\":\"Tendy-Lau/biometricdemo\",\"url\":\"https://api.github.com/repos/Tendy-Lau/biometricdemo\"},\"payload\":{\"action\":\"started\"},\"public\":true,\"created_at\":\"2019-07-25T04:03:38Z\"},{\"id\":\"10080042910\",\"type\":\"PushEvent\",\"actor\":{\"id\":47196066,\"login\":\"tfx-copybara\",\"display_login\":\"tfx-copybara\",\"gravatar_id\":\"\",\"url\":\"https://api.github.com/users/tfx-copybara\",\"avatar_url\":\"https://avatars.githubusercontent.com/u/47196066?\"},\"repo\":{\"id\":169116405,\"name\":\"tensorflow/tfx\",\"url\":\"https://api.github.com/repos/tensorflow/tfx\"},\"payload\":{\"push_id\":3853469050,\"size\":1,\"distinct_size\":1,\"ref\":\"refs/heads/test_256893935\",\"head\":\"30698b57003304fdca2fb56b36f0744eb7fa8624\",\"before\":\"5a4f595e7c018efd39081b121cce7dbbcd109234\",\"commits\":[{\"sha\":\"30698b57003304fdca2fb56b36f0744eb7fa8624\",\"author\":{\"email\":\"tensorflow-extended-nonhuman@googlegroups.com\",\"name\":\"tfx-team\"},\"message\":\"Add end to end tests for Kubeflow.\\\\n\\\\nPiperOrigin-RevId: 256893935\",\"distinct\":true,\"url\":\"https://api.github.com/repos/tensorflow/tfx/commits/30698b57003304fdca2fb56b36f0744eb7fa8624\"}]},\"public\":true,\"created_at\":\"2019-07-25T04:03:38Z\",\"org\":{\"id\":15658638,\"login\":\"tensorflow\",\"gravatar_id\":\"\",\"url\":\"https://api.github.com/orgs/tensorflow\",\"avatar_url\":\"https://avatars.githubusercontent.com/u/15658638?\"}},{\"id\":\"10080042905\",\"type\":\"PushEvent\",\"actor\":{\"id\":8265780,\"login\":\"charitylaw\",\"display_login\":\"charitylaw\",\"gravatar_id\":\"\",\"url\":\"https://api.github.com/users/charitylaw\",\"avatar_url\":\"https://avatars.githubusercontent.com/u/8265780?\"},\"repo\":{\"id\":193811463,\"name\":\"charitylaw/Intron-reads\",\"url\":\"https://api.github.com/repos/charitylaw/Intron-reads\"},\"payload\":{\"push_id\":3853469047,\"size\":1,\"distinct_size\":1,\"ref\":\"refs/heads/master\",\"head\":\"1e9d3aea17dcf979ce02e0989d8f16bb7a7b0549\",\"before\":\"5f5093038cbf79dd2d6e3dc22dda9acbe80850ae\",\"commits\":[{\"sha\":\"1e9d3aea17dcf979ce02e0989d8f16bb7a7b0549\",\"author\":{\"email\":\"law@wehi.edu.au\",\"name\":\"Charity W Law\"},\"message\":\"Remove sup fig after rename\",\"distinct\":true,\"url\":\"https://api.github.com/repos/charitylaw/Intron-reads/commits/1e9d3aea17dcf979ce02e0989d8f16bb7a7b0549\"}]},\"public\":true,\"created_at\":\"2019-07-25T04:03:38Z\"},{\"id\":\"10080042901\",\"type\":\"PushEvent\",\"actor\":{\"id\":26514588,\"login\":\"FLYFLY-H\",\"display_login\":\"FLYFLY-H\",\"gravatar_id\":\"\",\"url\":\"https://api.github.com/users/FLYFLY-H\",\"avatar_url\":\"https://avatars.githubusercontent.com/u/26514588?\"},\"repo\":{\"id\":196343541,\"name\":\"tctfidoki/idoki\",\"url\":\"https://api.github.com/repos/tctfidoki/idoki\"},\"payload\":{\"push_id\":3853469044,\"size\":1,\"distinct_size\":1,\"ref\":\"refs/heads/Buildit\",\"head\":\"2caf0684adcfb7c95fcaebc6fef072fce10d41b0\",\"before\":\"05f45d41d3d915f638b249e31032e1f1d2600d6f\",\"commits\":[{\"sha\":\"2caf0684adcfb7c95fcaebc6fef072fce10d41b0\",\"author\":{\"email\":\"1481175102@qq.com\",\"name\":\"FlyFly_H\"},\"message\":\"delete\",\"distinct\":true,\"url\":\"https://api.github.com/repos/tctfidoki/idoki/commits/2caf0684adcfb7c95fcaebc6fef072fce10d41b0\"}]},\"public\":true,\"created_at\":\"2019-07-25T04:03:38Z\",\"org\":{\"id\":52734249,\"login\":\"tctfidoki\",\"gravatar_id\":\"\",\"url\":\"https://api.github.com/orgs/tctfidoki\",\"avatar_url\":\"https://avatars.githubusercontent.com/u/52734249?\"}},{\"id\":\"10080042898\",\"type\":\"ForkEvent\",\"actor\":{\"id\":5120581,\"login\":\"cc8848\",\"display_login\":\"cc8848\",\"gravatar_id\":\"\",\"url\":\"https://api.github.com/users/cc8848\",\"avatar_url\":\"https://avatars.githubusercontent.com/u/5120581?\"},\"repo\":{\"id\":26206359,\"name\":\"rockdai/haixiu\",\"url\":\"https://api.github.com/repos/rockdai/haixiu\"},\"payload\":{\"forkee\":{\"id\":198754805,\"node_id\":\"MDEwOlJlcG9zaXRvcnkxOTg3NTQ4MDU=\",\"name\":\"haixiu\",\"full_name\":\"cc8848/haixiu\",\"private\":false,\"owner\":{\"login\":\"cc8848\",\"id\":5120581,\"node_id\":\"MDQ6VXNlcjUxMjA1ODE=\",\"avatar_url\":\"https://avatars3.githubusercontent.com/u/5120581?v=4\",\"gravatar_id\":\"\",\"url\":\"https://api.github.com/users/cc8848\",\"html_url\":\"https://github.com/cc8848\",\"followers_url\":\"https://api.github.com/users/cc8848/followers\",\"following_url\":\"https://api.github.com/users/cc8848/following{/other_user}\",\"gists_url\":\"https://api.github.com/users/cc8848/gists{/gist_id}\",\"starred_url\":\"https://api.github.com/users/cc8848/starred{/owner}{/repo}\",\"subscriptions_url\":\"https://api.github.com/users/cc8848/subscriptions\",\"organizations_url\":\"https://api.github.com/users/cc8848/orgs\",\"repos_url\":\"https://api.github.com/users/cc8848/repos\",\"events_url\":\"https://api.github.com/users/cc8848/events{/privacy}\",\"received_events_url\":\"https://api.github.com/users/cc8848/received_events\",\"type\":\"User\",\"site_admin\":false},\"html_url\":\"https://github.com/cc8848/haixiu\",\"description\":\"豆瓣害羞组爬虫\",\"fork\":true,\"url\":\"https://api.github.com/repos/cc8848/haixiu\",\"forks_url\":\"https://api.github.com/repos/cc8848/haixiu/forks\",\"keys_url\":\"https://api.github.com/repos/cc8848/haixiu/keys{/key_id}\",\"collaborators_url\":\"https://api.github.com/repos/cc8848/haixiu/collaborators{/collaborator}\",\"teams_url\":\"https://api.github.com/repos/cc8848/haixiu/teams\",\"hooks_url\":\"https://api.github.com/repos/cc8848/haixiu/hooks\",\"issue_events_url\":\"https://api.github.com/repos/cc8848/haixiu/issues/events{/number}\",\"events_url\":\"https://api.github.com/repos/cc8848/haixiu/events\",\"assignees_url\":\"https://api.github.com/repos/cc8848/haixiu/assignees{/user}\",\"branches_url\":\"https://api.github.com/repos/cc8848/haixiu/branches{/branch}\",\"tags_url\":\"https://api.github.com/repos/cc8848/haixiu/tags\",\"blobs_url\":\"https://api.github.com/repos/cc8848/haixiu/git/blobs{/sha}\",\"git_tags_url\":\"https://api.github.com/repos/cc8848/haixiu/git/tags{/sha}\",\"git_refs_url\":\"https://api.github.com/repos/cc8848/haixiu/git/refs{/sha}\",\"trees_url\":\"https://api.github.com/repos/cc8848/haixiu/git/trees{/sha}\",\"statuses_url\":\"https://api.github.com/repos/cc8848/haixiu/statuses/{sha}\",\"languages_url\":\"https://api.github.com/repos/cc8848/haixiu/languages\",\"stargazers_url\":\"https://api.github.com/repos/cc8848/haixiu/stargazers\",\"contributors_url\":\"https://api.github.com/repos/cc8848/haixiu/contributors\",\"subscribers_url\":\"https://api.github.com/repos/cc8848/haixiu/subscribers\",\"subscription_url\":\"https://api.github.com/repos/cc8848/haixiu/subscription\",\"commits_url\":\"https://api.github.com/repos/cc8848/haixiu/commits{/sha}\",\"git_commits_url\":\"https://api.github.com/repos/cc8848/haixiu/git/commits{/sha}\",\"comments_url\":\"https://api.github.com/repos/cc8848/haixiu/comments{/number}\",\"issue_comment_url\":\"https://api.github.com/repos/cc8848/haixiu/issues/comments{/number}\",\"contents_url\":\"https://api.github.com/repos/cc8848/haixiu/contents/{+path}\",\"compare_url\":\"https://api.github.com/repos/cc8848/haixiu/compare/{base}...{head}\",\"merges_url\":\"https://api.github.com/repos/cc8848/haixiu/merges\",\"archive_url\":\"https://api.github.com/repos/cc8848/haixiu/{archive_format}{/ref}\",\"downloads_url\":\"https://api.github.com/repos/cc8848/haixiu/downloads\",\"issues_url\":\"https://api.github.com/repos/cc8848/haixiu/issues{/number}\",\"pulls_url\":\"https://api.github.com/repos/cc8848/haixiu/pulls{/number}\",\"milestones_url\":\"https://api.github.com/repos/cc8848/haixiu/milestones{/number}\",\"notifications_url\":\"https://api.github.com/repos/cc8848/haixiu/notifications{?since,all,participating}\",\"labels_url\":\"https://api.github.com/repos/cc8848/haixiu/labels{/name}\",\"releases_url\":\"https://api.github.com/repos/cc8848/haixiu/releases{/id}\",\"deployments_url\":\"https://api.github.com/repos/cc8848/haixiu/deployments\",\"created_at\":\"2019-07-25T04:03:38Z\",\"updated_at\":\"2019-07-21T04:40:35Z\",\"pushed_at\":\"2016-05-27T03:40:44Z\",\"git_url\":\"git://github.com/cc8848/haixiu.git\",\"ssh_url\":\"git@github.com:cc8848/haixiu.git\",\"clone_url\":\"https://github.com/cc8848/haixiu.git\",\"svn_url\":\"https://github.com/cc8848/haixiu\",\"homepage\":\"\",\"size\":22,\"stargazers_count\":0,\"watchers_count\":0,\"language\":null,\"has_issues\":false,\"has_projects\":true,\"has_downloads\":true,\"has_wiki\":true,\"has_pages\":false,\"forks_count\":0,\"mirror_url\":null,\"archived\":false,\"disabled\":false,\"open_issues_count\":0,\"license\":null,\"forks\":0,\"open_issues\":0,\"watchers\":0,\"default_branch\":\"master\",\"public\":true}},\"public\":true,\"created_at\":\"2019-07-25T04:03:38Z\"},{\"id\":\"10080042897\",\"type\":\"PullRequestEvent\",\"actor\":{\"id\":12777137,\"login\":\"dalekube\",\"display_login\":\"dalekube\",\"gravatar_id\":\"\",\"url\":\"https://api.github.com/users/dalekube\",\"avatar_url\":\"https://avatars.githubusercontent.com/u/12777137?\"},\"repo\":{\"id\":112129160,\"name\":\"dalekube/hR\",\"url\":\"https://api.github.com/repos/dalekube/hR\"},\"payload\":{\"action\":\"opened\",\"number\":10,\"pull_request\":{\"url\":\"https://api.github.com/repos/dalekube/hR/pulls/10\",\"id\":300972921,\"node_id\":\"MDExOlB1bGxSZXF1ZXN0MzAwOTcyOTIx\",\"html_url\":\"https://github.com/dalekube/hR/pull/10\",\"diff_url\":\"https://github.com/dalekube/hR/pull/10.diff\",\"patch_url\":\"https://github.com/dalekube/hR/pull/10.patch\",\"issue_url\":\"https://api.github.com/repos/dalekube/hR/issues/10\",\"number\":10,\"state\":\"open\",\"locked\":false,\"title\":\"V0.2.0\",\"user\":{\"login\":\"dalekube\",\"id\":12777137,\"node_id\":\"MDQ6VXNlcjEyNzc3MTM3\",\"avatar_url\":\"https://avatars1.githubusercontent.com/u/12777137?v=4\",\"gravatar_id\":\"\",\"url\":\"https://api.github.com/users/dalekube\",\"html_url\":\"https://github.com/dalekube\",\"followers_url\":\"https://api.github.com/users/dalekube/followers\",\"following_url\":\"https://api.github.com/users/dalekube/following{/other_user}\",\"gists_url\":\"https://api.github.com/users/dalekube/gists{/gist_id}\",\"starred_url\":\"https://api.github.com/users/dalekube/starred{/owner}{/repo}\",\"subscriptions_url\":\"https://api.github.com/users/dalekube/subscriptions\",\"organizations_url\":\"https://api.github.com/users/dalekube/orgs\",\"repos_url\":\"https://api.github.com/users/dalekube/repos\",\"events_url\":\"https://api.github.com/users/dalekube/events{/privacy}\",\"received_events_url\":\"https://api.github.com/users/dalekube/received_events\",\"type\":\"User\",\"site_admin\":false},\"body\":\"CRAN upload version 0.2.0.\",\"created_at\":\"2019-07-25T04:03:38Z\",\"updated_at\":\"2019-07-25T04:03:38Z\",\"closed_at\":null,\"merged_at\":null,\"merge_commit_sha\":null,\"assignee\":null,\"assignees\":[],\"requested_reviewers\":[],\"requested_teams\":[],\"labels\":[],\"milestone\":null,\"commits_url\":\"https://api.github.com/repos/dalekube/hR/pulls/10/commits\",\"review_comments_url\":\"https://api.github.com/repos/dalekube/hR/pulls/10/comments\",\"review_comment_url\":\"https://api.github.com/repos/dalekube/hR/pulls/comments{/number}\",\"comments_url\":\"https://api.github.com/repos/dalekube/hR/issues/10/comments\",\"statuses_url\":\"https://api.github.com/repos/dalekube/hR/statuses/ff169363a42e549b14a69f2b49b7c082e071be8f\",\"head\":{\"label\":\"dalekube:v0.2.0\",\"ref\":\"v0.2.0\",\"sha\":\"ff169363a42e549b14a69f2b49b7c082e071be8f\",\"user\":{\"login\":\"dalekube\",\"id\":12777137,\"node_id\":\"MDQ6VXNlcjEyNzc3MTM3\",\"avatar_url\":\"https://avatars1.githubusercontent.com/u/12777137?v=4\",\"gravatar_id\":\"\",\"url\":\"https://api.github.com/users/dalekube\",\"html_url\":\"https://github.com/dalekube\",\"followers_url\":\"https://api.github.com/users/dalekube/followers\",\"following_url\":\"https://api.github.com/users/dalekube/following{/other_user}\",\"gists_url\":\"https://api.github.com/users/dalekube/gists{/gist_id}\",\"starred_url\":\"https://api.github.com/users/dalekube/starred{/owner}{/repo}\",\"subscriptions_url\":\"https://api.github.com/users/dalekube/subscriptions\",\"organizations_url\":\"https://api.github.com/users/dalekube/orgs\",\"repos_url\":\"https://api.github.com/users/dalekube/repos\",\"events_url\":\"https://api.github.com/users/dalekube/events{/privacy}\",\"received_events_url\":\"https://api.github.com/users/dalekube/received_events\",\"type\":\"User\",\"site_admin\":false},\"repo\":{\"id\":112129160,\"node_id\":\"MDEwOlJlcG9zaXRvcnkxMTIxMjkxNjA=\",\"name\":\"hR\",\"full_name\":\"dalekube/hR\",\"private\":false,\"owner\":{\"login\":\"dalekube\",\"id\":12777137,\"node_id\":\"MDQ6VXNlcjEyNzc3MTM3\",\"avatar_url\":\"https://avatars1.githubusercontent.com/u/12777137?v=4\",\"gravatar_id\":\"\",\"url\":\"https://api.github.com/users/dalekube\",\"html_url\":\"https://github.com/dalekube\",\"followers_url\":\"https://api.github.com/users/dalekube/followers\",\"following_url\":\"https://api.github.com/users/dalekube/following{/other_user}\",\"gists_url\":\"https://api.github.com/users/dalekube/gists{/gist_id}\",\"starred_url\":\"https://api.github.com/users/dalekube/starred{/owner}{/repo}\",\"subscriptions_url\":\"https://api.github.com/users/dalekube/subscriptions\",\"organizations_url\":\"https://api.github.com/users/dalekube/orgs\",\"repos_url\":\"https://api.github.com/users/dalekube/repos\",\"events_url\":\"https://api.github.com/users/dalekube/events{/privacy}\",\"received_events_url\":\"https://api.github.com/users/dalekube/received_events\",\"type\":\"User\",\"site_admin\":false},\"html_url\":\"https://github.com/dalekube/hR\",\"description\":\"Toolkit for Data Analytics in Human Resources\",\"fork\":false,\"url\":\"https://api.github.com/repos/dalekube/hR\",\"forks_url\":\"https://api.github.com/repos/dalekube/hR/forks\",\"keys_url\":\"https://api.github.com/repos/dalekube/hR/keys{/key_id}\",\"collaborators_url\":\"https://api.github.com/repos/dalekube/hR/collaborators{/collaborator}\",\"teams_url\":\"https://api.github.com/repos/dalekube/hR/teams\",\"hooks_url\":\"https://api.github.com/repos/dalekube/hR/hooks\",\"issue_events_url\":\"https://api.github.com/repos/dalekube/hR/issues/events{/number}\",\"events_url\":\"https://api.github.com/repos/dalekube/hR/events\",\"assignees_url\":\"https://api.github.com/repos/dalekube/hR/assignees{/user}\",\"branches_url\":\"https://api.github.com/repos/dalekube/hR/branches{/branch}\",\"tags_url\":\"https://api.github.com/repos/dalekube/hR/tags\",\"blobs_url\":\"https://api.github.com/repos/dalekube/hR/git/blobs{/sha}\",\"git_tags_url\":\"https://api.github.com/repos/dalekube/hR/git/tags{/sha}\",\"git_refs_url\":\"https://api.github.com/repos/dalekube/hR/git/refs{/sha}\",\"trees_url\":\"https://api.github.com/repos/dalekube/hR/git/trees{/sha}\",\"statuses_url\":\"https://api.github.com/repos/dalekube/hR/statuses/{sha}\",\"languages_url\":\"https://api.github.com/repos/dalekube/hR/languages\",\"stargazers_url\":\"https://api.github.com/repos/dalekube/hR/stargazers\",\"contributors_url\":\"https://api.github.com/repos/dalekube/hR/contributors\",\"subscribers_url\":\"https://api.github.com/repos/dalekube/hR/subscribers\",\"subscription_url\":\"https://api.github.com/repos/dalekube/hR/subscription\",\"commits_url\":\"https://api.github.com/repos/dalekube/hR/commits{/sha}\",\"git_commits_url\":\"https://api.github.com/repos/dalekube/hR/git/commits{/sha}\",\"comments_url\":\"https://api.github.com/repos/dalekube/hR/comments{/number}\",\"issue_comment_url\":\"https://api.github.com/repos/dalekube/hR/issues/comments{/number}\",\"contents_url\":\"https://api.github.com/repos/dalekube/hR/contents/{+path}\",\"compare_url\":\"https://api.github.com/repos/dalekube/hR/compare/{base}...{head}\",\"merges_url\":\"https://api.github.com/repos/dalekube/hR/merges\",\"archive_url\":\"https://api.github.com/repos/dalekube/hR/{archive_format}{/ref}\",\"downloads_url\":\"https://api.github.com/repos/dalekube/hR/downloads\",\"issues_url\":\"https://api.github.com/repos/dalekube/hR/issues{/number}\",\"pulls_url\":\"https://api.github.com/repos/dalekube/hR/pulls{/number}\",\"milestones_url\":\"https://api.github.com/repos/dalekube/hR/milestones{/number}\",\"notifications_url\":\"https://api.github.com/repos/dalekube/hR/notifications{?since,all,participating}\",\"labels_url\":\"https://api.github.com/repos/dalekube/hR/labels{/name}\",\"releases_url\":\"https://api.github.com/repos/dalekube/hR/releases{/id}\",\"deployments_url\":\"https://api.github.com/repos/dalekube/hR/deployments\",\"created_at\":\"2017-11-27T00:44:36Z\",\"updated_at\":\"2019-05-18T14:59:16Z\",\"pushed_at\":\"2019-06-23T18:30:57Z\",\"git_url\":\"git://github.com/dalekube/hR.git\",\"ssh_url\":\"git@github.com:dalekube/hR.git\",\"clone_url\":\"https://github.com/dalekube/hR.git\",\"svn_url\":\"https://github.com/dalekube/hR\",\"homepage\":\"http://rpubs.com/dalekube/hR\",\"size\":476,\"stargazers_count\":2,\"watchers_count\":2,\"language\":\"R\",\"has_issues\":true,\"has_projects\":true,\"has_downloads\":true,\"has_wiki\":true,\"has_pages\":false,\"forks_count\":1,\"mirror_url\":null,\"archived\":false,\"disabled\":false,\"open_issues_count\":2,\"license\":null,\"forks\":1,\"open_issues\":2,\"watchers\":2,\"default_branch\":\"master\"}},\"base\":{\"label\":\"dalekube:master\",\"ref\":\"master\",\"sha\":\"a9b2b67f5c053c96d6f45bbc19f408c5628e7d6a\",\"user\":{\"login\":\"dalekube\",\"id\":12777137,\"node_id\":\"MDQ6VXNlcjEyNzc3MTM3\",\"avatar_url\":\"https://avatars1.githubusercontent.com/u/12777137?v=4\",\"gravatar_id\":\"\",\"url\":\"https://api.github.com/users/dalekube\",\"html_url\":\"https://github.com/dalekube\",\"followers_url\":\"https://api.github.com/users/dalekube/followers\",\"following_url\":\"https://api.github.com/users/dalekube/following{/other_user}\",\"gists_url\":\"https://api.github.com/users/dalekube/gists{/gist_id}\",\"starred_url\":\"https://api.github.com/users/dalekube/starred{/owner}{/repo}\",\"subscriptions_url\":\"https://api.github.com/users/dalekube/subscriptions\",\"organizations_url\":\"https://api.github.com/users/dalekube/orgs\",\"repos_url\":\"https://api.github.com/users/dalekube/repos\",\"events_url\":\"https://api.github.com/users/dalekube/events{/privacy}\",\"received_events_url\":\"https://api.github.com/users/dalekube/received_events\",\"type\":\"User\",\"site_admin\":false},\"repo\":{\"id\":112129160,\"node_id\":\"MDEwOlJlcG9zaXRvcnkxMTIxMjkxNjA=\",\"name\":\"hR\",\"full_name\":\"dalekube/hR\",\"private\":false,\"owner\":{\"login\":\"dalekube\",\"id\":12777137,\"node_id\":\"MDQ6VXNlcjEyNzc3MTM3\",\"avatar_url\":\"https://avatars1.githubusercontent.com/u/12777137?v=4\",\"gravatar_id\":\"\",\"url\":\"https://api.github.com/users/dalekube\",\"html_url\":\"https://github.com/dalekube\",\"followers_url\":\"https://api.github.com/users/dalekube/followers\",\"following_url\":\"https://api.github.com/users/dalekube/following{/other_user}\",\"gists_url\":\"https://api.github.com/users/dalekube/gists{/gist_id}\",\"starred_url\":\"https://api.github.com/users/dalekube/starred{/owner}{/repo}\",\"subscriptions_url\":\"https://api.github.com/users/dalekube/subscriptions\",\"organizations_url\":\"https://api.github.com/users/dalekube/orgs\",\"repos_url\":\"https://api.github.com/users/dalekube/repos\",\"events_url\":\"https://api.github.com/users/dalekube/events{/privacy}\",\"received_events_url\":\"https://api.github.com/users/dalekube/received_events\",\"type\":\"User\",\"site_admin\":false},\"html_url\":\"https://github.com/dalekube/hR\",\"description\":\"Toolkit for Data Analytics in Human Resources\",\"fork\":false,\"url\":\"https://api.github.com/repos/dalekube/hR\",\"forks_url\":\"https://api.github.com/repos/dalekube/hR/forks\",\"keys_url\":\"https://api.github.com/repos/dalekube/hR/keys{/key_id}\",\"collaborators_url\":\"https://api.github.com/repos/dalekube/hR/collaborators{/collaborator}\",\"teams_url\":\"https://api.github.com/repos/dalekube/hR/teams\",\"hooks_url\":\"https://api.github.com/repos/dalekube/hR/hooks\",\"issue_events_url\":\"https://api.github.com/repos/dalekube/hR/issues/events{/number}\",\"events_url\":\"https://api.github.com/repos/dalekube/hR/events\",\"assignees_url\":\"https://api.github.com/repos/dalekube/hR/assignees{/user}\",\"branches_url\":\"https://api.github.com/repos/dalekube/hR/branches{/branch}\",\"tags_url\":\"https://api.github.com/repos/dalekube/hR/tags\",\"blobs_url\":\"https://api.github.com/repos/dalekube/hR/git/blobs{/sha}\",\"git_tags_url\":\"https://api.github.com/repos/dalekube/hR/git/tags{/sha}\",\"git_refs_url\":\"https://api.github.com/repos/dalekube/hR/git/refs{/sha}\",\"trees_url\":\"https://api.github.com/repos/dalekube/hR/git/trees{/sha}\",\"statuses_url\":\"https://api.github.com/repos/dalekube/hR/statuses/{sha}\",\"languages_url\":\"https://api.github.com/repos/dalekube/hR/languages\",\"stargazers_url\":\"https://api.github.com/repos/dalekube/hR/stargazers\",\"contributors_url\":\"https://api.github.com/repos/dalekube/hR/contributors\",\"subscribers_url\":\"https://api.github.com/repos/dalekube/hR/subscribers\",\"subscription_url\":\"https://api.github.com/repos/dalekube/hR/subscription\",\"commits_url\":\"https://api.github.com/repos/dalekube/hR/commits{/sha}\",\"git_commits_url\":\"https://api.github.com/repos/dalekube/hR/git/commits{/sha}\",\"comments_url\":\"https://api.github.com/repos/dalekube/hR/comments{/number}\",\"issue_comment_url\":\"https://api.github.com/repos/dalekube/hR/issues/comments{/number}\",\"contents_url\":\"https://api.github.com/repos/dalekube/hR/contents/{+path}\",\"compare_url\":\"https://api.github.com/repos/dalekube/hR/compare/{base}...{head}\",\"merges_url\":\"https://api.github.com/repos/dalekube/hR/merges\",\"archive_url\":\"https://api.github.com/repos/dalekube/hR/{archive_format}{/ref}\",\"downloads_url\":\"https://api.github.com/repos/dalekube/hR/downloads\",\"issues_url\":\"https://api.github.com/repos/dalekube/hR/issues{/number}\",\"pulls_url\":\"https://api.github.com/repos/dalekube/hR/pulls{/number}\",\"milestones_url\":\"https://api.github.com/repos/dalekube/hR/milestones{/number}\",\"notifications_url\":\"https://api.github.com/repos/dalekube/hR/notifications{?since,all,participating}\",\"labels_url\":\"https://api.github.com/repos/dalekube/hR/labels{/name}\",\"releases_url\":\"https://api.github.com/repos/dalekube/hR/releases{/id}\",\"deployments_url\":\"https://api.github.com/repos/dalekube/hR/deployments\",\"created_at\":\"2017-11-27T00:44:36Z\",\"updated_at\":\"2019-05-18T14:59:16Z\",\"pushed_at\":\"2019-06-23T18:30:57Z\",\"git_url\":\"git://github.com/dalekube/hR.git\",\"ssh_url\":\"git@github.com:dalekube/hR.git\",\"clone_url\":\"https://github.com/dalekube/hR.git\",\"svn_url\":\"https://github.com/dalekube/hR\",\"homepage\":\"http://rpubs.com/dalekube/hR\",\"size\":476,\"stargazers_count\":2,\"watchers_count\":2,\"language\":\"R\",\"has_issues\":true,\"has_projects\":true,\"has_downloads\":true,\"has_wiki\":true,\"has_pages\":false,\"forks_count\":1,\"mirror_url\":null,\"archived\":false,\"disabled\":false,\"open_issues_count\":2,\"license\":null,\"forks\":1,\"open_issues\":2,\"watchers\":2,\"default_branch\":\"master\"}},\"_links\":{\"self\":{\"href\":\"https://api.github.com/repos/dalekube/hR/pulls/10\"},\"html\":{\"href\":\"https://github.com/dalekube/hR/pull/10\"},\"issue\":{\"href\":\"https://api.github.com/repos/dalekube/hR/issues/10\"},\"comments\":{\"href\":\"https://api.github.com/repos/dalekube/hR/issues/10/comments\"},\"review_comments\":{\"href\":\"https://api.github.com/repos/dalekube/hR/pulls/10/comments\"},\"review_comment\":{\"href\":\"https://api.github.com/repos/dalekube/hR/pulls/comments{/number}\"},\"commits\":{\"href\":\"https://api.github.com/repos/dalekube/hR/pulls/10/commits\"},\"statuses\":{\"href\":\"https://api.github.com/repos/dalekube/hR/statuses/ff169363a42e549b14a69f2b49b7c082e071be8f\"}},\"author_association\":\"OWNER\",\"merged\":false,\"mergeable\":null,\"rebaseable\":null,\"mergeable_state\":\"unknown\",\"merged_by\":null,\"comments\":0,\"review_comments\":0,\"maintainer_can_modify\":false,\"commits\":8,\"additions\":172,\"deletions\":103,\"changed_files\":9}},\"public\":true,\"created_at\":\"2019-07-25T04:03:38Z\"},{\"id\":\"10080042896\",\"type\":\"PushEvent\",\"actor\":{\"id\":53285366,\"login\":\"ketnoim2m\",\"display_login\":\"ketnoim2m\",\"gravatar_id\":\"\",\"url\":\"https://api.github.com/users/ketnoim2m\",\"avatar_url\":\"https://avatars.githubusercontent.com/u/53285366?\"},\"repo\":{\"id\":198746215,\"name\":\"ketnoim2m/fonts\",\"url\":\"https://api.github.com/repos/ketnoim2m/fonts\"},\"payload\":{\"push_id\":3853469042,\"size\":1,\"distinct_size\":1,\"ref\":\"refs/heads/master\",\"head\":\"dbb7371e3080be31f9efdd02993e928dde281b51\",\"before\":\"0eb4fe67755861dcdd9b27ec72651e8a591a9f28\",\"commits\":[{\"sha\":\"dbb7371e3080be31f9efdd02993e928dde281b51\",\"author\":{\"email\":\"53285366+ketnoim2m@users.noreply.github.com\",\"name\":\"ketnoim2m\"},\"message\":\"Add files via upload\",\"distinct\":true,\"url\":\"https://api.github.com/repos/ketnoim2m/fonts/commits/dbb7371e3080be31f9efdd02993e928dde281b51\"}]},\"public\":true,\"created_at\":\"2019-07-25T04:03:38Z\"},{\"id\":\"10080042890\",\"type\":\"PushEvent\",\"actor\":{\"id\":16645289,\"login\":\"torrentdu64\",\"display_login\":\"torrentdu64\",\"gravatar_id\":\"\",\"url\":\"https://api.github.com/users/torrentdu64\",\"avatar_url\":\"https://avatars.githubusercontent.com/u/16645289?\"},\"repo\":{\"id\":198296720,\"name\":\"torrentdu64/streams\",\"url\":\"https://api.github.com/repos/torrentdu64/streams\"},\"payload\":{\"push_id\":3853469028,\"size\":1,\"distinct_size\":1,\"ref\":\"refs/heads/master\",\"head\":\"76e2d910db4ccb3927a9b11e24ff8afb5e46f66e\",\"before\":\"1b40c6481d5a47daa756e8c1af58d155ba978370\",\"commits\":[{\"sha\":\"76e2d910db4ccb3927a9b11e24ff8afb5e46f66e\",\"author\":{\"email\":\"torrentdu64@gmail.com\",\"name\":\"torrent benoit\"},\"message\":\"streams server\",\"distinct\":true,\"url\":\"https://api.github.com/repos/torrentdu64/streams/commits/76e2d910db4ccb3927a9b11e24ff8afb5e46f66e\"}]},\"public\":true,\"created_at\":\"2019-07-25T04:03:38Z\"},{\"id\":\"10080042891\",\"type\":\"IssuesEvent\",\"actor\":{\"id\":51396981,\"login\":\"houke4743\",\"display_login\":\"houke4743\",\"gravatar_id\":\"\",\"url\":\"https://api.github.com/users/houke4743\",\"avatar_url\":\"https://avatars.githubusercontent.com/u/51396981?\"},\"repo\":{\"id\":145678415,\"name\":\"ISID/iPLAss\",\"url\":\"https://api.github.com/repos/ISID/iPLAss\"},\"payload\":{\"action\":\"closed\",\"issue\":{\"url\":\"https://api.github.com/repos/ISID/iPLAss/issues/260\",\"repository_url\":\"https://api.github.com/repos/ISID/iPLAss\",\"labels_url\":\"https://api.github.com/repos/ISID/iPLAss/issues/260/labels{/name}\",\"comments_url\":\"https://api.github.com/repos/ISID/iPLAss/issues/260/comments\",\"events_url\":\"https://api.github.com/repos/ISID/iPLAss/issues/260/events\",\"html_url\":\"https://github.com/ISID/iPLAss/issues/260\",\"id\":465693483,\"node_id\":\"MDU6SXNzdWU0NjU2OTM0ODM=\",\"number\":260,\"title\":\"gem、一括削除および一括更新のコミット件数を設定可能にする\",\"user\":{\"login\":\"HiguchiKiyoshi\",\"id\":22016554,\"node_id\":\"MDQ6VXNlcjIyMDE2NTU0\",\"avatar_url\":\"https://avatars2.githubusercontent.com/u/22016554?v=4\",\"gravatar_id\":\"\",\"url\":\"https://api.github.com/users/HiguchiKiyoshi\",\"html_url\":\"https://github.com/HiguchiKiyoshi\",\"followers_url\":\"https://api.github.com/users/HiguchiKiyoshi/followers\",\"following_url\":\"https://api.github.com/users/HiguchiKiyoshi/following{/other_user}\",\"gists_url\":\"https://api.github.com/users/HiguchiKiyoshi/gists{/gist_id}\",\"starred_url\":\"https://api.github.com/users/HiguchiKiyoshi/starred{/owner}{/repo}\",\"subscriptions_url\":\"https://api.github.com/users/HiguchiKiyoshi/subscriptions\",\"organizations_url\":\"https://api.github.com/users/HiguchiKiyoshi/orgs\",\"repos_url\":\"https://api.github.com/users/HiguchiKiyoshi/repos\",\"events_url\":\"https://api.github.com/users/HiguchiKiyoshi/events{/privacy}\",\"received_events_url\":\"https://api.github.com/users/HiguchiKiyoshi/received_events\",\"type\":\"User\",\"site_admin\":false},\"labels\":[{\"id\":1031765883,\"node_id\":\"MDU6TGFiZWwxMDMxNzY1ODgz\",\"url\":\"https://api.github.com/repos/ISID/iPLAss/labels/enhancement\",\"name\":\"enhancement\",\"color\":\"a2eeef\",\"default\":true}],\"state\":\"closed\",\"locked\":false,\"assignee\":{\"login\":\"houke4743\",\"id\":51396981,\"node_id\":\"MDQ6VXNlcjUxMzk2OTgx\",\"avatar_url\":\"https://avatars1.githubusercontent.com/u/51396981?v=4\",\"gravatar_id\":\"\",\"url\":\"https://api.github.com/users/houke4743\",\"html_url\":\"https://github.com/houke4743\",\"followers_url\":\"https://api.github.com/users/houke4743/followers\",\"following_url\":\"https://api.github.com/users/houke4743/following{/other_user}\",\"gists_url\":\"https://api.github.com/users/houke4743/gists{/gist_id}\",\"starred_url\":\"https://api.github.com/users/houke4743/starred{/owner}{/repo}\",\"subscriptions_url\":\"https://api.github.com/users/houke4743/subscriptions\",\"organizations_url\":\"https://api.github.com/users/houke4743/orgs\",\"repos_url\":\"https://api.github.com/users/houke4743/repos\",\"events_url\":\"https://api.github.com/users/houke4743/events{/privacy}\",\"received_events_url\":\"https://api.github.com/users/houke4743/received_events\",\"type\":\"User\",\"site_admin\":false},\"assignees\":[{\"login\":\"houke4743\",\"id\":51396981,\"node_id\":\"MDQ6VXNlcjUxMzk2OTgx\",\"avatar_url\":\"https://avatars1.githubusercontent.com/u/51396981?v=4\",\"gravatar_id\":\"\",\"url\":\"https://api.github.com/users/houke4743\",\"html_url\":\"https://github.com/houke4743\",\"followers_url\":\"https://api.github.com/users/houke4743/followers\",\"following_url\":\"https://api.github.com/users/houke4743/following{/other_user}\",\"gists_url\":\"https://api.github.com/users/houke4743/gists{/gist_id}\",\"starred_url\":\"https://api.github.com/users/houke4743/starred{/owner}{/repo}\",\"subscriptions_url\":\"https://api.github.com/users/houke4743/subscriptions\",\"organizations_url\":\"https://api.github.com/users/houke4743/orgs\",\"repos_url\":\"https://api.github.com/users/houke4743/repos\",\"events_url\":\"https://api.github.com/users/houke4743/events{/privacy}\",\"received_events_url\":\"https://api.github.com/users/houke4743/received_events\",\"type\":\"User\",\"site_admin\":false}],\"milestone\":{\"url\":\"https://api.github.com/repos/ISID/iPLAss/milestones/12\",\"html_url\":\"https://github.com/ISID/iPLAss/milestone/12\",\"labels_url\":\"https://api.github.com/repos/ISID/iPLAss/milestones/12/labels\",\"id\":4448163,\"node_id\":\"MDk6TWlsZXN0b25lNDQ0ODE2Mw==\",\"number\":12,\"title\":\"3.0.12\",\"description\":\"\",\"creator\":{\"login\":\"HiguchiKiyoshi\",\"id\":22016554,\"node_id\":\"MDQ6VXNlcjIyMDE2NTU0\",\"avatar_url\":\"https://avatars2.githubusercontent.com/u/22016554?v=4\",\"gravatar_id\":\"\",\"url\":\"https://api.github.com/users/HiguchiKiyoshi\",\"html_url\":\"https://github.com/HiguchiKiyoshi\",\"followers_url\":\"https://api.github.com/users/HiguchiKiyoshi/followers\",\"following_url\":\"https://api.github.com/users/HiguchiKiyoshi/following{/other_user}\",\"gists_url\":\"https://api.github.com/users/HiguchiKiyoshi/gists{/gist_id}\",\"starred_url\":\"https://api.github.com/users/HiguchiKiyoshi/starred{/owner}{/repo}\",\"subscriptions_url\":\"https://api.github.com/users/HiguchiKiyoshi/subscriptions\",\"organizations_url\":\"https://api.github.com/users/HiguchiKiyoshi/orgs\",\"repos_url\":\"https://api.github.com/users/HiguchiKiyoshi/repos\",\"events_url\":\"https://api.github.com/users/HiguchiKiyoshi/events{/privacy}\",\"received_events_url\":\"https://api.github.com/users/HiguchiKiyoshi/received_events\",\"type\":\"User\",\"site_admin\":false},\"open_issues\":0,\"closed_issues\":32,\"state\":\"open\",\"created_at\":\"2019-06-28T07:20:34Z\",\"updated_at\":\"2019-07-25T04:03:38Z\",\"due_on\":null,\"closed_at\":null},\"comments\":1,\"created_at\":\"2019-07-09T10:11:58Z\",\"updated_at\":\"2019-07-25T04:03:37Z\",\"closed_at\":\"2019-07-25T04:03:37Z\",\"author_association\":\"MEMBER\",\"body\":\"gem、一括削除および一括更新のコミット件数をそれぞれ設定可能にする。\\\\r\\\\n現状、100件単位でコミットしているが、この件数を設定可能なようにする。\\\\r\\\\n（CSVアップロード時と同様のコミット制御をおこなう）\\\\r\\\\n\\\\r\\\\n具体的な対応\\\\r\\\\n一括削除、一括更新それぞれの処理に対して、\\\\r\\\\n* EntityView定義に処理時のトランザクション制御タイプ（一括コミット、分割コミット）を指定可能に\\\\r\\\\n* GemConfigServiceに分割コミット時の件数を指定可能に\\\\r\\\\n\"}},\"public\":true,\"created_at\":\"2019-07-25T04:03:38Z\",\"org\":{\"id\":17040292,\"login\":\"ISID\",\"gravatar_id\":\"\",\"url\":\"https://api.github.com/orgs/ISID\",\"avatar_url\":\"https://avatars.githubusercontent.com/u/17040292?\"}},{\"id\":\"10080042889\",\"type\":\"PullRequestEvent\",\"actor\":{\"id\":42781255,\"login\":\"ThomasUtsey\",\"display_login\":\"ThomasUtsey\",\"gravatar_id\":\"\",\"url\":\"https://api.github.com/users/ThomasUtsey\",\"avatar_url\":\"https://avatars.githubusercontent.com/u/42781255?\"},\"repo\":{\"id\":185896674,\"name\":\"labslibrarypt3/LabsLibraryPT3_BE\",\"url\":\"https://api.github.com/repos/labslibrarypt3/LabsLibraryPT3_BE\"},\"payload\":{\"action\":\"closed\",\"number\":102,\"pull_request\":{\"url\":\"https://api.github.com/repos/labslibrarypt3/LabsLibraryPT3_BE/pulls/102\",\"id\":300972839,\"node_id\":\"MDExOlB1bGxSZXF1ZXN0MzAwOTcyODM5\",\"html_url\":\"https://github.com/labslibrarypt3/LabsLibraryPT3_BE/pull/102\",\"diff_url\":\"https://github.com/labslibrarypt3/LabsLibraryPT3_BE/pull/102.diff\",\"patch_url\":\"https://github.com/labslibrarypt3/LabsLibraryPT3_BE/pull/102.patch\",\"issue_url\":\"https://api.github.com/repos/labslibrarypt3/LabsLibraryPT3_BE/issues/102\",\"number\":102,\"state\":\"closed\",\"locked\":false,\"title\":\"Ira sanchez\",\"user\":{\"login\":\"ThomasUtsey\",\"id\":42781255,\"node_id\":\"MDQ6VXNlcjQyNzgxMjU1\",\"avatar_url\":\"https://avatars3.githubusercontent.com/u/42781255?v=4\",\"gravatar_id\":\"\",\"url\":\"https://api.github.com/users/ThomasUtsey\",\"html_url\":\"https://github.com/ThomasUtsey\",\"followers_url\":\"https://api.github.com/users/ThomasUtsey/followers\",\"following_url\":\"https://api.github.com/users/ThomasUtsey/following{/other_user}\",\"gists_url\":\"https://api.github.com/users/ThomasUtsey/gists{/gist_id}\",\"starred_url\":\"https://api.github.com/users/ThomasUtsey/starred{/owner}{/repo}\",\"subscriptions_url\":\"https://api.github.com/users/ThomasUtsey/subscriptions\",\"organizations_url\":\"https://api.github.com/users/ThomasUtsey/orgs\",\"repos_url\":\"https://api.github.com/users/ThomasUtsey/repos\",\"events_url\":\"https://api.github.com/users/ThomasUtsey/events{/privacy}\",\"received_events_url\":\"https://api.github.com/users/ThomasUtsey/received_events\",\"type\":\"User\",\"site_admin\":false},\"body\":\"\",\"created_at\":\"2019-07-25T04:03:03Z\",\"updated_at\":\"2019-07-25T04:03:37Z\",\"closed_at\":\"2019-07-25T04:03:37Z\",\"merged_at\":\"2019-07-25T04:03:37Z\",\"merge_commit_sha\":\"37df678fd295dae223729a0c764dede72a93f47d\",\"assignee\":null,\"assignees\":[],\"requested_reviewers\":[],\"requested_teams\":[],\"labels\":[],\"milestone\":null,\"commits_url\":\"https://api.github.com/repos/labslibrarypt3/LabsLibraryPT3_BE/pulls/102/commits\",\"review_comments_url\":\"https://api.github.com/repos/labslibrarypt3/LabsLibraryPT3_BE/pulls/102/comments\",\"review_comment_url\":\"https://api.github.com/repos/labslibrarypt3/LabsLibraryPT3_BE/pulls/comments{/number}\",\"comments_url\":\"https://api.github.com/repos/labslibrarypt3/LabsLibraryPT3_BE/issues/102/comments\",\"statuses_url\":\"https://api.github.com/repos/labslibrarypt3/LabsLibraryPT3_BE/statuses/b60b3f559c1796e92d9dde5763a31d159dddc94a\",\"head\":{\"label\":\"labslibrarypt3:ira-sanchez\",\"ref\":\"ira-sanchez\",\"sha\":\"b60b3f559c1796e92d9dde5763a31d159dddc94a\",\"user\":{\"login\":\"labslibrarypt3\",\"id\":50470163,\"node_id\":\"MDEyOk9yZ2FuaXphdGlvbjUwNDcwMTYz\",\"avatar_url\":\"https://avatars2.githubusercontent.com/u/50470163?v=4\",\"gravatar_id\":\"\",\"url\":\"https://api.github.com/users/labslibrarypt3\",\"html_url\":\"https://github.com/labslibrarypt3\",\"followers_url\":\"https://api.github.com/users/labslibrarypt3/followers\",\"following_url\":\"https://api.github.com/users/labslibrarypt3/following{/other_user}\",\"gists_url\":\"https://api.github.com/users/labslibrarypt3/gists{/gist_id}\",\"starred_url\":\"https://api.github.com/users/labslibrarypt3/starred{/owner}{/repo}\",\"subscriptions_url\":\"https://api.github.com/users/labslibrarypt3/subscriptions\",\"organizations_url\":\"https://api.github.com/users/labslibrarypt3/orgs\",\"repos_url\":\"https://api.github.com/users/labslibrarypt3/repos\",\"events_url\":\"https://api.github.com/users/labslibrarypt3/events{/privacy}\",\"received_events_url\":\"https://api.github.com/users/labslibrarypt3/received_events\",\"type\":\"Organization\",\"site_admin\":false},\"repo\":{\"id\":185896674,\"node_id\":\"MDEwOlJlcG9zaXRvcnkxODU4OTY2NzQ=\",\"name\":\"LabsLibraryPT3_BE\",\"full_name\":\"labslibrarypt3/LabsLibraryPT3_BE\",\"private\":false,\"owner\":{\"login\":\"labslibrarypt3\",\"id\":50470163,\"node_id\":\"MDEyOk9yZ2FuaXphdGlvbjUwNDcwMTYz\",\"avatar_url\":\"https://avatars2.githubusercontent.com/u/50470163?v=4\",\"gravatar_id\":\"\",\"url\":\"https://api.github.com/users/labslibrarypt3\",\"html_url\":\"https://github.com/labslibrarypt3\",\"followers_url\":\"https://api.github.com/users/labslibrarypt3/followers\",\"following_url\":\"https://api.github.com/users/labslibrarypt3/following{/other_user}\",\"gists_url\":\"https://api.github.com/users/labslibrarypt3/gists{/gist_id}\",\"starred_url\":\"https://api.github.com/users/labslibrarypt3/starred{/owner}{/repo}\",\"subscriptions_url\":\"https://api.github.com/users/labslibrarypt3/subscriptions\",\"organizations_url\":\"https://api.github.com/users/labslibrarypt3/orgs\",\"repos_url\":\"https://api.github.com/users/labslibrarypt3/repos\",\"events_url\":\"https://api.github.com/users/labslibrarypt3/events{/privacy}\",\"received_events_url\":\"https://api.github.com/users/labslibrarypt3/received_events\",\"type\":\"Organization\",\"site_admin\":false},\"html_url\":\"https://github.com/labslibrarypt3/LabsLibraryPT3_BE\",\"description\":\"BE\",\"fork\":false,\"url\":\"https://api.github.com/repos/labslibrarypt3/LabsLibraryPT3_BE\",\"forks_url\":\"https://api.github.com/repos/labslibrarypt3/LabsLibraryPT3_BE/forks\",\"keys_url\":\"https://api.github.com/repos/labslibrarypt3/LabsLibraryPT3_BE/keys{/key_id}\",\"collaborators_url\":\"https://api.github.com/repos/labslibrarypt3/LabsLibraryPT3_BE/collaborators{/collaborator}\",\"teams_url\":\"https://api.github.com/repos/labslibrarypt3/LabsLibraryPT3_BE/teams\",\"hooks_url\":\"https://api.github.com/repos/labslibrarypt3/LabsLibraryPT3_BE/hooks\",\"issue_events_url\":\"https://api.github.com/repos/labslibrarypt3/LabsLibraryPT3_BE/issues/events{/number}\",\"events_url\":\"https://api.github.com/repos/labslibrarypt3/LabsLibraryPT3_BE/events\",\"assignees_url\":\"https://api.github.com/repos/labslibrarypt3/LabsLibraryPT3_BE/assignees{/user}\",\"branches_url\":\"https://api.github.com/repos/labslibrarypt3/LabsLibraryPT3_BE/branches{/branch}\",\"tags_url\":\"https://api.github.com/repos/labslibrarypt3/LabsLibraryPT3_BE/tags\",\"blobs_url\":\"https://api.github.com/repos/labslibrarypt3/LabsLibraryPT3_BE/git/blobs{/sha}\",\"git_tags_url\":\"https://api.github.com/repos/labslibrarypt3/LabsLibraryPT3_BE/git/tags{/sha}\",\"git_refs_url\":\"https://api.github.com/repos/labslibrarypt3/LabsLibraryPT3_BE/git/refs{/sha}\",\"trees_url\":\"https://api.github.com/repos/labslibrarypt3/LabsLibraryPT3_BE/git/trees{/sha}\",\"statuses_url\":\"https://api.github.com/repos/labslibrarypt3/LabsLibraryPT3_BE/statuses/{sha}\",\"languages_url\":\"https://api.github.com/repos/labslibrarypt3/LabsLibraryPT3_BE/languages\",\"stargazers_url\":\"https://api.github.com/repos/labslibrarypt3/LabsLibraryPT3_BE/stargazers\",\"contributors_url\":\"https://api.github.com/repos/labslibrarypt3/LabsLibraryPT3_BE/contributors\",\"subscribers_url\":\"https://api.github.com/repos/labslibrarypt3/LabsLibraryPT3_BE/subscribers\",\"subscription_url\":\"https://api.github.com/repos/labslibrarypt3/LabsLibraryPT3_BE/subscription\",\"commits_url\":\"https://api.github.com/repos/labslibrarypt3/LabsLibraryPT3_BE/commits{/sha}\",\"git_commits_url\":\"https://api.github.com/repos/labslibrarypt3/LabsLibraryPT3_BE/git/commits{/sha}\",\"comments_url\":\"https://api.github.com/repos/labslibrarypt3/LabsLibraryPT3_BE/comments{/number}\",\"issue_comment_url\":\"https://api.github.com/repos/labslibrarypt3/LabsLibraryPT3_BE/issues/comments{/number}\",\"contents_url\":\"https://api.github.com/repos/labslibrarypt3/LabsLibraryPT3_BE/contents/{+path}\",\"compare_url\":\"https://api.github.com/repos/labslibrarypt3/LabsLibraryPT3_BE/compare/{base}...{head}\",\"merges_url\":\"https://api.github.com/repos/labslibrarypt3/LabsLibraryPT3_BE/merges\",\"archive_url\":\"https://api.github.com/repos/labslibrarypt3/LabsLibraryPT3_BE/{archive_format}{/ref}\",\"downloads_url\":\"https://api.github.com/repos/labslibrarypt3/LabsLibraryPT3_BE/downloads\",\"issues_url\":\"https://api.github.com/repos/labslibrarypt3/LabsLibraryPT3_BE/issues{/number}\",\"pulls_url\":\"https://api.github.com/repos/labslibrarypt3/LabsLibraryPT3_BE/pulls{/number}\",\"milestones_url\":\"https://api.github.com/repos/labslibrarypt3/LabsLibraryPT3_BE/milestones{/number}\",\"notifications_url\":\"https://api.github.com/repos/labslibrarypt3/LabsLibraryPT3_BE/notifications{?since,all,participating}\",\"labels_url\":\"https://api.github.com/repos/labslibrarypt3/LabsLibraryPT3_BE/labels{/name}\",\"releases_url\":\"https://api.github.com/repos/labslibrarypt3/LabsLibraryPT3_BE/releases{/id}\",\"deployments_url\":\"https://api.github.com/repos/labslibrarypt3/LabsLibraryPT3_BE/deployments\",\"created_at\":\"2019-05-10T01:26:33Z\",\"updated_at\":\"2019-07-19T03:53:52Z\",\"pushed_at\":\"2019-07-25T04:03:37Z\",\"git_url\":\"git://github.com/labslibrarypt3/LabsLibraryPT3_BE.git\",\"ssh_url\":\"git@github.com:labslibrarypt3/LabsLibraryPT3_BE.git\",\"clone_url\":\"https://github.com/labslibrarypt3/LabsLibraryPT3_BE.git\",\"svn_url\":\"https://github.com/labslibrarypt3/LabsLibraryPT3_BE\",\"homepage\":null,\"size\":445,\"stargazers_count\":0,\"watchers_count\":0,\"language\":\"JavaScript\",\"has_issues\":true,\"has_projects\":true,\"has_downloads\":true,\"has_wiki\":true,\"has_pages\":false,\"forks_count\":1,\"mirror_url\":null,\"archived\":false,\"disabled\":false,\"open_issues_count\":0,\"license\":{\"key\":\"mit\",\"name\":\"MIT License\",\"spdx_id\":\"MIT\",\"url\":\"https://api.github.com/licenses/mit\",\"node_id\":\"MDc6TGljZW5zZTEz\"},\"forks\":1,\"open_issues\":0,\"watchers\":0,\"default_branch\":\"master\"}},\"base\":{\"label\":\"labslibrarypt3:development\",\"ref\":\"development\",\"sha\":\"8d4d67598afcf4f5fb672a354192a131c3a54b9d\",\"user\":{\"login\":\"labslibrarypt3\",\"id\":50470163,\"node_id\":\"MDEyOk9yZ2FuaXphdGlvbjUwNDcwMTYz\",\"avatar_url\":\"https://avatars2.githubusercontent.com/u/50470163?v=4\",\"gravatar_id\":\"\",\"url\":\"https://api.github.com/users/labslibrarypt3\",\"html_url\":\"https://github.com/labslibrarypt3\",\"followers_url\":\"https://api.github.com/users/labslibrarypt3/followers\",\"following_url\":\"https://api.github.com/users/labslibrarypt3/following{/other_user}\",\"gists_url\":\"https://api.github.com/users/labslibrarypt3/gists{/gist_id}\",\"starred_url\":\"https://api.github.com/users/labslibrarypt3/starred{/owner}{/repo}\",\"subscriptions_url\":\"https://api.github.com/users/labslibrarypt3/subscriptions\",\"organizations_url\":\"https://api.github.com/users/labslibrarypt3/orgs\",\"repos_url\":\"https://api.github.com/users/labslibrarypt3/repos\",\"events_url\":\"https://api.github.com/users/labslibrarypt3/events{/privacy}\",\"received_events_url\":\"https://api.github.com/users/labslibrarypt3/received_events\",\"type\":\"Organization\",\"site_admin\":false},\"repo\":{\"id\":185896674,\"node_id\":\"MDEwOlJlcG9zaXRvcnkxODU4OTY2NzQ=\",\"name\":\"LabsLibraryPT3_BE\",\"full_name\":\"labslibrarypt3/LabsLibraryPT3_BE\",\"private\":false,\"owner\":{\"login\":\"labslibrarypt3\",\"id\":50470163,\"node_id\":\"MDEyOk9yZ2FuaXphdGlvbjUwNDcwMTYz\",\"avatar_url\":\"https://avatars2.githubusercontent.com/u/50470163?v=4\",\"gravatar_id\":\"\",\"url\":\"https://api.github.com/users/labslibrarypt3\",\"html_url\":\"https://github.com/labslibrarypt3\",\"followers_url\":\"https://api.github.com/users/labslibrarypt3/followers\",\"following_url\":\"https://api.github.com/users/labslibrarypt3/following{/other_user}\",\"gists_url\":\"https://api.github.com/users/labslibrarypt3/gists{/gist_id}\",\"starred_url\":\"https://api.github.com/users/labslibrarypt3/starred{/owner}{/repo}\",\"subscriptions_url\":\"https://api.github.com/users/labslibrarypt3/subscriptions\",\"organizations_url\":\"https://api.github.com/users/labslibrarypt3/orgs\",\"repos_url\":\"https://api.github.com/users/labslibrarypt3/repos\",\"events_url\":\"https://api.github.com/users/labslibrarypt3/events{/privacy}\",\"received_events_url\":\"https://api.github.com/users/labslibrarypt3/received_events\",\"type\":\"Organization\",\"site_admin\":false},\"html_url\":\"https://github.com/labslibrarypt3/LabsLibraryPT3_BE\",\"description\":\"BE\",\"fork\":false,\"url\":\"https://api.github.com/repos/labslibrarypt3/LabsLibraryPT3_BE\",\"forks_url\":\"https://api.github.com/repos/labslibrarypt3/LabsLibraryPT3_BE/forks\",\"keys_url\":\"https://api.github.com/repos/labslibrarypt3/LabsLibraryPT3_BE/keys{/key_id}\",\"collaborators_url\":\"https://api.github.com/repos/labslibrarypt3/LabsLibraryPT3_BE/collaborators{/collaborator}\",\"teams_url\":\"https://api.github.com/repos/labslibrarypt3/LabsLibraryPT3_BE/teams\",\"hooks_url\":\"https://api.github.com/repos/labslibrarypt3/LabsLibraryPT3_BE/hooks\",\"issue_events_url\":\"https://api.github.com/repos/labslibrarypt3/LabsLibraryPT3_BE/issues/events{/number}\",\"events_url\":\"https://api.github.com/repos/labslibrarypt3/LabsLibraryPT3_BE/events\",\"assignees_url\":\"https://api.github.com/repos/labslibrarypt3/LabsLibraryPT3_BE/assignees{/user}\",\"branches_url\":\"https://api.github.com/repos/labslibrarypt3/LabsLibraryPT3_BE/branches{/branch}\",\"tags_url\":\"https://api.github.com/repos/labslibrarypt3/LabsLibraryPT3_BE/tags\",\"blobs_url\":\"https://api.github.com/repos/labslibrarypt3/LabsLibraryPT3_BE/git/blobs{/sha}\",\"git_tags_url\":\"https://api.github.com/repos/labslibrarypt3/LabsLibraryPT3_BE/git/tags{/sha}\",\"git_refs_url\":\"https://api.github.com/repos/labslibrarypt3/LabsLibraryPT3_BE/git/refs{/sha}\",\"trees_url\":\"https://api.github.com/repos/labslibrarypt3/LabsLibraryPT3_BE/git/trees{/sha}\",\"statuses_url\":\"https://api.github.com/repos/labslibrarypt3/LabsLibraryPT3_BE/statuses/{sha}\",\"languages_url\":\"https://api.github.com/repos/labslibrarypt3/LabsLibraryPT3_BE/languages\",\"stargazers_url\":\"https://api.github.com/repos/labslibrarypt3/LabsLibraryPT3_BE/stargazers\",\"contributors_url\":\"https://api.github.com/repos/labslibrarypt3/LabsLibraryPT3_BE/contributors\",\"subscribers_url\":\"https://api.github.com/repos/labslibrarypt3/LabsLibraryPT3_BE/subscribers\",\"subscription_url\":\"https://api.github.com/repos/labslibrarypt3/LabsLibraryPT3_BE/subscription\",\"commits_url\":\"https://api.github.com/repos/labslibrarypt3/LabsLibraryPT3_BE/commits{/sha}\",\"git_commits_url\":\"https://api.github.com/repos/labslibrarypt3/LabsLibraryPT3_BE/git/commits{/sha}\",\"comments_url\":\"https://api.github.com/repos/labslibrarypt3/LabsLibraryPT3_BE/comments{/number}\",\"issue_comment_url\":\"https://api.github.com/repos/labslibrarypt3/LabsLibraryPT3_BE/issues/comments{/number}\",\"contents_url\":\"https://api.github.com/repos/labslibrarypt3/LabsLibraryPT3_BE/contents/{+path}\",\"compare_url\":\"https://api.github.com/repos/labslibrarypt3/LabsLibraryPT3_BE/compare/{base}...{head}\",\"merges_url\":\"https://api.github.com/repos/labslibrarypt3/LabsLibraryPT3_BE/merges\",\"archive_url\":\"https://api.github.com/repos/labslibrarypt3/LabsLibraryPT3_BE/{archive_format}{/ref}\",\"downloads_url\":\"https://api.github.com/repos/labslibrarypt3/LabsLibraryPT3_BE/downloads\",\"issues_url\":\"https://api.github.com/repos/labslibrarypt3/LabsLibraryPT3_BE/issues{/number}\",\"pulls_url\":\"https://api.github.com/repos/labslibrarypt3/LabsLibraryPT3_BE/pulls{/number}\",\"milestones_url\":\"https://api.github.com/repos/labslibrarypt3/LabsLibraryPT3_BE/milestones{/number}\",\"notifications_url\":\"https://api.github.com/repos/labslibrarypt3/LabsLibraryPT3_BE/notifications{?since,all,participating}\",\"labels_url\":\"https://api.github.com/repos/labslibrarypt3/LabsLibraryPT3_BE/labels{/name}\",\"releases_url\":\"https://api.github.com/repos/labslibrarypt3/LabsLibraryPT3_BE/releases{/id}\",\"deployments_url\":\"https://api.github.com/repos/labslibrarypt3/LabsLibraryPT3_BE/deployments\",\"created_at\":\"2019-05-10T01:26:33Z\",\"updated_at\":\"2019-07-19T03:53:52Z\",\"pushed_at\":\"2019-07-25T04:03:37Z\",\"git_url\":\"git://github.com/labslibrarypt3/LabsLibraryPT3_BE.git\",\"ssh_url\":\"git@github.com:labslibrarypt3/LabsLibraryPT3_BE.git\",\"clone_url\":\"https://github.com/labslibrarypt3/LabsLibraryPT3_BE.git\",\"svn_url\":\"https://github.com/labslibrarypt3/LabsLibraryPT3_BE\",\"homepage\":null,\"size\":445,\"stargazers_count\":0,\"watchers_count\":0,\"language\":\"JavaScript\",\"has_issues\":true,\"has_projects\":true,\"has_downloads\":true,\"has_wiki\":true,\"has_pages\":false,\"forks_count\":1,\"mirror_url\":null,\"archived\":false,\"disabled\":false,\"open_issues_count\":0,\"license\":{\"key\":\"mit\",\"name\":\"MIT License\",\"spdx_id\":\"MIT\",\"url\":\"https://api.github.com/licenses/mit\",\"node_id\":\"MDc6TGljZW5zZTEz\"},\"forks\":1,\"open_issues\":0,\"watchers\":0,\"default_branch\":\"master\"}},\"_links\":{\"self\":{\"href\":\"https://api.github.com/repos/labslibrarypt3/LabsLibraryPT3_BE/pulls/102\"},\"html\":{\"href\":\"https://github.com/labslibrarypt3/LabsLibraryPT3_BE/pull/102\"},\"issue\":{\"href\":\"https://api.github.com/repos/labslibrarypt3/LabsLibraryPT3_BE/issues/102\"},\"comments\":{\"href\":\"https://api.github.com/repos/labslibrarypt3/LabsLibraryPT3_BE/issues/102/comments\"},\"review_comments\":{\"href\":\"https://api.github.com/repos/labslibrarypt3/LabsLibraryPT3_BE/pulls/102/comments\"},\"review_comment\":{\"href\":\"https://api.github.com/repos/labslibrarypt3/LabsLibraryPT3_BE/pulls/comments{/number}\"},\"commits\":{\"href\":\"https://api.github.com/repos/labslibrarypt3/LabsLibraryPT3_BE/pulls/102/commits\"},\"statuses\":{\"href\":\"https://api.github.com/repos/labslibrarypt3/LabsLibraryPT3_BE/statuses/b60b3f559c1796e92d9dde5763a31d159dddc94a\"}},\"author_association\":\"COLLABORATOR\",\"merged\":true,\"mergeable\":null,\"rebaseable\":null,\"mergeable_state\":\"unknown\",\"merged_by\":{\"login\":\"ThomasUtsey\",\"id\":42781255,\"node_id\":\"MDQ6VXNlcjQyNzgxMjU1\",\"avatar_url\":\"https://avatars3.githubusercontent.com/u/42781255?v=4\",\"gravatar_id\":\"\",\"url\":\"https://api.github.com/users/ThomasUtsey\",\"html_url\":\"https://github.com/ThomasUtsey\",\"followers_url\":\"https://api.github.com/users/ThomasUtsey/followers\",\"following_url\":\"https://api.github.com/users/ThomasUtsey/following{/other_user}\",\"gists_url\":\"https://api.github.com/users/ThomasUtsey/gists{/gist_id}\",\"starred_url\":\"https://api.github.com/users/ThomasUtsey/starred{/owner}{/repo}\",\"subscriptions_url\":\"https://api.github.com/users/ThomasUtsey/subscriptions\",\"organizations_url\":\"https://api.github.com/users/ThomasUtsey/orgs\",\"repos_url\":\"https://api.github.com/users/ThomasUtsey/repos\",\"events_url\":\"https://api.github.com/users/ThomasUtsey/events{/privacy}\",\"received_events_url\":\"https://api.github.com/users/ThomasUtsey/received_events\",\"type\":\"User\",\"site_admin\":false},\"comments\":0,\"review_comments\":0,\"maintainer_can_modify\":false,\"commits\":5,\"additions\":44,\"deletions\":14,\"changed_files\":6}},\"public\":true,\"created_at\":\"2019-07-25T04:03:38Z\",\"org\":{\"id\":50470163,\"login\":\"labslibrarypt3\",\"gravatar_id\":\"\",\"url\":\"https://api.github.com/orgs/labslibrarypt3\",\"avatar_url\":\"https://avatars.githubusercontent.com/u/50470163?\"}},{\"id\":\"10080042887\",\"type\":\"PushEvent\",\"actor\":{\"id\":19522656,\"login\":\"Crowbrammer\",\"display_login\":\"Crowbrammer\",\"gravatar_id\":\"\",\"url\":\"https://api.github.com/users/Crowbrammer\",\"avatar_url\":\"https://avatars.githubusercontent.com/u/19522656?\"},\"repo\":{\"id\":198747768,\"name\":\"Crowbrammer/ModulePractice\",\"url\":\"https://api.github.com/repos/Crowbrammer/ModulePractice\"},\"payload\":{\"push_id\":3853469040,\"size\":1,\"distinct_size\":1,\"ref\":\"refs/heads/new_feature\",\"head\":\"2dd047f49ddc17acf26cd7d68c3cf234cd6c56a2\",\"before\":\"f05625d58b901b9090cdae2c53d47ea444efec14\",\"commits\":[{\"sha\":\"2dd047f49ddc17acf26cd7d68c3cf234cd6c56a2\",\"author\":{\"email\":\"aaronb@onyxut.com\",\"name\":\"Aaron Bell\"},\"message\":\"Tests completed\",\"distinct\":true,\"url\":\"https://api.github.com/repos/Crowbrammer/ModulePractice/commits/2dd047f49ddc17acf26cd7d68c3cf234cd6c56a2\"}]},\"public\":true,\"created_at\":\"2019-07-25T04:03:38Z\"},{\"id\":\"10080042886\",\"type\":\"PushEvent\",\"actor\":{\"id\":11254896,\"login\":\"Wei18\",\"display_login\":\"Wei18\",\"gravatar_id\":\"\",\"url\":\"https://api.github.com/users/Wei18\",\"avatar_url\":\"https://avatars.githubusercontent.com/u/11254896?\"},\"repo\":{\"id\":198754430,\"name\":\"Wei18/CodeTask\",\"url\":\"https://api.github.com/repos/Wei18/CodeTask\"},\"payload\":{\"push_id\":3853469035,\"size\":1,\"distinct_size\":1,\"ref\":\"refs/heads/master\",\"head\":\"dc2f05001900d91d46f1382cca33cb09f631e78f\",\"before\":\"f94de25a328d552948f2c08b678d2ae217637829\",\"commits\":[{\"sha\":\"dc2f05001900d91d46f1382cca33cb09f631e78f\",\"author\":{\"email\":\"41205mw@gmail.com\",\"name\":\"Wei\"},\"message\":\"Added pods, due to note: This app should run on Simulators without an error.\",\"distinct\":true,\"url\":\"https://api.github.com/repos/Wei18/CodeTask/commits/dc2f05001900d91d46f1382cca33cb09f631e78f\"}]},\"public\":true,\"created_at\":\"2019-07-25T04:03:38Z\"},{\"id\":\"10080042877\",\"type\":\"DeleteEvent\",\"actor\":{\"id\":76639,\"login\":\"ccrisan\",\"display_login\":\"ccrisan\",\"gravatar_id\":\"\",\"url\":\"https://api.github.com/users/ccrisan\",\"avatar_url\":\"https://avatars.githubusercontent.com/u/76639?\"},\"repo\":{\"id\":43636412,\"name\":\"ccrisan/motioneyeos\",\"url\":\"https://api.github.com/repos/ccrisan/motioneyeos\"},\"payload\":{\"ref\":\"nightly-dev\",\"ref_type\":\"tag\",\"pusher_type\":\"user\"},\"public\":true,\"created_at\":\"2019-07-25T04:03:38Z\"},{\"id\":\"10080042879\",\"type\":\"WatchEvent\",\"actor\":{\"id\":11253143,\"login\":\"ShaswatPrabhat\",\"display_login\":\"ShaswatPrabhat\",\"gravatar_id\":\"\",\"url\":\"https://api.github.com/users/ShaswatPrabhat\",\"avatar_url\":\"https://avatars.githubusercontent.com/u/11253143?\"},\"repo\":{\"id\":69193081,\"name\":\"freeCodeCamp/how-to-contribute-to-open-source\",\"url\":\"https://api.github.com/repos/freeCodeCamp/how-to-contribute-to-open-source\"},\"payload\":{\"action\":\"started\"},\"public\":true,\"created_at\":\"2019-07-25T04:03:38Z\",\"org\":{\"id\":9892522,\"login\":\"freeCodeCamp\",\"gravatar_id\":\"\",\"url\":\"https://api.github.com/orgs/freeCodeCamp\",\"avatar_url\":\"https://avatars.githubusercontent.com/u/9892522?\"}}]'"
      ]
     },
     "execution_count": 30,
     "metadata": {},
     "output_type": "execute_result"
    }
   ],
   "source": [
    "r.text"
   ]
  },
  {
   "cell_type": "code",
   "execution_count": 31,
   "metadata": {},
   "outputs": [
    {
     "data": {
      "text/plain": [
       "'utf-8'"
      ]
     },
     "execution_count": 31,
     "metadata": {},
     "output_type": "execute_result"
    }
   ],
   "source": [
    "r.encoding"
   ]
  },
  {
   "cell_type": "code",
   "execution_count": 32,
   "metadata": {},
   "outputs": [],
   "source": [
    "r.encoding = 'ISO-8859-1'"
   ]
  },
  {
   "cell_type": "code",
   "execution_count": 36,
   "metadata": {},
   "outputs": [
    {
     "data": {
      "text/plain": [
       "200"
      ]
     },
     "execution_count": 36,
     "metadata": {},
     "output_type": "execute_result"
    }
   ],
   "source": [
    "r.status_code"
   ]
  },
  {
   "cell_type": "markdown",
   "metadata": {},
   "source": [
    "### Binary Response Content"
   ]
  },
  {
   "cell_type": "code",
   "execution_count": 10,
   "metadata": {},
   "outputs": [
    {
     "data": {
      "text/plain": [
       "b'{\\n  \"args\": {\\n    \"key1\": \"value1\", \\n    \"key2\": [\\n      \"value2\", \\n      \"value3\"\\n    ]\\n  }, \\n  \"headers\": {\\n    \"Accept\": \"*/*\", \\n    \"Accept-Encoding\": \"gzip, deflate\", \\n    \"Host\": \"httpbin.org\", \\n    \"User-Agent\": \"python-requests/2.22.0\"\\n  }, \\n  \"origin\": \"180.167.88.42, 180.167.88.42\", \\n  \"url\": \"https://httpbin.org/get?key1=value1&key2=value2&key2=value3\"\\n}\\n'"
      ]
     },
     "execution_count": 10,
     "metadata": {},
     "output_type": "execute_result"
    }
   ],
   "source": [
    "r.content"
   ]
  },
  {
   "cell_type": "markdown",
   "metadata": {},
   "source": [
    "### JSON Response Content"
   ]
  },
  {
   "cell_type": "code",
   "execution_count": 14,
   "metadata": {},
   "outputs": [
    {
     "data": {
      "text/plain": [
       "{'args': {'key1': 'value1', 'key2': ['value2', 'value3']},\n",
       " 'headers': {'Accept': '*/*',\n",
       "  'Accept-Encoding': 'gzip, deflate',\n",
       "  'Host': 'httpbin.org',\n",
       "  'User-Agent': 'python-requests/2.22.0'},\n",
       " 'origin': '180.167.88.42, 180.167.88.42',\n",
       " 'url': 'https://httpbin.org/get?key1=value1&key2=value2&key2=value3'}"
      ]
     },
     "execution_count": 14,
     "metadata": {},
     "output_type": "execute_result"
    }
   ],
   "source": [
    "r.json()"
   ]
  },
  {
   "cell_type": "markdown",
   "metadata": {},
   "source": [
    "### Raw Response Content\n",
    "在极少数情况下，您希望从服务器获得原始套接字响应，您可以访问r.raw。如果希望这样做，请确保在初始请求中设置stream=True。"
   ]
  },
  {
   "cell_type": "code",
   "execution_count": 33,
   "metadata": {},
   "outputs": [],
   "source": [
    "r = requests.get('https://api.github.com/events', stream=True)"
   ]
  },
  {
   "cell_type": "code",
   "execution_count": 34,
   "metadata": {},
   "outputs": [
    {
     "data": {
      "text/plain": [
       "<urllib3.response.HTTPResponse at 0x1079adef0>"
      ]
     },
     "execution_count": 34,
     "metadata": {},
     "output_type": "execute_result"
    }
   ],
   "source": [
    "r.raw"
   ]
  },
  {
   "cell_type": "code",
   "execution_count": 35,
   "metadata": {},
   "outputs": [
    {
     "data": {
      "text/plain": [
       "b'\\x1f\\x8b\\x08\\x00\\x00\\x00\\x00\\x00\\x00\\x03'"
      ]
     },
     "execution_count": 35,
     "metadata": {},
     "output_type": "execute_result"
    }
   ],
   "source": [
    "r.raw.read(10)"
   ]
  },
  {
   "cell_type": "markdown",
   "metadata": {},
   "source": [
    "## POST a Multipart-Encoded File"
   ]
  },
  {
   "cell_type": "code",
   "execution_count": null,
   "metadata": {},
   "outputs": [],
   "source": [
    ">>> url = 'https://httpbin.org/post'\n",
    ">>> files = {'file': open('report.xls', 'rb')}\n",
    "\n",
    ">>> r = requests.post(url, files=files)\n",
    ">>> r.text\n",
    "{\n",
    "  ...\n",
    "  \"files\": {\n",
    "    \"file\": \"<censored...binary...data>\"\n",
    "  },\n",
    "  ...\n",
    "}"
   ]
  },
  {
   "cell_type": "markdown",
   "metadata": {},
   "source": [
    "## Redirection and History"
   ]
  },
  {
   "cell_type": "markdown",
   "metadata": {},
   "source": [
    "By default Requests will perform location redirection for all verbs except HEAD.\n",
    "\n",
    "We can use the history property of the Response object to track redirection.\n",
    "\n",
    "The Response.history list contains the Response objects that were created in order to complete the request. The list is sorted from the oldest to the most recent response."
   ]
  },
  {
   "cell_type": "code",
   "execution_count": 39,
   "metadata": {},
   "outputs": [],
   "source": [
    "r = requests.get('http://github.com/')"
   ]
  },
  {
   "cell_type": "code",
   "execution_count": 40,
   "metadata": {},
   "outputs": [
    {
     "data": {
      "text/plain": [
       "'https://github.com/'"
      ]
     },
     "execution_count": 40,
     "metadata": {},
     "output_type": "execute_result"
    }
   ],
   "source": [
    "r.url"
   ]
  },
  {
   "cell_type": "code",
   "execution_count": 41,
   "metadata": {},
   "outputs": [
    {
     "data": {
      "text/plain": [
       "[<Response [301]>]"
      ]
     },
     "execution_count": 41,
     "metadata": {},
     "output_type": "execute_result"
    }
   ],
   "source": [
    "r.history"
   ]
  },
  {
   "cell_type": "code",
   "execution_count": 42,
   "metadata": {},
   "outputs": [],
   "source": [
    "r = requests.get('http://github.com/', allow_redirects=False)"
   ]
  },
  {
   "cell_type": "code",
   "execution_count": 43,
   "metadata": {},
   "outputs": [
    {
     "data": {
      "text/plain": [
       "301"
      ]
     },
     "execution_count": 43,
     "metadata": {},
     "output_type": "execute_result"
    }
   ],
   "source": [
    "r.status_code"
   ]
  },
  {
   "cell_type": "markdown",
   "metadata": {},
   "source": [
    "## Timeouts"
   ]
  },
  {
   "cell_type": "markdown",
   "metadata": {},
   "source": [
    "You can tell Requests to stop waiting for a response after a given number of seconds with the timeout parameter. Nearly all production code should use this parameter in nearly all requests. Failure to do so can cause your program to hang indefinitely:"
   ]
  },
  {
   "cell_type": "code",
   "execution_count": 44,
   "metadata": {},
   "outputs": [
    {
     "ename": "ConnectTimeout",
     "evalue": "HTTPSConnectionPool(host='github.com', port=443): Max retries exceeded with url: / (Caused by ConnectTimeoutError(<urllib3.connection.VerifiedHTTPSConnection object at 0x1079abe10>, 'Connection to github.com timed out. (connect timeout=0.001)'))",
     "output_type": "error",
     "traceback": [
      "\u001b[0;31m---------------------------------------------------------------------------\u001b[0m",
      "\u001b[0;31mtimeout\u001b[0m                                   Traceback (most recent call last)",
      "\u001b[0;32m~/anaconda3/lib/python3.7/site-packages/urllib3/connection.py\u001b[0m in \u001b[0;36m_new_conn\u001b[0;34m(self)\u001b[0m\n\u001b[1;32m    158\u001b[0m             conn = connection.create_connection(\n\u001b[0;32m--> 159\u001b[0;31m                 (self._dns_host, self.port), self.timeout, **extra_kw)\n\u001b[0m\u001b[1;32m    160\u001b[0m \u001b[0;34m\u001b[0m\u001b[0m\n",
      "\u001b[0;32m~/anaconda3/lib/python3.7/site-packages/urllib3/util/connection.py\u001b[0m in \u001b[0;36mcreate_connection\u001b[0;34m(address, timeout, source_address, socket_options)\u001b[0m\n\u001b[1;32m     79\u001b[0m     \u001b[0;32mif\u001b[0m \u001b[0merr\u001b[0m \u001b[0;32mis\u001b[0m \u001b[0;32mnot\u001b[0m \u001b[0;32mNone\u001b[0m\u001b[0;34m:\u001b[0m\u001b[0;34m\u001b[0m\u001b[0;34m\u001b[0m\u001b[0m\n\u001b[0;32m---> 80\u001b[0;31m         \u001b[0;32mraise\u001b[0m \u001b[0merr\u001b[0m\u001b[0;34m\u001b[0m\u001b[0;34m\u001b[0m\u001b[0m\n\u001b[0m\u001b[1;32m     81\u001b[0m \u001b[0;34m\u001b[0m\u001b[0m\n",
      "\u001b[0;32m~/anaconda3/lib/python3.7/site-packages/urllib3/util/connection.py\u001b[0m in \u001b[0;36mcreate_connection\u001b[0;34m(address, timeout, source_address, socket_options)\u001b[0m\n\u001b[1;32m     69\u001b[0m                 \u001b[0msock\u001b[0m\u001b[0;34m.\u001b[0m\u001b[0mbind\u001b[0m\u001b[0;34m(\u001b[0m\u001b[0msource_address\u001b[0m\u001b[0;34m)\u001b[0m\u001b[0;34m\u001b[0m\u001b[0;34m\u001b[0m\u001b[0m\n\u001b[0;32m---> 70\u001b[0;31m             \u001b[0msock\u001b[0m\u001b[0;34m.\u001b[0m\u001b[0mconnect\u001b[0m\u001b[0;34m(\u001b[0m\u001b[0msa\u001b[0m\u001b[0;34m)\u001b[0m\u001b[0;34m\u001b[0m\u001b[0;34m\u001b[0m\u001b[0m\n\u001b[0m\u001b[1;32m     71\u001b[0m             \u001b[0;32mreturn\u001b[0m \u001b[0msock\u001b[0m\u001b[0;34m\u001b[0m\u001b[0;34m\u001b[0m\u001b[0m\n",
      "\u001b[0;31mtimeout\u001b[0m: timed out",
      "\nDuring handling of the above exception, another exception occurred:\n",
      "\u001b[0;31mConnectTimeoutError\u001b[0m                       Traceback (most recent call last)",
      "\u001b[0;32m~/anaconda3/lib/python3.7/site-packages/urllib3/connectionpool.py\u001b[0m in \u001b[0;36murlopen\u001b[0;34m(self, method, url, body, headers, retries, redirect, assert_same_host, timeout, pool_timeout, release_conn, chunked, body_pos, **response_kw)\u001b[0m\n\u001b[1;32m    599\u001b[0m                                                   \u001b[0mbody\u001b[0m\u001b[0;34m=\u001b[0m\u001b[0mbody\u001b[0m\u001b[0;34m,\u001b[0m \u001b[0mheaders\u001b[0m\u001b[0;34m=\u001b[0m\u001b[0mheaders\u001b[0m\u001b[0;34m,\u001b[0m\u001b[0;34m\u001b[0m\u001b[0;34m\u001b[0m\u001b[0m\n\u001b[0;32m--> 600\u001b[0;31m                                                   chunked=chunked)\n\u001b[0m\u001b[1;32m    601\u001b[0m \u001b[0;34m\u001b[0m\u001b[0m\n",
      "\u001b[0;32m~/anaconda3/lib/python3.7/site-packages/urllib3/connectionpool.py\u001b[0m in \u001b[0;36m_make_request\u001b[0;34m(self, conn, method, url, timeout, chunked, **httplib_request_kw)\u001b[0m\n\u001b[1;32m    342\u001b[0m         \u001b[0;32mtry\u001b[0m\u001b[0;34m:\u001b[0m\u001b[0;34m\u001b[0m\u001b[0;34m\u001b[0m\u001b[0m\n\u001b[0;32m--> 343\u001b[0;31m             \u001b[0mself\u001b[0m\u001b[0;34m.\u001b[0m\u001b[0m_validate_conn\u001b[0m\u001b[0;34m(\u001b[0m\u001b[0mconn\u001b[0m\u001b[0;34m)\u001b[0m\u001b[0;34m\u001b[0m\u001b[0;34m\u001b[0m\u001b[0m\n\u001b[0m\u001b[1;32m    344\u001b[0m         \u001b[0;32mexcept\u001b[0m \u001b[0;34m(\u001b[0m\u001b[0mSocketTimeout\u001b[0m\u001b[0;34m,\u001b[0m \u001b[0mBaseSSLError\u001b[0m\u001b[0;34m)\u001b[0m \u001b[0;32mas\u001b[0m \u001b[0me\u001b[0m\u001b[0;34m:\u001b[0m\u001b[0;34m\u001b[0m\u001b[0;34m\u001b[0m\u001b[0m\n",
      "\u001b[0;32m~/anaconda3/lib/python3.7/site-packages/urllib3/connectionpool.py\u001b[0m in \u001b[0;36m_validate_conn\u001b[0;34m(self, conn)\u001b[0m\n\u001b[1;32m    838\u001b[0m         \u001b[0;32mif\u001b[0m \u001b[0;32mnot\u001b[0m \u001b[0mgetattr\u001b[0m\u001b[0;34m(\u001b[0m\u001b[0mconn\u001b[0m\u001b[0;34m,\u001b[0m \u001b[0;34m'sock'\u001b[0m\u001b[0;34m,\u001b[0m \u001b[0;32mNone\u001b[0m\u001b[0;34m)\u001b[0m\u001b[0;34m:\u001b[0m  \u001b[0;31m# AppEngine might not have  `.sock`\u001b[0m\u001b[0;34m\u001b[0m\u001b[0;34m\u001b[0m\u001b[0m\n\u001b[0;32m--> 839\u001b[0;31m             \u001b[0mconn\u001b[0m\u001b[0;34m.\u001b[0m\u001b[0mconnect\u001b[0m\u001b[0;34m(\u001b[0m\u001b[0;34m)\u001b[0m\u001b[0;34m\u001b[0m\u001b[0;34m\u001b[0m\u001b[0m\n\u001b[0m\u001b[1;32m    840\u001b[0m \u001b[0;34m\u001b[0m\u001b[0m\n",
      "\u001b[0;32m~/anaconda3/lib/python3.7/site-packages/urllib3/connection.py\u001b[0m in \u001b[0;36mconnect\u001b[0;34m(self)\u001b[0m\n\u001b[1;32m    300\u001b[0m         \u001b[0;31m# Add certificate verification\u001b[0m\u001b[0;34m\u001b[0m\u001b[0;34m\u001b[0m\u001b[0;34m\u001b[0m\u001b[0m\n\u001b[0;32m--> 301\u001b[0;31m         \u001b[0mconn\u001b[0m \u001b[0;34m=\u001b[0m \u001b[0mself\u001b[0m\u001b[0;34m.\u001b[0m\u001b[0m_new_conn\u001b[0m\u001b[0;34m(\u001b[0m\u001b[0;34m)\u001b[0m\u001b[0;34m\u001b[0m\u001b[0;34m\u001b[0m\u001b[0m\n\u001b[0m\u001b[1;32m    302\u001b[0m         \u001b[0mhostname\u001b[0m \u001b[0;34m=\u001b[0m \u001b[0mself\u001b[0m\u001b[0;34m.\u001b[0m\u001b[0mhost\u001b[0m\u001b[0;34m\u001b[0m\u001b[0;34m\u001b[0m\u001b[0m\n",
      "\u001b[0;32m~/anaconda3/lib/python3.7/site-packages/urllib3/connection.py\u001b[0m in \u001b[0;36m_new_conn\u001b[0;34m(self)\u001b[0m\n\u001b[1;32m    163\u001b[0m                 \u001b[0mself\u001b[0m\u001b[0;34m,\u001b[0m \u001b[0;34m\"Connection to %s timed out. (connect timeout=%s)\"\u001b[0m \u001b[0;34m%\u001b[0m\u001b[0;34m\u001b[0m\u001b[0;34m\u001b[0m\u001b[0m\n\u001b[0;32m--> 164\u001b[0;31m                 (self.host, self.timeout))\n\u001b[0m\u001b[1;32m    165\u001b[0m \u001b[0;34m\u001b[0m\u001b[0m\n",
      "\u001b[0;31mConnectTimeoutError\u001b[0m: (<urllib3.connection.VerifiedHTTPSConnection object at 0x1079abe10>, 'Connection to github.com timed out. (connect timeout=0.001)')",
      "\nDuring handling of the above exception, another exception occurred:\n",
      "\u001b[0;31mMaxRetryError\u001b[0m                             Traceback (most recent call last)",
      "\u001b[0;32m~/anaconda3/lib/python3.7/site-packages/requests/adapters.py\u001b[0m in \u001b[0;36msend\u001b[0;34m(self, request, stream, timeout, verify, cert, proxies)\u001b[0m\n\u001b[1;32m    448\u001b[0m                     \u001b[0mretries\u001b[0m\u001b[0;34m=\u001b[0m\u001b[0mself\u001b[0m\u001b[0;34m.\u001b[0m\u001b[0mmax_retries\u001b[0m\u001b[0;34m,\u001b[0m\u001b[0;34m\u001b[0m\u001b[0;34m\u001b[0m\u001b[0m\n\u001b[0;32m--> 449\u001b[0;31m                     \u001b[0mtimeout\u001b[0m\u001b[0;34m=\u001b[0m\u001b[0mtimeout\u001b[0m\u001b[0;34m\u001b[0m\u001b[0;34m\u001b[0m\u001b[0m\n\u001b[0m\u001b[1;32m    450\u001b[0m                 )\n",
      "\u001b[0;32m~/anaconda3/lib/python3.7/site-packages/urllib3/connectionpool.py\u001b[0m in \u001b[0;36murlopen\u001b[0;34m(self, method, url, body, headers, retries, redirect, assert_same_host, timeout, pool_timeout, release_conn, chunked, body_pos, **response_kw)\u001b[0m\n\u001b[1;32m    637\u001b[0m             retries = retries.increment(method, url, error=e, _pool=self,\n\u001b[0;32m--> 638\u001b[0;31m                                         _stacktrace=sys.exc_info()[2])\n\u001b[0m\u001b[1;32m    639\u001b[0m             \u001b[0mretries\u001b[0m\u001b[0;34m.\u001b[0m\u001b[0msleep\u001b[0m\u001b[0;34m(\u001b[0m\u001b[0;34m)\u001b[0m\u001b[0;34m\u001b[0m\u001b[0;34m\u001b[0m\u001b[0m\n",
      "\u001b[0;32m~/anaconda3/lib/python3.7/site-packages/urllib3/util/retry.py\u001b[0m in \u001b[0;36mincrement\u001b[0;34m(self, method, url, response, error, _pool, _stacktrace)\u001b[0m\n\u001b[1;32m    398\u001b[0m         \u001b[0;32mif\u001b[0m \u001b[0mnew_retry\u001b[0m\u001b[0;34m.\u001b[0m\u001b[0mis_exhausted\u001b[0m\u001b[0;34m(\u001b[0m\u001b[0;34m)\u001b[0m\u001b[0;34m:\u001b[0m\u001b[0;34m\u001b[0m\u001b[0;34m\u001b[0m\u001b[0m\n\u001b[0;32m--> 399\u001b[0;31m             \u001b[0;32mraise\u001b[0m \u001b[0mMaxRetryError\u001b[0m\u001b[0;34m(\u001b[0m\u001b[0m_pool\u001b[0m\u001b[0;34m,\u001b[0m \u001b[0murl\u001b[0m\u001b[0;34m,\u001b[0m \u001b[0merror\u001b[0m \u001b[0;32mor\u001b[0m \u001b[0mResponseError\u001b[0m\u001b[0;34m(\u001b[0m\u001b[0mcause\u001b[0m\u001b[0;34m)\u001b[0m\u001b[0;34m)\u001b[0m\u001b[0;34m\u001b[0m\u001b[0;34m\u001b[0m\u001b[0m\n\u001b[0m\u001b[1;32m    400\u001b[0m \u001b[0;34m\u001b[0m\u001b[0m\n",
      "\u001b[0;31mMaxRetryError\u001b[0m: HTTPSConnectionPool(host='github.com', port=443): Max retries exceeded with url: / (Caused by ConnectTimeoutError(<urllib3.connection.VerifiedHTTPSConnection object at 0x1079abe10>, 'Connection to github.com timed out. (connect timeout=0.001)'))",
      "\nDuring handling of the above exception, another exception occurred:\n",
      "\u001b[0;31mConnectTimeout\u001b[0m                            Traceback (most recent call last)",
      "\u001b[0;32m<ipython-input-44-ca3d38ff1f1d>\u001b[0m in \u001b[0;36m<module>\u001b[0;34m\u001b[0m\n\u001b[0;32m----> 1\u001b[0;31m \u001b[0mrequests\u001b[0m\u001b[0;34m.\u001b[0m\u001b[0mget\u001b[0m\u001b[0;34m(\u001b[0m\u001b[0;34m'https://github.com/'\u001b[0m\u001b[0;34m,\u001b[0m \u001b[0mtimeout\u001b[0m\u001b[0;34m=\u001b[0m\u001b[0;36m0.001\u001b[0m\u001b[0;34m)\u001b[0m\u001b[0;34m\u001b[0m\u001b[0;34m\u001b[0m\u001b[0m\n\u001b[0m",
      "\u001b[0;32m~/anaconda3/lib/python3.7/site-packages/requests/api.py\u001b[0m in \u001b[0;36mget\u001b[0;34m(url, params, **kwargs)\u001b[0m\n\u001b[1;32m     73\u001b[0m \u001b[0;34m\u001b[0m\u001b[0m\n\u001b[1;32m     74\u001b[0m     \u001b[0mkwargs\u001b[0m\u001b[0;34m.\u001b[0m\u001b[0msetdefault\u001b[0m\u001b[0;34m(\u001b[0m\u001b[0;34m'allow_redirects'\u001b[0m\u001b[0;34m,\u001b[0m \u001b[0;32mTrue\u001b[0m\u001b[0;34m)\u001b[0m\u001b[0;34m\u001b[0m\u001b[0;34m\u001b[0m\u001b[0m\n\u001b[0;32m---> 75\u001b[0;31m     \u001b[0;32mreturn\u001b[0m \u001b[0mrequest\u001b[0m\u001b[0;34m(\u001b[0m\u001b[0;34m'get'\u001b[0m\u001b[0;34m,\u001b[0m \u001b[0murl\u001b[0m\u001b[0;34m,\u001b[0m \u001b[0mparams\u001b[0m\u001b[0;34m=\u001b[0m\u001b[0mparams\u001b[0m\u001b[0;34m,\u001b[0m \u001b[0;34m**\u001b[0m\u001b[0mkwargs\u001b[0m\u001b[0;34m)\u001b[0m\u001b[0;34m\u001b[0m\u001b[0;34m\u001b[0m\u001b[0m\n\u001b[0m\u001b[1;32m     76\u001b[0m \u001b[0;34m\u001b[0m\u001b[0m\n\u001b[1;32m     77\u001b[0m \u001b[0;34m\u001b[0m\u001b[0m\n",
      "\u001b[0;32m~/anaconda3/lib/python3.7/site-packages/requests/api.py\u001b[0m in \u001b[0;36mrequest\u001b[0;34m(method, url, **kwargs)\u001b[0m\n\u001b[1;32m     58\u001b[0m     \u001b[0;31m# cases, and look like a memory leak in others.\u001b[0m\u001b[0;34m\u001b[0m\u001b[0;34m\u001b[0m\u001b[0;34m\u001b[0m\u001b[0m\n\u001b[1;32m     59\u001b[0m     \u001b[0;32mwith\u001b[0m \u001b[0msessions\u001b[0m\u001b[0;34m.\u001b[0m\u001b[0mSession\u001b[0m\u001b[0;34m(\u001b[0m\u001b[0;34m)\u001b[0m \u001b[0;32mas\u001b[0m \u001b[0msession\u001b[0m\u001b[0;34m:\u001b[0m\u001b[0;34m\u001b[0m\u001b[0;34m\u001b[0m\u001b[0m\n\u001b[0;32m---> 60\u001b[0;31m         \u001b[0;32mreturn\u001b[0m \u001b[0msession\u001b[0m\u001b[0;34m.\u001b[0m\u001b[0mrequest\u001b[0m\u001b[0;34m(\u001b[0m\u001b[0mmethod\u001b[0m\u001b[0;34m=\u001b[0m\u001b[0mmethod\u001b[0m\u001b[0;34m,\u001b[0m \u001b[0murl\u001b[0m\u001b[0;34m=\u001b[0m\u001b[0murl\u001b[0m\u001b[0;34m,\u001b[0m \u001b[0;34m**\u001b[0m\u001b[0mkwargs\u001b[0m\u001b[0;34m)\u001b[0m\u001b[0;34m\u001b[0m\u001b[0;34m\u001b[0m\u001b[0m\n\u001b[0m\u001b[1;32m     61\u001b[0m \u001b[0;34m\u001b[0m\u001b[0m\n\u001b[1;32m     62\u001b[0m \u001b[0;34m\u001b[0m\u001b[0m\n",
      "\u001b[0;32m~/anaconda3/lib/python3.7/site-packages/requests/sessions.py\u001b[0m in \u001b[0;36mrequest\u001b[0;34m(self, method, url, params, data, headers, cookies, files, auth, timeout, allow_redirects, proxies, hooks, stream, verify, cert, json)\u001b[0m\n\u001b[1;32m    531\u001b[0m         }\n\u001b[1;32m    532\u001b[0m         \u001b[0msend_kwargs\u001b[0m\u001b[0;34m.\u001b[0m\u001b[0mupdate\u001b[0m\u001b[0;34m(\u001b[0m\u001b[0msettings\u001b[0m\u001b[0;34m)\u001b[0m\u001b[0;34m\u001b[0m\u001b[0;34m\u001b[0m\u001b[0m\n\u001b[0;32m--> 533\u001b[0;31m         \u001b[0mresp\u001b[0m \u001b[0;34m=\u001b[0m \u001b[0mself\u001b[0m\u001b[0;34m.\u001b[0m\u001b[0msend\u001b[0m\u001b[0;34m(\u001b[0m\u001b[0mprep\u001b[0m\u001b[0;34m,\u001b[0m \u001b[0;34m**\u001b[0m\u001b[0msend_kwargs\u001b[0m\u001b[0;34m)\u001b[0m\u001b[0;34m\u001b[0m\u001b[0;34m\u001b[0m\u001b[0m\n\u001b[0m\u001b[1;32m    534\u001b[0m \u001b[0;34m\u001b[0m\u001b[0m\n\u001b[1;32m    535\u001b[0m         \u001b[0;32mreturn\u001b[0m \u001b[0mresp\u001b[0m\u001b[0;34m\u001b[0m\u001b[0;34m\u001b[0m\u001b[0m\n",
      "\u001b[0;32m~/anaconda3/lib/python3.7/site-packages/requests/sessions.py\u001b[0m in \u001b[0;36msend\u001b[0;34m(self, request, **kwargs)\u001b[0m\n\u001b[1;32m    644\u001b[0m \u001b[0;34m\u001b[0m\u001b[0m\n\u001b[1;32m    645\u001b[0m         \u001b[0;31m# Send the request\u001b[0m\u001b[0;34m\u001b[0m\u001b[0;34m\u001b[0m\u001b[0;34m\u001b[0m\u001b[0m\n\u001b[0;32m--> 646\u001b[0;31m         \u001b[0mr\u001b[0m \u001b[0;34m=\u001b[0m \u001b[0madapter\u001b[0m\u001b[0;34m.\u001b[0m\u001b[0msend\u001b[0m\u001b[0;34m(\u001b[0m\u001b[0mrequest\u001b[0m\u001b[0;34m,\u001b[0m \u001b[0;34m**\u001b[0m\u001b[0mkwargs\u001b[0m\u001b[0;34m)\u001b[0m\u001b[0;34m\u001b[0m\u001b[0;34m\u001b[0m\u001b[0m\n\u001b[0m\u001b[1;32m    647\u001b[0m \u001b[0;34m\u001b[0m\u001b[0m\n\u001b[1;32m    648\u001b[0m         \u001b[0;31m# Total elapsed time of the request (approximately)\u001b[0m\u001b[0;34m\u001b[0m\u001b[0;34m\u001b[0m\u001b[0;34m\u001b[0m\u001b[0m\n",
      "\u001b[0;32m~/anaconda3/lib/python3.7/site-packages/requests/adapters.py\u001b[0m in \u001b[0;36msend\u001b[0;34m(self, request, stream, timeout, verify, cert, proxies)\u001b[0m\n\u001b[1;32m    502\u001b[0m                 \u001b[0;31m# TODO: Remove this in 3.0.0: see #2811\u001b[0m\u001b[0;34m\u001b[0m\u001b[0;34m\u001b[0m\u001b[0;34m\u001b[0m\u001b[0m\n\u001b[1;32m    503\u001b[0m                 \u001b[0;32mif\u001b[0m \u001b[0;32mnot\u001b[0m \u001b[0misinstance\u001b[0m\u001b[0;34m(\u001b[0m\u001b[0me\u001b[0m\u001b[0;34m.\u001b[0m\u001b[0mreason\u001b[0m\u001b[0;34m,\u001b[0m \u001b[0mNewConnectionError\u001b[0m\u001b[0;34m)\u001b[0m\u001b[0;34m:\u001b[0m\u001b[0;34m\u001b[0m\u001b[0;34m\u001b[0m\u001b[0m\n\u001b[0;32m--> 504\u001b[0;31m                     \u001b[0;32mraise\u001b[0m \u001b[0mConnectTimeout\u001b[0m\u001b[0;34m(\u001b[0m\u001b[0me\u001b[0m\u001b[0;34m,\u001b[0m \u001b[0mrequest\u001b[0m\u001b[0;34m=\u001b[0m\u001b[0mrequest\u001b[0m\u001b[0;34m)\u001b[0m\u001b[0;34m\u001b[0m\u001b[0;34m\u001b[0m\u001b[0m\n\u001b[0m\u001b[1;32m    505\u001b[0m \u001b[0;34m\u001b[0m\u001b[0m\n\u001b[1;32m    506\u001b[0m             \u001b[0;32mif\u001b[0m \u001b[0misinstance\u001b[0m\u001b[0;34m(\u001b[0m\u001b[0me\u001b[0m\u001b[0;34m.\u001b[0m\u001b[0mreason\u001b[0m\u001b[0;34m,\u001b[0m \u001b[0mResponseError\u001b[0m\u001b[0;34m)\u001b[0m\u001b[0;34m:\u001b[0m\u001b[0;34m\u001b[0m\u001b[0;34m\u001b[0m\u001b[0m\n",
      "\u001b[0;31mConnectTimeout\u001b[0m: HTTPSConnectionPool(host='github.com', port=443): Max retries exceeded with url: / (Caused by ConnectTimeoutError(<urllib3.connection.VerifiedHTTPSConnection object at 0x1079abe10>, 'Connection to github.com timed out. (connect timeout=0.001)'))"
     ]
    }
   ],
   "source": [
    "requests.get('https://github.com/', timeout=0.001)"
   ]
  },
  {
   "cell_type": "markdown",
   "metadata": {},
   "source": [
    "## post"
   ]
  },
  {
   "cell_type": "markdown",
   "metadata": {},
   "source": [
    "### Custom Headers"
   ]
  },
  {
   "cell_type": "code",
   "execution_count": 7,
   "metadata": {},
   "outputs": [],
   "source": [
    "headers = {\n",
    "    'user-agent': 'Mozilla/5.0 (Windows NT 10.0; WOW64) AppleWebKit/537.36 (KHTML, like Gecko) Chrome/61.0.3163.79 Safari/537.36 Maxthon/5.2.1.6000',\n",
    "    'Content-Type': 'application/json'\n",
    "}"
   ]
  },
  {
   "cell_type": "code",
   "execution_count": 2,
   "metadata": {},
   "outputs": [],
   "source": [
    "data = {\n",
    "  \"createdAtMs\": 1279957897000\n",
    "}"
   ]
  },
  {
   "cell_type": "markdown",
   "metadata": {},
   "source": [
    "### 和Swagger界面进行调试时的post参数传递方式相同！！！"
   ]
  },
  {
   "cell_type": "code",
   "execution_count": 11,
   "metadata": {},
   "outputs": [],
   "source": [
    "r = requests.post('http://rc-dev.leapstack.cn:10318/model/feedback/claim', headers=headers, json=data)"
   ]
  },
  {
   "cell_type": "code",
   "execution_count": 12,
   "metadata": {},
   "outputs": [
    {
     "data": {
      "text/plain": [
       "'{\"code\":\"000000\",\"message\":\"成功\",\"data\":[{\"companyCode\":\"000179\",\"claimId\":\"2019072401001\",\"hit\":0}]}'"
      ]
     },
     "execution_count": 12,
     "metadata": {},
     "output_type": "execute_result"
    }
   ],
   "source": [
    "r.text"
   ]
  },
  {
   "cell_type": "code",
   "execution_count": 15,
   "metadata": {},
   "outputs": [
    {
     "data": {
      "text/plain": [
       "dict"
      ]
     },
     "execution_count": 15,
     "metadata": {},
     "output_type": "execute_result"
    }
   ],
   "source": [
    "type(r.json())"
   ]
  },
  {
   "cell_type": "code",
   "execution_count": 16,
   "metadata": {},
   "outputs": [
    {
     "data": {
      "text/plain": [
       "{'code': '000000',\n",
       " 'message': '成功',\n",
       " 'data': [{'companyCode': '000179', 'claimId': '2019072401001', 'hit': 0}]}"
      ]
     },
     "execution_count": 16,
     "metadata": {},
     "output_type": "execute_result"
    }
   ],
   "source": [
    "r.json()"
   ]
  },
  {
   "cell_type": "markdown",
   "metadata": {},
   "source": [
    "# 爬取天天基金指定基金净值"
   ]
  },
  {
   "cell_type": "code",
   "execution_count": 1,
   "metadata": {},
   "outputs": [],
   "source": [
    "import requests"
   ]
  },
  {
   "cell_type": "code",
   "execution_count": 12,
   "metadata": {},
   "outputs": [],
   "source": [
    "Y='000968 001052 110027 000478 100032 001180 519977 000614 162411 003376 001064'.split()\n",
    "L='000478 100038 100032 100033 340001 004752 001064 502010 001469  161017 001180 000614 270048 001051 162411 002903 003765 110027 050027'.split()"
   ]
  },
  {
   "cell_type": "code",
   "execution_count": 13,
   "metadata": {},
   "outputs": [
    {
     "data": {
      "text/plain": [
       "['000968',\n",
       " '001052',\n",
       " '110027',\n",
       " '000478',\n",
       " '100032',\n",
       " '001180',\n",
       " '519977',\n",
       " '000614',\n",
       " '162411',\n",
       " '003376',\n",
       " '001064']"
      ]
     },
     "execution_count": 13,
     "metadata": {},
     "output_type": "execute_result"
    }
   ],
   "source": [
    "Y"
   ]
  },
  {
   "cell_type": "code",
   "execution_count": 20,
   "metadata": {},
   "outputs": [],
   "source": [
    "import json"
   ]
  },
  {
   "cell_type": "code",
   "execution_count": 41,
   "metadata": {},
   "outputs": [
    {
     "name": "stdout",
     "output_type": "stream",
     "text": [
      "Expecting value: line 1 column 1 (char 0)\n",
      "000614 jsonpgz();\n"
     ]
    }
   ],
   "source": [
    "# 制作dict\n",
    "ll = []\n",
    "headers = {\n",
    "    'user-agent': 'Mozilla/5.0 (Windows NT 10.0; WOW64) AppleWebKit/537.36 (KHTML, like Gecko) Chrome/61.0.3163.79 Safari/537.36 Maxthon/5.2.1.6000',\n",
    "}\n",
    "for i in set(Y+L):\n",
    "    try:\n",
    "#         print(i)\n",
    "        if i == '100033': continue\n",
    "        r = requests.get(f'http://fundgz.1234567.com.cn/js/{i}.js', headers=headers)\n",
    "        s = r.text\n",
    "#         print(s)\n",
    "        ll.append(json.loads(s[s.find('{'):(s.find('}')+1)]))\n",
    "    except Exception as e:\n",
    "        print(str(e))\n",
    "        print(i, s)"
   ]
  },
  {
   "cell_type": "code",
   "execution_count": 43,
   "metadata": {},
   "outputs": [],
   "source": [
    "d = dict()\n",
    "\n",
    "for i in ll:\n",
    "    dd = dict()\n",
    "    d[i['name']] = i['fundcode']\n",
    "    dd['trade_date'] = i['jzrq']\n",
    "    dd['close'] = i['dwjz']\n",
    "    "
   ]
  },
  {
   "cell_type": "code",
   "execution_count": 48,
   "metadata": {},
   "outputs": [
    {
     "data": {
      "text/plain": [
       "{'trade_date': '2019-08-26', 'close': '0.7223'}"
      ]
     },
     "execution_count": 48,
     "metadata": {},
     "output_type": "execute_result"
    }
   ],
   "source": [
    "dd"
   ]
  },
  {
   "cell_type": "code",
   "execution_count": 55,
   "metadata": {},
   "outputs": [],
   "source": [
    "from datetime import datetime"
   ]
  },
  {
   "cell_type": "code",
   "execution_count": 59,
   "metadata": {},
   "outputs": [
    {
     "data": {
      "text/plain": [
       "datetime.datetime(2019, 8, 26, 0, 0)"
      ]
     },
     "execution_count": 59,
     "metadata": {},
     "output_type": "execute_result"
    }
   ],
   "source": [
    "datetime.strptime(dd['trade_date'], '%Y-%m-%d')"
   ]
  },
  {
   "cell_type": "code",
   "execution_count": 60,
   "metadata": {},
   "outputs": [
    {
     "data": {
      "text/html": [
       "<div>\n",
       "<style scoped>\n",
       "    .dataframe tbody tr th:only-of-type {\n",
       "        vertical-align: middle;\n",
       "    }\n",
       "\n",
       "    .dataframe tbody tr th {\n",
       "        vertical-align: top;\n",
       "    }\n",
       "\n",
       "    .dataframe thead th {\n",
       "        text-align: right;\n",
       "    }\n",
       "</style>\n",
       "<table border=\"1\" class=\"dataframe\">\n",
       "  <thead>\n",
       "    <tr style=\"text-align: right;\">\n",
       "      <th></th>\n",
       "      <th>trade_date</th>\n",
       "      <th>close</th>\n",
       "    </tr>\n",
       "  </thead>\n",
       "  <tbody>\n",
       "    <tr>\n",
       "      <th>0</th>\n",
       "      <td>2019-08-26</td>\n",
       "      <td>0.7223</td>\n",
       "    </tr>\n",
       "  </tbody>\n",
       "</table>\n",
       "</div>"
      ],
      "text/plain": [
       "   trade_date   close\n",
       "0  2019-08-26  0.7223"
      ]
     },
     "execution_count": 60,
     "metadata": {},
     "output_type": "execute_result"
    }
   ],
   "source": [
    "df = pd.DataFrame(columns=['trade_date', 'close'])\n",
    "\n",
    "df.append(dd, ignore_index=True)"
   ]
  },
  {
   "cell_type": "code",
   "execution_count": 61,
   "metadata": {},
   "outputs": [
    {
     "data": {
      "text/html": [
       "<div>\n",
       "<style scoped>\n",
       "    .dataframe tbody tr th:only-of-type {\n",
       "        vertical-align: middle;\n",
       "    }\n",
       "\n",
       "    .dataframe tbody tr th {\n",
       "        vertical-align: top;\n",
       "    }\n",
       "\n",
       "    .dataframe thead th {\n",
       "        text-align: right;\n",
       "    }\n",
       "</style>\n",
       "<table border=\"1\" class=\"dataframe\">\n",
       "  <thead>\n",
       "    <tr style=\"text-align: right;\">\n",
       "      <th></th>\n",
       "      <th>trade_date</th>\n",
       "      <th>close</th>\n",
       "    </tr>\n",
       "  </thead>\n",
       "  <tbody>\n",
       "  </tbody>\n",
       "</table>\n",
       "</div>"
      ],
      "text/plain": [
       "Empty DataFrame\n",
       "Columns: [trade_date, close]\n",
       "Index: []"
      ]
     },
     "execution_count": 61,
     "metadata": {},
     "output_type": "execute_result"
    }
   ],
   "source": [
    "df"
   ]
  },
  {
   "cell_type": "code",
   "execution_count": 45,
   "metadata": {},
   "outputs": [],
   "source": [
    "import pandas as pd"
   ]
  },
  {
   "cell_type": "code",
   "execution_count": 47,
   "metadata": {},
   "outputs": [],
   "source": [
    "pd.Series(d).to_pickle('fund_otc_series.pkl')"
   ]
  },
  {
   "cell_type": "code",
   "execution_count": 62,
   "metadata": {},
   "outputs": [
    {
     "data": {
      "text/plain": [
       "dict_keys(['易方达证券公司分级', '广发纯债债券A', '兴全可转债混合', '博时信用债纯债债券A', '广发中债7-10年国开债指数A', '华夏中证500ETF联接A', '富国中证红利指数增强', '广发医药卫生联接A', '华夏上证50ETF联接A', '建信中证500指数增强A', '广发养老指数A', '华宝标普油气上游股票', '广发创业板ETF联接A', '长信可转债债券A', '易方达安心回报债券A', '广发中证500ETF联接C', '广发中证全指金融地产联接A', '富国中证500指数(LOF)', '广发中证环保ETF联接A', '富国沪深300指数增强', '广发中证传媒ETF联接A'])"
      ]
     },
     "execution_count": 62,
     "metadata": {},
     "output_type": "execute_result"
    }
   ],
   "source": [
    "d.keys()"
   ]
  },
  {
   "cell_type": "code",
   "execution_count": 44,
   "metadata": {},
   "outputs": [
    {
     "data": {
      "text/plain": [
       "{'易方达证券公司分级': '502010',\n",
       " '广发纯债债券A': '270048',\n",
       " '兴全可转债混合': '340001',\n",
       " '博时信用债纯债债券A': '050027',\n",
       " '广发中债7-10年国开债指数A': '003376',\n",
       " '华夏中证500ETF联接A': '001052',\n",
       " '富国中证红利指数增强': '100032',\n",
       " '广发医药卫生联接A': '001180',\n",
       " '华夏上证50ETF联接A': '001051',\n",
       " '建信中证500指数增强A': '000478',\n",
       " '广发养老指数A': '000968',\n",
       " '华宝标普油气上游股票': '162411',\n",
       " '广发创业板ETF联接A': '003765',\n",
       " '长信可转债债券A': '519977',\n",
       " '易方达安心回报债券A': '110027',\n",
       " '广发中证500ETF联接C': '002903',\n",
       " '广发中证全指金融地产联接A': '001469',\n",
       " '富国中证500指数(LOF)': '161017',\n",
       " '广发中证环保ETF联接A': '001064',\n",
       " '富国沪深300指数增强': '100038',\n",
       " '广发中证传媒ETF联接A': '004752'}"
      ]
     },
     "execution_count": 44,
     "metadata": {},
     "output_type": "execute_result"
    }
   ],
   "source": [
    "d"
   ]
  },
  {
   "cell_type": "code",
   "execution_count": 101,
   "metadata": {},
   "outputs": [
    {
     "data": {
      "text/plain": [
       "'jsonpgz();'"
      ]
     },
     "execution_count": 101,
     "metadata": {},
     "output_type": "execute_result"
    }
   ],
   "source": [
    "r = requests.get('http://fundgz.1234567.com.cn/js/000614.js')\n",
    "\n",
    "r.text"
   ]
  },
  {
   "cell_type": "code",
   "execution_count": 42,
   "metadata": {},
   "outputs": [
    {
     "data": {
      "text/plain": [
       "'jsonpgz({\"fundcode\":\"100032\",\"name\":\"富国中证红利指数增强\",\"jzrq\":\"2019-08-26\",\"dwjz\":\"1.0870\",\"gsz\":\"1.0991\",\"gszzl\":\"1.11\",\"gztime\":\"2019-08-27 14:05\"});'"
      ]
     },
     "execution_count": 42,
     "metadata": {},
     "output_type": "execute_result"
    }
   ],
   "source": [
    "r = requests.get('http://fundgz.1234567.com.cn/js/100032.js')\n",
    "\n",
    "r.text"
   ]
  },
  {
   "cell_type": "code",
   "execution_count": 11,
   "metadata": {},
   "outputs": [
    {
     "data": {
      "text/plain": [
       "'jsonpgz({\"fundcode\":\"004752\",\"name\":\"广发中证传媒ETF联接A\",\"jzrq\":\"2019-08-26\",\"dwjz\":\"0.7223\",\"gsz\":\"0.7390\",\"gszzl\":\"2.32\",\"gztime\":\"2019-08-27 13:11\"});'"
      ]
     },
     "execution_count": 11,
     "metadata": {},
     "output_type": "execute_result"
    }
   ],
   "source": [
    "r = requests.get('http://fundgz.1234567.com.cn/js/004752.js')\n",
    "\n",
    "r.text"
   ]
  },
  {
   "cell_type": "code",
   "execution_count": 14,
   "metadata": {},
   "outputs": [],
   "source": [
    "s = r.text"
   ]
  },
  {
   "cell_type": "code",
   "execution_count": 22,
   "metadata": {},
   "outputs": [
    {
     "data": {
      "text/plain": [
       "'{\"fundcode\":\"004752\",\"name\":\"广发中证传媒ETF联接A\",\"jzrq\":\"2019-08-26\",\"dwjz\":\"0.7223\",\"gsz\":\"0.7390\",\"gszzl\":\"2.32\",\"gztime\":\"2019-08-27 13:11\"}'"
      ]
     },
     "execution_count": 22,
     "metadata": {},
     "output_type": "execute_result"
    }
   ],
   "source": [
    "s[s.find('{'):(s.find('}')+1)]"
   ]
  },
  {
   "cell_type": "code",
   "execution_count": 19,
   "metadata": {},
   "outputs": [
    {
     "data": {
      "text/plain": [
       "');'"
      ]
     },
     "execution_count": 19,
     "metadata": {},
     "output_type": "execute_result"
    }
   ],
   "source": [
    "s[(s.find('}')+1):]"
   ]
  },
  {
   "cell_type": "code",
   "execution_count": 23,
   "metadata": {},
   "outputs": [
    {
     "data": {
      "text/plain": [
       "{'fundcode': '004752',\n",
       " 'name': '广发中证传媒ETF联接A',\n",
       " 'jzrq': '2019-08-26',\n",
       " 'dwjz': '0.7223',\n",
       " 'gsz': '0.7390',\n",
       " 'gszzl': '2.32',\n",
       " 'gztime': '2019-08-27 13:11'}"
      ]
     },
     "execution_count": 23,
     "metadata": {},
     "output_type": "execute_result"
    }
   ],
   "source": [
    "json.loads(s[s.find('{'):(s.find('}')+1)])"
   ]
  },
  {
   "cell_type": "code",
   "execution_count": 27,
   "metadata": {},
   "outputs": [],
   "source": [
    "from time import time"
   ]
  },
  {
   "cell_type": "code",
   "execution_count": 29,
   "metadata": {},
   "outputs": [],
   "source": [
    "import time"
   ]
  },
  {
   "cell_type": "code",
   "execution_count": 30,
   "metadata": {},
   "outputs": [],
   "source": [
    "import datetime"
   ]
  },
  {
   "cell_type": "code",
   "execution_count": 33,
   "metadata": {},
   "outputs": [],
   "source": [
    "r = requests.get(url)"
   ]
  },
  {
   "cell_type": "code",
   "execution_count": 34,
   "metadata": {},
   "outputs": [
    {
     "data": {
      "text/plain": [
       "'jQuery18304503428367324065_1566884690626({\"Data\":\"\",\"ErrCode\":-999,\"ErrMsg\":\"\",\"TotalCount\":0,\"Expansion\":null,\"PageSize\":0,\"PageIndex\":0})'"
      ]
     },
     "execution_count": 34,
     "metadata": {},
     "output_type": "execute_result"
    }
   ],
   "source": [
    "r.text"
   ]
  },
  {
   "cell_type": "code",
   "execution_count": 92,
   "metadata": {},
   "outputs": [],
   "source": [
    "r = requests.get('http://fund.eastmoney.com/162411.html')"
   ]
  },
  {
   "cell_type": "code",
   "execution_count": 93,
   "metadata": {},
   "outputs": [],
   "source": [
    "from pyquery import PyQuery as pq"
   ]
  },
  {
   "cell_type": "code",
   "execution_count": 94,
   "metadata": {},
   "outputs": [],
   "source": [
    "r.encoding='utf8'"
   ]
  },
  {
   "cell_type": "code",
   "execution_count": 95,
   "metadata": {},
   "outputs": [
    {
     "data": {
      "text/plain": [
       "'\\ufeff<!DOCTYPE html><!--[if lt IE 7]>  <html class=\"lt-ie9 lt-ie8 lt-ie7\"> <![endif]--><!--[if IE 7]> <html class=\"lt-ie9 lt-ie8\"> <![endif]--><!--[if IE 8]> <html class=\"lt-ie9\"> <![endif]--><!--[if gt IE 8]><!--><html><!--published at 2019-08-27 19:39:47--><!--<![endif]--><head><meta charset=\"utf-8\"><meta http-equiv=\"X-UA-Compatible\" content=\"IE=edge,IE=7,chrome=1\"><meta name=\"mobile-agent\" content=\"format=html5; url=https://m.1234567.com.cn/?page=jjxq&code=162411\"><title>华宝标普油气上游股票(162411)基金净值_估值_行情走势—天天基金网</title><meta http-equiv=\"Cache-Control\" content=\"no-cache\" /><meta http-equiv=\"Expires\" content=\"-1\" /><meta http-equiv=\"refresh\" content=\"1200\" /><meta name=\"viewport\" content=\"width=device-width, initial-scale=1\"><meta name=\"keywords\" content=\"华宝标普油气上游股票,162411,华宝标普油气上游股票净值,华宝标普油气上游股票估值\" /><meta name=\"description\" content=\"天天基金提供华宝标普油气上游股票(162411)的净值，实时估值，让您及时掌握华宝标普油气上游股票(162411)的行情走势。\" /><meta name=\"viewport\" content=\"width=1024\" /><base target=\"_blank\" /><link rel=\"canonical\" href=\"http://fund.eastmoney.com/162411.html\" /><link rel=\"stylesheet\" href=\"http://fund.eastmoney.com/css/fundsearch/style-tooltip.css\"><link rel=\"stylesheet\" href=\"http://j5.dfcfw.com/css/pinzhong/base_min_20181010151724.css\"><link rel=\"stylesheet\" href=\"http://j5.dfcfw.com/css/pinzhong/iehack_min_20161008165951.css?v=2016\"><link rel=\"stylesheet\" href=\"http://j5.dfcfw.com/css/pinzhong/adright_min_20170307155149.css\"><link rel=\"stylesheet\" href=\"http://fund.eastmoney.com/webcommon/css/fundCommonSecondMenu.min.css\"><style type=\"text/css\">.merchandiseDetail .fundDetail-main .fundInfoItem {overflow: hidden;max-height: 238px;}</style><style>.referAd{background:url(\\'https://topicimg.1234567.com.cn/product/2018/11/23/13f88ae5-4e29-42f1-aee8-a1880d3d59bc.png\\')}</style></head><body><div id=\"body\" class=\"body\"><!-- 计算器弹窗 start --><div class=\"ui-layer calculator-layer\" id=\"calculator-layer\" style=\"display: none;\"><div class=\"ui-layer-con calculator-con\"><div class=\"calculator-header\"><div class=\"calculator-title\">收益测算器</div><a class=\"calculator-close\" id=\"calculator-close\" target=\"_self\" href=\"javascript:;\"></a></div><div class=\"calculator-main\"><div class=\"fundCurWrap\"><div class=\"fundCurItem\"><span class=\"funCur-Tit\">基金名称：</span><span class=\"funCur-FundName\">华宝标普油气上游股票</span></div><div class=\"funCur-form\"><span class=\"funCur-Tit\">申购金额</span><div class=\"funCur-inputWrap\"><input class=\"funCur-Money\" id=\"funCur-Money\" type=\"text\" data-placeholder=\"输入申购金额\" placeholder=\"输入申购金额\" /><span class=\"flat-yuan\">元</span></div><div class=\"MoneyInChinese\">壹仟壹佰贰拾万   </div></div><div class=\"fundCurItem\"><p class=\"detailTit\">根据您的申购金额和基金过往业绩，收益测算如下：</p><table class=\"fundCurTab\" width=\"100%\" border=\"0\" cellspacing=\"0\" cellpadding=\"0\"><tr><td class=\"detailTit-tit\">近1年收益</td><td class=\"result-money noresult\" id=\"ca_syl_1n\">-- 元</td></tr><tr><td class=\"detailTit-tit\">近6月收益</td><td class=\"result-money noresult\" id=\"ca_syl_6y\">-- 元</td></tr><tr><td class=\"detailTit-tit\">近3月收益</td><td class=\"result-money noresult\" id=\"ca_syl_3y\">-- 元</td></tr><tr><td class=\"detailTit-tit\">近1月收益</td><td class=\"result-money hasresult\" id=\"ca_syl_1y\">728,600.00</td></tr></table></div><div class=\"calculator-tips\"><p class=\"Cur-tips\"><span class=\"ui-blod\">风险提示：</span><span>收益测算仅供参考,过往业绩不预示未来表现。</span></p></div></div></div></div></div><!-- 计算器弹窗 end --><!-- 头部fixed start --><!-- 头部fixed start --><div id=\"fixedTop\" style=\"display: none;\" data-plugin=\"searchBox\" data-target=\"#search-tooltip02\"><div class=\"fixedBuy\" id=\"fixedBuy\"><div class=\"instantBuy\"><span class=\"fix_left\"><span><input type=\"text\" data-searchbox=\"input\" data-placeholder=\"请输入基金代码、名称或简拼\" placeholder=\"请输入基金代码、名称或简拼\" id=\"fix_search\" autocomplete=\"off\"><button class=\"search-submit fix_searchb_b\" data-searchbox=\"submit\" type=\"submit\"></button></span><span class=\"fix_fname\">华宝标普油气上游股票</span><span class=\"fix_fcode\">162411</span><span class=\"fix_jzinfo\"><a href=\"http://fundf10.eastmoney.com/jjjz_162411.html\" >单位净值</a></span><span class=\"fix_date\">(08-26)：</span><span class=\"fix_dwjz  bold ui-color-red\">0.3780</span><span>(</span><span class=\"fix_zzl  bold ui-color-red\">0.53%</span><span>)</span></span><span class=\"fix_right\"><a  class=\"fix_buy\" href=\"https://trade.1234567.com.cn/FundtradePage/default2.aspx?fc=162411&spm=pzm\" target=\"_blank\" >购买</a><a class=\"fix_dt\" href=\"https://trade.1234567.com.cn/Investment/add.aspx?fc=162411&spm=pzm\" >定投</a><a href=\"https://register.1234567.com.cn/reg/step1?spm=pzm\" class=\"fix_kf\">免费开户</a></span></div><iframe style=\"position: absolute; top: 0px; left: 0px; display: block; width: 996px; height: 37px; z-index: -1;\"></iframe><div class=\"intro_newbg\"></div><div class=\"search-tooltip\" id=\"search-tooltip02\"></div>   </div></div><!-- 头部fixed start --><!-- 头部fixed start --><!--在线客服开始--><div id=\"cfybox\" style=\"_margin-left: 0px; display: block;\"><div class=\"cfy\" id=\"cfy\" style=\"width: 36px;\"><div class=\"cfy_warp\"><div id=\"cfy_side\" class=\"cfy_sider\" style=\"display: block;\"></div><div style=\"position: relative; z-index: 20;\" id=\"cfy_main\" class=\"cfy_main\"><a href=\"http://feedback.1234567.com.cn/Order.aspx\" id=\"cfy_order\" class=\"cfy_order\">预约开户</a></div><iframe frameborder=\"0\" style=\"position: relative; display: none; z-index: 1; left: 10px; height: 230px; width: 130px; top: -232px;\" id=\"ie_hack_mask\"></iframe></div></div></div><!--在线客服结束--><!-- 顶部(设为首页\\\\加入收藏\\\\登陆..\\\\网站导航) start --><div class=\"wrapper F_header\"><div class=\"wrapper_min\"><link href=\"//j5.dfcfw.com/css/pinzhong/webconmmon_min_20190415152931.css\" rel=\"stylesheet\" /><div id=\"fund_common_header\" class=\"fund-common-header\" ><div class=\"ui-clear header-nav\"><div class=\"ui-left\"><ul><li class=\"head-item\"><a href=\"javascript:void(0);\" target=\"_self\" id=\"addFavor\">收藏本站</a></li><li class=\" head-item login\" id=\"loginTTJJ\"><span class=\"blank blankL\">|</span><a id=\"link_login\" href=\"https://login.1234567.com.cn/login\" target=\"_blank\" class=\" header-icon \">安全登录</a><span class=\"blank blankR blankZ\">|</span></li><li class=\"head-item ui-hide\" id=\"logoutTTJJ\"><span class=\"blank blankL\">|</span><span class=\" p8 CustomerName\"></span><a href=\"javascript:void(0);\" target=\"_self\" class=\" header-icon pl20\" id=\"logout\"><span class=\"icon close-icon\"></span>安全退出</a></li><li class=\"head-item js-logout-show\"><a href=\"https://register.1234567.com.cn/reg/step1\" target=\"_blank\">免费开户</a></li><li class=\"head-item js-logout-show\"><a href=\"https://register.1234567.com.cn/forgetpwd\" target=\"_blank\">忘记密码</a></li><li class=\"head-item dropdown\"><span class=\"blank blankL\">|</span><a href=\"http://fundact.eastmoney.com/app/\" class=\"a_phone\" id=\"a_phone\">手机客户端</a><div id=\"float_phone\" class=\"float_phone dropdown-menu\"><a href=\"http://js1.eastmoney.com/tg.aspx?ID=2771\" class=\"btn btn_iphone\">&nbsp;</a><a href=\"http://js1.eastmoney.com/tg.aspx?ID=2772\" class=\"btn btn_android\">&nbsp;</a></div></li></ul></div><div class=\"ui-right\"><ul class=\"headRight\"><li class=\"head-item\"><a href=\"http://www.1234567.com.cn/\" class=\"header-icon pl20\"><span class=\"icon eastmoney-icon\"></span>返回天天基金网</a></li><li class=\"dropdown  head-item droplist\"><span class=\"blank blankL\">|</span><a href=\"https://trade.1234567.com.cn/\" class=\"red header-icon pr20\">基金交易<span class=\"icon dropdown-icon\"></span></a><span class=\"blank blankR\">|</span><div class=\"dropdown-menu\"><ul><li><a href=\"https://trade.1234567.com.cn/MyAssets/Default\">我的资产</a></li><li><a href=\"https://trade.1234567.com.cn/xjb/index\">活期宝</a></li><li><a href=\"https://trade.1234567.com.cn/dqb/default\">定期宝</a></li><li><a href=\"https://trade.1234567.com.cn/zsb/default\">指数宝</a></li><li><a href=\"http://fund.eastmoney.com/trade/\">买基金</a></li><li><a href=\"https://trade.1234567.com.cn/Investment/default?\">基金定投</a></li><li><a href=\"https://query.1234567.com.cn/Query/Index\">交易查询</a></li></ul></div></li><li class=\"dropdown  head-item droplist\"><a href=\"http://fund.eastmoney.com/daogou/\" class=\" header-icon pr20\">产品导购<span class=\"icon dropdown-icon\"></span></a><span class=\"blank blankR\">|</span><div class=\"dropdown-menu\"><ul><li><a href=\"http://huoqibao.1234567.com.cn/\">活期宝</a></li><li><a href=\"http://dingqibao.1234567.com.cn/\">定期宝</a></li><li><a href=\"http://zhishubao.1234567.com.cn/\">指数宝</a></li><li><a href=\"http://simubao.1234567.com.cn/\">私募宝</a></li><li><a href=\"http://fund.eastmoney.com/trade/default.html\">收益榜</a></li><li><a href=\"http://fundlc.eastmoney.com/\">稳健理财</a></li><li><a href=\"http://fund.eastmoney.com/gaoduan/\">高端理财</a></li><li><a href=\"http://fundzt.eastmoney.com/2016/pcbaoxian/index.html\">保险理财</a></li></ul></div></li><li class=\"head-item\"><a href=\"http://favor.fund.eastmoney.com/\">自选基金</a></li><li class=\"head-item\"><span class=\"blank\">|</span></li><li class=\"head-item\"><a href=\"https://vip.1234567.com.cn/Default\">VIP俱乐部</a></li><li class=\"head-item\"><span class=\"blank\">|</span></li><li class=\"head-item\"><a href=\"http://help.1234567.com.cn/\">帮助中心</a></li><li class=\"dropdown  head-item webMap  \"><span class=\"blank blankL\">|</span><a href=\"javascript:void(0)\" target=\"_self\" class=\" header-icon  pl20 pr20\"><span class=\"list-icon icon\"></span>网站导航<span class=\"dropdown-icon icon\"></span></a><span class=\"blank blankR blankZ\">|</span><div class=\"dropdown-menu\"><table class=\"ui-table\"><thead><tr><th class=\"nowrap\"><h3>热点推荐</h3><div class=\"ui-left\" ><a href=\"http://fundact.eastmoney.com/app/\" class=\"red header-icon\" style=\"_top:8px\" ><span class=\"icon iphone-icon\">&nbsp;</span><span class=\"pbuyfund\">手机买基金</span></a></div></th><th><h3>基金数据</h3></th><th class=\"nowrap\"><h3>基金交易</h3><div class=\"ui-left\"><a href=\"https://login.1234567.com.cn/login\" class=\"red\">登录</a><span class=\"red\">|</span><a href=\"https://register.1234567.com.cn/reg/step1\" class=\"red\">开户</a></div></th><th><h3>服务指南</h3></th></tr></thead><tbody><tr><td><div class=\"content col1\"><a href=\"http://favor.fund.eastmoney.com/\">自选基金</a><a href=\"http://fund.eastmoney.com/Compare/\">基金比较</a><br /><a href=\"http://fundlc.eastmoney.com\">稳健理财</a><a href=\"http://data.eastmoney.com/money/calc/CalcFundSY.html\">收益计算</a><br /><a href=\"http://fund.eastmoney.com/ztjj/#sort:SYL_3Y:rs:WRANK\">主题基金</a><a href=\"http://fund.eastmoney.com/manager/default.html#dt14;mcreturnjson;ftall;pn20;pi1;scabbname;stasc\">基金经理</a><br /><a href=\"http://fund.eastmoney.com/yanbao/\">基金研究</a><a href=\"http://jijinba.eastmoney.com/\">基&nbsp;&nbsp;金&nbsp;&nbsp;吧</a></div></td><td><div class=\"content col2\"><a href=\"http://fund.eastmoney.com/fund.html\">基金净值</a><a href=\"http://fund.eastmoney.com/fundguzhi.html\">净值估算</a><br /><a href=\"http://fund.eastmoney.com/data/fundranking.html\">基金排行</a><a href=\"http://fund.eastmoney.com/dingtou/syph_yndt.html\">定投排行</a><br /><a href=\"http://fund.eastmoney.com/data/fundrating.html\">基金评级</a><a href=\"http://fund.eastmoney.com/data/fundfenhong.html\">基金分红</a><br /><a href=\"http://fund.eastmoney.com/company/default.html\">基金公司</a><a href=\"http://simu.eastmoney.com\">私募基金</a></div></td><td><div class=\"content col3\"><a href=\"http://huoqibao.1234567.com.cn/\">活&nbsp;&nbsp;期&nbsp;&nbsp;宝</a><a href=\"http://dingqibao.1234567.com.cn\">定&nbsp;&nbsp;期&nbsp;&nbsp;宝</a><br /><a href=\"http://zhishubao.1234567.com.cn/\">指&nbsp;&nbsp;数&nbsp;&nbsp;宝</a><a href=\"http://simubao.1234567.com.cn/\">私&nbsp;&nbsp;募&nbsp;&nbsp;宝</a><br /><a href=\"http://fund.eastmoney.com/daogou/\">基金导购</a><a href=\"http://fund.eastmoney.com/trade/default.html\">收益排行</a><br /><a href=\"http://fundlc.eastmoney.com\">稳健理财</a><a href=\"http://fund.eastmoney.com/gaoduan/\">高端理财</a></div></td><td><div class=\"content col4\"><a href=\"http://help.1234567.com.cn/\">帮助中心</a><br /><a href=\"http://help.1234567.com.cn/list_812.html\">机构指南</a><br /><a href=\"http://feedback.1234567.com.cn/\">意见反馈</a><br /><a href=\"http://fundact.eastmoney.com/safety/\">安全保障</a><br /></div></td></tr></tbody></table><span class=\"line line1\"></span><span class=\"line line2\"></span><span class=\"line line3\"></span></div><span class=\"blankW\"></span></li></ul></div></div></div></div></div><!-- 顶部 end --><!--顶部通栏广告1 start--><div class=\"wrapper\"><div class=\"adcommon tlad01\"><div class=\"lazy\" style=\"width: 175px; height: 90px\" data-url=\"http://same.eastmoney.com/s?z=eastmoney&c=1322&op=1\" data-h=\"90\" data-w=\"175\"></div><div class=\"lazy\" style=\"width: 636px; height: 90px; margin: 0 7px;\" data-url=\"http://same.eastmoney.com/s?z=eastmoney&c=1323&op=1\" data-h=\"90\" data-w=\"636\"></div><div class=\"lazy\" style=\"width: 175px; height: 90px\" data-url=\"http://same.eastmoney.com/s?z=eastmoney&c=1321&op=1\" data-h=\"90\" data-w=\"175\"></div></div></div><!--顶部通栏广告1 start--><!-- 标题及基金搜索框 start --><div class=\"wrapper\"><div class=\"wrapper_min\"><div class=\"fund-common-second-menu\"><div class=\"inner\"><a class=\"logo fl\" href=\"http://www.1234567.com.cn/\" title=\"天天基金网\" target=\"_blank\"></a><h1 class=\"fl\"><a class=\"h1\" href=\"http://fund.eastmoney.com/162411.html\" target=\"_blank\" title=\"基金品种\">基金品种</a></h1><div class=\"wrapper_min searchArea fr\"><div class=\"navbar-item funtype-searchArea-search\"><div class=\"searchbar-form search-left\" data-plugin=\"searchBox\" data-target=\"#search-tooltip\"><div class=\"searchbar-select search-left\" data-searchbox=\"select\"><div class=\"select-head\"><p class=\"headContent\" onselectstart=\"return false;\" style=\"-moz-user-select: none;\">基&nbsp;金</p><span class=\"searchBtnIco\"></span></div><div class=\"select-option\"><ul><li class=\"active\" data-select-to=\"fund\">基&nbsp;金</li><li data-select-to=\"fund-manager\">基金经理</li><li class=\"noborder\" data-select-to=\"fund-corp\">基金公司</li></ul></div></div><div class=\"searchbar-input search-left\"><input type=\"text\" id=\"search-input\" data-searchbox=\"input\" autocomplete=\"off\" url=\" \" /><label class=\"em-placehold search-que\" for=\"search-input\" onselectstart=\"return false;\" style=\"-moz-user-select: none;\"><i class=\"\"></i>请输入基金代码、名称或简拼</label><div class=\"search-tooltip\" id=\"search-tooltip\"></div></div><div class=\"searchbar-btn search-left\"><button class=\"search-submit\" data-searchbox=\"submit\" type=\"submit\">搜索</button></div></div></div><div class=\"fl links\"><a class=\"first\" href=\"http://fund.eastmoney.com/allfund.html\" target=\"_blank\">基金代码</a><a href=\"http://fund.eastmoney.com/company/default.html#scomname;dasc\" target=\"_blank\">基金公司</a><a class=\"favorPage\" href=\"javascript:;\" id=\"favorPage\" target=\"_self\"><span class=\"favorPage-star\">★</span>收藏本页</a></div></div></div></div></div></div><!-- 标题及基金搜索框 end --><!-- 头部导航 start --><div class=\"wrapper\"><div class=\"wrapper_min fundtypeNav\"><div class=\"navItem navItem01\"><ul><li><a class=\"ui-blod width50\" href=\"http://fund.eastmoney.com/data/\">基金数据</a><a href=\"http://fund.eastmoney.com/fund.html\">基金净值</a><a href=\"http://fund.eastmoney.com/fundguzhi.html\">净值估算</a><a href=\"http://fund.eastmoney.com/data/fundranking.html\">基金排行</a><a href=\"http://fund.eastmoney.com/dingtou/syph_yndt.html\">定投</a><a href=\"http://fund.eastmoney.com/fjjj.html\">分级</a><a href=\"http://fund.eastmoney.com/data/fundrating.html\">评级</a></li><li><a class=\"width50\" href=\"http://fund.eastmoney.com/company/default.html\">基金公司</a><a href=\"http://fund.eastmoney.com/000001.html\">基金品种</a><a href=\"http://fund.eastmoney.com/XFXJJ_jzrgq12.html\">新发基金</a><a href=\"http://fund.eastmoney.com/Fund_sgzt_bzdm.html\">申购状态</a><a href=\"http://fund.eastmoney.com/data/fundfenhong.html\">分红</a><a href=\"http://fund.eastmoney.com/gonggao\">公告</a><a href=\"http://simu.eastmoney.com/\">私募</a></li></ul></div><span class=\"lineType01\"></span><div class=\"navItem navItem02\"><ul><li><a class=\"ui-blod width50\" href=\"http://favor.fund.eastmoney.com/\">投资工具</a><a href=\"http://favor.fund.eastmoney.com/\">自选基金</a><a href=\"http://fund.eastmoney.com/Compare/\">比较</a></li><li><a class=\"width50\" href=\"http://fund.eastmoney.com/data/fundshaixuan.html\">基金筛选</a><a href=\"http://data.eastmoney.com/money/calc/CalcFundSY.html\">收益计算</a><a href=\"http://fundbook.eastmoney.com/\">账本</a></li></ul></div><span class=\"lineType01\"></span><div class=\"navItem navItem03\"><ul><li><a class=\"ui-blod width50\" href=\"http://roll.eastmoney.com/fund.html\">资讯互动</a><a href=\"http://fund.eastmoney.com/a/cjjyw.html\">要闻</a><a href=\"http://fund.eastmoney.com/a/cjjgd.html\">观点</a><a class=\"tSpace01\" href=\"http://fund.eastmoney.com/a/cjjxx.html\">学校</a><a href=\"http://fund.eastmoney.com/topic/#000\">专题</a></li><li><a class=\"width50\" href=\"http://fund.eastmoney.com/yanbao/\">基金研究</a><a href=\"http://fund.eastmoney.com/a/cjjtzcl.html\">策略</a><a href=\"http://fund.eastmoney.com/a/csmjj.html\">私募</a><a href=\"http://jijinba.eastmoney.com/\">基金吧</a><a class=\"dgx\" href=\"http://js1.eastmoney.com/tg.aspx?ID=5098\">大<span class=\"nav-num-lineheight\">咖</span>秀</a></li></ul></div><span class=\"lineType02 icon ico-shopcar\"><i></i></span><div class=\"navItem navItem04\"><ul><li><a class=\"shopcar width50\" href=\"https://trade.1234567.com.cn/\"><span>基金交易</span></a><a class=\"tSpace01\" href=\"http://huoqibao.1234567.com.cn/\">活期宝</a><a class=\"tSpace01\" href=\"http://dingqibao.1234567.com.cn/\">定期宝</a><a class=\"tSpace01\" href=\"http://zhishubao.1234567.com.cn/\">指数宝</a><a href=\"http://fund.eastmoney.com/gaoduan/\">高端理财</a></li><li><a class=\"width50\" href=\"http://fund.eastmoney.com/tradeindex.html\">基金超市</a><a href=\"http://fund.eastmoney.com/daogou\">基金导购</a><a href=\"http://fundact.eastmoney.com/banner/default.html\">收益排行</a><a href=\"http://fund.eastmoney.com/fundhot8.html\">热销基金</a><a href=\"http://fund.eastmoney.com/topic.html\">优选基金</a></li></ul></div></div></div><!-- 头部导航 end --><!-- 站点路径\\\\全球市场 start --><div class=\"wrapper\"><div class=\"wrapper_min globalMarketAndSitePath\"><!-- <div class=\"SitePath\"><a href=\"http://fund.eastmoney.com/\">天天基金网</a><span class=\"space01\"></span>&gt;<span class=\"space01\"></span><a class=\"gmNow\" href=\"http://fund.eastmoney.com/fund.html\">全部基金</a><span class=\"space01\"></span>&gt;<span class=\"space01\"></span><a href=\"http://fund.eastmoney.com/162411.html\" target=\"_self\">华宝标普油气上游股票</a></div>--><div class=\"globalMarket\"><div class=\"txtScroll-top\"><div data-href=\"http://quote.eastmoney.com/center/global.html#global_3\" class=\"globalMarketTitle\"><span class=\"ico-globalMarket\"></span><span class=\"SitePathWorld\">全球市场</span><span class=\"lineType01\"></span></div><div class=\"bd\" style=\"height: 30px; overflow: hidden;\"><ul class=\"infoList\"><li><p class=\"infoListRow infoListRow_sh\"><a href=\"http://quote.eastmoney.com/zs000001.html\" class=\"t\">上证</a>：</p></li><li><p class=\"infoListRow infoListRow_sz\"><a href=\"http://quote.eastmoney.com/zs399001.html\" class=\"t\">深证<span class=\"mh\">：</span></a></p></li></ul></div><div class=\"hd\"><a href=\"http://quote.eastmoney.com/center/global.html#global_3\" class=\"liveStork-more zs-more\">更多</a></div></div></div></div></div><!-- 站点路径--><div class=\"wrapper\"><div class=\"wrapper_min\"><div class=\"SitePath\"><a href=\"http://fund.eastmoney.com/\">天天基金网</a><span class=\"space01\"></span>&gt;<span class=\"space01\"></span><a class=\"gmNow\" href=\"http://fund.eastmoney.com/fund.html\">全部基金</a><span class=\"space01\"></span>&gt;<span class=\"space01\"></span><a href=\"http://fund.eastmoney.com/162411.html\" target=\"_self\">华宝标普油气上游股票</a><a class=\"infoTips1\"><span>手机访问当前基金品种页</span><div class=\"tipsBubble  tipsQcode\"><span class=\"poptip-arrow poptip-arrow-top\"><i>◆</i></span><img src=\"http://fund.eastmoney.com/images/QRCode/162411.jpg?v=20170320\" /><p>扫一扫二维码</p><p>用手机打开页面</p></div></a></div></div><!-- http://j5.dfcfw.com/image/201610/20161014172932.png--></div><!-- 站点路径end--><!-- 站点路径\\\\全球市场 end --><!-- 顶部单栏广告 start --><!-- AdSame ShowCode: 东方财富网 / 新基金品种 / 基金品种窄通栏 Begin --><div class=\"wrapper\"><div class=\"lazy wrapper_min\" data-url=\"http://same.eastmoney.com/s?z=eastmoney&c=1324&op=1\" data-h=\"60\" data-w=\"1000\"></div></div><!-- AdSame ShowCode: 东方财富网 / 新基金品种 / 基金品种窄通栏 End --><!-- 顶部单栏广告 end --><!-- 最近浏览 start --><div class=\"wrapper\"><div class=\"wrapper_min\"><div class=\"recentBrowse\"></div></div></div><!-- 最近浏览 end --><!--新发基金提示开始--><!--新发基金提示结束--><!--异常涨幅提示开始--><!--异常涨幅提示结束--><!-- head end --><!-- main start --><!-- 当前基金档案\\\\计算\\\\定投\\\\开户 start --><div class=\"wrapper\"><div class=\"wrapper_min\"><div class=\"merchandiseDetail\"><div class=\"fundDetail-header\"><div class=\"fundDetail-tit\"><div style=\"float: left\">华宝标普油气上游股票<span>(</span><span class=\"ui-num\">162411</span></div>)</div><div class=\"fundDetail-tools\"><a class=\"jijinba\" href=\"http://guba.eastmoney.com/list,of162411.html\">基金吧</a><!-- 未自选 start --><a class=\"addSel\" id=\"addSel\" href=\"javascript:;\" target=\"_self\">加自选</a><!-- 未自选 end --><a class=\"addCom\" id=\"addCom\" href=\"javascript:;\" target=\"_self\" onclick=\"common.addCompare()\">加对比</a><a class=\"addDownApp\" href=\"http://fundact.eastmoney.com/app/\">手机版天天基金下载</a></div></div><div class=\"fundDetail-main\"><!-- 档案 start --><div class=\"fundInfoItem\"><!--开放式基金收益率模块--><div class=\"dataOfFund\"><dl class=\"dataItem01\"><dt><p><span><span class=\"sp01\">净值估算</span></span><span id=\"gz_gztime\">(19-08-27 04:00)</span><span class=\"infoTips\"><span class=\"tipsBubble\" style=\"display: none;\">净值估算每个交易日9：30-15：00盘中实时更新（QDII基金为海外交易时段），是按照基金持仓、指数走势和基金过往业绩估算，估算数据并不代表真实净值，仅供参考，请以基金管理人披露净值为准。</span></span></p></dt><dd class=\"dataNums\"><dl class=\"floatleft\"><span class=\"ui-font-large ui-color-red ui-num\" id=\"gz_gsz\">0.3792</span></dl><dl id=\"gz_icon\" class=\"gzup\"></dl><dl class=\"floatleft fundZdf\"><span class=\"ui-font-middle ui-color-red ui-num\" id=\"gz_gszze\">+0.0012</span><span class=\"ui-font-middle ui-color-red ui-num\" id=\"gz_gszzl\">+0.86%</span></dl></dd><dd><span>近1月：</span><span class=\"ui-font-middle ui-color-green ui-num\">-10.00%</span></dd><dd><span>近1年：</span><span class=\"ui-font-middle ui-color-green ui-num\">-46.98%</span></dd></dl><span class=\"dataOfFund-line\"></span><dl class=\"dataItem02\"><dt><p><span class=\"ui-color-blue\"><span class=\"sp01\"><a href=\"http://fundf10.eastmoney.com/jjjz_162411.html\">单位净值</a></span> (</span>2019-08-26)</p></dt><dd class=\"dataNums\"><span class=\"ui-font-large ui-color-red ui-num\">0.3780</span><span class=\"ui-font-middle ui-color-red ui-num\">0.53%</span></dd><dd><span>近3月：</span><span class=\"ui-font-middle ui-color-green ui-num\">-19.57%</span></dd><dd><span>近3年：</span><span class=\"ui-font-middle ui-color-green ui-num\">-38.84%</span></dd></dl><span class=\"dataOfFund-line\"></span><dl class=\"dataItem03\"><dt><p><span class=\"ui-color-blue\"><span class=\"sp01\"><a href=\"http://fundf10.eastmoney.com/jjjz_162411.html\">累计净值</a></span></span></p></dt><dd class=\"dataNums\"><span class=\"ui-font-large ui-color-red ui-num\">0.3780</span></dd><dd><span>近6月：</span><span class=\"ui-font-middle ui-color-green ui-num\">-25.00%</span></dd><dd><span>成立来：</span><span class=\"ui-font-middle ui-color-green ui-num\">-62.20%</span></dd></dl></div><div class=\"infoOfFund\"><div class=\"infoOfFund-line\"></div><table><tr><td>基金类型：<a href=\"http://fund.eastmoney.com/QDII_jzzzl.html#os_0;isall_0;ft_;pt_6\">QDII-指数</a>&nbsp;&nbsp;|&nbsp;&nbsp;高风险</td><td><a href=\"http://fundf10.eastmoney.com/gmbd_162411.html\">基金规模</a>：34.27亿元（2019-06-30）</td><td>基金经理：<a href=\"http://fundf10.eastmoney.com/jjjl_162411.html\">周晶</a></td></tr><tr><td><span class=\"letterSpace01\">成 立 日</span>：2011-09-29</td><td><span class=\"letterSpace01\">管 理 人</span>：<a href=\"http://fund.eastmoney.com/company/80000250.html\">华宝基金</a></td><td><a class=\"floatleft\" href=\"http://fundf10.eastmoney.com/jjpj_162411.html\">基金评级</a><span class=\"floatleft\">：</span><div class=\"jjpj\">暂无评级</div></td></tr> <tr><td class=\\'specialData\\' style=\"cursor:pointer\" colspan=\\'3\\'><a  href=\"http://fundf10.eastmoney.com/tsdata_162411.html\">跟踪标的：</a>标普全球石油净总收益指数 | <a href=\"http://fundf10.eastmoney.com/tsdata_162411.html\">跟踪误差：</a>--</td></tr></table></div></div><!-- 档案 end --><!-- 计算\\\\购买(可以买) start --><!--基金购买模块(可购买)--><div class=\"choseBuyWay canBuy\"><div class=\"choseBuyWay-shadow\"></div><div class=\"buyWayWrap\"><div class=\"buyWayHeader\">   <p class=\"safety01\">证监会批准的首批独立基金销售机构</p><p class=\"safety02\">民生银行全程资金监管</p></div><div class=\"buyWayStatic\"><div class=\"staticItem\"><span class=\"itemTit\">交易状态：</span><span class=\"staticCell\">限大额  (<span>单日投资上限1000元</span>)</span><span class=\"staticCell\">开放赎回</span></div><div class=\"staticItem\"></div>   <div class=\"staticItem\">   <!--预计到期日--></div><div class=\"staticItem\"><span class=\"itemTit\">购买手续费：</span><span class=\"staticCell\"><span class=\"comparePrice\">1.50%</span>&nbsp;<span class=\"nowPrice\">0.15%</span>&nbsp;<span class=\"ui-color-red\"><b>1</b></span>折</span><span class=\"staticCell\"><a class=\"rateDetail\" href=\"http://fundf10.eastmoney.com/jjfl_162411.html\">费率详情&gt;</a></span></div><div class=\"staticItem inputMoney\"><table width=\"100%\" border=\"0\" cellspacing=\"0\" cellpadding=\"0\"><tr><td><span class=\"itemTit\"><span class=\"font4Words\">金</span>额：</span></td><td><div id=\"moneyAmount\" class=\"moneyAmount\"><input id=\"moneyAmountTxt\" type=\"text\" data-minsg=\"100\" data-placeholder=\"100元起购\" /><span class=\"dw-yuan\">元</span></div></td><td><div class=\"downAppAtBuyWay\" id=\"downAppAtBuyWay\">手机也<br />可以买基金 <div class=\"QRCode\" id=\"downAppAtBuyWay_QRCode\"><img src=\"http://j5.dfcfw.com/image/201603/20160323151422.jpg\" height=\"94\" width=\"93\" alt=\"\"><div>扫码下载手机版<br />天天基金</div></div></div></td></tr></table></div><div class=\"staticItem visibility_hidden\" id=\"calculatorAmount\"><span class=\"itemTit\">预计购买费用：</span><span  class=\"staticCell\">1.50元(费率0.15%，节省1.35元。)</span></div><div class=\"staticItem\"><div class=\"buttonWrap\"><table width=\"100%\" border=\"0\" cellspacing=\"0\" cellpadding=\"0\"><tr><td><div id=\"calculatorEnter\" class=\"calculatorEnter\"></div></td><td><a id=\"buyNowStatic\" class=\"buyNowStatic\" href=\"https://trade.1234567.com.cn/FundtradePage/default2.aspx?fc=162411&spm=pzm\" target=\"_blank\" >立即购买</a></td><td><a id=\"FixedInvestment\" class=\"FixedInvestment\" href=\"https://trade.1234567.com.cn/Investment/add.aspx?fc=162411&spm=pzm\" ><p class=\"btnTit01\">定投</p><p class=\"btnTit02\">10元起投</p></a></td><td><a id=\"openAccount\" class=\"openAccount\" href=\"https://register.1234567.com.cn/reg/step1?spm=pzm\"><p>免费开户</p></a></td></tr></table></div></div>   <div class=\"staticItem hqb-group\"> <ul> </ul>    </div></div></div></div><!-- 计算\\\\购买(不可买) end --></div><div class=\"fundDetail-footer\"><ul><li class=\"fundDetail-nowSite\"><a href=\"javascript:;\" target=\"_self\">基金档案</a></li><li><a href=\"http://fundf10.eastmoney.com/jbgk_162411.html\">基金概况</a> </li><li><a href=\"http://fundf10.eastmoney.com/jjjl_162411.html\">基金经理</a> </li><li><a href=\"http://fund.eastmoney.com/company/80000250.html\">基金公司</a> </li><li><a href=\"http://fundf10.eastmoney.com/jjjz_162411.html\" class=\"ui-color-red-hover\">历史净值</a> </li><li><a href=\"http://fundf10.eastmoney.com/jdzf_162411.html\">阶段涨幅</a> </li><li><a href=\"http://fundf10.eastmoney.com/fhsp_162411.html\" class=\"ui-color-red-hover\">分红送配</a> </li><li><a href=\"http://fundf10.eastmoney.com/ccmx_162411.html\">持仓明细</a> </li><li><a href=\"http://fundf10.eastmoney.com/hytz_162411.html\">行业配置</a> </li><li><a href=\"http://fundf10.eastmoney.com/gmbd_162411.html\">规模变动</a> </li><li><a href=\"http://fundf10.eastmoney.com/cyrjg_162411.html\">持有人结构</a> </li><li><a href=\"http://fundf10.eastmoney.com/jjgg_162411.html\">基金公告</a> </li><li><a href=\"http://fundf10.eastmoney.com/cwzb_162411.html\">财务报表</a> </li><li><a href=\"http://fundf10.eastmoney.com/jjfl_162411.html\">购买信息</a> </li></ul></div></div></div></div><!-- 当前基金档案 end --><!-- 基金品种小展示通栏 广告位   start --><div class=\"wrapper\"><div class=\"wrapper_min\"><div class=\"adWrapGroup\"><div class=\"lazy adWrapGroup_left\" data-url=\"http://same.eastmoney.com/s?z=eastmoney&c=1326&op=1\" data-h=\"40\" data-w=\"750\"><!-- 尺寸 34*752 --></div><a href=\"http://caifuhao.eastmoney.com/cfh/126876?spm=002.cfh\"><div class=\"cfh-tg adWrapGroup_right\"><p title=\"华宝基金财富号\">华宝基金财富号</p><span>查看</span></div></a></div></div></div><!-- 基金品种小展示通栏 广告位 end --><!-- 盘中实时净值估算图\\\\股票持仓\\\\热点聚焦 start --><div class=\"wrapper\"><div class=\"wrapper_min\"><div class=\"quotationItem\"><div class=\"quotationItem_left\"><!-- 线图tab start --><div class=\"fund_item quotationItem_DataMap popTab\" id=\"quotationItem_DataMap\"><div class=\"item_title hd\"><div class=\"titleItems tabBtn titleItemActive\"><h3><a href=\"javascript:;\" target=\"_self\">盘中实时净值估算图</a></h3></div><div class=\\'titleItems tabBtn\\'> <h3> <a href=\\'javascript:;\\' target=\\'_self\\'>股票仓位测算图</a> </h3></div><div class=\"item_reload\"><a href=\"javascript:;\" target=\"_self\">刷新</a></div></div><div class=\"bd\"><ul><li class=\"estimatedMap\" id=\"estimatedMap\"><div class=\"estimatedchart hasLoading\"> <img src=\"http://j4.dfcfw.com/charts/pic6/162411.png\" alt=\"\">   </div><div class=\"estimatedsideInfo\"><div class=\"InfoItem itm02\"><span class=\"estimated_netWrth\">净值估算平均偏差：<span>-- </span></span><div class=\"infoTips\"><div class=\"tipsBubble\">净值估算：每个交易日9：30-15：00盘中实时更新，按照基金持仓和指数走势估算，估算数据并不代表真实净值，仅供参考。<br>净值估算平均偏差：近1月净值估算与实际净值偏离度的平均值。</div></div><a class=\"hasDownLoadApp\" href=\"http://fundact.eastmoney.com/app/\">下载手机版，净值估算随身看</a></div></div></li><li class=\"fundSharesPositions \" style=\"height: 315px; width: 449px; display: none;\"><div id=\"fundSharesPositions\" class=\"hasLoading\" style=\"height: 275px; width: 449px;\"></div><div class=\"tips\"><i class=\"icon\"></i><span>股票仓位测算并不能保证与真实仓位数据相同，仅供参考。实际股票持仓占净值比，每季度定期披露，请查阅基金资产明细表。</span></div></li></ul></div></div><!-- 线图tab end --><!-- 数据tab start --><div class=\"fund_item quotationItem_DataTable popTab\" id=\"quotationItem_DataTable\"><div class=\"item_title hd\"><div class=\\'titleItems tabBtn titleItemActive\\' data-href-more=\\'http://fundf10.eastmoney.com/ccmx_162411.html\\'><h3><a href=\\'javascript:;\\' target=\\'_self\\'>股票持仓</a></h3></div>   <div class=\\'titleItems tabBtn \\' data-href-more=\\'http://fundf10.eastmoney.com/ccmx_162411.html\\'><h3> <a href=\\'javascript:;\\' target=\\'_self\\'>债券持仓</a> </h3> </div><div class=\"item_more\"><a href = \"http://fundf10.eastmoney.com/ccmx_162411.html\"> 更多 ></a></div> </div><div class=\"bd\"><ul><li class=\\'position_shares\\' id=\\'position_shares\\' style=\\'display:block\\' ><div class=\\'poptableWrap\\'><table class=\\'ui-table-hover\\' width=\\'100%\\' border=\\'0\\' cellspacing=\\'0\\' cellpadding=\\'0\\'> <tr>   <th class=\"alignLeft\">股票名称</th>   <th class=\"alignRight\">持仓占比</th>   <th class=\"alignRight\">涨跌幅</th>   <th class=\"alignRight10\">相关资讯</th>  </tr><tr>  <td class=\"alignLeft\">   <a href=\"http://quote.eastmoney.com/us/PBF.html  \" title=\"PBF Energy Inc-A\">PBF E</a>  </td>  <td class=\"alignRight bold\">2.38%</td>  <td class=\"alignRight bold\" stockcode=\"stock_PBF\"><span class=\"\">--</span>  </td>  <td class=\"RelatedInfo alignRight10\"><a style=\"padding-right:5px\" href=\"http://guba.eastmoney.com/list,usPBF.html\">股吧</a>  </td>   </tr><tr>  <td class=\"alignLeft\">   <a href=\"http://quote.eastmoney.com/us/OAS.html  \" title=\"Oasis Petroleum Inc\">Oasis</a>  </td>  <td class=\"alignRight bold\">2.21%</td>  <td class=\"alignRight bold\" stockcode=\"stock_OAS\"><span class=\"\">--</span>  </td>  <td class=\"RelatedInfo alignRight10\"><a style=\"padding-right:5px\" href=\"http://guba.eastmoney.com/list,usOAS.html\">股吧</a>  </td>   </tr><tr>  <td class=\"alignLeft\">   <a href=\"http://quote.eastmoney.com/us/WLL.html  \" title=\"Whiting Petroleum Corp\">Whiti</a>  </td>  <td class=\"alignRight bold\">2.13%</td>  <td class=\"alignRight bold\" stockcode=\"stock_WLL\"><span class=\"\">--</span>  </td>  <td class=\"RelatedInfo alignRight10\"><a style=\"padding-right:5px\" href=\"http://guba.eastmoney.com/list,usWLL.html\">股吧</a>  </td>   </tr><tr>  <td class=\"alignLeft\">   <a href=\"http://quote.eastmoney.com/us/CRC.html  \" title=\"California Resources Corp\">Calif</a>  </td>  <td class=\"alignRight bold\">2.12%</td>  <td class=\"alignRight bold\" stockcode=\"stock_CRC\"><span class=\"\">--</span>  </td>  <td class=\"RelatedInfo alignRight10\"><a style=\"padding-right:5px\" href=\"http://guba.eastmoney.com/list,usCRC.html\">股吧</a>  </td>   </tr><tr>  <td class=\"alignLeft\">   <a href=\"http://quote.eastmoney.com/us/MPC.html  \" title=\"马拉松原油\">马拉松原油</a>  </td>  <td class=\"alignRight bold\">2.11%</td>  <td class=\"alignRight bold\" stockcode=\"stock_MPC\"><span class=\"\">--</span>  </td>  <td class=\"RelatedInfo alignRight10\"><a style=\"padding-right:5px\" href=\"http://guba.eastmoney.com/list,usMPC.html\">股吧</a>  </td>   </tr><tr>  <td class=\"alignLeft\">   <a href=\"http://quote.eastmoney.com/us/MTDR.html  \" title=\"Matador Resources Co\">Matad</a>  </td>  <td class=\"alignRight bold\">2.11%</td>  <td class=\"alignRight bold\" stockcode=\"stock_MTDR\"><span class=\"\">--</span>  </td>  <td class=\"RelatedInfo alignRight10\"><a style=\"padding-right:5px\" href=\"http://guba.eastmoney.com/list,usMTDR.html\">股吧</a>  </td>   </tr><tr>  <td class=\"alignLeft\">   <a href=\"http://quote.eastmoney.com/us/CLR.html  \" title=\"大陆能源\">大陆能源</a>  </td>  <td class=\"alignRight bold\">2.08%</td>  <td class=\"alignRight bold\" stockcode=\"stock_CLR\"><span class=\"\">--</span>  </td>  <td class=\"RelatedInfo alignRight10\"><a style=\"padding-right:5px\" href=\"http://guba.eastmoney.com/list,usCLR.html\">股吧</a>  </td>   </tr><tr>  <td class=\"alignLeft\">   <a href=\"http://quote.eastmoney.com/us/HFC.html  \" title=\"HollyFrontier Corp\">Holly</a>  </td>  <td class=\"alignRight bold\">2.08%</td>  <td class=\"alignRight bold\" stockcode=\"stock_HFC\"><span class=\"\">--</span>  </td>  <td class=\"RelatedInfo alignRight10\"><a style=\"padding-right:5px\" href=\"http://guba.eastmoney.com/list,usHFC.html\">股吧</a>  </td>   </tr><tr>  <td class=\"alignLeft\">   <a href=\"http://quote.eastmoney.com/us/NBL.html  \" title=\"诺贝尔能源\">诺贝尔能源</a>  </td>  <td class=\"alignRight bold\">2.06%</td>  <td class=\"alignRight bold\" stockcode=\"stock_NBL\"><span class=\"\">--</span>  </td>  <td class=\"RelatedInfo alignRight10\"><a style=\"padding-right:5px\" href=\"http://guba.eastmoney.com/list,usNBL.html\">股吧</a>  </td>   </tr><tr>  <td class=\"alignLeft\">   <a href=\"http://quote.eastmoney.com/us/VLO.html  \" title=\"瓦莱罗能源\">瓦莱罗能源</a>  </td>  <td class=\"alignRight bold\">2.02%</td>  <td class=\"alignRight bold\" stockcode=\"stock_VLO\"><span class=\"\">--</span>  </td>  <td class=\"RelatedInfo alignRight10\"><a style=\"padding-right:5px\" href=\"http://guba.eastmoney.com/list,usVLO.html\">股吧</a>  </td>   </tr></table><p class=\\'sum\\'><span class=\"sum-tit\"><a href=\"http://fundf10.eastmoney.com/ccmx_162411.html\">前十持仓占比合计：</a></span><span class=\"sum-num\">21.30%</span></p></div><div class=\\'poptableWrap_footer\\'><span class=\\'end_date\\'>持仓截止日期: 2019-06-30</span><a href=\\'http://fundf10.eastmoney.com/ccmx_162411.html\\' class=\\'poptab_more\\'>更多持仓信息></a></div></li><li class=\\'position_bonds\\' id=\\'position_bonds\\' style=\\'display: none;\\'><div class=\\'poptableWrap\\'><table class=\\'ui-table-hover\\' width=\\'100%\\' border=\\'0\\' cellspacing=\\'0\\' cellpadding=\\'0\\'><tr> <th class=\"alignLeft\">债券名称</th> <th class=\"alignRight10\">持仓占比</th>  </tr><tr>  <td colspan=\"4\" style=\"color:#808080\">暂无数据  </td>   </tr></table><p class=\\'sum\\'></p></div><div class=\\'poptableWrap_footer\\'><span class=\\'end_date\\'>持仓截止日期: </span><a href=\\'http://fundf10.eastmoney.com/ccmx1_162411.html\\' class=\\'poptab_more\\'>更多持仓信息></a></div></li>   </ul></div></div><!-- 数据tab end --></div><div class=\"quotationItem_right\"><!--财富号 基金推广 start--><div class=\"financialProducts popTab cfh-fund\"><div class=\"item_title hd white_bg\"><div class=\"titleItems tabBtn titleItemActive02\" data-href-more=\"http://caifuhao.eastmoney.com/cfh/126876?spm=002.cfh\"><h3><a href=\"javascript:;\" target=\"_self\">热门产品</a></h3></div><div class=\"titleItems tabBtn \" data-href-more=\"http://caifuhao.eastmoney.com/cfh/126876?spm=002.cfh\"><h3><a href=\"javascript:;\" target=\"_self\">公司观点</a></h3></div><div class=\"item_more\"> <a href=\"http://caifuhao.eastmoney.com/cfh/126876?spm=002.cfh\">更多></a> </div></div><div class=\"bd\"><ul><li class=\"cfh-fund-li\"><div class=\"fund-item\"><p class=\"title\" title=\"连续七年完胜巴菲特\">连续七年完胜巴菲特</p><p class=\"fund-info\"><span class=\"syl ui-color-red\">38.93%</span><span class=\"syl-desc\">近2年</span><a class=\"name\"  href=\"http://fund.eastmoney.com/162415.html?spm=002.cfh\" title=\"华宝标普美国消费人民币\">华宝标普美国消...</a></p></div><div class=\"fund-item\"><p class=\"title\" title=\"海外投资金牛公司护航\">海外投资金牛公司护航</p><p class=\"fund-info\"><span class=\"syl ui-color-red\">3.54%</span><span class=\"syl-desc\">近2年</span><a class=\"name\"  href=\"http://fund.eastmoney.com/501021.html?spm=002.cfh\" title=\"华宝香港中小(QDII-LOF)A\">华宝香港中小(...</a></p></div><div class=\"fund-item\"><p class=\"title\" title=\"紧跟A股风向标\">紧跟A股风向标</p><p class=\"fund-info\"><span class=\"syl ui-color-red\">26.94%</span><span class=\"syl-desc\">近1年</span><a class=\"name\"  href=\"http://fund.eastmoney.com/006098.html?spm=002.cfh\" title=\"华宝券商ETF联接A\">华宝券商ETF...</a></p></div></li><li class=\"cfh-new\" style=\"display:none\"><p><a  title=\"【行情播报】华宝科技ETF今日成交额位居所有行业/主题ETF第二\" href=\"http://caifuhao.eastmoney.com/news/20190827171453240132110?spm=002.cfh\">【行情播报】华宝科技ETF今日成交...</a></p><p><a  title=\"【经典指南】投资国内唯一科技龙头ETF的7大理由！\" href=\"http://caifuhao.eastmoney.com/news/20190827114308239715980?spm=002.cfh\">【经典指南】投资国内唯一科技龙头E...</a></p><p><a  title=\"首只科技龙头ETF日均成交额高达5.75亿元，居全部主题/行业ETF第一\" href=\"http://caifuhao.eastmoney.com/news/20190827113840879527980?spm=002.cfh\">首只科技龙头ETF日均成交额高达5...</a></p><p><a  title=\"【行情回顾】科技ETF场内流动性依然领先\" href=\"http://caifuhao.eastmoney.com/news/20190827101001163832210?spm=002.cfh\">【行情回顾】科技ETF场内流动性依...</a></p><p><a  title=\"【认购期最后一天】首只科技龙头ETF联接（A类：007873/C类：007874）将于今日胜利收官！\" href=\"http://caifuhao.eastmoney.com/news/20190827095342740117930?spm=002.cfh\">【认购期最后一天】首只科技龙头ET...</a></p></li></ul></div></div> <!--财富号 基金推广 end--><!-- 活期宝\\\\定期宝\\\\中财所 start --><div class=\"financialProducts popTab\"><div class=\"item_title hd white_bg\"><div class=\"titleItems tabBtn titleItemActive02\" data-href-more=\"http://huoqibao.1234567.com.cn\"><h3><a href=\"javascript:;\" target=\"_self\">活期宝</a></h3></div><div class=\"titleItems tabBtn\" data-href-more=\"http://dingqibao.1234567.com.cn\"><h3><a href=\"javascript:;\" target=\"_self\">定期宝</a></h3></div><div class=\"titleItems\"><h3><a href=\"http://fundlc.eastmoney.com/\">稳健理财</a></h3></div><div class=\"item_more\"><a href=\"http://huoqibao.1234567.com.cn\">查收益></a></div></div><div class=\"bd\"><ul><li class=\"winAd_hqb\"><p class=\"hqb_tit\" data-href=\"http://huoqibao.1234567.com.cn\"><b>活期宝</b><span>随时取，最快1秒实时到账</span></p><p class=\"hqb_adWords01\" data-href=\"http://huoqibao.1234567.com.cn\"><span class=\"clip01\">关联基金最高7日年化</span><span class=\"clip02\">3.94<span class=\"r\">%</span></span><span class=\"clip03\">08-26</span></p><p class=\"hqb_adWords02 fund_sale\" data-href=\"http://huoqibao.1234567.com.cn\">活期宝累计销量超<span class=\"red\">15000</span>亿元</p><div class=\"hqb_link\"><a href=\"https://register.1234567.com.cn/reg/step1?spm=001002001.lwb\">免费开通</a><a href=\"https://trade.1234567.com.cn/xjb/recharge?spm=001002001.lwb\">立即充值</a></div></li><li class=\"winAD_dqb\" style=\"display: none;\"><p class=\"hqb_tit\" data-href=\"http://dingqibao.1234567.com.cn\"><b>定期宝</b><span>短期理财就选定期宝</span></p><p class=\"hqb_adWords01\" data-href=\"http://dingqibao.1234567.com.cn\"><span class=\"clip01\">7天</span><span class=\"clip02\">2.68<span class=\"r\">%</span></span><span class=\"clip01 clip03\">14天</span><span class=\"clip02\">2.82<span class=\"r\">%</span></span></p><p class=\"hqb_adWords02\" data-href=\"http://dingqibao.1234567.com.cn\"><span class=\"clip01\">30天</span><span class=\"clip02\">3.12<span class=\"r\">%</span></span><span class=\"clip01 clip03\">60天</span><span class=\"clip02\">3.25<span class=\"r\">%</span></span></p><div class=\"hqb_link\"><a href=\"https://register.1234567.com.cn/reg/step1?spm=001002001.lwb\">免费开通</a><a href=\"https://trade.1234567.com.cn/dqb/recharge?spm=001002001.lwb\">立即存款</a></div></li></ul></div></div><!-- 活期宝\\\\定期宝\\\\中财所 end --></div></div></div></div><!-- 盘中实时净值估算图 end --><!-- 单位净值走势\\\\净值\\\\我的自选基金 start --><div class=\"wrapper\"><div class=\"wrapper_min\"><div class=\"quotationItem\"><div class=\"quotationItem_left\"><!-- 线图tab start --><div class=\"fund_item quotationItem_DataMap netWorthTrendWrap popTab\" id=\"Div1\"><div class=\"item_title hd\"><div class=\"titleItems tabBtn titleItemActive\" data-href-more=\"http://fundf10.eastmoney.com/jjjz_162411.html\"><h3><a href=\"javascript:;\" target=\"_self\">单位净值走势</a></h3></div><div class=\"titleItems tabBtn\" data-href-more=\"http://fundf10.eastmoney.com/jjjz_162411.html\"><h3><a href=\"javascript:;\" target=\"_self\">累计净值走势</a></h3></div><div class=\"item_more\"><a href=\"http://fundf10.eastmoney.com/jjjz_162411.html\">更多&gt;</a></div><a class=\"hasDownLoadApp moreStyle01\" href=\"http://fundact.eastmoney.com/app/\">随时随地查看最新净值</a></div><div class=\"bd\"><ul><li class=\"netWorthTrend hasLoading\" id=\"netWorthTrend\" style=\"width: 445px; height: 320px;\"></li><li class=\"ACWorthTrend hasLoading\" id=\"ACWorthTrend\" style=\"width: 445px; height: 320px; display: none;\"></li></ul></div></div><!-- 线图tab end --><!-- 数据tab start --><div class=\"fund_item quotationItem_DataTable popTab\" id=\"Div2\"><div class=\"item_title hd\"><div class=\"titleItems tabBtn titleItemActive\" data-href-more=\"http://fundf10.eastmoney.com/jjjz_162411.html\"><h3><a href=\"javascript:;\" target=\"_self\">净值</a></h3></div><div class=\"titleItems tabBtn\" data-href-more=\"http://fundf10.eastmoney.com/fhsp_162411.html\"><h3><a href=\"javascript:;\" target=\"_self\">分红</a></h3></div><div class=\"titleItems tabBtn\" data-href-more=\"http://fundf10.eastmoney.com/jjpj_162411.html\"><h3><a href=\"javascript:;\" target=\"_self\">评级</a></h3></div><div class=\"item_more\"><a href=\"http://fundf10.eastmoney.com/jjjz_162411.html\">更多&gt;</a></div></div><div class=\"bd\"><ul><li class=\"position_shares\" id=\"Li1\"><div class=\"poptableWrap singleStyleHeight01\"><table class=\"ui-table-hover\" width=\"100%\" border=\"0\" cellspacing=\"0\" cellpadding=\"0\"><tr><th class=\"alignLeft\">日期</th><th class=\"alignRight\">单位净值</th><th class=\"alignRight\">累计净值</th><th class=\"alignRight10\">日增长率</th></tr><tr>  <td class=\"alignLeft\">08-26</td>  <td class=\"alignRight bold\">0.3780</td>  <td class=\"alignRight bold\">0.3780</td>  <td class=\"RelatedInfo alignRight10 bold\"><span class=\"ui-color-red\">0.53%</span>  </td>  </tr><tr>  <td class=\"alignLeft\">08-23</td>  <td class=\"alignRight bold\">0.3760</td>  <td class=\"alignRight bold\">0.3760</td>  <td class=\"RelatedInfo alignRight10 bold\"><span class=\"ui-color-green\">-4.57%</span>  </td>  </tr><tr>  <td class=\"alignLeft\">08-22</td>  <td class=\"alignRight bold\">0.3940</td>  <td class=\"alignRight bold\">0.3940</td>  <td class=\"RelatedInfo alignRight10 bold\"><span class=\"ui-color-green\">-1.25%</span>  </td>  </tr><tr>  <td class=\"alignLeft\">08-21</td>  <td class=\"alignRight bold\">0.3990</td>  <td class=\"alignRight bold\">0.3990</td>  <td class=\"RelatedInfo alignRight10 bold\"><span class=\"ui-color-red\">0.50%</span>  </td>  </tr><tr>  <td class=\"alignLeft\">08-20</td>  <td class=\"alignRight bold\">0.3970</td>  <td class=\"alignRight bold\">0.3970</td>  <td class=\"RelatedInfo alignRight10 bold\"><span class=\"ui-color-green\">-0.75%</span>  </td>  </tr><tr>  <td class=\"alignLeft\">08-19</td>  <td class=\"alignRight bold\">0.4000</td>  <td class=\"alignRight bold\">0.4000</td>  <td class=\"RelatedInfo alignRight10 bold\"><span class=\"ui-color-red\">3.36%</span>  </td>  </tr><tr>  <td class=\"alignLeft\">08-16</td>  <td class=\"alignRight bold\">0.3870</td>  <td class=\"alignRight bold\">0.3870</td>  <td class=\"RelatedInfo alignRight10 bold\"><span class=\"ui-color-red\">3.20%</span>  </td>  </tr><tr>  <td class=\"alignLeft\">08-15</td>  <td class=\"alignRight bold\">0.3750</td>  <td class=\"alignRight bold\">0.3750</td>  <td class=\"RelatedInfo alignRight10 bold\"><span class=\"ui-color-green\">-0.53%</span>  </td>  </tr><tr>  <td class=\"alignLeft\">08-14</td>  <td class=\"alignRight bold\">0.3770</td>  <td class=\"alignRight bold\">0.3770</td>  <td class=\"RelatedInfo alignRight10 bold\"><span class=\"ui-color-green\">-4.80%</span>  </td>  </tr><tr>  <td class=\"alignLeft\">08-13</td>  <td class=\"alignRight bold\">0.3960</td>  <td class=\"alignRight bold\">0.3960</td>  <td class=\"RelatedInfo alignRight10 bold\"><span class=\"ui-color-red\">0.76%</span>  </td>  </tr><tr>  <td class=\"alignLeft\">08-12</td>  <td class=\"alignRight bold\">0.3930</td>  <td class=\"alignRight bold\">0.3930</td>  <td class=\"RelatedInfo alignRight10 bold\"><span class=\"ui-color-green\">-1.26%</span>  </td>  </tr> </table></div><div class=\"poptableWrap_footer\"><a href=\"http://fundf10.eastmoney.com/jjjz_162411.html\" class=\"poptab_more\">更多净值信息></a></div></li><li class=\"position_bonus\" id=\"position_bonus\" style=\"display: none;\"><div class=\"poptableWrap singleStyleHeight01\"><div class=\"position_bonusTips\"><a href=\"http://fundf10.eastmoney.com/fhsp_162411.html\" class=\"icon\">华宝标普油气上游股票</a>成立以来，总计分红<a href=\"http://fundf10.eastmoney.com/fhsp_162411.html\"> 0</a>次，拆分<a href=\"http://fundf10.eastmoney.com/fhsp_162411.html\">0</a>次 </div><table class=\"ui-table-hover\" width=\"100%\" border=\"0\" cellspacing=\"0\" cellpadding=\"0\"> </table></div><div class=\"poptableWrap_footer\"><a href=\"http://fundf10.eastmoney.com/fhsp_162411.html\" class=\"poptab_more\">更多分红信息></a></div></li><li class=\"position_levels\" id=\"position_levels\" style=\"display: none;\"><div class=\"poptableWrap singleStyleHeight01\"><table class=\"ui-table-hover\" width=\"100%\" border=\"0\" cellspacing=\"0\" cellpadding=\"0\"><tr><th class=\"alignLeft\">评级机构</th><th class=\"alignRight\">评级日期</th><th class=\"alignRight10\">评级</th></tr><tr>  <td class=\"alignLeft\"><a href=\"http://fund.eastmoney.com/data/fundrating_0.html\">上海证券</a>  </td>  <td class=\"alignRight\">--</td>  <td class=\"alignRight10\">暂无评级</td></tr><tr>  <td class=\"alignLeft\"><a href=\"http://fund.eastmoney.com/data/fundrating_0.html\">招商证券</a>  </td>  <td class=\"alignRight\">--</td>  <td class=\"alignRight10\">暂无评级</td></tr><tr>  <td class=\"alignLeft\"><a href=\"http://fund.eastmoney.com/data/fundrating_0.html\">济安金信</a>  </td>  <td class=\"alignRight\">2019-06-30</td>  <td class=\"alignRight10\">★</td></tr> </table></div><div class=\"poptableWrap_footer\"><a href=\"http://fundf10.eastmoney.com/jjpj_162411.html\" class=\"poptab_more\">更多评级信息></a></div></li></ul></div></div><!-- 数据tab end --></div><div class=\"quotationItem_right\"><!-- 我的自选基金 start --><div class=\"myOptionalFund\"><div class=\"item_title white_bg\"><div class=\"titleItems\"><h3><a href=\"http://favor.fund.eastmoney.com/\" class=\"ui-blod\">我的自选基金</a></h3></div><div class=\"item_more\"><a href=\"http://favor.fund.eastmoney.com/\">更多></a></div></div><div class=\"poptableWrap singleStyleWidth01 singleStyleHeight02\"><table id=\"tb_zxData\" class=\"ui-table-hover\" width=\"100%\" border=\"0\" cellspacing=\"0\" cellpadding=\"0\"></table></div><div class=\"poptableWrap_footer singleStyleWidth01\"><a href=\"http://favor.fund.eastmoney.com/\" class=\"poptab_more\">更多自选基金信息></a></div></div><!-- 我的自选基金 end --></div></div></div></div><!-- 单位净值走势 end --><!-- 累计收益率走势\\\\同类排名\\\\百分比排名\\\\同类基金涨幅\\\\相关主题基金 start --><div class=\"wrapper\"><div class=\"wrapper_min\"><div class=\"quotationItem trandAndGain\"><div class=\"quotationItem_left quotationItem_left02\"><!--阶段涨幅 图表tab start --><div class=\"fund_item IncreaseAmount popTab\" id=\"IncreaseAmount\"><div class=\"item_title hd\"><div class=\"titleItems tabBtn titleItemActive\" data-date=\"2019-08-26\" data-href-more=\"http://fundf10.eastmoney.com/jdzf_162411.html\"><h3><a href=\"javascript:;\" target=\"_self\">阶段涨幅</a></h3></div><div class=\"titleItems tabBtn\" data-date=\"2019-06-28\" data-href-more=\"http://fundf10.eastmoney.com/jndzf_162411.html\"><h3><a href=\"javascript:;\" target=\"_self\">季度涨幅</a></h3></div><div class=\"titleItems tabBtn\" data-date=\"2019-06-28\" data-href-more=\"http://fundf10.eastmoney.com/jndzf_162411.html\"><h3><a href=\"javascript:;\" target=\"_self\">年度涨幅</a></h3></div><div class=\"item_more\"><a href=\"http://fundf10.eastmoney.com/jdzf_162411.html\">更多&gt;</a></div><div class=\"jdzfDate\">截止至<span id=\"jdzfDate\">2019-08-26</span></div><a class=\"hasDownLoadApp moreStyle01\" href=\"http://fundact.eastmoney.com/app/\">下载天天基金手机版，随时查看阶段涨幅</a></div><div class=\"bd\"><ul><li class=\"increaseAmount\" id=\"increaseAmount_stage\"><table class=\"ui-table-hover\" width=\"100%\" border=\"0\" cellspacing=\"0\" cellpadding=\"0\"><tr><th class=\"th01\"><div class=\"rapDash\"></div></th><th><div>近1周</div></th><th><div>近1月</div></th><th><div>近3月</div></th><th><div>近6月</div></th><th><div>今年来</div></th><th><div>近1年</div></th><th><div>近2年</div></th><th><div>近3年</div></th></tr><tr><td>  <div class=\"typeName\">阶段涨幅</div></td><td>  <div class=\"Rdata ui-color-green bold\">-5.50%</div></td><td>  <div class=\"Rdata ui-color-green bold\">-10.00%</div></td><td>  <div class=\"Rdata ui-color-green bold\">-19.57%</div></td><td>  <div class=\"Rdata ui-color-green bold\">-25.00%</div></td><td>  <div class=\"Rdata ui-color-green bold\">-17.83%</div></td><td>  <div class=\"Rdata ui-color-green bold\">-46.98%</div></td><td>  <div class=\"Rdata ui-color-green bold\">-23.94%</div></td><td class=\"noborder\">  <div class=\"Rdata ui-color-green bold\">-38.84%</div></td> </tr><tr><td>  <div class=\"typeName\">同类平均</div></td><td>  <div class=\"Rdata ui-color-green bold\">-2.21%</div></td><td>  <div class=\"Rdata ui-color-green bold\">-3.58%</div></td><td>  <div class=\"Rdata ui-color-red bold\">0.89%</div></td><td>  <div class=\"Rdata ui-color-red bold\">0.65%</div></td><td>  <div class=\"Rdata ui-color-red bold\">9.88%</div></td><td>  <div class=\"Rdata ui-color-green bold\">-2.44%</div></td><td>  <div class=\"Rdata ui-color-red bold\">4.93%</div></td><td class=\"noborder\">  <div class=\"Rdata ui-color-red bold\">17.37%</div></td> </tr><tr><td>  <div class=\"typeName\">沪深300</div></td><td>  <div class=\"Rdata ui-color-red bold\">0.77%</div></td><td>  <div class=\"Rdata ui-color-green bold\">-1.08%</div></td><td>  <div class=\"Rdata ui-color-red bold\">4.94%</div></td><td>  <div class=\"Rdata ui-color-red bold\">3.77%</div></td><td>  <div class=\"Rdata ui-color-red bold\">26.78%</div></td><td>  <div class=\"Rdata ui-color-red bold\">12.05%</div></td><td>  <div class=\"Rdata ui-color-red bold\">0.56%</div></td><td class=\"noborder\">  <div class=\"Rdata ui-color-red bold\">15.42%</div></td> </tr><tr><td>  <div class=\"typeName\">同类排名</div></td><td>  <div class=\"Rdata\">264 | 267</div></td><td>  <div class=\"Rdata\">264 | 265</div></td><td>  <div class=\"Rdata\">254 | 255</div></td><td>  <div class=\"Rdata\">250 | 251</div></td><td>  <div class=\"Rdata\">236 | 237</div></td><td>  <div class=\"Rdata\">222 | 223</div></td><td>  <div class=\"Rdata\">192 | 193</div></td><td class=\"noborder\">  <div class=\"Rdata\">144 | 145</div></td>  </tr><tr><td>  <div class=\"typeName\" style=\"position:relative;\">四分位排名<div class=\"infoTips\">  <div class=\"tipsBubble\" style=\"display: none;\">四分位排名是将同类基金按涨幅大小顺序排列，然后分为四等分，每个部分大约包含四分之一即25%的基金，基金按相对排名的位置高低分为：优秀、良好、一般、不佳。  </div></div>  </div></td><td>  <div class=\"ranking rank_1\"><div class=\"r4\"></div><div class=\"r3\"></div><div class=\"r2\"></div><div class=\"r1\"></div>  </div>  <h3>不佳</h3></td><td>  <div class=\"ranking rank_1\"><div class=\"r4\"></div><div class=\"r3\"></div><div class=\"r2\"></div><div class=\"r1\"></div>  </div> <h3>不佳</h3></td><td>  <div class=\"ranking rank_1\"><div class=\"r4\"></div><div class=\"r3\"></div><div class=\"r2\"></div><div class=\"r1\"></div>  </div>  <h3>不佳</h3></td><td>  <div class=\"ranking rank_1\"><div class=\"r4\"></div><div class=\"r3\"></div><div class=\"r2\"></div><div class=\"r1\"></div>  </div>  <h3>不佳</h3></td><td>  <div class=\"ranking rank_1\"><div class=\"r4\"></div><div class=\"r3\"></div><div class=\"r2\"></div><div class=\"r1\"></div>  </div>  <h3>不佳</h3></td><td>  <div class=\"ranking rank_1\"><div class=\"r4\"></div><div class=\"r3\"></div><div class=\"r2\"></div><div class=\"r1\"></div>  </div>  <h3>不佳</h3></td><td>  <div class=\"ranking rank_1\"><div class=\"r4\"></div><div class=\"r3\"></div><div class=\"r2\"></div><div class=\"r1\"></div>  </div>  <h3>不佳</h3></td><td class=\"noborder\">  <div class=\"ranking rank_1\"><div class=\"r4\"></div><div class=\"r3\"></div><div class=\"r2\"></div><div class=\"r1\"></div>  </div>  <h3>不佳</h3></td>  </tr>   </table></li><li class=\"increaseAmount\" style=\"display: none;\"><table class=\"ui-table-hover\" width=\"100%\" border=\"0\" cellspacing=\"0\" cellpadding=\"0\"><tr><th class=\"th01\"><div class=\"rapDash\"></div></th><th><div>19年2季度</div></th><th><div>19年1季度</div></th><th><div>18年4季度</div></th><th><div>18年3季度</div></th><th><div>18年2季度</div></th><th><div>18年1季度</div></th><th><div>17年4季度</div></th><th><div>17年3季度</div></th> </tr><tr><td>  <div class=\"typeName\">阶段涨幅</div></td><td>  <div class=\"Rdata ui-color-green bold\">-9.07%</div></td><td>  <div class=\"Rdata ui-color-red bold\">12.61%</div></td><td>  <div class=\"Rdata ui-color-green bold\">-37.42%</div></td><td>  <div class=\"Rdata ui-color-red bold\">4.55%</div></td><td>  <div class=\"Rdata ui-color-red bold\">27.59%</div></td><td>  <div class=\"Rdata ui-color-green bold\">-8.77%</div></td><td>  <div class=\"Rdata ui-color-red bold\">6.90%</div></td><td class=\"noborder\">  <div class=\"Rdata ui-color-red bold\">4.44%</div></td> </tr><tr><td>  <div class=\"typeName\">同类平均</div></td><td>  <div class=\"Rdata ui-color-red bold\">1.68%</div></td><td>  <div class=\"Rdata ui-color-red bold\">11.23%</div></td><td>  <div class=\"Rdata ui-color-green bold\">-11.55%</div></td><td>  <div class=\"Rdata ui-color-red bold\">1.26%</div></td><td>  <div class=\"Rdata ui-color-red bold\">3.81%</div></td><td>  <div class=\"Rdata ui-color-green bold\">-1.98%</div></td><td>  <div class=\"Rdata ui-color-red bold\">2.91%</div></td><td class=\"noborder\">  <div class=\"Rdata ui-color-red bold\">4.66%</div></td> </tr><tr><td>  <div class=\"typeName\">沪深300</div></td><td>  <div class=\"Rdata ui-color-green bold\">-1.21%</div></td><td>  <div class=\"Rdata ui-color-red bold\">28.62%</div></td><td>  <div class=\"Rdata ui-color-green bold\">-12.45%</div></td><td>  <div class=\"Rdata ui-color-green bold\">-2.05%</div></td><td>  <div class=\"Rdata ui-color-green bold\">-9.94%</div></td><td>  <div class=\"Rdata ui-color-green bold\">-3.28%</div></td><td>  <div class=\"Rdata ui-color-red bold\">5.07%</div></td><td class=\"noborder\">  <div class=\"Rdata ui-color-red bold\">4.63%</div></td> </tr><tr><td>  <div class=\"typeName\">同类排名</div></td><td>  <div class=\"Rdata\">253 | 268</div></td><td>  <div class=\"Rdata\">79 | 259</div></td><td>  <div class=\"Rdata\">224 | 242</div></td><td>  <div class=\"Rdata\">71 | 226</div></td><td>  <div class=\"Rdata\">1 | 228</div></td><td>  <div class=\"Rdata\">93 | 99</div></td><td>  <div class=\"Rdata\">25 | 212</div></td><td class=\"noborder\">  <div class=\"Rdata\">86 | 197</div></td>  </tr><tr><td>  <div class=\"typeName\" style=\"position:relative;\">四分位排名<div class=\"infoTips\">  <div class=\"tipsBubble\" style=\"display: none;\">四分位排名是将同类基金按涨幅大小顺序排列，然后分为四等分，每个部分大约包含四分之一即25%的基金，基金按相对排名的位置高低分为：优秀、良好、一般、不佳。  </div></div>  </div></td><td>  <div class=\"ranking rank_1\"><div class=\"r4\"></div><div class=\"r3\"></div><div class=\"r2\"></div><div class=\"r1\"></div>  </div>  <h3>不佳</h3></td><td>  <div class=\"ranking rank_3\"><div class=\"r4\"></div><div class=\"r3\"></div><div class=\"r2\"></div><div class=\"r1\"></div>  </div> <h3>良好</h3></td><td>  <div class=\"ranking rank_1\"><div class=\"r4\"></div><div class=\"r3\"></div><div class=\"r2\"></div><div class=\"r1\"></div>  </div>  <h3>不佳</h3></td><td>  <div class=\"ranking rank_3\"><div class=\"r4\"></div><div class=\"r3\"></div><div class=\"r2\"></div><div class=\"r1\"></div>  </div>  <h3>良好</h3></td><td>  <div class=\"ranking rank_4\"><div class=\"r4\"></div><div class=\"r3\"></div><div class=\"r2\"></div><div class=\"r1\"></div>  </div>  <h3>优秀</h3></td><td>  <div class=\"ranking rank_1\"><div class=\"r4\"></div><div class=\"r3\"></div><div class=\"r2\"></div><div class=\"r1\"></div>  </div>  <h3>不佳</h3></td><td>  <div class=\"ranking rank_4\"><div class=\"r4\"></div><div class=\"r3\"></div><div class=\"r2\"></div><div class=\"r1\"></div>  </div>  <h3>优秀</h3></td><td class=\"noborder\">  <div class=\"ranking rank_3\"><div class=\"r4\"></div><div class=\"r3\"></div><div class=\"r2\"></div><div class=\"r1\"></div>  </div>  <h3>良好</h3></td>  </tr>   </table></li><li class=\"increaseAmount\" style=\"display: none;\"><table class=\"ui-table-hover\" width=\"100%\" border=\"0\" cellspacing=\"0\" cellpadding=\"0\"><tr><th class=\"th01\"><div class=\"rapDash\"></div></th>   <th><div>2018年度</div></th><th><div>2017年度</div></th><th><div>2016年度</div></th><th><div>2015年度</div></th><th><div>2014年度</div></th><th><div>2013年度</div></th><th><div>2012年度</div></th><th><div>2011年度</div></th> </tr><tr><td>  <div class=\"typeName\">阶段涨幅</div></td><td>  <div class=\"Rdata ui-color-green bold\">-23.84%</div></td><td>  <div class=\"Rdata ui-color-green bold\">-15.41%</div></td><td>  <div class=\"Rdata ui-color-red bold\">44.24%</div></td><td>  <div class=\"Rdata ui-color-green bold\">-34.78%</div></td><td>  <div class=\"Rdata ui-color-green bold\">-32.23%</div></td><td>  <div class=\"Rdata ui-color-red bold\">18.39%</div></td><td>  <div class=\"Rdata ui-color-green bold\">-3.27%</div></td><td class=\"noborder\">  <div class=\"Rdata  bold\">--</div></td> </tr><tr><td>  <div class=\"typeName\">同类平均</div></td><td>  <div class=\"Rdata ui-color-green bold\">-8.87%</div></td><td>  <div class=\"Rdata ui-color-red bold\">15.67%</div></td><td>  <div class=\"Rdata ui-color-red bold\">6.75%</div></td><td>  <div class=\"Rdata ui-color-green bold\">-4.71%</div></td><td>  <div class=\"Rdata ui-color-red bold\">3.97%</div></td><td>  <div class=\"Rdata ui-color-red bold\">5.71%</div></td><td>  <div class=\"Rdata ui-color-red bold\">10.91%</div></td><td class=\"noborder\">  <div class=\"Rdata  bold\">--</div></td> </tr><tr><td>  <div class=\"typeName\">沪深300</div></td><td>  <div class=\"Rdata ui-color-green bold\">-25.31%</div></td><td>  <div class=\"Rdata ui-color-red bold\">21.78%</div></td><td>  <div class=\"Rdata ui-color-green bold\">-11.28%</div></td><td>  <div class=\"Rdata ui-color-red bold\">5.58%</div></td><td>  <div class=\"Rdata ui-color-red bold\">51.66%</div></td><td>  <div class=\"Rdata ui-color-green bold\">-7.65%</div></td><td>  <div class=\"Rdata ui-color-red bold\">7.55%</div></td><td class=\"noborder\">  <div class=\"Rdata  bold\">--</div></td> </tr><tr><td>  <div class=\"typeName\">同类排名</div></td><td>  <div class=\"Rdata\">199 | 242</div></td><td>  <div class=\"Rdata\">179 | 212</div></td><td>  <div class=\"Rdata\">2 | 126</div></td><td>  <div class=\"Rdata\">109 | 111</div></td><td>  <div class=\"Rdata\">99 | 101</div></td><td>  <div class=\"Rdata\">18 | 72</div></td><td>  <div class=\"Rdata\">48 | 51</div></td><td class=\"noborder\">  <div class=\"Rdata\">-- | --</div></td>  </tr><tr><td>  <div class=\"typeName\" style=\"position:relative;\">四分位排名<div class=\"infoTips\">  <div class=\"tipsBubble\" style=\"display: none;\">四分位排名是将同类基金按涨幅大小顺序排列，然后分为四等分，每个部分大约包含四分之一即25%的基金，基金按相对排名的位置高低分为：优秀、良好、一般、不佳。  </div></div>  </div></td><td>  <div class=\"ranking rank_1\"><div class=\"r4\"></div><div class=\"r3\"></div><div class=\"r2\"></div><div class=\"r1\"></div>  </div>  <h3>不佳</h3></td><td>  <div class=\"ranking rank_1\"><div class=\"r4\"></div><div class=\"r3\"></div><div class=\"r2\"></div><div class=\"r1\"></div>  </div> <h3>不佳</h3></td><td>  <div class=\"ranking rank_4\"><div class=\"r4\"></div><div class=\"r3\"></div><div class=\"r2\"></div><div class=\"r1\"></div>  </div>  <h3>优秀</h3></td><td>  <div class=\"ranking rank_1\"><div class=\"r4\"></div><div class=\"r3\"></div><div class=\"r2\"></div><div class=\"r1\"></div>  </div>  <h3>不佳</h3></td><td>  <div class=\"ranking rank_1\"><div class=\"r4\"></div><div class=\"r3\"></div><div class=\"r2\"></div><div class=\"r1\"></div>  </div>  <h3>不佳</h3></td><td>  <div class=\"ranking rank_4\"><div class=\"r4\"></div><div class=\"r3\"></div><div class=\"r2\"></div><div class=\"r1\"></div>  </div>  <h3>优秀</h3></td><td>  <div class=\"ranking rank_1\"><div class=\"r4\"></div><div class=\"r3\"></div><div class=\"r2\"></div><div class=\"r1\"></div>  </div>  <h3>不佳</h3></td><td class=\"noborder\">  <div class=\"ranking rank_\"><div class=\"r4\"></div><div class=\"r3\"></div><div class=\"r2\"></div><div class=\"r1\"></div>  </div>  <h3>--</h3></td>  </tr>   </table></li></ul></div></div><!--阶段涨幅 图表tab end --><!-- 累计收益率走势 start --><div class=\"fund_item grandTotal\" id=\"grandTotal\"><div class=\"item_title hd\"><div class=\"titleItems titleItemActive\"><h3><a href=\"javascript:;\" target=\"_self\">累计收益率走势</a></h3></div><div class=\"item_more\"><a href=\"http://fundf10.eastmoney.com/jdzf_162411.html\">更多&gt;</a></div><a class=\"hasDownLoadApp moreStyle01\" href=\"http://fundact.eastmoney.com/app/\">下载天天基金手机版，随时随地查看累计收益</a></div><div class=\"bd\"><ul><li class=\"grandTotalChars relative\"><div class=\"selectRange\" id=\"grandTotalCharsWrap_selectRange\"><ul><li class=\"first\">选择时间</li><li class=\"\" data-type=\"m\">1月</li><li class=\"\" data-type=\"q\">3月</li><li class=\"at\" data-type=\"hy\">6月</li><li class=\"\" data-type=\"y\">1年</li><li class=\"\" data-type=\"try\">3年</li><li class=\"\" data-type=\"fiy\">5年</li><li class=\"\" data-type=\"sy\">今年</li><li class=\"\" data-type=\"se\">最大</li></ul></div><div class=\"grandTotalCharsWrap hasLoading\" id=\"grandTotalCharsWrap\" style=\"width: 726px; height: 284px;\"></div><div class=\"grandTotalCharsControls\"><div class=\"stockCompare\"><a href=\"javascript:;\" id=\"grandTotalCharsWrap_compare\" class=\"renderGrand\" target=\"_self\">对比</a><div class=\"compareTarget\"><select name=\"compareTargetSel\" id=\"compareTargetSel\"><option value=\"000300\">沪深300</option><option value=\"000905\">中证500</option><option value=\"000001\">上证指数</option><option value=\"399001\">深证成指</option><option value=\"399005\">中小板指</option><option value=\"399006\">创业板指</option></select></div><span class=\"thisAction\">PK</span><span class=\"thisStockName\"><span class=\"thisStockName\">当前基金</span></span></div></div></li></ul></div></div><!-- 累计收益率走势 end --><!-- 同类排名走势\\\\百分百排名走势 start --><div class=\"fund_item RateInSimilar popTab\" id=\"RateInSimilar\"><div class=\"item_title hd\"><div class=\"titleItems tabBtn titleItemActive\"><h3><a href=\"javascript:;\" target=\"_self\" class=\"ui-blod\">同类排名走势</a></h3></div><div class=\"titleItems tabBtn\"><h3><a class=\"hasTips\" href=\"javascript:;\" target=\"_self\"><span class=\"t\" style=\"border: none;\">百分比排名走势</span><div class=\"infoTips\"><div class=\"tipsBubble\" style=\"display: none;\">提供基金每日不同阶段涨幅的同类排名/百分比排名数据，封闭基金、创新型封闭基金暂不提供排名。   <br>同类排名越小说明其在同类基金中业绩越好。   <br>百分比排名显示阶段业绩在此基金之下的同类基金的百分比数，例如某股票型基金某日的近3月的百分比排名为 95%，说明此基金近3月的业绩表现优于95%的股票型基金。   </div></div></a></h3></div><div class=\"item_more\"><a href=\"http://fundf10.eastmoney.com/jdzf_162411.html\">更多&gt;</a></div><a class=\"hasDownLoadApp moreStyle01\" href=\"http://fundact.eastmoney.com/app/\">下载天天基金手机版，随时随地查看排名走势</a></div><div class=\"bd\"><ul><li class=\"RateInSimilar_type\" style=\"width: 720px; height: 260px;\"><div id=\"RateInSimilar_type_select\"><label>选择指标:</label><select><option value=\"3y\">近3月排名</option><option value=\"6y\">近6月排名</option><option value=\"1n\">近1年排名</option></select></div><div id=\"RateInSimilar_type\" class=\"hasLoading\" style=\"width: 720px; height: 260px;\"></div></li><li class=\"RateInSimilar_persent hasLoading\" style=\"width: 720px; height: 260px;\"><div id=\"RateInSimilar_persent_select\"><label>选择指标:</label><select><option value=\"3y\">近3月排名</option><option value=\"6y\">近6月排名</option><option value=\"1n\">近1年排名</option></select></div><div id=\"RateInSimilar_persent\" class=\"hasLoading\" style=\"width: 720px; height: 260px;\"></div></li></ul></div></div><!-- 同类排名走势 end --><!-- 规模变动\\\\持有人结构\\\\资产匹配 start --><div class=\"fund_item funhalf_left popTab\"><div class=\"item_title hd\"><div class=\"titleItems tabBtn titleItemActive\" data-href-more=\"http://fundf10.eastmoney.com/gmbd_162411.html\"><h3><a href=\"javascript:;\" target=\"_self\">规模变动</a></h3></div><div class=\"titleItems tabBtn\" data-href-more=\"http://fundf10.eastmoney.com/cyrjg_162411.html\"><h3><a href=\"javascript:;\" target=\"_self\">持有人结构</a></h3></div><div class=\"titleItems tabBtn\" data-href-more=\"http://fundf10.eastmoney.com/zcpz_162411.html\"><h3><a href=\"javascript:;\" target=\"_self\">资产配置</a></h3></div><div class=\"item_more\"><a href=\"http://fundf10.eastmoney.com/gmbd_162411.html\">更多&gt;</a></div></div><div class=\"bd\"><ul><li class=\"fluctuationScale hasLoading\" id=\"fluctuationScale\" style=\"width: 347px; height: 204px;\"></li><li class=\"HolderStructure hasLoading\" id=\"HolderStructure\" style=\"width: 347px; height: 204px; display: none;\"></li><li class=\"assetAllocation hasLoading\" id=\"assetAllocation\" style=\"width: 347px; height: 204px; display: none;\"></li></ul></div></div><!-- 规模变动 end --><!-- 基金投资风格\\\\业绩评价 start --><div class=\"fund_item funhalf_right popTab\"><div class=\"item_title hd\"><div class=\"titleItems tabBtn titleItemActive\" data-href-more=\"http://fundf10.eastmoney.com/tsdata_162411.html\"><h3><a href=\"javascript:;\" target=\"_self\">基金投资风格</a></h3></div><div class=\\'titleItems tabBtn\\' data-href-more=\\'http://fundf10.eastmoney.com/ccbdzs_162411.html#jjhsl\\'><h3 id=\\'tabBtn_jjhsl\\'><a href=\\'javascript:;\\' target=\\'_self\\'>基金换手率</a></h3></div><div class=\"titleItems tabBtn\" data-href-more=\"http://fundf10.eastmoney.com/tsdata_162411.html\"><h3 id=\"tabBtn_yjpj\"><a href=\"javascript:;\" target=\"_self\">业绩评价</a></h3></div>   <!-- <div class=\"titleItems tabBtn\" data-href-more=\"http://fundf10.eastmoney.com/tsdata_162411.html\"><h3 id=\"tabBtn_yjpj\"><a href=\"javascript:;\" target=\"_self\">业绩评价</a></h3></div>--><div class=\"item_more\"><a href=\"http://fundf10.eastmoney.com/tsdata_162411.html\">更多&gt;</a></div></div><div class=\"bd\"><ul><li class=\"fundInvestmentStyle\" style=\"width: 347px; height: 204px;\"> <div class=\"nodata\">暂无数据</div></li> <li class=\"fundhsl\" style=\"width: 347px; height: 204px;\"><div class=\\'poptableWrap jjhsl\\'><table  class=\"ui-table-hover\" width=\"100%\" border=\"0\" cellspacing=\"0\" cellpadding=\"0\"><tbody><tr> <th>报告期</th> <th>基金换手率</th></tr><tr class=\"\"><td>2018-12-31</td><td >94.33%</td></tr><tr class=\"\"><td>2018-06-30</td><td >86.73%</td></tr><tr class=\"\"><td>2017-12-31</td><td >107.50%</td></tr><tr class=\"last\"><td>2017-06-30</td><td >89.27%</td></tr></tbody></table></div><div class=\\'jjhsl_desc\\'>基金换手率用于衡量基金投资组合变化的频率。</div></li><li class=\"performanceEvaluation hasLoading\"  style=\"width: 347px; height: 204px;position:relative; display: none;\"><div class=\"jzrq\">截止至：2019-07-31</div><div class=\"performanceEvaluation hasLoading\" style=\"width: 327px; height: 160px;\" id=\"performanceEvaluation\"></div><div class=\"comments\" data-content=\"国际石油价格持续坚挺，看好石油产业指数型基金。\">基金特点：国际石油价格持续坚挺，看好石油产业指数型基金。</div></li>  <!--  <li class=\"performanceEvaluation hasLoading\"  style=\"width: 347px; height: 204px;position:relative; display: none;\"><div class=\"jzrq\">截止至：<%=danganModule.YJRQ%></div><div class=\"performanceEvaluation hasLoading\" style=\"width: 327px; height: 160px;\" id=\"performanceEvaluation\"></div><div class=\"comments\">基金特点：<%=danganModule.COMMENTS%></div></li>--></ul></div></div><!-- 基金投资风格 end --><!-- 现任基金经理\\\\基金经理变动一览 start --><div class=\"fund_item popTab fundManager\" id=\"fundManager\"><div class=\"item_title hd\"><div class=\"titleItems tabBtn titleItemActive\"><h3><a href=\"javascript:;\" target=\"_self\">现任基金经理</a></h3></div><div class=\"titleItems tabBtn\"><h3><a href=\"javascript:;\" target=\"_self\">基金经理变动一览</a></h3></div><div class=\"item_more\"><a href=\"http://fundf10.eastmoney.com/jjjl_162411.html\">更多&gt;</a></div></div><div class=\"bd\"><ul><li class=\"hasLoading\"><div class=\"fundManagerWrap\" style=\"position: relative; display: none\"><dl class=\"fundManagerList\"><dt>选择基金经理：</dt><dd class=\"FMlist_Btn fmActive\"></dd><dd class=\"FMlist_Btn\"></dd></dl><div class=\"fundManagerInfo\"><div class=\"ManagerPic\"><img src=\"\" alt=\"\"></div><div class=\"ManagerInfo\"><div class=\"M_name\"></div><div class=\"infoTips M_levels\"></div><div class=\"M_startTit\">累计任职时间：</div><div class=\"M_date\"></div><div class=\"M_fundScaleTit\">现任基金资产规模：</div><div class=\"fundScale\"></div></div><div class=\"fundManagerPower hasLoading\"></div><div class=\"fundProfit hasLoading\"></div><div class=\"fundManagerPower_jzrq\">截止至：--</div><div class=\"fundProfit_jzrq\">截止至：--</div></div></div></li><li class=\"fundManagerTab\" id=\"fundManagerTab\" style=\"display: none;\"><div style=\"height: 168px;\"><table class=\"popTable ui-table-hover\" width=\"100%\" border=\"0\" cellspacing=\"0\" cellpadding=\"0\"><tr><th class=\"th01\">任职时间</th><th class=\"th02\">基金经理</th><th class=\"th03\">任职天数</th><th class=\"th04\">任期回报</th></tr><tr class=\"noBorder\">  <td class=\"td01\">2014-09-18~至今</td>  <td class=\"td02\"><a href=\"http://fund.eastmoney.com/manager/30200459.html\">周晶</a>&nbsp;&nbsp;   </td>  <td class=\"td03\">4年又344天</td>  <td class=\"td04 bold ui-color-green\">-68.16%</td></tr><tr >  <td class=\"td01\">2013-06-18~2014-09-17</td>  <td class=\"td02\"><a href=\"http://fund.eastmoney.com/manager/30200458.html\">施施乐</a>&nbsp;&nbsp;   </td>  <td class=\"td03\">1年又91天</td>  <td class=\"td04 bold ui-color-red\">16.18%</td></tr><tr >  <td class=\"td01\">2011-09-29~2013-06-17</td>  <td class=\"td02\"><a href=\"http://fund.eastmoney.com/manager/30068797.html\">尤柏年</a>&nbsp;&nbsp;   </td>  <td class=\"td03\">1年又262天</td>  <td class=\"td04 bold ui-color-red\">2.30%</td></tr> </table></div><div class=\"poptableWrap_footer\" style=\"width: 100%;\"><a href=\"http://fundf10.eastmoney.com/jjjl_162411.html\" class=\"poptab_more\">更多华宝标普油气上游股票基金经理详情&gt;</a></div></li></ul></div></div><!-- 现任基金经理 end --><!-- 基金要闻 start --><div class=\"fund_item funhalf_left newsList\" style=\"height: 210px;\"><div class=\"item_title\"><div class=\"titleItems tabBtn titleItemActive\"><h3><a href=\"javascript:;\" target=\"_self\">基金要闻</a></h3></div><div class=\"item_more\"><a data-value=\"华宝基金 华宝基金管理有限公司 华宝标普油气上游股票 162411\" class=\"jjywMore\" href=\"javascript:;\" target=\"_self\">更多&gt;</a></div></div><div class=\"newListWrap\"><ul><li><a href=\"http://fund.eastmoney.com/news/1593,201906031140927831.html\">  <span class=\"newsTit\">一周基金热评：2019.5.27-5.</span>  <span class=\"newsData\">06-03</span></a> </li><li><a href=\"http://fund.eastmoney.com/news/1593,201901141026159174.html\">  <span class=\"newsTit\">QDII型基金周报：美联储态度偏鸽 股</span>  <span class=\"newsData\">01-14</span></a> </li><li><a href=\"http://fund.eastmoney.com/news/1593,201901031018693170.html\">  <span class=\"newsTit\">QDII型基金周报：权益市场波动加大 </span>  <span class=\"newsData\">01-03</span></a> </li><li><a href=\"http://finance.eastmoney.com/news/1351,201812201010686346.html\">  <span class=\"newsTit\">国际油价跌势不止 油气类基金净值继续下挫</span>  <span class=\"newsData\">12-20</span></a> </li><li><a href=\"http://futures.eastmoney.com/news/1518,201812191009641850.html\">  <span class=\"newsTit\">国际油价重挫 油气类基金受拖累</span>  <span class=\"newsData\">12-19</span></a> </li>   </ul><div class=\"poptableWrap_footer\" style=\"width: 100%;\"><a data-value=\"华宝基金 华宝基金管理有限公司 华宝标普油气上游股票 162411\" href=\"javascript:;\" target=\"_self\" class=\"poptab_more jjywMore\">更多相关基金要闻&gt;</a></div></div></div><!-- 基金要闻 end --><!-- 基金公告 start --><div class=\"fund_item funhalf_right newsList\" style=\"height: 210px;\"><div class=\"item_title\"><div class=\"titleItems tabBtn titleItemActive\"><h3><a href=\"javascript:;\" target=\"_self\">基金公告</a></h3></div><div class=\"item_more\"><a href=\"http://fundf10.eastmoney.com/jjgg_162411.html\" target=\"_blank\">更多&gt;</a></div></div><div class=\"newListWrap\"><ul><li><a href=\"http://fund.eastmoney.com/gonggao/162411,AN201908261345061956.html\">  <span class=\"newsTit\">华宝基金关于旗下开放式基金参加广州</span>  <span class=\"newsData\">08-26</span></a> </li><li><a href=\"http://fund.eastmoney.com/gonggao/162411,AN201908071342596790.html\">  <span class=\"newsTit\">华宝标普石油天然气上游股票指数证券</span>  <span class=\"newsData\">08-08</span></a> </li><li><a href=\"http://fund.eastmoney.com/gonggao/162411,AN201908061342394883.html\">  <span class=\"newsTit\">华宝基金公司关于旗下开放式基金参加</span>  <span class=\"newsData\">08-06</span></a> </li><li><a href=\"http://fund.eastmoney.com/gonggao/162411,AN201908021342108639.html\">  <span class=\"newsTit\">华宝基金关于华宝标普石油天然气上游</span>  <span class=\"newsData\">08-02</span></a> </li><li><a href=\"http://fund.eastmoney.com/gonggao/162411,AN201907311341806013.html\">  <span class=\"newsTit\">华宝标普石油天然气上游股票指数证券</span>  <span class=\"newsData\">08-01</span></a> </li>   </ul><div class=\"poptableWrap_footer\" style=\"width: 100%;\"><a href=\"http://fundf10.eastmoney.com/jjgg_162411.html\" target=\"_blank\" class=\"poptab_more\">更多相关基金公告&gt;</a></div></div></div><!-- 基金公告 end --><!-- 基金吧 start --><div class=\"fund_item barWrap\" style=\"height: 100%; border-bottom: none;\"><div class=\"item_title\"><div class=\"titleItems tabBtn titleItemActive\"><h3><a href=\"http://guba.eastmoney.com/list,of162411.html\">华宝标普油气上游股票基金吧</a></h3></div><div class=\"item_more\"><a href=\"http://guba.eastmoney.com/type,zg80000250.html\">进入华宝基金公司吧</a></div><div class=\"item_more\"><a href=\"http://guba.eastmoney.com/list,of162411.html\">进入华宝标普油气上游股票基金吧</a></div></div><div class=\"barEssayListWrap\"><table class=\"popTable ui-table-hover\" width=\"100%\" border=\"0\" cellspacing=\"0\" cellpadding=\"0\"><tr class=\"\"><th class=\"th01\">点击</th><th class=\"th02\">回复</th><th class=\"th03\">标题</th><th class=\"th04\">作者</th><th class=\"th05\">最新更新时间</th></tr><tr>  <td class=\"td01\">602</td>  <td class=\"td02\">4</td>  <td class=\"td03\" width=\"60%\"><a href=\"http://guba.eastmoney.com/news,ofof162411,873041536.html\" title=\"今天8/27买进，算哪天的？请教请教各位大侠\">今天8/27买进，算哪天的？请教请教各位大侠</a>  </td>  <td class=\"td04\"><a href=\"http://iguba.eastmoney.com/4656055331780050\" >张长涨长张</a>  </td>  <td class=\"td05\">08-27 19:14</td></tr><tr>  <td class=\"td01\">535</td>  <td class=\"td02\">1</td>  <td class=\"td03\" width=\"60%\"><a href=\"http://guba.eastmoney.com/news,ofof162411,873130738.html\" title=\"美股高位坍塌，石油方面没有利多消息，不跌才怪了。现在开始定投吧\">美股高位坍塌，石油方面没有利多消息，不跌才怪了。现</a>  </td>  <td class=\"td04\"><a href=\"http://iguba.eastmoney.com/7411015041042284\" >叮当喵的秋天</a>  </td>  <td class=\"td05\">08-27 18:27</td></tr><tr>  <td class=\"td01\">3590</td>  <td class=\"td02\">24</td>  <td class=\"td03\" width=\"60%\"><a href=\"http://guba.eastmoney.com/news,ofof162411,871872624.html\" title=\"暴跌了，哈哈，又成功收割一波！一直抄底一直爽，一直爽一直抄底\">暴跌了，哈哈，又成功收割一波！一直抄底一直爽，一直</a>  </td>  <td class=\"td04\"><a href=\"http://iguba.eastmoney.com/1429005319413484\" >基民8aENlb</a>  </td>  <td class=\"td05\">08-27 18:22</td></tr><tr>  <td class=\"td01\">465</td>  <td class=\"td02\">0</td>  <td class=\"td03\" width=\"60%\"><a href=\"http://guba.eastmoney.com/news,ofof162411,873167368.html\" title=\"净值比现不错！！！！！！还以为不涨不跌！！！！\">净值比现不错！！！！！！还以为不涨不跌！！！！</a>  </td>  <td class=\"td04\"><a href=\"http://iguba.eastmoney.com/8873135340316886\" >基民YgUk4O</a>  </td>  <td class=\"td05\">08-27 18:22</td></tr><tr>  <td class=\"td01\">442</td>  <td class=\"td02\">2</td>  <td class=\"td03\" width=\"60%\"><a href=\"http://guba.eastmoney.com/news,ofof162411,873164084.html\" title=\"2个账户\">2个账户</a>  </td>  <td class=\"td04\"><a href=\"http://iguba.eastmoney.com/5461094484231090\" >人生难得几日闲</a>  </td>  <td class=\"td05\">08-27 17:54</td></tr><tr>  <td class=\"td01\">442</td>  <td class=\"td02\">0</td>  <td class=\"td03\" width=\"60%\"><a href=\"http://guba.eastmoney.com/news,ofof162411,873161791.html\" title=\"小双底可能性极大\">小双底可能性极大</a>  </td>  <td class=\"td04\"><a href=\"http://iguba.eastmoney.com/8635094817209398\" >七D影院</a>  </td>  <td class=\"td05\">08-27 17:38</td></tr><tr>  <td class=\"td01\">1070</td>  <td class=\"td02\">4</td>  <td class=\"td03\" width=\"60%\"><a href=\"http://guba.eastmoney.com/news,ofof162411,873136766.html\" title=\"野村预测：从今晚开始美股超级大暴跌将到来，朋友们小心。未来几天都是大暴跌。特此通\">野村预测：从今晚开始美股超级大暴跌将到来，朋友们小</a>  </td>  <td class=\"td04\"><a href=\"http://iguba.eastmoney.com/9035065054548018\" >油气黄金钢铁有色</a>  </td>  <td class=\"td05\">08-27 17:32</td></tr><tr>  <td class=\"td01\">393</td>  <td class=\"td02\">0</td>  <td class=\"td03\" width=\"60%\"><a href=\"http://guba.eastmoney.com/news,ofof162411,873160900.html\" title=\"买这只，什么时间段买是当天净值？\">买这只，什么时间段买是当天净值？</a>  </td>  <td class=\"td04\"><a href=\"http://iguba.eastmoney.com/6856005332929138\" >基民aY1ZYc</a>  </td>  <td class=\"td05\">08-27 17:31</td></tr><tr>  <td class=\"td01\">449</td>  <td class=\"td02\">0</td>  <td class=\"td03\" width=\"60%\"><a href=\"http://guba.eastmoney.com/news,ofof162411,873155350.html\" title=\"涨就零点几个点，跌就几个点\">涨就零点几个点，跌就几个点</a>  </td>  <td class=\"td04\"><a href=\"http://iguba.eastmoney.com/9567355567242086\" >理财日记</a>  </td>  <td class=\"td05\">08-27 17:03</td></tr><tr>  <td class=\"td01\">441</td>  <td class=\"td02\">0</td>  <td class=\"td03\" width=\"60%\"><a href=\"http://guba.eastmoney.com/news,ofof162411,873155254.html\" title=\"我等你到0.24开始抄底\">我等你到0.24开始抄底</a>  </td>  <td class=\"td04\"><a href=\"http://iguba.eastmoney.com/7650125320837178\" >基民Rrwcflsxc</a>  </td>  <td class=\"td05\">08-27 17:02</td></tr><tr>  <td class=\"td01\">522</td>  <td class=\"td02\">0</td>  <td class=\"td03\" width=\"60%\"><a href=\"http://guba.eastmoney.com/news,ofof162411,873154132.html\" title=\"净值算错了吧？莫非周晶调仓了？\">净值算错了吧？莫非周晶调仓了？</a>  </td>  <td class=\"td04\"><a href=\"http://iguba.eastmoney.com/9035065054548018\" >油气黄金钢铁有色</a>  </td>  <td class=\"td05\">08-27 16:57</td></tr><tr>  <td class=\"td01\">345</td>  <td class=\"td02\">0</td>  <td class=\"td03\" width=\"60%\"><a href=\"http://guba.eastmoney.com/news,ofof162411,873149568.html\" title=\"0.378\">0.378</a>  </td>  <td class=\"td04\"><a href=\"http://iguba.eastmoney.com/1408074688791148\" >股友pqr7PU</a>  </td>  <td class=\"td05\">08-27 16:35</td></tr><tr>  <td class=\"td01\">1994</td>  <td class=\"td02\">8</td>  <td class=\"td03\" width=\"60%\"><a href=\"http://guba.eastmoney.com/news,ofof162411,871865717.html\" title=\"把全部流动资金都投进来了。。。\">把全部流动资金都投进来了。。。</a>  </td>  <td class=\"td04\"><a href=\"http://iguba.eastmoney.com/4764125426301390\" >基民8PdCKw</a>  </td>  <td class=\"td05\">08-27 16:33</td></tr><tr>  <td class=\"td01\">1017</td>  <td class=\"td02\">3</td>  <td class=\"td03\" width=\"60%\"><a href=\"http://guba.eastmoney.com/news,ofof162411,872318882.html\" title=\"原油大涨今晚无忧了\">原油大涨今晚无忧了</a>  </td>  <td class=\"td04\"><a href=\"http://iguba.eastmoney.com/8544054630462160\" >股友9xDwjF</a>  </td>  <td class=\"td05\">08-27 16:26</td></tr><tr>  <td class=\"td01\">1229</td>  <td class=\"td02\">4</td>  <td class=\"td03\" width=\"60%\"><a href=\"http://guba.eastmoney.com/news,ofof162411,872623402.html\" title=\"23号3点前买的，净值算多少？\">23号3点前买的，净值算多少？</a>  </td>  <td class=\"td04\"><a href=\"http://iguba.eastmoney.com/1636055325819170\" >开拖拉机进京</a>  </td>  <td class=\"td05\">08-27 16:25</td></tr><tr>  <td class=\"td01\">401</td>  <td class=\"td02\">0</td>  <td class=\"td03\" width=\"60%\"><a href=\"http://guba.eastmoney.com/news,ofof162411,873147095.html\" title=\"今天出净值怎么这么早？\">今天出净值怎么这么早？</a>  </td>  <td class=\"td04\"><a href=\"http://iguba.eastmoney.com/5461094484231090\" >人生难得几日闲</a>  </td>  <td class=\"td05\">08-27 16:24</td></tr><tr>  <td class=\"td01\">1527</td>  <td class=\"td02\">9</td>  <td class=\"td03\" width=\"60%\"><a href=\"http://guba.eastmoney.com/news,ofof162411,872099068.html\" title=\"请问，今天买入按哪天价格？\">请问，今天买入按哪天价格？</a>  </td>  <td class=\"td04\"><a href=\"http://iguba.eastmoney.com/4379085372314970\" >韭菜鸡蛋我最爱</a>  </td>  <td class=\"td05\">08-27 16:24</td></tr><tr>  <td class=\"td01\">411</td>  <td class=\"td02\">0</td>  <td class=\"td03\" width=\"60%\"><a href=\"http://guba.eastmoney.com/news,ofof162411,873145797.html\" title=\"这个基金怎么算的？我23号买的，今天还没有确认份额\">这个基金怎么算的？我23号买的，今天还没有确认份额</a>  </td>  <td class=\"td04\"><a href=\"http://iguba.eastmoney.com/1636055325819170\" >开拖拉机进京</a>  </td>  <td class=\"td05\">08-27 16:16</td></tr><tr>  <td class=\"td01\">501</td>  <td class=\"td02\">0</td>  <td class=\"td03\" width=\"60%\"><a href=\"http://guba.eastmoney.com/news,ofof162411,873145495.html\" title=\"跟踪原油指数，此原油基金已在低位，越跌越买，4毛都买了，3毛多为什么不买，多积攒\">跟踪原油指数，此原油基金已在低位，越跌越买，4毛都</a>  </td>  <td class=\"td04\"><a href=\"http://iguba.eastmoney.com/7984055324973426\" >基民0uCS3W</a>  </td>  <td class=\"td05\">08-27 16:14</td></tr><tr>  <td class=\"td01\">606</td>  <td class=\"td02\">2</td>  <td class=\"td03\" width=\"60%\"><a href=\"http://guba.eastmoney.com/news,ofof162411,873106462.html\" title=\"交易理由:今天涨，明天跌，这都很正常，所以，今天买，明天卖，也很正常。为了这50\">交易理由:今天涨，明天跌，这都很正常，所以，今天买</a>  </td>  <td class=\"td04\"><a href=\"http://iguba.eastmoney.com/5117015426772794\" >基民tTFBgP</a>  </td>  <td class=\"td05\">08-27 16:03</td></tr>   </table><div class=\"poptableWrap_footer\" style=\"width: 100%;\"><a href=\"http://guba.eastmoney.com/list,of162411.html\" class=\"poptab_more\">查看更多华宝标普油气上游股票基金吧&gt;</a></div></div><div class=\"lazy upLoadUserEssay\" data-url=\"http://gubawebapi.eastmoney.com/page/fund_editor/dest/editor.html?width=751&s=of162411&logincb=http://fund.eastmoney.com/162411.html\" data-h=\"240\" data-w=\"751\"></div></div><!-- 基金吧 end --></div><div class=\"quotationItem_right\"><!-- AdSame ShowCode: 东方财富网 / 新基金品种 / 基金品种页右侧按钮一 Begin --><div class=\"lazy adr01\" data-url=\"http://same.eastmoney.com/s?z=eastmoney&c=1332&op=1\" data-h=\"244\" data-w=\"238\"></div><!-- AdSame ShowCode: 东方财富网 / 新基金品种 / 基金品种页右侧按钮一 End --><!-- 同类基金涨幅榜 start --><div class=\"fund_item rankInSimilar\"><div class=\"item_title white_bg\"><div class=\"titleItems\"><h3><a href=\"http://fund.eastmoney.com/data/fundranking.html#tqdii;c0;r;szzf;ddesc;qsd20121105;qed20131105;qdii\" target=\"_blank\" class=\"ui-blod\">同类基金涨幅榜</a></h3></div><div class=\"item_more\"><a href=\"http://fund.eastmoney.com/data/fundranking.html#tqdii;c0;r;szzf;ddesc;qsd20121105;qed20131105;qdii\" target=\"_blank\">更多&gt;</a></div></div><div class=\"rankInSimilarWrap buyFundItemMain popTab\"><div class=\"hd\"><ul><li class=\"tabBtn titleItemActive\"><span>全部</span></li><li class=\"tabBtn\"><span>日涨幅</span></li><li class=\"tabBtn\"><span>近1周</span></li><li class=\"hasSelect __onhover\"><span class=\"sel_more\">更多</span><div class=\"sel_warp\"><a href=\"javascript:;\" target=\"_self\">近1月</a><a href=\"javascript:;\" target=\"_self\">近3月</a><a href=\"javascript:;\" target=\"_self\">近6月</a><a href=\"javascript:;\" target=\"_self\">今年来</a><a href=\"javascript:;\" target=\"_self\">近1年</a><a href=\"javascript:;\" target=\"_self\">近2年</a><a href=\"javascript:;\" target=\"_self\">近3年</a></div></li></ul></div><div class=\"bd\"><ul><li class=\"titleItemActive\" id=\"titleItemActive0\" style=\"\">  <div class=\"buyFundItemWrap\"> <div class=\"buyFundItem \" >  <div class=\"buyFundItem_fundMsg\"><a class=\"shortName\" href=\"http://fund.eastmoney.com/161116.html\"  title=\"易方达黄金主题\">易方达黄金主题</a><p>  <span class=\"buyFundItem_date\">日涨幅</span>  <span class=\"buyFundItem_rate ui-color-red\">2.40%</span></p>  </div>  <div class=\"buyFundItem_buy\"><a class=\"buyFundA \" href=\"https://trade.1234567.com.cn/FundtradePage/default2.aspx?fc=161116&spm=pzm\" target=\"_blank\">购买</a>  </div>   </div> <div class=\"buyFundItem \" >  <div class=\"buyFundItem_fundMsg\"><a class=\"shortName\" href=\"http://fund.eastmoney.com/519602.html\"  title=\"海富通大中华混合(QDII)\">海富通大中华混合(QD</a><p>  <span class=\"buyFundItem_date\">近1周</span>  <span class=\"buyFundItem_rate ui-color-red\">5.47%</span></p>  </div>  <div class=\"buyFundItem_buy\"><a class=\"buyFundA \" href=\"https://trade.1234567.com.cn/FundtradePage/default2.aspx?fc=519602&spm=pzm\" target=\"_blank\">购买</a>  </div>   </div> <div class=\"buyFundItem \" >  <div class=\"buyFundItem_fundMsg\"><a class=\"shortName\" href=\"http://fund.eastmoney.com/001984.html\"  title=\"上投摩根中国生物医药(QDII)\">上投摩根中国生物医药(</a><p>  <span class=\"buyFundItem_date\">近1月</span>  <span class=\"buyFundItem_rate ui-color-red\">11.06%</span></p>  </div>  <div class=\"buyFundItem_buy\"><a class=\"buyFundA \" href=\"https://trade.1234567.com.cn/FundtradePage/default2.aspx?fc=001984&spm=pzm\" target=\"_blank\">购买</a>  </div>   </div> <div class=\"buyFundItem \" >  <div class=\"buyFundItem_fundMsg\"><a class=\"shortName\" href=\"http://fund.eastmoney.com/161116.html\"  title=\"易方达黄金主题\">易方达黄金主题</a><p>  <span class=\"buyFundItem_date\">近3月</span>  <span class=\"buyFundItem_rate ui-color-red\">27.69%</span></p>  </div>  <div class=\"buyFundItem_buy\"><a class=\"buyFundA \" href=\"https://trade.1234567.com.cn/FundtradePage/default2.aspx?fc=161116&spm=pzm\" target=\"_blank\">购买</a>  </div>   </div> <div class=\"buyFundItem \" >  <div class=\"buyFundItem_fundMsg\"><a class=\"shortName\" href=\"http://fund.eastmoney.com/000076.html\"  title=\"华夏恒生ETF联接现钞\">华夏恒生ETF联接现钞</a><p>  <span class=\"buyFundItem_date\">近6月</span>  <span class=\"buyFundItem_rate ui-color-red\">33.45%</span></p>  </div>  <div class=\"buyFundItem_buy\"><a class=\"buyFundA unbuy\" href=\"javascript:;\" target=\"_self\">购买</a>  </div>   </div> <div class=\"buyFundItem \" >  <div class=\"buyFundItem_fundMsg\"><a class=\"shortName\" href=\"http://fund.eastmoney.com/000076.html\"  title=\"华夏恒生ETF联接现钞\">华夏恒生ETF联接现钞</a><p>  <span class=\"buyFundItem_date\">今年来</span>  <span class=\"buyFundItem_rate ui-color-red\">33.45%</span></p>  </div>  <div class=\"buyFundItem_buy\"><a class=\"buyFundA unbuy\" href=\"javascript:;\" target=\"_self\">购买</a>  </div>   </div> <div class=\"buyFundItem noBg\" >  <div class=\"buyFundItem_fundMsg\"><a class=\"shortName\" href=\"http://fund.eastmoney.com/000076.html\"  title=\"华夏恒生ETF联接现钞\">华夏恒生ETF联接现钞</a><p>  <span class=\"buyFundItem_date\">近1年</span>  <span class=\"buyFundItem_rate ui-color-red\">33.45%</span></p>  </div>  <div class=\"buyFundItem_buy\"><a class=\"buyFundA unbuy\" href=\"javascript:;\" target=\"_self\">购买</a>  </div>   </div>  </div>  <div class=\"poptableWrap_footer\" style=\"width:100%;\"><a href=\"http://fund.eastmoney.com/data/fundranking.html#tqdii;c0;r;szzf;ddesc;qsd20121105;qed20131105;qdii\" class=\"poptab_more\">全部同类基金&gt;</a>  </div></li><li class=\"titleItemActive\" id=\"titleItemActive1\" style=\"display:none\">  <div class=\"buyFundItemWrap\"> <div class=\"buyFundItem  \" >  <div class=\"buyFundItem_fundMsg\"><span class=\"buyFundItem_index\">1</span><a class=\"shortName\" href=\"http://fund.eastmoney.com/161116.html\" title=\"易方达黄金主题\">易方达黄金主题</a><p>  <span class=\"buyFundItem_date\">日涨幅</span>  <span class=\"buyFundItem_rate ui-color-red\">2.40%</span></p>  </div>  <div class=\"buyFundItem_buy\"><a class=\"buyFundA \"  href=\"https://trade.1234567.com.cn/FundtradePage/default2.aspx?fc=161116&spm=pzm\" target=\"_blank\">购买</a>  </div>   </div> <div class=\"buyFundItem  \" >  <div class=\"buyFundItem_fundMsg\"><span class=\"buyFundItem_index\">2</span><a class=\"shortName\" href=\"http://fund.eastmoney.com/001984.html\" title=\"上投摩根中国生物医药(QDII)\">上投摩根中国生物医药(</a><p>  <span class=\"buyFundItem_date\">日涨幅</span>  <span class=\"buyFundItem_rate ui-color-red\">2.28%</span></p>  </div>  <div class=\"buyFundItem_buy\"><a class=\"buyFundA \"  href=\"https://trade.1234567.com.cn/FundtradePage/default2.aspx?fc=001984&spm=pzm\" target=\"_blank\">购买</a>  </div>   </div> <div class=\"buyFundItem  \" >  <div class=\"buyFundItem_fundMsg\"><span class=\"buyFundItem_index\">3</span><a class=\"shortName\" href=\"http://fund.eastmoney.com/160719.html\" title=\"嘉实黄金\">嘉实黄金</a><p>  <span class=\"buyFundItem_date\">日涨幅</span>  <span class=\"buyFundItem_rate ui-color-red\">1.90%</span></p>  </div>  <div class=\"buyFundItem_buy\"><a class=\"buyFundA \"  href=\"https://trade.1234567.com.cn/FundtradePage/default2.aspx?fc=160719&spm=pzm\" target=\"_blank\">购买</a>  </div>   </div> <div class=\"buyFundItem  \" >  <div class=\"buyFundItem_fundMsg\"><span class=\"buyFundItem_index\">4</span><a class=\"shortName\" href=\"http://fund.eastmoney.com/320013.html\" title=\"诺安全球黄金\">诺安全球黄金</a><p>  <span class=\"buyFundItem_date\">日涨幅</span>  <span class=\"buyFundItem_rate ui-color-red\">1.78%</span></p>  </div>  <div class=\"buyFundItem_buy\"><a class=\"buyFundA \"  href=\"https://trade.1234567.com.cn/FundtradePage/default2.aspx?fc=320013&spm=pzm\" target=\"_blank\">购买</a>  </div>   </div> <div class=\"buyFundItem  \" >  <div class=\"buyFundItem_fundMsg\"><span class=\"buyFundItem_index\">5</span><a class=\"shortName\" href=\"http://fund.eastmoney.com/164824.html\" title=\"工银印度基金人民币\">工银印度基金人民币</a><p>  <span class=\"buyFundItem_date\">日涨幅</span>  <span class=\"buyFundItem_rate ui-color-red\">1.68%</span></p>  </div>  <div class=\"buyFundItem_buy\"><a class=\"buyFundA \"  href=\"https://trade.1234567.com.cn/FundtradePage/default2.aspx?fc=164824&spm=pzm\" target=\"_blank\">购买</a>  </div>   </div> <div class=\"buyFundItem  \" >  <div class=\"buyFundItem_fundMsg\"><span class=\"buyFundItem_index\">6</span><a class=\"shortName\" href=\"http://fund.eastmoney.com/005801.html\" title=\"工银印度基金美元\">工银印度基金美元</a><p>  <span class=\"buyFundItem_date\">日涨幅</span>  <span class=\"buyFundItem_rate ui-color-red\">1.56%</span></p>  </div>  <div class=\"buyFundItem_buy\"><a class=\"buyFundA unbuy\"  href=\"javascript:;\" target=\"_self\">购买</a>  </div>   </div> <div class=\"buyFundItem buyFundItem_fundSelf noBg\" >  <div class=\"buyFundItem_fundMsg\"><span class=\"buyFundItem_index\">260</span><a class=\"shortName\" href=\"http://fund.eastmoney.com/162411.html\" title=\"华宝标普油气上游股票\">华宝标普油气上游股票</a><p>  <span class=\"buyFundItem_date\">日涨幅</span>  <span class=\"buyFundItem_rate ui-color-green\">-5.50%</span></p>  </div>  <div class=\"buyFundItem_buy\"><a class=\"buyFundA \"  href=\"https://trade.1234567.com.cn/FundtradePage/default2.aspx?fc=162411&spm=pzm\" target=\"_blank\">购买</a>  </div>   </div>  </div>  <div class=\"poptableWrap_footer\" style=\"width:100%;\"><a href=\"http://fund.eastmoney.com/data/fundranking.html#tqdii;c0;r;szzf;ddesc;qsd20121105;qed20131105;qdii\" class=\"poptab_more\">全部同类基金&gt;</a>  </div></li><li class=\"titleItemActive\" id=\"titleItemActive2\" style=\"display:none\">  <div class=\"buyFundItemWrap\"> <div class=\"buyFundItem  \" >  <div class=\"buyFundItem_fundMsg\"><span class=\"buyFundItem_index\">1</span><a class=\"shortName\" href=\"http://fund.eastmoney.com/519602.html\" title=\"海富通大中华混合(QDII)\">海富通大中华混合(QD</a><p>  <span class=\"buyFundItem_date\">近1周</span>  <span class=\"buyFundItem_rate ui-color-red\">5.47%</span></p>  </div>  <div class=\"buyFundItem_buy\"><a class=\"buyFundA \"  href=\"https://trade.1234567.com.cn/FundtradePage/default2.aspx?fc=519602&spm=pzm\" target=\"_blank\">购买</a>  </div>   </div> <div class=\"buyFundItem  \" >  <div class=\"buyFundItem_fundMsg\"><span class=\"buyFundItem_index\">2</span><a class=\"shortName\" href=\"http://fund.eastmoney.com/519601.html\" title=\"海富通中国海外混合\">海富通中国海外混合</a><p>  <span class=\"buyFundItem_date\">近1周</span>  <span class=\"buyFundItem_rate ui-color-red\">5.02%</span></p>  </div>  <div class=\"buyFundItem_buy\"><a class=\"buyFundA \"  href=\"https://trade.1234567.com.cn/FundtradePage/default2.aspx?fc=519601&spm=pzm\" target=\"_blank\">购买</a>  </div>   </div> <div class=\"buyFundItem  \" >  <div class=\"buyFundItem_fundMsg\"><span class=\"buyFundItem_index\">3</span><a class=\"shortName\" href=\"http://fund.eastmoney.com/002380.html\" title=\"工银香港中小盘美元\">工银香港中小盘美元</a><p>  <span class=\"buyFundItem_date\">近1周</span>  <span class=\"buyFundItem_rate ui-color-red\">4.72%</span></p>  </div>  <div class=\"buyFundItem_buy\"><a class=\"buyFundA unbuy\"  href=\"javascript:;\" target=\"_self\">购买</a>  </div>   </div> <div class=\"buyFundItem  \" >  <div class=\"buyFundItem_fundMsg\"><span class=\"buyFundItem_index\">4</span><a class=\"shortName\" href=\"http://fund.eastmoney.com/040018.html\" title=\"华安香港精选股票(QDII)\">华安香港精选股票(QD</a><p>  <span class=\"buyFundItem_date\">近1周</span>  <span class=\"buyFundItem_rate ui-color-red\">4.61%</span></p>  </div>  <div class=\"buyFundItem_buy\"><a class=\"buyFundA \"  href=\"https://trade.1234567.com.cn/FundtradePage/default2.aspx?fc=040018&spm=pzm\" target=\"_blank\">购买</a>  </div>   </div> <div class=\"buyFundItem  \" >  <div class=\"buyFundItem_fundMsg\"><span class=\"buyFundItem_index\">5</span><a class=\"shortName\" href=\"http://fund.eastmoney.com/003243.html\" title=\"上投摩根中国世纪人民币\">上投摩根中国世纪人民币</a><p>  <span class=\"buyFundItem_date\">近1周</span>  <span class=\"buyFundItem_rate ui-color-red\">3.93%</span></p>  </div>  <div class=\"buyFundItem_buy\"><a class=\"buyFundA \"  href=\"https://trade.1234567.com.cn/FundtradePage/default2.aspx?fc=003243&spm=pzm\" target=\"_blank\">购买</a>  </div>   </div> <div class=\"buyFundItem  \" >  <div class=\"buyFundItem_fundMsg\"><span class=\"buyFundItem_index\">6</span><a class=\"shortName\" href=\"http://fund.eastmoney.com/040021.html\" title=\"华安大中华升级股票\">华安大中华升级股票</a><p>  <span class=\"buyFundItem_date\">近1周</span>  <span class=\"buyFundItem_rate ui-color-red\">3.68%</span></p>  </div>  <div class=\"buyFundItem_buy\"><a class=\"buyFundA \"  href=\"https://trade.1234567.com.cn/FundtradePage/default2.aspx?fc=040021&spm=pzm\" target=\"_blank\">购买</a>  </div>   </div> <div class=\"buyFundItem buyFundItem_fundSelf noBg\" >  <div class=\"buyFundItem_fundMsg\"><span class=\"buyFundItem_index\">264</span><a class=\"shortName\" href=\"http://fund.eastmoney.com/162411.html\" title=\"华宝标普油气上游股票\">华宝标普油气上游股票</a><p>  <span class=\"buyFundItem_date\">近1周</span>  <span class=\"buyFundItem_rate ui-color-green\">-5.50%</span></p>  </div>  <div class=\"buyFundItem_buy\"><a class=\"buyFundA \"  href=\"https://trade.1234567.com.cn/FundtradePage/default2.aspx?fc=162411&spm=pzm\" target=\"_blank\">购买</a>  </div>   </div>  </div>  <div class=\"poptableWrap_footer\" style=\"width:100%;\"><a href=\"http://fund.eastmoney.com/data/fundranking.html#tqdii;c0;r;szzf;ddesc;qsd20121105;qed20131105;qdii\" class=\"poptab_more\">全部同类基金&gt;</a>  </div></li><li class=\"titleItemActive\" id=\"titleItemActive3\" style=\"display:none\">  <div class=\"buyFundItemWrap\"> <div class=\"buyFundItem  \" >  <div class=\"buyFundItem_fundMsg\"><span class=\"buyFundItem_index\">1</span><a class=\"shortName\" href=\"http://fund.eastmoney.com/001984.html\" title=\"上投摩根中国生物医药(QDII)\">上投摩根中国生物医药(</a><p>  <span class=\"buyFundItem_date\">近1月</span>  <span class=\"buyFundItem_rate ui-color-red\">11.06%</span></p>  </div>  <div class=\"buyFundItem_buy\"><a class=\"buyFundA \"  href=\"https://trade.1234567.com.cn/FundtradePage/default2.aspx?fc=001984&spm=pzm\" target=\"_blank\">购买</a>  </div>   </div> <div class=\"buyFundItem  \" >  <div class=\"buyFundItem_fundMsg\"><span class=\"buyFundItem_index\">2</span><a class=\"shortName\" href=\"http://fund.eastmoney.com/164701.html\" title=\"汇添富黄金及贵金属\">汇添富黄金及贵金属</a><p>  <span class=\"buyFundItem_date\">近1月</span>  <span class=\"buyFundItem_rate ui-color-red\">9.90%</span></p>  </div>  <div class=\"buyFundItem_buy\"><a class=\"buyFundA \"  href=\"https://trade.1234567.com.cn/FundtradePage/default2.aspx?fc=164701&spm=pzm\" target=\"_blank\">购买</a>  </div>   </div> <div class=\"buyFundItem  \" >  <div class=\"buyFundItem_fundMsg\"><span class=\"buyFundItem_index\">3</span><a class=\"shortName\" href=\"http://fund.eastmoney.com/320013.html\" title=\"诺安全球黄金\">诺安全球黄金</a><p>  <span class=\"buyFundItem_date\">近1月</span>  <span class=\"buyFundItem_rate ui-color-red\">9.71%</span></p>  </div>  <div class=\"buyFundItem_buy\"><a class=\"buyFundA \"  href=\"https://trade.1234567.com.cn/FundtradePage/default2.aspx?fc=320013&spm=pzm\" target=\"_blank\">购买</a>  </div>   </div> <div class=\"buyFundItem  \" >  <div class=\"buyFundItem_fundMsg\"><span class=\"buyFundItem_index\">4</span><a class=\"shortName\" href=\"http://fund.eastmoney.com/160719.html\" title=\"嘉实黄金\">嘉实黄金</a><p>  <span class=\"buyFundItem_date\">近1月</span>  <span class=\"buyFundItem_rate ui-color-red\">9.58%</span></p>  </div>  <div class=\"buyFundItem_buy\"><a class=\"buyFundA \"  href=\"https://trade.1234567.com.cn/FundtradePage/default2.aspx?fc=160719&spm=pzm\" target=\"_blank\">购买</a>  </div>   </div> <div class=\"buyFundItem  \" >  <div class=\"buyFundItem_fundMsg\"><span class=\"buyFundItem_index\">5</span><a class=\"shortName\" href=\"http://fund.eastmoney.com/161116.html\" title=\"易方达黄金主题\">易方达黄金主题</a><p>  <span class=\"buyFundItem_date\">近1月</span>  <span class=\"buyFundItem_rate ui-color-red\">7.03%</span></p>  </div>  <div class=\"buyFundItem_buy\"><a class=\"buyFundA \"  href=\"https://trade.1234567.com.cn/FundtradePage/default2.aspx?fc=161116&spm=pzm\" target=\"_blank\">购买</a>  </div>   </div> <div class=\"buyFundItem  \" >  <div class=\"buyFundItem_fundMsg\"><span class=\"buyFundItem_index\">6</span><a class=\"shortName\" href=\"http://fund.eastmoney.com/002891.html\" title=\"华夏移动互联混合人民币\">华夏移动互联混合人民币</a><p>  <span class=\"buyFundItem_date\">近1月</span>  <span class=\"buyFundItem_rate ui-color-red\">6.04%</span></p>  </div>  <div class=\"buyFundItem_buy\"><a class=\"buyFundA \"  href=\"https://trade.1234567.com.cn/FundtradePage/default2.aspx?fc=002891&spm=pzm\" target=\"_blank\">购买</a>  </div>   </div> <div class=\"buyFundItem buyFundItem_fundSelf noBg\" >  <div class=\"buyFundItem_fundMsg\"><span class=\"buyFundItem_index\">264</span><a class=\"shortName\" href=\"http://fund.eastmoney.com/162411.html\" title=\"华宝标普油气上游股票\">华宝标普油气上游股票</a><p>  <span class=\"buyFundItem_date\">近1月</span>  <span class=\"buyFundItem_rate ui-color-green\">-10.00%</span></p>  </div>  <div class=\"buyFundItem_buy\"><a class=\"buyFundA \"  href=\"https://trade.1234567.com.cn/FundtradePage/default2.aspx?fc=162411&spm=pzm\" target=\"_blank\">购买</a>  </div>   </div>  </div>  <div class=\"poptableWrap_footer\" style=\"width:100%;\"><a href=\"http://fund.eastmoney.com/data/fundranking.html#tqdii;c0;r;szzf;ddesc;qsd20121105;qed20131105;qdii\" class=\"poptab_more\">全部同类基金&gt;</a>  </div></li><li class=\"titleItemActive\" id=\"titleItemActive4\" style=\"display:none\">  <div class=\"buyFundItemWrap\"> <div class=\"buyFundItem  \" >  <div class=\"buyFundItem_fundMsg\"><span class=\"buyFundItem_index\">1</span><a class=\"shortName\" href=\"http://fund.eastmoney.com/161116.html\" title=\"易方达黄金主题\">易方达黄金主题</a><p>  <span class=\"buyFundItem_date\">近3月</span>  <span class=\"buyFundItem_rate ui-color-red\">27.69%</span></p>  </div>  <div class=\"buyFundItem_buy\"><a class=\"buyFundA \"  href=\"https://trade.1234567.com.cn/FundtradePage/default2.aspx?fc=161116&spm=pzm\" target=\"_blank\">购买</a>  </div>   </div> <div class=\"buyFundItem  \" >  <div class=\"buyFundItem_fundMsg\"><span class=\"buyFundItem_index\">2</span><a class=\"shortName\" href=\"http://fund.eastmoney.com/164701.html\" title=\"汇添富黄金及贵金属\">汇添富黄金及贵金属</a><p>  <span class=\"buyFundItem_date\">近3月</span>  <span class=\"buyFundItem_rate ui-color-red\">20.16%</span></p>  </div>  <div class=\"buyFundItem_buy\"><a class=\"buyFundA \"  href=\"https://trade.1234567.com.cn/FundtradePage/default2.aspx?fc=164701&spm=pzm\" target=\"_blank\">购买</a>  </div>   </div> <div class=\"buyFundItem  \" >  <div class=\"buyFundItem_fundMsg\"><span class=\"buyFundItem_index\">3</span><a class=\"shortName\" href=\"http://fund.eastmoney.com/320013.html\" title=\"诺安全球黄金\">诺安全球黄金</a><p>  <span class=\"buyFundItem_date\">近3月</span>  <span class=\"buyFundItem_rate ui-color-red\">20.15%</span></p>  </div>  <div class=\"buyFundItem_buy\"><a class=\"buyFundA \"  href=\"https://trade.1234567.com.cn/FundtradePage/default2.aspx?fc=320013&spm=pzm\" target=\"_blank\">购买</a>  </div>   </div> <div class=\"buyFundItem  \" >  <div class=\"buyFundItem_fundMsg\"><span class=\"buyFundItem_index\">4</span><a class=\"shortName\" href=\"http://fund.eastmoney.com/160719.html\" title=\"嘉实黄金\">嘉实黄金</a><p>  <span class=\"buyFundItem_date\">近3月</span>  <span class=\"buyFundItem_rate ui-color-red\">19.83%</span></p>  </div>  <div class=\"buyFundItem_buy\"><a class=\"buyFundA \"  href=\"https://trade.1234567.com.cn/FundtradePage/default2.aspx?fc=160719&spm=pzm\" target=\"_blank\">购买</a>  </div>   </div> <div class=\"buyFundItem  \" >  <div class=\"buyFundItem_fundMsg\"><span class=\"buyFundItem_index\">5</span><a class=\"shortName\" href=\"http://fund.eastmoney.com/001984.html\" title=\"上投摩根中国生物医药(QDII)\">上投摩根中国生物医药(</a><p>  <span class=\"buyFundItem_date\">近3月</span>  <span class=\"buyFundItem_rate ui-color-red\">17.45%</span></p>  </div>  <div class=\"buyFundItem_buy\"><a class=\"buyFundA \"  href=\"https://trade.1234567.com.cn/FundtradePage/default2.aspx?fc=001984&spm=pzm\" target=\"_blank\">购买</a>  </div>   </div> <div class=\"buyFundItem  \" >  <div class=\"buyFundItem_fundMsg\"><span class=\"buyFundItem_index\">6</span><a class=\"shortName\" href=\"http://fund.eastmoney.com/006308.html\" title=\"汇添富全球消费混合人民币A\">汇添富全球消费混合人民</a><p>  <span class=\"buyFundItem_date\">近3月</span>  <span class=\"buyFundItem_rate ui-color-red\">14.51%</span></p>  </div>  <div class=\"buyFundItem_buy\"><a class=\"buyFundA \"  href=\"https://trade.1234567.com.cn/FundtradePage/default2.aspx?fc=006308&spm=pzm\" target=\"_blank\">购买</a>  </div>   </div> <div class=\"buyFundItem buyFundItem_fundSelf noBg\" >  <div class=\"buyFundItem_fundMsg\"><span class=\"buyFundItem_index\">254</span><a class=\"shortName\" href=\"http://fund.eastmoney.com/162411.html\" title=\"华宝标普油气上游股票\">华宝标普油气上游股票</a><p>  <span class=\"buyFundItem_date\">近3月</span>  <span class=\"buyFundItem_rate ui-color-green\">-19.57%</span></p>  </div>  <div class=\"buyFundItem_buy\"><a class=\"buyFundA \"  href=\"https://trade.1234567.com.cn/FundtradePage/default2.aspx?fc=162411&spm=pzm\" target=\"_blank\">购买</a>  </div>   </div>  </div>  <div class=\"poptableWrap_footer\" style=\"width:100%;\"><a href=\"http://fund.eastmoney.com/data/fundranking.html#tqdii;c0;r;szzf;ddesc;qsd20121105;qed20131105;qdii\" class=\"poptab_more\">全部同类基金&gt;</a>  </div></li><li class=\"titleItemActive\" id=\"titleItemActive5\" style=\"display:none\">  <div class=\"buyFundItemWrap\"> <div class=\"buyFundItem  \" >  <div class=\"buyFundItem_fundMsg\"><span class=\"buyFundItem_index\">1</span><a class=\"shortName\" href=\"http://fund.eastmoney.com/000076.html\" title=\"华夏恒生ETF联接现钞\">华夏恒生ETF联接现钞</a><p>  <span class=\"buyFundItem_date\">近6月</span>  <span class=\"buyFundItem_rate ui-color-red\">33.45%</span></p>  </div>  <div class=\"buyFundItem_buy\"><a class=\"buyFundA unbuy\"  href=\"javascript:;\" target=\"_self\">购买</a>  </div>   </div> <div class=\"buyFundItem  \" >  <div class=\"buyFundItem_fundMsg\"><span class=\"buyFundItem_index\">2</span><a class=\"shortName\" href=\"http://fund.eastmoney.com/006308.html\" title=\"汇添富全球消费混合人民币A\">汇添富全球消费混合人民</a><p>  <span class=\"buyFundItem_date\">近6月</span>  <span class=\"buyFundItem_rate ui-color-red\">23.86%</span></p>  </div>  <div class=\"buyFundItem_buy\"><a class=\"buyFundA \"  href=\"https://trade.1234567.com.cn/FundtradePage/default2.aspx?fc=006308&spm=pzm\" target=\"_blank\">购买</a>  </div>   </div> <div class=\"buyFundItem  \" >  <div class=\"buyFundItem_fundMsg\"><span class=\"buyFundItem_index\">3</span><a class=\"shortName\" href=\"http://fund.eastmoney.com/006309.html\" title=\"汇添富全球消费混合人民币C\">汇添富全球消费混合人民</a><p>  <span class=\"buyFundItem_date\">近6月</span>  <span class=\"buyFundItem_rate ui-color-red\">23.16%</span></p>  </div>  <div class=\"buyFundItem_buy\"><a class=\"buyFundA \"  href=\"https://trade.1234567.com.cn/FundtradePage/default2.aspx?fc=006309&spm=pzm\" target=\"_blank\">购买</a>  </div>   </div> <div class=\"buyFundItem  \" >  <div class=\"buyFundItem_fundMsg\"><span class=\"buyFundItem_index\">4</span><a class=\"shortName\" href=\"http://fund.eastmoney.com/164701.html\" title=\"汇添富黄金及贵金属\">汇添富黄金及贵金属</a><p>  <span class=\"buyFundItem_date\">近6月</span>  <span class=\"buyFundItem_rate ui-color-red\">19.19%</span></p>  </div>  <div class=\"buyFundItem_buy\"><a class=\"buyFundA \"  href=\"https://trade.1234567.com.cn/FundtradePage/default2.aspx?fc=164701&spm=pzm\" target=\"_blank\">购买</a>  </div>   </div> <div class=\"buyFundItem  \" >  <div class=\"buyFundItem_fundMsg\"><span class=\"buyFundItem_index\">5</span><a class=\"shortName\" href=\"http://fund.eastmoney.com/320013.html\" title=\"诺安全球黄金\">诺安全球黄金</a><p>  <span class=\"buyFundItem_date\">近6月</span>  <span class=\"buyFundItem_rate ui-color-red\">18.97%</span></p>  </div>  <div class=\"buyFundItem_buy\"><a class=\"buyFundA \"  href=\"https://trade.1234567.com.cn/FundtradePage/default2.aspx?fc=320013&spm=pzm\" target=\"_blank\">购买</a>  </div>   </div> <div class=\"buyFundItem  \" >  <div class=\"buyFundItem_fundMsg\"><span class=\"buyFundItem_index\">6</span><a class=\"shortName\" href=\"http://fund.eastmoney.com/161116.html\" title=\"易方达黄金主题\">易方达黄金主题</a><p>  <span class=\"buyFundItem_date\">近6月</span>  <span class=\"buyFundItem_rate ui-color-red\">18.80%</span></p>  </div>  <div class=\"buyFundItem_buy\"><a class=\"buyFundA \"  href=\"https://trade.1234567.com.cn/FundtradePage/default2.aspx?fc=161116&spm=pzm\" target=\"_blank\">购买</a>  </div>   </div> <div class=\"buyFundItem buyFundItem_fundSelf noBg\" >  <div class=\"buyFundItem_fundMsg\"><span class=\"buyFundItem_index\">250</span><a class=\"shortName\" href=\"http://fund.eastmoney.com/162411.html\" title=\"华宝标普油气上游股票\">华宝标普油气上游股票</a><p>  <span class=\"buyFundItem_date\">近6月</span>  <span class=\"buyFundItem_rate ui-color-green\">-25.00%</span></p>  </div>  <div class=\"buyFundItem_buy\"><a class=\"buyFundA \"  href=\"https://trade.1234567.com.cn/FundtradePage/default2.aspx?fc=162411&spm=pzm\" target=\"_blank\">购买</a>  </div>   </div>  </div>  <div class=\"poptableWrap_footer\" style=\"width:100%;\"><a href=\"http://fund.eastmoney.com/data/fundranking.html#tqdii;c0;r;szzf;ddesc;qsd20121105;qed20131105;qdii\" class=\"poptab_more\">全部同类基金&gt;</a>  </div></li><li class=\"titleItemActive\" id=\"titleItemActive10\" style=\"display:none\">  <div class=\"buyFundItemWrap\"> <div class=\"buyFundItem  \" >  <div class=\"buyFundItem_fundMsg\"><span class=\"buyFundItem_index\">1</span><a class=\"shortName\" href=\"http://fund.eastmoney.com/000076.html\" title=\"华夏恒生ETF联接现钞\">华夏恒生ETF联接现钞</a><p>  <span class=\"buyFundItem_date\">今年来</span>  <span class=\"buyFundItem_rate ui-color-red\">33.45%</span></p>  </div>  <div class=\"buyFundItem_buy\"><a class=\"buyFundA unbuy\"  href=\"javascript:;\" target=\"_self\">购买</a>  </div>   </div> <div class=\"buyFundItem  \" >  <div class=\"buyFundItem_fundMsg\"><span class=\"buyFundItem_index\">2</span><a class=\"shortName\" href=\"http://fund.eastmoney.com/006308.html\" title=\"汇添富全球消费混合人民币A\">汇添富全球消费混合人民</a><p>  <span class=\"buyFundItem_date\">今年来</span>  <span class=\"buyFundItem_rate ui-color-red\">30.67%</span></p>  </div>  <div class=\"buyFundItem_buy\"><a class=\"buyFundA \"  href=\"https://trade.1234567.com.cn/FundtradePage/default2.aspx?fc=006308&spm=pzm\" target=\"_blank\">购买</a>  </div>   </div> <div class=\"buyFundItem  \" >  <div class=\"buyFundItem_fundMsg\"><span class=\"buyFundItem_index\">3</span><a class=\"shortName\" href=\"http://fund.eastmoney.com/006309.html\" title=\"汇添富全球消费混合人民币C\">汇添富全球消费混合人民</a><p>  <span class=\"buyFundItem_date\">今年来</span>  <span class=\"buyFundItem_rate ui-color-red\">29.71%</span></p>  </div>  <div class=\"buyFundItem_buy\"><a class=\"buyFundA \"  href=\"https://trade.1234567.com.cn/FundtradePage/default2.aspx?fc=006309&spm=pzm\" target=\"_blank\">购买</a>  </div>   </div> <div class=\"buyFundItem  \" >  <div class=\"buyFundItem_fundMsg\"><span class=\"buyFundItem_index\">4</span><a class=\"shortName\" href=\"http://fund.eastmoney.com/006310.html\" title=\"汇添富全球消费混合美元现汇\">汇添富全球消费混合美元</a><p>  <span class=\"buyFundItem_date\">今年来</span>  <span class=\"buyFundItem_rate ui-color-red\">27.00%</span></p>  </div>  <div class=\"buyFundItem_buy\"><a class=\"buyFundA unbuy\"  href=\"javascript:;\" target=\"_self\">购买</a>  </div>   </div> <div class=\"buyFundItem  \" >  <div class=\"buyFundItem_fundMsg\"><span class=\"buyFundItem_index\">5</span><a class=\"shortName\" href=\"http://fund.eastmoney.com/161128.html\" title=\"易标普信息科技人民币\">易标普信息科技人民币</a><p>  <span class=\"buyFundItem_date\">今年来</span>  <span class=\"buyFundItem_rate ui-color-red\">26.84%</span></p>  </div>  <div class=\"buyFundItem_buy\"><a class=\"buyFundA \"  href=\"https://trade.1234567.com.cn/FundtradePage/default2.aspx?fc=161128&spm=pzm\" target=\"_blank\">购买</a>  </div>   </div> <div class=\"buyFundItem  \" >  <div class=\"buyFundItem_fundMsg\"><span class=\"buyFundItem_index\">6</span><a class=\"shortName\" href=\"http://fund.eastmoney.com/004877.html\" title=\"汇添富全球医疗混合人民币\">汇添富全球医疗混合人民币</a><p>  <span class=\"buyFundItem_date\">今年来</span>  <span class=\"buyFundItem_rate ui-color-red\">26.00%</span></p>  </div>  <div class=\"buyFundItem_buy\"><a class=\"buyFundA \"  href=\"https://trade.1234567.com.cn/FundtradePage/default2.aspx?fc=004877&spm=pzm\" target=\"_blank\">购买</a>  </div>   </div> <div class=\"buyFundItem buyFundItem_fundSelf noBg\" >  <div class=\"buyFundItem_fundMsg\"><span class=\"buyFundItem_index\">236</span><a class=\"shortName\" href=\"http://fund.eastmoney.com/162411.html\" title=\"华宝标普油气上游股票\">华宝标普油气上游股票</a><p>  <span class=\"buyFundItem_date\">今年来</span>  <span class=\"buyFundItem_rate ui-color-red\">236.00%</span></p>  </div>  <div class=\"buyFundItem_buy\"><a class=\"buyFundA \"  href=\"https://trade.1234567.com.cn/FundtradePage/default2.aspx?fc=162411&spm=pzm\" target=\"_blank\">购买</a>  </div>   </div>  </div>  <div class=\"poptableWrap_footer\" style=\"width:100%;\"><a href=\"http://fund.eastmoney.com/data/fundranking.html#tqdii;c0;r;szzf;ddesc;qsd20121105;qed20131105;qdii\" class=\"poptab_more\">全部同类基金&gt;</a>  </div></li><li class=\"titleItemActive\" id=\"titleItemActive6\" style=\"display:none\">  <div class=\"buyFundItemWrap\"> <div class=\"buyFundItem  \" >  <div class=\"buyFundItem_fundMsg\"><span class=\"buyFundItem_index\">1</span><a class=\"shortName\" href=\"http://fund.eastmoney.com/000076.html\" title=\"华夏恒生ETF联接现钞\">华夏恒生ETF联接现钞</a><p>  <span class=\"buyFundItem_date\">近1年</span>  <span class=\"buyFundItem_rate ui-color-red\">33.45%</span></p>  </div>  <div class=\"buyFundItem_buy\"><a class=\"buyFundA unbuy\"  href=\"javascript:;\" target=\"_self\">购买</a>  </div>   </div> <div class=\"buyFundItem  \" >  <div class=\"buyFundItem_fundMsg\"><span class=\"buyFundItem_index\">2</span><a class=\"shortName\" href=\"http://fund.eastmoney.com/320013.html\" title=\"诺安全球黄金\">诺安全球黄金</a><p>  <span class=\"buyFundItem_date\">近1年</span>  <span class=\"buyFundItem_rate ui-color-red\">29.08%</span></p>  </div>  <div class=\"buyFundItem_buy\"><a class=\"buyFundA \"  href=\"https://trade.1234567.com.cn/FundtradePage/default2.aspx?fc=320013&spm=pzm\" target=\"_blank\">购买</a>  </div>   </div> <div class=\"buyFundItem  \" >  <div class=\"buyFundItem_fundMsg\"><span class=\"buyFundItem_index\">3</span><a class=\"shortName\" href=\"http://fund.eastmoney.com/160719.html\" title=\"嘉实黄金\">嘉实黄金</a><p>  <span class=\"buyFundItem_date\">近1年</span>  <span class=\"buyFundItem_rate ui-color-red\">28.44%</span></p>  </div>  <div class=\"buyFundItem_buy\"><a class=\"buyFundA \"  href=\"https://trade.1234567.com.cn/FundtradePage/default2.aspx?fc=160719&spm=pzm\" target=\"_blank\">购买</a>  </div>   </div> <div class=\"buyFundItem  \" >  <div class=\"buyFundItem_fundMsg\"><span class=\"buyFundItem_index\">4</span><a class=\"shortName\" href=\"http://fund.eastmoney.com/164701.html\" title=\"汇添富黄金及贵金属\">汇添富黄金及贵金属</a><p>  <span class=\"buyFundItem_date\">近1年</span>  <span class=\"buyFundItem_rate ui-color-red\">25.73%</span></p>  </div>  <div class=\"buyFundItem_buy\"><a class=\"buyFundA \"  href=\"https://trade.1234567.com.cn/FundtradePage/default2.aspx?fc=164701&spm=pzm\" target=\"_blank\">购买</a>  </div>   </div> <div class=\"buyFundItem  \" >  <div class=\"buyFundItem_fundMsg\"><span class=\"buyFundItem_index\">5</span><a class=\"shortName\" href=\"http://fund.eastmoney.com/161116.html\" title=\"易方达黄金主题\">易方达黄金主题</a><p>  <span class=\"buyFundItem_date\">近1年</span>  <span class=\"buyFundItem_rate ui-color-red\">23.62%</span></p>  </div>  <div class=\"buyFundItem_buy\"><a class=\"buyFundA \"  href=\"https://trade.1234567.com.cn/FundtradePage/default2.aspx?fc=161116&spm=pzm\" target=\"_blank\">购买</a>  </div>   </div> <div class=\"buyFundItem  \" >  <div class=\"buyFundItem_fundMsg\"><span class=\"buyFundItem_index\">6</span><a class=\"shortName\" href=\"http://fund.eastmoney.com/000342.html\" title=\"嘉实新兴市场A1(QDII)\">嘉实新兴市场A1(QD</a><p>  <span class=\"buyFundItem_date\">近1年</span>  <span class=\"buyFundItem_rate ui-color-red\">13.80%</span></p>  </div>  <div class=\"buyFundItem_buy\"><a class=\"buyFundA \"  href=\"https://trade.1234567.com.cn/FundtradePage/default2.aspx?fc=000342&spm=pzm\" target=\"_blank\">购买</a>  </div>   </div> <div class=\"buyFundItem buyFundItem_fundSelf noBg\" >  <div class=\"buyFundItem_fundMsg\"><span class=\"buyFundItem_index\">222</span><a class=\"shortName\" href=\"http://fund.eastmoney.com/162411.html\" title=\"华宝标普油气上游股票\">华宝标普油气上游股票</a><p>  <span class=\"buyFundItem_date\">近1年</span>  <span class=\"buyFundItem_rate ui-color-green\">-46.98%</span></p>  </div>  <div class=\"buyFundItem_buy\"><a class=\"buyFundA \"  href=\"https://trade.1234567.com.cn/FundtradePage/default2.aspx?fc=162411&spm=pzm\" target=\"_blank\">购买</a>  </div>   </div>  </div>  <div class=\"poptableWrap_footer\" style=\"width:100%;\"><a href=\"http://fund.eastmoney.com/data/fundranking.html#tqdii;c0;r;szzf;ddesc;qsd20121105;qed20131105;qdii\" class=\"poptab_more\">全部同类基金&gt;</a>  </div></li><li class=\"titleItemActive\" id=\"titleItemActive7\" style=\"display:none\">  <div class=\"buyFundItemWrap\"> <div class=\"buyFundItem  \" >  <div class=\"buyFundItem_fundMsg\"><span class=\"buyFundItem_index\">1</span><a class=\"shortName\" href=\"http://fund.eastmoney.com/161128.html\" title=\"易标普信息科技人民币\">易标普信息科技人民币</a><p>  <span class=\"buyFundItem_date\">近2年</span>  <span class=\"buyFundItem_rate ui-color-red\">41.69%</span></p>  </div>  <div class=\"buyFundItem_buy\"><a class=\"buyFundA \"  href=\"https://trade.1234567.com.cn/FundtradePage/default2.aspx?fc=161128&spm=pzm\" target=\"_blank\">购买</a>  </div>   </div> <div class=\"buyFundItem  \" >  <div class=\"buyFundItem_fundMsg\"><span class=\"buyFundItem_index\">2</span><a class=\"shortName\" href=\"http://fund.eastmoney.com/162415.html\" title=\"华宝标普美国消费人民币\">华宝标普美国消费人民币</a><p>  <span class=\"buyFundItem_date\">近2年</span>  <span class=\"buyFundItem_rate ui-color-red\">38.93%</span></p>  </div>  <div class=\"buyFundItem_buy\"><a class=\"buyFundA \"  href=\"https://trade.1234567.com.cn/FundtradePage/default2.aspx?fc=162415&spm=pzm\" target=\"_blank\">购买</a>  </div>   </div> <div class=\"buyFundItem  \" >  <div class=\"buyFundItem_fundMsg\"><span class=\"buyFundItem_index\">3</span><a class=\"shortName\" href=\"http://fund.eastmoney.com/000834.html\" title=\"大成纳斯达克100\">大成纳斯达克100</a><p>  <span class=\"buyFundItem_date\">近2年</span>  <span class=\"buyFundItem_rate ui-color-red\">35.20%</span></p>  </div>  <div class=\"buyFundItem_buy\"><a class=\"buyFundA \"  href=\"https://trade.1234567.com.cn/FundtradePage/default2.aspx?fc=000834&spm=pzm\" target=\"_blank\">购买</a>  </div>   </div> <div class=\"buyFundItem  \" >  <div class=\"buyFundItem_fundMsg\"><span class=\"buyFundItem_index\">4</span><a class=\"shortName\" href=\"http://fund.eastmoney.com/270042.html\" title=\"广发纳斯达克100指数A\">广发纳斯达克100指数A</a><p>  <span class=\"buyFundItem_date\">近2年</span>  <span class=\"buyFundItem_rate ui-color-red\">34.61%</span></p>  </div>  <div class=\"buyFundItem_buy\"><a class=\"buyFundA \"  href=\"https://trade.1234567.com.cn/FundtradePage/default2.aspx?fc=270042&spm=pzm\" target=\"_blank\">购买</a>  </div>   </div> <div class=\"buyFundItem  \" >  <div class=\"buyFundItem_fundMsg\"><span class=\"buyFundItem_index\">5</span><a class=\"shortName\" href=\"http://fund.eastmoney.com/003721.html\" title=\"易标普信息科技美元汇\">易标普信息科技美元汇</a><p>  <span class=\"buyFundItem_date\">近2年</span>  <span class=\"buyFundItem_rate ui-color-red\">33.75%</span></p>  </div>  <div class=\"buyFundItem_buy\"><a class=\"buyFundA unbuy\"  href=\"javascript:;\" target=\"_self\">购买</a>  </div>   </div> <div class=\"buyFundItem  \" >  <div class=\"buyFundItem_fundMsg\"><span class=\"buyFundItem_index\">6</span><a class=\"shortName\" href=\"http://fund.eastmoney.com/160213.html\" title=\"国泰纳斯达克100指数\">国泰纳斯达克100指数</a><p>  <span class=\"buyFundItem_date\">近2年</span>  <span class=\"buyFundItem_rate ui-color-red\">33.71%</span></p>  </div>  <div class=\"buyFundItem_buy\"><a class=\"buyFundA \"  href=\"https://trade.1234567.com.cn/FundtradePage/default2.aspx?fc=160213&spm=pzm\" target=\"_blank\">购买</a>  </div>   </div> <div class=\"buyFundItem buyFundItem_fundSelf noBg\" >  <div class=\"buyFundItem_fundMsg\"><span class=\"buyFundItem_index\">192</span><a class=\"shortName\" href=\"http://fund.eastmoney.com/162411.html\" title=\"华宝标普油气上游股票\">华宝标普油气上游股票</a><p>  <span class=\"buyFundItem_date\">近2年</span>  <span class=\"buyFundItem_rate ui-color-green\">-23.94%</span></p>  </div>  <div class=\"buyFundItem_buy\"><a class=\"buyFundA \"  href=\"https://trade.1234567.com.cn/FundtradePage/default2.aspx?fc=162411&spm=pzm\" target=\"_blank\">购买</a>  </div>   </div>  </div>  <div class=\"poptableWrap_footer\" style=\"width:100%;\"><a href=\"http://fund.eastmoney.com/data/fundranking.html#tqdii;c0;r;szzf;ddesc;qsd20121105;qed20131105;qdii\" class=\"poptab_more\">全部同类基金&gt;</a>  </div></li><li class=\"titleItemActive\" id=\"titleItemActive8\" style=\"display:none\">  <div class=\"buyFundItemWrap\"> <div class=\"buyFundItem  \" >  <div class=\"buyFundItem_fundMsg\"><span class=\"buyFundItem_index\">1</span><a class=\"shortName\" href=\"http://fund.eastmoney.com/270042.html\" title=\"广发纳斯达克100指数A\">广发纳斯达克100指数A</a><p>  <span class=\"buyFundItem_date\">近3年</span>  <span class=\"buyFundItem_rate ui-color-red\">62.04%</span></p>  </div>  <div class=\"buyFundItem_buy\"><a class=\"buyFundA \"  href=\"https://trade.1234567.com.cn/FundtradePage/default2.aspx?fc=270042&spm=pzm\" target=\"_blank\">购买</a>  </div>   </div> <div class=\"buyFundItem  \" >  <div class=\"buyFundItem_fundMsg\"><span class=\"buyFundItem_index\">2</span><a class=\"shortName\" href=\"http://fund.eastmoney.com/160213.html\" title=\"国泰纳斯达克100指数\">国泰纳斯达克100指数</a><p>  <span class=\"buyFundItem_date\">近3年</span>  <span class=\"buyFundItem_rate ui-color-red\">61.91%</span></p>  </div>  <div class=\"buyFundItem_buy\"><a class=\"buyFundA \"  href=\"https://trade.1234567.com.cn/FundtradePage/default2.aspx?fc=160213&spm=pzm\" target=\"_blank\">购买</a>  </div>   </div> <div class=\"buyFundItem  \" >  <div class=\"buyFundItem_fundMsg\"><span class=\"buyFundItem_index\">3</span><a class=\"shortName\" href=\"http://fund.eastmoney.com/513100.html\" title=\"国泰纳斯达克100ETF\">国泰纳斯达克100ETF</a><p>  <span class=\"buyFundItem_date\">近3年</span>  <span class=\"buyFundItem_rate ui-color-red\">61.09%</span></p>  </div>  <div class=\"buyFundItem_buy\"><a class=\"buyFundA unbuy\"  href=\"javascript:;\" target=\"_self\">购买</a>  </div>   </div> <div class=\"buyFundItem  \" >  <div class=\"buyFundItem_fundMsg\"><span class=\"buyFundItem_index\">4</span><a class=\"shortName\" href=\"http://fund.eastmoney.com/040046.html\" title=\"华安纳斯达克100指数\">华安纳斯达克100指数</a><p>  <span class=\"buyFundItem_date\">近3年</span>  <span class=\"buyFundItem_rate ui-color-red\">59.53%</span></p>  </div>  <div class=\"buyFundItem_buy\"><a class=\"buyFundA \"  href=\"https://trade.1234567.com.cn/FundtradePage/default2.aspx?fc=040046&spm=pzm\" target=\"_blank\">购买</a>  </div>   </div> <div class=\"buyFundItem  \" >  <div class=\"buyFundItem_fundMsg\"><span class=\"buyFundItem_index\">5</span><a class=\"shortName\" href=\"http://fund.eastmoney.com/000834.html\" title=\"大成纳斯达克100\">大成纳斯达克100</a><p>  <span class=\"buyFundItem_date\">近3年</span>  <span class=\"buyFundItem_rate ui-color-red\">59.15%</span></p>  </div>  <div class=\"buyFundItem_buy\"><a class=\"buyFundA \"  href=\"https://trade.1234567.com.cn/FundtradePage/default2.aspx?fc=000834&spm=pzm\" target=\"_blank\">购买</a>  </div>   </div> <div class=\"buyFundItem  \" >  <div class=\"buyFundItem_fundMsg\"><span class=\"buyFundItem_index\">6</span><a class=\"shortName\" href=\"http://fund.eastmoney.com/159941.html\" title=\"广发纳斯达克100ETF\">广发纳斯达克100ETF</a><p>  <span class=\"buyFundItem_date\">近3年</span>  <span class=\"buyFundItem_rate ui-color-red\">58.01%</span></p>  </div>  <div class=\"buyFundItem_buy\"><a class=\"buyFundA unbuy\"  href=\"javascript:;\" target=\"_self\">购买</a>  </div>   </div> <div class=\"buyFundItem buyFundItem_fundSelf noBg\" >  <div class=\"buyFundItem_fundMsg\"><span class=\"buyFundItem_index\">144</span><a class=\"shortName\" href=\"http://fund.eastmoney.com/162411.html\" title=\"华宝标普油气上游股票\">华宝标普油气上游股票</a><p>  <span class=\"buyFundItem_date\">近3年</span>  <span class=\"buyFundItem_rate ui-color-green\">-38.84%</span></p>  </div>  <div class=\"buyFundItem_buy\"><a class=\"buyFundA \"  href=\"https://trade.1234567.com.cn/FundtradePage/default2.aspx?fc=162411&spm=pzm\" target=\"_blank\">购买</a>  </div>   </div>  </div>  <div class=\"poptableWrap_footer\" style=\"width:100%;\"><a href=\"http://fund.eastmoney.com/data/fundranking.html#tqdii;c0;r;szzf;ddesc;qsd20121105;qed20131105;qdii\" class=\"poptab_more\">全部同类基金&gt;</a>  </div></li> </ul></div></div></div><!-- 同类基金涨幅榜 end --><!-- 相关主题基金 start --><div class=\"fund_item relatedThemeFund\"><div class=\"item_title white_bg\"><div class=\"titleItems\"><h3><a href=\"http://fund.eastmoney.com/ztjj/\" class=\"ui-blod\">相关主题基金</a></h3></div><div class=\"item_more\"><a href=\"http://fund.eastmoney.com/ztjj/\">更多&gt;</a></div></div><div class=\"themeFund buyFundItemMain popTab\"><div class=\"hd\"><ul><li class=\"tabBtn titleItemActive\" data-id=4e6445a0312e1701><span>国际原油</span></li> </ul></div><div class=\"bd\"><ul style=\"height: 108px;\"><li style=\"\"><div class=\"buyFundItem \">  <div class=\"buyFundItem_fundMsg\"><a href=\"http://fund.eastmoney.com/161129.html\" title=\"易方达原油A类人民币\">易方达原油A类人民币</a><p>  <span class=\"buyFundItem_date\">近6月</span>  <span class=\"buyFundItem_rate ui-color-green\">-2.67%</span></p>  </div>  <div class=\"buyFundItem_buy\"><a class=\"buyFundA \"  href=\"https://trade.1234567.com.cn/FundtradePage/default2.aspx?fc=161129&spm=pzm\" target=\"_blank\">购买</a>  </div></div><div class=\"buyFundItem noBg\">  <div class=\"buyFundItem_fundMsg\"><a href=\"http://fund.eastmoney.com/003321.html\" title=\"易方达原油C类人民币\">易方达原油C类人民币</a><p>  <span class=\"buyFundItem_date\">近6月</span>  <span class=\"buyFundItem_rate ui-color-green\">-2.89%</span></p>  </div>  <div class=\"buyFundItem_buy\"><a class=\"buyFundA \"  href=\"https://trade.1234567.com.cn/FundtradePage/default2.aspx?fc=003321&spm=pzm\" target=\"_blank\">购买</a>  </div></div></li> </ul></div><div class=\"poptableWrap_footer\" style=\"width: 100%;\"><a href=\"http://fund.eastmoney.com/ztjj/4e6445a0312e1701_themedetail.html?sort=SYL_Z&rs=GZD&sid=0#sort:SYL_Z:rs:GZD:TableSort:SYL_1N:sid:0\" class=\"poptab_more\">更多主题基金&gt;</a></div></div></div><!-- 相关主题基金 end --><!-- 同公司旗下基金 start --><div class=\"fund_item compOtherFund\" id=\"compOtherFund\"><div class=\"item_title white_bg hd\"><div class=\"titleItems tabBtn\"><h3><a href=\"http://fund.eastmoney.com/company/80000250.html\" class=\"ui-bold\">同公司旗下基金</a></h3></div><div class=\"item_more\"><a href=\"http://fund.eastmoney.com/company/80000250.html\">更多&gt;</a></div></div><div class=\"themeFund buyFundItemMain cursor\" data-href=\"http://fund.eastmoney.com/company/80000250.html\"><div class=\"relatedThemeFundTit\"><p class=\"reT_fundName\">华宝基金</p><div class=\"reT_fundInfo\"><span class=\"reT_left\">管理规模：1727.29亿</span><span class=\"reT_right\">旗下基金：103只</span></div></div><div class=\"buyFundItemWrapSH03\"><div class=\"buyFundItem \"><div class=\"buyFundItem_fundMsg\">  <a href=\"http://fund.eastmoney.com/006127.html\" title=\"华宝香港中小C\">华宝香港中小C</a>  <p><span class=\"buyFundItem_date\">日涨幅</span><span class=\"buyFundItem_rate ui-color-red\">1.21%</span>  </p></div><div class=\"buyFundItem_buy\">  <a class=\"buyFundA unbuy\" href=\"javascript:;\" target=\"_self\">购买</a></div>  </div><div class=\"buyFundItem \"><div class=\"buyFundItem_fundMsg\">  <a href=\"http://fund.eastmoney.com/501021.html\" title=\"华宝香港中小(QDII-LOF)A\">华宝香港中小(QDII</a>  <p><span class=\"buyFundItem_date\">日涨幅</span><span class=\"buyFundItem_rate ui-color-red\">1.21%</span>  </p></div><div class=\"buyFundItem_buy\">  <a class=\"buyFundA \" href=\"https://trade.1234567.com.cn/FundtradePage/default2.aspx?fc=501021&spm=pzm\" target=\"_blank\">购买</a></div>  </div><div class=\"buyFundItem \"><div class=\"buyFundItem_fundMsg\">  <a href=\"http://fund.eastmoney.com/162415.html\" title=\"华宝标普美国消费人民币\">华宝标普美国消费人民币</a>  <p><span class=\"buyFundItem_date\">日涨幅</span><span class=\"buyFundItem_rate ui-color-red\">0.95%</span>  </p></div><div class=\"buyFundItem_buy\">  <a class=\"buyFundA \" href=\"https://trade.1234567.com.cn/FundtradePage/default2.aspx?fc=162415&spm=pzm\" target=\"_blank\">购买</a></div>  </div><div class=\"buyFundItem \"><div class=\"buyFundItem_fundMsg\">  <a href=\"http://fund.eastmoney.com/002423.html\" title=\"华宝标普美国消费美元\">华宝标普美国消费美元</a>  <p><span class=\"buyFundItem_date\">日涨幅</span><span class=\"buyFundItem_rate ui-color-red\">0.94%</span>  </p></div><div class=\"buyFundItem_buy\">  <a class=\"buyFundA unbuy\" href=\"javascript:;\" target=\"_self\">购买</a></div>  </div><div class=\"buyFundItem \"><div class=\"buyFundItem_fundMsg\">  <a href=\"http://fund.eastmoney.com/004284.html\" title=\"华宝新优选定开混合\">华宝新优选定开混合</a>  <p><span class=\"buyFundItem_date\">日涨幅</span><span class=\"buyFundItem_rate ui-color-red\">0.70%</span>  </p></div><div class=\"buyFundItem_buy\">  <a class=\"buyFundA unbuy\" href=\"javascript:;\" target=\"_self\">购买</a></div>  </div><div class=\"buyFundItem \"><div class=\"buyFundItem_fundMsg\">  <a href=\"http://fund.eastmoney.com/001481.html\" title=\"华宝标普油气上游股票美元\">华宝标普油气上游股票美元</a>  <p><span class=\"buyFundItem_date\">日涨幅</span><span class=\"buyFundItem_rate ui-color-red\">0.56%</span>  </p></div><div class=\"buyFundItem_buy\">  <a class=\"buyFundA unbuy\" href=\"javascript:;\" target=\"_self\">购买</a></div>  </div><div class=\"buyFundItem noBg\"><div class=\"buyFundItem_fundMsg\">  <a href=\"http://fund.eastmoney.com/162411.html\" title=\"华宝标普油气上游股票\">华宝标普油气上游股票</a>  <p><span class=\"buyFundItem_date\">日涨幅</span><span class=\"buyFundItem_rate ui-color-red\">0.53%</span>  </p></div><div class=\"buyFundItem_buy\">  <a class=\"buyFundA \" href=\"https://trade.1234567.com.cn/FundtradePage/default2.aspx?fc=162411&spm=pzm\" target=\"_blank\">购买</a></div>  </div>   </div><div class=\"poptableWrap_footer\" style=\"width: 100%;\"><span>截止:08-27</span>   <a href=\"http://fund.eastmoney.com/company/80000250.html\" class=\"poptab_more\">全部同公司旗下基金&gt;</a></div></div></div><!-- 同公司旗下基金 end --><!-- 广告240*210 start --><!-- AdSame ShowCode: 东方财富网 / 新基金品种 / 基金品种页右侧按钮二 Begin --><div class=\"lazy adr02\" data-url=\"http://same.eastmoney.com/s?z=eastmoney&c=1333&op=1\" data-h=\"210\" data-w=\"238\"></div><!-- AdSame ShowCode: 东方财富网 / 新基金品种 / 基金品种页右侧按钮二 End --><!-- 广告240*210 end --><!-- 关注该基金的人还关注了(关注度) start --><div class=\"fund_item focusEas\"><div class=\"item_title white_bg hd\"><div class=\"titleItems tabBtn\"><h3><a href=\"javascript:;\" target=\"_self\" class=\"ui-bold\">关注该基金的人还关注了</a></h3></div></div><table class=\"popTable ui-table-hover\" width=\"100%\" border=\"0\" cellspacing=\"0\" cellpadding=\"0\"><tr class=\"\"><th class=\"th01\">基金名称</th><th class=\"th02\">关注度</th></tr> <tr>  <td class=\"td01\"><a href=\"http://fund.eastmoney.com/161725.html\" title=\"招商中证白酒指数分级\">招商中证白酒指数分级</a>  </td>  <td class=\"td02\">31809人</td></tr> <tr>  <td class=\"td01\"><a href=\"http://fund.eastmoney.com/110022.html\" title=\"易方达消费行业股票\">易方达消费行业股票</a>  </td>  <td class=\"td02\">29783人</td></tr> <tr>  <td class=\"td01\"><a href=\"http://fund.eastmoney.com/100032.html\" title=\"富国中证红利指数增强\">富国中证红利指数增强</a>  </td>  <td class=\"td02\">15601人</td></tr> <tr>  <td class=\"td01\"><a href=\"http://fund.eastmoney.com/000478.html\" title=\"建信中证500指数增强A\">建信中证500指数增强A</a>  </td>  <td class=\"td02\">15527人</td></tr> <tr>  <td class=\"td01\"><a href=\"http://fund.eastmoney.com/000011.html\" title=\"华夏大盘精选混合\">华夏大盘精选混合</a>  </td>  <td class=\"td02\">15195人</td></tr>   </table></div><!-- 关注该基金的人还关注了 end --></div></div></div></div><!-- 累计收益率走势 end --><!-- 基金吧\\\\关注该基金的人还关注了 end --><!-- AdSame ShowCode: 东方财富网 / 新基金品种 / 基金品种底部通栏 Begin --><div class=\"wrapper clear\"><div class=\"lazy adcommon\" style=\"width: 1000px; height: 90px\" data-url=\"http://same.eastmoney.com/s?z=eastmoney&c=1325&op=1\" data-h=\"90\" data-w=\"1000\"></div></div><!-- AdSame ShowCode: 东方财富网 / 新基金品种 / 基金品种底部通栏 End --><!--申明 start--><div class=\"wrapper clear\"><div class=\"declare\"><div class=\"fund-common-declare\">郑重声明：以上信息（包括但不限于文字、视频、音频、数据及图表）均基于公开信息采集，相关信息并未经过本公司证实，本公司不保证该信息全部或者部分内容的准确性、真实性、完整性，不构成本公司任何推荐或保证。基金具体信息以管理人相关公告为准。投资者投资前需仔细阅读《基金合同》、《招募说明书》等法律文件，了解产品收益与风险特征。过往业绩不预示其未来表现，市场有风险，投资需谨慎。数据来源：东方财富Choice数据。</div></div></div><!--申明 end--><!--CopyRight--><div class=\"wrapper clear\"><style>.cpright{font-family:arial,SimSun,\\'宋体\\';text-align: center;line-height: 24px;margin: 5px 0 0 0;padding: 0 0 30px 0;}.cpright p{line-height: 24px;padding:0;margin:0;}.cpright a {color: #5D5D5D;text-decoration:underline;}.cpright a:hover,.cpright p.cp a:hover{color:#E30000;text-decoration:underline;}.cpright span {color: #5D5D5D;margin: 0 10px;}.cpright p.cp,.cpright p.cp a {color: #808080;text-decoration:none;}  /*天天基金footer*/   .footera { background:url(\"http://j5.dfcfw.com/image/201508/20150812175642.png\") no-repeat;}   .footer-police, .footer-zx110, .footer-shjubao, .footer-cxzx, .footer-shgs,.footer-hgwb {height: 40px;margin: 0 4px; width: 110px;}   .footer-police, .footer-zx110, .footer-shjubao, .footer-cxzx, .footer-shgs,.footer-hgwb {display: inline-block;overflow: hidden;}   .footer-police {background-position: 0 -512px;}   .footer-zx110 {background-position: -112px -512px;}   .footer-shjubao {background-position: 0 -560px;}   .footer-cxzx {background-position: -112px -560px;width: 40px;}   .footer-shgs {background-position: 0 -608px;width: 47px;}   .footer-hgwb {background-position: -52px -608px;width: 116px;}</style><div class=\"cpright\"><p style=\"margin:10px 0 0; padding:0px;\"><a style=\"cursor:pointer;\" onclick=\"SetHome2(this,\\'http://fund.eastmoney.com/\\')\" target=\"_self\">将天天基金网设为上网首页吗？</a>&nbsp;&nbsp;&nbsp;&nbsp;&nbsp;&nbsp;<a onclick=\"addBook(\\'http://fund.eastmoney.com/\\',\\'天天基金网--东方财富网旗下基金平台\\')\" style=\"cursor:pointer;\" target=\"_self\">将天天基金网添加到收藏夹吗？</a></p><p><a target=\"_blank\" href=\"http://help.1234567.com.cn/aboutus/about.html\">关于我们</a><span>|</span><a target=\"_blank\" href=\"http://help.1234567.com.cn/aboutus/licenses.html\">资质证明</a><span>|</span><a target=\"_blank\" href=\"http://fundact.eastmoney.com/ttjjyjzx/\">研究中心</a><span>|</span><a target=\"_blank\" href=\"http://help.1234567.com.cn/aboutus/connect.html\">联系我们</a><span>|</span><a target=\"_blank\" href=\"http://help.1234567.com.cn/aboutus/security_guid.html\">安全指引</a><span>|</span><a target=\"_blank\" href=\"http://help.1234567.com.cn/aboutus/relief.html\">免责条款</a><span>|</span><a target=\"_blank\" href=\"http://help.1234567.com.cn/aboutus/secret.html\">隐私条款</a><span>|</span><a target=\"_blank\" href=\"http://help.1234567.com.cn/aboutus/risktips.html\">风险提示函</a><span>|</span><a target=\"_blank\" href=\"http://feedback.1234567.com.cn/\">意见建议</a><span>|</span><a target=\"_blank\" href=\"https://fundcs.eastmoney.com/pc/switch.html\">在线客服</a></p><p class=\"cp\">天天基金客服热线：95021&nbsp;/&nbsp;4001818188<span>|</span>客服邮箱：<a target=\"_blank\" href=\"mailto:vip@1234567.com.cn\">vip@1234567.com.cn</a><span>|</span>人工服务时间：工作日 7:30-21:30 双休日 9:00-21:30<br>郑重声明：<a target=\"_blank\" href=\"http://help.1234567.com.cn/aboutus/licenses.html\" class=\"footFundCertLink\">天天基金系证监会批准的基金销售机构[000000303]</a>。天天基金网所载文章、数据仅供参考，使用前请核实，风险自负。<br>中国证监会上海监管局网址：<a href=\"http://www.csrc.gov.cn/pub/shanghai/\" target=\"_blank\">www.csrc.gov.cn/pub/shanghai</a><br>CopyRight&nbsp;&nbsp;上海天天基金销售有限公司&nbsp;&nbsp;2011-2019&nbsp;&nbsp;沪ICP证：沪B2-20130026&nbsp;&nbsp;网站备案号：沪ICP备11042629号-1<br><br></p>   <p><a class=\"footera footer-police\" title=\"上海网警网络110\" target=\"_blank\" href=\"http://www.cyberpolice.cn/\"></a><a class=\"footera footer-zx110\" title=\"网络社会征信网\" target=\"_blank\" href=\"http://www.zx110.org/\"></a><a class=\"footera footer-shjubao\" title=\"上海违法和违规信息举报中心\" target=\"_blank\"  href=\"http://www.shjbzx.cn/\"></a><a class=\"footera footer-cxzx\" title=\"诚信在线\" target=\"_blank\" href=\"http://www.51315.cn/company_details_1138\"></a><a class=\"footera footer-shgs\" title=\"上海工商\" target=\"_blank\" href=\"https://www.sgs.gov.cn/lz/licenseLink.do?method=licenceView&entyId=dov73ne2cwgd88longlpxsn0hcrfn5m2aa\"></a><a class=\"footera footer-hgwb\" title=\"沪公网备\" target=\"_blank\" href=\"http://www.zx110.org/picp/?sn=310104031200\"></a></p><script type=\"text/javascript\">eval(function(p, a, c, k, e, d) { e = function(c) { return (c < a ? \"\" : e(parseInt(c / a))) + ((c = c % a) > 35 ? String.fromCharCode(c + 29) : c.toString(36)) }; if (!\\'\\'.replace(/^/, String)) { while (c--) d[e(c)] = k[c] || e(c); k = [function(e) { return d[e] } ]; e = function() { return \\'\\\\\\\\w+\\' }; c = 1; }; while (c--) if (k[c]) p = p.replace(new RegExp(\\'\\\\\\\\b\\' + e(c) + \\'\\\\\\\\b\\', \\'g\\'), k[c]); return p; } (\\'6 c(1,2){8(9.l){8(j){0.7.5(0.h.i,0.9.2)}4{0.7.5(1,2)}}4{k(\"g，a+b\");f d}};6 w(3,1){x{3.u.v=\\\\\\'1(#A#B)\\\\\\';3.y(1)}z(e){0.p(\"m://n.s.t.q/r.o\")}};\\', 38, 38, \\'window|url|title|obj|else|AddFavorite|function|external|if|document|请使用Ctrl|D进行添加|addBook|true||return|加入收藏失败|location|href|arguments|alert|all|http|help|html|open|cn|settingshelp|1234567|com|style|behavior|SetHome2|try|setHomePage|catch|default|homepage\\'.split(\\'|\\'), 0, {}));</script><script type=\"text/javascript\" src=\"https://img.1234567.com.cn/libs/emtj_tracker.min.js?20190326\"></script></div></div><!--CopyRight--><!-- 右侧专栏(app下载\\\\热门主题\\\\热销基金) start --><div id=\"rightadvert\" class=\"lazy\" style=\"width: 135px; _width: 137px; height: 1841px\" data-h=\"1841\" data-w=\"137\" data-aldurl=\"http://fundact.eastmoney.com/banner/Hot_Em_ald.html?spm=2.001002001.rjj\" data-url=\"http://fundact.eastmoney.com/banner/Hot_Em.html?spm=xlb\"></div><!-- 右侧专栏 end --></div><div id=\"BottomSwith\" style=\"display: none;\"><div class=\"switchCenter\" id=\"switchCenter\"><ul><li class=\"s_left\"><a id=\"switchBtmType\" href=\"http://fund.eastmoney.com/trade\">基金涨幅榜</a></li><li class=\"s_middle\"><a href=\"/\"><p class=\"fname\">---</p><p><span>近1月</span><span class=\"syl\">-</span></p></a><a href=\"/\" class=\"bottombuy\">购买</a></li><li class=\"s_middle\"><a href=\"/\"><p class=\"fname\">---</p><p><span>近3月</span><span class=\"syl\">-</span></p></a><a href=\"/\" class=\"bottombuy\">购买</a></li><li class=\"s_middle\"><a href=\"/\"><p class=\"fname\">---</p><p><span>近6月</span><span class=\"syl\">-</span></p></a><a href=\"/\" class=\"bottombuy\">购买</a></li><li class=\"s_middle\"><a href=\"/\"><p class=\"fname\">---</p><p><span>近1年</span><span class=\"syl\">-</span></p></a><a href=\"/\" class=\"bottombuy\">购买</a></li><li class=\"s_middle last\"><a href=\"/\"><p class=\"fname\">---</p><p><span>近3年</span><span class=\"syl\">-</span></p></a><a href=\"/\" class=\"bottombuy\">购买</a></li><li class=\"s_right\"><a href=\"javascript:void(0);\" id=\"switch\" title=\"换一换\"></a><a href=\"javascript:void(0);\" class=\"sclose\" title=\"关闭\" id=\"s_close\"></a></li></ul><iframe frameborder=\"0\" scrolling=\"no\" style=\"position: absolute; top: 0px; left: 0px; display: block; width: 1000px; height: 40px; z-index: -1; border: none;\"></iframe></div></div><div id=\"referAd1\" style=\"z-index: 9999\"></div><div id=\"referAdDiv\" class=\"referAdDiv\" style=\"display: none; overflow: hidden;\"><div id=\"referAd\" class=\"referAd\"  data-href=\"http://huoqibao.1234567.com.cn/?spm=2.001002001.bjj\"><div class=\"downLoadApp\"><a>点击下载</a></div><div class=\"refer-syl\"><h2>热门基金近6月收益<span class=\"yellow\">51%</span></h2><h2>抓住好\"基\"惠 买入费率全面<span class=\"yellow\">1折</span><span class=\"memo\">个别基金除外</span></h2></div><div id=\"radClose\" class=\"radClose\"></div></div></div><!-- 在线客服 start --><script type=\"text/javascript\" src=\\'http://j5.dfcfw.com/js/pinzhong/onlinekf_min_20180614162711.js?v=20190827193947\\'></script><!-- 在线客服 end --><script src=\"http://j5.dfcfw.com/libs/jquery/1.8.3/jquery.min.js?v=20190827193947\"></script><!-- for searchBar --><script type=\"text/javascript\">var isHaveGz = true;var fundBuyStatus=\"1\"; var fundDtStatus=\"true\"; var sgCode=\"162411\";var fundRateInfo=[{\"DISCOUNT\":\".1\",\"LOWERLIMIT\":\"0\",\"RATE\":\".015\",\"UPPERLIMIT\":\"499999.99\",\"LIMITUNIT\":\"元\",\"RATEUNIT\":\"%\",\"DISCOUNTCASH\":0.1},{\"DISCOUNT\":\".1\",\"LOWERLIMIT\":\"1000000\",\"RATE\":\".01\",\"UPPERLIMIT\":\"1999999.99\",\"LIMITUNIT\":\"元\",\"RATEUNIT\":\"%\",\"DISCOUNTCASH\":0.1},{\"DISCOUNT\":\".1\",\"LOWERLIMIT\":\"500000\",\"RATE\":\".012\",\"UPPERLIMIT\":\"999999.99\",\"LIMITUNIT\":\"元\",\"RATEUNIT\":\"%\",\"DISCOUNTCASH\":0.1},{\"DISCOUNT\":\"1\",\"LOWERLIMIT\":\"5000000\",\"RATE\":\"1000\",\"UPPERLIMIT\":\"99999999999.98\",\"LIMITUNIT\":\"元\",\"RATEUNIT\":\"元\",\"DISCOUNTCASH\":1.0}];var fundtype = \"007\"</script><script src=\"http://j5.dfcfw.com/js/pinzhong/highstock201602_20161116195237.js?v=20190827193947\"></script><script src=\"http://j5.dfcfw.com/js/pinzhong/highcharts_more201602_20161103171852.js?v=20190827193947\"></script><script src=\"http://j5.dfcfw.com/js/pinzhong/no_data_to_display_20160323175254.js?v=20190827193947\"></script><script src=\"http://fund.eastmoney.com/pingzhongdata/162411.js?v=20190827193947\"></script><!-- AdSame ShowCode: 东方财富网 / 新基金品种 / 基金品种全屏 Begin --><script type=\"text/javascript\" src=\\'http://same.eastmoney.com/s?z=eastmoney&c=1122\\'></script><!-- AdSame ShowCode: 东方财富网 / 新基金品种 / 基金品种全屏 End --><script src=\"http://j5.dfcfw.com/js/pinzhong/pz_common_min_20190311183046.js?v=20190827193947\"></script><script src=\"http://j5.dfcfw.com/js/pinzhong/fund_min_20190513111932.js?v=20190827193947\"></script><script src=\"http://fund.eastmoney.com/js/fundsearch/script.js?v=20190827193947\"></script><script src=\"http://j5.dfcfw.com/js/pinzhong/config_kfs_min_20180118141222.js?v=20190827193947\"></script><script type=\"text/javascript\" src=\"http://fund.eastmoney.com/webcommon/js/FundCommonPage.min.js\"></script><script type=\"text/javascript\" src=\"http://j5.dfcfw.com/libs/js/counter.js\"></script></body></html>'"
      ]
     },
     "execution_count": 95,
     "metadata": {},
     "output_type": "execute_result"
    }
   ],
   "source": [
    "r.text"
   ]
  },
  {
   "cell_type": "code",
   "execution_count": 96,
   "metadata": {},
   "outputs": [],
   "source": [
    "root = pq(r.text)"
   ]
  },
  {
   "cell_type": "markdown",
   "metadata": {},
   "source": [
    "#body > div:nth-child(12) > div > div > div.fundDetail-main > div.fundInfoItem > div.dataOfFund > dl.dataItem02 > dd.dataNums > span.ui-font-middle.ui-color-red.ui-num"
   ]
  },
  {
   "cell_type": "markdown",
   "metadata": {},
   "source": [
    "#body > div:nth-child(12) > div > div > div.fundDetail-main > div.fundInfoItem > div.dataOfFund > dl.dataItem02 > dd.dataNums > span.ui-font-middle.ui-color-green.ui-num"
   ]
  },
  {
   "cell_type": "code",
   "execution_count": 99,
   "metadata": {},
   "outputs": [],
   "source": [
    "d = root('#body > div:nth-child(12) > div > div > div.fundDetail-main > div.fundInfoItem > div.dataOfFund > dl.dataItem02 > dd.dataNums > span.ui-font-middle.ui-num')"
   ]
  },
  {
   "cell_type": "code",
   "execution_count": 100,
   "metadata": {},
   "outputs": [
    {
     "data": {
      "text/plain": [
       "'0.53%'"
      ]
     },
     "execution_count": 100,
     "metadata": {},
     "output_type": "execute_result"
    }
   ],
   "source": [
    "d.text()"
   ]
  },
  {
   "cell_type": "code",
   "execution_count": 91,
   "metadata": {},
   "outputs": [
    {
     "data": {
      "text/plain": [
       "-0.43"
      ]
     },
     "execution_count": 91,
     "metadata": {},
     "output_type": "execute_result"
    }
   ],
   "source": [
    "float(d.text()[:-1])"
   ]
  },
  {
   "cell_type": "code",
   "execution_count": null,
   "metadata": {},
   "outputs": [],
   "source": []
  }
 ],
 "metadata": {
  "kernelspec": {
   "display_name": "Python 3",
   "language": "python",
   "name": "python3"
  },
  "language_info": {
   "codemirror_mode": {
    "name": "ipython",
    "version": 3
   },
   "file_extension": ".py",
   "mimetype": "text/x-python",
   "name": "python",
   "nbconvert_exporter": "python",
   "pygments_lexer": "ipython3",
   "version": "3.7.3"
  },
  "toc": {
   "base_numbering": 1,
   "nav_menu": {},
   "number_sections": true,
   "sideBar": true,
   "skip_h1_title": false,
   "title_cell": "Table of Contents",
   "title_sidebar": "Contents",
   "toc_cell": false,
   "toc_position": {},
   "toc_section_display": true,
   "toc_window_display": true
  }
 },
 "nbformat": 4,
 "nbformat_minor": 2
}
