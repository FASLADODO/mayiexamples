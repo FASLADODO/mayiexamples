{
 "cells": [
  {
   "cell_type": "markdown",
   "metadata": {},
   "source": [
    "http://spark.apache.org/docs/latest/ml-pipeline.html"
   ]
  },
  {
   "cell_type": "code",
   "execution_count": 2,
   "metadata": {},
   "outputs": [],
   "source": [
    "import pyspark\n",
    "from pyspark.sql import SparkSession"
   ]
  },
  {
   "cell_type": "markdown",
   "metadata": {},
   "source": [
    "# sparkml API"
   ]
  },
  {
   "cell_type": "markdown",
   "metadata": {},
   "source": [
    "## 生成SparkSession实例"
   ]
  },
  {
   "cell_type": "code",
   "execution_count": 3,
   "metadata": {},
   "outputs": [],
   "source": [
    "spark = SparkSession.builder \\\n",
    "     .master(\"local[*]\") \\\n",
    "     .appName(\"Word Count\") \\\n",
    "     .config(\"spark.some.config.option\", \"some-value\") \\\n",
    "     .getOrCreate()"
   ]
  },
  {
   "cell_type": "markdown",
   "metadata": {},
   "source": [
    "# examples & api"
   ]
  },
  {
   "cell_type": "markdown",
   "metadata": {},
   "source": [
    "## sparkmlhw01\n",
    "采用Datasets操作，实现WordCount实例，并且按照count值降序显示前50行数据，其中word转换成小写，去除标点符号，去除停用词，考查点：  \n",
    "1）  spark读取文件  \n",
    "2）  dataset转换操作、聚合操作  \n",
    "重点在数据清洗，转成小写，去除标点、停用词等，这里需要自己自定义停用词集合 和 标点符号集合  \n",
    "3）  dataset排序及显示  "
   ]
  },
  {
   "cell_type": "code",
   "execution_count": 6,
   "metadata": {},
   "outputs": [
    {
     "data": {
      "text/plain": [
       "pyspark.sql.dataframe.DataFrame"
      ]
     },
     "execution_count": 6,
     "metadata": {},
     "output_type": "execute_result"
    }
   ],
   "source": [
    "df1 = spark.read.csv(\"file:///Users/luoyonggui/PycharmProjects/mayiexamples/sparkml/data/wordcount\", sep='|', header=False)\n",
    "type(df1)"
   ]
  },
  {
   "cell_type": "markdown",
   "metadata": {},
   "source": [
    "### show(n=20, truncate=True, vertical=False)"
   ]
  },
  {
   "cell_type": "code",
   "execution_count": 7,
   "metadata": {},
   "outputs": [
    {
     "name": "stdout",
     "output_type": "stream",
     "text": [
      "+---+--------------------+\n",
      "|_c0|                 _c1|\n",
      "+---+--------------------+\n",
      "|  1|The Apache Hadoop...|\n",
      "|  2|Apache Spark is a...|\n",
      "|  3|Apache Storm is a...|\n",
      "|  4|Below is a high-l...|\n",
      "+---+--------------------+\n",
      "\n"
     ]
    }
   ],
   "source": [
    "df1.show(5)"
   ]
  },
  {
   "cell_type": "code",
   "execution_count": 8,
   "metadata": {},
   "outputs": [
    {
     "name": "stdout",
     "output_type": "stream",
     "text": [
      "+---+-------------------------------------------------------------------------------------------------------------------------------------------------------------------------------------------------------------------------------------------------------------------------------------------------------------------------------------------------------------------------------------------------------------------------------------------------------------------------------------------------------------------------------------------------------------------------+\n",
      "|_c0|_c1                                                                                                                                                                                                                                                                                                                                                                                                                                                                                                                                                                      |\n",
      "+---+-------------------------------------------------------------------------------------------------------------------------------------------------------------------------------------------------------------------------------------------------------------------------------------------------------------------------------------------------------------------------------------------------------------------------------------------------------------------------------------------------------------------------------------------------------------------------+\n",
      "|1  |The Apache Hadoop software library is a framework that allows for the distributed processing of large data sets across clusters of computers using simple programming models. It is designed to scale up from single servers to thousands of machines, each offering local computation and storage. Rather than rely on hardware to deliver high-availability, the library itself is designed to detect and handle failures at the application layer, so delivering a highly-available service on top of a cluster of computers, each of which may be prone to failures﻿.|\n",
      "+---+-------------------------------------------------------------------------------------------------------------------------------------------------------------------------------------------------------------------------------------------------------------------------------------------------------------------------------------------------------------------------------------------------------------------------------------------------------------------------------------------------------------------------------------------------------------------------+\n",
      "only showing top 1 row\n",
      "\n"
     ]
    }
   ],
   "source": [
    "df1.show(1, truncate=False)"
   ]
  },
  {
   "cell_type": "markdown",
   "metadata": {},
   "source": [
    "### withColumnRenamed(existing, new)"
   ]
  },
  {
   "cell_type": "code",
   "execution_count": 9,
   "metadata": {},
   "outputs": [],
   "source": [
    "df1 = df1.withColumnRenamed('_c0','index').withColumnRenamed('_c1','content')"
   ]
  },
  {
   "cell_type": "code",
   "execution_count": 10,
   "metadata": {},
   "outputs": [
    {
     "data": {
      "text/plain": [
       "[('index', 'string'), ('content', 'string')]"
      ]
     },
     "execution_count": 10,
     "metadata": {},
     "output_type": "execute_result"
    }
   ],
   "source": [
    "df1.dtypes"
   ]
  },
  {
   "cell_type": "markdown",
   "metadata": {},
   "source": [
    "### select(*cols)"
   ]
  },
  {
   "cell_type": "code",
   "execution_count": 11,
   "metadata": {},
   "outputs": [],
   "source": [
    "df2 = df1.select('content')"
   ]
  },
  {
   "cell_type": "code",
   "execution_count": 12,
   "metadata": {},
   "outputs": [
    {
     "name": "stdout",
     "output_type": "stream",
     "text": [
      "+--------------------+\n",
      "|             content|\n",
      "+--------------------+\n",
      "|The Apache Hadoop...|\n",
      "|Apache Spark is a...|\n",
      "|Apache Storm is a...|\n",
      "|Below is a high-l...|\n",
      "+--------------------+\n",
      "\n"
     ]
    }
   ],
   "source": [
    "df2.show(5)"
   ]
  },
  {
   "cell_type": "markdown",
   "metadata": {},
   "source": [
    "### DataFrame转换rdd"
   ]
  },
  {
   "cell_type": "code",
   "execution_count": 13,
   "metadata": {},
   "outputs": [],
   "source": [
    "rdd1 = df2.rdd.flatMap(lambda x:x[0].split())"
   ]
  },
  {
   "cell_type": "markdown",
   "metadata": {},
   "source": [
    "### first()"
   ]
  },
  {
   "cell_type": "code",
   "execution_count": 14,
   "metadata": {},
   "outputs": [
    {
     "data": {
      "text/plain": [
       "'The'"
      ]
     },
     "execution_count": 14,
     "metadata": {},
     "output_type": "execute_result"
    }
   ],
   "source": [
    "rdd1.first()"
   ]
  },
  {
   "cell_type": "markdown",
   "metadata": {},
   "source": [
    "### rdd1.take(num)"
   ]
  },
  {
   "cell_type": "code",
   "execution_count": 15,
   "metadata": {},
   "outputs": [
    {
     "data": {
      "text/plain": [
       "['The', 'Apache', 'Hadoop', 'software', 'library']"
      ]
     },
     "execution_count": 15,
     "metadata": {},
     "output_type": "execute_result"
    }
   ],
   "source": [
    "rdd1.take(5)"
   ]
  },
  {
   "cell_type": "code",
   "execution_count": 16,
   "metadata": {},
   "outputs": [
    {
     "data": {
      "text/plain": [
       "[('apache', 1),\n",
       " ('hadoop', 1),\n",
       " ('software', 1),\n",
       " ('library', 1),\n",
       " ('framework', 1)]"
      ]
     },
     "execution_count": 16,
     "metadata": {},
     "output_type": "execute_result"
    }
   ],
   "source": [
    "rdd2 = rdd1.map(lambda x:x.lower())\\\n",
    "    .filter(lambda x: x not in list(\",.:!';\"))\\\n",
    "    .filter(lambda x: x not in [\"the\",\"of\",\"a\",\"to\",\"that\",\"it\",\"for\",\"is\",\"and\"])\\\n",
    "    .map(lambda x:(x,1))\n",
    "rdd2.take(5)"
   ]
  },
  {
   "cell_type": "markdown",
   "metadata": {},
   "source": [
    "### rdd2.reduceByKey"
   ]
  },
  {
   "cell_type": "code",
   "execution_count": 17,
   "metadata": {},
   "outputs": [],
   "source": [
    "# rdd3 = rdd2.reduceByKey(lambda a,b:a+b)\n",
    "# rdd3.take(5)"
   ]
  },
  {
   "cell_type": "code",
   "execution_count": 18,
   "metadata": {},
   "outputs": [
    {
     "data": {
      "text/plain": [
       "[('apache', 4),\n",
       " ('hadoop', 2),\n",
       " ('software', 1),\n",
       " ('library', 2),\n",
       " ('framework', 1)]"
      ]
     },
     "execution_count": 18,
     "metadata": {},
     "output_type": "execute_result"
    }
   ],
   "source": [
    "from operator import add\n",
    "rdd3 = rdd2.reduceByKey(add)\n",
    "rdd3.take(5)"
   ]
  },
  {
   "cell_type": "markdown",
   "metadata": {},
   "source": [
    "### rdd转DataFrame"
   ]
  },
  {
   "cell_type": "code",
   "execution_count": 19,
   "metadata": {},
   "outputs": [],
   "source": [
    "# df3 = spark.createDataFrame(rdd3)\n",
    "# df3.show(5)"
   ]
  },
  {
   "cell_type": "code",
   "execution_count": 20,
   "metadata": {},
   "outputs": [
    {
     "name": "stdout",
     "output_type": "stream",
     "text": [
      "+---------+---+\n",
      "|       _1| _2|\n",
      "+---------+---+\n",
      "|   apache|  4|\n",
      "|   hadoop|  2|\n",
      "| software|  1|\n",
      "|  library|  2|\n",
      "|framework|  1|\n",
      "+---------+---+\n",
      "only showing top 5 rows\n",
      "\n"
     ]
    }
   ],
   "source": [
    "df3 = rdd3.toDF()\n",
    "df3.show(5)"
   ]
  },
  {
   "cell_type": "markdown",
   "metadata": {},
   "source": [
    "### sort(*cols, **kwargs)"
   ]
  },
  {
   "cell_type": "code",
   "execution_count": 24,
   "metadata": {},
   "outputs": [
    {
     "name": "stdout",
     "output_type": "stream",
     "text": [
      "+-----------+---+\n",
      "|         _1| _2|\n",
      "+-----------+---+\n",
      "|     apache|  4|\n",
      "|      storm|  3|\n",
      "|      spark|  3|\n",
      "|     hadoop|  2|\n",
      "|    library|  2|\n",
      "|distributed|  2|\n",
      "|       data|  2|\n",
      "|   designed|  2|\n",
      "|computation|  2|\n",
      "| processing|  2|\n",
      "|    system.|  2|\n",
      "|programming|  2|\n",
      "|        sql|  2|\n",
      "|       each|  2|\n",
      "|         on|  2|\n",
      "|    cluster|  2|\n",
      "|         be|  2|\n",
      "| high-level|  2|\n",
      "|         in|  2|\n",
      "|   supports|  2|\n",
      "+-----------+---+\n",
      "only showing top 20 rows\n",
      "\n"
     ]
    }
   ],
   "source": [
    "df3.sort(df3['_2'].desc()).show()"
   ]
  },
  {
   "cell_type": "markdown",
   "metadata": {},
   "source": [
    "## sparkmlhw02\n",
    "采用ML Pipelines构建一个文档分类器，需要将模型进行保存，并且加载模型后对测试样本进行预测，考查点：\n",
    "\n",
    "1）  spark读取文件\n",
    "\n",
    "2）  数据清洗，考查Datasets的基本操作\n",
    "\n",
    "3）  构建分类器的管道，考查构建各种转换操作\n",
    "\n",
    "4）  读取模型，读取测试数据，并且进行模型测试\n",
    "\n",
    " \n",
    "\n",
    "数据格式：\n",
    "\n",
    "myapp_id|typenameid|typename|myapp_word|myapp_word_all\n",
    "\n",
    " \n",
    "\n",
    "其中文档ID字段为：myapp_id\n",
    "\n",
    "其中文档类别字段为：typenameid\n",
    "\n",
    "其中文档内容为：myapp_word_all"
   ]
  },
  {
   "cell_type": "code",
   "execution_count": 21,
   "metadata": {},
   "outputs": [
    {
     "name": "stdout",
     "output_type": "stream",
     "text": [
      "+--------+----------+--------+--------------------+--------------------+\n",
      "|myapp_id|typenameid|typename|          myapp_word|      myapp_word_all|\n",
      "+--------+----------+--------+--------------------+--------------------+\n",
      "| 1376533|         2|  action|game, android, world|game, android, wo...|\n",
      "| 1376542|         2|  action|                game|game, app, enjoy,...|\n",
      "| 1376603|         2|  action|run, tap, collect...|run, tap, collect...|\n",
      "| 1376792|         2|  action|                 run|run, ath, game, m...|\n",
      "| 1376941|         2|  action|fight, game, play...|fight, game, play...|\n",
      "+--------+----------+--------+--------------------+--------------------+\n",
      "only showing top 5 rows\n",
      "\n"
     ]
    }
   ],
   "source": [
    "df1 = spark.read.csv(\"file:///Users/luoyonggui/PycharmProjects/mayiexamples/sparkml/data/doc_class.dat\", sep='|', header=True)\n",
    "df1.show(5)"
   ]
  },
  {
   "cell_type": "markdown",
   "metadata": {},
   "source": [
    "### count() \n",
    "Returns the number of rows in this :class:`DataFrame`."
   ]
  },
  {
   "cell_type": "code",
   "execution_count": 22,
   "metadata": {},
   "outputs": [
    {
     "data": {
      "text/plain": [
       "334500"
      ]
     },
     "execution_count": 22,
     "metadata": {},
     "output_type": "execute_result"
    }
   ],
   "source": [
    "df1.count()"
   ]
  },
  {
   "cell_type": "markdown",
   "metadata": {},
   "source": [
    "### dtypes"
   ]
  },
  {
   "cell_type": "code",
   "execution_count": 23,
   "metadata": {},
   "outputs": [
    {
     "data": {
      "text/plain": [
       "[('myapp_id', 'string'),\n",
       " ('typenameid', 'string'),\n",
       " ('typename', 'string'),\n",
       " ('myapp_word', 'string'),\n",
       " ('myapp_word_all', 'string')]"
      ]
     },
     "execution_count": 23,
     "metadata": {},
     "output_type": "execute_result"
    }
   ],
   "source": [
    "df1.dtypes"
   ]
  },
  {
   "cell_type": "markdown",
   "metadata": {},
   "source": [
    "### columns"
   ]
  },
  {
   "cell_type": "code",
   "execution_count": 24,
   "metadata": {},
   "outputs": [
    {
     "data": {
      "text/plain": [
       "['myapp_id', 'typenameid', 'typename', 'myapp_word', 'myapp_word_all']"
      ]
     },
     "execution_count": 24,
     "metadata": {},
     "output_type": "execute_result"
    }
   ],
   "source": [
    "df1.columns"
   ]
  },
  {
   "cell_type": "markdown",
   "metadata": {},
   "source": [
    "### checkpoint()"
   ]
  },
  {
   "cell_type": "code",
   "execution_count": 25,
   "metadata": {},
   "outputs": [],
   "source": [
    "spark.sparkContext.setCheckpointDir('CheckpointDir/tt123')"
   ]
  },
  {
   "cell_type": "code",
   "execution_count": 26,
   "metadata": {},
   "outputs": [
    {
     "data": {
      "text/plain": [
       "DataFrame[myapp_id: string, typenameid: string, typename: string, myapp_word: string, myapp_word_all: string]"
      ]
     },
     "execution_count": 26,
     "metadata": {},
     "output_type": "execute_result"
    }
   ],
   "source": [
    "df1.checkpoint()"
   ]
  },
  {
   "cell_type": "markdown",
   "metadata": {},
   "source": [
    "### 强制类型转换"
   ]
  },
  {
   "cell_type": "code",
   "execution_count": 27,
   "metadata": {},
   "outputs": [],
   "source": [
    "df1 = df1.withColumnRenamed('typenameid','label')\n",
    "from pyspark.sql.functions import col\n",
    "from pyspark.sql.types import IntegerType\n",
    "df1 = df1.withColumn('label', col('label').cast(IntegerType()))"
   ]
  },
  {
   "cell_type": "code",
   "execution_count": 28,
   "metadata": {},
   "outputs": [
    {
     "data": {
      "text/plain": [
       "[('myapp_id', 'string'),\n",
       " ('label', 'int'),\n",
       " ('typename', 'string'),\n",
       " ('myapp_word', 'string'),\n",
       " ('myapp_word_all', 'string')]"
      ]
     },
     "execution_count": 28,
     "metadata": {},
     "output_type": "execute_result"
    }
   ],
   "source": [
    "df1.dtypes"
   ]
  },
  {
   "cell_type": "markdown",
   "metadata": {},
   "source": [
    "### 切分训练集和测试集,会先打乱数据集"
   ]
  },
  {
   "cell_type": "code",
   "execution_count": 29,
   "metadata": {},
   "outputs": [],
   "source": [
    "#切分训练集和测试集,会先打乱数据集\n",
    "train_set, test_set = df1.randomSplit([0.9,0.1])"
   ]
  },
  {
   "cell_type": "code",
   "execution_count": 30,
   "metadata": {},
   "outputs": [
    {
     "data": {
      "text/plain": [
       "301005"
      ]
     },
     "execution_count": 30,
     "metadata": {},
     "output_type": "execute_result"
    }
   ],
   "source": [
    "train_set.count()"
   ]
  },
  {
   "cell_type": "code",
   "execution_count": 31,
   "metadata": {},
   "outputs": [],
   "source": [
    "from pyspark.ml import Pipeline, PipelineModel\n",
    "from pyspark.ml.classification import LogisticRegression\n",
    "from pyspark.ml.feature import HashingTF, Tokenizer\n",
    "from pyspark.sql import Row\n",
    "from pyspark.ml.linalg import Vector"
   ]
  },
  {
   "cell_type": "markdown",
   "metadata": {},
   "source": [
    "### 模型训练Pipeline  LogisticRegression HashingTF, Tokenizer"
   ]
  },
  {
   "cell_type": "code",
   "execution_count": 36,
   "metadata": {},
   "outputs": [
    {
     "name": "stdout",
     "output_type": "stream",
     "text": [
      "17.490482807159424s\n"
     ]
    }
   ],
   "source": [
    "from time import time\n",
    "start = time()\n",
    "tokenizer = Tokenizer(inputCol='myapp_word_all', outputCol='words')\n",
    "hashingTF = HashingTF(numFeatures=1000, inputCol='words', outputCol='features')\n",
    "\n",
    "lr = LogisticRegression(maxIter=10, regParam=0.001)\n",
    "pipeline = Pipeline(stages=[tokenizer, hashingTF, lr])\n",
    "model = pipeline.fit(train_set)\n",
    "print(f'{time()-start}s')"
   ]
  },
  {
   "cell_type": "markdown",
   "metadata": {},
   "source": [
    "### 模型预测"
   ]
  },
  {
   "cell_type": "code",
   "execution_count": 37,
   "metadata": {},
   "outputs": [
    {
     "name": "stdout",
     "output_type": "stream",
     "text": [
      "+--------+-----+-----------------+--------------------+----------+\n",
      "|myapp_id|label|         typename|         probability|prediction|\n",
      "+--------+-----+-----------------+--------------------+----------+\n",
      "| 1376501|    4|           arcade|[4.11158459184166...|       4.0|\n",
      "| 1376523|   14|           casual|[2.94084062076931...|      14.0|\n",
      "| 1376606|    4|           arcade|[6.08513932347101...|       4.0|\n",
      "| 1376635|    4|           arcade|[6.08513932347101...|       4.0|\n",
      "| 1376656|   16|    communication|[1.78901353628456...|      16.0|\n",
      "| 1376782|   14|           casual|[1.46631980338166...|      14.0|\n",
      "| 1377005|   16|    communication|[1.78901353628456...|      16.0|\n",
      "| 1377059|    4|           arcade|[6.08513932347101...|       4.0|\n",
      "| 1377153|   16|    communication|[1.78901353628456...|      16.0|\n",
      "| 1377192|    7|books & reference|[1.21296495436360...|       7.0|\n",
      "| 1377195|    4|           arcade|[5.37814702677680...|       4.0|\n",
      "| 1377499|   16|    communication|[1.78901353628456...|      16.0|\n",
      "| 1377543|    3|        adventure|[1.56060558512871...|       3.0|\n",
      "| 1377626|   16|    communication|[1.78901353628456...|      16.0|\n",
      "| 1377648|   16|    communication|[1.78901353628456...|      16.0|\n",
      "| 1377738|    7|books & reference|[1.21296495436360...|       7.0|\n",
      "| 1377944|   14|           casual|[2.94084062076931...|      14.0|\n",
      "| 1378012|   14|           casual|[1.46631980338166...|      14.0|\n",
      "| 1378114|    4|           arcade|[6.08513932347101...|       4.0|\n",
      "| 1378332|   16|    communication|[1.78901353628456...|      16.0|\n",
      "+--------+-----+-----------------+--------------------+----------+\n",
      "only showing top 20 rows\n",
      "\n"
     ]
    }
   ],
   "source": [
    "p = model.transform(test_set)\n",
    "p.select(\"myapp_id\",\"label\",\"typename\",\"probability\",\"prediction\").show()"
   ]
  },
  {
   "cell_type": "markdown",
   "metadata": {},
   "source": [
    "### 模型保存和加载"
   ]
  },
  {
   "cell_type": "code",
   "execution_count": 38,
   "metadata": {},
   "outputs": [],
   "source": [
    "#模型保存和加载\n",
    "model.save('file:///tmp/testModel')"
   ]
  },
  {
   "cell_type": "code",
   "execution_count": 39,
   "metadata": {},
   "outputs": [
    {
     "name": "stdout",
     "output_type": "stream",
     "text": [
      "\u001b[1m\u001b[36mmetadata\u001b[m\u001b[m \u001b[1m\u001b[36mstages\u001b[m\u001b[m\r\n"
     ]
    }
   ],
   "source": [
    "!ls /tmp/testModel"
   ]
  },
  {
   "cell_type": "code",
   "execution_count": 40,
   "metadata": {},
   "outputs": [],
   "source": [
    "! open /tmp/testModel"
   ]
  },
  {
   "cell_type": "code",
   "execution_count": 41,
   "metadata": {},
   "outputs": [],
   "source": [
    "savedModel = PipelineModel.load('file:///tmp/testModel')"
   ]
  },
  {
   "cell_type": "code",
   "execution_count": 42,
   "metadata": {},
   "outputs": [
    {
     "name": "stdout",
     "output_type": "stream",
     "text": [
      "+--------+-----+-------------+--------------------+----------+\n",
      "|myapp_id|label|     typename|         probability|prediction|\n",
      "+--------+-----+-------------+--------------------+----------+\n",
      "| 1376501|    4|       arcade|[4.11158459184166...|       4.0|\n",
      "| 1376523|   14|       casual|[2.94084062076931...|      14.0|\n",
      "| 1376606|    4|       arcade|[6.08513932347101...|       4.0|\n",
      "| 1376635|    4|       arcade|[6.08513932347101...|       4.0|\n",
      "| 1376656|   16|communication|[1.78901353628456...|      16.0|\n",
      "+--------+-----+-------------+--------------------+----------+\n",
      "only showing top 5 rows\n",
      "\n"
     ]
    }
   ],
   "source": [
    "p = savedModel.transform(test_set)\n",
    "p.select(\"myapp_id\",\"label\",\"typename\",\"probability\",\"prediction\").show(5)"
   ]
  },
  {
   "cell_type": "markdown",
   "metadata": {},
   "source": [
    "### pipeline保存和加载"
   ]
  },
  {
   "cell_type": "code",
   "execution_count": 43,
   "metadata": {},
   "outputs": [],
   "source": [
    "pipeline.save('file:///tmp/pp')"
   ]
  },
  {
   "cell_type": "code",
   "execution_count": 46,
   "metadata": {},
   "outputs": [
    {
     "name": "stdout",
     "output_type": "stream",
     "text": [
      "\u001b[1m\u001b[36mmetadata\u001b[m\u001b[m \u001b[1m\u001b[36mstages\u001b[m\u001b[m\r\n"
     ]
    }
   ],
   "source": [
    "!ls /tmp/pp"
   ]
  },
  {
   "cell_type": "code",
   "execution_count": 48,
   "metadata": {},
   "outputs": [],
   "source": [
    "pp = Pipeline.load('file:///tmp/pp')"
   ]
  },
  {
   "cell_type": "markdown",
   "metadata": {},
   "source": [
    "## sparkmlhw03\n",
    "第3次课的作业和第2次的课一样，只是需要采用交叉验证的方法来做，并且还要计算各种分类指标，这里要分2次实验，第1次设计1个2元分类器，第2次设计1个多元分类器。\n",
    "\n",
    " \n",
    "\n",
    "采用ML Pipelines构建一个文档分类器，需要将模型进行保存，并且加载模型后对测试样本进行预测，考查点：\n",
    "\n",
    "1）  spark读取文件\n",
    "\n",
    "2）  数据清洗，考查Datasets的基本操作\n",
    "\n",
    "3）  构建分类器的管道，考查构建各种转换操作\n",
    "\n",
    "4）  读取模型，读取测试数据，并且进行模型测试\n",
    "\n",
    "5）  重点：自己设置交叉验证的网格参数，采用交叉验证的模型来做\n",
    "\n",
    "6）  重点：计算分类结果的指标\n",
    "\n",
    " \n",
    "\n",
    "数据格式：\n",
    "\n",
    "myapp_id|typenameid|typename|myapp_word|myapp_word_all\n",
    "\n",
    " \n",
    "\n",
    "其中文档ID字段为：myapp_id\n",
    "\n",
    "其中文档类别字段为：typenameid\n",
    "\n",
    "其中文档内容为：myapp_word_all"
   ]
  },
  {
   "cell_type": "code",
   "execution_count": 51,
   "metadata": {},
   "outputs": [
    {
     "name": "stdout",
     "output_type": "stream",
     "text": [
      "+--------+----------+--------+--------------------+--------------------+\n",
      "|myapp_id|typenameid|typename|          myapp_word|      myapp_word_all|\n",
      "+--------+----------+--------+--------------------+--------------------+\n",
      "| 1376533|         2|  action|game, android, world|game, android, wo...|\n",
      "| 1376542|         2|  action|                game|game, app, enjoy,...|\n",
      "| 1376603|         2|  action|run, tap, collect...|run, tap, collect...|\n",
      "| 1376792|         2|  action|                 run|run, ath, game, m...|\n",
      "| 1376941|         2|  action|fight, game, play...|fight, game, play...|\n",
      "+--------+----------+--------+--------------------+--------------------+\n",
      "only showing top 5 rows\n",
      "\n"
     ]
    }
   ],
   "source": [
    "df1 = spark.read.csv(\"file:///Users/luoyonggui/PycharmProjects/mayiexamples/sparkml/data/doc_class.dat\", sep='|', header=True)\n",
    "df1.show(5)"
   ]
  },
  {
   "cell_type": "markdown",
   "metadata": {},
   "source": [
    "### collect()\n",
    "Returns all the records as a list of :class:`Row`."
   ]
  },
  {
   "cell_type": "code",
   "execution_count": 57,
   "metadata": {
    "collapsed": true
   },
   "outputs": [
    {
     "data": {
      "text/plain": [
       "[Row(myapp_id='1376533', typenameid='2', typename='action', myapp_word='game, android, world', myapp_word_all='game, android, world, control, devic, experi, free, gameplay, play, screen, time, touch, war, action, addict, app, ath, attack, battl, challeng, collect, complet, descript, easi, enemi, enjoy, featur, fight, find, friend, fun, gamec, graphic, great, gun, high, kill, level, make, mission, mode, move, player, power, read, real, run, score, shoot, shooter, simpl, skill, sound, special, surviv, tap, uniqu, upgrad, weapon, zombi'),\n",
       " Row(myapp_id='1376542', typenameid='2', typename='action', myapp_word='game', myapp_word_all='game, app, enjoy, free, high, play, run, action, addict, android, ath, attack, battl, challeng, collect, complet, control, descript, devic, easi, enemi, experi, featur, fight, find, friend, fun, gamec, gameplay, graphic, great, gun, kill, level, make, mission, mode, move, player, power, read, real, score, screen, shoot, shooter, simpl, skill, sound, special, surviv, tap, time, touch, uniqu, upgrad, war, weapon, world, zombi'),\n",
       " Row(myapp_id='1376603', typenameid='2', typename='action', myapp_word='run, tap, collect, game', myapp_word_all='run, tap, collect, game, featur, gamec, graphic, great, play, score, screen, sound, special, action, addict, android, app, ath, attack, battl, challeng, complet, control, descript, devic, easi, enemi, enjoy, experi, fight, find, free, friend, fun, gameplay, gun, high, kill, level, make, mission, mode, move, player, power, read, real, shoot, shooter, simpl, skill, surviv, time, touch, uniqu, upgrad, war, weapon, world, zombi'),\n",
       " Row(myapp_id='1376792', typenameid='2', typename='action', myapp_word='run', myapp_word_all='run, ath, game, make, screen, skill, touch, action, addict, android, app, attack, battl, challeng, collect, complet, control, descript, devic, easi, enemi, enjoy, experi, featur, fight, find, free, friend, fun, gamec, gameplay, graphic, great, gun, high, kill, level, mission, mode, move, play, player, power, read, real, score, shoot, shooter, simpl, sound, special, surviv, tap, time, uniqu, upgrad, war, weapon, world, zombi'),\n",
       " Row(myapp_id='1376941', typenameid='2', typename='action', myapp_word='fight, game, player, action', myapp_word_all='fight, game, player, action, complet, experi, friend, play, shoot, time, weapon, world, addict, android, app, ath, attack, battl, challeng, collect, control, descript, devic, easi, enemi, enjoy, featur, find, free, fun, gamec, gameplay, graphic, great, gun, high, kill, level, make, mission, mode, move, power, read, real, run, score, screen, shooter, simpl, skill, sound, special, surviv, tap, touch, uniqu, upgrad, war, zombi')]"
      ]
     },
     "execution_count": 57,
     "metadata": {},
     "output_type": "execute_result"
    }
   ],
   "source": [
    "df1.collect()[:5]"
   ]
  },
  {
   "cell_type": "markdown",
   "metadata": {},
   "source": [
    "### distinct()"
   ]
  },
  {
   "cell_type": "code",
   "execution_count": 52,
   "metadata": {},
   "outputs": [
    {
     "data": {
      "text/plain": [
       "46"
      ]
     },
     "execution_count": 52,
     "metadata": {},
     "output_type": "execute_result"
    }
   ],
   "source": [
    "df1.select('typenameid').distinct().count()"
   ]
  },
  {
   "cell_type": "markdown",
   "metadata": {},
   "source": [
    "### groupby()"
   ]
  },
  {
   "cell_type": "code",
   "execution_count": 58,
   "metadata": {
    "scrolled": true
   },
   "outputs": [
    {
     "data": {
      "text/plain": [
       "[Row(typenameid='7', count(myapp_id)=13122),\n",
       " Row(typenameid='15', count(myapp_id)=1785),\n",
       " Row(typenameid='11', count(myapp_id)=3828),\n",
       " Row(typenameid='29', count(myapp_id)=11588),\n",
       " Row(typenameid='42', count(myapp_id)=1439),\n",
       " Row(typenameid='3', count(myapp_id)=2181),\n",
       " Row(typenameid='30', count(myapp_id)=10974),\n",
       " Row(typenameid='34', count(myapp_id)=15295),\n",
       " Row(typenameid='8', count(myapp_id)=245),\n",
       " Row(typenameid='22', count(myapp_id)=10084),\n",
       " Row(typenameid='28', count(myapp_id)=587),\n",
       " Row(typenameid='16', count(myapp_id)=9981),\n",
       " Row(typenameid='35', count(myapp_id)=3148),\n",
       " Row(typenameid='47', count(myapp_id)=2582),\n",
       " Row(typenameid='43', count(myapp_id)=26346),\n",
       " Row(typenameid='5', count(myapp_id)=213),\n",
       " Row(typenameid='31', count(myapp_id)=17319),\n",
       " Row(typenameid='18', count(myapp_id)=2782),\n",
       " Row(typenameid='27', count(myapp_id)=5766),\n",
       " Row(typenameid='17', count(myapp_id)=17553),\n",
       " Row(typenameid='26', count(myapp_id)=6107),\n",
       " Row(typenameid='46', count(myapp_id)=1444),\n",
       " Row(typenameid='6', count(myapp_id)=1317),\n",
       " Row(typenameid='23', count(myapp_id)=9912),\n",
       " Row(typenameid='41', count(myapp_id)=24),\n",
       " Row(typenameid='38', count(myapp_id)=1615),\n",
       " Row(typenameid='40', count(myapp_id)=14655),\n",
       " Row(typenameid='25', count(myapp_id)=16618),\n",
       " Row(typenameid='44', count(myapp_id)=5201),\n",
       " Row(typenameid='33', count(myapp_id)=13462),\n",
       " Row(typenameid='48', count(myapp_id)=1001),\n",
       " Row(typenameid='9', count(myapp_id)=2),\n",
       " Row(typenameid='24', count(myapp_id)=2263),\n",
       " Row(typenameid='32', count(myapp_id)=5753),\n",
       " Row(typenameid='20', count(myapp_id)=21647),\n",
       " Row(typenameid='36', count(myapp_id)=845),\n",
       " Row(typenameid='10', count(myapp_id)=14530),\n",
       " Row(typenameid='37', count(myapp_id)=6021),\n",
       " Row(typenameid='4', count(myapp_id)=11530),\n",
       " Row(typenameid='39', count(myapp_id)=9128),\n",
       " Row(typenameid='12', count(myapp_id)=46),\n",
       " Row(typenameid='13', count(myapp_id)=1681),\n",
       " Row(typenameid='14', count(myapp_id)=12260),\n",
       " Row(typenameid='21', count(myapp_id)=1923),\n",
       " Row(typenameid='2', count(myapp_id)=2689),\n",
       " Row(typenameid='45', count(myapp_id)=16008)]"
      ]
     },
     "execution_count": 58,
     "metadata": {},
     "output_type": "execute_result"
    }
   ],
   "source": [
    "df1.groupBy('typenameid').agg({'myapp_id': 'count'}).collect()"
   ]
  },
  {
   "cell_type": "code",
   "execution_count": 53,
   "metadata": {},
   "outputs": [],
   "source": [
    "tokenizer = Tokenizer(inputCol='myapp_word_all', outputCol='words')\n",
    "hashingTF = HashingTF(inputCol='words', outputCol='features')\n",
    "df2 = df1.withColumnRenamed('typenameid','label').withColumn('label', col('label').cast(IntegerType()))\n",
    "#切分训练集和测试集,会先打乱数据集\n",
    "train_set, test_set = df2.randomSplit([0.9,0.1])\n",
    "lr = LogisticRegression(maxIter=10)\n",
    "pipeline = Pipeline(stages=[tokenizer, hashingTF, lr])"
   ]
  },
  {
   "cell_type": "markdown",
   "metadata": {},
   "source": [
    "### 网格调参grid"
   ]
  },
  {
   "cell_type": "code",
   "execution_count": 59,
   "metadata": {},
   "outputs": [],
   "source": [
    "from pyspark.ml.tuning import ParamGridBuilder\n",
    "paramGrid = ParamGridBuilder().addGrid(hashingTF.numFeatures,[10, 100, 1000]).addGrid(lr.regParam, [0.1, 0.01]).build()"
   ]
  },
  {
   "cell_type": "markdown",
   "metadata": {},
   "source": [
    "### 二元分类"
   ]
  },
  {
   "cell_type": "code",
   "execution_count": 60,
   "metadata": {},
   "outputs": [],
   "source": [
    "from pyspark.ml.evaluation import BinaryClassificationEvaluator\n",
    "evaluator = BinaryClassificationEvaluator()"
   ]
  },
  {
   "cell_type": "markdown",
   "metadata": {},
   "source": [
    "### 交叉验证"
   ]
  },
  {
   "cell_type": "code",
   "execution_count": 61,
   "metadata": {},
   "outputs": [],
   "source": [
    "from pyspark.ml.tuning import CrossValidator\n",
    "cv = CrossValidator(estimator=pipeline, evaluator=evaluator, estimatorParamMaps=paramGrid, numFolds=2)"
   ]
  },
  {
   "cell_type": "code",
   "execution_count": 62,
   "metadata": {},
   "outputs": [
    {
     "name": "stdout",
     "output_type": "stream",
     "text": [
      "175.16829204559326\n"
     ]
    }
   ],
   "source": [
    "start = time()\n",
    "cvModel = cv.fit(train_set)\n",
    "print(time()-start)"
   ]
  },
  {
   "cell_type": "code",
   "execution_count": 64,
   "metadata": {},
   "outputs": [
    {
     "name": "stdout",
     "output_type": "stream",
     "text": [
      "+-----+--------------------+--------------------+----------+\n",
      "|label|       rawPrediction|         probability|prediction|\n",
      "+-----+--------------------+--------------------+----------+\n",
      "|   16|[-7.4650506355219...|[3.28917268712459...|      43.0|\n",
      "|    2|[-7.4655121275154...|[3.76707131453514...|      31.0|\n",
      "|   16|[-7.4650506355219...|[3.28917268712459...|      43.0|\n",
      "|    4|[-7.4650726649511...|[3.09555661679601...|      43.0|\n",
      "|   14|[-7.4646128253141...|[3.53625473567110...|      43.0|\n",
      "|    4|[-7.4650726649511...|[3.09555661679601...|      43.0|\n",
      "|   11|[-7.4654049429803...|[3.73730792079566...|      29.0|\n",
      "|    4|[-7.4650726649511...|[3.09555661679601...|      43.0|\n",
      "|   11|[-7.4654049429803...|[3.73730792079566...|      29.0|\n",
      "|   16|[-7.4650400569118...|[3.49055120567496...|      43.0|\n",
      "|    2|[-7.4655227447676...|[3.78054958781725...|      31.0|\n",
      "|    4|[-7.4650889276234...|[2.81868035613385...|       4.0|\n",
      "|   14|[-7.4645965626417...|[3.47603574364158...|      14.0|\n",
      "|   17|[-7.4650890332807...|[2.69941023577164...|      17.0|\n",
      "|   16|[-7.4650506355219...|[3.28917268712459...|      43.0|\n",
      "|    2|[-7.4655121275154...|[3.76707131453514...|      31.0|\n",
      "|    7|[-7.4649737684079...|[2.98518416937552...|       7.0|\n",
      "|   16|[-7.4650506355219...|[3.28917268712459...|      43.0|\n",
      "|   14|[-7.4645965626417...|[3.47603574364158...|      14.0|\n",
      "|   10|[-7.4649634849549...|[3.25912816707411...|      10.0|\n",
      "+-----+--------------------+--------------------+----------+\n",
      "only showing top 20 rows\n",
      "\n"
     ]
    }
   ],
   "source": [
    "p = cvModel.transform(test_set)\n",
    "p.select(['label', 'rawPrediction', 'probability', 'prediction']).show()"
   ]
  },
  {
   "cell_type": "code",
   "execution_count": 70,
   "metadata": {},
   "outputs": [
    {
     "data": {
      "text/plain": [
       "1.0"
      ]
     },
     "execution_count": 70,
     "metadata": {},
     "output_type": "execute_result"
    }
   ],
   "source": [
    "evaluator.evaluate(p)"
   ]
  },
  {
   "cell_type": "markdown",
   "metadata": {},
   "source": [
    "### 多元分类"
   ]
  },
  {
   "cell_type": "code",
   "execution_count": 66,
   "metadata": {},
   "outputs": [],
   "source": [
    "from pyspark.ml.evaluation import MulticlassClassificationEvaluator\n",
    "evaluator1 = MulticlassClassificationEvaluator()\n",
    "\n",
    "from pyspark.ml.evaluation import MulticlassClassificationEvaluator\n",
    "evaluator2 = MulticlassClassificationEvaluator(metricName='accuracy')"
   ]
  },
  {
   "cell_type": "code",
   "execution_count": 67,
   "metadata": {},
   "outputs": [],
   "source": [
    "cv2 = CrossValidator(estimator=pipeline, evaluator=evaluator1, estimatorParamMaps=paramGrid, numFolds=2)\n",
    "\n",
    "cv3 = CrossValidator(estimator=pipeline, evaluator=evaluator2, estimatorParamMaps=paramGrid, numFolds=2)"
   ]
  },
  {
   "cell_type": "code",
   "execution_count": 68,
   "metadata": {},
   "outputs": [
    {
     "name": "stdout",
     "output_type": "stream",
     "text": [
      "+--------+-----+-----------------+--------------------+--------------------+--------------------+--------------------+--------------------+--------------------+----------+\n",
      "|myapp_id|label|         typename|          myapp_word|      myapp_word_all|               words|            features|       rawPrediction|         probability|prediction|\n",
      "+--------+-----+-----------------+--------------------+--------------------+--------------------+--------------------+--------------------+--------------------+----------+\n",
      "| 1376505|   16|    communication|sms, messag, free...|sms, messag, free...|[sms,, messag,, f...|(1000,[39,52,57,5...|[-7.4647759316632...|[1.65150546698479...|      16.0|\n",
      "| 1376533|    2|           action|game, android, world|game, android, wo...|[game,, android,,...|(1000,[10,39,40,4...|[-7.4647958040277...|[1.07198843263364...|       2.0|\n",
      "| 1376604|   16|    communication|app, phone, devic...|app, phone, devic...|[app,, phone,, de...|(1000,[39,52,57,5...|[-7.4647759316632...|[1.65150546698479...|      16.0|\n",
      "| 1376684|    4|           arcade|               level|level, action, ad...|[level,, action,,...|(1000,[39,57,59,6...|[-7.4647332969582...|[3.60233232848064...|       4.0|\n",
      "| 1376839|   14|           casual|             android|android, make, ph...|[android,, make,,...|(1000,[39,48,59,8...|[-7.4646630049933...|[7.30395990264080...|      14.0|\n",
      "| 1376906|    4|           arcade|                game|game, addict, and...|[game,, addict,, ...|(1000,[39,57,59,6...|[-7.4647332969582...|[3.60233232848064...|       4.0|\n",
      "| 1376908|   11|             card|                hand|hand, android, bo...|[hand,, android,,...|(1000,[20,39,48,5...|[-7.4647826458355...|[1.19795805136172...|      11.0|\n",
      "| 1376912|    4|           arcade|           run, game|run, game, addict...|[run,, game,, add...|(1000,[39,57,59,6...|[-7.4647332969582...|[3.60233232848064...|       4.0|\n",
      "| 1376989|   11|             card|game, app, play, ...|game, app, play, ...|[game,, app,, pla...|(1000,[20,39,48,5...|[-7.4647826458355...|[1.19795805136172...|      11.0|\n",
      "| 1376992|   16|    communication|download, mobil, ...|download, mobil, ...|[download,, mobil...|(1000,[39,52,57,5...|[-7.4647744990065...|[1.93631551662281...|      16.0|\n",
      "| 1377045|    2|           action|gun, time, enemi,...|gun, time, enemi,...|[gun,, time,, ene...|(1000,[39,40,48,5...|[-7.4647950810290...|[4.80249281422778...|       2.0|\n",
      "| 1377103|    4|           arcade|game, play, ath, ...|game, play, ath, ...|[game,, play,, at...|(1000,[39,57,59,6...|[-7.4647283691459...|[3.28646288369307...|       4.0|\n",
      "| 1377120|   14|           casual| game, make, android|game, make, andro...|[game,, make,, an...|(1000,[39,48,59,8...|[-7.4646679328056...|[4.10294705962015...|      14.0|\n",
      "| 1377131|   17|        education|includ, app, andr...|includ, app, andr...|[includ,, app,, a...|(1000,[14,39,52,5...|[-7.4647763644927...|[8.72301039985774...|      17.0|\n",
      "| 1377146|   16|    communication|  free, app, connect|free, app, connec...|[free,, app,, con...|(1000,[39,52,57,5...|[-7.4647759316632...|[1.65150546698479...|      16.0|\n",
      "| 1377191|    2|           action|       shoot, upgrad|shoot, upgrad, at...|[shoot,, upgrad,,...|(1000,[10,39,40,4...|[-7.4647958040277...|[1.07198843263364...|       2.0|\n",
      "| 1377389|    7|books & reference|              offlin|offlin, access, a...|[offlin,, access,...|(1000,[2,39,57,59...|[-7.4647429060411...|[1.04868081614551...|       7.0|\n",
      "| 1377499|   16|    communication|app, phone, messa...|app, phone, messa...|[app,, phone,, me...|(1000,[39,52,57,5...|[-7.4647759316632...|[1.65150546698479...|      16.0|\n",
      "| 1377582|   14|           casual|game, app, fun, play|game, app, fun, p...|[game,, app,, fun...|(1000,[39,48,59,8...|[-7.4646679328056...|[4.10294705962015...|      14.0|\n",
      "| 1377654|   10|         business|busi, contact, sh...|busi, contact, sh...|[busi,, contact,,...|(1000,[10,39,52,5...|[-7.4647426566642...|[1.66655308833598...|      10.0|\n",
      "+--------+-----+-----------------+--------------------+--------------------+--------------------+--------------------+--------------------+--------------------+----------+\n",
      "only showing top 20 rows\n",
      "\n",
      "242.40430903434753\n"
     ]
    }
   ],
   "source": [
    "start = time()\n",
    "cvModel2 = cv2.fit(train_set)\n",
    "p2 = cvModel2.transform(test_set)\n",
    "p2.show()\n",
    "print(time()-start)"
   ]
  },
  {
   "cell_type": "code",
   "execution_count": 69,
   "metadata": {},
   "outputs": [
    {
     "name": "stdout",
     "output_type": "stream",
     "text": [
      "+--------+-----+-----------------+--------------------+--------------------+--------------------+--------------------+--------------------+--------------------+----------+\n",
      "|myapp_id|label|         typename|          myapp_word|      myapp_word_all|               words|            features|       rawPrediction|         probability|prediction|\n",
      "+--------+-----+-----------------+--------------------+--------------------+--------------------+--------------------+--------------------+--------------------+----------+\n",
      "| 1376505|   16|    communication|sms, messag, free...|sms, messag, free...|[sms,, messag,, f...|(1000,[39,52,57,5...|[-7.4647759316632...|[1.65150546698479...|      16.0|\n",
      "| 1376533|    2|           action|game, android, world|game, android, wo...|[game,, android,,...|(1000,[10,39,40,4...|[-7.4647958040277...|[1.07198843263364...|       2.0|\n",
      "| 1376604|   16|    communication|app, phone, devic...|app, phone, devic...|[app,, phone,, de...|(1000,[39,52,57,5...|[-7.4647759316632...|[1.65150546698479...|      16.0|\n",
      "| 1376684|    4|           arcade|               level|level, action, ad...|[level,, action,,...|(1000,[39,57,59,6...|[-7.4647332969582...|[3.60233232848064...|       4.0|\n",
      "| 1376839|   14|           casual|             android|android, make, ph...|[android,, make,,...|(1000,[39,48,59,8...|[-7.4646630049933...|[7.30395990264080...|      14.0|\n",
      "| 1376906|    4|           arcade|                game|game, addict, and...|[game,, addict,, ...|(1000,[39,57,59,6...|[-7.4647332969582...|[3.60233232848064...|       4.0|\n",
      "| 1376908|   11|             card|                hand|hand, android, bo...|[hand,, android,,...|(1000,[20,39,48,5...|[-7.4647826458355...|[1.19795805136172...|      11.0|\n",
      "| 1376912|    4|           arcade|           run, game|run, game, addict...|[run,, game,, add...|(1000,[39,57,59,6...|[-7.4647332969582...|[3.60233232848064...|       4.0|\n",
      "| 1376989|   11|             card|game, app, play, ...|game, app, play, ...|[game,, app,, pla...|(1000,[20,39,48,5...|[-7.4647826458355...|[1.19795805136172...|      11.0|\n",
      "| 1376992|   16|    communication|download, mobil, ...|download, mobil, ...|[download,, mobil...|(1000,[39,52,57,5...|[-7.4647744990065...|[1.93631551662281...|      16.0|\n",
      "| 1377045|    2|           action|gun, time, enemi,...|gun, time, enemi,...|[gun,, time,, ene...|(1000,[39,40,48,5...|[-7.4647950810290...|[4.80249281422778...|       2.0|\n",
      "| 1377103|    4|           arcade|game, play, ath, ...|game, play, ath, ...|[game,, play,, at...|(1000,[39,57,59,6...|[-7.4647283691459...|[3.28646288369307...|       4.0|\n",
      "| 1377120|   14|           casual| game, make, android|game, make, andro...|[game,, make,, an...|(1000,[39,48,59,8...|[-7.4646679328056...|[4.10294705962015...|      14.0|\n",
      "| 1377131|   17|        education|includ, app, andr...|includ, app, andr...|[includ,, app,, a...|(1000,[14,39,52,5...|[-7.4647763644927...|[8.72301039985774...|      17.0|\n",
      "| 1377146|   16|    communication|  free, app, connect|free, app, connec...|[free,, app,, con...|(1000,[39,52,57,5...|[-7.4647759316632...|[1.65150546698479...|      16.0|\n",
      "| 1377191|    2|           action|       shoot, upgrad|shoot, upgrad, at...|[shoot,, upgrad,,...|(1000,[10,39,40,4...|[-7.4647958040277...|[1.07198843263364...|       2.0|\n",
      "| 1377389|    7|books & reference|              offlin|offlin, access, a...|[offlin,, access,...|(1000,[2,39,57,59...|[-7.4647429060411...|[1.04868081614551...|       7.0|\n",
      "| 1377499|   16|    communication|app, phone, messa...|app, phone, messa...|[app,, phone,, me...|(1000,[39,52,57,5...|[-7.4647759316632...|[1.65150546698479...|      16.0|\n",
      "| 1377582|   14|           casual|game, app, fun, play|game, app, fun, p...|[game,, app,, fun...|(1000,[39,48,59,8...|[-7.4646679328056...|[4.10294705962015...|      14.0|\n",
      "| 1377654|   10|         business|busi, contact, sh...|busi, contact, sh...|[busi,, contact,,...|(1000,[10,39,52,5...|[-7.4647426566642...|[1.66655308833598...|      10.0|\n",
      "+--------+-----+-----------------+--------------------+--------------------+--------------------+--------------------+--------------------+--------------------+----------+\n",
      "only showing top 20 rows\n",
      "\n",
      "188.49880480766296\n"
     ]
    }
   ],
   "source": [
    "start = time()\n",
    "cvModel3 = cv3.fit(train_set)\n",
    "p3 = cvModel3.transform(test_set)\n",
    "p3.show()\n",
    "print(time()-start)"
   ]
  },
  {
   "cell_type": "markdown",
   "metadata": {},
   "source": [
    "## sparkmlhw04\n",
    "采用ML Pipelines构建一个文档分类器，需要进行文档清洗、提取文档关键字、得到文档向量、提取分类主题的关键字，最后建立一个文档主题目分类器，进行模型训练、测试、分类指标：\n",
    "\n",
    "数据： data_app\n",
    "\n",
    "数据格式： doc_id1| doc_id2| soure|name|doc_name|country| typename|text\n",
    "\n",
    "其中文档ID字段为：doc_id1   \n",
    "其中文档名称字段为：doc_name   \n",
    "其中文档类别字段为：typename   \n",
    "其中文档内容为：text\n",
    "\n",
    "采用ML Pipelines构建一个文档分类器，需要进行文档清洗、提取文档关键字、得到文档向量、提取分类主题的关键字，最后建立一个文档主题目分类器，进行模型训练、测试、分类指标：   \n",
    "1） 文档清洗   \n",
    "2） 文档关键字提取   \n",
    "3） 主题的关键字提取   \n",
    "4） 文档向量化，采用3种向量方法，进行测试   \n",
    "5） 建立主题分类器   \n",
    "6） 训练、测试、指标"
   ]
  },
  {
   "cell_type": "code",
   "execution_count": 71,
   "metadata": {},
   "outputs": [
    {
     "name": "stdout",
     "output_type": "stream",
     "text": [
      "/Users/luoyonggui/PycharmProjects/mayiexamples/sparkml\r\n"
     ]
    }
   ],
   "source": [
    "!pwd"
   ]
  },
  {
   "cell_type": "code",
   "execution_count": 73,
   "metadata": {},
   "outputs": [],
   "source": [
    "df1 = spark.read.csv(\"file:///Users/luoyonggui/PycharmProjects/mayiexamples/sparkml/data/data_app\", sep='|', header=False)"
   ]
  },
  {
   "cell_type": "code",
   "execution_count": 80,
   "metadata": {},
   "outputs": [],
   "source": [
    "df1 = df1.withColumnRenamed('_c0','doc_id1')\\\n",
    "    .withColumnRenamed('_c1','doc_id2')\\\n",
    "    .withColumnRenamed('_c2','soure')\\\n",
    "    .withColumnRenamed('_c3','name')\\\n",
    "    .withColumnRenamed('_c4','doc_name')\\\n",
    "    .withColumnRenamed('_c5','country')\\\n",
    "    .withColumnRenamed('_c6','typename')\\\n",
    "    .withColumnRenamed('_c7','text')"
   ]
  },
  {
   "cell_type": "code",
   "execution_count": 81,
   "metadata": {},
   "outputs": [
    {
     "name": "stdout",
     "output_type": "stream",
     "text": [
      "+-------+-------+-----+--------------------+--------------------+-------+----------------+--------------------+\n",
      "|doc_id1|doc_id2|soure|                name|            doc_name|country|        typename|                text|\n",
      "+-------+-------+-----+--------------------+--------------------+-------+----------------+--------------------+\n",
      "|1494604| 549745|    7|Curriculum Vitae-...|curriculum.vitae....|     en|        Business|My professional r...|\n",
      "|1494602| 604435|    7|Five Questions (S...|com.kevinhecker.t...|     en|          Puzzle|Five Questions is...|\n",
      "|1494599| 495855|    7|      RhymasaurusRex|com.yeti.rhymasau...|     en|   Entertainment|Are you a songwri...|\n",
      "|1494596| 714480|    7|            helphelp|com.triplekingkon...|     en|       Lifestyle|guardian angel %2...|\n",
      "|1494593| 568853|    7|Calorie Intake Ca...|com.piusvelte.cal...|     en|Health & Fitness|Description Estim...|\n",
      "+-------+-------+-----+--------------------+--------------------+-------+----------------+--------------------+\n",
      "only showing top 5 rows\n",
      "\n"
     ]
    }
   ],
   "source": [
    "df1.show(5)"
   ]
  },
  {
   "cell_type": "code",
   "execution_count": 95,
   "metadata": {},
   "outputs": [
    {
     "data": {
      "text/plain": [
       "335317"
      ]
     },
     "execution_count": 95,
     "metadata": {},
     "output_type": "execute_result"
    }
   ],
   "source": [
    "df1.count()"
   ]
  },
  {
   "cell_type": "code",
   "execution_count": 83,
   "metadata": {},
   "outputs": [
    {
     "data": {
      "text/plain": [
       "[Row(typename='en'),\n",
       " Row(typename='Music & Audio'),\n",
       " Row(typename='Education'),\n",
       " Row(typename='Trivia'),\n",
       " Row(typename='Entertainment'),\n",
       " Row(typename='Cards & Casino'),\n",
       " Row(typename='Adventure'),\n",
       " Row(typename='Arcade'),\n",
       " Row(typename='Sports'),\n",
       " Row(typename='Travel & Local'),\n",
       " Row(typename=None),\n",
       " Row(typename='Brain & Puzzle'),\n",
       " Row(typename='Sports Games'),\n",
       " Row(typename='Role Playing'),\n",
       " Row(typename='Media & Video'),\n",
       " Row(typename='Finance'),\n",
       " Row(typename='Personalization'),\n",
       " Row(typename='Arcade & Action'),\n",
       " Row(typename='Racing'),\n",
       " Row(typename='Tools'),\n",
       " Row(typename='Family'),\n",
       " Row(typename='Educational'),\n",
       " Row(typename='Comics'),\n",
       " Row(typename='Social'),\n",
       " Row(typename='Libraries & Demo'),\n",
       " Row(typename='Shopping'),\n",
       " Row(typename='Health & Fitness'),\n",
       " Row(typename='Productivity'),\n",
       " Row(typename='Card'),\n",
       " Row(typename='Casino'),\n",
       " Row(typename='Music'),\n",
       " Row(typename='Photography'),\n",
       " Row(typename='Brain &amp; Puzzle'),\n",
       " Row(typename='Lifestyle'),\n",
       " Row(typename='Business'),\n",
       " Row(typename='News & Magazines'),\n",
       " Row(typename='Books & Reference'),\n",
       " Row(typename='Weather'),\n",
       " Row(typename='Puzzle'),\n",
       " Row(typename='Casual'),\n",
       " Row(typename='Board'),\n",
       " Row(typename='Medical'),\n",
       " Row(typename='Communication'),\n",
       " Row(typename='Word'),\n",
       " Row(typename='Action'),\n",
       " Row(typename='Strategy'),\n",
       " Row(typename='Transportation'),\n",
       " Row(typename='Simulation')]"
      ]
     },
     "execution_count": 83,
     "metadata": {},
     "output_type": "execute_result"
    }
   ],
   "source": [
    "df1.select('typename').distinct().collect()"
   ]
  },
  {
   "cell_type": "markdown",
   "metadata": {},
   "source": [
    "### 分词tokenizer"
   ]
  },
  {
   "cell_type": "code",
   "execution_count": 116,
   "metadata": {},
   "outputs": [
    {
     "name": "stdout",
     "output_type": "stream",
     "text": [
      "+-------+-------+-----+--------------------+--------------------+-------+----------------+--------------------+--------------------+\n",
      "|doc_id1|doc_id2|soure|                name|            doc_name|country|        typename|                text|               words|\n",
      "+-------+-------+-----+--------------------+--------------------+-------+----------------+--------------------+--------------------+\n",
      "|1494604| 549745|    7|Curriculum Vitae-...|curriculum.vitae....|     en|        Business|My professional r...|[my, professional...|\n",
      "|1494602| 604435|    7|Five Questions (S...|com.kevinhecker.t...|     en|          Puzzle|Five Questions is...|[five, questions,...|\n",
      "|1494599| 495855|    7|      RhymasaurusRex|com.yeti.rhymasau...|     en|   Entertainment|Are you a songwri...|[are, you, a, son...|\n",
      "|1494596| 714480|    7|            helphelp|com.triplekingkon...|     en|       Lifestyle|guardian angel %2...|[guardian, angel,...|\n",
      "|1494593| 568853|    7|Calorie Intake Ca...|com.piusvelte.cal...|     en|Health & Fitness|Description Estim...|[description, est...|\n",
      "+-------+-------+-----+--------------------+--------------------+-------+----------------+--------------------+--------------------+\n",
      "only showing top 5 rows\n",
      "\n"
     ]
    }
   ],
   "source": [
    "from pyspark.ml.feature import RegexTokenizer\n",
    "rtokenizer = RegexTokenizer(inputCol='text', outputCol='words')\n",
    "rtokenizer.setPattern('[.,\\s]+')\n",
    "df3 = rtokenizer.transform(df1)\n",
    "df3.show(5)"
   ]
  },
  {
   "cell_type": "markdown",
   "metadata": {},
   "source": [
    "### 去除停用词"
   ]
  },
  {
   "cell_type": "code",
   "execution_count": 119,
   "metadata": {},
   "outputs": [
    {
     "name": "stdout",
     "output_type": "stream",
     "text": [
      "+-------+-------+-----+--------------------+--------------------+-------+--------+--------------------+--------------------+--------------------+\n",
      "|doc_id1|doc_id2|soure|                name|            doc_name|country|typename|                text|               words|              rwords|\n",
      "+-------+-------+-----+--------------------+--------------------+-------+--------+--------------------+--------------------+--------------------+\n",
      "|1494604| 549745|    7|Curriculum Vitae-...|curriculum.vitae....|     en|Business|My professional r...|[my, professional...|[professional, re...|\n",
      "|1494602| 604435|    7|Five Questions (S...|com.kevinhecker.t...|     en|  Puzzle|Five Questions is...|[five, questions,...|[five, questions,...|\n",
      "+-------+-------+-----+--------------------+--------------------+-------+--------+--------------------+--------------------+--------------------+\n",
      "only showing top 2 rows\n",
      "\n"
     ]
    }
   ],
   "source": [
    "from pyspark.ml.feature import StopWordsRemover\n",
    "remover = StopWordsRemover(inputCol=\"words\", outputCol=\"rwords\", stopWords=StopWordsRemover.loadDefaultStopWords('english'))\n",
    "df4 = remover.transform(df3)\n",
    "df4.show(2)"
   ]
  },
  {
   "cell_type": "code",
   "execution_count": null,
   "metadata": {},
   "outputs": [],
   "source": [
    "df5 = df4.join()"
   ]
  },
  {
   "cell_type": "code",
   "execution_count": 118,
   "metadata": {},
   "outputs": [
    {
     "ename": "TypeError",
     "evalue": "'method' object does not support item assignment",
     "output_type": "error",
     "traceback": [
      "\u001b[0;31m---------------------------------------------------------------------------\u001b[0m",
      "\u001b[0;31mTypeError\u001b[0m                                 Traceback (most recent call last)",
      "\u001b[0;32m<ipython-input-118-636388843594>\u001b[0m in \u001b[0;36m<module>\u001b[0;34m\u001b[0m\n\u001b[0;32m----> 1\u001b[0;31m \u001b[0mdf4\u001b[0m\u001b[0;34m.\u001b[0m\u001b[0mselect\u001b[0m\u001b[0;34m[\u001b[0m\u001b[0;34m'tt'\u001b[0m\u001b[0;34m]\u001b[0m\u001b[0;34m=\u001b[0m\u001b[0mdf4\u001b[0m\u001b[0;34m.\u001b[0m\u001b[0mselect\u001b[0m\u001b[0;34m(\u001b[0m\u001b[0;34m'rwords'\u001b[0m\u001b[0;34m)\u001b[0m\u001b[0;34m.\u001b[0m\u001b[0mrdd\u001b[0m\u001b[0;34m.\u001b[0m\u001b[0mmap\u001b[0m\u001b[0;34m(\u001b[0m\u001b[0;32mlambda\u001b[0m \u001b[0ml\u001b[0m\u001b[0;34m:\u001b[0m \u001b[0;34m[\u001b[0m\u001b[0mi\u001b[0m\u001b[0;34m.\u001b[0m\u001b[0mstrip\u001b[0m\u001b[0;34m(\u001b[0m\u001b[0;34m)\u001b[0m \u001b[0;32mfor\u001b[0m \u001b[0mi\u001b[0m \u001b[0;32min\u001b[0m \u001b[0ml\u001b[0m\u001b[0;34m[\u001b[0m\u001b[0;34m'rwords'\u001b[0m\u001b[0;34m]\u001b[0m \u001b[0;32mif\u001b[0m \u001b[0mi\u001b[0m\u001b[0;34m.\u001b[0m\u001b[0mstrip\u001b[0m\u001b[0;34m(\u001b[0m\u001b[0;34m)\u001b[0m\u001b[0;34m]\u001b[0m\u001b[0;34m)\u001b[0m\u001b[0;34m\u001b[0m\u001b[0;34m\u001b[0m\u001b[0m\n\u001b[0m",
      "\u001b[0;31mTypeError\u001b[0m: 'method' object does not support item assignment"
     ]
    }
   ],
   "source": [
    "df4.select['tt']=df4.select('rwords').rdd.map(lambda l: [i.strip() for i in l['rwords'] if i.strip()])"
   ]
  },
  {
   "cell_type": "markdown",
   "metadata": {},
   "source": [
    "### 文档特征化"
   ]
  },
  {
   "cell_type": "code",
   "execution_count": 90,
   "metadata": {},
   "outputs": [
    {
     "name": "stdout",
     "output_type": "stream",
     "text": [
      "+--------------------------------------------------------------------------------------------------------------------------------------------------------------------------------------------------------------------------------------------------------------------------------------------------------+\n",
      "|features                                                                                                                                                                                                                                                                                                |\n",
      "+--------------------------------------------------------------------------------------------------------------------------------------------------------------------------------------------------------------------------------------------------------------------------------------------------------+\n",
      "|(1000,[69,70,102,124,144,155,159,160,169,239,242,256,265,322,338,356,364,399,411,522,537,556,586,621,648,666,705,765,841,882,911,923,928,953,955,958],[1.0,1.0,1.0,1.0,1.0,1.0,1.0,1.0,2.0,1.0,1.0,1.0,1.0,1.0,1.0,1.0,1.0,1.0,2.0,1.0,1.0,1.0,1.0,1.0,1.0,1.0,1.0,1.0,1.0,1.0,1.0,1.0,1.0,1.0,1.0,1.0])|\n",
      "+--------------------------------------------------------------------------------------------------------------------------------------------------------------------------------------------------------------------------------------------------------------------------------------------------------+\n",
      "only showing top 1 row\n",
      "\n"
     ]
    }
   ],
   "source": [
    "from pyspark.ml.feature import HashingTF\n",
    "hashingTF = HashingTF(numFeatures=1000, inputCol='rwords', outputCol='features')\n",
    "df5 = hashingTF.transform(df4)\n",
    "df5.select('features').show(1, False)"
   ]
  },
  {
   "cell_type": "code",
   "execution_count": 115,
   "metadata": {},
   "outputs": [
    {
     "ename": "Py4JJavaError",
     "evalue": "An error occurred while calling o14840.fit.\n: org.apache.spark.SparkException: Job aborted due to stage failure: Task 2 in stage 898.0 failed 1 times, most recent failure: Lost task 2.0 in stage 898.0 (TID 3850, localhost, executor driver): org.apache.spark.SparkException: Failed to execute user defined function($anonfun$createTransformFunc$2: (string) => array<string>)\n\tat org.apache.spark.sql.catalyst.expressions.GeneratedClass$GeneratedIteratorForCodegenStage1.processNext(Unknown Source)\n\tat org.apache.spark.sql.execution.BufferedRowIterator.hasNext(BufferedRowIterator.java:43)\n\tat org.apache.spark.sql.execution.WholeStageCodegenExec$$anonfun$13$$anon$1.hasNext(WholeStageCodegenExec.scala:636)\n\tat scala.collection.Iterator$$anon$11.hasNext(Iterator.scala:409)\n\tat scala.collection.Iterator$$anon$11.hasNext(Iterator.scala:409)\n\tat scala.collection.Iterator$$anon$11.hasNext(Iterator.scala:409)\n\tat scala.collection.Iterator$$anon$12.hasNext(Iterator.scala:440)\n\tat scala.collection.Iterator$$anon$11.hasNext(Iterator.scala:409)\n\tat org.apache.spark.util.collection.ExternalSorter.insertAll(ExternalSorter.scala:191)\n\tat org.apache.spark.shuffle.sort.SortShuffleWriter.write(SortShuffleWriter.scala:62)\n\tat org.apache.spark.scheduler.ShuffleMapTask.runTask(ShuffleMapTask.scala:99)\n\tat org.apache.spark.scheduler.ShuffleMapTask.runTask(ShuffleMapTask.scala:55)\n\tat org.apache.spark.scheduler.Task.run(Task.scala:121)\n\tat org.apache.spark.executor.Executor$TaskRunner$$anonfun$10.apply(Executor.scala:408)\n\tat org.apache.spark.util.Utils$.tryWithSafeFinally(Utils.scala:1360)\n\tat org.apache.spark.executor.Executor$TaskRunner.run(Executor.scala:414)\n\tat java.util.concurrent.ThreadPoolExecutor.runWorker(ThreadPoolExecutor.java:1149)\n\tat java.util.concurrent.ThreadPoolExecutor$Worker.run(ThreadPoolExecutor.java:624)\n\tat java.lang.Thread.run(Thread.java:748)\nCaused by: java.lang.NullPointerException\n\nDriver stacktrace:\n\tat org.apache.spark.scheduler.DAGScheduler.org$apache$spark$scheduler$DAGScheduler$$failJobAndIndependentStages(DAGScheduler.scala:1889)\n\tat org.apache.spark.scheduler.DAGScheduler$$anonfun$abortStage$1.apply(DAGScheduler.scala:1877)\n\tat org.apache.spark.scheduler.DAGScheduler$$anonfun$abortStage$1.apply(DAGScheduler.scala:1876)\n\tat scala.collection.mutable.ResizableArray$class.foreach(ResizableArray.scala:59)\n\tat scala.collection.mutable.ArrayBuffer.foreach(ArrayBuffer.scala:48)\n\tat org.apache.spark.scheduler.DAGScheduler.abortStage(DAGScheduler.scala:1876)\n\tat org.apache.spark.scheduler.DAGScheduler$$anonfun$handleTaskSetFailed$1.apply(DAGScheduler.scala:926)\n\tat org.apache.spark.scheduler.DAGScheduler$$anonfun$handleTaskSetFailed$1.apply(DAGScheduler.scala:926)\n\tat scala.Option.foreach(Option.scala:257)\n\tat org.apache.spark.scheduler.DAGScheduler.handleTaskSetFailed(DAGScheduler.scala:926)\n\tat org.apache.spark.scheduler.DAGSchedulerEventProcessLoop.doOnReceive(DAGScheduler.scala:2110)\n\tat org.apache.spark.scheduler.DAGSchedulerEventProcessLoop.onReceive(DAGScheduler.scala:2059)\n\tat org.apache.spark.scheduler.DAGSchedulerEventProcessLoop.onReceive(DAGScheduler.scala:2048)\n\tat org.apache.spark.util.EventLoop$$anon$1.run(EventLoop.scala:49)\n\tat org.apache.spark.scheduler.DAGScheduler.runJob(DAGScheduler.scala:737)\n\tat org.apache.spark.SparkContext.runJob(SparkContext.scala:2061)\n\tat org.apache.spark.SparkContext.runJob(SparkContext.scala:2082)\n\tat org.apache.spark.SparkContext.runJob(SparkContext.scala:2101)\n\tat org.apache.spark.SparkContext.runJob(SparkContext.scala:2126)\n\tat org.apache.spark.rdd.RDD$$anonfun$collect$1.apply(RDD.scala:945)\n\tat org.apache.spark.rdd.RDDOperationScope$.withScope(RDDOperationScope.scala:151)\n\tat org.apache.spark.rdd.RDDOperationScope$.withScope(RDDOperationScope.scala:112)\n\tat org.apache.spark.rdd.RDD.withScope(RDD.scala:363)\n\tat org.apache.spark.rdd.RDD.collect(RDD.scala:944)\n\tat org.apache.spark.mllib.feature.Word2Vec.learnVocab(Word2Vec.scala:196)\n\tat org.apache.spark.mllib.feature.Word2Vec.fit(Word2Vec.scala:309)\n\tat org.apache.spark.ml.feature.Word2Vec.fit(Word2Vec.scala:186)\n\tat sun.reflect.NativeMethodAccessorImpl.invoke0(Native Method)\n\tat sun.reflect.NativeMethodAccessorImpl.invoke(NativeMethodAccessorImpl.java:62)\n\tat sun.reflect.DelegatingMethodAccessorImpl.invoke(DelegatingMethodAccessorImpl.java:43)\n\tat java.lang.reflect.Method.invoke(Method.java:498)\n\tat py4j.reflection.MethodInvoker.invoke(MethodInvoker.java:244)\n\tat py4j.reflection.ReflectionEngine.invoke(ReflectionEngine.java:357)\n\tat py4j.Gateway.invoke(Gateway.java:282)\n\tat py4j.commands.AbstractCommand.invokeMethod(AbstractCommand.java:132)\n\tat py4j.commands.CallCommand.execute(CallCommand.java:79)\n\tat py4j.GatewayConnection.run(GatewayConnection.java:238)\n\tat java.lang.Thread.run(Thread.java:748)\nCaused by: org.apache.spark.SparkException: Failed to execute user defined function($anonfun$createTransformFunc$2: (string) => array<string>)\n\tat org.apache.spark.sql.catalyst.expressions.GeneratedClass$GeneratedIteratorForCodegenStage1.processNext(Unknown Source)\n\tat org.apache.spark.sql.execution.BufferedRowIterator.hasNext(BufferedRowIterator.java:43)\n\tat org.apache.spark.sql.execution.WholeStageCodegenExec$$anonfun$13$$anon$1.hasNext(WholeStageCodegenExec.scala:636)\n\tat scala.collection.Iterator$$anon$11.hasNext(Iterator.scala:409)\n\tat scala.collection.Iterator$$anon$11.hasNext(Iterator.scala:409)\n\tat scala.collection.Iterator$$anon$11.hasNext(Iterator.scala:409)\n\tat scala.collection.Iterator$$anon$12.hasNext(Iterator.scala:440)\n\tat scala.collection.Iterator$$anon$11.hasNext(Iterator.scala:409)\n\tat org.apache.spark.util.collection.ExternalSorter.insertAll(ExternalSorter.scala:191)\n\tat org.apache.spark.shuffle.sort.SortShuffleWriter.write(SortShuffleWriter.scala:62)\n\tat org.apache.spark.scheduler.ShuffleMapTask.runTask(ShuffleMapTask.scala:99)\n\tat org.apache.spark.scheduler.ShuffleMapTask.runTask(ShuffleMapTask.scala:55)\n\tat org.apache.spark.scheduler.Task.run(Task.scala:121)\n\tat org.apache.spark.executor.Executor$TaskRunner$$anonfun$10.apply(Executor.scala:408)\n\tat org.apache.spark.util.Utils$.tryWithSafeFinally(Utils.scala:1360)\n\tat org.apache.spark.executor.Executor$TaskRunner.run(Executor.scala:414)\n\tat java.util.concurrent.ThreadPoolExecutor.runWorker(ThreadPoolExecutor.java:1149)\n\tat java.util.concurrent.ThreadPoolExecutor$Worker.run(ThreadPoolExecutor.java:624)\n\t... 1 more\nCaused by: java.lang.NullPointerException\n",
     "output_type": "error",
     "traceback": [
      "\u001b[0;31m---------------------------------------------------------------------------\u001b[0m",
      "\u001b[0;31mPy4JJavaError\u001b[0m                             Traceback (most recent call last)",
      "\u001b[0;32m<ipython-input-115-d7403b41e6b8>\u001b[0m in \u001b[0;36m<module>\u001b[0;34m\u001b[0m\n\u001b[1;32m      3\u001b[0m \u001b[0;34m\u001b[0m\u001b[0m\n\u001b[1;32m      4\u001b[0m \u001b[0mwv\u001b[0m \u001b[0;34m=\u001b[0m \u001b[0mWord2Vec\u001b[0m\u001b[0;34m(\u001b[0m\u001b[0mvectorSize\u001b[0m\u001b[0;34m=\u001b[0m\u001b[0;36m128\u001b[0m\u001b[0;34m,\u001b[0m \u001b[0minputCol\u001b[0m\u001b[0;34m=\u001b[0m\u001b[0;34m'words'\u001b[0m\u001b[0;34m,\u001b[0m \u001b[0moutputCol\u001b[0m\u001b[0;34m=\u001b[0m\u001b[0;34m'wvfeatures'\u001b[0m\u001b[0;34m)\u001b[0m\u001b[0;34m\u001b[0m\u001b[0;34m\u001b[0m\u001b[0m\n\u001b[0;32m----> 5\u001b[0;31m \u001b[0mwvModel\u001b[0m \u001b[0;34m=\u001b[0m \u001b[0mwv\u001b[0m\u001b[0;34m.\u001b[0m\u001b[0mfit\u001b[0m\u001b[0;34m(\u001b[0m\u001b[0mdf3\u001b[0m\u001b[0;34m)\u001b[0m\u001b[0;34m\u001b[0m\u001b[0;34m\u001b[0m\u001b[0m\n\u001b[0m",
      "\u001b[0;32m~/anaconda3/lib/python3.7/site-packages/pyspark/ml/base.py\u001b[0m in \u001b[0;36mfit\u001b[0;34m(self, dataset, params)\u001b[0m\n\u001b[1;32m    130\u001b[0m                 \u001b[0;32mreturn\u001b[0m \u001b[0mself\u001b[0m\u001b[0;34m.\u001b[0m\u001b[0mcopy\u001b[0m\u001b[0;34m(\u001b[0m\u001b[0mparams\u001b[0m\u001b[0;34m)\u001b[0m\u001b[0;34m.\u001b[0m\u001b[0m_fit\u001b[0m\u001b[0;34m(\u001b[0m\u001b[0mdataset\u001b[0m\u001b[0;34m)\u001b[0m\u001b[0;34m\u001b[0m\u001b[0;34m\u001b[0m\u001b[0m\n\u001b[1;32m    131\u001b[0m             \u001b[0;32melse\u001b[0m\u001b[0;34m:\u001b[0m\u001b[0;34m\u001b[0m\u001b[0;34m\u001b[0m\u001b[0m\n\u001b[0;32m--> 132\u001b[0;31m                 \u001b[0;32mreturn\u001b[0m \u001b[0mself\u001b[0m\u001b[0;34m.\u001b[0m\u001b[0m_fit\u001b[0m\u001b[0;34m(\u001b[0m\u001b[0mdataset\u001b[0m\u001b[0;34m)\u001b[0m\u001b[0;34m\u001b[0m\u001b[0;34m\u001b[0m\u001b[0m\n\u001b[0m\u001b[1;32m    133\u001b[0m         \u001b[0;32melse\u001b[0m\u001b[0;34m:\u001b[0m\u001b[0;34m\u001b[0m\u001b[0;34m\u001b[0m\u001b[0m\n\u001b[1;32m    134\u001b[0m             raise ValueError(\"Params must be either a param map or a list/tuple of param maps, \"\n",
      "\u001b[0;32m~/anaconda3/lib/python3.7/site-packages/pyspark/ml/wrapper.py\u001b[0m in \u001b[0;36m_fit\u001b[0;34m(self, dataset)\u001b[0m\n\u001b[1;32m    293\u001b[0m \u001b[0;34m\u001b[0m\u001b[0m\n\u001b[1;32m    294\u001b[0m     \u001b[0;32mdef\u001b[0m \u001b[0m_fit\u001b[0m\u001b[0;34m(\u001b[0m\u001b[0mself\u001b[0m\u001b[0;34m,\u001b[0m \u001b[0mdataset\u001b[0m\u001b[0;34m)\u001b[0m\u001b[0;34m:\u001b[0m\u001b[0;34m\u001b[0m\u001b[0;34m\u001b[0m\u001b[0m\n\u001b[0;32m--> 295\u001b[0;31m         \u001b[0mjava_model\u001b[0m \u001b[0;34m=\u001b[0m \u001b[0mself\u001b[0m\u001b[0;34m.\u001b[0m\u001b[0m_fit_java\u001b[0m\u001b[0;34m(\u001b[0m\u001b[0mdataset\u001b[0m\u001b[0;34m)\u001b[0m\u001b[0;34m\u001b[0m\u001b[0;34m\u001b[0m\u001b[0m\n\u001b[0m\u001b[1;32m    296\u001b[0m         \u001b[0mmodel\u001b[0m \u001b[0;34m=\u001b[0m \u001b[0mself\u001b[0m\u001b[0;34m.\u001b[0m\u001b[0m_create_model\u001b[0m\u001b[0;34m(\u001b[0m\u001b[0mjava_model\u001b[0m\u001b[0;34m)\u001b[0m\u001b[0;34m\u001b[0m\u001b[0;34m\u001b[0m\u001b[0m\n\u001b[1;32m    297\u001b[0m         \u001b[0;32mreturn\u001b[0m \u001b[0mself\u001b[0m\u001b[0;34m.\u001b[0m\u001b[0m_copyValues\u001b[0m\u001b[0;34m(\u001b[0m\u001b[0mmodel\u001b[0m\u001b[0;34m)\u001b[0m\u001b[0;34m\u001b[0m\u001b[0;34m\u001b[0m\u001b[0m\n",
      "\u001b[0;32m~/anaconda3/lib/python3.7/site-packages/pyspark/ml/wrapper.py\u001b[0m in \u001b[0;36m_fit_java\u001b[0;34m(self, dataset)\u001b[0m\n\u001b[1;32m    290\u001b[0m         \"\"\"\n\u001b[1;32m    291\u001b[0m         \u001b[0mself\u001b[0m\u001b[0;34m.\u001b[0m\u001b[0m_transfer_params_to_java\u001b[0m\u001b[0;34m(\u001b[0m\u001b[0;34m)\u001b[0m\u001b[0;34m\u001b[0m\u001b[0;34m\u001b[0m\u001b[0m\n\u001b[0;32m--> 292\u001b[0;31m         \u001b[0;32mreturn\u001b[0m \u001b[0mself\u001b[0m\u001b[0;34m.\u001b[0m\u001b[0m_java_obj\u001b[0m\u001b[0;34m.\u001b[0m\u001b[0mfit\u001b[0m\u001b[0;34m(\u001b[0m\u001b[0mdataset\u001b[0m\u001b[0;34m.\u001b[0m\u001b[0m_jdf\u001b[0m\u001b[0;34m)\u001b[0m\u001b[0;34m\u001b[0m\u001b[0;34m\u001b[0m\u001b[0m\n\u001b[0m\u001b[1;32m    293\u001b[0m \u001b[0;34m\u001b[0m\u001b[0m\n\u001b[1;32m    294\u001b[0m     \u001b[0;32mdef\u001b[0m \u001b[0m_fit\u001b[0m\u001b[0;34m(\u001b[0m\u001b[0mself\u001b[0m\u001b[0;34m,\u001b[0m \u001b[0mdataset\u001b[0m\u001b[0;34m)\u001b[0m\u001b[0;34m:\u001b[0m\u001b[0;34m\u001b[0m\u001b[0;34m\u001b[0m\u001b[0m\n",
      "\u001b[0;32m~/anaconda3/lib/python3.7/site-packages/py4j/java_gateway.py\u001b[0m in \u001b[0;36m__call__\u001b[0;34m(self, *args)\u001b[0m\n\u001b[1;32m   1255\u001b[0m         \u001b[0manswer\u001b[0m \u001b[0;34m=\u001b[0m \u001b[0mself\u001b[0m\u001b[0;34m.\u001b[0m\u001b[0mgateway_client\u001b[0m\u001b[0;34m.\u001b[0m\u001b[0msend_command\u001b[0m\u001b[0;34m(\u001b[0m\u001b[0mcommand\u001b[0m\u001b[0;34m)\u001b[0m\u001b[0;34m\u001b[0m\u001b[0;34m\u001b[0m\u001b[0m\n\u001b[1;32m   1256\u001b[0m         return_value = get_return_value(\n\u001b[0;32m-> 1257\u001b[0;31m             answer, self.gateway_client, self.target_id, self.name)\n\u001b[0m\u001b[1;32m   1258\u001b[0m \u001b[0;34m\u001b[0m\u001b[0m\n\u001b[1;32m   1259\u001b[0m         \u001b[0;32mfor\u001b[0m \u001b[0mtemp_arg\u001b[0m \u001b[0;32min\u001b[0m \u001b[0mtemp_args\u001b[0m\u001b[0;34m:\u001b[0m\u001b[0;34m\u001b[0m\u001b[0;34m\u001b[0m\u001b[0m\n",
      "\u001b[0;32m~/anaconda3/lib/python3.7/site-packages/pyspark/sql/utils.py\u001b[0m in \u001b[0;36mdeco\u001b[0;34m(*a, **kw)\u001b[0m\n\u001b[1;32m     61\u001b[0m     \u001b[0;32mdef\u001b[0m \u001b[0mdeco\u001b[0m\u001b[0;34m(\u001b[0m\u001b[0;34m*\u001b[0m\u001b[0ma\u001b[0m\u001b[0;34m,\u001b[0m \u001b[0;34m**\u001b[0m\u001b[0mkw\u001b[0m\u001b[0;34m)\u001b[0m\u001b[0;34m:\u001b[0m\u001b[0;34m\u001b[0m\u001b[0;34m\u001b[0m\u001b[0m\n\u001b[1;32m     62\u001b[0m         \u001b[0;32mtry\u001b[0m\u001b[0;34m:\u001b[0m\u001b[0;34m\u001b[0m\u001b[0;34m\u001b[0m\u001b[0m\n\u001b[0;32m---> 63\u001b[0;31m             \u001b[0;32mreturn\u001b[0m \u001b[0mf\u001b[0m\u001b[0;34m(\u001b[0m\u001b[0;34m*\u001b[0m\u001b[0ma\u001b[0m\u001b[0;34m,\u001b[0m \u001b[0;34m**\u001b[0m\u001b[0mkw\u001b[0m\u001b[0;34m)\u001b[0m\u001b[0;34m\u001b[0m\u001b[0;34m\u001b[0m\u001b[0m\n\u001b[0m\u001b[1;32m     64\u001b[0m         \u001b[0;32mexcept\u001b[0m \u001b[0mpy4j\u001b[0m\u001b[0;34m.\u001b[0m\u001b[0mprotocol\u001b[0m\u001b[0;34m.\u001b[0m\u001b[0mPy4JJavaError\u001b[0m \u001b[0;32mas\u001b[0m \u001b[0me\u001b[0m\u001b[0;34m:\u001b[0m\u001b[0;34m\u001b[0m\u001b[0;34m\u001b[0m\u001b[0m\n\u001b[1;32m     65\u001b[0m             \u001b[0ms\u001b[0m \u001b[0;34m=\u001b[0m \u001b[0me\u001b[0m\u001b[0;34m.\u001b[0m\u001b[0mjava_exception\u001b[0m\u001b[0;34m.\u001b[0m\u001b[0mtoString\u001b[0m\u001b[0;34m(\u001b[0m\u001b[0;34m)\u001b[0m\u001b[0;34m\u001b[0m\u001b[0;34m\u001b[0m\u001b[0m\n",
      "\u001b[0;32m~/anaconda3/lib/python3.7/site-packages/py4j/protocol.py\u001b[0m in \u001b[0;36mget_return_value\u001b[0;34m(answer, gateway_client, target_id, name)\u001b[0m\n\u001b[1;32m    326\u001b[0m                 raise Py4JJavaError(\n\u001b[1;32m    327\u001b[0m                     \u001b[0;34m\"An error occurred while calling {0}{1}{2}.\\n\"\u001b[0m\u001b[0;34m.\u001b[0m\u001b[0;34m\u001b[0m\u001b[0;34m\u001b[0m\u001b[0m\n\u001b[0;32m--> 328\u001b[0;31m                     format(target_id, \".\", name), value)\n\u001b[0m\u001b[1;32m    329\u001b[0m             \u001b[0;32melse\u001b[0m\u001b[0;34m:\u001b[0m\u001b[0;34m\u001b[0m\u001b[0;34m\u001b[0m\u001b[0m\n\u001b[1;32m    330\u001b[0m                 raise Py4JError(\n",
      "\u001b[0;31mPy4JJavaError\u001b[0m: An error occurred while calling o14840.fit.\n: org.apache.spark.SparkException: Job aborted due to stage failure: Task 2 in stage 898.0 failed 1 times, most recent failure: Lost task 2.0 in stage 898.0 (TID 3850, localhost, executor driver): org.apache.spark.SparkException: Failed to execute user defined function($anonfun$createTransformFunc$2: (string) => array<string>)\n\tat org.apache.spark.sql.catalyst.expressions.GeneratedClass$GeneratedIteratorForCodegenStage1.processNext(Unknown Source)\n\tat org.apache.spark.sql.execution.BufferedRowIterator.hasNext(BufferedRowIterator.java:43)\n\tat org.apache.spark.sql.execution.WholeStageCodegenExec$$anonfun$13$$anon$1.hasNext(WholeStageCodegenExec.scala:636)\n\tat scala.collection.Iterator$$anon$11.hasNext(Iterator.scala:409)\n\tat scala.collection.Iterator$$anon$11.hasNext(Iterator.scala:409)\n\tat scala.collection.Iterator$$anon$11.hasNext(Iterator.scala:409)\n\tat scala.collection.Iterator$$anon$12.hasNext(Iterator.scala:440)\n\tat scala.collection.Iterator$$anon$11.hasNext(Iterator.scala:409)\n\tat org.apache.spark.util.collection.ExternalSorter.insertAll(ExternalSorter.scala:191)\n\tat org.apache.spark.shuffle.sort.SortShuffleWriter.write(SortShuffleWriter.scala:62)\n\tat org.apache.spark.scheduler.ShuffleMapTask.runTask(ShuffleMapTask.scala:99)\n\tat org.apache.spark.scheduler.ShuffleMapTask.runTask(ShuffleMapTask.scala:55)\n\tat org.apache.spark.scheduler.Task.run(Task.scala:121)\n\tat org.apache.spark.executor.Executor$TaskRunner$$anonfun$10.apply(Executor.scala:408)\n\tat org.apache.spark.util.Utils$.tryWithSafeFinally(Utils.scala:1360)\n\tat org.apache.spark.executor.Executor$TaskRunner.run(Executor.scala:414)\n\tat java.util.concurrent.ThreadPoolExecutor.runWorker(ThreadPoolExecutor.java:1149)\n\tat java.util.concurrent.ThreadPoolExecutor$Worker.run(ThreadPoolExecutor.java:624)\n\tat java.lang.Thread.run(Thread.java:748)\nCaused by: java.lang.NullPointerException\n\nDriver stacktrace:\n\tat org.apache.spark.scheduler.DAGScheduler.org$apache$spark$scheduler$DAGScheduler$$failJobAndIndependentStages(DAGScheduler.scala:1889)\n\tat org.apache.spark.scheduler.DAGScheduler$$anonfun$abortStage$1.apply(DAGScheduler.scala:1877)\n\tat org.apache.spark.scheduler.DAGScheduler$$anonfun$abortStage$1.apply(DAGScheduler.scala:1876)\n\tat scala.collection.mutable.ResizableArray$class.foreach(ResizableArray.scala:59)\n\tat scala.collection.mutable.ArrayBuffer.foreach(ArrayBuffer.scala:48)\n\tat org.apache.spark.scheduler.DAGScheduler.abortStage(DAGScheduler.scala:1876)\n\tat org.apache.spark.scheduler.DAGScheduler$$anonfun$handleTaskSetFailed$1.apply(DAGScheduler.scala:926)\n\tat org.apache.spark.scheduler.DAGScheduler$$anonfun$handleTaskSetFailed$1.apply(DAGScheduler.scala:926)\n\tat scala.Option.foreach(Option.scala:257)\n\tat org.apache.spark.scheduler.DAGScheduler.handleTaskSetFailed(DAGScheduler.scala:926)\n\tat org.apache.spark.scheduler.DAGSchedulerEventProcessLoop.doOnReceive(DAGScheduler.scala:2110)\n\tat org.apache.spark.scheduler.DAGSchedulerEventProcessLoop.onReceive(DAGScheduler.scala:2059)\n\tat org.apache.spark.scheduler.DAGSchedulerEventProcessLoop.onReceive(DAGScheduler.scala:2048)\n\tat org.apache.spark.util.EventLoop$$anon$1.run(EventLoop.scala:49)\n\tat org.apache.spark.scheduler.DAGScheduler.runJob(DAGScheduler.scala:737)\n\tat org.apache.spark.SparkContext.runJob(SparkContext.scala:2061)\n\tat org.apache.spark.SparkContext.runJob(SparkContext.scala:2082)\n\tat org.apache.spark.SparkContext.runJob(SparkContext.scala:2101)\n\tat org.apache.spark.SparkContext.runJob(SparkContext.scala:2126)\n\tat org.apache.spark.rdd.RDD$$anonfun$collect$1.apply(RDD.scala:945)\n\tat org.apache.spark.rdd.RDDOperationScope$.withScope(RDDOperationScope.scala:151)\n\tat org.apache.spark.rdd.RDDOperationScope$.withScope(RDDOperationScope.scala:112)\n\tat org.apache.spark.rdd.RDD.withScope(RDD.scala:363)\n\tat org.apache.spark.rdd.RDD.collect(RDD.scala:944)\n\tat org.apache.spark.mllib.feature.Word2Vec.learnVocab(Word2Vec.scala:196)\n\tat org.apache.spark.mllib.feature.Word2Vec.fit(Word2Vec.scala:309)\n\tat org.apache.spark.ml.feature.Word2Vec.fit(Word2Vec.scala:186)\n\tat sun.reflect.NativeMethodAccessorImpl.invoke0(Native Method)\n\tat sun.reflect.NativeMethodAccessorImpl.invoke(NativeMethodAccessorImpl.java:62)\n\tat sun.reflect.DelegatingMethodAccessorImpl.invoke(DelegatingMethodAccessorImpl.java:43)\n\tat java.lang.reflect.Method.invoke(Method.java:498)\n\tat py4j.reflection.MethodInvoker.invoke(MethodInvoker.java:244)\n\tat py4j.reflection.ReflectionEngine.invoke(ReflectionEngine.java:357)\n\tat py4j.Gateway.invoke(Gateway.java:282)\n\tat py4j.commands.AbstractCommand.invokeMethod(AbstractCommand.java:132)\n\tat py4j.commands.CallCommand.execute(CallCommand.java:79)\n\tat py4j.GatewayConnection.run(GatewayConnection.java:238)\n\tat java.lang.Thread.run(Thread.java:748)\nCaused by: org.apache.spark.SparkException: Failed to execute user defined function($anonfun$createTransformFunc$2: (string) => array<string>)\n\tat org.apache.spark.sql.catalyst.expressions.GeneratedClass$GeneratedIteratorForCodegenStage1.processNext(Unknown Source)\n\tat org.apache.spark.sql.execution.BufferedRowIterator.hasNext(BufferedRowIterator.java:43)\n\tat org.apache.spark.sql.execution.WholeStageCodegenExec$$anonfun$13$$anon$1.hasNext(WholeStageCodegenExec.scala:636)\n\tat scala.collection.Iterator$$anon$11.hasNext(Iterator.scala:409)\n\tat scala.collection.Iterator$$anon$11.hasNext(Iterator.scala:409)\n\tat scala.collection.Iterator$$anon$11.hasNext(Iterator.scala:409)\n\tat scala.collection.Iterator$$anon$12.hasNext(Iterator.scala:440)\n\tat scala.collection.Iterator$$anon$11.hasNext(Iterator.scala:409)\n\tat org.apache.spark.util.collection.ExternalSorter.insertAll(ExternalSorter.scala:191)\n\tat org.apache.spark.shuffle.sort.SortShuffleWriter.write(SortShuffleWriter.scala:62)\n\tat org.apache.spark.scheduler.ShuffleMapTask.runTask(ShuffleMapTask.scala:99)\n\tat org.apache.spark.scheduler.ShuffleMapTask.runTask(ShuffleMapTask.scala:55)\n\tat org.apache.spark.scheduler.Task.run(Task.scala:121)\n\tat org.apache.spark.executor.Executor$TaskRunner$$anonfun$10.apply(Executor.scala:408)\n\tat org.apache.spark.util.Utils$.tryWithSafeFinally(Utils.scala:1360)\n\tat org.apache.spark.executor.Executor$TaskRunner.run(Executor.scala:414)\n\tat java.util.concurrent.ThreadPoolExecutor.runWorker(ThreadPoolExecutor.java:1149)\n\tat java.util.concurrent.ThreadPoolExecutor$Worker.run(ThreadPoolExecutor.java:624)\n\t... 1 more\nCaused by: java.lang.NullPointerException\n"
     ]
    }
   ],
   "source": [
    "#pyspark.ml.feature.Word2Vec\n",
    "from pyspark.ml.feature import Word2Vec\n",
    "\n",
    "wv = Word2Vec(vectorSize=128, inputCol='rwords', outputCol='wvfeatures')\n",
    "wvModel = wv.fit(df3)"
   ]
  },
  {
   "cell_type": "code",
   "execution_count": null,
   "metadata": {},
   "outputs": [],
   "source": []
  }
 ],
 "metadata": {
  "kernelspec": {
   "display_name": "Python 3",
   "language": "python",
   "name": "python3"
  },
  "language_info": {
   "codemirror_mode": {
    "name": "ipython",
    "version": 3
   },
   "file_extension": ".py",
   "mimetype": "text/x-python",
   "name": "python",
   "nbconvert_exporter": "python",
   "pygments_lexer": "ipython3",
   "version": "3.7.3"
  },
  "toc": {
   "base_numbering": 1,
   "nav_menu": {},
   "number_sections": true,
   "sideBar": true,
   "skip_h1_title": false,
   "title_cell": "Table of Contents",
   "title_sidebar": "Contents",
   "toc_cell": false,
   "toc_position": {},
   "toc_section_display": true,
   "toc_window_display": true
  }
 },
 "nbformat": 4,
 "nbformat_minor": 2
}
