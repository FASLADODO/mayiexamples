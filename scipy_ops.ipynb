{
 "cells": [
  {
   "cell_type": "markdown",
   "metadata": {},
   "source": [
    "# SciPy\n",
    "SciPy (pronounced “Sigh Pie”) is a Python-based ecosystem of open-source software for mathematics, science, and engineering. In particular, these are some of the core packages:  \n",
    "* NumPy  \n",
    "Base N-dimensional array package\n",
    "* SciPy library  \n",
    "Fundamental library for scientific computing\n",
    "* Matplotlib  \n",
    "Comprehensive 2D Plotting\n",
    "* IPython  \n",
    "Enhanced Interactive Console\n",
    "* Sympy  \n",
    "Symbolic mathematics\n",
    "* pandas  \n",
    "Data structures & analysis"
   ]
  },
  {
   "cell_type": "code",
   "execution_count": 1,
   "metadata": {},
   "outputs": [
    {
     "name": "stdout",
     "output_type": "stream",
     "text": [
      "scipy==1.3.0\r\n"
     ]
    }
   ],
   "source": [
    "!pip freeze | grep scipy"
   ]
  },
  {
   "cell_type": "markdown",
   "metadata": {},
   "source": [
    "## links\n",
    "https://docs.scipy.org/doc/scipy-1.3.0/reference/  \n",
    "SciPy Tutorial https://docs.scipy.org/doc/scipy-1.3.0/reference/tutorial/index.html\n",
    "\n",
    "## SciPy Organization\n",
    "1. Subpackage--Description\n",
    "1. cluster--Clustering algorithms\n",
    "1. constants--Physical and mathematical constants\n",
    "1. fftpack--Fast Fourier Transform routines\n",
    "1. integrate--Integration and ordinary differential equation solvers\n",
    "1. interpolate--Interpolation and smoothing splines\n",
    "1. io--Input and Output\n",
    "1. linalg--Linear algebra\n",
    "1. ndimage--N-dimensional image processing\n",
    "1. odr--Orthogonal distance regression\n",
    "1. optimize--Optimization and root-finding routines\n",
    "1. signal--Signal processing\n",
    "1. sparse--Sparse matrices and associated routines\n",
    "1. spatial--Spatial data structures and algorithms\n",
    "1. special--Special functions\n",
    "1. stats--Statistical distributions and functions"
   ]
  },
  {
   "cell_type": "markdown",
   "metadata": {},
   "source": [
    "# Statistics (scipy.stats)"
   ]
  },
  {
   "cell_type": "markdown",
   "metadata": {},
   "source": [
    "## RVs: random variables 随机变量\n",
    "    \n",
    "The main public methods for continuous RVs are:\n",
    "\n",
    "* rvs: Random Variates\n",
    "\n",
    "* pdf: Probability Density Function\n",
    "\n",
    "* cdf: Cumulative Distribution Function\n",
    "\n",
    "* sf: Survival Function (1-CDF)\n",
    "\n",
    "* ppf: Percent Point Function (Inverse of CDF)\n",
    "\n",
    "* isf: Inverse Survival Function (Inverse of SF)\n",
    "\n",
    "* stats: Return mean, variance, (Fisher’s) skew, or (Fisher’s) kurtosis\n",
    "\n",
    "* moment: non-central moments of the distribution"
   ]
  },
  {
   "cell_type": "markdown",
   "metadata": {},
   "source": [
    "## gamma分布\n",
    "一般连续随机变量可以通过loc和尺度参数进行平移和缩放，但有些分布需要额外的形状参数。例如,伽马分布"
   ]
  },
  {
   "cell_type": "code",
   "execution_count": 7,
   "metadata": {},
   "outputs": [],
   "source": [
    "import numpy as np\n",
    "import matplotlib.pyplot as plt\n",
    "%matplotlib inline"
   ]
  },
  {
   "cell_type": "code",
   "execution_count": 2,
   "metadata": {},
   "outputs": [],
   "source": [
    "from scipy.stats import gamma"
   ]
  },
  {
   "cell_type": "code",
   "execution_count": 15,
   "metadata": {},
   "outputs": [],
   "source": [
    "x = np.arange(0.1, 10000, 0.1)\n",
    "y = gamma.rvs(x)"
   ]
  },
  {
   "cell_type": "code",
   "execution_count": 16,
   "metadata": {},
   "outputs": [
    {
     "data": {
      "text/plain": [
       "[<matplotlib.lines.Line2D at 0x11e4b14a8>]"
      ]
     },
     "execution_count": 16,
     "metadata": {},
     "output_type": "execute_result"
    },
    {
     "data": {
      "image/png": "[encoded data removed]",
      "text/plain": [
       "<Figure size 432x288 with 1 Axes>"
      ]
     },
     "metadata": {
      "needs_background": "light"
     },
     "output_type": "display_data"
    }
   ],
   "source": [
    "plt.plot(x, y)"
   ]
  },
  {
   "cell_type": "markdown",
   "metadata": {},
   "source": [
    "### 求gamma函数分位数"
   ]
  },
  {
   "cell_type": "code",
   "execution_count": 17,
   "metadata": {},
   "outputs": [
    {
     "data": {
      "text/plain": [
       "6.907755278982137"
      ]
     },
     "execution_count": 17,
     "metadata": {},
     "output_type": "execute_result"
    }
   ],
   "source": [
    "import scipy.stats as st\n",
    "\n",
    "st.gamma.ppf(0.999, 1, scale=1)  # 等价于Excel公式=GAMMA.INV(0.999, 1, 1) probability, alpha, beta"
   ]
  },
  {
   "cell_type": "code",
   "execution_count": null,
   "metadata": {},
   "outputs": [],
   "source": []
  }
 ],
 "metadata": {
  "kernelspec": {
   "display_name": "Python 3",
   "language": "python",
   "name": "python3"
  },
  "language_info": {
   "codemirror_mode": {
    "name": "ipython",
    "version": 3
   },
   "file_extension": ".py",
   "mimetype": "text/x-python",
   "name": "python",
   "nbconvert_exporter": "python",
   "pygments_lexer": "ipython3",
   "version": "3.7.3"
  },
  "toc": {
   "base_numbering": 1,
   "nav_menu": {},
   "number_sections": true,
   "sideBar": true,
   "skip_h1_title": false,
   "title_cell": "Table of Contents",
   "title_sidebar": "Contents",
   "toc_cell": false,
   "toc_position": {},
   "toc_section_display": true,
   "toc_window_display": true
  }
 },
 "nbformat": 4,
 "nbformat_minor": 2
}
