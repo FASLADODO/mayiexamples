{
 "cells": [
  {
   "cell_type": "markdown",
   "metadata": {},
   "source": [
    "# Observer Pattern 观察者模式\n",
    "https://www.cnblogs.com/lizhitai/p/4459126.html"
   ]
  },
  {
   "cell_type": "markdown",
   "metadata": {},
   "source": [
    "两个角色：  \n",
    "1. 主题发布者\n",
    "1. 主题订阅者\n",
    "\n",
    "好处：  减少代码耦合，容易功能扩展和维护"
   ]
  },
  {
   "cell_type": "markdown",
   "metadata": {},
   "source": [
    "## 常见的应用场景\n",
    "### Event_Driving_Engine基于事件的处理引擎\n",
    "监听事件，改变状态。如：监听stock买卖事件，改变持仓状态、现金持有状态"
   ]
  },
  {
   "cell_type": "markdown",
   "metadata": {},
   "source": [
    "## 一个简单的python实现:\n",
    "\n",
    " 让我们实现一个不同用户在TechForum 上发布技术邮件的例子，当任何用户发布一个新的邮件，其他用户就会接收到新邮件通知。\n",
    " \n",
    " 从对象的角度去看，我们应该有一个 TechForum对象，我们需要有另外一些需要用户对象在TechForum上注册，当新邮件通知的时候，应该发送邮件标题。\n",
    "\n",
    "一个简单的例子分析会联想到中介机构和雇主的关系。这就是招聘者和应聘者关系的延伸。通过一个工作中介会发布不同种类的工作信息，应聘者会去寻找相关的工作信息，招聘者也会寻找在中介注册过的应聘者。"
   ]
  },
  {
   "cell_type": "markdown",
   "metadata": {},
   "source": [
    "### 发布者抽象类"
   ]
  },
  {
   "cell_type": "code",
   "execution_count": 4,
   "metadata": {},
   "outputs": [],
   "source": [
    "class Publisher:\n",
    "    def __init__(self):\n",
    "        pass\n",
    "\n",
    "    def register(self):\n",
    "        pass\n",
    "\n",
    "    def unregister(self):\n",
    "        pass\n",
    "\n",
    "    def notifyAll(self):\n",
    "        pass"
   ]
  },
  {
   "cell_type": "markdown",
   "metadata": {},
   "source": [
    "### 发布者实现"
   ]
  },
  {
   "cell_type": "code",
   "execution_count": 5,
   "metadata": {},
   "outputs": [],
   "source": [
    "class TechForum(Publisher):\n",
    "    def __init__(self):\n",
    "        self._listOfUsers = []\n",
    "        self.postname = None\n",
    "    def register(self, userObj):\n",
    "        if userObj not in self._listOfUsers:\n",
    "                self._listOfUsers.append(userObj)\n",
    "\n",
    "    def unregister(self, userObj):\n",
    "        self._listOfUsers.remove(userObj)\n",
    "\n",
    "    def notifyAll(self):\n",
    "        for objects in self._listOfUsers:\n",
    "            objects.notify(self.postname)\n",
    "\n",
    "    def writeNewPost(self , postname):\n",
    "        self.postname = postname\n",
    "        self.notifyAll()"
   ]
  },
  {
   "cell_type": "markdown",
   "metadata": {},
   "source": [
    "### 订阅者抽象类"
   ]
  },
  {
   "cell_type": "code",
   "execution_count": 6,
   "metadata": {},
   "outputs": [],
   "source": [
    "class Subscriber:\n",
    "    def __init__(self):\n",
    "        pass\n",
    "\n",
    "    def notify(self):\n",
    "        pass"
   ]
  },
  {
   "cell_type": "markdown",
   "metadata": {},
   "source": [
    "### 订阅者实现"
   ]
  },
  {
   "cell_type": "code",
   "execution_count": 9,
   "metadata": {},
   "outputs": [],
   "source": [
    "class User1(Subscriber):\n",
    "    def notify(self, postname):\n",
    "        print(\"User1 notified of a new post %s\" % postname)\n",
    "\n",
    "\n",
    "class User2(Subscriber):\n",
    "    def notify(self, postname):\n",
    "        print(\"User2 notified of a new post %s\" % postname)\n",
    "\n",
    "\n",
    "class SisterSites(Subscriber):\n",
    "    def __init__(self):\n",
    "        self._sisterWebsites = [\"Site1\" , \"Site2\", \"Site3\"]\n",
    "\n",
    "    def notify(self, postname):\n",
    "        for site in self._sisterWebsites:\n",
    "            print(\"Send nofication to site:%s \" % site)"
   ]
  },
  {
   "cell_type": "code",
   "execution_count": 10,
   "metadata": {},
   "outputs": [
    {
     "name": "stdout",
     "output_type": "stream",
     "text": [
      "User1 notified of a new post Observe Pattern in Python\n",
      "User2 notified of a new post Observe Pattern in Python\n",
      "Send nofication to site:Site1 \n",
      "Send nofication to site:Site2 \n",
      "Send nofication to site:Site3 \n",
      "User1 notified of a new post MVC Pattern in Python\n",
      "Send nofication to site:Site1 \n",
      "Send nofication to site:Site2 \n",
      "Send nofication to site:Site3 \n"
     ]
    }
   ],
   "source": [
    "if __name__ == \"__main__\":\n",
    "    techForum = TechForum()\n",
    "\n",
    "    user1 = User1()\n",
    "    user2 = User2()\n",
    "    sites = SisterSites()\n",
    "\n",
    "    techForum.register(user1)\n",
    "    techForum.register(user2)\n",
    "    techForum.register(sites)\n",
    "\n",
    "\n",
    "    techForum.writeNewPost(\"Observe Pattern in Python\")\n",
    "\n",
    "    techForum.unregister(user2)\n",
    "\n",
    "    techForum.writeNewPost(\"MVC Pattern in Python\")"
   ]
  },
  {
   "cell_type": "markdown",
   "metadata": {},
   "source": [
    "## trade"
   ]
  },
  {
   "cell_type": "code",
   "execution_count": null,
   "metadata": {},
   "outputs": [],
   "source": [
    "clas"
   ]
  }
 ],
 "metadata": {
  "kernelspec": {
   "display_name": "Python 3",
   "language": "python",
   "name": "python3"
  },
  "language_info": {
   "codemirror_mode": {
    "name": "ipython",
    "version": 3
   },
   "file_extension": ".py",
   "mimetype": "text/x-python",
   "name": "python",
   "nbconvert_exporter": "python",
   "pygments_lexer": "ipython3",
   "version": "3.7.3"
  },
  "toc": {
   "base_numbering": 1,
   "nav_menu": {},
   "number_sections": true,
   "sideBar": true,
   "skip_h1_title": false,
   "title_cell": "Table of Contents",
   "title_sidebar": "Contents",
   "toc_cell": false,
   "toc_position": {},
   "toc_section_display": true,
   "toc_window_display": true
  }
 },
 "nbformat": 4,
 "nbformat_minor": 2
}
