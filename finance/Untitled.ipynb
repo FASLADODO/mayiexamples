{
 "cells": [
  {
   "cell_type": "markdown",
   "metadata": {},
   "source": [
    "## hw02"
   ]
  },
  {
   "cell_type": "markdown",
   "metadata": {},
   "source": [
    "### 1.量价分析中应该深入考虑的是什么？\n",
    "\n",
    "我觉得应该多考虑量价关系背后的多空力量的转化。"
   ]
  },
  {
   "attachments": {},
   "cell_type": "markdown",
   "metadata": {},
   "source": [
    "### 2.为什么放量上涨后的缩量回落是健康的？\n",
    "\n",
    "股票走势是一种多空博弈。当多头制造一波上涨后，缩量回调代表空头力量较弱，所以是比较健康的。"
   ]
  },
  {
   "cell_type": "markdown",
   "metadata": {},
   "source": [
    "### 3.请自己设置一个止盈与止损的操作策略。\n",
    "当低位震荡时，静静观察；\n",
    "\n",
    "当股价上涨突破时，平衡被打破，等待第一波上涨过后，如果股价缩量回调，建仓；\n",
    "\n",
    "当股价创新高，量能没有创新高；或者量能创新高，股价没有创新高时，平仓。"
   ]
  },
  {
   "cell_type": "code",
   "execution_count": null,
   "metadata": {},
   "outputs": [],
   "source": []
  }
 ],
 "metadata": {
  "kernelspec": {
   "display_name": "Python 3",
   "language": "python",
   "name": "python3"
  },
  "language_info": {
   "codemirror_mode": {
    "name": "ipython",
    "version": 3
   },
   "file_extension": ".py",
   "mimetype": "text/x-python",
   "name": "python",
   "nbconvert_exporter": "python",
   "pygments_lexer": "ipython3",
   "version": "3.7.3"
  },
  "toc": {
   "base_numbering": 1,
   "nav_menu": {},
   "number_sections": true,
   "sideBar": true,
   "skip_h1_title": false,
   "title_cell": "Table of Contents",
   "title_sidebar": "Contents",
   "toc_cell": false,
   "toc_position": {},
   "toc_section_display": true,
   "toc_window_display": false
  }
 },
 "nbformat": 4,
 "nbformat_minor": 2
}
