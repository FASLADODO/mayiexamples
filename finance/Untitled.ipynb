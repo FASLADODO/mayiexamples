{
 "cells": [
  {
   "cell_type": "markdown",
   "metadata": {},
   "source": [
    "将基础代码与强化学习结合起来，其中强化学习的代码采用这个博客里的即可- https://blog.csdn.net/CoderPai/article/details/80174113\n",
    "\n",
    "提示：假定基础代码的人脸检测、性别年龄表情判别结果是真实的，以此为基础数据进行强化学习。喜欢编程的学员大胆尝试融合，不喜欢编程的学员侧重于提出思路。\n"
   ]
  },
  {
   "cell_type": "markdown",
   "metadata": {},
   "source": [
    "可以设计这样一个系统：\n",
    "* 小车的动作集S={停止, 前进, 左转, 右转, 倒车...}\n",
    "* 环境：可以切割成方格\n",
    "* 奖励R: 每执行一个动作的奖励都为-1，到达终点的奖励为100\n",
    "* 衰减因子：为了简单起见，设置为1\n",
    "\n",
    "和基础代码主要在前期动作指令的转化上，比如：笑->前进，哭->后退等等"
   ]
  },
  {
   "cell_type": "code",
   "execution_count": null,
   "metadata": {},
   "outputs": [],
   "source": []
  }
 ],
 "metadata": {
  "kernelspec": {
   "display_name": "Python 3",
   "language": "python",
   "name": "python3"
  },
  "language_info": {
   "codemirror_mode": {
    "name": "ipython",
    "version": 3
   },
   "file_extension": ".py",
   "mimetype": "text/x-python",
   "name": "python",
   "nbconvert_exporter": "python",
   "pygments_lexer": "ipython3",
   "version": "3.7.3"
  },
  "toc": {
   "base_numbering": 1,
   "nav_menu": {},
   "number_sections": true,
   "sideBar": true,
   "skip_h1_title": false,
   "title_cell": "Table of Contents",
   "title_sidebar": "Contents",
   "toc_cell": false,
   "toc_position": {},
   "toc_section_display": true,
   "toc_window_display": false
  }
 },
 "nbformat": 4,
 "nbformat_minor": 2
}
