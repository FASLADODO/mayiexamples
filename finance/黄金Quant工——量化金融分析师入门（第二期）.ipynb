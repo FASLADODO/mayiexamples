{
 "cells": [
  {
   "cell_type": "markdown",
   "metadata": {},
   "source": [
    "# 成为quant的必要条件之数学"
   ]
  },
  {
   "cell_type": "code",
   "execution_count": 1,
   "metadata": {},
   "outputs": [],
   "source": [
    "import numpy as np\n",
    "import matplotlib.pyplot as plt"
   ]
  },
  {
   "cell_type": "markdown",
   "metadata": {},
   "source": [
    "The following table gives the substitution for different cases:\n",
    "\n",
    "|Integral|\tsubstitution|\t$h(x)$ for  $\\int_0^1h(x)dx$|\n",
    "|---|---|---|\n",
    "|\\begin{equation*}\\int_0^1g(x)dx\\end{equation*}|No substitution| $h(x)=g(x)$|\n",
    "|\\begin{equation*}\\int_a^bg(x)dx\\end{equation*}|\\begin{equation*}x=a+(b-a)y\\end{equation*}|\\begin{equation*}h(x)=(b-a)g\\left(a+(b-a)y\\right)\\end{equation*}|\n",
    "|\\begin{equation*}\\int_a^\\infty g(x)dx\\end{equation*}|\\begin{equation*}x=\\frac{1}{y}-1+a\\end{equation*}|\\begin{equation*}h(x)=\\frac{g\\left(\\frac{1}{y}-1+a \\right)}{y^2}\\end{equation*}|\n",
    "|\\begin{equation*}\\int_{-\\infty}^b g(x)dx\\end{equation*}|\\begin{equation*}x=1-\\frac{1}{y}+b\\end{equation*}|\\begin{equation*}h(x)=\\frac{g\\left(1-\\frac{1}{y}+b \\right)}{y^2}\\end{equation*}|\n"
   ]
  },
  {
   "cell_type": "markdown",
   "metadata": {},
   "source": [
    "###Practice: \n",
    "Calculate  $\\int_{-4}^\\infty\\frac{1}{1+x^2}dx$"
   ]
  },
  {
   "cell_type": "code",
   "execution_count": 2,
   "metadata": {},
   "outputs": [],
   "source": [
    "def mc_integration(a,size):\n",
    "    y=np.random.rand(size)\n",
    "    z=1/y-1+a\n",
    "    hy=1/(1+z**2)/y**2\n",
    "    return np.mean(hy)\n",
    "    "
   ]
  },
  {
   "cell_type": "code",
   "execution_count": 3,
   "metadata": {},
   "outputs": [
    {
     "data": {
      "text/plain": [
       "2.8758377982760845"
      ]
     },
     "execution_count": 3,
     "metadata": {},
     "output_type": "execute_result"
    }
   ],
   "source": [
    "mc_integration(-4,10000)"
   ]
  },
  {
   "cell_type": "markdown",
   "metadata": {},
   "source": [
    "Calculate  $\\int_{-4}^4\\frac{1}{1+x^2}dx$"
   ]
  },
  {
   "cell_type": "code",
   "execution_count": 4,
   "metadata": {},
   "outputs": [],
   "source": [
    "def mc_inte(a,b,size):\n",
    "    y=np.random.rand(size)\n",
    "    z=a+(b-a)*y\n",
    "    hy=(b-a)/(1+z**2)\n",
    "    return np.mean(hy)"
   ]
  },
  {
   "cell_type": "code",
   "execution_count": 5,
   "metadata": {},
   "outputs": [
    {
     "data": {
      "text/plain": [
       "2.6458973862995028"
      ]
     },
     "execution_count": 5,
     "metadata": {},
     "output_type": "execute_result"
    }
   ],
   "source": [
    "mc_inte(-4,4,10000)"
   ]
  },
  {
   "cell_type": "code",
   "execution_count": 6,
   "metadata": {},
   "outputs": [
    {
     "data": {
      "text/plain": [
       "0.8445790427585613"
      ]
     },
     "execution_count": 6,
     "metadata": {},
     "output_type": "execute_result"
    }
   ],
   "source": [
    "np.random.rand()"
   ]
  },
  {
   "cell_type": "code",
   "execution_count": 7,
   "metadata": {},
   "outputs": [
    {
     "data": {
      "text/plain": [
       "1.0596186868736863"
      ]
     },
     "execution_count": 7,
     "metadata": {},
     "output_type": "execute_result"
    }
   ],
   "source": [
    "np.random.normal(0,1)"
   ]
  },
  {
   "cell_type": "code",
   "execution_count": 8,
   "metadata": {},
   "outputs": [
    {
     "data": {
      "text/plain": [
       "9"
      ]
     },
     "execution_count": 8,
     "metadata": {},
     "output_type": "execute_result"
    }
   ],
   "source": [
    "np.random.poisson(10)"
   ]
  },
  {
   "cell_type": "code",
   "execution_count": 9,
   "metadata": {},
   "outputs": [
    {
     "data": {
      "text/plain": [
       "array([26.60746643,  8.9127965 ])"
      ]
     },
     "execution_count": 9,
     "metadata": {},
     "output_type": "execute_result"
    }
   ],
   "source": [
    "np.random.exponential(10,2)"
   ]
  },
  {
   "cell_type": "code",
   "execution_count": 10,
   "metadata": {},
   "outputs": [
    {
     "data": {
      "text/plain": [
       "0.035594746628783924"
      ]
     },
     "execution_count": 10,
     "metadata": {},
     "output_type": "execute_result"
    }
   ],
   "source": [
    "np.random.rand()"
   ]
  },
  {
   "cell_type": "code",
   "execution_count": 11,
   "metadata": {},
   "outputs": [],
   "source": [
    "\n",
    "def inverse(lam,size):\n",
    "    u=np.random.rand(size)\n",
    "    return -1/lam*np.log(u)\n",
    "def compare(la,size):\n",
    "    sample1=np.random.exponential(la,size)\n",
    "    sample2=inverse(la,size)\n",
    "    x=np.linspace(0.1,30,100000)\n",
    "    y=la*np.exp(-la*x)\n",
    "    plt.plot(x,y,label=\"Real Distribution\",zorder=10)\n",
    "    plt.hist(sample1,bins=300,density=True,label=\"Built-in Method\",zorder=7)\n",
    "    plt.hist(sample2,bins=300,density=True,label=\"Inverse Method\",zorder=9)\n",
    "    plt.legend()\n",
    "    plt.show()"
   ]
  },
  {
   "cell_type": "code",
   "execution_count": 12,
   "metadata": {},
   "outputs": [
    {
     "data": {
      "image/png": "[encoded data removed]",
      "text/plain": [
       "<Figure size 432x288 with 1 Axes>"
      ]
     },
     "metadata": {
      "needs_background": "light"
     },
     "output_type": "display_data"
    }
   ],
   "source": [
    "compare(1,10000)"
   ]
  },
  {
   "cell_type": "code",
   "execution_count": 13,
   "metadata": {},
   "outputs": [],
   "source": [
    "#g(x)=1+x**2-x**3\n",
    "def simple_function():\n",
    "    y=np.random.rand(10000)\n",
    "    hy=1+y**2-y**3\n",
    "    return np.mean(hy)"
   ]
  },
  {
   "cell_type": "code",
   "execution_count": 14,
   "metadata": {},
   "outputs": [
    {
     "data": {
      "text/plain": [
       "1.0837782128612057"
      ]
     },
     "execution_count": 14,
     "metadata": {},
     "output_type": "execute_result"
    }
   ],
   "source": [
    "simple_function()"
   ]
  },
  {
   "cell_type": "code",
   "execution_count": 15,
   "metadata": {},
   "outputs": [
    {
     "data": {
      "text/plain": [
       "13/12"
      ]
     },
     "execution_count": 15,
     "metadata": {},
     "output_type": "execute_result"
    }
   ],
   "source": [
    "import sympy\n",
    "y=sympy.Symbol('y')\n",
    "sympy.integrate(1+y**2-y**3,(y,0,1))"
   ]
  },
  {
   "cell_type": "code",
   "execution_count": 59,
   "metadata": {},
   "outputs": [
    {
     "data": {
      "text/plain": [
       "1.0833333333333333"
      ]
     },
     "execution_count": 59,
     "metadata": {},
     "output_type": "execute_result"
    }
   ],
   "source": [
    "13/12"
   ]
  },
  {
   "cell_type": "markdown",
   "metadata": {},
   "source": [
    "## HW02\n",
    "### 自学Finite Difference Method，并用python写一个简单的ODE数值解(自己定义一个问题，并写出答案。)\n",
    "（如果是直接参考网上的代码，请注明索引出处，否则一经发现本课程直接授予不合格。）\n",
    "### Based on 10000 samples from a uniform distribution between 0 and 1,  <font color=\"blue\">use Monte-Carlo integration to compute the following  </font >:\n",
    "\n",
    "$\\int_5^\\infty \\frac{1}{x^3}+\\frac{1}{x^2} dx$\n",
    "（不要复制最后我给的图，如果不会就写不会，没有任何关系。）"
   ]
  },
  {
   "cell_type": "code",
   "execution_count": 3,
   "metadata": {},
   "outputs": [],
   "source": [
    "###Your code here:"
   ]
  },
  {
   "cell_type": "code",
   "execution_count": null,
   "metadata": {},
   "outputs": [],
   "source": []
  },
  {
   "cell_type": "markdown",
   "metadata": {},
   "source": [
    "It can be shown that the corresponding cumulative distribution function is :\n",
    "\n",
    "$F(x;a,b)=\\int _{{0}}^{{x}}f(\\xi ;a,b)d\\xi =1-(1-x^{a})^{b}.\\ $\n",
    "\n",
    " -  Compute the inverse of the cdf given above.\n",
    "  [Note: For this question, you can solve the inverse by hand or using sympy. <font color=\"green\">If you solve it by hand, please present your derivation using text cell. </font>  <font color=\"blue\">If you use sympy, please define $a$ and $b$ as symbols as well.  Solve $x$ as a function of CDF, $a$ and $b$. Do not plug in the value for $a$ and $b$. </font>]\n",
    "\n",
    " - <font color=\"blue\"> Assume $a=2$ and $b=5$. Use Inverse transform sampling from a continuous distribution to generate 10000 sample from this distribution and plot the histogram of your simulation alongside the line plot of the pdf function.  Label the x axis and y axis, and also add a title to the graph. </font>  "
   ]
  },
  {
   "cell_type": "code",
   "execution_count": 7,
   "metadata": {},
   "outputs": [
    {
     "name": "stdout",
     "output_type": "stream",
     "text": [
      "b**2 - 3*b\n",
      "[2*a]\n"
     ]
    }
   ],
   "source": [
    "#Hint: You may find Sympy useful\n",
    "import sympy\n",
    "a=sympy.Symbol('a')\n",
    "b=sympy.Symbol('b')\n",
    "print(sympy.integrate(2*a-3,(a,0,b)))\n",
    "print(sympy.solve(2*a-b,b))"
   ]
  },
  {
   "cell_type": "markdown",
   "metadata": {},
   "source": [
    "It should look like this:\n",
    "![title](data:image/png;base64,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)"
   ]
  },
  {
   "cell_type": "markdown",
   "metadata": {},
   "source": [
    "# 成为quant的必要条件之编程"
   ]
  },
  {
   "cell_type": "code",
   "execution_count": 4,
   "metadata": {},
   "outputs": [],
   "source": [
    "#change problem\n",
    "import numpy as np\n",
    "def find_min_change(d,n):\n",
    "    c=np.repeat(0,n+1)\n",
    "    print_=np.repeat(0,n+1)\n",
    "    for i in range(1,n+1):\n",
    "        mincoin=np.inf\n",
    "        address=0\n",
    "        for j in range(len(d)):\n",
    "            if i-d[j]>=0:\n",
    "                if c[i-d[j]]+1<mincoin:\n",
    "                    mincoin=c[i-d[j]]+1\n",
    "                    address=j\n",
    "        c[i]=mincoin\n",
    "        print_[i]=address\n",
    "    return c[n],print_\n",
    "                \n",
    "    "
   ]
  },
  {
   "cell_type": "code",
   "execution_count": 7,
   "metadata": {},
   "outputs": [
    {
     "data": {
      "text/plain": [
       "(2, array([0, 0, 0, 0, 1, 2, 0, 0, 1, 1]))"
      ]
     },
     "execution_count": 7,
     "metadata": {},
     "output_type": "execute_result"
    }
   ],
   "source": [
    "find_min_change([1,4,5,10],9)"
   ]
  },
  {
   "cell_type": "code",
   "execution_count": 8,
   "metadata": {},
   "outputs": [],
   "source": [
    "def printcoin(d,n):\n",
    "    totalnum,coinuse=find_min_change(d,n)\n",
    "    i=0\n",
    "    while(i<totalnum):\n",
    "        i+=1\n",
    "        print(f\"{d[coinuse[n]]}\")\n",
    "        n-=d[coinuse[n]]"
   ]
  },
  {
   "cell_type": "code",
   "execution_count": 10,
   "metadata": {},
   "outputs": [
    {
     "name": "stdout",
     "output_type": "stream",
     "text": [
      "1\n",
      "1\n",
      "10\n"
     ]
    }
   ],
   "source": [
    "printcoin([1,4,5,10],12)"
   ]
  },
  {
   "cell_type": "markdown",
   "metadata": {},
   "source": [
    "## random feature map"
   ]
  },
  {
   "cell_type": "code",
   "execution_count": 1,
   "metadata": {},
   "outputs": [],
   "source": [
    "###\n",
    "import numpy as np\n",
    "import scipy\n",
    "import matplotlib.pyplot as plt\n",
    "import sklearn\n",
    "from sklearn.model_selection import GridSearchCV\n",
    "from sklearn import svm, metrics,datasets\n",
    "from sklearn.model_selection import train_test_split"
   ]
  },
  {
   "cell_type": "code",
   "execution_count": 2,
   "metadata": {},
   "outputs": [],
   "source": [
    "iris=datasets.load_iris()"
   ]
  },
  {
   "cell_type": "code",
   "execution_count": 3,
   "metadata": {},
   "outputs": [
    {
     "data": {
      "text/plain": [
       "{'data': array([[5.1, 3.5, 1.4, 0.2],\n",
       "        [4.9, 3. , 1.4, 0.2],\n",
       "        [4.7, 3.2, 1.3, 0.2],\n",
       "        [4.6, 3.1, 1.5, 0.2],\n",
       "        [5. , 3.6, 1.4, 0.2],\n",
       "        [5.4, 3.9, 1.7, 0.4],\n",
       "        [4.6, 3.4, 1.4, 0.3],\n",
       "        [5. , 3.4, 1.5, 0.2],\n",
       "        [4.4, 2.9, 1.4, 0.2],\n",
       "        [4.9, 3.1, 1.5, 0.1],\n",
       "        [5.4, 3.7, 1.5, 0.2],\n",
       "        [4.8, 3.4, 1.6, 0.2],\n",
       "        [4.8, 3. , 1.4, 0.1],\n",
       "        [4.3, 3. , 1.1, 0.1],\n",
       "        [5.8, 4. , 1.2, 0.2],\n",
       "        [5.7, 4.4, 1.5, 0.4],\n",
       "        [5.4, 3.9, 1.3, 0.4],\n",
       "        [5.1, 3.5, 1.4, 0.3],\n",
       "        [5.7, 3.8, 1.7, 0.3],\n",
       "        [5.1, 3.8, 1.5, 0.3],\n",
       "        [5.4, 3.4, 1.7, 0.2],\n",
       "        [5.1, 3.7, 1.5, 0.4],\n",
       "        [4.6, 3.6, 1. , 0.2],\n",
       "        [5.1, 3.3, 1.7, 0.5],\n",
       "        [4.8, 3.4, 1.9, 0.2],\n",
       "        [5. , 3. , 1.6, 0.2],\n",
       "        [5. , 3.4, 1.6, 0.4],\n",
       "        [5.2, 3.5, 1.5, 0.2],\n",
       "        [5.2, 3.4, 1.4, 0.2],\n",
       "        [4.7, 3.2, 1.6, 0.2],\n",
       "        [4.8, 3.1, 1.6, 0.2],\n",
       "        [5.4, 3.4, 1.5, 0.4],\n",
       "        [5.2, 4.1, 1.5, 0.1],\n",
       "        [5.5, 4.2, 1.4, 0.2],\n",
       "        [4.9, 3.1, 1.5, 0.2],\n",
       "        [5. , 3.2, 1.2, 0.2],\n",
       "        [5.5, 3.5, 1.3, 0.2],\n",
       "        [4.9, 3.6, 1.4, 0.1],\n",
       "        [4.4, 3. , 1.3, 0.2],\n",
       "        [5.1, 3.4, 1.5, 0.2],\n",
       "        [5. , 3.5, 1.3, 0.3],\n",
       "        [4.5, 2.3, 1.3, 0.3],\n",
       "        [4.4, 3.2, 1.3, 0.2],\n",
       "        [5. , 3.5, 1.6, 0.6],\n",
       "        [5.1, 3.8, 1.9, 0.4],\n",
       "        [4.8, 3. , 1.4, 0.3],\n",
       "        [5.1, 3.8, 1.6, 0.2],\n",
       "        [4.6, 3.2, 1.4, 0.2],\n",
       "        [5.3, 3.7, 1.5, 0.2],\n",
       "        [5. , 3.3, 1.4, 0.2],\n",
       "        [7. , 3.2, 4.7, 1.4],\n",
       "        [6.4, 3.2, 4.5, 1.5],\n",
       "        [6.9, 3.1, 4.9, 1.5],\n",
       "        [5.5, 2.3, 4. , 1.3],\n",
       "        [6.5, 2.8, 4.6, 1.5],\n",
       "        [5.7, 2.8, 4.5, 1.3],\n",
       "        [6.3, 3.3, 4.7, 1.6],\n",
       "        [4.9, 2.4, 3.3, 1. ],\n",
       "        [6.6, 2.9, 4.6, 1.3],\n",
       "        [5.2, 2.7, 3.9, 1.4],\n",
       "        [5. , 2. , 3.5, 1. ],\n",
       "        [5.9, 3. , 4.2, 1.5],\n",
       "        [6. , 2.2, 4. , 1. ],\n",
       "        [6.1, 2.9, 4.7, 1.4],\n",
       "        [5.6, 2.9, 3.6, 1.3],\n",
       "        [6.7, 3.1, 4.4, 1.4],\n",
       "        [5.6, 3. , 4.5, 1.5],\n",
       "        [5.8, 2.7, 4.1, 1. ],\n",
       "        [6.2, 2.2, 4.5, 1.5],\n",
       "        [5.6, 2.5, 3.9, 1.1],\n",
       "        [5.9, 3.2, 4.8, 1.8],\n",
       "        [6.1, 2.8, 4. , 1.3],\n",
       "        [6.3, 2.5, 4.9, 1.5],\n",
       "        [6.1, 2.8, 4.7, 1.2],\n",
       "        [6.4, 2.9, 4.3, 1.3],\n",
       "        [6.6, 3. , 4.4, 1.4],\n",
       "        [6.8, 2.8, 4.8, 1.4],\n",
       "        [6.7, 3. , 5. , 1.7],\n",
       "        [6. , 2.9, 4.5, 1.5],\n",
       "        [5.7, 2.6, 3.5, 1. ],\n",
       "        [5.5, 2.4, 3.8, 1.1],\n",
       "        [5.5, 2.4, 3.7, 1. ],\n",
       "        [5.8, 2.7, 3.9, 1.2],\n",
       "        [6. , 2.7, 5.1, 1.6],\n",
       "        [5.4, 3. , 4.5, 1.5],\n",
       "        [6. , 3.4, 4.5, 1.6],\n",
       "        [6.7, 3.1, 4.7, 1.5],\n",
       "        [6.3, 2.3, 4.4, 1.3],\n",
       "        [5.6, 3. , 4.1, 1.3],\n",
       "        [5.5, 2.5, 4. , 1.3],\n",
       "        [5.5, 2.6, 4.4, 1.2],\n",
       "        [6.1, 3. , 4.6, 1.4],\n",
       "        [5.8, 2.6, 4. , 1.2],\n",
       "        [5. , 2.3, 3.3, 1. ],\n",
       "        [5.6, 2.7, 4.2, 1.3],\n",
       "        [5.7, 3. , 4.2, 1.2],\n",
       "        [5.7, 2.9, 4.2, 1.3],\n",
       "        [6.2, 2.9, 4.3, 1.3],\n",
       "        [5.1, 2.5, 3. , 1.1],\n",
       "        [5.7, 2.8, 4.1, 1.3],\n",
       "        [6.3, 3.3, 6. , 2.5],\n",
       "        [5.8, 2.7, 5.1, 1.9],\n",
       "        [7.1, 3. , 5.9, 2.1],\n",
       "        [6.3, 2.9, 5.6, 1.8],\n",
       "        [6.5, 3. , 5.8, 2.2],\n",
       "        [7.6, 3. , 6.6, 2.1],\n",
       "        [4.9, 2.5, 4.5, 1.7],\n",
       "        [7.3, 2.9, 6.3, 1.8],\n",
       "        [6.7, 2.5, 5.8, 1.8],\n",
       "        [7.2, 3.6, 6.1, 2.5],\n",
       "        [6.5, 3.2, 5.1, 2. ],\n",
       "        [6.4, 2.7, 5.3, 1.9],\n",
       "        [6.8, 3. , 5.5, 2.1],\n",
       "        [5.7, 2.5, 5. , 2. ],\n",
       "        [5.8, 2.8, 5.1, 2.4],\n",
       "        [6.4, 3.2, 5.3, 2.3],\n",
       "        [6.5, 3. , 5.5, 1.8],\n",
       "        [7.7, 3.8, 6.7, 2.2],\n",
       "        [7.7, 2.6, 6.9, 2.3],\n",
       "        [6. , 2.2, 5. , 1.5],\n",
       "        [6.9, 3.2, 5.7, 2.3],\n",
       "        [5.6, 2.8, 4.9, 2. ],\n",
       "        [7.7, 2.8, 6.7, 2. ],\n",
       "        [6.3, 2.7, 4.9, 1.8],\n",
       "        [6.7, 3.3, 5.7, 2.1],\n",
       "        [7.2, 3.2, 6. , 1.8],\n",
       "        [6.2, 2.8, 4.8, 1.8],\n",
       "        [6.1, 3. , 4.9, 1.8],\n",
       "        [6.4, 2.8, 5.6, 2.1],\n",
       "        [7.2, 3. , 5.8, 1.6],\n",
       "        [7.4, 2.8, 6.1, 1.9],\n",
       "        [7.9, 3.8, 6.4, 2. ],\n",
       "        [6.4, 2.8, 5.6, 2.2],\n",
       "        [6.3, 2.8, 5.1, 1.5],\n",
       "        [6.1, 2.6, 5.6, 1.4],\n",
       "        [7.7, 3. , 6.1, 2.3],\n",
       "        [6.3, 3.4, 5.6, 2.4],\n",
       "        [6.4, 3.1, 5.5, 1.8],\n",
       "        [6. , 3. , 4.8, 1.8],\n",
       "        [6.9, 3.1, 5.4, 2.1],\n",
       "        [6.7, 3.1, 5.6, 2.4],\n",
       "        [6.9, 3.1, 5.1, 2.3],\n",
       "        [5.8, 2.7, 5.1, 1.9],\n",
       "        [6.8, 3.2, 5.9, 2.3],\n",
       "        [6.7, 3.3, 5.7, 2.5],\n",
       "        [6.7, 3. , 5.2, 2.3],\n",
       "        [6.3, 2.5, 5. , 1.9],\n",
       "        [6.5, 3. , 5.2, 2. ],\n",
       "        [6.2, 3.4, 5.4, 2.3],\n",
       "        [5.9, 3. , 5.1, 1.8]]),\n",
       " 'target': array([0, 0, 0, 0, 0, 0, 0, 0, 0, 0, 0, 0, 0, 0, 0, 0, 0, 0, 0, 0, 0, 0,\n",
       "        0, 0, 0, 0, 0, 0, 0, 0, 0, 0, 0, 0, 0, 0, 0, 0, 0, 0, 0, 0, 0, 0,\n",
       "        0, 0, 0, 0, 0, 0, 1, 1, 1, 1, 1, 1, 1, 1, 1, 1, 1, 1, 1, 1, 1, 1,\n",
       "        1, 1, 1, 1, 1, 1, 1, 1, 1, 1, 1, 1, 1, 1, 1, 1, 1, 1, 1, 1, 1, 1,\n",
       "        1, 1, 1, 1, 1, 1, 1, 1, 1, 1, 1, 1, 2, 2, 2, 2, 2, 2, 2, 2, 2, 2,\n",
       "        2, 2, 2, 2, 2, 2, 2, 2, 2, 2, 2, 2, 2, 2, 2, 2, 2, 2, 2, 2, 2, 2,\n",
       "        2, 2, 2, 2, 2, 2, 2, 2, 2, 2, 2, 2, 2, 2, 2, 2, 2, 2]),\n",
       " 'target_names': array(['setosa', 'versicolor', 'virginica'], dtype='<U10'),\n",
       " 'DESCR': '.. _iris_dataset:\\n\\nIris plants dataset\\n--------------------\\n\\n**Data Set Characteristics:**\\n\\n    :Number of Instances: 150 (50 in each of three classes)\\n    :Number of Attributes: 4 numeric, predictive attributes and the class\\n    :Attribute Information:\\n        - sepal length in cm\\n        - sepal width in cm\\n        - petal length in cm\\n        - petal width in cm\\n        - class:\\n                - Iris-Setosa\\n                - Iris-Versicolour\\n                - Iris-Virginica\\n                \\n    :Summary Statistics:\\n\\n    ============== ==== ==== ======= ===== ====================\\n                    Min  Max   Mean    SD   Class Correlation\\n    ============== ==== ==== ======= ===== ====================\\n    sepal length:   4.3  7.9   5.84   0.83    0.7826\\n    sepal width:    2.0  4.4   3.05   0.43   -0.4194\\n    petal length:   1.0  6.9   3.76   1.76    0.9490  (high!)\\n    petal width:    0.1  2.5   1.20   0.76    0.9565  (high!)\\n    ============== ==== ==== ======= ===== ====================\\n\\n    :Missing Attribute Values: None\\n    :Class Distribution: 33.3% for each of 3 classes.\\n    :Creator: R.A. Fisher\\n    :Donor: Michael Marshall (MARSHALL%PLU@io.arc.nasa.gov)\\n    :Date: July, 1988\\n\\nThe famous Iris database, first used by Sir R.A. Fisher. The dataset is taken\\nfrom Fisher\\'s paper. Note that it\\'s the same as in R, but not as in the UCI\\nMachine Learning Repository, which has two wrong data points.\\n\\nThis is perhaps the best known database to be found in the\\npattern recognition literature.  Fisher\\'s paper is a classic in the field and\\nis referenced frequently to this day.  (See Duda & Hart, for example.)  The\\ndata set contains 3 classes of 50 instances each, where each class refers to a\\ntype of iris plant.  One class is linearly separable from the other 2; the\\nlatter are NOT linearly separable from each other.\\n\\n.. topic:: References\\n\\n   - Fisher, R.A. \"The use of multiple measurements in taxonomic problems\"\\n     Annual Eugenics, 7, Part II, 179-188 (1936); also in \"Contributions to\\n     Mathematical Statistics\" (John Wiley, NY, 1950).\\n   - Duda, R.O., & Hart, P.E. (1973) Pattern Classification and Scene Analysis.\\n     (Q327.D83) John Wiley & Sons.  ISBN 0-471-22361-1.  See page 218.\\n   - Dasarathy, B.V. (1980) \"Nosing Around the Neighborhood: A New System\\n     Structure and Classification Rule for Recognition in Partially Exposed\\n     Environments\".  IEEE Transactions on Pattern Analysis and Machine\\n     Intelligence, Vol. PAMI-2, No. 1, 67-71.\\n   - Gates, G.W. (1972) \"The Reduced Nearest Neighbor Rule\".  IEEE Transactions\\n     on Information Theory, May 1972, 431-433.\\n   - See also: 1988 MLC Proceedings, 54-64.  Cheeseman et al\"s AUTOCLASS II\\n     conceptual clustering system finds 3 classes in the data.\\n   - Many, many more ...',\n",
       " 'feature_names': ['sepal length (cm)',\n",
       "  'sepal width (cm)',\n",
       "  'petal length (cm)',\n",
       "  'petal width (cm)'],\n",
       " 'filename': '/Users/luoyonggui/anaconda3/lib/python3.7/site-packages/sklearn/datasets/data/iris.csv'}"
      ]
     },
     "execution_count": 3,
     "metadata": {},
     "output_type": "execute_result"
    }
   ],
   "source": [
    "iris"
   ]
  },
  {
   "cell_type": "code",
   "execution_count": 7,
   "metadata": {},
   "outputs": [
    {
     "data": {
      "text/plain": [
       "((150, 4), (38, 4))"
      ]
     },
     "execution_count": 7,
     "metadata": {},
     "output_type": "execute_result"
    }
   ],
   "source": [
    "x=iris.data\n",
    "y=iris.target\n",
    "X_train, X_test, y_train, y_test = train_test_split(\n",
    "    x, y, test_size=0.25, random_state=42)\n",
    "x.shape, X_test.shape"
   ]
  },
  {
   "cell_type": "code",
   "execution_count": 5,
   "metadata": {},
   "outputs": [],
   "source": [
    "def randomfeaturemap(dataset):\n",
    "    N=dataset.shape[1]\n",
    "    M=int(N*np.log(N))\n",
    "    G=np.random.normal(0,1,M*N)\n",
    "    G=G.reshape(M,N)\n",
    "    return (np.sign(np.dot(G,dataset.T))/(M**0.5)).T"
   ]
  },
  {
   "cell_type": "code",
   "execution_count": 6,
   "metadata": {},
   "outputs": [
    {
     "data": {
      "text/plain": [
       "(38, 5)"
      ]
     },
     "execution_count": 6,
     "metadata": {},
     "output_type": "execute_result"
    }
   ],
   "source": [
    "rx_train=randomfeaturemap(X_train)\n",
    "rx_test=randomfeaturemap(X_test)\n",
    "rx_test.shape"
   ]
  },
  {
   "cell_type": "code",
   "execution_count": 8,
   "metadata": {},
   "outputs": [],
   "source": [
    "def angular_kernel(x,y):\n",
    "    dotproduct=sum([a*b for a,b in zip(x,y)])\n",
    "    norm=np.linalg.norm(x,ord=2)*np.linalg.norm(y,ord=2)\n",
    "    theta=np.arccos(dotproduct/norm)\n",
    "    return 1-2*theta/np.pi"
   ]
  },
  {
   "cell_type": "code",
   "execution_count": 9,
   "metadata": {},
   "outputs": [],
   "source": [
    "def my_kernel(X,Y):\n",
    "    k=np.zeros([len(X),len(Y)])\n",
    "    for i in range(len(X)):\n",
    "        for j in range(len(Y)):\n",
    "            k[i][j]=angular_kernel(X[i],Y[i])\n",
    "    return k"
   ]
  },
  {
   "cell_type": "code",
   "execution_count": 10,
   "metadata": {},
   "outputs": [
    {
     "name": "stderr",
     "output_type": "stream",
     "text": [
      "/Users/luoyonggui/anaconda3/lib/python3.7/site-packages/ipykernel_launcher.py:4: RuntimeWarning: invalid value encountered in arccos\n",
      "  after removing the cwd from sys.path.\n"
     ]
    },
    {
     "name": "stdout",
     "output_type": "stream",
     "text": [
      "0.3157894736842105\n",
      "[1 0 2 1 1 0 1 2 1 1 2 0 0 0 0 1 2 1 1 2 0 2 0 2 2 2 2 2 0 0 0 0 1 0 0 2 1\n",
      " 0]\n",
      "[2 2 2 2 2 2 2 2 2 2 2 2 2 2 2 2 2 2 2 2 2 2 2 2 2 2 2 2 2 2 2 2 2 2 2 2 2\n",
      " 2]\n"
     ]
    }
   ],
   "source": [
    "model1=svm.SVC(kernel=my_kernel)\n",
    "model1.fit(X_train,y_train)\n",
    "y_p1=model1.predict(X_test)\n",
    "#print(metrics.classification_report(y_test,y_p1))\n",
    "#print(metrics.confusion_matrix(y_test,y_p1))\n",
    "print(metrics.accuracy_score(y_test,y_p1))\n",
    "print(y_test)\n",
    "print(y_p1)\n"
   ]
  },
  {
   "cell_type": "code",
   "execution_count": 11,
   "metadata": {},
   "outputs": [
    {
     "name": "stdout",
     "output_type": "stream",
     "text": [
      "0.2894736842105263\n",
      "[1 0 2 1 1 0 1 2 1 1 2 0 0 0 0 1 2 1 1 2 0 2 0 2 2 2 2 2 0 0 0 0 1 0 0 2 1\n",
      " 0]\n",
      "[1 1 1 1 1 1 1 1 1 1 1 1 1 1 1 1 1 1 1 1 1 1 1 1 1 1 1 1 1 1 1 1 1 1 1 1 1\n",
      " 1]\n"
     ]
    },
    {
     "name": "stderr",
     "output_type": "stream",
     "text": [
      "/Users/luoyonggui/anaconda3/lib/python3.7/site-packages/sklearn/svm/base.py:193: FutureWarning: The default value of gamma will change from 'auto' to 'scale' in version 0.22 to account better for unscaled features. Set gamma explicitly to 'auto' or 'scale' to avoid this warning.\n",
      "  \"avoid this warning.\", FutureWarning)\n"
     ]
    }
   ],
   "source": [
    "model2=svm.SVC()\n",
    "model2.fit(rx_train,y_train)\n",
    "y_p2=model2.predict(rx_test)\n",
    "#print(metrics.classification_report(y_test,y_p1))\n",
    "#print(metrics.confusion_matrix(y_test,y_p1))\n",
    "print(metrics.accuracy_score(y_test,y_p2))\n",
    "print(y_test)\n",
    "print(y_p2)\n"
   ]
  },
  {
   "cell_type": "code",
   "execution_count": 12,
   "metadata": {},
   "outputs": [
    {
     "name": "stdout",
     "output_type": "stream",
     "text": [
      "1.0\n",
      "[1 0 2 1 1 0 1 2 1 1 2 0 0 0 0 1 2 1 1 2 0 2 0 2 2 2 2 2 0 0 0 0 1 0 0 2 1\n",
      " 0]\n",
      "[1 0 2 1 1 0 1 2 1 1 2 0 0 0 0 1 2 1 1 2 0 2 0 2 2 2 2 2 0 0 0 0 1 0 0 2 1\n",
      " 0]\n"
     ]
    },
    {
     "name": "stderr",
     "output_type": "stream",
     "text": [
      "/Users/luoyonggui/anaconda3/lib/python3.7/site-packages/sklearn/svm/base.py:193: FutureWarning: The default value of gamma will change from 'auto' to 'scale' in version 0.22 to account better for unscaled features. Set gamma explicitly to 'auto' or 'scale' to avoid this warning.\n",
      "  \"avoid this warning.\", FutureWarning)\n"
     ]
    }
   ],
   "source": [
    "model3=svm.SVC(kernel='rbf')\n",
    "model3.fit(X_train,y_train)\n",
    "y_p3=model3.predict(X_test)\n",
    "#print(metrics.classification_report(y_test,y_p1))\n",
    "#print(metrics.confusion_matrix(y_test,y_p1))\n",
    "print(metrics.accuracy_score(y_test,y_p3))\n",
    "print(y_test)\n",
    "print(y_p3)\n"
   ]
  },
  {
   "cell_type": "code",
   "execution_count": 13,
   "metadata": {},
   "outputs": [],
   "source": [
    "def markovstock(p):\n",
    "    while True:\n",
    "        step=np.random.normal(0,1)\n",
    "        p+=step\n",
    "        if p>=0:\n",
    "            yield p\n",
    "        else:\n",
    "            return"
   ]
  },
  {
   "cell_type": "code",
   "execution_count": 14,
   "metadata": {},
   "outputs": [],
   "source": [
    "gen=markovstock(10)"
   ]
  },
  {
   "cell_type": "code",
   "execution_count": 15,
   "metadata": {},
   "outputs": [],
   "source": [
    "trace=[]\n",
    "for i in range(120):\n",
    "    newp=next(gen)\n",
    "    trace.append(newp)"
   ]
  },
  {
   "cell_type": "code",
   "execution_count": 16,
   "metadata": {},
   "outputs": [
    {
     "data": {
      "text/plain": [
       "[10.2175426648372,\n",
       " 10.652465635101898,\n",
       " 9.356865216008934,\n",
       " 9.894845961838277,\n",
       " 9.192642786451387,\n",
       " 9.861804894510811,\n",
       " 9.49438293856341,\n",
       " 8.30532254498706,\n",
       " 9.618971506980103,\n",
       " 8.441103798014447,\n",
       " 5.873839585536988,\n",
       " 5.221948875922991,\n",
       " 4.458918708805989,\n",
       " 3.0687820513427044,\n",
       " 3.3366840348463995,\n",
       " 1.951275040965908,\n",
       " 4.327564407132316,\n",
       " 6.118834446919111,\n",
       " 5.924807023117786,\n",
       " 6.250623394228202,\n",
       " 4.995338235537361,\n",
       " 3.8355794685981106,\n",
       " 4.103974549920324,\n",
       " 3.6770887251086415,\n",
       " 2.9862905296203293,\n",
       " 1.376894429934935,\n",
       " 2.2816112883645783,\n",
       " 3.083186531056812,\n",
       " 2.16770564546642,\n",
       " 2.67263464412285,\n",
       " 2.3187649940315804,\n",
       " 3.014750313737654,\n",
       " 4.866391453930756,\n",
       " 5.137161661068717,\n",
       " 5.941813311542319,\n",
       " 7.717975137011515,\n",
       " 8.655092422744685,\n",
       " 7.995014626376287,\n",
       " 7.3217157622508395,\n",
       " 8.305415302061064,\n",
       " 8.70540943678878,\n",
       " 9.366469618639133,\n",
       " 9.846078348307117,\n",
       " 10.389821912900233,\n",
       " 12.706677477956244,\n",
       " 14.198010730726956,\n",
       " 13.46737347452768,\n",
       " 12.151889475647442,\n",
       " 13.234780642671746,\n",
       " 13.256292087295659,\n",
       " 12.34764448327851,\n",
       " 10.829572618180407,\n",
       " 11.973294376692838,\n",
       " 11.089656359054242,\n",
       " 11.796272458332714,\n",
       " 13.253872538404384,\n",
       " 11.425876547590612,\n",
       " 11.977648834822386,\n",
       " 13.763471127468108,\n",
       " 14.508146566562004,\n",
       " 14.969353876242966,\n",
       " 15.326454774758574,\n",
       " 15.318880323028145,\n",
       " 14.479207690832842,\n",
       " 12.60824865827979,\n",
       " 13.274582814678789,\n",
       " 12.784997597240597,\n",
       " 12.433540091612668,\n",
       " 11.48999055244437,\n",
       " 9.420859187202186,\n",
       " 9.049245380559347,\n",
       " 9.030465171364407,\n",
       " 9.442636413569208,\n",
       " 8.485423429079153,\n",
       " 8.396856491270121,\n",
       " 8.814856221824867,\n",
       " 8.38420132302416,\n",
       " 8.863670528242618,\n",
       " 8.438327130903037,\n",
       " 9.150973343730996,\n",
       " 10.801858678975051,\n",
       " 9.394513214818641,\n",
       " 9.34431812317711,\n",
       " 9.721963583453263,\n",
       " 10.145200850915927,\n",
       " 10.020757560734177,\n",
       " 11.503039857687783,\n",
       " 11.551568748801614,\n",
       " 11.920133973517075,\n",
       " 12.227583899106536,\n",
       " 12.592725719012428,\n",
       " 12.444421453125269,\n",
       " 13.508338363966608,\n",
       " 13.451396981703743,\n",
       " 13.005381348334133,\n",
       " 12.433192713072046,\n",
       " 12.831751797295984,\n",
       " 13.224225788990188,\n",
       " 13.061754873120472,\n",
       " 13.69361668248061,\n",
       " 13.809879312842854,\n",
       " 13.04823708237947,\n",
       " 14.10153220081748,\n",
       " 13.651418859990653,\n",
       " 14.182534903327864,\n",
       " 13.98459075947751,\n",
       " 14.013508135476629,\n",
       " 12.585883381790278,\n",
       " 12.868834708251029,\n",
       " 12.113389132275323,\n",
       " 11.700509869045066,\n",
       " 12.456043763135277,\n",
       " 11.678216248880835,\n",
       " 10.704497898867254,\n",
       " 10.824556257568512,\n",
       " 12.494669503742669,\n",
       " 13.115132157377685,\n",
       " 11.954825434768358,\n",
       " 11.722932788261412,\n",
       " 10.821972020711325]"
      ]
     },
     "execution_count": 16,
     "metadata": {},
     "output_type": "execute_result"
    }
   ],
   "source": [
    "trace"
   ]
  },
  {
   "cell_type": "markdown",
   "metadata": {},
   "source": [
    "## HW03\n",
    "Investing for someone who knows the Future: You are given the prices of a stock for each of the next n days. You can buy once and sell once and you want to maximize your profit.\n",
    "\n",
    ">Example  \n",
    "Day 1 2 3 4 5 6 7 8 9 10 11 12 13 14 15 16  \n",
    "Price 70 90 40 27 69 80 13 50 35 75 51 53 56 10 15 41\n",
    "\n",
    " Questions:\n",
    " * How long does the naive algorithm take?\n",
    " * Can we improve this with divide and conquer?\n",
    " * Give a DP code"
   ]
  },
  {
   "cell_type": "markdown",
   "metadata": {},
   "source": [
    "### How long does the naive algorithm take?"
   ]
  },
  {
   "cell_type": "markdown",
   "metadata": {},
   "source": [
    "$$\\sum_{i=1}^{n-1} (n-i) = O(n^2)$$"
   ]
  },
  {
   "cell_type": "markdown",
   "metadata": {},
   "source": [
    "### Can we improve this with divide and conquer?"
   ]
  },
  {
   "cell_type": "markdown",
   "metadata": {},
   "source": [
    "想不出怎么用分治法求解，下面是用递归法求解的code"
   ]
  },
  {
   "cell_type": "code",
   "execution_count": 19,
   "metadata": {},
   "outputs": [],
   "source": [
    "ll = [70, 90, 40, 27, 69, 80, 13, 50, 35, 75, 51, 53, 56, 10, 15, 41]"
   ]
  },
  {
   "cell_type": "code",
   "execution_count": 22,
   "metadata": {},
   "outputs": [],
   "source": [
    "def t(ll, profit):\n",
    "    if len(ll) == 1:\n",
    "        return profit\n",
    "    for i in ll[1:]:\n",
    "        if i-ll[0] > profit:\n",
    "            profit = i-ll[0]\n",
    "    return t(ll[1:], profit)"
   ]
  },
  {
   "cell_type": "code",
   "execution_count": 23,
   "metadata": {},
   "outputs": [
    {
     "data": {
      "text/plain": [
       "62"
      ]
     },
     "execution_count": 23,
     "metadata": {},
     "output_type": "execute_result"
    }
   ],
   "source": [
    "t(ll, 0)"
   ]
  },
  {
   "cell_type": "markdown",
   "metadata": {},
   "source": [
    "### Give a DP code"
   ]
  },
  {
   "cell_type": "markdown",
   "metadata": {},
   "source": [
    "不好意思，老师，我算法不太懂。。。"
   ]
  },
  {
   "cell_type": "code",
   "execution_count": null,
   "metadata": {},
   "outputs": [],
   "source": []
  }
 ],
 "metadata": {
  "kernelspec": {
   "display_name": "Python 3",
   "language": "python",
   "name": "python3"
  },
  "language_info": {
   "codemirror_mode": {
    "name": "ipython",
    "version": 3
   },
   "file_extension": ".py",
   "mimetype": "text/x-python",
   "name": "python",
   "nbconvert_exporter": "python",
   "pygments_lexer": "ipython3",
   "version": "3.7.3"
  },
  "toc": {
   "base_numbering": 1,
   "nav_menu": {},
   "number_sections": true,
   "sideBar": true,
   "skip_h1_title": false,
   "title_cell": "Table of Contents",
   "title_sidebar": "Contents",
   "toc_cell": false,
   "toc_position": {},
   "toc_section_display": true,
   "toc_window_display": true
  }
 },
 "nbformat": 4,
 "nbformat_minor": 2
}
