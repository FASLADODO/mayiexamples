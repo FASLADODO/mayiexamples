{
 "cells": [
  {
   "cell_type": "markdown",
   "metadata": {},
   "source": [
    "https://www.jisilu.cn/question/268426\n",
    "\n",
    "日线数据sina也有，但都是不复权的，我用的是：http://money.finance.sina.com.cn/quotes_service/api/json_v2.php/CN_MarketData.getKLineData?symbol=sz002095&scale=240&ma=no&datalen=250\n",
    "\n",
    "其中的参数可以改，scale单位是分钟。这个地址数据很全，开盘、收盘、最高、最低、成交量都有，遗憾的是数据不除权。\n",
    "\n",
    "\n",
    "精确的复权数据，我是从tushare上取的，tushare只支持python，不支持VBA。要是能从你提供的地址直接用VBA取就好了。 "
   ]
  },
  {
   "cell_type": "code",
   "execution_count": 17,
   "metadata": {},
   "outputs": [],
   "source": [
    "import requests\n",
    "import json\n",
    "import pandas as pd\n",
    "import matplotlib.pyplot as plt\n",
    "%matplotlib inline\n",
    "# 支持中文显示\n",
    "plt.rcParams['font.sans-serif'] = ['Arial Unicode MS']\n",
    "plt.rcParams['axes.unicode_minus'] = False\n"
   ]
  },
  {
   "cell_type": "markdown",
   "metadata": {},
   "source": [
    "# API"
   ]
  },
  {
   "cell_type": "markdown",
   "metadata": {},
   "source": [
    "## get_hist_k_data(code, datalen)\n",
    "获取最近datalen天的code的行情数据"
   ]
  },
  {
   "cell_type": "code",
   "execution_count": 6,
   "metadata": {},
   "outputs": [],
   "source": [
    "def get_hist_k_data(code, datalen, verbose=False, plot=False):\n",
    "    r = requests.get('http://money.finance.sina.com.cn/quotes_service/api/json_v2.php/CN_MarketData.getKLineData?symbol={}&scale=240&ma=no&datalen={}'.format(code, datalen))\n",
    "    rs = r.text\n",
    "    cols_num = ['open', 'high', 'low', 'close']\n",
    "    cols = ['day', 'volume'] + cols_num\n",
    "    for c in cols:\n",
    "        rs = rs.replace(c, '\"{}\"'.format(c))\n",
    "    df1 = pd.DataFrame(json.loads(rs))\n",
    "    df1.loc[:, cols_num] = df1.loc[:, cols_num].applymap(float)\n",
    "    df1.loc[:, 'day'] = pd.to_datetime(df1.day)\n",
    "    df1.index = df1.day\n",
    "    if verbose:\n",
    "        print(df1.head(2))\n",
    "        print(df1.tail(2))\n",
    "    if plot:\n",
    "        df1.close.plot()\n",
    "        \n",
    "    return df1"
   ]
  },
  {
   "cell_type": "code",
   "execution_count": 7,
   "metadata": {},
   "outputs": [],
   "source": [
    "code = 'sh510300'\n",
    "# code = 'sz159915'\n",
    "datalen = 250"
   ]
  },
  {
   "cell_type": "code",
   "execution_count": 8,
   "metadata": {},
   "outputs": [
    {
     "name": "stdout",
     "output_type": "stream",
     "text": [
      "            close        day   high    low   open      volume\n",
      "day                                                          \n",
      "2014-12-19  3.434 2014-12-19  3.443  3.311  3.387  2142954112\n",
      "2014-12-22   3.41 2014-12-22  3.482  3.399  3.434  1869113600\n",
      "            close        day   high    low   open     volume\n",
      "day                                                         \n",
      "2020-02-07  3.888 2020-02-07  3.892  3.844   3.87  346989051\n",
      "2020-02-10  3.901 2020-02-10   3.91  3.851  3.868  398519147\n"
     ]
    },
    {
     "data": {
      "image/png": "[encoded data removed]",
      "text/plain": [
       "<Figure size 432x288 with 1 Axes>"
      ]
     },
     "metadata": {
      "needs_background": "light"
     },
     "output_type": "display_data"
    }
   ],
   "source": [
    "df = get_hist_k_data(code, 1250, verbose=True, plot=True)"
   ]
  },
  {
   "cell_type": "markdown",
   "metadata": {},
   "source": [
    "## strategy(code, datalen, benjin = 1000, sell_pct=0.1, fee=0.001, dingtou_mode='无脑', sell=True)\n",
    "定投策略"
   ]
  },
  {
   "cell_type": "code",
   "execution_count": 50,
   "metadata": {},
   "outputs": [],
   "source": [
    "def strategy(code, datalen, benjin = 1000, sell_pct=0.1, fee=0.001, dingtou_mode='无脑', sell=True):\n",
    "    \"\"\"\n",
    "    每周一3 5 定投1000\n",
    "    \n",
    "    dingtou_mode='无脑', '不涨'\n",
    "    \"\"\"\n",
    "    df = get_hist_k_data(code, datalen)\n",
    "    df['weekday'] = df.day.dt.weekday    \n",
    "    while df.weekday.iloc[0]!=0:  # 从周一开始定投\n",
    "        df = df.iloc[1:]\n",
    "    def ft(s):\n",
    "        return s[-1]/s[0] -1\n",
    "    df['指数累计涨幅'] = df.close.expanding().agg(ft)\n",
    "    df1 = df[df.weekday.isin([0, 2, 4])].copy()\n",
    "    \n",
    "    df1['benjin'] = 0\n",
    "    df1.loc[df1.weekday==0, 'benjin'] = benjin\n",
    "    df1['open_pct'] = df.open/df.open.shift(1)\n",
    "    if dingtou_mode=='无脑':\n",
    "        df1.loc[(df1.weekday.isin([2, 4])), 'benjin'] = benjin  # 不管三七二十一 无脑定投\n",
    "    elif dingtou_mode=='不涨':\n",
    "        df1.loc[(df1.weekday.isin([2, 4]))&(df1.open_pct<1), 'benjin'] = benjin  # 只要不涨我就增加定投\n",
    "    \n",
    "#     print(df1.iloc[:, 1:].head(50))\n",
    "    df1['num'] = df1.benjin//df1.open//100*100+100\n",
    "    df1['benjin_real'] = df1.num*df1.open\n",
    "    \n",
    "    df1['sell_price'] = df1.open * (1 + sell_pct)\n",
    "    \n",
    "    df1['sell_flag'] = 0  # 表示未卖出 1表示卖出\n",
    "    if sell:\n",
    "        count = 0\n",
    "        for i in range(df1.shape[0]):\n",
    "            if df1.benjin.iloc[i] > 0 and df1.weekday.iloc[i] in [2, 4]:\n",
    "                count += 1\n",
    "                if df1.high.iloc[i:].max()>=df1.sell_price.iloc[i]:\n",
    "                    df1['sell_flag'].iloc[i] = 1\n",
    "        print(count)\n",
    "    df1['sell_money'] = df1.sell_flag * df1.sell_price\n",
    "    \n",
    "    print(df1.loc[df1.weekday.isin([2, 4])&(df1.benjin!=0), 'sell_flag'].value_counts())\n",
    "    df1['t'] = 0\n",
    "    df1.loc[df1.benjin!=0, 't'] = 1\n",
    "    df1['累计执行定投次数'] = df1.t.expanding().sum()\n",
    "#     print('累计执行定投次数: {}'.format(df1[df1.benjin!=0].shape[0]))\n",
    "    df1['t'] = 0\n",
    "    df1.loc[(df1.benjin!=0)&(df1.sell_flag==0), 't'] = 1\n",
    "    df1['净执行定投次数'] = df1.t.expanding().sum()\n",
    "#     print('净执行定投次数: {}'.format(df1[(df1.benjin!=0)&(df1.sell_flag==0)].shape[0]))\n",
    "    df1['累计投入本金'] = df1.benjin_real.expanding().sum()\n",
    "#     print('累计投入本金: {}'.format(df1.benjin_real.sum()))\n",
    "    df1['t'] = 0\n",
    "    df1.loc[(df1.benjin!=0)&(df1.sell_flag==0), 't'] = 1\n",
    "    df1['t'] = df1.t * df1.benjin_real\n",
    "    df1['净投入本金'] = df1.t.expanding().sum()\n",
    "#     net_benjin = df1.loc[(df1.benjin!=0)&(df1.sell_flag==0), 'benjin_real'].sum()\n",
    "#     print('净投入本金: {}---------------------'.format(net_benjin))\n",
    "    df1['累计买入股数'] = df1.num.expanding().sum()\n",
    "#     print('累计买入股数: {}'.format(df1.num.sum()))\n",
    "    df1['t'] = 0\n",
    "    df1.loc[(df1.benjin!=0)&(df1.sell_flag==0), 't'] = 1\n",
    "    df1['t'] = df1.t * df1.num\n",
    "    df1['净持股数'] = df1.t.expanding().sum()\n",
    "#     print('净持股数: {}'.format(df1.loc[(df1.benjin!=0)&(df1.sell_flag==0), 'num'].sum()))\n",
    "    df1['现在持股市值'] = df1.close*df1.净持股数\n",
    "#     shizhi = df1.close.iloc[-1]*df1.loc[(df1.benjin!=0)&(df1.sell_flag==0), 'num'].sum()\n",
    "#     print('现在持股市值: {}'.format(shizhi))\n",
    "    df1['t'] = df1.sell_flag * df1.sell_price * df1.num * (1-fee)\n",
    "    df1['累计卖出金额'] = df1.t.expanding().sum()\n",
    "    df1['累计卖出获利'] = df1['累计卖出金额'] - (df1['累计投入本金']-df1['净投入本金'])\n",
    "#     sell_val = (df1.sell_flag * df1.sell_price * df1.num ).sum()\n",
    "#     print('累计卖出金额: {}'.format(sell_val*(1-fee)))\n",
    "#     print('累计卖出手续费: {}'.format(sell_val*fee))\n",
    "#     sell_val = sell_val*(1-fee)\n",
    "    df1['累计绝对收益'] = df1['现在持股市值']+df1['累计卖出金额']-df1['累计投入本金']\n",
    "#     print('---------累计绝对收益: {}------------------------------------'.format(shizhi+sell_val-df1.benjin_real.sum()))\n",
    "#     df1.loc[df1.净投入本金==0, '净投入本金']=benjin\n",
    "    df1['累计收益率'] = df1['累计绝对收益']/(df1['净投入本金'])\n",
    "    df1['持仓成本'] = (df1['净投入本金']-df1['累计卖出获利'])/df1['净持股数'] \n",
    "#     print('累计收益率: {}'.format((shizhi+sell_val-df1.benjin_real.sum())/net_benjin))  \n",
    "#     print('简单年化收益率: {}'.format(((shizhi+sell_val-df1.benjin_real.sum())/net_benjin)/(datalen/250)))       \n",
    "    \n",
    "#     print('期间指数涨幅: {}'.format(zs_ratio)) \n",
    "    return df1"
   ]
  },
  {
   "cell_type": "code",
   "execution_count": 51,
   "metadata": {},
   "outputs": [
    {
     "name": "stdout",
     "output_type": "stream",
     "text": [
      "0    95\n",
      "Name: sell_flag, dtype: int64\n"
     ]
    }
   ],
   "source": [
    "# 如果只买不卖，在震荡市里会被打爆！\n",
    "\n",
    "code = 'sh510300'\n",
    "\n",
    "dff = strategy(code, 250, 10000, dingtou_mode='无脑', sell=False)"
   ]
  },
  {
   "cell_type": "code",
   "execution_count": 52,
   "metadata": {},
   "outputs": [
    {
     "data": {
      "text/plain": [
       "<matplotlib.axes._subplots.AxesSubplot at 0x129afbda0>"
      ]
     },
     "execution_count": 52,
     "metadata": {},
     "output_type": "execute_result"
    },
    {
     "data": {
      "image/png": "[encoded data removed]",
      "text/plain": [
       "<Figure size 432x288 with 1 Axes>"
      ]
     },
     "metadata": {
      "needs_background": "light"
     },
     "output_type": "display_data"
    }
   ],
   "source": [
    "dff[['close','持仓成本']].plot()"
   ]
  },
  {
   "cell_type": "code",
   "execution_count": 53,
   "metadata": {},
   "outputs": [
    {
     "data": {
      "text/html": [
       "<div>\n",
       "<style scoped>\n",
       "    .dataframe tbody tr th:only-of-type {\n",
       "        vertical-align: middle;\n",
       "    }\n",
       "\n",
       "    .dataframe tbody tr th {\n",
       "        vertical-align: top;\n",
       "    }\n",
       "\n",
       "    .dataframe thead th {\n",
       "        text-align: right;\n",
       "    }\n",
       "</style>\n",
       "<table border=\"1\" class=\"dataframe\">\n",
       "  <thead>\n",
       "    <tr style=\"text-align: right;\">\n",
       "      <th></th>\n",
       "      <th>close</th>\n",
       "      <th>day</th>\n",
       "      <th>high</th>\n",
       "      <th>low</th>\n",
       "      <th>open</th>\n",
       "      <th>volume</th>\n",
       "      <th>weekday</th>\n",
       "      <th>指数累计涨幅</th>\n",
       "      <th>benjin</th>\n",
       "      <th>open_pct</th>\n",
       "      <th>...</th>\n",
       "      <th>累计投入本金</th>\n",
       "      <th>净投入本金</th>\n",
       "      <th>累计买入股数</th>\n",
       "      <th>净持股数</th>\n",
       "      <th>现在持股市值</th>\n",
       "      <th>累计卖出金额</th>\n",
       "      <th>累计卖出获利</th>\n",
       "      <th>累计绝对收益</th>\n",
       "      <th>累计收益率</th>\n",
       "      <th>持仓成本</th>\n",
       "    </tr>\n",
       "    <tr>\n",
       "      <th>day</th>\n",
       "      <th></th>\n",
       "      <th></th>\n",
       "      <th></th>\n",
       "      <th></th>\n",
       "      <th></th>\n",
       "      <th></th>\n",
       "      <th></th>\n",
       "      <th></th>\n",
       "      <th></th>\n",
       "      <th></th>\n",
       "      <th></th>\n",
       "      <th></th>\n",
       "      <th></th>\n",
       "      <th></th>\n",
       "      <th></th>\n",
       "      <th></th>\n",
       "      <th></th>\n",
       "      <th></th>\n",
       "      <th></th>\n",
       "      <th></th>\n",
       "      <th></th>\n",
       "    </tr>\n",
       "  </thead>\n",
       "  <tbody>\n",
       "    <tr>\n",
       "      <th>2020-02-07</th>\n",
       "      <td>3.888</td>\n",
       "      <td>2020-02-07</td>\n",
       "      <td>3.892</td>\n",
       "      <td>3.844</td>\n",
       "      <td>3.87</td>\n",
       "      <td>346989051</td>\n",
       "      <td>4</td>\n",
       "      <td>0.223026</td>\n",
       "      <td>10000</td>\n",
       "      <td>1.01229</td>\n",
       "      <td>...</td>\n",
       "      <td>1487745.7</td>\n",
       "      <td>1487745.7</td>\n",
       "      <td>387900.0</td>\n",
       "      <td>387900.0</td>\n",
       "      <td>1.50816e+06</td>\n",
       "      <td>0.0</td>\n",
       "      <td>0.0</td>\n",
       "      <td>20409.5</td>\n",
       "      <td>0.0137184</td>\n",
       "      <td>3.835385</td>\n",
       "    </tr>\n",
       "    <tr>\n",
       "      <th>2020-02-10</th>\n",
       "      <td>3.901</td>\n",
       "      <td>2020-02-10</td>\n",
       "      <td>3.91</td>\n",
       "      <td>3.851</td>\n",
       "      <td>3.868</td>\n",
       "      <td>398519147</td>\n",
       "      <td>0</td>\n",
       "      <td>0.227115</td>\n",
       "      <td>10000</td>\n",
       "      <td>0.999483</td>\n",
       "      <td>...</td>\n",
       "      <td>1497802.5</td>\n",
       "      <td>1497802.5</td>\n",
       "      <td>390500.0</td>\n",
       "      <td>390500.0</td>\n",
       "      <td>1.52334e+06</td>\n",
       "      <td>0.0</td>\n",
       "      <td>0.0</td>\n",
       "      <td>25538</td>\n",
       "      <td>0.0170503</td>\n",
       "      <td>3.835602</td>\n",
       "    </tr>\n",
       "  </tbody>\n",
       "</table>\n",
       "<p>2 rows × 28 columns</p>\n",
       "</div>"
      ],
      "text/plain": [
       "            close        day   high    low   open     volume  weekday  \\\n",
       "day                                                                     \n",
       "2020-02-07  3.888 2020-02-07  3.892  3.844   3.87  346989051        4   \n",
       "2020-02-10  3.901 2020-02-10   3.91  3.851  3.868  398519147        0   \n",
       "\n",
       "              指数累计涨幅  benjin  open_pct  ...     累计投入本金      净投入本金    累计买入股数  \\\n",
       "day                                     ...                                   \n",
       "2020-02-07  0.223026   10000   1.01229  ...  1487745.7  1487745.7  387900.0   \n",
       "2020-02-10  0.227115   10000  0.999483  ...  1497802.5  1497802.5  390500.0   \n",
       "\n",
       "                净持股数       现在持股市值 累计卖出金额  累计卖出获利   累计绝对收益      累计收益率      持仓成本  \n",
       "day                                                                             \n",
       "2020-02-07  387900.0  1.50816e+06    0.0     0.0  20409.5  0.0137184  3.835385  \n",
       "2020-02-10  390500.0  1.52334e+06    0.0     0.0    25538  0.0170503  3.835602  \n",
       "\n",
       "[2 rows x 28 columns]"
      ]
     },
     "execution_count": 53,
     "metadata": {},
     "output_type": "execute_result"
    }
   ],
   "source": [
    "dff.tail(2)"
   ]
  },
  {
   "cell_type": "code",
   "execution_count": 54,
   "metadata": {},
   "outputs": [
    {
     "data": {
      "text/plain": [
       "<matplotlib.axes._subplots.AxesSubplot at 0x129cbb8d0>"
      ]
     },
     "execution_count": 54,
     "metadata": {},
     "output_type": "execute_result"
    },
    {
     "data": {
      "image/png": "[encoded data removed]",
      "text/plain": [
       "<Figure size 432x288 with 1 Axes>"
      ]
     },
     "metadata": {
      "needs_background": "light"
     },
     "output_type": "display_data"
    }
   ],
   "source": [
    "dff[['指数累计涨幅','累计收益率']].plot()"
   ]
  },
  {
   "cell_type": "code",
   "execution_count": 55,
   "metadata": {},
   "outputs": [
    {
     "name": "stdout",
     "output_type": "stream",
     "text": [
      "95\n",
      "1    75\n",
      "0    20\n",
      "Name: sell_flag, dtype: int64\n"
     ]
    }
   ],
   "source": [
    "code = 'sh510300'\n",
    "\n",
    "dff = strategy(code, 250, 10000,sell_pct=0.05, dingtou_mode='无脑')"
   ]
  },
  {
   "cell_type": "code",
   "execution_count": 56,
   "metadata": {},
   "outputs": [
    {
     "data": {
      "text/plain": [
       "<matplotlib.axes._subplots.AxesSubplot at 0x129cc1da0>"
      ]
     },
     "execution_count": 56,
     "metadata": {},
     "output_type": "execute_result"
    },
    {
     "data": {
      "image/png": "[encoded data removed]",
      "text/plain": [
       "<Figure size 432x288 with 1 Axes>"
      ]
     },
     "metadata": {
      "needs_background": "light"
     },
     "output_type": "display_data"
    }
   ],
   "source": [
    "dff[['close','持仓成本']].plot()"
   ]
  },
  {
   "cell_type": "code",
   "execution_count": 57,
   "metadata": {},
   "outputs": [
    {
     "data": {
      "text/plain": [
       "<matplotlib.axes._subplots.AxesSubplot at 0x129d699e8>"
      ]
     },
     "execution_count": 57,
     "metadata": {},
     "output_type": "execute_result"
    },
    {
     "data": {
      "image/png": "[encoded data removed]",
      "text/plain": [
       "<Figure size 432x288 with 1 Axes>"
      ]
     },
     "metadata": {
      "needs_background": "light"
     },
     "output_type": "display_data"
    }
   ],
   "source": [
    "dff[['指数累计涨幅','累计收益率']].plot()"
   ]
  },
  {
   "cell_type": "code",
   "execution_count": 58,
   "metadata": {},
   "outputs": [
    {
     "data": {
      "text/html": [
       "<div>\n",
       "<style scoped>\n",
       "    .dataframe tbody tr th:only-of-type {\n",
       "        vertical-align: middle;\n",
       "    }\n",
       "\n",
       "    .dataframe tbody tr th {\n",
       "        vertical-align: top;\n",
       "    }\n",
       "\n",
       "    .dataframe thead th {\n",
       "        text-align: right;\n",
       "    }\n",
       "</style>\n",
       "<table border=\"1\" class=\"dataframe\">\n",
       "  <thead>\n",
       "    <tr style=\"text-align: right;\">\n",
       "      <th></th>\n",
       "      <th>close</th>\n",
       "      <th>day</th>\n",
       "      <th>high</th>\n",
       "      <th>low</th>\n",
       "      <th>open</th>\n",
       "      <th>volume</th>\n",
       "      <th>weekday</th>\n",
       "      <th>指数累计涨幅</th>\n",
       "      <th>benjin</th>\n",
       "      <th>open_pct</th>\n",
       "      <th>...</th>\n",
       "      <th>累计投入本金</th>\n",
       "      <th>净投入本金</th>\n",
       "      <th>累计买入股数</th>\n",
       "      <th>净持股数</th>\n",
       "      <th>现在持股市值</th>\n",
       "      <th>累计卖出金额</th>\n",
       "      <th>累计卖出获利</th>\n",
       "      <th>累计绝对收益</th>\n",
       "      <th>累计收益率</th>\n",
       "      <th>持仓成本</th>\n",
       "    </tr>\n",
       "    <tr>\n",
       "      <th>day</th>\n",
       "      <th></th>\n",
       "      <th></th>\n",
       "      <th></th>\n",
       "      <th></th>\n",
       "      <th></th>\n",
       "      <th></th>\n",
       "      <th></th>\n",
       "      <th></th>\n",
       "      <th></th>\n",
       "      <th></th>\n",
       "      <th></th>\n",
       "      <th></th>\n",
       "      <th></th>\n",
       "      <th></th>\n",
       "      <th></th>\n",
       "      <th></th>\n",
       "      <th></th>\n",
       "      <th></th>\n",
       "      <th></th>\n",
       "      <th></th>\n",
       "      <th></th>\n",
       "    </tr>\n",
       "  </thead>\n",
       "  <tbody>\n",
       "    <tr>\n",
       "      <th>2020-02-07</th>\n",
       "      <td>3.888</td>\n",
       "      <td>2020-02-07</td>\n",
       "      <td>3.892</td>\n",
       "      <td>3.844</td>\n",
       "      <td>3.87</td>\n",
       "      <td>346989051</td>\n",
       "      <td>4</td>\n",
       "      <td>0.223026</td>\n",
       "      <td>10000</td>\n",
       "      <td>1.01229</td>\n",
       "      <td>...</td>\n",
       "      <td>1487745.7</td>\n",
       "      <td>722034.4</td>\n",
       "      <td>387900.0</td>\n",
       "      <td>185600.0</td>\n",
       "      <td>721613</td>\n",
       "      <td>803192.868135</td>\n",
       "      <td>37481.568135</td>\n",
       "      <td>37060</td>\n",
       "      <td>0.0513272</td>\n",
       "      <td>3.688323</td>\n",
       "    </tr>\n",
       "    <tr>\n",
       "      <th>2020-02-10</th>\n",
       "      <td>3.901</td>\n",
       "      <td>2020-02-10</td>\n",
       "      <td>3.91</td>\n",
       "      <td>3.851</td>\n",
       "      <td>3.868</td>\n",
       "      <td>398519147</td>\n",
       "      <td>0</td>\n",
       "      <td>0.227115</td>\n",
       "      <td>10000</td>\n",
       "      <td>0.999483</td>\n",
       "      <td>...</td>\n",
       "      <td>1497802.5</td>\n",
       "      <td>732091.2</td>\n",
       "      <td>390500.0</td>\n",
       "      <td>188200.0</td>\n",
       "      <td>734168</td>\n",
       "      <td>803192.868135</td>\n",
       "      <td>37481.568135</td>\n",
       "      <td>39558.6</td>\n",
       "      <td>0.054035</td>\n",
       "      <td>3.690806</td>\n",
       "    </tr>\n",
       "  </tbody>\n",
       "</table>\n",
       "<p>2 rows × 28 columns</p>\n",
       "</div>"
      ],
      "text/plain": [
       "            close        day   high    low   open     volume  weekday  \\\n",
       "day                                                                     \n",
       "2020-02-07  3.888 2020-02-07  3.892  3.844   3.87  346989051        4   \n",
       "2020-02-10  3.901 2020-02-10   3.91  3.851  3.868  398519147        0   \n",
       "\n",
       "              指数累计涨幅  benjin  open_pct  ...     累计投入本金     净投入本金    累计买入股数  \\\n",
       "day                                     ...                                  \n",
       "2020-02-07  0.223026   10000   1.01229  ...  1487745.7  722034.4  387900.0   \n",
       "2020-02-10  0.227115   10000  0.999483  ...  1497802.5  732091.2  390500.0   \n",
       "\n",
       "                净持股数  现在持股市值         累计卖出金额        累计卖出获利   累计绝对收益      累计收益率  \\\n",
       "day                                                                             \n",
       "2020-02-07  185600.0  721613  803192.868135  37481.568135    37060  0.0513272   \n",
       "2020-02-10  188200.0  734168  803192.868135  37481.568135  39558.6   0.054035   \n",
       "\n",
       "                持仓成本  \n",
       "day                   \n",
       "2020-02-07  3.688323  \n",
       "2020-02-10  3.690806  \n",
       "\n",
       "[2 rows x 28 columns]"
      ]
     },
     "execution_count": 58,
     "metadata": {},
     "output_type": "execute_result"
    }
   ],
   "source": [
    "dff.tail(2)"
   ]
  },
  {
   "cell_type": "code",
   "execution_count": 41,
   "metadata": {},
   "outputs": [
    {
     "data": {
      "text/plain": [
       "<matplotlib.axes._subplots.AxesSubplot at 0x12957b3c8>"
      ]
     },
     "execution_count": 41,
     "metadata": {},
     "output_type": "execute_result"
    },
    {
     "data": {
      "image/png": "[encoded data removed]",
      "text/plain": [
       "<Figure size 432x288 with 1 Axes>"
      ]
     },
     "metadata": {
      "needs_background": "light"
     },
     "output_type": "display_data"
    }
   ],
   "source": [
    "dff.累计绝对收益.plot()"
   ]
  },
  {
   "cell_type": "code",
   "execution_count": 59,
   "metadata": {},
   "outputs": [
    {
     "name": "stdout",
     "output_type": "stream",
     "text": [
      "198\n",
      "1    163\n",
      "0     35\n",
      "Name: sell_flag, dtype: int64\n"
     ]
    }
   ],
   "source": [
    "code = 'sh510300'\n",
    "\n",
    "dff500 = strategy(code, 500, 10000,sell_pct=0.05, dingtou_mode='无脑')"
   ]
  },
  {
   "cell_type": "code",
   "execution_count": 60,
   "metadata": {},
   "outputs": [
    {
     "data": {
      "text/plain": [
       "<matplotlib.axes._subplots.AxesSubplot at 0x129e69358>"
      ]
     },
     "execution_count": 60,
     "metadata": {},
     "output_type": "execute_result"
    },
    {
     "data": {
      "image/png": "[encoded data removed]",
      "text/plain": [
       "<Figure size 432x288 with 1 Axes>"
      ]
     },
     "metadata": {
      "needs_background": "light"
     },
     "output_type": "display_data"
    }
   ],
   "source": [
    "dff500[['close','持仓成本']].plot()"
   ]
  },
  {
   "cell_type": "code",
   "execution_count": 61,
   "metadata": {},
   "outputs": [
    {
     "data": {
      "text/plain": [
       "<matplotlib.axes._subplots.AxesSubplot at 0x129f41278>"
      ]
     },
     "execution_count": 61,
     "metadata": {},
     "output_type": "execute_result"
    },
    {
     "data": {
      "image/png": "[encoded data removed]",
      "text/plain": [
       "<Figure size 432x288 with 1 Axes>"
      ]
     },
     "metadata": {
      "needs_background": "light"
     },
     "output_type": "display_data"
    }
   ],
   "source": [
    "dff500[['指数累计涨幅','累计收益率']].plot()"
   ]
  },
  {
   "cell_type": "code",
   "execution_count": 62,
   "metadata": {},
   "outputs": [
    {
     "data": {
      "text/html": [
       "<div>\n",
       "<style scoped>\n",
       "    .dataframe tbody tr th:only-of-type {\n",
       "        vertical-align: middle;\n",
       "    }\n",
       "\n",
       "    .dataframe tbody tr th {\n",
       "        vertical-align: top;\n",
       "    }\n",
       "\n",
       "    .dataframe thead th {\n",
       "        text-align: right;\n",
       "    }\n",
       "</style>\n",
       "<table border=\"1\" class=\"dataframe\">\n",
       "  <thead>\n",
       "    <tr style=\"text-align: right;\">\n",
       "      <th></th>\n",
       "      <th>close</th>\n",
       "      <th>day</th>\n",
       "      <th>high</th>\n",
       "      <th>low</th>\n",
       "      <th>open</th>\n",
       "      <th>volume</th>\n",
       "      <th>weekday</th>\n",
       "      <th>指数累计涨幅</th>\n",
       "      <th>benjin</th>\n",
       "      <th>open_pct</th>\n",
       "      <th>...</th>\n",
       "      <th>累计投入本金</th>\n",
       "      <th>净投入本金</th>\n",
       "      <th>累计买入股数</th>\n",
       "      <th>净持股数</th>\n",
       "      <th>现在持股市值</th>\n",
       "      <th>累计卖出金额</th>\n",
       "      <th>累计卖出获利</th>\n",
       "      <th>累计绝对收益</th>\n",
       "      <th>累计收益率</th>\n",
       "      <th>持仓成本</th>\n",
       "    </tr>\n",
       "    <tr>\n",
       "      <th>day</th>\n",
       "      <th></th>\n",
       "      <th></th>\n",
       "      <th></th>\n",
       "      <th></th>\n",
       "      <th></th>\n",
       "      <th></th>\n",
       "      <th></th>\n",
       "      <th></th>\n",
       "      <th></th>\n",
       "      <th></th>\n",
       "      <th></th>\n",
       "      <th></th>\n",
       "      <th></th>\n",
       "      <th></th>\n",
       "      <th></th>\n",
       "      <th></th>\n",
       "      <th></th>\n",
       "      <th></th>\n",
       "      <th></th>\n",
       "      <th></th>\n",
       "      <th></th>\n",
       "    </tr>\n",
       "  </thead>\n",
       "  <tbody>\n",
       "    <tr>\n",
       "      <th>2020-02-07</th>\n",
       "      <td>3.888</td>\n",
       "      <td>2020-02-07</td>\n",
       "      <td>3.892</td>\n",
       "      <td>3.844</td>\n",
       "      <td>3.87</td>\n",
       "      <td>346989051</td>\n",
       "      <td>4</td>\n",
       "      <td>-0.088394</td>\n",
       "      <td>10000</td>\n",
       "      <td>1.01229</td>\n",
       "      <td>...</td>\n",
       "      <td>3023967.2</td>\n",
       "      <td>1363771.5</td>\n",
       "      <td>820800.0</td>\n",
       "      <td>359500.0</td>\n",
       "      <td>1.39774e+06</td>\n",
       "      <td>1.741462e+06</td>\n",
       "      <td>81266.579515</td>\n",
       "      <td>115231</td>\n",
       "      <td>0.0844944</td>\n",
       "      <td>3.567468</td>\n",
       "    </tr>\n",
       "    <tr>\n",
       "      <th>2020-02-10</th>\n",
       "      <td>3.901</td>\n",
       "      <td>2020-02-10</td>\n",
       "      <td>3.91</td>\n",
       "      <td>3.851</td>\n",
       "      <td>3.868</td>\n",
       "      <td>398519147</td>\n",
       "      <td>0</td>\n",
       "      <td>-0.085346</td>\n",
       "      <td>10000</td>\n",
       "      <td>0.999483</td>\n",
       "      <td>...</td>\n",
       "      <td>3034024.0</td>\n",
       "      <td>1373828.3</td>\n",
       "      <td>823400.0</td>\n",
       "      <td>362100.0</td>\n",
       "      <td>1.41255e+06</td>\n",
       "      <td>1.741462e+06</td>\n",
       "      <td>81266.579515</td>\n",
       "      <td>119990</td>\n",
       "      <td>0.0873402</td>\n",
       "      <td>3.569626</td>\n",
       "    </tr>\n",
       "  </tbody>\n",
       "</table>\n",
       "<p>2 rows × 28 columns</p>\n",
       "</div>"
      ],
      "text/plain": [
       "            close        day   high    low   open     volume  weekday  \\\n",
       "day                                                                     \n",
       "2020-02-07  3.888 2020-02-07  3.892  3.844   3.87  346989051        4   \n",
       "2020-02-10  3.901 2020-02-10   3.91  3.851  3.868  398519147        0   \n",
       "\n",
       "              指数累计涨幅  benjin  open_pct  ...     累计投入本金      净投入本金    累计买入股数  \\\n",
       "day                                     ...                                   \n",
       "2020-02-07 -0.088394   10000   1.01229  ...  3023967.2  1363771.5  820800.0   \n",
       "2020-02-10 -0.085346   10000  0.999483  ...  3034024.0  1373828.3  823400.0   \n",
       "\n",
       "                净持股数       现在持股市值        累计卖出金额        累计卖出获利  累计绝对收益  \\\n",
       "day                                                                     \n",
       "2020-02-07  359500.0  1.39774e+06  1.741462e+06  81266.579515  115231   \n",
       "2020-02-10  362100.0  1.41255e+06  1.741462e+06  81266.579515  119990   \n",
       "\n",
       "                累计收益率      持仓成本  \n",
       "day                              \n",
       "2020-02-07  0.0844944  3.567468  \n",
       "2020-02-10  0.0873402  3.569626  \n",
       "\n",
       "[2 rows x 28 columns]"
      ]
     },
     "execution_count": 62,
     "metadata": {},
     "output_type": "execute_result"
    }
   ],
   "source": [
    "dff500.tail(2)"
   ]
  },
  {
   "cell_type": "markdown",
   "metadata": {},
   "source": [
    "# sz159915"
   ]
  },
  {
   "cell_type": "markdown",
   "metadata": {},
   "source": [
    "## 500, sell_pct=0.1"
   ]
  },
  {
   "cell_type": "code",
   "execution_count": 84,
   "metadata": {},
   "outputs": [
    {
     "name": "stdout",
     "output_type": "stream",
     "text": [
      "198\n",
      "1    191\n",
      "0      7\n",
      "Name: sell_flag, dtype: int64\n"
     ]
    }
   ],
   "source": [
    "code = 'sz159915'\n",
    "\n",
    "dff500 = strategy(code, 500, 10000,sell_pct=0.1, dingtou_mode='无脑')"
   ]
  },
  {
   "cell_type": "code",
   "execution_count": 85,
   "metadata": {},
   "outputs": [
    {
     "data": {
      "text/plain": [
       "<matplotlib.axes._subplots.AxesSubplot at 0x12ac39b70>"
      ]
     },
     "execution_count": 85,
     "metadata": {},
     "output_type": "execute_result"
    },
    {
     "data": {
      "image/png": "[encoded data removed]",
      "text/plain": [
       "<Figure size 432x288 with 1 Axes>"
      ]
     },
     "metadata": {
      "needs_background": "light"
     },
     "output_type": "display_data"
    }
   ],
   "source": [
    "dff500[['close','持仓成本']].plot()"
   ]
  },
  {
   "cell_type": "code",
   "execution_count": 86,
   "metadata": {},
   "outputs": [
    {
     "data": {
      "text/plain": [
       "<matplotlib.axes._subplots.AxesSubplot at 0x12ad53940>"
      ]
     },
     "execution_count": 86,
     "metadata": {},
     "output_type": "execute_result"
    },
    {
     "data": {
      "image/png": "[encoded data removed]",
      "text/plain": [
       "<Figure size 432x288 with 1 Axes>"
      ]
     },
     "metadata": {
      "needs_background": "light"
     },
     "output_type": "display_data"
    }
   ],
   "source": [
    "dff500[['指数累计涨幅','累计收益率']].plot()"
   ]
  },
  {
   "cell_type": "code",
   "execution_count": 87,
   "metadata": {},
   "outputs": [
    {
     "data": {
      "text/html": [
       "<div>\n",
       "<style scoped>\n",
       "    .dataframe tbody tr th:only-of-type {\n",
       "        vertical-align: middle;\n",
       "    }\n",
       "\n",
       "    .dataframe tbody tr th {\n",
       "        vertical-align: top;\n",
       "    }\n",
       "\n",
       "    .dataframe thead th {\n",
       "        text-align: right;\n",
       "    }\n",
       "</style>\n",
       "<table border=\"1\" class=\"dataframe\">\n",
       "  <thead>\n",
       "    <tr style=\"text-align: right;\">\n",
       "      <th></th>\n",
       "      <th>close</th>\n",
       "      <th>day</th>\n",
       "      <th>high</th>\n",
       "      <th>low</th>\n",
       "      <th>open</th>\n",
       "      <th>volume</th>\n",
       "      <th>weekday</th>\n",
       "      <th>指数累计涨幅</th>\n",
       "      <th>benjin</th>\n",
       "      <th>open_pct</th>\n",
       "      <th>...</th>\n",
       "      <th>累计投入本金</th>\n",
       "      <th>净投入本金</th>\n",
       "      <th>累计买入股数</th>\n",
       "      <th>净持股数</th>\n",
       "      <th>现在持股市值</th>\n",
       "      <th>累计卖出金额</th>\n",
       "      <th>累计卖出获利</th>\n",
       "      <th>累计绝对收益</th>\n",
       "      <th>累计收益率</th>\n",
       "      <th>持仓成本</th>\n",
       "    </tr>\n",
       "    <tr>\n",
       "      <th>day</th>\n",
       "      <th></th>\n",
       "      <th></th>\n",
       "      <th></th>\n",
       "      <th></th>\n",
       "      <th></th>\n",
       "      <th></th>\n",
       "      <th></th>\n",
       "      <th></th>\n",
       "      <th></th>\n",
       "      <th></th>\n",
       "      <th></th>\n",
       "      <th></th>\n",
       "      <th></th>\n",
       "      <th></th>\n",
       "      <th></th>\n",
       "      <th></th>\n",
       "      <th></th>\n",
       "      <th></th>\n",
       "      <th></th>\n",
       "      <th></th>\n",
       "      <th></th>\n",
       "    </tr>\n",
       "  </thead>\n",
       "  <tbody>\n",
       "    <tr>\n",
       "      <th>2020-02-07</th>\n",
       "      <td>1.94</td>\n",
       "      <td>2020-02-07</td>\n",
       "      <td>1.949</td>\n",
       "      <td>1.9</td>\n",
       "      <td>1.932</td>\n",
       "      <td>502075775</td>\n",
       "      <td>4</td>\n",
       "      <td>0.187271</td>\n",
       "      <td>10000</td>\n",
       "      <td>1.04151</td>\n",
       "      <td>...</td>\n",
       "      <td>2992651.9</td>\n",
       "      <td>1067960.1</td>\n",
       "      <td>2000600.0</td>\n",
       "      <td>703400.0</td>\n",
       "      <td>1.3646e+06</td>\n",
       "      <td>2.115044e+06</td>\n",
       "      <td>190352.01902</td>\n",
       "      <td>486988</td>\n",
       "      <td>0.455998</td>\n",
       "      <td>1.247666</td>\n",
       "    </tr>\n",
       "    <tr>\n",
       "      <th>2020-02-10</th>\n",
       "      <td>1.961</td>\n",
       "      <td>2020-02-10</td>\n",
       "      <td>1.966</td>\n",
       "      <td>1.924</td>\n",
       "      <td>1.938</td>\n",
       "      <td>437752260</td>\n",
       "      <td>0</td>\n",
       "      <td>0.200122</td>\n",
       "      <td>10000</td>\n",
       "      <td>1.00311</td>\n",
       "      <td>...</td>\n",
       "      <td>3002729.5</td>\n",
       "      <td>1078037.7</td>\n",
       "      <td>2005800.0</td>\n",
       "      <td>708600.0</td>\n",
       "      <td>1.38956e+06</td>\n",
       "      <td>2.115044e+06</td>\n",
       "      <td>190352.01902</td>\n",
       "      <td>501879</td>\n",
       "      <td>0.465549</td>\n",
       "      <td>1.252732</td>\n",
       "    </tr>\n",
       "  </tbody>\n",
       "</table>\n",
       "<p>2 rows × 28 columns</p>\n",
       "</div>"
      ],
      "text/plain": [
       "            close        day   high    low   open     volume  weekday  \\\n",
       "day                                                                     \n",
       "2020-02-07   1.94 2020-02-07  1.949    1.9  1.932  502075775        4   \n",
       "2020-02-10  1.961 2020-02-10  1.966  1.924  1.938  437752260        0   \n",
       "\n",
       "              指数累计涨幅  benjin open_pct  ...     累计投入本金      净投入本金     累计买入股数  \\\n",
       "day                                    ...                                    \n",
       "2020-02-07  0.187271   10000  1.04151  ...  2992651.9  1067960.1  2000600.0   \n",
       "2020-02-10  0.200122   10000  1.00311  ...  3002729.5  1078037.7  2005800.0   \n",
       "\n",
       "                净持股数       现在持股市值        累计卖出金额        累计卖出获利  累计绝对收益  \\\n",
       "day                                                                     \n",
       "2020-02-07  703400.0   1.3646e+06  2.115044e+06  190352.01902  486988   \n",
       "2020-02-10  708600.0  1.38956e+06  2.115044e+06  190352.01902  501879   \n",
       "\n",
       "               累计收益率      持仓成本  \n",
       "day                             \n",
       "2020-02-07  0.455998  1.247666  \n",
       "2020-02-10  0.465549  1.252732  \n",
       "\n",
       "[2 rows x 28 columns]"
      ]
     },
     "execution_count": 87,
     "metadata": {},
     "output_type": "execute_result"
    }
   ],
   "source": [
    "dff500.tail(2)"
   ]
  },
  {
   "cell_type": "markdown",
   "metadata": {},
   "source": [
    "## 250, sell_pct=0.1"
   ]
  },
  {
   "cell_type": "code",
   "execution_count": 80,
   "metadata": {},
   "outputs": [
    {
     "name": "stdout",
     "output_type": "stream",
     "text": [
      "95\n",
      "1    88\n",
      "0     7\n",
      "Name: sell_flag, dtype: int64\n"
     ]
    }
   ],
   "source": [
    "code = 'sz159915'\n",
    "\n",
    "dff500 = strategy(code, 250, 10000,sell_pct=0.1, dingtou_mode='无脑')"
   ]
  },
  {
   "cell_type": "code",
   "execution_count": 81,
   "metadata": {},
   "outputs": [
    {
     "data": {
      "text/plain": [
       "<matplotlib.axes._subplots.AxesSubplot at 0x12aad0c50>"
      ]
     },
     "execution_count": 81,
     "metadata": {},
     "output_type": "execute_result"
    },
    {
     "data": {
      "image/png": "[encoded data removed]",
      "text/plain": [
       "<Figure size 432x288 with 1 Axes>"
      ]
     },
     "metadata": {
      "needs_background": "light"
     },
     "output_type": "display_data"
    }
   ],
   "source": [
    "dff500[['close','持仓成本']].plot()"
   ]
  },
  {
   "cell_type": "code",
   "execution_count": 82,
   "metadata": {},
   "outputs": [
    {
     "data": {
      "text/plain": [
       "<matplotlib.axes._subplots.AxesSubplot at 0x12aa68b70>"
      ]
     },
     "execution_count": 82,
     "metadata": {},
     "output_type": "execute_result"
    },
    {
     "data": {
      "image/png": "[encoded data removed]",
      "text/plain": [
       "<Figure size 432x288 with 1 Axes>"
      ]
     },
     "metadata": {
      "needs_background": "light"
     },
     "output_type": "display_data"
    }
   ],
   "source": [
    "dff500[['指数累计涨幅','累计收益率']].plot()"
   ]
  },
  {
   "cell_type": "code",
   "execution_count": 83,
   "metadata": {},
   "outputs": [
    {
     "data": {
      "text/html": [
       "<div>\n",
       "<style scoped>\n",
       "    .dataframe tbody tr th:only-of-type {\n",
       "        vertical-align: middle;\n",
       "    }\n",
       "\n",
       "    .dataframe tbody tr th {\n",
       "        vertical-align: top;\n",
       "    }\n",
       "\n",
       "    .dataframe thead th {\n",
       "        text-align: right;\n",
       "    }\n",
       "</style>\n",
       "<table border=\"1\" class=\"dataframe\">\n",
       "  <thead>\n",
       "    <tr style=\"text-align: right;\">\n",
       "      <th></th>\n",
       "      <th>close</th>\n",
       "      <th>day</th>\n",
       "      <th>high</th>\n",
       "      <th>low</th>\n",
       "      <th>open</th>\n",
       "      <th>volume</th>\n",
       "      <th>weekday</th>\n",
       "      <th>指数累计涨幅</th>\n",
       "      <th>benjin</th>\n",
       "      <th>open_pct</th>\n",
       "      <th>...</th>\n",
       "      <th>累计投入本金</th>\n",
       "      <th>净投入本金</th>\n",
       "      <th>累计买入股数</th>\n",
       "      <th>净持股数</th>\n",
       "      <th>现在持股市值</th>\n",
       "      <th>累计卖出金额</th>\n",
       "      <th>累计卖出获利</th>\n",
       "      <th>累计绝对收益</th>\n",
       "      <th>累计收益率</th>\n",
       "      <th>持仓成本</th>\n",
       "    </tr>\n",
       "    <tr>\n",
       "      <th>day</th>\n",
       "      <th></th>\n",
       "      <th></th>\n",
       "      <th></th>\n",
       "      <th></th>\n",
       "      <th></th>\n",
       "      <th></th>\n",
       "      <th></th>\n",
       "      <th></th>\n",
       "      <th></th>\n",
       "      <th></th>\n",
       "      <th></th>\n",
       "      <th></th>\n",
       "      <th></th>\n",
       "      <th></th>\n",
       "      <th></th>\n",
       "      <th></th>\n",
       "      <th></th>\n",
       "      <th></th>\n",
       "      <th></th>\n",
       "      <th></th>\n",
       "      <th></th>\n",
       "    </tr>\n",
       "  </thead>\n",
       "  <tbody>\n",
       "    <tr>\n",
       "      <th>2020-02-07</th>\n",
       "      <td>1.94</td>\n",
       "      <td>2020-02-07</td>\n",
       "      <td>1.949</td>\n",
       "      <td>1.9</td>\n",
       "      <td>1.932</td>\n",
       "      <td>502075775</td>\n",
       "      <td>4</td>\n",
       "      <td>0.605960</td>\n",
       "      <td>10000</td>\n",
       "      <td>1.04151</td>\n",
       "      <td>...</td>\n",
       "      <td>1471096.9</td>\n",
       "      <td>584151.9</td>\n",
       "      <td>948300.0</td>\n",
       "      <td>370200.0</td>\n",
       "      <td>718188</td>\n",
       "      <td>974663.8605</td>\n",
       "      <td>87718.8605</td>\n",
       "      <td>221755</td>\n",
       "      <td>0.379619</td>\n",
       "      <td>1.340986</td>\n",
       "    </tr>\n",
       "    <tr>\n",
       "      <th>2020-02-10</th>\n",
       "      <td>1.961</td>\n",
       "      <td>2020-02-10</td>\n",
       "      <td>1.966</td>\n",
       "      <td>1.924</td>\n",
       "      <td>1.938</td>\n",
       "      <td>437752260</td>\n",
       "      <td>0</td>\n",
       "      <td>0.623344</td>\n",
       "      <td>10000</td>\n",
       "      <td>1.00311</td>\n",
       "      <td>...</td>\n",
       "      <td>1481174.5</td>\n",
       "      <td>594229.5</td>\n",
       "      <td>953500.0</td>\n",
       "      <td>375400.0</td>\n",
       "      <td>736159</td>\n",
       "      <td>974663.8605</td>\n",
       "      <td>87718.8605</td>\n",
       "      <td>229649</td>\n",
       "      <td>0.386465</td>\n",
       "      <td>1.349256</td>\n",
       "    </tr>\n",
       "  </tbody>\n",
       "</table>\n",
       "<p>2 rows × 28 columns</p>\n",
       "</div>"
      ],
      "text/plain": [
       "            close        day   high    low   open     volume  weekday  \\\n",
       "day                                                                     \n",
       "2020-02-07   1.94 2020-02-07  1.949    1.9  1.932  502075775        4   \n",
       "2020-02-10  1.961 2020-02-10  1.966  1.924  1.938  437752260        0   \n",
       "\n",
       "              指数累计涨幅  benjin open_pct  ...     累计投入本金     净投入本金    累计买入股数  \\\n",
       "day                                    ...                                  \n",
       "2020-02-07  0.605960   10000  1.04151  ...  1471096.9  584151.9  948300.0   \n",
       "2020-02-10  0.623344   10000  1.00311  ...  1481174.5  594229.5  953500.0   \n",
       "\n",
       "                净持股数  现在持股市值       累计卖出金额      累计卖出获利  累计绝对收益     累计收益率  \\\n",
       "day                                                                       \n",
       "2020-02-07  370200.0  718188  974663.8605  87718.8605  221755  0.379619   \n",
       "2020-02-10  375400.0  736159  974663.8605  87718.8605  229649  0.386465   \n",
       "\n",
       "                持仓成本  \n",
       "day                   \n",
       "2020-02-07  1.340986  \n",
       "2020-02-10  1.349256  \n",
       "\n",
       "[2 rows x 28 columns]"
      ]
     },
     "execution_count": 83,
     "metadata": {},
     "output_type": "execute_result"
    }
   ],
   "source": [
    "dff500.tail(2)"
   ]
  },
  {
   "cell_type": "code",
   "execution_count": 63,
   "metadata": {},
   "outputs": [
    {
     "name": "stdout",
     "output_type": "stream",
     "text": [
      "500\n",
      "1    451\n",
      "0     49\n",
      "Name: sell_flag, dtype: int64\n"
     ]
    }
   ],
   "source": [
    "code = 'sh510300'\n",
    "\n",
    "dff500 = strategy(code, 1250, 10000,sell_pct=0.05, dingtou_mode='无脑')"
   ]
  },
  {
   "cell_type": "code",
   "execution_count": 64,
   "metadata": {},
   "outputs": [
    {
     "data": {
      "text/plain": [
       "<matplotlib.axes._subplots.AxesSubplot at 0x12a03bd68>"
      ]
     },
     "execution_count": 64,
     "metadata": {},
     "output_type": "execute_result"
    },
    {
     "data": {
      "image/png": "[encoded data removed]",
      "text/plain": [
       "<Figure size 432x288 with 1 Axes>"
      ]
     },
     "metadata": {
      "needs_background": "light"
     },
     "output_type": "display_data"
    }
   ],
   "source": [
    "dff500[['close','持仓成本']].plot()"
   ]
  },
  {
   "cell_type": "code",
   "execution_count": 65,
   "metadata": {},
   "outputs": [
    {
     "data": {
      "text/plain": [
       "<matplotlib.axes._subplots.AxesSubplot at 0x12a15c400>"
      ]
     },
     "execution_count": 65,
     "metadata": {},
     "output_type": "execute_result"
    },
    {
     "data": {
      "image/png": "[encoded data removed]",
      "text/plain": [
       "<Figure size 432x288 with 1 Axes>"
      ]
     },
     "metadata": {
      "needs_background": "light"
     },
     "output_type": "display_data"
    }
   ],
   "source": [
    "dff500[['指数累计涨幅','累计收益率']].plot()"
   ]
  },
  {
   "cell_type": "code",
   "execution_count": 66,
   "metadata": {},
   "outputs": [
    {
     "data": {
      "text/html": [
       "<div>\n",
       "<style scoped>\n",
       "    .dataframe tbody tr th:only-of-type {\n",
       "        vertical-align: middle;\n",
       "    }\n",
       "\n",
       "    .dataframe tbody tr th {\n",
       "        vertical-align: top;\n",
       "    }\n",
       "\n",
       "    .dataframe thead th {\n",
       "        text-align: right;\n",
       "    }\n",
       "</style>\n",
       "<table border=\"1\" class=\"dataframe\">\n",
       "  <thead>\n",
       "    <tr style=\"text-align: right;\">\n",
       "      <th></th>\n",
       "      <th>close</th>\n",
       "      <th>day</th>\n",
       "      <th>high</th>\n",
       "      <th>low</th>\n",
       "      <th>open</th>\n",
       "      <th>volume</th>\n",
       "      <th>weekday</th>\n",
       "      <th>指数累计涨幅</th>\n",
       "      <th>benjin</th>\n",
       "      <th>open_pct</th>\n",
       "      <th>...</th>\n",
       "      <th>累计投入本金</th>\n",
       "      <th>净投入本金</th>\n",
       "      <th>累计买入股数</th>\n",
       "      <th>净持股数</th>\n",
       "      <th>现在持股市值</th>\n",
       "      <th>累计卖出金额</th>\n",
       "      <th>累计卖出获利</th>\n",
       "      <th>累计绝对收益</th>\n",
       "      <th>累计收益率</th>\n",
       "      <th>持仓成本</th>\n",
       "    </tr>\n",
       "    <tr>\n",
       "      <th>day</th>\n",
       "      <th></th>\n",
       "      <th></th>\n",
       "      <th></th>\n",
       "      <th></th>\n",
       "      <th></th>\n",
       "      <th></th>\n",
       "      <th></th>\n",
       "      <th></th>\n",
       "      <th></th>\n",
       "      <th></th>\n",
       "      <th></th>\n",
       "      <th></th>\n",
       "      <th></th>\n",
       "      <th></th>\n",
       "      <th></th>\n",
       "      <th></th>\n",
       "      <th></th>\n",
       "      <th></th>\n",
       "      <th></th>\n",
       "      <th></th>\n",
       "      <th></th>\n",
       "    </tr>\n",
       "  </thead>\n",
       "  <tbody>\n",
       "    <tr>\n",
       "      <th>2020-02-07</th>\n",
       "      <td>3.888</td>\n",
       "      <td>2020-02-07</td>\n",
       "      <td>3.892</td>\n",
       "      <td>3.844</td>\n",
       "      <td>3.87</td>\n",
       "      <td>346989051</td>\n",
       "      <td>4</td>\n",
       "      <td>0.140176</td>\n",
       "      <td>10000</td>\n",
       "      <td>1.01229</td>\n",
       "      <td>...</td>\n",
       "      <td>7575433.2</td>\n",
       "      <td>2982337.8</td>\n",
       "      <td>2091200.0</td>\n",
       "      <td>801800.0</td>\n",
       "      <td>3.1174e+06</td>\n",
       "      <td>4.817927e+06</td>\n",
       "      <td>224832.01983</td>\n",
       "      <td>359893</td>\n",
       "      <td>0.120675</td>\n",
       "      <td>3.439144</td>\n",
       "    </tr>\n",
       "    <tr>\n",
       "      <th>2020-02-10</th>\n",
       "      <td>3.901</td>\n",
       "      <td>2020-02-10</td>\n",
       "      <td>3.91</td>\n",
       "      <td>3.851</td>\n",
       "      <td>3.868</td>\n",
       "      <td>398519147</td>\n",
       "      <td>0</td>\n",
       "      <td>0.143988</td>\n",
       "      <td>10000</td>\n",
       "      <td>0.999483</td>\n",
       "      <td>...</td>\n",
       "      <td>7585490.0</td>\n",
       "      <td>2992394.6</td>\n",
       "      <td>2093800.0</td>\n",
       "      <td>804400.0</td>\n",
       "      <td>3.13796e+06</td>\n",
       "      <td>4.817927e+06</td>\n",
       "      <td>224832.01983</td>\n",
       "      <td>370402</td>\n",
       "      <td>0.123781</td>\n",
       "      <td>3.440530</td>\n",
       "    </tr>\n",
       "  </tbody>\n",
       "</table>\n",
       "<p>2 rows × 28 columns</p>\n",
       "</div>"
      ],
      "text/plain": [
       "            close        day   high    low   open     volume  weekday  \\\n",
       "day                                                                     \n",
       "2020-02-07  3.888 2020-02-07  3.892  3.844   3.87  346989051        4   \n",
       "2020-02-10  3.901 2020-02-10   3.91  3.851  3.868  398519147        0   \n",
       "\n",
       "              指数累计涨幅  benjin  open_pct  ...     累计投入本金      净投入本金     累计买入股数  \\\n",
       "day                                     ...                                    \n",
       "2020-02-07  0.140176   10000   1.01229  ...  7575433.2  2982337.8  2091200.0   \n",
       "2020-02-10  0.143988   10000  0.999483  ...  7585490.0  2992394.6  2093800.0   \n",
       "\n",
       "                净持股数       现在持股市值        累计卖出金额        累计卖出获利  累计绝对收益  \\\n",
       "day                                                                     \n",
       "2020-02-07  801800.0   3.1174e+06  4.817927e+06  224832.01983  359893   \n",
       "2020-02-10  804400.0  3.13796e+06  4.817927e+06  224832.01983  370402   \n",
       "\n",
       "               累计收益率      持仓成本  \n",
       "day                             \n",
       "2020-02-07  0.120675  3.439144  \n",
       "2020-02-10  0.123781  3.440530  \n",
       "\n",
       "[2 rows x 28 columns]"
      ]
     },
     "execution_count": 66,
     "metadata": {},
     "output_type": "execute_result"
    }
   ],
   "source": [
    "dff500.tail(2)"
   ]
  },
  {
   "cell_type": "code",
   "execution_count": 68,
   "metadata": {},
   "outputs": [
    {
     "name": "stdout",
     "output_type": "stream",
     "text": [
      "450\n",
      "1    410\n",
      "0     40\n",
      "Name: sell_flag, dtype: int64\n"
     ]
    }
   ],
   "source": [
    "code = 'sh510300'\n",
    "\n",
    "dff500 = strategy(code, 1125, 10000,sell_pct=0.05, dingtou_mode='无脑')"
   ]
  },
  {
   "cell_type": "code",
   "execution_count": 69,
   "metadata": {},
   "outputs": [
    {
     "data": {
      "text/plain": [
       "<matplotlib.axes._subplots.AxesSubplot at 0x12a379470>"
      ]
     },
     "execution_count": 69,
     "metadata": {},
     "output_type": "execute_result"
    },
    {
     "data": {
      "image/png": "[encoded data removed]",
      "text/plain": [
       "<Figure size 432x288 with 1 Axes>"
      ]
     },
     "metadata": {
      "needs_background": "light"
     },
     "output_type": "display_data"
    }
   ],
   "source": [
    "dff500[['close','持仓成本']].plot()"
   ]
  },
  {
   "cell_type": "code",
   "execution_count": 70,
   "metadata": {},
   "outputs": [
    {
     "data": {
      "text/plain": [
       "<matplotlib.axes._subplots.AxesSubplot at 0x12a4d39e8>"
      ]
     },
     "execution_count": 70,
     "metadata": {},
     "output_type": "execute_result"
    },
    {
     "data": {
      "image/png": "[encoded data removed]",
      "text/plain": [
       "<Figure size 432x288 with 1 Axes>"
      ]
     },
     "metadata": {
      "needs_background": "light"
     },
     "output_type": "display_data"
    }
   ],
   "source": [
    "dff500[['指数累计涨幅','累计收益率']].plot()"
   ]
  },
  {
   "cell_type": "code",
   "execution_count": 71,
   "metadata": {},
   "outputs": [
    {
     "data": {
      "text/html": [
       "<div>\n",
       "<style scoped>\n",
       "    .dataframe tbody tr th:only-of-type {\n",
       "        vertical-align: middle;\n",
       "    }\n",
       "\n",
       "    .dataframe tbody tr th {\n",
       "        vertical-align: top;\n",
       "    }\n",
       "\n",
       "    .dataframe thead th {\n",
       "        text-align: right;\n",
       "    }\n",
       "</style>\n",
       "<table border=\"1\" class=\"dataframe\">\n",
       "  <thead>\n",
       "    <tr style=\"text-align: right;\">\n",
       "      <th></th>\n",
       "      <th>close</th>\n",
       "      <th>day</th>\n",
       "      <th>high</th>\n",
       "      <th>low</th>\n",
       "      <th>open</th>\n",
       "      <th>volume</th>\n",
       "      <th>weekday</th>\n",
       "      <th>指数累计涨幅</th>\n",
       "      <th>benjin</th>\n",
       "      <th>open_pct</th>\n",
       "      <th>...</th>\n",
       "      <th>累计投入本金</th>\n",
       "      <th>净投入本金</th>\n",
       "      <th>累计买入股数</th>\n",
       "      <th>净持股数</th>\n",
       "      <th>现在持股市值</th>\n",
       "      <th>累计卖出金额</th>\n",
       "      <th>累计卖出获利</th>\n",
       "      <th>累计绝对收益</th>\n",
       "      <th>累计收益率</th>\n",
       "      <th>持仓成本</th>\n",
       "    </tr>\n",
       "    <tr>\n",
       "      <th>day</th>\n",
       "      <th></th>\n",
       "      <th></th>\n",
       "      <th></th>\n",
       "      <th></th>\n",
       "      <th></th>\n",
       "      <th></th>\n",
       "      <th></th>\n",
       "      <th></th>\n",
       "      <th></th>\n",
       "      <th></th>\n",
       "      <th></th>\n",
       "      <th></th>\n",
       "      <th></th>\n",
       "      <th></th>\n",
       "      <th></th>\n",
       "      <th></th>\n",
       "      <th></th>\n",
       "      <th></th>\n",
       "      <th></th>\n",
       "      <th></th>\n",
       "      <th></th>\n",
       "    </tr>\n",
       "  </thead>\n",
       "  <tbody>\n",
       "    <tr>\n",
       "      <th>2020-02-07</th>\n",
       "      <td>3.888</td>\n",
       "      <td>2020-02-07</td>\n",
       "      <td>3.892</td>\n",
       "      <td>3.844</td>\n",
       "      <td>3.87</td>\n",
       "      <td>346989051</td>\n",
       "      <td>4</td>\n",
       "      <td>-0.070301</td>\n",
       "      <td>10000</td>\n",
       "      <td>1.01229</td>\n",
       "      <td>...</td>\n",
       "      <td>6820618.0</td>\n",
       "      <td>2645924.5</td>\n",
       "      <td>1903300.0</td>\n",
       "      <td>722000.0</td>\n",
       "      <td>2.80714e+06</td>\n",
       "      <td>4.379045e+06</td>\n",
       "      <td>204351.246825</td>\n",
       "      <td>365563</td>\n",
       "      <td>0.138161</td>\n",
       "      <td>3.381680</td>\n",
       "    </tr>\n",
       "    <tr>\n",
       "      <th>2020-02-10</th>\n",
       "      <td>3.901</td>\n",
       "      <td>2020-02-10</td>\n",
       "      <td>3.91</td>\n",
       "      <td>3.851</td>\n",
       "      <td>3.868</td>\n",
       "      <td>398519147</td>\n",
       "      <td>0</td>\n",
       "      <td>-0.067193</td>\n",
       "      <td>10000</td>\n",
       "      <td>0.999483</td>\n",
       "      <td>...</td>\n",
       "      <td>6830674.8</td>\n",
       "      <td>2655981.3</td>\n",
       "      <td>1905900.0</td>\n",
       "      <td>724600.0</td>\n",
       "      <td>2.82666e+06</td>\n",
       "      <td>4.379045e+06</td>\n",
       "      <td>204351.246825</td>\n",
       "      <td>375035</td>\n",
       "      <td>0.141204</td>\n",
       "      <td>3.383425</td>\n",
       "    </tr>\n",
       "  </tbody>\n",
       "</table>\n",
       "<p>2 rows × 28 columns</p>\n",
       "</div>"
      ],
      "text/plain": [
       "            close        day   high    low   open     volume  weekday  \\\n",
       "day                                                                     \n",
       "2020-02-07  3.888 2020-02-07  3.892  3.844   3.87  346989051        4   \n",
       "2020-02-10  3.901 2020-02-10   3.91  3.851  3.868  398519147        0   \n",
       "\n",
       "              指数累计涨幅  benjin  open_pct  ...     累计投入本金      净投入本金     累计买入股数  \\\n",
       "day                                     ...                                    \n",
       "2020-02-07 -0.070301   10000   1.01229  ...  6820618.0  2645924.5  1903300.0   \n",
       "2020-02-10 -0.067193   10000  0.999483  ...  6830674.8  2655981.3  1905900.0   \n",
       "\n",
       "                净持股数       现在持股市值        累计卖出金额         累计卖出获利  累计绝对收益  \\\n",
       "day                                                                      \n",
       "2020-02-07  722000.0  2.80714e+06  4.379045e+06  204351.246825  365563   \n",
       "2020-02-10  724600.0  2.82666e+06  4.379045e+06  204351.246825  375035   \n",
       "\n",
       "               累计收益率      持仓成本  \n",
       "day                             \n",
       "2020-02-07  0.138161  3.381680  \n",
       "2020-02-10  0.141204  3.383425  \n",
       "\n",
       "[2 rows x 28 columns]"
      ]
     },
     "execution_count": 71,
     "metadata": {},
     "output_type": "execute_result"
    }
   ],
   "source": [
    "dff500.tail(2)"
   ]
  },
  {
   "cell_type": "code",
   "execution_count": 32,
   "metadata": {},
   "outputs": [
    {
     "name": "stdout",
     "output_type": "stream",
     "text": [
      "198\n",
      "1    192\n",
      "0      6\n",
      "Name: sell_flag, dtype: int64\n"
     ]
    }
   ],
   "source": [
    "code = 'sh510300'\n",
    "\n",
    "dff = strategy(code, 500, 10000,sell_pct=0.01, dingtou_mode='无脑')"
   ]
  },
  {
   "cell_type": "code",
   "execution_count": null,
   "metadata": {},
   "outputs": [],
   "source": [
    "dff[['指数累计涨幅','累计收益率']].plot()"
   ]
  },
  {
   "cell_type": "code",
   "execution_count": 316,
   "metadata": {},
   "outputs": [
    {
     "name": "stderr",
     "output_type": "stream",
     "text": [
      "C:\\Users\\ian\\Anaconda3\\lib\\site-packages\\pandas\\core\\indexing.py:132: SettingWithCopyWarning: \n",
      "A value is trying to be set on a copy of a slice from a DataFrame\n",
      "\n",
      "See the caveats in the documentation: http://pandas.pydata.org/pandas-docs/stable/indexing.html#indexing-view-versus-copy\n",
      "  self._setitem_with_indexer(indexer, value)\n"
     ]
    },
    {
     "name": "stdout",
     "output_type": "stream",
     "text": [
      "501\n",
      "1    485\n",
      "0     16\n",
      "Name: sell_flag, dtype: int64\n",
      "累计执行定投次数: 745\n",
      "净执行定投次数: 260\n",
      "累计投入本金: 7585594.199999996\n",
      "净投入本金: 2646178.0000000005---------------------\n",
      "累计买入股数: 2094200.0\n",
      "净持股数: 722400.0\n",
      "现在持股市值: 2808691.1999999997\n",
      "累计卖出金额: 5033166.319475997\n",
      "累计卖出手续费: 5038.204523999998\n",
      "---------累计绝对收益: 256263.31947600003------------------------------------\n",
      "累计收益率: 0.09684281234142222\n",
      "简单年化收益率: 0.019368562468284445\n",
      "期间指数涨幅: 0.14893617021276606\n"
     ]
    }
   ],
   "source": [
    "code = 'sh510300'\n",
    "\n",
    "strategy1(code, 1250, 10000,sell_pct=0.02, dingtou_mode='无脑')"
   ]
  },
  {
   "cell_type": "code",
   "execution_count": 317,
   "metadata": {},
   "outputs": [
    {
     "name": "stderr",
     "output_type": "stream",
     "text": [
      "C:\\Users\\ian\\Anaconda3\\lib\\site-packages\\pandas\\core\\indexing.py:132: SettingWithCopyWarning: \n",
      "A value is trying to be set on a copy of a slice from a DataFrame\n",
      "\n",
      "See the caveats in the documentation: http://pandas.pydata.org/pandas-docs/stable/indexing.html#indexing-view-versus-copy\n",
      "  self._setitem_with_indexer(indexer, value)\n"
     ]
    },
    {
     "name": "stdout",
     "output_type": "stream",
     "text": [
      "501\n",
      "1    473\n",
      "0     28\n",
      "Name: sell_flag, dtype: int64\n",
      "累计执行定投次数: 745\n",
      "净执行定投次数: 272\n",
      "累计投入本金: 7585594.199999996\n",
      "净投入本金: 2769484.200000001---------------------\n",
      "累计买入股数: 2094200.0\n",
      "净持股数: 750500.0\n",
      "现在持股市值: 2917944.0\n",
      "累计卖出金额: 4955632.706700004\n",
      "累计卖出手续费: 4960.593300000004\n",
      "---------累计绝对收益: 287982.50670000724------------------------------------\n",
      "累计收益率: 0.10398416669068093\n",
      "简单年化收益率: 0.020796833338136186\n",
      "期间指数涨幅: 0.14893617021276606\n"
     ]
    }
   ],
   "source": [
    "code = 'sh510300'\n",
    "\n",
    "strategy1(code, 1250, 10000,sell_pct=0.03, dingtou_mode='无脑')"
   ]
  },
  {
   "cell_type": "code",
   "execution_count": 318,
   "metadata": {},
   "outputs": [
    {
     "name": "stderr",
     "output_type": "stream",
     "text": [
      "C:\\Users\\ian\\Anaconda3\\lib\\site-packages\\pandas\\core\\indexing.py:132: SettingWithCopyWarning: \n",
      "A value is trying to be set on a copy of a slice from a DataFrame\n",
      "\n",
      "See the caveats in the documentation: http://pandas.pydata.org/pandas-docs/stable/indexing.html#indexing-view-versus-copy\n",
      "  self._setitem_with_indexer(indexer, value)\n"
     ]
    },
    {
     "name": "stdout",
     "output_type": "stream",
     "text": [
      "501\n",
      "1    463\n",
      "0     38\n",
      "Name: sell_flag, dtype: int64\n",
      "累计执行定投次数: 745\n",
      "净执行定投次数: 282\n",
      "累计投入本金: 7585594.199999996\n",
      "净投入本金: 2871548.700000001---------------------\n",
      "累计买入股数: 2094200.0\n",
      "净持股数: 774400.0\n",
      "现在持股市值: 3010867.1999999997\n",
      "累计卖出金额: 4897704.71268\n",
      "累计卖出手续费: 4902.60732\n",
      "---------累计绝对收益: 322977.7126800036------------------------------------\n",
      "累计收益率: 0.11247509494789466\n",
      "简单年化收益率: 0.02249501898957893\n",
      "期间指数涨幅: 0.14893617021276606\n"
     ]
    }
   ],
   "source": [
    "code = 'sh510300'\n",
    "\n",
    "strategy1(code, 1250, 10000,sell_pct=0.04, dingtou_mode='无脑')"
   ]
  },
  {
   "cell_type": "code",
   "execution_count": 319,
   "metadata": {},
   "outputs": [
    {
     "name": "stderr",
     "output_type": "stream",
     "text": [
      "C:\\Users\\ian\\Anaconda3\\lib\\site-packages\\pandas\\core\\indexing.py:132: SettingWithCopyWarning: \n",
      "A value is trying to be set on a copy of a slice from a DataFrame\n",
      "\n",
      "See the caveats in the documentation: http://pandas.pydata.org/pandas-docs/stable/indexing.html#indexing-view-versus-copy\n",
      "  self._setitem_with_indexer(indexer, value)\n"
     ]
    },
    {
     "name": "stdout",
     "output_type": "stream",
     "text": [
      "501\n",
      "1    452\n",
      "0     49\n",
      "Name: sell_flag, dtype: int64\n",
      "累计执行定投次数: 745\n",
      "净执行定投次数: 293\n",
      "累计投入本金: 7585594.199999996\n",
      "净投入本金: 2982337.800000001---------------------\n",
      "累计买入股数: 2094200.0\n",
      "净持股数: 801800.0\n",
      "现在持股市值: 3117398.4\n",
      "累计卖出金额: 4828585.800779999\n",
      "累计卖出手续费: 4833.419219999999\n",
      "---------累计绝对收益: 360390.0007800022------------------------------------\n",
      "累计收益率: 0.1208414421666124\n",
      "简单年化收益率: 0.024168288433322478\n",
      "期间指数涨幅: 0.14893617021276606\n"
     ]
    }
   ],
   "source": [
    "code = 'sh510300'\n",
    "\n",
    "strategy1(code, 1250, 10000,sell_pct=0.05, dingtou_mode='无脑')"
   ]
  },
  {
   "cell_type": "code",
   "execution_count": 322,
   "metadata": {},
   "outputs": [
    {
     "name": "stderr",
     "output_type": "stream",
     "text": [
      "C:\\Users\\ian\\Anaconda3\\lib\\site-packages\\pandas\\core\\indexing.py:132: SettingWithCopyWarning: \n",
      "A value is trying to be set on a copy of a slice from a DataFrame\n",
      "\n",
      "See the caveats in the documentation: http://pandas.pydata.org/pandas-docs/stable/indexing.html#indexing-view-versus-copy\n",
      "  self._setitem_with_indexer(indexer, value)\n"
     ]
    },
    {
     "name": "stdout",
     "output_type": "stream",
     "text": [
      "230\n",
      "1    216\n",
      "0     14\n",
      "Name: sell_flag, dtype: int64\n",
      "累计执行定投次数: 474\n",
      "净执行定投次数: 258\n",
      "累计投入本金: 4925971.699999999\n",
      "净投入本金: 2625702.7000000007---------------------\n",
      "累计买入股数: 1366300.0\n",
      "净持股数: 717600.0\n",
      "现在持股市值: 2790028.8\n",
      "累计卖出金额: 2307790.0698300023\n",
      "累计卖出手续费: 2310.1001700000024\n",
      "---------累计绝对收益: 171847.16983000282------------------------------------\n",
      "累计收益率: 0.06544806837042243\n",
      "简单年化收益率: 0.013089613674084486\n",
      "期间指数涨幅: 0.14893617021276606\n"
     ]
    }
   ],
   "source": [
    "code = 'sh510300'\n",
    "\n",
    "strategy1(code, 1250, 10000,sell_pct=0.05, dingtou_mode='不涨')"
   ]
  },
  {
   "cell_type": "code",
   "execution_count": 320,
   "metadata": {},
   "outputs": [
    {
     "name": "stderr",
     "output_type": "stream",
     "text": [
      "C:\\Users\\ian\\Anaconda3\\lib\\site-packages\\pandas\\core\\indexing.py:132: SettingWithCopyWarning: \n",
      "A value is trying to be set on a copy of a slice from a DataFrame\n",
      "\n",
      "See the caveats in the documentation: http://pandas.pydata.org/pandas-docs/stable/indexing.html#indexing-view-versus-copy\n",
      "  self._setitem_with_indexer(indexer, value)\n"
     ]
    },
    {
     "name": "stdout",
     "output_type": "stream",
     "text": [
      "501\n",
      "1    367\n",
      "0    134\n",
      "Name: sell_flag, dtype: int64\n",
      "累计执行定投次数: 745\n",
      "净执行定投次数: 378\n",
      "累计投入本金: 7585594.199999996\n",
      "净投入本金: 3850118.2---------------------\n",
      "累计买入股数: 2094200.0\n",
      "净持股数: 1020100.0\n",
      "现在持股市值: 3966148.8\n",
      "累计卖出金额: 4104914.5764000025\n",
      "累计卖出手续费: 4109.023600000002\n",
      "---------累计绝对收益: 485469.1764000058------------------------------------\n",
      "累计收益率: 0.1260920187852949\n",
      "简单年化收益率: 0.025218403757058982\n",
      "期间指数涨幅: 0.14893617021276606\n"
     ]
    }
   ],
   "source": [
    "code = 'sh510300'\n",
    "\n",
    "strategy1(code, 1250, 10000, dingtou_mode='无脑')"
   ]
  },
  {
   "cell_type": "code",
   "execution_count": 321,
   "metadata": {},
   "outputs": [
    {
     "name": "stderr",
     "output_type": "stream",
     "text": [
      "C:\\Users\\ian\\Anaconda3\\lib\\site-packages\\pandas\\core\\indexing.py:132: SettingWithCopyWarning: \n",
      "A value is trying to be set on a copy of a slice from a DataFrame\n",
      "\n",
      "See the caveats in the documentation: http://pandas.pydata.org/pandas-docs/stable/indexing.html#indexing-view-versus-copy\n",
      "  self._setitem_with_indexer(indexer, value)\n"
     ]
    },
    {
     "name": "stdout",
     "output_type": "stream",
     "text": [
      "501\n",
      "1    262\n",
      "0    239\n",
      "Name: sell_flag, dtype: int64\n",
      "累计执行定投次数: 745\n",
      "净执行定投次数: 483\n",
      "累计投入本金: 7585594.199999996\n",
      "净投入本金: 4921571.999999998---------------------\n",
      "累计买入股数: 2094200.0\n",
      "净持股数: 1298900.0\n",
      "现在持股市值: 5050123.2\n",
      "累计卖出金额: 3193629.8133600024\n",
      "累计卖出手续费: 3196.8266400000025\n",
      "---------累计绝对收益: 658158.8133600065------------------------------------\n",
      "累计收益率: 0.13372938836615755\n",
      "简单年化收益率: 0.02674587767323151\n",
      "期间指数涨幅: 0.14893617021276606\n"
     ]
    }
   ],
   "source": [
    "code = 'sh510300'\n",
    "\n",
    "strategy1(code, 1250, 10000,sell_pct=0.2, dingtou_mode='无脑')"
   ]
  },
  {
   "cell_type": "code",
   "execution_count": 280,
   "metadata": {
    "collapsed": true
   },
   "outputs": [
    {
     "name": "stderr",
     "output_type": "stream",
     "text": [
      "C:\\Users\\ian\\Anaconda3\\lib\\site-packages\\pandas\\core\\indexing.py:132: SettingWithCopyWarning: \n",
      "A value is trying to be set on a copy of a slice from a DataFrame\n",
      "\n",
      "See the caveats in the documentation: http://pandas.pydata.org/pandas-docs/stable/indexing.html#indexing-view-versus-copy\n",
      "  self._setitem_with_indexer(indexer, value)\n"
     ]
    },
    {
     "name": "stdout",
     "output_type": "stream",
     "text": [
      "199\n",
      "1    192\n",
      "0      7\n",
      "Name: sell_flag, dtype: int64\n",
      "累计执行定投次数: 298\n",
      "净执行定投次数: 106\n",
      "累计投入本金: 3034167.200000002\n",
      "净投入本金: 1079304.0999999996---------------------\n",
      "累计买入股数: 823200.0\n",
      "净持股数: 289800.0\n",
      "现在持股市值: 1126742.4\n",
      "累计卖出金额: 1972437.3192689999\n",
      "累计卖出手续费: 1974.411731\n",
      "---------累计绝对收益: 65012.519268997945------------------------------------\n",
      "累计收益率: 0.02142680840693223\n",
      "简单年化收益率: 0.010713404203466115\n",
      "期间指数涨幅: -0.09010063187456119\n"
     ]
    }
   ],
   "source": [
    "code = 'sh510300'\n",
    "\n",
    "strategy1(code, 500, 10000,sell_pct=0.01, dingtou_mode='无脑')"
   ]
  },
  {
   "cell_type": "code",
   "execution_count": 281,
   "metadata": {
    "collapsed": true
   },
   "outputs": [
    {
     "name": "stderr",
     "output_type": "stream",
     "text": [
      "C:\\Users\\ian\\Anaconda3\\lib\\site-packages\\pandas\\core\\indexing.py:132: SettingWithCopyWarning: \n",
      "A value is trying to be set on a copy of a slice from a DataFrame\n",
      "\n",
      "See the caveats in the documentation: http://pandas.pydata.org/pandas-docs/stable/indexing.html#indexing-view-versus-copy\n",
      "  self._setitem_with_indexer(indexer, value)\n"
     ]
    },
    {
     "name": "stdout",
     "output_type": "stream",
     "text": [
      "199\n",
      "1    187\n",
      "0     12\n",
      "Name: sell_flag, dtype: int64\n",
      "累计执行定投次数: 298\n",
      "净执行定投次数: 111\n",
      "累计投入本金: 3034167.200000002\n",
      "净投入本金: 1130363.0999999996---------------------\n",
      "累计买入股数: 823200.0\n",
      "净持股数: 302000.0\n",
      "现在持股市值: 1174176.0\n",
      "累计卖出金额: 1939938.3018179988\n",
      "累计卖出手续费: 1941.880181999999\n",
      "---------累计绝对收益: 79947.1018179967------------------------------------\n",
      "累计收益率: 0.0263489440588498\n",
      "简单年化收益率: 0.0131744720294249\n",
      "期间指数涨幅: -0.09010063187456119\n"
     ]
    }
   ],
   "source": [
    "code = 'sh510300'\n",
    "\n",
    "strategy1(code, 500, 10000,sell_pct=0.02, dingtou_mode='无脑')"
   ]
  },
  {
   "cell_type": "code",
   "execution_count": 282,
   "metadata": {
    "collapsed": true
   },
   "outputs": [
    {
     "name": "stderr",
     "output_type": "stream",
     "text": [
      "C:\\Users\\ian\\Anaconda3\\lib\\site-packages\\pandas\\core\\indexing.py:132: SettingWithCopyWarning: \n",
      "A value is trying to be set on a copy of a slice from a DataFrame\n",
      "\n",
      "See the caveats in the documentation: http://pandas.pydata.org/pandas-docs/stable/indexing.html#indexing-view-versus-copy\n",
      "  self._setitem_with_indexer(indexer, value)\n"
     ]
    },
    {
     "name": "stdout",
     "output_type": "stream",
     "text": [
      "199\n",
      "1    181\n",
      "0     18\n",
      "Name: sell_flag, dtype: int64\n",
      "累计执行定投次数: 298\n",
      "净执行定投次数: 117\n",
      "累计投入本金: 3034167.200000002\n",
      "净投入本金: 1191961.4999999998---------------------\n",
      "累计买入股数: 823200.0\n",
      "净持股数: 317000.0\n",
      "现在持股市值: 1232496.0\n",
      "累计卖出金额: 1895574.3991290003\n",
      "累计卖出手续费: 1897.4718710000004\n",
      "---------累计绝对收益: 93903.19912899844------------------------------------\n",
      "累计收益率: 0.0309485908123317\n",
      "简单年化收益率: 0.01547429540616585\n",
      "期间指数涨幅: -0.09010063187456119\n"
     ]
    }
   ],
   "source": [
    "code = 'sh510300'\n",
    "\n",
    "strategy1(code, 500, 10000,sell_pct=0.03, dingtou_mode='无脑')"
   ]
  },
  {
   "cell_type": "code",
   "execution_count": 283,
   "metadata": {
    "collapsed": true
   },
   "outputs": [
    {
     "name": "stderr",
     "output_type": "stream",
     "text": [
      "C:\\Users\\ian\\Anaconda3\\lib\\site-packages\\pandas\\core\\indexing.py:132: SettingWithCopyWarning: \n",
      "A value is trying to be set on a copy of a slice from a DataFrame\n",
      "\n",
      "See the caveats in the documentation: http://pandas.pydata.org/pandas-docs/stable/indexing.html#indexing-view-versus-copy\n",
      "  self._setitem_with_indexer(indexer, value)\n"
     ]
    },
    {
     "name": "stdout",
     "output_type": "stream",
     "text": [
      "199\n",
      "1    173\n",
      "0     26\n",
      "Name: sell_flag, dtype: int64\n",
      "累计执行定投次数: 298\n",
      "净执行定投次数: 125\n",
      "累计投入本金: 3034167.200000002\n",
      "净投入本金: 1273343.9999999998---------------------\n",
      "累计买入股数: 823200.0\n",
      "净持股数: 336900.0\n",
      "现在持股市值: 1309867.2\n",
      "累计卖出金额: 1829424.8718719995\n",
      "累计卖出手续费: 1831.2561279999995\n",
      "---------累计绝对收益: 105124.8718719976------------------------------------\n",
      "累计收益率: 0.03464702666088981\n",
      "简单年化收益率: 0.017323513330444906\n",
      "期间指数涨幅: -0.09010063187456119\n"
     ]
    }
   ],
   "source": [
    "code = 'sh510300'\n",
    "\n",
    "strategy1(code, 500, 10000,sell_pct=0.04, dingtou_mode='无脑')"
   ]
  },
  {
   "cell_type": "code",
   "execution_count": 284,
   "metadata": {
    "collapsed": true
   },
   "outputs": [
    {
     "name": "stderr",
     "output_type": "stream",
     "text": [
      "C:\\Users\\ian\\Anaconda3\\lib\\site-packages\\pandas\\core\\indexing.py:132: SettingWithCopyWarning: \n",
      "A value is trying to be set on a copy of a slice from a DataFrame\n",
      "\n",
      "See the caveats in the documentation: http://pandas.pydata.org/pandas-docs/stable/indexing.html#indexing-view-versus-copy\n",
      "  self._setitem_with_indexer(indexer, value)\n"
     ]
    },
    {
     "name": "stdout",
     "output_type": "stream",
     "text": [
      "199\n",
      "1    163\n",
      "0     36\n",
      "Name: sell_flag, dtype: int64\n",
      "累计执行定投次数: 298\n",
      "净执行定投次数: 135\n",
      "累计投入本金: 3034167.200000002\n",
      "净投入本金: 1373971.5---------------------\n",
      "累计买入股数: 823200.0\n",
      "净持股数: 361900.0\n",
      "现在持股市值: 1407067.2\n",
      "累计卖出金额: 1741462.2795150005\n",
      "累计卖出手续费: 1743.2054850000006\n",
      "---------累计绝对收益: 114362.2795149982------------------------------------\n",
      "累计收益率: 0.03769148895782615\n",
      "简单年化收益率: 0.018845744478913073\n",
      "期间指数涨幅: -0.09010063187456119\n"
     ]
    }
   ],
   "source": [
    "code = 'sh510300'\n",
    "\n",
    "strategy1(code, 500, 10000,sell_pct=0.05, dingtou_mode='无脑')"
   ]
  },
  {
   "cell_type": "code",
   "execution_count": 286,
   "metadata": {
    "collapsed": true
   },
   "outputs": [
    {
     "name": "stderr",
     "output_type": "stream",
     "text": [
      "C:\\Users\\ian\\Anaconda3\\lib\\site-packages\\pandas\\core\\indexing.py:132: SettingWithCopyWarning: \n",
      "A value is trying to be set on a copy of a slice from a DataFrame\n",
      "\n",
      "See the caveats in the documentation: http://pandas.pydata.org/pandas-docs/stable/indexing.html#indexing-view-versus-copy\n",
      "  self._setitem_with_indexer(indexer, value)\n"
     ]
    },
    {
     "name": "stdout",
     "output_type": "stream",
     "text": [
      "199\n",
      "0    138\n",
      "1     61\n",
      "Name: sell_flag, dtype: int64\n",
      "累计执行定投次数: 298\n",
      "净执行定投次数: 237\n",
      "累计投入本金: 3034167.200000002\n",
      "净投入本金: 2414364.800000001---------------------\n",
      "累计买入股数: 823200.0\n",
      "净持股数: 634400.0\n",
      "现在持股市值: 2466547.1999999997\n",
      "累计卖出金额: 743019.11712\n",
      "累计卖出手续费: 743.76288\n",
      "---------累计绝对收益: 175399.11711999774------------------------------------\n",
      "累计收益率: 0.05780799328395525\n",
      "简单年化收益率: 0.028903996641977625\n",
      "期间指数涨幅: -0.09010063187456119\n"
     ]
    }
   ],
   "source": [
    "code = 'sh510300'\n",
    "\n",
    "strategy1(code, 500, 10000,sell_pct=0.2, dingtou_mode='无脑')"
   ]
  },
  {
   "cell_type": "code",
   "execution_count": 285,
   "metadata": {
    "collapsed": true
   },
   "outputs": [
    {
     "name": "stderr",
     "output_type": "stream",
     "text": [
      "C:\\Users\\ian\\Anaconda3\\lib\\site-packages\\pandas\\core\\indexing.py:132: SettingWithCopyWarning: \n",
      "A value is trying to be set on a copy of a slice from a DataFrame\n",
      "\n",
      "See the caveats in the documentation: http://pandas.pydata.org/pandas-docs/stable/indexing.html#indexing-view-versus-copy\n",
      "  self._setitem_with_indexer(indexer, value)\n"
     ]
    },
    {
     "name": "stdout",
     "output_type": "stream",
     "text": [
      "199\n",
      "1    106\n",
      "0     93\n",
      "Name: sell_flag, dtype: int64\n",
      "累计执行定投次数: 298\n",
      "净执行定投次数: 192\n",
      "累计投入本金: 3034167.200000002\n",
      "净投入本金: 1955845.8000000003---------------------\n",
      "累计买入股数: 823200.0\n",
      "净持股数: 510800.0\n",
      "现在持股市值: 1985990.4\n",
      "累计卖出金额: 1184967.38646\n",
      "累计卖出手续费: 1186.15354\n",
      "---------累计绝对收益: 136790.58645999804------------------------------------\n",
      "累计收益率: 0.045083404256692994\n",
      "简单年化收益率: 0.022541702128346497\n",
      "期间指数涨幅: -0.09010063187456119\n"
     ]
    }
   ],
   "source": [
    "code = 'sh510300'\n",
    "\n",
    "strategy1(code, 500, 10000, dingtou_mode='无脑')"
   ]
  },
  {
   "cell_type": "code",
   "execution_count": 307,
   "metadata": {},
   "outputs": [
    {
     "name": "stderr",
     "output_type": "stream",
     "text": [
      "C:\\Users\\ian\\Anaconda3\\lib\\site-packages\\pandas\\core\\indexing.py:132: SettingWithCopyWarning: \n",
      "A value is trying to be set on a copy of a slice from a DataFrame\n",
      "\n",
      "See the caveats in the documentation: http://pandas.pydata.org/pandas-docs/stable/indexing.html#indexing-view-versus-copy\n",
      "  self._setitem_with_indexer(indexer, value)\n"
     ]
    },
    {
     "name": "stdout",
     "output_type": "stream",
     "text": [
      "97\n",
      "1    93\n",
      "0     4\n",
      "Name: sell_flag, dtype: int64\n",
      "累计执行定投次数: 148\n",
      "净执行定投次数: 55\n",
      "累计投入本金: 1507896.1\n",
      "净投入本金: 559662.5999999999---------------------\n",
      "累计买入股数: 394300.0\n",
      "净持股数: 145400.0\n",
      "现在持股市值: 565315.2\n",
      "累计卖出金额: 956758.119165\n",
      "累计卖出手续费: 957.7158350000001\n",
      "---------累计绝对收益: 14177.2191649999------------------------------------\n",
      "累计收益率: 0.025331725159051015\n",
      "简单年化收益率: 0.025331725159051015\n",
      "期间指数涨幅: 0.24019138755980873\n"
     ]
    }
   ],
   "source": [
    "code = 'sh510300'\n",
    "\n",
    "strategy1(code, 250, 10000,sell_pct=0.01, dingtou_mode='无脑')"
   ]
  },
  {
   "cell_type": "code",
   "execution_count": 308,
   "metadata": {},
   "outputs": [
    {
     "name": "stderr",
     "output_type": "stream",
     "text": [
      "C:\\Users\\ian\\Anaconda3\\lib\\site-packages\\pandas\\core\\indexing.py:132: SettingWithCopyWarning: \n",
      "A value is trying to be set on a copy of a slice from a DataFrame\n",
      "\n",
      "See the caveats in the documentation: http://pandas.pydata.org/pandas-docs/stable/indexing.html#indexing-view-versus-copy\n",
      "  self._setitem_with_indexer(indexer, value)\n"
     ]
    },
    {
     "name": "stdout",
     "output_type": "stream",
     "text": [
      "97\n",
      "1    90\n",
      "0     7\n",
      "Name: sell_flag, dtype: int64\n",
      "累计执行定投次数: 148\n",
      "净执行定投次数: 58\n",
      "累计投入本金: 1507896.1\n",
      "净投入本金: 590612.6---------------------\n",
      "累计买入股数: 394300.0\n",
      "净持股数: 152900.0\n",
      "现在持股市值: 594475.2\n",
      "累计卖出金额: 934693.5408300003\n",
      "累计卖出手续费: 935.6291700000003\n",
      "---------累计绝对收益: 21272.640830000164------------------------------------\n",
      "累计收益率: 0.03601792584513125\n",
      "简单年化收益率: 0.03601792584513125\n",
      "期间指数涨幅: 0.24019138755980873\n"
     ]
    }
   ],
   "source": [
    "code = 'sh510300'\n",
    "\n",
    "strategy1(code, 250, 10000,sell_pct=0.02, dingtou_mode='无脑')"
   ]
  },
  {
   "cell_type": "code",
   "execution_count": 309,
   "metadata": {},
   "outputs": [
    {
     "name": "stderr",
     "output_type": "stream",
     "text": [
      "C:\\Users\\ian\\Anaconda3\\lib\\site-packages\\pandas\\core\\indexing.py:132: SettingWithCopyWarning: \n",
      "A value is trying to be set on a copy of a slice from a DataFrame\n",
      "\n",
      "See the caveats in the documentation: http://pandas.pydata.org/pandas-docs/stable/indexing.html#indexing-view-versus-copy\n",
      "  self._setitem_with_indexer(indexer, value)\n"
     ]
    },
    {
     "name": "stdout",
     "output_type": "stream",
     "text": [
      "97\n",
      "1    89\n",
      "0     8\n",
      "Name: sell_flag, dtype: int64\n",
      "累计执行定投次数: 148\n",
      "净执行定投次数: 59\n",
      "累计投入本金: 1507896.1\n",
      "净投入本金: 600829.4---------------------\n",
      "累计买入股数: 394300.0\n",
      "净持股数: 155600.0\n",
      "现在持股市值: 604972.7999999999\n",
      "累计卖出金额: 933344.422299\n",
      "累计卖出手续费: 934.2787010000001\n",
      "---------累计绝对收益: 30421.12229899969------------------------------------\n",
      "累计收益率: 0.050631880362378555\n",
      "简单年化收益率: 0.050631880362378555\n",
      "期间指数涨幅: 0.24019138755980873\n"
     ]
    }
   ],
   "source": [
    "code = 'sh510300'\n",
    "\n",
    "strategy1(code, 250, 10000,sell_pct=0.03, dingtou_mode='无脑')"
   ]
  },
  {
   "cell_type": "code",
   "execution_count": 310,
   "metadata": {},
   "outputs": [
    {
     "name": "stderr",
     "output_type": "stream",
     "text": [
      "C:\\Users\\ian\\Anaconda3\\lib\\site-packages\\pandas\\core\\indexing.py:132: SettingWithCopyWarning: \n",
      "A value is trying to be set on a copy of a slice from a DataFrame\n",
      "\n",
      "See the caveats in the documentation: http://pandas.pydata.org/pandas-docs/stable/indexing.html#indexing-view-versus-copy\n",
      "  self._setitem_with_indexer(indexer, value)\n"
     ]
    },
    {
     "name": "stdout",
     "output_type": "stream",
     "text": [
      "97\n",
      "1    85\n",
      "0    12\n",
      "Name: sell_flag, dtype: int64\n",
      "累计执行定投次数: 148\n",
      "净执行定投次数: 63\n",
      "累计投入本金: 1507896.1\n",
      "净投入本金: 641526.9---------------------\n",
      "累计买入股数: 394300.0\n",
      "净持股数: 165600.0\n",
      "现在持股市值: 643852.7999999999\n",
      "累计卖出金额: 900122.9440320001\n",
      "累计卖出手续费: 901.0239680000001\n",
      "---------累计绝对收益: 36079.6440320001------------------------------------\n",
      "累计收益率: 0.05624026682591189\n",
      "简单年化收益率: 0.05624026682591189\n",
      "期间指数涨幅: 0.24019138755980873\n"
     ]
    }
   ],
   "source": [
    "code = 'sh510300'\n",
    "\n",
    "strategy1(code, 250, 10000,sell_pct=0.04, dingtou_mode='无脑')"
   ]
  },
  {
   "cell_type": "code",
   "execution_count": 339,
   "metadata": {},
   "outputs": [
    {
     "name": "stderr",
     "output_type": "stream",
     "text": [
      "C:\\Users\\ian\\Anaconda3\\lib\\site-packages\\pandas\\core\\indexing.py:132: SettingWithCopyWarning: \n",
      "A value is trying to be set on a copy of a slice from a DataFrame\n",
      "\n",
      "See the caveats in the documentation: http://pandas.pydata.org/pandas-docs/stable/indexing.html#indexing-view-versus-copy\n",
      "  self._setitem_with_indexer(indexer, value)\n"
     ]
    },
    {
     "name": "stdout",
     "output_type": "stream",
     "text": [
      "97\n",
      "1    77\n",
      "0    20\n",
      "Name: sell_flag, dtype: int64\n",
      "累计执行定投次数: 148\n",
      "净执行定投次数: 71\n",
      "累计投入本金: 766618.6000000002\n",
      "净投入本金: 369357.1999999999---------------------\n",
      "累计买入股数: 200400.0\n",
      "净持股数: 94900.0\n",
      "现在持股市值: 368971.2\n",
      "累计卖出金额: 416707.34553\n",
      "累计卖出手续费: 417.12447\n",
      "---------累计绝对收益: 19059.945529999794------------------------------------\n",
      "累计收益率: 0.051603016077660865\n",
      "简单年化收益率: 0.051603016077660865\n",
      "期间指数涨幅: 0.24019138755980873\n"
     ]
    }
   ],
   "source": [
    "code = 'sh510300'\n",
    "\n",
    "strategy1(code, 250, 5000,sell_pct=0.05, dingtou_mode='无脑')"
   ]
  },
  {
   "cell_type": "code",
   "execution_count": 347,
   "metadata": {},
   "outputs": [
    {
     "name": "stderr",
     "output_type": "stream",
     "text": [
      "C:\\Users\\ian\\Anaconda3\\lib\\site-packages\\pandas\\core\\indexing.py:132: SettingWithCopyWarning: \n",
      "A value is trying to be set on a copy of a slice from a DataFrame\n",
      "\n",
      "See the caveats in the documentation: http://pandas.pydata.org/pandas-docs/stable/indexing.html#indexing-view-versus-copy\n",
      "  self._setitem_with_indexer(indexer, value)\n"
     ]
    },
    {
     "name": "stdout",
     "output_type": "stream",
     "text": [
      "97\n",
      "1    90\n",
      "0     7\n",
      "Name: sell_flag, dtype: int64\n",
      "累计执行定投次数: 148\n",
      "净执行定投次数: 58\n",
      "累计投入本金: 751955.7\n",
      "净投入本金: 294470.20000000007---------------------\n",
      "累计买入股数: 486600.0\n",
      "净持股数: 186600.0\n",
      "现在持股市值: 362004.0\n",
      "累计卖出金额: 502730.8159499998\n",
      "累计卖出手续费: 503.2340499999998\n",
      "---------累计绝对收益: 112779.11594999977------------------------------------\n",
      "累计收益率: 0.38298991188242393\n",
      "简单年化收益率: 0.38298991188242393\n",
      "期间指数涨幅: 0.6207184628237259\n"
     ]
    }
   ],
   "source": [
    "code = 'sz159915'\n",
    "strategy1(code, 250, 5000,sell_pct=0.1, dingtou_mode='无脑')"
   ]
  },
  {
   "cell_type": "code",
   "execution_count": 313,
   "metadata": {},
   "outputs": [
    {
     "name": "stderr",
     "output_type": "stream",
     "text": [
      "C:\\Users\\ian\\Anaconda3\\lib\\site-packages\\pandas\\core\\indexing.py:132: SettingWithCopyWarning: \n",
      "A value is trying to be set on a copy of a slice from a DataFrame\n",
      "\n",
      "See the caveats in the documentation: http://pandas.pydata.org/pandas-docs/stable/indexing.html#indexing-view-versus-copy\n",
      "  self._setitem_with_indexer(indexer, value)\n"
     ]
    },
    {
     "name": "stdout",
     "output_type": "stream",
     "text": [
      "97\n",
      "0    61\n",
      "1    36\n",
      "Name: sell_flag, dtype: int64\n",
      "累计执行定投次数: 148\n",
      "净执行定投次数: 112\n",
      "累计投入本金: 1507896.1\n",
      "净投入本金: 1141069.9---------------------\n",
      "累计买入股数: 394300.0\n",
      "净持股数: 292600.0\n",
      "现在持股市值: 1137628.8\n",
      "累计卖出金额: 403105.3111800001\n",
      "累计卖出手续费: 403.50882000000007\n",
      "---------累计绝对收益: 32838.011179999914------------------------------------\n",
      "累计收益率: 0.02877826431141503\n",
      "简单年化收益率: 0.02877826431141503\n",
      "期间指数涨幅: 0.24019138755980873\n"
     ]
    }
   ],
   "source": [
    "code = 'sh510300'\n",
    "\n",
    "strategy1(code, 250, 10000, dingtou_mode='无脑')"
   ]
  },
  {
   "cell_type": "code",
   "execution_count": 203,
   "metadata": {},
   "outputs": [
    {
     "name": "stderr",
     "output_type": "stream",
     "text": [
      "C:\\Users\\ian\\Anaconda3\\lib\\site-packages\\pandas\\core\\indexing.py:132: SettingWithCopyWarning: \n",
      "A value is trying to be set on a copy of a slice from a DataFrame\n",
      "\n",
      "See the caveats in the documentation: http://pandas.pydata.org/pandas-docs/stable/indexing.html#indexing-view-versus-copy\n",
      "  self._setitem_with_indexer(indexer, value)\n"
     ]
    },
    {
     "name": "stdout",
     "output_type": "stream",
     "text": [
      "44\n",
      "0    28\n",
      "1    16\n",
      "Name: sell_flag, dtype: int64\n",
      "累计执行定投次数: 95\n",
      "净执行定投次数: 79\n",
      "累计投入本金: 989297.7\n",
      "净投入本金: 805468.0999999997\n",
      "累计买入股数: 258100.0\n",
      "净持股数: 208000.0\n",
      "现在持股市值: 808704.0\n",
      "累计卖出金额: 179912.37\n",
      "累计收益: 183148.27000000025\n",
      "累计收益率: 0.22738115885657084\n",
      "简单年化收益率: 0.22738115885657084\n",
      "期间指数涨幅: 0.24019138755980873\n"
     ]
    }
   ],
   "source": [
    "code = 'sh510300'\n",
    "\n",
    "strategy1(code, 250, 10000, dingtou_mode='不涨')"
   ]
  },
  {
   "cell_type": "code",
   "execution_count": 198,
   "metadata": {},
   "outputs": [
    {
     "name": "stderr",
     "output_type": "stream",
     "text": [
      "C:\\Users\\ian\\Anaconda3\\lib\\site-packages\\pandas\\core\\indexing.py:132: SettingWithCopyWarning: \n",
      "A value is trying to be set on a copy of a slice from a DataFrame\n",
      "\n",
      "See the caveats in the documentation: http://pandas.pydata.org/pandas-docs/stable/indexing.html#indexing-view-versus-copy\n",
      "  self._setitem_with_indexer(indexer, value)\n"
     ]
    },
    {
     "name": "stdout",
     "output_type": "stream",
     "text": [
      "501\n",
      "1    367\n",
      "0    134\n",
      "Name: sell_flag, dtype: int64\n",
      "累计执行定投次数: 745\n",
      "净执行定投次数: 378\n",
      "累计投入本金: 7585594.199999996\n",
      "净投入本金: 3850118.2\n",
      "累计买入股数: 2094200.0\n",
      "净持股数: 1020100.0\n",
      "现在持股市值: 3966148.8\n",
      "累计卖出金额: 4109023.6000000024\n",
      "累计收益: 4225054.200000002\n",
      "累计收益率: 1.0973829842418867\n",
      "简单年化收益率: 0.21947659684837734\n",
      "期间指数涨幅: 0.14893617021276606\n"
     ]
    }
   ],
   "source": [
    "code = 'sh510300'\n",
    "\n",
    "strategy1(code, 1250, 10000)"
   ]
  },
  {
   "cell_type": "code",
   "execution_count": 201,
   "metadata": {},
   "outputs": [
    {
     "name": "stderr",
     "output_type": "stream",
     "text": [
      "C:\\Users\\ian\\Anaconda3\\lib\\site-packages\\pandas\\core\\indexing.py:132: SettingWithCopyWarning: \n",
      "A value is trying to be set on a copy of a slice from a DataFrame\n",
      "\n",
      "See the caveats in the documentation: http://pandas.pydata.org/pandas-docs/stable/indexing.html#indexing-view-versus-copy\n",
      "  self._setitem_with_indexer(indexer, value)\n"
     ]
    },
    {
     "name": "stdout",
     "output_type": "stream",
     "text": [
      "230\n",
      "1    176\n",
      "0     54\n",
      "Name: sell_flag, dtype: int64\n",
      "累计执行定投次数: 474\n",
      "净执行定投次数: 298\n",
      "累计投入本金: 4925971.699999999\n",
      "净投入本金: 3034641.800000001\n",
      "累计买入股数: 1366300.0\n",
      "净持股数: 821200.0\n",
      "现在持股市值: 3192825.6\n",
      "累计卖出金额: 1970271.9300000004\n",
      "累计收益: 2128455.729999999\n",
      "累计收益率: 0.7013861504181476\n",
      "简单年化收益率: 0.14027723008362952\n",
      "期间指数涨幅: 0.14893617021276606\n"
     ]
    }
   ],
   "source": [
    "code = 'sh510300'\n",
    "\n",
    "strategy1(code, 1250, 10000, dingtou_mode='不涨')"
   ]
  },
  {
   "cell_type": "code",
   "execution_count": 180,
   "metadata": {},
   "outputs": [
    {
     "name": "stderr",
     "output_type": "stream",
     "text": [
      "C:\\Users\\ian\\Anaconda3\\lib\\site-packages\\pandas\\core\\indexing.py:132: SettingWithCopyWarning: \n",
      "A value is trying to be set on a copy of a slice from a DataFrame\n",
      "\n",
      "See the caveats in the documentation: http://pandas.pydata.org/pandas-docs/stable/indexing.html#indexing-view-versus-copy\n",
      "  self._setitem_with_indexer(indexer, value)\n"
     ]
    },
    {
     "name": "stdout",
     "output_type": "stream",
     "text": [
      "34\n",
      "1    32\n",
      "0     2\n",
      "Name: sell_flag, dtype: int64\n",
      "累计执行定投次数: 85\n",
      "净执行定投次数: 53\n",
      "累计投入本金: 865835.7000000001\n",
      "净投入本金: 533691.3\n",
      "累计买入股数: 562400.0\n",
      "净持股数: 343000.0\n",
      "现在持股市值: 665420.0\n",
      "累计卖出金额: 354494.36\n",
      "累计收益: 486223.05999999994\n",
      "累计收益率: 0.9110567475992206\n",
      "期间指数涨幅: 0.6207184628237259\n"
     ]
    }
   ],
   "source": [
    "code = 'sz159915'\n",
    "\n",
    "strategy1(get_hist_k_data(code, 250), 10000)"
   ]
  },
  {
   "cell_type": "code",
   "execution_count": 149,
   "metadata": {},
   "outputs": [
    {
     "name": "stderr",
     "output_type": "stream",
     "text": [
      "C:\\Users\\ian\\Anaconda3\\lib\\site-packages\\pandas\\core\\indexing.py:132: SettingWithCopyWarning: \n",
      "A value is trying to be set on a copy of a slice from a DataFrame\n",
      "\n",
      "See the caveats in the documentation: http://pandas.pydata.org/pandas-docs/stable/indexing.html#indexing-view-versus-copy\n",
      "  self._setitem_with_indexer(indexer, value)\n"
     ]
    },
    {
     "name": "stdout",
     "output_type": "stream",
     "text": [
      "95\n",
      "1    54\n",
      "0    41\n",
      "Name: sell_flag, dtype: int64\n",
      "累计执行定投次数: 194\n",
      "净执行定投次数: 140\n",
      "累计投入本金: 266106.6\n",
      "净投入本金: 165211.59999999995\n",
      "累计买入股数: 72300.0\n",
      "净持股数: 43800.0\n",
      "现在持股市值: 170294.4\n",
      "累计卖出金额: 68189.33\n",
      "累计收益: 0.4435047539034793\n"
     ]
    }
   ],
   "source": [
    "strategy1(get_hist_k_data(code, 500))"
   ]
  },
  {
   "cell_type": "code",
   "execution_count": 150,
   "metadata": {},
   "outputs": [
    {
     "name": "stderr",
     "output_type": "stream",
     "text": [
      "C:\\Users\\ian\\Anaconda3\\lib\\site-packages\\pandas\\core\\indexing.py:132: SettingWithCopyWarning: \n",
      "A value is trying to be set on a copy of a slice from a DataFrame\n",
      "\n",
      "See the caveats in the documentation: http://pandas.pydata.org/pandas-docs/stable/indexing.html#indexing-view-versus-copy\n",
      "  self._setitem_with_indexer(indexer, value)\n"
     ]
    },
    {
     "name": "stdout",
     "output_type": "stream",
     "text": [
      "132\n",
      "1    85\n",
      "0    47\n",
      "Name: sell_flag, dtype: int64\n",
      "累计执行定投次数: 278\n",
      "净执行定投次数: 193\n",
      "累计投入本金: 383754.9999999999\n",
      "净投入本金: 224978.49999999994\n",
      "累计买入股数: 104000.0\n",
      "净持股数: 59700.0\n",
      "现在持股市值: 232113.6\n",
      "累计卖出金额: 105235.13000000002\n",
      "累计收益: 0.49947097167062693\n"
     ]
    }
   ],
   "source": [
    "strategy1(get_hist_k_data(code, 750))"
   ]
  },
  {
   "cell_type": "code",
   "execution_count": 168,
   "metadata": {
    "collapsed": true
   },
   "outputs": [],
   "source": [
    "code = 'sz159915'"
   ]
  },
  {
   "cell_type": "code",
   "execution_count": 169,
   "metadata": {
    "collapsed": true
   },
   "outputs": [
    {
     "name": "stderr",
     "output_type": "stream",
     "text": [
      "C:\\Users\\ian\\Anaconda3\\lib\\site-packages\\pandas\\core\\indexing.py:132: SettingWithCopyWarning: \n",
      "A value is trying to be set on a copy of a slice from a DataFrame\n",
      "\n",
      "See the caveats in the documentation: http://pandas.pydata.org/pandas-docs/stable/indexing.html#indexing-view-versus-copy\n",
      "  self._setitem_with_indexer(indexer, value)\n"
     ]
    },
    {
     "name": "stdout",
     "output_type": "stream",
     "text": [
      "34\n",
      "1    32\n",
      "0     2\n",
      "Name: sell_flag, dtype: int64\n",
      "累计执行定投次数: 85\n",
      "净执行定投次数: 53\n",
      "累计投入本金: 865835.7000000001\n",
      "净投入本金: 533691.3\n",
      "累计买入股数: 562400.0\n",
      "净持股数: 343000.0\n",
      "现在持股市值: 665420.0\n",
      "累计卖出金额: 354494.36\n",
      "累计收益: 486223.05999999994\n",
      "累计收益率: 0.9110567475992206\n"
     ]
    }
   ],
   "source": [
    "strategy1(get_hist_k_data(code, 250), 10000)"
   ]
  },
  {
   "cell_type": "code",
   "execution_count": 170,
   "metadata": {
    "collapsed": true
   },
   "outputs": [
    {
     "name": "stderr",
     "output_type": "stream",
     "text": [
      "C:\\Users\\ian\\Anaconda3\\lib\\site-packages\\pandas\\core\\indexing.py:132: SettingWithCopyWarning: \n",
      "A value is trying to be set on a copy of a slice from a DataFrame\n",
      "\n",
      "See the caveats in the documentation: http://pandas.pydata.org/pandas-docs/stable/indexing.html#indexing-view-versus-copy\n",
      "  self._setitem_with_indexer(indexer, value)\n"
     ]
    },
    {
     "name": "stdout",
     "output_type": "stream",
     "text": [
      "82\n",
      "1    80\n",
      "0     2\n",
      "Name: sell_flag, dtype: int64\n",
      "累计执行定投次数: 181\n",
      "净执行定投次数: 101\n",
      "累计投入本金: 212961.8\n",
      "净投入本金: 108935.30000000005\n",
      "累计买入股数: 142900.0\n",
      "净持股数: 72400.0\n",
      "现在持股市值: 140456.0\n",
      "累计卖出金额: 94685.03000000003\n",
      "累计收益: 126205.72999999998\n",
      "累计收益率: 1.158538416840087\n"
     ]
    }
   ],
   "source": [
    "strategy1(get_hist_k_data(code, 500))"
   ]
  },
  {
   "cell_type": "code",
   "execution_count": 171,
   "metadata": {
    "scrolled": false
   },
   "outputs": [
    {
     "name": "stderr",
     "output_type": "stream",
     "text": [
      "C:\\Users\\ian\\Anaconda3\\lib\\site-packages\\pandas\\core\\indexing.py:132: SettingWithCopyWarning: \n",
      "A value is trying to be set on a copy of a slice from a DataFrame\n",
      "\n",
      "See the caveats in the documentation: http://pandas.pydata.org/pandas-docs/stable/indexing.html#indexing-view-versus-copy\n",
      "  self._setitem_with_indexer(indexer, value)\n"
     ]
    },
    {
     "name": "stdout",
     "output_type": "stream",
     "text": [
      "134\n",
      "1    109\n",
      "0     25\n",
      "Name: sell_flag, dtype: int64\n",
      "累计执行定投次数: 280\n",
      "净执行定投次数: 171\n",
      "累计投入本金: 328194.39999999973\n",
      "净投入本金: 184533.19999999998\n",
      "累计买入股数: 208700.0\n",
      "净持股数: 115000.0\n",
      "现在持股市值: 223100.0\n",
      "累计卖出金额: 128636.75000000003\n",
      "累计收益: 167203.55000000002\n",
      "累计收益率: 0.9060892565673822\n"
     ]
    }
   ],
   "source": [
    "strategy1(get_hist_k_data(code, 750))"
   ]
  },
  {
   "cell_type": "code",
   "execution_count": 331,
   "metadata": {},
   "outputs": [
    {
     "name": "stdout",
     "output_type": "stream",
     "text": [
      "0    199\n",
      "Name: sell_flag, dtype: int64\n",
      "累计执行定投次数: 298\n",
      "净执行定投次数: 298\n",
      "累计投入本金: 3002681.9\n",
      "净投入本金: 3002681.9---------------------\n",
      "累计买入股数: 2006500.0\n",
      "净持股数: 2006500.0\n",
      "现在持股市值: 3892610.0\n",
      "累计卖出金额: 0.0\n",
      "累计卖出手续费: 0.0\n",
      "---------累计绝对收益: 889928.1000000001------------------------------------\n",
      "累计收益率: 0.2963777481723922\n",
      "简单年化收益率: 0.1481888740861961\n",
      "期间指数涨幅: 0.1513353115727003\n"
     ]
    }
   ],
   "source": [
    "code = 'sz159915'\n",
    "\n",
    "strategy1(code, 500, 10000,sell_pct=0.01, dingtou_mode='无脑', sell=False)"
   ]
  },
  {
   "cell_type": "code",
   "execution_count": 324,
   "metadata": {},
   "outputs": [
    {
     "name": "stderr",
     "output_type": "stream",
     "text": [
      "C:\\Users\\ian\\Anaconda3\\lib\\site-packages\\pandas\\core\\indexing.py:132: SettingWithCopyWarning: \n",
      "A value is trying to be set on a copy of a slice from a DataFrame\n",
      "\n",
      "See the caveats in the documentation: http://pandas.pydata.org/pandas-docs/stable/indexing.html#indexing-view-versus-copy\n",
      "  self._setitem_with_indexer(indexer, value)\n"
     ]
    },
    {
     "name": "stdout",
     "output_type": "stream",
     "text": [
      "199\n",
      "1    198\n",
      "0      1\n",
      "Name: sell_flag, dtype: int64\n",
      "累计执行定投次数: 298\n",
      "净执行定投次数: 100\n",
      "累计投入本金: 3002681.9\n",
      "净投入本金: 1007219.1---------------------\n",
      "累计买入股数: 2006500.0\n",
      "净持股数: 670500.0\n",
      "现在持股市值: 1300770.0\n",
      "累计卖出金额: 2013402.0105720013\n",
      "累计卖出手续费: 2015.4174280000013\n",
      "---------累计绝对收益: 311490.11057200143------------------------------------\n",
      "累计收益率: 0.3092575493971485\n",
      "简单年化收益率: 0.15462877469857425\n",
      "期间指数涨幅: 0.1513353115727003\n"
     ]
    }
   ],
   "source": [
    "code = 'sz159915'\n",
    "\n",
    "strategy1(code, 500, 10000,sell_pct=0.01, dingtou_mode='无脑')"
   ]
  },
  {
   "cell_type": "code",
   "execution_count": 325,
   "metadata": {},
   "outputs": [
    {
     "name": "stderr",
     "output_type": "stream",
     "text": [
      "C:\\Users\\ian\\Anaconda3\\lib\\site-packages\\pandas\\core\\indexing.py:132: SettingWithCopyWarning: \n",
      "A value is trying to be set on a copy of a slice from a DataFrame\n",
      "\n",
      "See the caveats in the documentation: http://pandas.pydata.org/pandas-docs/stable/indexing.html#indexing-view-versus-copy\n",
      "  self._setitem_with_indexer(indexer, value)\n"
     ]
    },
    {
     "name": "stdout",
     "output_type": "stream",
     "text": [
      "199\n",
      "1    198\n",
      "0      1\n",
      "Name: sell_flag, dtype: int64\n",
      "累计执行定投次数: 298\n",
      "净执行定投次数: 100\n",
      "累计投入本金: 3002681.9\n",
      "净投入本金: 1007219.1---------------------\n",
      "累计买入股数: 2006500.0\n",
      "净持股数: 670500.0\n",
      "现在持股市值: 1300770.0\n",
      "累计卖出金额: 2033336.683943999\n",
      "累计卖出手续费: 2035.372055999999\n",
      "---------累计绝对收益: 331424.7839439991------------------------------------\n",
      "累计收益率: 0.32904934382598494\n",
      "简单年化收益率: 0.16452467191299247\n",
      "期间指数涨幅: 0.1513353115727003\n"
     ]
    }
   ],
   "source": [
    "\n",
    "strategy1(code, 500, 10000,sell_pct=0.02, dingtou_mode='无脑')"
   ]
  },
  {
   "cell_type": "code",
   "execution_count": 326,
   "metadata": {},
   "outputs": [
    {
     "name": "stderr",
     "output_type": "stream",
     "text": [
      "C:\\Users\\ian\\Anaconda3\\lib\\site-packages\\pandas\\core\\indexing.py:132: SettingWithCopyWarning: \n",
      "A value is trying to be set on a copy of a slice from a DataFrame\n",
      "\n",
      "See the caveats in the documentation: http://pandas.pydata.org/pandas-docs/stable/indexing.html#indexing-view-versus-copy\n",
      "  self._setitem_with_indexer(indexer, value)\n"
     ]
    },
    {
     "name": "stdout",
     "output_type": "stream",
     "text": [
      "199\n",
      "1    198\n",
      "0      1\n",
      "Name: sell_flag, dtype: int64\n",
      "累计执行定投次数: 298\n",
      "净执行定投次数: 100\n",
      "累计投入本金: 3002681.9\n",
      "净投入本金: 1007219.1---------------------\n",
      "累计买入股数: 2006500.0\n",
      "净持股数: 670500.0\n",
      "现在持股市值: 1300770.0\n",
      "累计卖出金额: 2053271.3573159983\n",
      "累计卖出手续费: 2055.3266839999983\n",
      "---------累计绝对收益: 351359.4573159986------------------------------------\n",
      "累计收益率: 0.3488411382548232\n",
      "简单年化收益率: 0.1744205691274116\n",
      "期间指数涨幅: 0.1513353115727003\n"
     ]
    }
   ],
   "source": [
    "\n",
    "strategy1(code, 500, 10000,sell_pct=0.03, dingtou_mode='无脑')"
   ]
  },
  {
   "cell_type": "code",
   "execution_count": 327,
   "metadata": {},
   "outputs": [
    {
     "name": "stderr",
     "output_type": "stream",
     "text": [
      "C:\\Users\\ian\\Anaconda3\\lib\\site-packages\\pandas\\core\\indexing.py:132: SettingWithCopyWarning: \n",
      "A value is trying to be set on a copy of a slice from a DataFrame\n",
      "\n",
      "See the caveats in the documentation: http://pandas.pydata.org/pandas-docs/stable/indexing.html#indexing-view-versus-copy\n",
      "  self._setitem_with_indexer(indexer, value)\n"
     ]
    },
    {
     "name": "stdout",
     "output_type": "stream",
     "text": [
      "199\n",
      "1    197\n",
      "0      2\n",
      "Name: sell_flag, dtype: int64\n",
      "累计执行定投次数: 298\n",
      "净执行定投次数: 101\n",
      "累计投入本金: 3002681.9\n",
      "净投入本金: 1017381.9---------------------\n",
      "累计买入股数: 2006500.0\n",
      "净持股数: 675900.0\n",
      "现在持股市值: 1311246.0\n",
      "累计卖出金额: 2062647.2880000009\n",
      "累计卖出手续费: 2064.712000000001\n",
      "---------累计绝对收益: 371211.38800000073------------------------------------\n",
      "累计收益率: 0.36486926688984805\n",
      "简单年化收益率: 0.18243463344492403\n",
      "期间指数涨幅: 0.1513353115727003\n"
     ]
    }
   ],
   "source": [
    "\n",
    "strategy1(code, 500, 10000,sell_pct=0.04, dingtou_mode='无脑')"
   ]
  },
  {
   "cell_type": "code",
   "execution_count": 328,
   "metadata": {},
   "outputs": [
    {
     "name": "stderr",
     "output_type": "stream",
     "text": [
      "C:\\Users\\ian\\Anaconda3\\lib\\site-packages\\pandas\\core\\indexing.py:132: SettingWithCopyWarning: \n",
      "A value is trying to be set on a copy of a slice from a DataFrame\n",
      "\n",
      "See the caveats in the documentation: http://pandas.pydata.org/pandas-docs/stable/indexing.html#indexing-view-versus-copy\n",
      "  self._setitem_with_indexer(indexer, value)\n"
     ]
    },
    {
     "name": "stdout",
     "output_type": "stream",
     "text": [
      "199\n",
      "1    196\n",
      "0      3\n",
      "Name: sell_flag, dtype: int64\n",
      "累计执行定投次数: 298\n",
      "净执行定投次数: 102\n",
      "累计投入本金: 3002681.9\n",
      "净投入本金: 1027431.3---------------------\n",
      "累计买入股数: 2006500.0\n",
      "净持股数: 681300.0\n",
      "现在持股市值: 1321722.0\n",
      "累计卖出金额: 2071939.116869999\n",
      "累计卖出手续费: 2074.0131299999994\n",
      "---------累计绝对收益: 390979.2168699992------------------------------------\n",
      "累计收益率: 0.3805404963524074\n",
      "简单年化收益率: 0.1902702481762037\n",
      "期间指数涨幅: 0.1513353115727003\n"
     ]
    }
   ],
   "source": [
    "\n",
    "strategy1(code, 500, 10000,sell_pct=0.05, dingtou_mode='无脑')"
   ]
  },
  {
   "cell_type": "code",
   "execution_count": 329,
   "metadata": {},
   "outputs": [
    {
     "name": "stderr",
     "output_type": "stream",
     "text": [
      "C:\\Users\\ian\\Anaconda3\\lib\\site-packages\\pandas\\core\\indexing.py:132: SettingWithCopyWarning: \n",
      "A value is trying to be set on a copy of a slice from a DataFrame\n",
      "\n",
      "See the caveats in the documentation: http://pandas.pydata.org/pandas-docs/stable/indexing.html#indexing-view-versus-copy\n",
      "  self._setitem_with_indexer(indexer, value)\n"
     ]
    },
    {
     "name": "stdout",
     "output_type": "stream",
     "text": [
      "199\n",
      "1    191\n",
      "0      8\n",
      "Name: sell_flag, dtype: int64\n",
      "累计执行定投次数: 298\n",
      "净执行定投次数: 107\n",
      "累计投入本金: 3002681.9\n",
      "净投入本金: 1078066.1999999997---------------------\n",
      "累计买入股数: 2006500.0\n",
      "净持股数: 709100.0\n",
      "现在持股市值: 1375654.0\n",
      "累计卖出金额: 2114960.1927300002\n",
      "累计卖出手续费: 2117.07727\n",
      "---------累计绝对收益: 487932.29273000034------------------------------------\n",
      "累计收益率: 0.4525995646000222\n",
      "简单年化收益率: 0.2262997823000111\n",
      "期间指数涨幅: 0.1513353115727003\n"
     ]
    }
   ],
   "source": [
    "\n",
    "strategy1(code, 500, 10000, dingtou_mode='无脑')"
   ]
  },
  {
   "cell_type": "code",
   "execution_count": 332,
   "metadata": {},
   "outputs": [
    {
     "name": "stdout",
     "output_type": "stream",
     "text": [
      "0    97\n",
      "Name: sell_flag, dtype: int64\n",
      "累计执行定投次数: 148\n",
      "净执行定投次数: 148\n",
      "累计投入本金: 1491219.6999999997\n",
      "净投入本金: 1491219.6999999997---------------------\n",
      "累计买入股数: 965000.0\n",
      "净持股数: 965000.0\n",
      "现在持股市值: 1872100.0\n",
      "累计卖出金额: 0.0\n",
      "累计卖出手续费: 0.0\n",
      "---------累计绝对收益: 380880.3000000003------------------------------------\n",
      "累计收益率: 0.255415281866247\n",
      "简单年化收益率: 0.255415281866247\n",
      "期间指数涨幅: 0.6207184628237259\n"
     ]
    }
   ],
   "source": [
    "code = 'sz159915'\n",
    "\n",
    "strategy1(code, 250, 10000,sell_pct=0.01, dingtou_mode='无脑',sell=False)"
   ]
  },
  {
   "cell_type": "code",
   "execution_count": 333,
   "metadata": {},
   "outputs": [
    {
     "name": "stderr",
     "output_type": "stream",
     "text": [
      "C:\\Users\\ian\\Anaconda3\\lib\\site-packages\\pandas\\core\\indexing.py:132: SettingWithCopyWarning: \n",
      "A value is trying to be set on a copy of a slice from a DataFrame\n",
      "\n",
      "See the caveats in the documentation: http://pandas.pydata.org/pandas-docs/stable/indexing.html#indexing-view-versus-copy\n",
      "  self._setitem_with_indexer(indexer, value)\n"
     ]
    },
    {
     "name": "stdout",
     "output_type": "stream",
     "text": [
      "97\n",
      "1    96\n",
      "0     1\n",
      "Name: sell_flag, dtype: int64\n",
      "累计执行定投次数: 148\n",
      "净执行定投次数: 52\n",
      "累计投入本金: 1491219.6999999997\n",
      "净投入本金: 523410.9---------------------\n",
      "累计买入股数: 965000.0\n",
      "净持股数: 337300.0\n",
      "现在持股市值: 654362.0\n",
      "累计卖出金额: 976509.4011119998\n",
      "累计卖出手续费: 977.4868879999998\n",
      "---------累计绝对收益: 139651.70111200004------------------------------------\n",
      "累计收益率: 0.26681083850565596\n",
      "简单年化收益率: 0.26681083850565596\n",
      "期间指数涨幅: 0.6207184628237259\n"
     ]
    }
   ],
   "source": [
    "code = 'sz159915'\n",
    "\n",
    "strategy1(code, 250, 10000,sell_pct=0.01, dingtou_mode='无脑')"
   ]
  },
  {
   "cell_type": "code",
   "execution_count": 334,
   "metadata": {},
   "outputs": [
    {
     "name": "stderr",
     "output_type": "stream",
     "text": [
      "C:\\Users\\ian\\Anaconda3\\lib\\site-packages\\pandas\\core\\indexing.py:132: SettingWithCopyWarning: \n",
      "A value is trying to be set on a copy of a slice from a DataFrame\n",
      "\n",
      "See the caveats in the documentation: http://pandas.pydata.org/pandas-docs/stable/indexing.html#indexing-view-versus-copy\n",
      "  self._setitem_with_indexer(indexer, value)\n"
     ]
    },
    {
     "name": "stdout",
     "output_type": "stream",
     "text": [
      "97\n",
      "1    96\n",
      "0     1\n",
      "Name: sell_flag, dtype: int64\n",
      "累计执行定投次数: 148\n",
      "净执行定投次数: 52\n",
      "累计投入本金: 1491219.6999999997\n",
      "净投入本金: 523410.9---------------------\n",
      "累计买入股数: 965000.0\n",
      "净持股数: 337300.0\n",
      "现在持股市值: 654362.0\n",
      "累计卖出金额: 986177.8110240003\n",
      "累计卖出手续费: 987.1649760000003\n",
      "---------累计绝对收益: 149320.11102400068------------------------------------\n",
      "累计收益率: 0.28528276928126767\n",
      "简单年化收益率: 0.28528276928126767\n",
      "期间指数涨幅: 0.6207184628237259\n"
     ]
    }
   ],
   "source": [
    "\n",
    "strategy1(code, 250, 10000,sell_pct=0.02, dingtou_mode='无脑')"
   ]
  },
  {
   "cell_type": "code",
   "execution_count": 335,
   "metadata": {},
   "outputs": [
    {
     "name": "stderr",
     "output_type": "stream",
     "text": [
      "C:\\Users\\ian\\Anaconda3\\lib\\site-packages\\pandas\\core\\indexing.py:132: SettingWithCopyWarning: \n",
      "A value is trying to be set on a copy of a slice from a DataFrame\n",
      "\n",
      "See the caveats in the documentation: http://pandas.pydata.org/pandas-docs/stable/indexing.html#indexing-view-versus-copy\n",
      "  self._setitem_with_indexer(indexer, value)\n"
     ]
    },
    {
     "name": "stdout",
     "output_type": "stream",
     "text": [
      "97\n",
      "1    96\n",
      "0     1\n",
      "Name: sell_flag, dtype: int64\n",
      "累计执行定投次数: 148\n",
      "净执行定投次数: 52\n",
      "累计投入本金: 1491219.6999999997\n",
      "净投入本金: 523410.9---------------------\n",
      "累计买入股数: 965000.0\n",
      "净持股数: 337300.0\n",
      "现在持股市值: 654362.0\n",
      "累计卖出金额: 995846.2209360001\n",
      "累计卖出手续费: 996.8430640000001\n",
      "---------累计绝对收益: 158988.5209360004------------------------------------\n",
      "累计收益率: 0.30375470005687766\n",
      "简单年化收益率: 0.30375470005687766\n",
      "期间指数涨幅: 0.6207184628237259\n"
     ]
    }
   ],
   "source": [
    "\n",
    "strategy1(code, 250, 10000,sell_pct=0.03, dingtou_mode='无脑')"
   ]
  },
  {
   "cell_type": "code",
   "execution_count": 336,
   "metadata": {},
   "outputs": [
    {
     "name": "stderr",
     "output_type": "stream",
     "text": [
      "C:\\Users\\ian\\Anaconda3\\lib\\site-packages\\pandas\\core\\indexing.py:132: SettingWithCopyWarning: \n",
      "A value is trying to be set on a copy of a slice from a DataFrame\n",
      "\n",
      "See the caveats in the documentation: http://pandas.pydata.org/pandas-docs/stable/indexing.html#indexing-view-versus-copy\n",
      "  self._setitem_with_indexer(indexer, value)\n"
     ]
    },
    {
     "name": "stdout",
     "output_type": "stream",
     "text": [
      "97\n",
      "1    95\n",
      "0     2\n",
      "Name: sell_flag, dtype: int64\n",
      "累计执行定投次数: 148\n",
      "净执行定投次数: 53\n",
      "累计投入本金: 1491219.6999999997\n",
      "净投入本金: 533573.7---------------------\n",
      "累计买入股数: 965000.0\n",
      "净持股数: 342700.0\n",
      "现在持股市值: 664838.0\n",
      "累计卖出金额: 994955.88816\n",
      "累计卖出手续费: 995.95184\n",
      "---------累计绝对收益: 168574.18816000037------------------------------------\n",
      "累计收益率: 0.3159342151983885\n",
      "简单年化收益率: 0.3159342151983885\n",
      "期间指数涨幅: 0.6207184628237259\n"
     ]
    }
   ],
   "source": [
    "\n",
    "strategy1(code, 250, 10000,sell_pct=0.04, dingtou_mode='无脑')"
   ]
  },
  {
   "cell_type": "code",
   "execution_count": 337,
   "metadata": {},
   "outputs": [
    {
     "name": "stderr",
     "output_type": "stream",
     "text": [
      "C:\\Users\\ian\\Anaconda3\\lib\\site-packages\\pandas\\core\\indexing.py:132: SettingWithCopyWarning: \n",
      "A value is trying to be set on a copy of a slice from a DataFrame\n",
      "\n",
      "See the caveats in the documentation: http://pandas.pydata.org/pandas-docs/stable/indexing.html#indexing-view-versus-copy\n",
      "  self._setitem_with_indexer(indexer, value)\n"
     ]
    },
    {
     "name": "stdout",
     "output_type": "stream",
     "text": [
      "97\n",
      "1    94\n",
      "0     3\n",
      "Name: sell_flag, dtype: int64\n",
      "累计执行定投次数: 148\n",
      "净执行定投次数: 54\n",
      "累计投入本金: 1491219.6999999997\n",
      "净投入本金: 543623.1---------------------\n",
      "累计买入股数: 965000.0\n",
      "净持股数: 348100.0\n",
      "现在持股市值: 675314.0\n",
      "累计卖出金额: 993981.4535700001\n",
      "累计卖出手续费: 994.9764300000002\n",
      "---------累计绝对收益: 178075.7535700004------------------------------------\n",
      "累计收益率: 0.3275720872972477\n",
      "简单年化收益率: 0.3275720872972477\n",
      "期间指数涨幅: 0.6207184628237259\n"
     ]
    }
   ],
   "source": [
    "\n",
    "strategy1(code, 250, 10000,sell_pct=0.05, dingtou_mode='无脑')"
   ]
  },
  {
   "cell_type": "code",
   "execution_count": 338,
   "metadata": {},
   "outputs": [
    {
     "name": "stderr",
     "output_type": "stream",
     "text": [
      "C:\\Users\\ian\\Anaconda3\\lib\\site-packages\\pandas\\core\\indexing.py:132: SettingWithCopyWarning: \n",
      "A value is trying to be set on a copy of a slice from a DataFrame\n",
      "\n",
      "See the caveats in the documentation: http://pandas.pydata.org/pandas-docs/stable/indexing.html#indexing-view-versus-copy\n",
      "  self._setitem_with_indexer(indexer, value)\n"
     ]
    },
    {
     "name": "stdout",
     "output_type": "stream",
     "text": [
      "97\n",
      "1    90\n",
      "0     7\n",
      "Name: sell_flag, dtype: int64\n",
      "累计执行定投次数: 148\n",
      "净执行定投次数: 58\n",
      "累计投入本金: 1491219.6999999997\n",
      "净投入本金: 584151.9000000001---------------------\n",
      "累计买入股数: 965000.0\n",
      "净持股数: 370200.0\n",
      "现在持股市值: 718188.0\n",
      "累计卖出金额: 996776.8054199999\n",
      "累计卖出手续费: 997.7745799999999\n",
      "---------累计绝对收益: 223745.10542000015------------------------------------\n",
      "累计收益率: 0.3830255545175837\n",
      "简单年化收益率: 0.3830255545175837\n",
      "期间指数涨幅: 0.6207184628237259\n"
     ]
    }
   ],
   "source": [
    "\n",
    "strategy1(code, 250, 10000, dingtou_mode='无脑')"
   ]
  },
  {
   "cell_type": "code",
   "execution_count": 262,
   "metadata": {},
   "outputs": [
    {
     "name": "stderr",
     "output_type": "stream",
     "text": [
      "C:\\Users\\ian\\Anaconda3\\lib\\site-packages\\pandas\\core\\indexing.py:132: SettingWithCopyWarning: \n",
      "A value is trying to be set on a copy of a slice from a DataFrame\n",
      "\n",
      "See the caveats in the documentation: http://pandas.pydata.org/pandas-docs/stable/indexing.html#indexing-view-versus-copy\n",
      "  self._setitem_with_indexer(indexer, value)\n"
     ]
    },
    {
     "name": "stdout",
     "output_type": "stream",
     "text": [
      "501\n",
      "1    481\n",
      "0     20\n",
      "Name: sell_flag, dtype: int64\n",
      "累计执行定投次数: 745\n",
      "净执行定投次数: 264\n",
      "累计投入本金: 7517752.299999997\n",
      "净投入本金: 2664057.700000001---------------------\n",
      "累计买入股数: 4282300.0\n",
      "净持股数: 1495300.0\n",
      "现在持股市值: 2900882.0\n",
      "累计卖出金额: 4897329.314453995\n",
      "累计卖出手续费: 4902.2315459999945\n",
      "---------累计绝对收益: 5134153.614453994------------------------------------\n",
      "累计收益率: 1.9271930988784485\n",
      "简单年化收益率: 0.3854386197756897\n",
      "期间指数涨幅: 0.23018389346861134\n"
     ]
    }
   ],
   "source": [
    "code = 'sz159915'\n",
    "\n",
    "strategy1(code, 1250, 10000,sell_pct=0.01, dingtou_mode='无脑')"
   ]
  },
  {
   "cell_type": "code",
   "execution_count": 263,
   "metadata": {},
   "outputs": [
    {
     "name": "stderr",
     "output_type": "stream",
     "text": [
      "C:\\Users\\ian\\Anaconda3\\lib\\site-packages\\pandas\\core\\indexing.py:132: SettingWithCopyWarning: \n",
      "A value is trying to be set on a copy of a slice from a DataFrame\n",
      "\n",
      "See the caveats in the documentation: http://pandas.pydata.org/pandas-docs/stable/indexing.html#indexing-view-versus-copy\n",
      "  self._setitem_with_indexer(indexer, value)\n"
     ]
    },
    {
     "name": "stdout",
     "output_type": "stream",
     "text": [
      "501\n",
      "1    463\n",
      "0     38\n",
      "Name: sell_flag, dtype: int64\n",
      "累计执行定投次数: 745\n",
      "净执行定投次数: 282\n",
      "累计投入本金: 7517752.299999997\n",
      "净投入本金: 2846782.7000000025---------------------\n",
      "累计买入股数: 4282300.0\n",
      "净持股数: 1570300.0\n",
      "现在持股市值: 3046382.0\n",
      "累计卖出金额: 4759624.603007999\n",
      "累计卖出手续费: 4764.388992\n",
      "---------累计绝对收益: 4959223.903007997------------------------------------\n",
      "累计收益率: 1.7420451174611933\n",
      "简单年化收益率: 0.3484090234922387\n",
      "期间指数涨幅: 0.23018389346861134\n"
     ]
    }
   ],
   "source": [
    "\n",
    "strategy1(code, 1250, 10000,sell_pct=0.02, dingtou_mode='无脑')"
   ]
  },
  {
   "cell_type": "code",
   "execution_count": 264,
   "metadata": {},
   "outputs": [
    {
     "name": "stderr",
     "output_type": "stream",
     "text": [
      "C:\\Users\\ian\\Anaconda3\\lib\\site-packages\\pandas\\core\\indexing.py:132: SettingWithCopyWarning: \n",
      "A value is trying to be set on a copy of a slice from a DataFrame\n",
      "\n",
      "See the caveats in the documentation: http://pandas.pydata.org/pandas-docs/stable/indexing.html#indexing-view-versus-copy\n",
      "  self._setitem_with_indexer(indexer, value)\n"
     ]
    },
    {
     "name": "stdout",
     "output_type": "stream",
     "text": [
      "501\n",
      "1    441\n",
      "0     60\n",
      "Name: sell_flag, dtype: int64\n",
      "累计执行定投次数: 745\n",
      "净执行定投次数: 304\n",
      "累计投入本金: 7517752.299999997\n",
      "净投入本金: 3069055.7000000025---------------------\n",
      "累计买入股数: 4282300.0\n",
      "净持股数: 1676800.0\n",
      "现在持股市值: 3252992.0\n",
      "累计卖出金额: 4577575.340501997\n",
      "累计卖出手续费: 4582.157497999997\n",
      "---------累计绝对收益: 4761511.640501995------------------------------------\n",
      "累计收益率: 1.5514582027631465\n",
      "简单年化收益率: 0.3102916405526293\n",
      "期间指数涨幅: 0.23018389346861134\n"
     ]
    }
   ],
   "source": [
    "\n",
    "strategy1(code, 1250, 10000,sell_pct=0.03, dingtou_mode='无脑')"
   ]
  },
  {
   "cell_type": "code",
   "execution_count": 265,
   "metadata": {},
   "outputs": [
    {
     "name": "stderr",
     "output_type": "stream",
     "text": [
      "C:\\Users\\ian\\Anaconda3\\lib\\site-packages\\pandas\\core\\indexing.py:132: SettingWithCopyWarning: \n",
      "A value is trying to be set on a copy of a slice from a DataFrame\n",
      "\n",
      "See the caveats in the documentation: http://pandas.pydata.org/pandas-docs/stable/indexing.html#indexing-view-versus-copy\n",
      "  self._setitem_with_indexer(indexer, value)\n"
     ]
    },
    {
     "name": "stdout",
     "output_type": "stream",
     "text": [
      "501\n",
      "1    426\n",
      "0     75\n",
      "Name: sell_flag, dtype: int64\n",
      "累计执行定投次数: 745\n",
      "净执行定投次数: 319\n",
      "累计投入本金: 7517752.299999997\n",
      "净投入本金: 3220571.100000002---------------------\n",
      "累计买入股数: 4282300.0\n",
      "净持股数: 1751000.0\n",
      "现在持股市值: 3396940.0\n",
      "累计卖出金额: 4464599.379552004\n",
      "累计卖出手续费: 4469.068448000004\n",
      "---------累计绝对收益: 4640968.2795520015------------------------------------\n",
      "累计收益率: 1.4410389137355168\n",
      "简单年化收益率: 0.28820778274710335\n",
      "期间指数涨幅: 0.23018389346861134\n"
     ]
    }
   ],
   "source": [
    "\n",
    "strategy1(code, 1250, 10000,sell_pct=0.04, dingtou_mode='无脑')"
   ]
  },
  {
   "cell_type": "code",
   "execution_count": 266,
   "metadata": {},
   "outputs": [
    {
     "name": "stderr",
     "output_type": "stream",
     "text": [
      "C:\\Users\\ian\\Anaconda3\\lib\\site-packages\\pandas\\core\\indexing.py:132: SettingWithCopyWarning: \n",
      "A value is trying to be set on a copy of a slice from a DataFrame\n",
      "\n",
      "See the caveats in the documentation: http://pandas.pydata.org/pandas-docs/stable/indexing.html#indexing-view-versus-copy\n",
      "  self._setitem_with_indexer(indexer, value)\n"
     ]
    },
    {
     "name": "stdout",
     "output_type": "stream",
     "text": [
      "501\n",
      "1    413\n",
      "0     88\n",
      "Name: sell_flag, dtype: int64\n",
      "累计执行定投次数: 745\n",
      "净执行定投次数: 332\n",
      "累计投入本金: 7517752.299999997\n",
      "净投入本金: 3352018.3000000026---------------------\n",
      "累计买入股数: 4282300.0\n",
      "净持股数: 1815700.0\n",
      "现在持股市值: 3522458.0\n",
      "累计卖出金额: 4369646.6793\n",
      "累计卖出手续费: 4374.0207\n",
      "---------累计绝对收益: 4540086.379299997------------------------------------\n",
      "累计收益率: 1.354433649511995\n",
      "简单年化收益率: 0.27088672990239904\n",
      "期间指数涨幅: 0.23018389346861134\n"
     ]
    }
   ],
   "source": [
    "\n",
    "strategy1(code, 1250, 10000,sell_pct=0.05, dingtou_mode='无脑')"
   ]
  },
  {
   "cell_type": "code",
   "execution_count": 267,
   "metadata": {
    "scrolled": true
   },
   "outputs": [
    {
     "name": "stderr",
     "output_type": "stream",
     "text": [
      "C:\\Users\\ian\\Anaconda3\\lib\\site-packages\\pandas\\core\\indexing.py:132: SettingWithCopyWarning: \n",
      "A value is trying to be set on a copy of a slice from a DataFrame\n",
      "\n",
      "See the caveats in the documentation: http://pandas.pydata.org/pandas-docs/stable/indexing.html#indexing-view-versus-copy\n",
      "  self._setitem_with_indexer(indexer, value)\n"
     ]
    },
    {
     "name": "stdout",
     "output_type": "stream",
     "text": [
      "501\n",
      "1    343\n",
      "0    158\n",
      "Name: sell_flag, dtype: int64\n",
      "累计执行定投次数: 745\n",
      "净执行定投次数: 402\n",
      "累计投入本金: 7517752.299999997\n",
      "净投入本金: 4059217.4000000046---------------------\n",
      "累计买入股数: 4282300.0\n",
      "净持股数: 2169400.0\n",
      "现在持股市值: 4208636.0\n",
      "累计卖出金额: 3800584.00161\n",
      "累计卖出手续费: 3804.38839\n",
      "---------累计绝对收益: 3950002.601609995------------------------------------\n",
      "累计收益率: 0.973094617107719\n",
      "简单年化收益率: 0.1946189234215438\n",
      "期间指数涨幅: 0.23018389346861134\n"
     ]
    }
   ],
   "source": [
    "\n",
    "strategy1(code, 1250, 10000, dingtou_mode='无脑')"
   ]
  },
  {
   "cell_type": "code",
   "execution_count": null,
   "metadata": {},
   "outputs": [],
   "source": []
  }
 ],
 "metadata": {
  "kernelspec": {
   "display_name": "Python 3",
   "language": "python",
   "name": "python3"
  },
  "language_info": {
   "codemirror_mode": {
    "name": "ipython",
    "version": 3
   },
   "file_extension": ".py",
   "mimetype": "text/x-python",
   "name": "python",
   "nbconvert_exporter": "python",
   "pygments_lexer": "ipython3",
   "version": "3.7.3"
  },
  "toc": {
   "base_numbering": 1,
   "nav_menu": {},
   "number_sections": true,
   "sideBar": true,
   "skip_h1_title": false,
   "title_cell": "Table of Contents",
   "title_sidebar": "Contents",
   "toc_cell": false,
   "toc_position": {},
   "toc_section_display": true,
   "toc_window_display": true
  }
 },
 "nbformat": 4,
 "nbformat_minor": 2
}
