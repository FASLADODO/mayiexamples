{
 "cells": [
  {
   "cell_type": "markdown",
   "metadata": {},
   "source": [
    "# 第六章 贷款按揭分析"
   ]
  },
  {
   "cell_type": "markdown",
   "metadata": {},
   "source": [
    "## 概念和符号表示\n",
    "FV为终值，PV为现值，T为时间，R为利率"
   ]
  },
  {
   "cell_type": "markdown",
   "metadata": {},
   "source": [
    "## 货币时间价值"
   ]
  },
  {
   "cell_type": "markdown",
   "metadata": {},
   "source": [
    "银行存款利率为5%，若想3年后获得10000元，现在需要存入多少钱？"
   ]
  },
  {
   "cell_type": "markdown",
   "metadata": {},
   "source": [
    "### 单利终值和现值"
   ]
  },
  {
   "cell_type": "code",
   "execution_count": 1,
   "metadata": {},
   "outputs": [
    {
     "name": "stdout",
     "output_type": "stream",
     "text": [
      "现在应该往银行存入8695.65元\n"
     ]
    }
   ],
   "source": [
    "import numpy as np\n",
    "FV = 10000;T=3;r=0.05\n",
    "PV  =10000/(1+0.05*3)\n",
    "print ('现在应该往银行存入%.2f元' % PV)"
   ]
  },
  {
   "cell_type": "markdown",
   "metadata": {},
   "source": [
    "### 复利终值和现值\n",
    "复利顾名思义，就是指在借贷过程中，不仅本金要计算利息，而且本金所产生的利息也要在 下期开始计算利息，也就是所谓的“利滚利” 。"
   ]
  },
  {
   "cell_type": "code",
   "execution_count": 2,
   "metadata": {},
   "outputs": [
    {
     "name": "stdout",
     "output_type": "stream",
     "text": [
      "现在应该往银行存入8638.38元\n",
      "现在应该往银行存入8622.97元\n"
     ]
    }
   ],
   "source": [
    "FV = 10000;T=3;r=0.05\n",
    "PV  =10000/(1+0.05)**3\n",
    "print ('现在应该往银行存入%.2f元' % PV)\n",
    "PV  =10000/(1+0.05/2)**6\n",
    "print ('现在应该往银行存入%.2f元' % PV)"
   ]
  },
  {
   "cell_type": "markdown",
   "metadata": {},
   "source": [
    "### 连续复利\n",
    "连续复利是指，期数趋于无限大的情况下得到的利率，此时不同时期的间隔很短，例如，在借贷过程中 ，利息每个月支付一次或者每天支付一次，在这种情况下，就叫做连续复利"
   ]
  },
  {
   "cell_type": "code",
   "execution_count": 3,
   "metadata": {},
   "outputs": [
    {
     "name": "stdout",
     "output_type": "stream",
     "text": [
      "现在应该往银行存入8607.08元\n"
     ]
    }
   ],
   "source": [
    "#年化利率为5%，按照每个月复利一次\n",
    "PV  =10000* np.exp(-3*r)\n",
    "print ('现在应该往银行存入%.2f元' % PV)"
   ]
  },
  {
   "cell_type": "code",
   "execution_count": 5,
   "metadata": {},
   "outputs": [
    {
     "data": {
      "image/png": "[encoded data removed]",
      "text/plain": [
       "<Figure size 432x288 with 1 Axes>"
      ]
     },
     "metadata": {
      "needs_background": "light"
     },
     "output_type": "display_data"
    }
   ],
   "source": [
    "# 调整复利计息频数\n",
    "# 计算实际每年收益率\n",
    "R_continous =[]\n",
    "R = 0.05\n",
    "for i in range(1,366):\n",
    "    r = (1+R/i)**i\n",
    "    R_continous.append(r)\n",
    "limit = np.ones(len(R_continous))* np.exp(R)\n",
    "import matplotlib.pyplot as plt\n",
    "%matplotlib inline\n",
    "plt.plot(R_continous,label='continous')\n",
    "plt.plot(limit,label = 'limit' )\n",
    "plt.legend(loc='upper right')\n",
    "#plt.title('')\n",
    "plt.show()"
   ]
  },
  {
   "cell_type": "markdown",
   "metadata": {},
   "source": [
    "## 固定现金流计算"
   ]
  },
  {
   "cell_type": "markdown",
   "metadata": {},
   "source": [
    "以国债为例，10年期面值为1000元的国债，票面利率为5%，并在第十年收到1000元本金，假设贴现 率为6%，贴现周期为10年，利息为50元，那么现值和终值计算公式为:"
   ]
  },
  {
   "cell_type": "code",
   "execution_count": 15,
   "metadata": {},
   "outputs": [],
   "source": [
    "# 固定现金流计算PV\n",
    "FaceValue = 1000\n",
    "Payment =1000*0.05 # 债券收益(每期)\n",
    "Rate = 0.06 #贴现率\n",
    "final_payment = 1000 #到期还本,也可以理解为FV\n",
    "Num = 10\n",
    "Due = 0 #现金流计息方式(0为周期末付息，1为周期内付息)"
   ]
  },
  {
   "cell_type": "code",
   "execution_count": 16,
   "metadata": {},
   "outputs": [
    {
     "name": "stdout",
     "output_type": "stream",
     "text": [
      "当前现值为926.40元\n"
     ]
    }
   ],
   "source": [
    "Presentvalue = abs(np.pv(Rate,Num,Payment,final_payment,Due))\n",
    "print ('当前现值为%.2f元' % Presentvalue)"
   ]
  },
  {
   "cell_type": "code",
   "execution_count": 17,
   "metadata": {},
   "outputs": [
    {
     "name": "stdout",
     "output_type": "stream",
     "text": [
      "当前终值为2449.89元\n"
     ]
    }
   ],
   "source": [
    "# 固定现金流计算FV\n",
    "FutureValue = abs(np.fv(Rate,Num,Payment,final_payment,Due))\n",
    "print ('当前终值为%.2f元' % FutureValue)"
   ]
  },
  {
   "cell_type": "code",
   "execution_count": 18,
   "metadata": {},
   "outputs": [
    {
     "name": "stdout",
     "output_type": "stream",
     "text": [
      "当前现值为926.40元\n"
     ]
    }
   ],
   "source": [
    "#用自己编写函数\n",
    "def PV(face_value, payment, num,r):\n",
    "    Pv_v = 0  # 初始值(是每期收益贴现后的现值\n",
    "    for i in range(1,num+1):\n",
    "        pv = 50/(1+r)**i\n",
    "        Pv_v  = Pv_v + pv\n",
    "    face_value_p = face_value/(1+r)**num #最后一次现金流贴现\n",
    "    return Pv_v + face_value_p\n",
    "\n",
    "Presentvalue = PV(1000, 50, 10,0.06)\n",
    "print ('当前现值为%.2f元' % Presentvalue)"
   ]
  },
  {
   "cell_type": "code",
   "execution_count": 19,
   "metadata": {},
   "outputs": [
    {
     "name": "stdout",
     "output_type": "stream",
     "text": [
      "终值为2449.89元\n"
     ]
    }
   ],
   "source": [
    "#用自己编写函数\n",
    "def FV(face_value, payment, num,r):\n",
    "    Fv_v = 0\n",
    "    for i in np.arange(0, 10):\n",
    "        fv = 50*(1+r)**i\n",
    "        Fv_v  = Fv_v + fv\n",
    "    face_value_f = face_value*(1+r)**num\n",
    "    return Fv_v + face_value_f\n",
    "\n",
    "Future_value = FV(1000, 50, 10,0.06)\n",
    "print ('终值为%.2f元' % Future_value )"
   ]
  },
  {
   "cell_type": "markdown",
   "metadata": {},
   "source": [
    "## 变化现金流计算"
   ]
  },
  {
   "cell_type": "markdown",
   "metadata": {},
   "source": [
    "在实际项目投资中，每期产生的现金流可能是变化的，比如投资买了一台设备，该设备带来的现 金流是变化的，这个时候也需要测算投资时候合适，通常测算投资是否合适，往往有两种方法比 较适合。"
   ]
  },
  {
   "cell_type": "markdown",
   "metadata": {},
   "source": [
    "### NPV\n",
    "投资项目投入使用后的净现金流量，按资本成本或企业要求达到的报酬率折算为现值，减去初始 投资以后的余额，叫净现值(net present value,NPV)"
   ]
  },
  {
   "cell_type": "code",
   "execution_count": 20,
   "metadata": {},
   "outputs": [
    {
     "name": "stdout",
     "output_type": "stream",
     "text": [
      "投资可以接受\n"
     ]
    }
   ],
   "source": [
    "# NPV\n",
    "import scipy as sp\n",
    "cashflows=[-10000,3000,3500,7000,8000,2000]\n",
    "sp.npv(0.112,cashflows)\n",
    "if sp.npv(0.112,cashflows) > 0:\n",
    "    print ('投资可以接受')\n",
    "else:\n",
    "    print('投资不可行')"
   ]
  },
  {
   "cell_type": "markdown",
   "metadata": {},
   "source": [
    "### IRR\n",
    "内部收益率(IRR),就是资金流入现值总额与资金流出现值总额相等时，即净现值等于0时的折现率 ，可以理解为一项项目渴望达到的报酬率，一般情况下，内部收益率大于必要收益率时，该项目 可行，否则，不可行。\n",
    "\n",
    "$$-Invest + \\sum_{i=0}^n \\frac {CF_i}{(1+Rate)^i} = 0$$\n",
    "求解Rate  \n",
    "这个Rate就是使得净现值等于0时的内部收益率，该指标越大越好"
   ]
  },
  {
   "cell_type": "code",
   "execution_count": 21,
   "metadata": {},
   "outputs": [
    {
     "name": "stdout",
     "output_type": "stream",
     "text": [
      "内部收益率为: 21.1762%\n"
     ]
    }
   ],
   "source": [
    "# IRR\n",
    "# 计算IRR\n",
    "cashflows = [-6000,2500,1500,3000,1000,2000]\n",
    "IRR = np.irr(cashflows)\n",
    "print('内部收益率为: %.4f%%' % (100*IRR))"
   ]
  },
  {
   "cell_type": "code",
   "execution_count": 22,
   "metadata": {},
   "outputs": [
    {
     "name": "stdout",
     "output_type": "stream",
     "text": [
      "内部收益率为: 21.1762%\n"
     ]
    }
   ],
   "source": [
    "#使用函数\n",
    "def IRR_rate(initial_invest,cash_flow,R):\n",
    "    cash_total = 0\n",
    "    for i in range(0,len(cash_flow)):\n",
    "        cash_in = cash_flow[i]/(1+R)**(i+1)\n",
    "        cash_total = cash_total +cash_in\n",
    "    npv = initial_invest + cash_total\n",
    "    return npv\n",
    "# 用数值方法求解\n",
    "from scipy.optimize import fsolve\n",
    "initial_invest = -6000\n",
    "cash_flow = [2500,1500,3000,1000,2000]\n",
    "\n",
    "irr = fsolve(lambda R: IRR_rate(initial_invest,cash_flow,R),0.08)\n",
    "print('内部收益率为: %.4f%%' % (100*irr))"
   ]
  },
  {
   "cell_type": "markdown",
   "metadata": {},
   "source": [
    "## 年金现金流计算\n",
    "是在定期或者不定期的时间内一系列的现金流入或者流出，年金终值包括各年存入的本金相加以 及各年存入的本金所产生的利息，以按揭贷款为例\n",
    "\n",
    "* 例如，投资者贷款50万元买房，还款期限10年，每月还款3000，贷款利率为多少 "
   ]
  },
  {
   "cell_type": "code",
   "execution_count": 23,
   "metadata": {},
   "outputs": [
    {
     "name": "stdout",
     "output_type": "stream",
     "text": [
      "年化利率为: 3.8862%\n"
     ]
    }
   ],
   "source": [
    "#计算年化利率\n",
    "Num =240\n",
    "payment =-3000\n",
    "PV =500000\n",
    "FV =0\n",
    "due = 0 #期末还款\n",
    "Rate = np.rate(Num,payment,PV,FV,due)\n",
    "print('年化利率为: %.4f%%' % (100*Rate*12))"
   ]
  },
  {
   "cell_type": "markdown",
   "metadata": {},
   "source": [
    "* 例如，投资者贷款50万元买房，利率不变，每月还款4000，还款期限为多少"
   ]
  },
  {
   "cell_type": "code",
   "execution_count": 24,
   "metadata": {},
   "outputs": [
    {
     "name": "stdout",
     "output_type": "stream",
     "text": [
      "周期为:160.48125328325278\n"
     ]
    }
   ],
   "source": [
    "#计算周期\n",
    "rate = 0.038862/12\n",
    "payment =-4000\n",
    "PV =500000\n",
    "FV =0\n",
    "Periods = np.nper(rate,payment,PV,FV,when='end')\n",
    "print('周期为:%s' % Periods )"
   ]
  },
  {
   "cell_type": "markdown",
   "metadata": {},
   "source": [
    "## 按揭贷款分析\n",
    "在商业按揭贷款中，通常有两种方式比较常见 \n",
    "* 等额还款\n",
    "* 等额本金还款"
   ]
  },
  {
   "cell_type": "markdown",
   "metadata": {},
   "source": [
    "### 等额还款\n",
    "假设贷款本金50万元，10年共还款120期，年贷款利率为5%，若每月还款5000元，则贷款余额为 多少"
   ]
  },
  {
   "cell_type": "code",
   "execution_count": 25,
   "metadata": {},
   "outputs": [
    {
     "name": "stdout",
     "output_type": "stream",
     "text": [
      "贷款余额还剩下: 47093.35\n"
     ]
    }
   ],
   "source": [
    "# 等额还款\n",
    "def Ajfixpayment(MP,Num,B,rate):\n",
    "    # MP 月还款额\n",
    "    # Num 期数\n",
    "    # B 贷款本金\n",
    "    # rate 贷款利率\n",
    "    # 初始化相关变量\n",
    "    # 初始化行向量，用来存储每次循环的值\n",
    "    IR = [0] * Num # 月利息\n",
    "    YE = [0] * Num  # 贷款余额\n",
    "    BJ = [0] * Num  # 每月偿还本金\n",
    "    # 第一个月初贷款余额等于本金\n",
    "    YE[0] = B\n",
    "    for i in range(Num):\n",
    "        IR[i] = Rate * YE[i]\n",
    "        BJ[i] = MP - IR[i]\n",
    "        # 不是最后一次还款\n",
    "        if i < Num - 1:\n",
    "            YE[i+1] = YE[i] - BJ[i] #第i+1期本金等于第i期本金 - 第i期归还本金\n",
    "    return B - sum(BJ) #剩余本金\n",
    "\n",
    "#设置相关参数\n",
    "Num =120\n",
    "B = 500000\n",
    "Rate = 0.05/12\n",
    "MP = 5000\n",
    "F = Ajfixpayment(MP,Num,B,Rate)\n",
    "print ('贷款余额还剩下: %.2f' % F)"
   ]
  },
  {
   "cell_type": "markdown",
   "metadata": {},
   "source": [
    "假设贷款本金50万元，10年共还款120期，年贷款利率为5%，10年后还清，每月应该还多少?"
   ]
  },
  {
   "cell_type": "code",
   "execution_count": 26,
   "metadata": {},
   "outputs": [
    {
     "name": "stdout",
     "output_type": "stream",
     "text": [
      "每月贷款应还款为5303.28元\n",
      "每月贷款应还款为5303.28元\n"
     ]
    }
   ],
   "source": [
    "#找到MP(每月应该还款多少)\n",
    "from scipy.optimize import fsolve\n",
    "# 初始值5000\n",
    "Mpo = 5000\n",
    "MP = fsolve(lambda MP: Ajfixpayment(MP,Num,B,Rate), Mpo)\n",
    "print ('每月贷款应还款为%.2f元' % MP)\n",
    "\n",
    "#用公式\n",
    "r =0.05/12\n",
    "MP = 500000* (r*(1+r)**120)/ ((1+r)**120 -1 )\n",
    "print ('每月贷款应还款为%.2f元' % MP)"
   ]
  },
  {
   "cell_type": "markdown",
   "metadata": {},
   "source": [
    "### 等额本金还款\n",
    "借款人每期偿还等额本金，同时付清每个月的贷款利息，所以每期归还的本金等于贷款总额除以 贷款期数\n",
    " 假设 R为月贷款利率, B为贷款本金, MB为月还本金,n 为期限"
   ]
  },
  {
   "cell_type": "code",
   "execution_count": 1,
   "metadata": {},
   "outputs": [
    {
     "name": "stdout",
     "output_type": "stream",
     "text": [
      "每月贷款应还款为[6250.0, 6232.638888888889, 6215.277777777777, 6197.916666666667, 6180.555555555556, 6163.194444444444, 6145.833333333333, 6128.472222222222, 6111.11111111111, 6093.75, 6076.388888888889, 6059.027777777777, 6041.666666666666, 6024.305555555555, 6006.944444444443, 5989.583333333332, 5972.222222222221, 5954.8611111111095, 5937.499999999999, 5920.138888888888, 5902.7777777777765, 5885.416666666665, 5868.055555555554, 5850.6944444444425, 5833.333333333332, 5815.972222222221, 5798.6111111111095, 5781.249999999998, 5763.888888888887, 5746.527777777776, 5729.166666666664, 5711.805555555553, 5694.444444444442, 5677.083333333331, 5659.72222222222, 5642.361111111109, 5624.999999999997, 5607.638888888886, 5590.277777777776, 5572.916666666664, 5555.555555555553, 5538.194444444442, 5520.83333333333, 5503.472222222219, 5486.111111111108, 5468.749999999996, 5451.388888888885, 5434.027777777774, 5416.666666666663, 5399.305555555552, 5381.944444444441, 5364.583333333329, 5347.222222222218, 5329.861111111108, 5312.499999999996, 5295.138888888885, 5277.777777777774, 5260.416666666662, 5243.055555555551, 5225.69444444444, 5208.333333333329, 5190.972222222218, 5173.611111111107, 5156.249999999996, 5138.888888888885, 5121.527777777774, 5104.166666666662, 5086.805555555552, 5069.444444444441, 5052.083333333329, 5034.722222222218, 5017.361111111108, 4999.999999999996, 4982.638888888885, 4965.277777777774, 4947.916666666663, 4930.555555555552, 4913.194444444441, 4895.83333333333, 4878.472222222219, 4861.111111111108, 4843.749999999996, 4826.388888888886, 4809.027777777775, 4791.666666666663, 4774.305555555552, 4756.944444444442, 4739.58333333333, 4722.222222222219, 4704.861111111108, 4687.499999999997, 4670.138888888886, 4652.777777777775, 4635.416666666663, 4618.055555555552, 4600.694444444442, 4583.33333333333, 4565.972222222219, 4548.611111111108, 4531.249999999996, 4513.888888888886, 4496.527777777775, 4479.166666666663, 4461.805555555552, 4444.444444444441, 4427.08333333333, 4409.722222222219, 4392.361111111108, 4374.999999999996, 4357.638888888886, 4340.277777777775, 4322.916666666663, 4305.555555555552, 4288.194444444441, 4270.83333333333, 4253.472222222219, 4236.111111111108, 4218.749999999996, 4201.388888888886, 4184.027777777775] \n",
      "\n"
     ]
    }
   ],
   "source": [
    "# # # # # # 等额本金还款\n",
    "def AJvarPayment(Num,B,Rate):\n",
    "    MB = B/Num #每月本金\n",
    "    # 初始化相关变量\n",
    "    IR = [0]*Num #每月利息\n",
    "    YE = [0]*Num #每月贷款余额\n",
    "    MP = [0]*Num  #每月还款额\n",
    "    YE[0] = B\n",
    "    for i in range(0,Num):\n",
    "        IR[i] = YE[i] * Rate\n",
    "        MP[i] = MB + IR[i]\n",
    "        if i < Num - 1:\n",
    "            YE[i + 1] = YE[i] - MB\n",
    "    return MP\n",
    "# 设置参数\n",
    "Rate = 0.05/12\n",
    "Num =120\n",
    "B =500000\n",
    "MP = AJvarPayment(Num,B,Rate)\n",
    "print ('每月贷款应还款为%s \\n' % MP)"
   ]
  },
  {
   "cell_type": "code",
   "execution_count": 5,
   "metadata": {
    "scrolled": false
   },
   "outputs": [
    {
     "data": {
      "image/png": "[encoded data removed]",
      "text/plain": [
       "<Figure size 432x288 with 1 Axes>"
      ]
     },
     "metadata": {
      "needs_background": "light"
     },
     "output_type": "display_data"
    }
   ],
   "source": [
    "import matplotlib.pyplot as plt\n",
    "import numpy as np\n",
    "%matplotlib inline\n",
    "# 支持中文显示\n",
    "plt.rcParams['font.sans-serif'] = ['Arial Unicode MS']\n",
    "plt.rcParams['axes.unicode_minus'] = False\n",
    "r= 0.05/12\n",
    "MP_fix = np.ones(len(MP))*500000* (r*(1+r)**120)/ ((1+r)**120 -1 )\n",
    "plt.plot(MP,label ='等额本金')\n",
    "plt.plot(MP_fix,label='等额')\n",
    "plt.legend(loc='upper right')\n",
    "plt.show()"
   ]
  },
  {
   "cell_type": "markdown",
   "metadata": {},
   "source": [
    "## hw06"
   ]
  },
  {
   "cell_type": "markdown",
   "metadata": {},
   "source": [
    "### Q1\n",
    "\n",
    "贷款100万元，如果20年还清，年贷款利率为6%，如果按照等额还款，每月需要还款多少，如果按照等额本金还款，绘制每月还款额度\n",
    "\n",
    "通过做图画比较，两种还款方式，每月还款的本金，利息以及总还款额和剩余本金(绘制图形，展示两种方式下，每月的还款额，本金以及利息和剩余本金）\n",
    "\n",
    "以及两种还款方式下，两种还款方式下总还款额的差值。"
   ]
  },
  {
   "cell_type": "code",
   "execution_count": 7,
   "metadata": {},
   "outputs": [
    {
     "name": "stdout",
     "output_type": "stream",
     "text": [
      "每月贷款应还款为7164.31元\n"
     ]
    }
   ],
   "source": [
    "#用公式\n",
    "r =0.06/12\n",
    "MP1 = 1000000* (r*(1+r)**240)/ ((1+r)**240 -1 )\n",
    "print ('每月贷款应还款为%.2f元' % MP1)"
   ]
  },
  {
   "cell_type": "code",
   "execution_count": 8,
   "metadata": {},
   "outputs": [
    {
     "name": "stdout",
     "output_type": "stream",
     "text": [
      "每月贷款应还款为[9166.666666666668, 9145.833333333334, 9125.0, 9104.166666666668, 9083.333333333336, 9062.500000000002, 9041.666666666668, 9020.833333333336, 9000.000000000002, 8979.166666666668, 8958.333333333336, 8937.500000000004, 8916.66666666667, 8895.833333333336, 8875.000000000004, 8854.16666666667, 8833.333333333336, 8812.500000000004, 8791.666666666672, 8770.833333333338, 8750.000000000004, 8729.166666666672, 8708.333333333338, 8687.500000000004, 8666.666666666672, 8645.83333333334, 8625.000000000005, 8604.166666666672, 8583.33333333334, 8562.500000000007, 8541.666666666673, 8520.83333333334, 8500.000000000007, 8479.166666666673, 8458.33333333334, 8437.500000000007, 8416.666666666675, 8395.833333333341, 8375.000000000007, 8354.166666666675, 8333.333333333341, 8312.500000000007, 8291.666666666675, 8270.833333333343, 8250.00000000001, 8229.166666666675, 8208.333333333343, 8187.500000000009, 8166.666666666677, 8145.833333333343, 8125.00000000001, 8104.166666666677, 8083.333333333344, 8062.500000000011, 8041.666666666677, 8020.833333333345, 8000.000000000011, 7979.166666666678, 7958.333333333345, 7937.500000000012, 7916.666666666679, 7895.833333333346, 7875.000000000013, 7854.166666666679, 7833.333333333347, 7812.500000000013, 7791.66666666668, 7770.833333333347, 7750.000000000014, 7729.166666666681, 7708.333333333347, 7687.500000000015, 7666.666666666681, 7645.8333333333485, 7625.000000000015, 7604.1666666666815, 7583.3333333333485, 7562.5000000000155, 7541.666666666682, 7520.8333333333485, 7500.000000000016, 7479.166666666682, 7458.333333333349, 7437.500000000016, 7416.666666666683, 7395.83333333335, 7375.000000000017, 7354.166666666684, 7333.33333333335, 7312.500000000018, 7291.666666666684, 7270.833333333351, 7250.000000000018, 7229.166666666685, 7208.333333333352, 7187.500000000018, 7166.666666666686, 7145.833333333352, 7125.00000000002, 7104.166666666686, 7083.333333333353, 7062.50000000002, 7041.666666666687, 7020.833333333354, 7000.00000000002, 6979.166666666688, 6958.333333333354, 6937.500000000021, 6916.666666666688, 6895.833333333355, 6875.000000000022, 6854.166666666688, 6833.333333333356, 6812.500000000022, 6791.66666666669, 6770.833333333356, 6750.000000000022, 6729.166666666689, 6708.333333333356, 6687.500000000022, 6666.666666666688, 6645.833333333356, 6625.000000000022, 6604.166666666688, 6583.333333333355, 6562.500000000022, 6541.666666666688, 6520.833333333354, 6500.000000000021, 6479.166666666688, 6458.333333333354, 6437.500000000021, 6416.666666666688, 6395.833333333354, 6375.00000000002, 6354.166666666687, 6333.333333333354, 6312.50000000002, 6291.666666666687, 6270.833333333354, 6250.00000000002, 6229.166666666686, 6208.333333333353, 6187.50000000002, 6166.666666666686, 6145.833333333353, 6125.000000000019, 6104.166666666686, 6083.333333333352, 6062.500000000019, 6041.666666666686, 6020.833333333352, 6000.000000000019, 5979.166666666685, 5958.333333333352, 5937.500000000018, 5916.666666666685, 5895.833333333352, 5875.000000000018, 5854.166666666684, 5833.333333333351, 5812.500000000018, 5791.666666666684, 5770.833333333351, 5750.000000000017, 5729.166666666684, 5708.33333333335, 5687.500000000017, 5666.666666666684, 5645.83333333335, 5625.000000000017, 5604.166666666683, 5583.33333333335, 5562.500000000016, 5541.666666666683, 5520.83333333335, 5500.000000000016, 5479.166666666683, 5458.333333333349, 5437.500000000016, 5416.666666666683, 5395.83333333335, 5375.000000000016, 5354.166666666683, 5333.33333333335, 5312.500000000016, 5291.666666666683, 5270.83333333335, 5250.000000000016, 5229.166666666683, 5208.33333333335, 5187.500000000017, 5166.666666666683, 5145.83333333335, 5125.000000000017, 5104.166666666684, 5083.33333333335, 5062.500000000017, 5041.666666666684, 5020.83333333335, 5000.000000000017, 4979.166666666684, 4958.333333333351, 4937.500000000017, 4916.666666666684, 4895.833333333351, 4875.000000000018, 4854.166666666684, 4833.333333333351, 4812.500000000018, 4791.666666666684, 4770.833333333351, 4750.000000000018, 4729.166666666684, 4708.333333333351, 4687.500000000017, 4666.666666666684, 4645.833333333351, 4625.000000000017, 4604.166666666684, 4583.333333333351, 4562.500000000017, 4541.666666666684, 4520.83333333335, 4500.000000000017, 4479.166666666684, 4458.33333333335, 4437.500000000017, 4416.666666666684, 4395.833333333351, 4375.000000000017, 4354.166666666684, 4333.333333333351, 4312.500000000017, 4291.666666666684, 4270.833333333351, 4250.000000000017, 4229.166666666684, 4208.333333333351, 4187.500000000017] \n",
      "\n"
     ]
    }
   ],
   "source": [
    "# # # # # # 等额本金还款\n",
    "def AJvarPayment(Num,B,Rate):\n",
    "    MB = B/Num #每月本金\n",
    "    # 初始化相关变量\n",
    "    IR = [0]*Num #每月利息\n",
    "    YE = [0]*Num #每月贷款余额\n",
    "    MP = [0]*Num  #每月还款额\n",
    "    YE[0] = B\n",
    "    for i in range(0,Num):\n",
    "        IR[i] = YE[i] * Rate\n",
    "        MP[i] = MB + IR[i]\n",
    "        if i < Num - 1:\n",
    "            YE[i + 1] = YE[i] - MB\n",
    "    return MP\n",
    "# 设置参数\n",
    "Rate = 0.06/12\n",
    "Num =240\n",
    "B =1000000\n",
    "MP = AJvarPayment(Num,B,Rate)\n",
    "print ('每月贷款应还款为%s \\n' % MP)"
   ]
  },
  {
   "cell_type": "code",
   "execution_count": 32,
   "metadata": {},
   "outputs": [],
   "source": [
    "import matplotlib.pyplot as plt\n",
    "%matplotlib inline"
   ]
  },
  {
   "cell_type": "code",
   "execution_count": 10,
   "metadata": {},
   "outputs": [
    {
     "data": {
      "image/png": "[encoded data removed]",
      "text/plain": [
       "<Figure size 432x288 with 1 Axes>"
      ]
     },
     "metadata": {
      "needs_background": "light"
     },
     "output_type": "display_data"
    }
   ],
   "source": [
    "import matplotlib.pyplot as plt\n",
    "import numpy as np\n",
    "%matplotlib inline\n",
    "# 支持中文显示\n",
    "plt.rcParams['font.sans-serif'] = ['Arial Unicode MS']\n",
    "plt.rcParams['axes.unicode_minus'] = False\n",
    "MP_fix = np.ones(len(MP))*MP1\n",
    "plt.plot(MP,label ='等额本金')\n",
    "plt.plot(MP_fix,label='等额')\n",
    "plt.legend(loc='upper right')\n",
    "plt.show()"
   ]
  },
  {
   "cell_type": "code",
   "execution_count": null,
   "metadata": {},
   "outputs": [],
   "source": []
  }
 ],
 "metadata": {
  "kernelspec": {
   "display_name": "Python 3",
   "language": "python",
   "name": "python3"
  },
  "language_info": {
   "codemirror_mode": {
    "name": "ipython",
    "version": 3
   },
   "file_extension": ".py",
   "mimetype": "text/x-python",
   "name": "python",
   "nbconvert_exporter": "python",
   "pygments_lexer": "ipython3",
   "version": "3.7.3"
  },
  "toc": {
   "base_numbering": 1,
   "nav_menu": {},
   "number_sections": true,
   "sideBar": true,
   "skip_h1_title": false,
   "title_cell": "Table of Contents",
   "title_sidebar": "Contents",
   "toc_cell": false,
   "toc_position": {},
   "toc_section_display": true,
   "toc_window_display": true
  }
 },
 "nbformat": 4,
 "nbformat_minor": 2
}
