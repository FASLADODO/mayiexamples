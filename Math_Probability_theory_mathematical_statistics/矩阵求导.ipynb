{
 "cells": [
  {
   "cell_type": "markdown",
   "metadata": {},
   "source": [
    "# 矩阵求导\n",
    "https://mp.weixin.qq.com/s/6h0MBJKFiasQFGDgae3cjA"
   ]
  },
  {
   "cell_type": "markdown",
   "metadata": {},
   "source": [
    "不得不说，向量和矩阵真的是一门高深而又通用的学问，应用十分广泛，不信你可以往回看，前面有关线性代数的文章，哪一篇没个矩阵或者向量。所以呢，我们今天就来看一下向量的导数（矩阵求导）相关内容。\n",
    "\n",
    "## 定义和约定\n",
    "\n",
    "矩阵求导的本质是多元函数求导，可以理解为把求导的结果排列为矩阵形式，方便表达与计算。但是矩阵求导本身有一个混乱的地方，就是行、列向量的差异，所导致的结果的差异。而这个差异将导致最后结果出现转置问题。事实上，对于最后求导的结果，很多教材的处理是不一样的，本质上，这只是一个$Layout  \\ Convention$问题。本章采用非转置结果，也即是得到结果是雅克比矩阵，同时后面将解释非转置结果。是目前找到关于矩阵求导最详细的结果，因此这里的结果将保持和的结果一致，相关内容可进一步阅读：https://en.wikipedia.org/wiki/Matrix_calculus#Layout_conventions。"
   ]
  },
  {
   "cell_type": "markdown",
   "metadata": {},
   "source": [
    "### 约定\n",
    "* 标量用普通小写字母表示，如  $x,  y,$\n",
    "* 向量用带箭头小写字母表示，如 $\\vec{x}, \\vec{y}$\n",
    "* 矩阵用大写字母表示，如： $A=\\begin{bmatrix}a_{11}&a_{12}&...&a_{1n}\\\\a_{21}&a_{22}&...&a_{2n}\\\\...\\\\a_{m1}&a_{m2}&...&* a_{mn}\\end{bmatrix}$\n",
    "* 所有向量均默认为列向量，\n",
    "* 分子布局（Numerator-layout）：分子为$\\vec{y}$（列向量）或分母为$\\vec{x}^T$（行向量），或者说分子保持原始形式，分母为转置形式。\n",
    "* 分母布局（Denominator-layout）：分子为$\\vec{y}^T$（行向量）或分母为$\\vec{x}$（列向量），或者说分子为转置形式，分母保持为原始形式。\n",
    "\n",
    "需要注意的是，以下公式的原始计算式子，wiki上是不做转置的，但是为了统一，下文是使用了转置。\n",
    "\n",
    "例如分子布局的标量对向量， wiki上是$\\frac{\\partial{y}}{\\partial{\\vec{x}}}=(\\frac{\\partial{y}}{\\partial{x_1}},\\frac{\\partial{y}}{\\partial{x_2}},...,\\frac{\\partial{y}}{\\partial{x_n}})$  ，而本文是$\\frac{\\partial{y}}{\\partial{\\vec{x}^T}}=(\\frac{\\partial{y}}{\\partial{x_1}},\\frac{\\partial{y}}{\\partial{x_2}},...,\\frac{\\partial{y}}{\\partial{x_n}})$   ，\n",
    "\n",
    "但无论是wiki还是本文，原始式子的分母部分都是行向量。 "
   ]
  },
  {
   "cell_type": "markdown",
   "metadata": {},
   "source": [
    "# 分子布局\n",
    "（1）标量对向量：分子$y为标量，分母\\vec{x}^T$为行向量。$\\frac{\\partial{y}}{\\partial{\\vec{x}^T}}=(\\frac{\\partial{y}}{\\partial{x_1}},\\frac{\\partial{y}}{\\partial{x_2}},...,\\frac{\\partial{y}}{\\partial{x_n}})$\n",
    "\n",
    "（2）向量对标量：分子$\\vec{y}为列向量，分母 x 为标量 。\\frac{\\partial{\\vec{y}}}{\\partial{x}}=\\begin{pmatrix}\\frac{\\partial{y_1}}{\\partial{x}}\\\\\\frac{\\partial{y_2}}{\\partial{x}}\\\\...\\\\\\frac{\\partial{y_m}}{\\partial{x}}\\end{pmatrix}$\n",
    "\n",
    "（3）向量对向量：分子$\\vec{y}为列向量，分母\\vec{x}^T$为行向量\n",
    "\n",
    "例如$A是  m \\times n矩阵，\\vec{x}是n\\times 1  列向量，则A\\cdot\\vec{x} 是 m\\times 1 列向量，记 \\vec{y}=A\\cdot\\vec{x}  ，那么 $\n",
    "$$A=\\begin{bmatrix}a_{11}&a_{12}&...&a_{1n}\\\\a_{21}&a_{22}&...&a_{2n}\\\\...\\\\a_{m1}&a_{m2}&...&* a_{mn}\\end{bmatrix}\\quad\\vec{x}=\\begin{pmatrix} x_1\\\\x_2\\\\...\\\\x_n\\end{pmatrix}\\quad \\vec{y}=A\\cdot\\vec{x}=\\begin{pmatrix} a_{11}x_1+a_{12}x_2+...a_{1n}x_n\\\\a_{21}x_1+a_{22}x_2+...a_{2n}x_n\\\\...\\\\a_{m1}x_1+a_{m2}x_2+...a_{mn}x_n\\end{pmatrix}$$\n",
    "$$\\frac{\\partial{\\vec{y}}}{\\partial{\\vec{x}^T}}=\\begin{pmatrix}\\frac{\\partial{y_1}}{\\partial{\\vec{x}^T}}\\\\\\frac{\\partial{y_2}}{\\partial{\\vec{x}^T}}\\\\...\\frac{\\partial{y_m}}{\\partial{\\vec{x}^T}}\\end{pmatrix}=\\begin{pmatrix}\\frac{\\partial{y_1}}{\\partial{x_1}}&\\frac{\\partial{y_1}}{\\partial{x_2}}&...&\\frac{\\partial{y_1}}{\\partial{x_n}}\\\\\\frac{\\partial{y_2}}{\\partial{x_1}}&\\frac{\\partial{y_2}}{\\partial{x_2}}&...&\\frac{\\partial{y_2}}{\\partial{x_n}}\\\\...\\\\\\frac{\\partial{y_m}}{\\partial{x_1}}&\\frac{\\partial{y_m}}{\\partial{x_2}}&...&\\frac{\\partial{y_m}}{\\partial{x_n}}\\end{pmatrix}=\\begin{bmatrix}a_{11}&a_{12}&...&a_{1n}\\\\a_{21}&a_{22}&...&a_{2n}\\\\...\\\\a_{m1}&a_{m2}&...&a_{mn}\\end{bmatrix}=A$$\n",
    "\n",
    "其中A又被称为雅克比矩阵。\n",
    "\n",
    "（4）标量对矩阵。这里的书写与一些网上的博客不一样，但是计算结果是一样。网上一般是$\\frac{\\partial{y}}{\\partial{X}}，但是为了避免混淆，这里的分母部分不再写为X，而是X^T。  X是一个p\\times q$  矩阵。\n",
    "$$$\\frac{\\partial{y}}{\\partial{X}}=\\begin{pmatrix}\\frac{\\partial{y}}{\\partial{x_{11}}}&\\frac{\\partial{y}}{\\partial{x_{21}}}&...&\\frac{\\partial{y}}{\\partial{x_{p1}}}\\\\\\frac{\\partial{y}}{\\partial{x_{12}}}&\\frac{\\partial{y}}{\\partial{x_{22}}}&...&\\frac{\\partial{y}}{\\partial{x_{p2}}}\\\\...\\\\\\frac{\\partial{y}}{\\partial{x_{1q}}}&\\frac{\\partial{y}}{\\partial{x_{2q}}}&...&\\frac{\\partial{y}}{\\partial{x_{pq}}}\\\\\\end{pmatrix}$$\n",
    "\n",
    "这里看到是转置的。\n",
    "\n",
    "（5）矩阵对标量\n",
    "$$\\frac{\\partial{Y}}{\\partial{x}}=\\begin{pmatrix}\\frac{\\partial{y_{11}}}{\\partial{x}}&\\frac{\\partial{y_{12}}}{\\partial{x}}&...&\\frac{\\partial{y_{1n}}}{\\partial{x}}\\\\\\end{pmatrix}$$"
   ]
  },
  {
   "cell_type": "code",
   "execution_count": null,
   "metadata": {},
   "outputs": [],
   "source": []
  }
 ],
 "metadata": {
  "kernelspec": {
   "display_name": "Python 3",
   "language": "python",
   "name": "python3"
  },
  "language_info": {
   "codemirror_mode": {
    "name": "ipython",
    "version": 3
   },
   "file_extension": ".py",
   "mimetype": "text/x-python",
   "name": "python",
   "nbconvert_exporter": "python",
   "pygments_lexer": "ipython3",
   "version": "3.7.3"
  },
  "toc": {
   "base_numbering": 1,
   "nav_menu": {},
   "number_sections": true,
   "sideBar": true,
   "skip_h1_title": false,
   "title_cell": "Table of Contents",
   "title_sidebar": "Contents",
   "toc_cell": false,
   "toc_position": {},
   "toc_section_display": true,
   "toc_window_display": true
  }
 },
 "nbformat": 4,
 "nbformat_minor": 2
}
