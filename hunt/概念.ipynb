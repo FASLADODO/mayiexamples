{
 "cells": [
  {
   "cell_type": "markdown",
   "metadata": {},
   "source": [
    "## 生成式模型 vs 判别式模型\n",
    "Generative model vs Discriminative Model"
   ]
  },
  {
   "cell_type": "markdown",
   "metadata": {},
   "source": [
    "如果要训练一个分类器:给出输入x，分类变量y，求p(y|x)\n",
    "* 产生式模型的思想是先估算联合概率密度p(x,y)，再通过贝叶斯公式求出p(y|x)\n",
    "* 判别式模型则直接估算p(y|x)\n",
    "* 产生式模型典型代表:朴素贝叶斯，判别式模型典型代表:logistics回归\n",
    "* 一般认为判别式模型更受喜爱，“人们应该更直接去解决问题，永进不要把求解更复杂的问题作为中间阶段，\n",
    "* 吴恩达的论文作了较全面的分析，产生式模型 (朴素贝叶斯)在少量样本的情况下，可以取得更好的精确率，判别式模型(logistics 回归)在样本增加的情况下，逐渐逼近前者的精确率"
   ]
  },
  {
   "cell_type": "code",
   "execution_count": null,
   "metadata": {},
   "outputs": [],
   "source": []
  }
 ],
 "metadata": {
  "kernelspec": {
   "display_name": "Python 3",
   "language": "python",
   "name": "python3"
  },
  "language_info": {
   "codemirror_mode": {
    "name": "ipython",
    "version": 3
   },
   "file_extension": ".py",
   "mimetype": "text/x-python",
   "name": "python",
   "nbconvert_exporter": "python",
   "pygments_lexer": "ipython3",
   "version": "3.7.3"
  },
  "toc": {
   "base_numbering": 1,
   "nav_menu": {},
   "number_sections": true,
   "sideBar": true,
   "skip_h1_title": false,
   "title_cell": "Table of Contents",
   "title_sidebar": "Contents",
   "toc_cell": false,
   "toc_position": {},
   "toc_section_display": true,
   "toc_window_display": false
  }
 },
 "nbformat": 4,
 "nbformat_minor": 2
}
