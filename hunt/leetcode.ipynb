{
 "cells": [
  {
   "cell_type": "markdown",
   "metadata": {},
   "source": [
    "# problem1\n",
    "https://leetcode-cn.com/problems/two-sum/\n",
    "\n",
    "    给定一个整数数组 nums 和一个目标值 target，请你在该数组中找出和为目标值的那 两个 整数，并返回他们的数组下标。\n",
    "\n",
    "    你可以假设每种输入只会对应一个答案。但是，你不能重复利用这个数组中同样的元素。\n",
    "\n",
    "    示例:\n",
    "\n",
    "    给定 nums = [2, 7, 11, 15], target = 9\n",
    "\n",
    "    因为 nums[0] + nums[1] = 2 + 7 = 9\n",
    "    所以返回 [0, 1]\n",
    "\n",
    "    初看题目觉得很简单，实际做起来发现也不简单，还是挺有收获"
   ]
  },
  {
   "cell_type": "markdown",
   "metadata": {},
   "source": [
    "## 最优解法\n",
    "巧用hash"
   ]
  },
  {
   "cell_type": "code",
   "execution_count": 4,
   "metadata": {},
   "outputs": [],
   "source": [
    "def twoSum(nums: list, target):\n",
    "    hash_dict = dict()\n",
    "    for i, v in enumerate(nums):\n",
    "        if (target - v) in hash_dict:\n",
    "            return hash_dict[(target - v)], i\n",
    "        hash_dict[v] = i"
   ]
  },
  {
   "cell_type": "code",
   "execution_count": 5,
   "metadata": {},
   "outputs": [
    {
     "data": {
      "text/plain": [
       "(1, 3)"
      ]
     },
     "execution_count": 5,
     "metadata": {},
     "output_type": "execute_result"
    }
   ],
   "source": [
    "twoSum([2, 7, 11, 15], 22)"
   ]
  },
  {
   "cell_type": "markdown",
   "metadata": {},
   "source": [
    "# problem2\n",
    "https://leetcode-cn.com/problems/add-two-numbers/\n",
    "\n",
    "    给出两个 非空 的链表用来表示两个非负的整数。其中，它们各自的位数是按照 逆序 的方式存储的，并且它们的每个节点只能存储 一位 数字。\n",
    "\n",
    "    如果，我们将这两个数相加起来，则会返回一个新的链表来表示它们的和。\n",
    "\n",
    "    您可以假设除了数字 0 之外，这两个数都不会以 0 开头。\n",
    "\n",
    "    示例：\n",
    "\n",
    "    输入：(2 -> 4 -> 3) + (5 -> 6 -> 4)\n",
    "    输出：7 -> 0 -> 8\n",
    "    原因：342 + 465 = 807"
   ]
  },
  {
   "cell_type": "code",
   "execution_count": 6,
   "metadata": {},
   "outputs": [],
   "source": [
    "# Definition for singly-linked list.\n",
    "class ListNode(object):\n",
    "    def __init__(self, x):\n",
    "        self.val = x\n",
    "        self.next = None"
   ]
  },
  {
   "cell_type": "code",
   "execution_count": 28,
   "metadata": {},
   "outputs": [],
   "source": [
    "class Solution(object):\n",
    "    @classmethod\n",
    "    def addTwoNumbers(cls, l1, l2):\n",
    "        \"\"\"\n",
    "        :type l1: ListNode\n",
    "        :type l2: ListNode\n",
    "        :rtype: ListNode\n",
    "        \"\"\"\n",
    "        flag = 0\n",
    "        lr = ListNode(0)\n",
    "        count = 0\n",
    "        while (l1 or l2):\n",
    "            x = l1.val if l1 else 0\n",
    "            y = l2.val if l2 else 0\n",
    "            s = x + y + flag\n",
    "            v = s % 10\n",
    "            print(x, y, s, v)\n",
    "            lrt = ListNode(v)\n",
    "            if count != 0:\n",
    "                lrt.next = lr\n",
    "                lr = lrt\n",
    "                count += 1\n",
    "            flag = s // 10\n",
    "            if l1:\n",
    "                l1 = l1.next\n",
    "            if l2:    \n",
    "                l2 = l2.next\n",
    "        if flag != 0:\n",
    "            lrt = ListNode(flag)\n",
    "            lrt.next = lr\n",
    "            lr = lrt\n",
    "        return lr"
   ]
  },
  {
   "cell_type": "code",
   "execution_count": 29,
   "metadata": {},
   "outputs": [],
   "source": [
    "a = [2, 4, 3]\n",
    "b = [5, 6, 4]\n",
    "l1 = ListNode(2)\n",
    "l1.next = ListNode(4)\n",
    "l1.next.next = ListNode(3)\n",
    "l2 = ListNode(5)\n",
    "l2.next = ListNode(6)\n",
    "l2.next.next = ListNode(4)"
   ]
  },
  {
   "cell_type": "code",
   "execution_count": 30,
   "metadata": {},
   "outputs": [
    {
     "name": "stdout",
     "output_type": "stream",
     "text": [
      "2 5 7 7\n",
      "4 6 10 0\n",
      "3 4 8 8\n"
     ]
    }
   ],
   "source": [
    "lr = Solution.addTwoNumbers(l1, l2)"
   ]
  },
  {
   "cell_type": "code",
   "execution_count": 31,
   "metadata": {},
   "outputs": [
    {
     "data": {
      "text/plain": [
       "0"
      ]
     },
     "execution_count": 31,
     "metadata": {},
     "output_type": "execute_result"
    }
   ],
   "source": [
    "lr.val"
   ]
  },
  {
   "cell_type": "code",
   "execution_count": 33,
   "metadata": {},
   "outputs": [],
   "source": [
    "lr.next"
   ]
  },
  {
   "cell_type": "code",
   "execution_count": null,
   "metadata": {},
   "outputs": [],
   "source": []
  }
 ],
 "metadata": {
  "kernelspec": {
   "display_name": "Python 3",
   "language": "python",
   "name": "python3"
  },
  "language_info": {
   "codemirror_mode": {
    "name": "ipython",
    "version": 3
   },
   "file_extension": ".py",
   "mimetype": "text/x-python",
   "name": "python",
   "nbconvert_exporter": "python",
   "pygments_lexer": "ipython3",
   "version": "3.7.3"
  },
  "toc": {
   "base_numbering": 1,
   "nav_menu": {},
   "number_sections": true,
   "sideBar": true,
   "skip_h1_title": false,
   "title_cell": "Table of Contents",
   "title_sidebar": "Contents",
   "toc_cell": false,
   "toc_position": {},
   "toc_section_display": true,
   "toc_window_display": true
  }
 },
 "nbformat": 4,
 "nbformat_minor": 2
}
