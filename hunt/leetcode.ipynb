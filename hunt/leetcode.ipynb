{
 "cells": [
  {
   "cell_type": "markdown",
   "metadata": {},
   "source": [
    "# problem1\n",
    "https://leetcode-cn.com/problems/two-sum/\n",
    "\n",
    "    给定一个整数数组 nums 和一个目标值 target，请你在该数组中找出和为目标值的那 两个 整数，并返回他们的数组下标。\n",
    "\n",
    "    你可以假设每种输入只会对应一个答案。但是，你不能重复利用这个数组中同样的元素。\n",
    "\n",
    "    示例:\n",
    "\n",
    "    给定 nums = [2, 7, 11, 15], target = 9\n",
    "\n",
    "    因为 nums[0] + nums[1] = 2 + 7 = 9\n",
    "    所以返回 [0, 1]\n",
    "\n",
    "    初看题目觉得很简单，实际做起来发现也不简单，还是挺有收获"
   ]
  },
  {
   "cell_type": "markdown",
   "metadata": {},
   "source": [
    "## 最优解法\n",
    "巧用hash"
   ]
  },
  {
   "cell_type": "code",
   "execution_count": 4,
   "metadata": {},
   "outputs": [],
   "source": [
    "def twoSum(nums: list, target):\n",
    "    hash_dict = dict()\n",
    "    for i, v in enumerate(nums):\n",
    "        if (target - v) in hash_dict:\n",
    "            return hash_dict[(target - v)], i\n",
    "        hash_dict[v] = i"
   ]
  },
  {
   "cell_type": "code",
   "execution_count": 5,
   "metadata": {},
   "outputs": [
    {
     "data": {
      "text/plain": [
       "(1, 3)"
      ]
     },
     "execution_count": 5,
     "metadata": {},
     "output_type": "execute_result"
    }
   ],
   "source": [
    "twoSum([2, 7, 11, 15], 22)"
   ]
  },
  {
   "cell_type": "markdown",
   "metadata": {},
   "source": [
    "# problem2\n",
    "https://leetcode-cn.com/problems/add-two-numbers/\n",
    "\n",
    "    给出两个 非空 的链表用来表示两个非负的整数。其中，它们各自的位数是按照 逆序 的方式存储的，并且它们的每个节点只能存储 一位 数字。\n",
    "\n",
    "    如果，我们将这两个数相加起来，则会返回一个新的链表来表示它们的和。\n",
    "\n",
    "    您可以假设除了数字 0 之外，这两个数都不会以 0 开头。\n",
    "\n",
    "    示例：\n",
    "\n",
    "    输入：(2 -> 4 -> 3) + (5 -> 6 -> 4)\n",
    "    输出：7 -> 0 -> 8\n",
    "    原因：342 + 465 = 807"
   ]
  },
  {
   "cell_type": "code",
   "execution_count": 42,
   "metadata": {},
   "outputs": [],
   "source": [
    "# Definition for singly-linked list.\n",
    "class ListNode(object):\n",
    "    def __init__(self, x):\n",
    "        self.val = x\n",
    "        self.next = None\n",
    "    def __str__(self):\n",
    "        s = f'{self.val}'\n",
    "        t=self\n",
    "        while t.next is not None:\n",
    "            s += f' -> {t.next.val}'\n",
    "            t = t.next\n",
    "        return s"
   ]
  },
  {
   "cell_type": "code",
   "execution_count": 50,
   "metadata": {},
   "outputs": [],
   "source": [
    "# 执行用时 :80 ms, 在所有 Python 提交中击败了11.19% 的用户\n",
    "# 内存消耗 :11.8 MB, 在所有 Python 提交中击败了27.54%的用户\n",
    "class Solution(object):\n",
    "    @classmethod\n",
    "    def addTwoNumbers(cls, l1: ListNode, l2: ListNode):\n",
    "        \"\"\"\n",
    "        :type l1: ListNode\n",
    "        :type l2: ListNode\n",
    "        :rtype: ListNode\n",
    "        \"\"\"\n",
    "        flag=0\n",
    "        lrs=lr=None\n",
    "        while l1 or l2 or flag:\n",
    "            if l1 is None:\n",
    "                a1=0  \n",
    "            else:\n",
    "                a1=l1.val\n",
    "                l1=l1.next\n",
    "            if l2 is None:\n",
    "                a2=0  \n",
    "            else:\n",
    "                a2=l2.val\n",
    "                l2=l2.next\n",
    "            r=a1 + a2 + flag\n",
    "            if lr is not None:\n",
    "                lr.next=ListNode(r%10)\n",
    "                lr=lr.next\n",
    "            else:\n",
    "                lr=lrs=ListNode(r%10)\n",
    "            \n",
    "            flag=r//10\n",
    "        return lrs"
   ]
  },
  {
   "cell_type": "code",
   "execution_count": 51,
   "metadata": {},
   "outputs": [],
   "source": [
    "a = [2, 4, 3]\n",
    "b = [5, 6, 4]\n",
    "l1 = ListNode(2)\n",
    "l1.next = ListNode(4)\n",
    "l1.next.next = ListNode(3)\n",
    "l2 = ListNode(5)\n",
    "l2.next = ListNode(6)\n",
    "l2.next.next = ListNode(4)"
   ]
  },
  {
   "cell_type": "code",
   "execution_count": 52,
   "metadata": {},
   "outputs": [],
   "source": [
    "lr = Solution.addTwoNumbers(l1, l2)"
   ]
  },
  {
   "cell_type": "code",
   "execution_count": 53,
   "metadata": {},
   "outputs": [
    {
     "name": "stdout",
     "output_type": "stream",
     "text": [
      "7 -> 0 -> 8\n"
     ]
    }
   ],
   "source": [
    "print(lr)"
   ]
  },
  {
   "cell_type": "markdown",
   "metadata": {},
   "source": [
    "# problem3\n",
    "https://leetcode-cn.com/problems/longest-substring-without-repeating-characters/\n",
    "    \n",
    "    给定一个字符串，请你找出其中不含有重复字符的 最长子串 的长度。\n",
    "\n",
    "    示例 1:\n",
    "\n",
    "    输入: \"abcabcbb\"\n",
    "    输出: 3\n",
    "    解释: 因为无重复字符的最长子串是 \"abc\"，所以其长度为 3。"
   ]
  },
  {
   "cell_type": "code",
   "execution_count": 58,
   "metadata": {},
   "outputs": [
    {
     "data": {
      "text/plain": [
       "[4, 3, 2]"
      ]
     },
     "execution_count": 58,
     "metadata": {},
     "output_type": "execute_result"
    }
   ],
   "source": [
    "list(range(4,1,-1))"
   ]
  },
  {
   "cell_type": "code",
   "execution_count": null,
   "metadata": {},
   "outputs": [],
   "source": [
    "class Solution(object):\n",
    "    def lengthOfLongestSubstring(self, s):\n",
    "        \"\"\"\n",
    "        思路：set的长度 == list的长度, 从大向小改变窗口大小，然后滑动\n",
    "        :type s: str\n",
    "        :rtype: int\n",
    "        \"\"\"\n",
    "        num_max = len(set(list(s)))\n",
    "        len_s = len(s)\n",
    "        for num in range(num_max,0,-1):\n",
    "            for i in range(len_s-num+1):\n",
    "                if(len(set(list(s[i:i+num])))==num):\n",
    "                    return num\n",
    "        return num_max"
   ]
  },
  {
   "cell_type": "markdown",
   "metadata": {},
   "source": [
    "# problem4\n",
    "https://leetcode-cn.com/problems/median-of-two-sorted-arrays/\n",
    "\n",
    "    给定两个大小为 m 和 n 的有序数组 nums1 和 nums2。\n",
    "\n",
    "    请你找出这两个有序数组的中位数，并且要求算法的时间复杂度为 O(log(m + n))。\n",
    "\n",
    "    你可以假设 nums1 和 nums2 不会同时为空。\n",
    "\n",
    "    示例 1:\n",
    "\n",
    "    nums1 = [1, 3]\n",
    "    nums2 = [2]\n",
    "\n",
    "    则中位数是 2.0\n",
    "    示例 2:\n",
    "\n",
    "    nums1 = [1, 2]\n",
    "    nums2 = [3, 4]\n",
    "\n",
    "    则中位数是 (2 + 3)/2 = 2.5\n",
    "## 思路\n",
    "核心是要写一个排序算法"
   ]
  },
  {
   "cell_type": "markdown",
   "metadata": {},
   "source": [
    "# problem5\n",
    "https://leetcode-cn.com/problems/longest-palindromic-substring/\n",
    "\n",
    "    给定一个字符串 s，找到 s 中最长的回文子串。你可以假设 s 的最大长度为 1000。\n",
    "    回文串就是正着读和反着读都一样的字符串。\n",
    "    示例 1：\n",
    "\n",
    "    输入: \"babad\"\n",
    "    输出: \"bab\"\n",
    "    注意: \"aba\" 也是一个有效答案。"
   ]
  },
  {
   "cell_type": "code",
   "execution_count": 80,
   "metadata": {},
   "outputs": [],
   "source": [
    "# 执行用时 :6608 ms, 在所有 Python 提交中击败了5.01% 的用户\n",
    "# 内存消耗 :11.8 MB, 在所有 Python 提交中击败了64.27%的用户\n",
    "class Solution(object):\n",
    "    @classmethod\n",
    "    def longestPalindrome(self, s):\n",
    "        \"\"\"\n",
    "        :type s: str\n",
    "        :rtype: str\n",
    "        \"\"\"\n",
    "        len_s = len(s)\n",
    "        for num in range(len_s, 0, -1):\n",
    "            for i in range(len_s-num+1):\n",
    "                if s[i:(i+num)] == s[i:(i+num)][::-1]:\n",
    "                    return s[i:(i+num)]\n",
    "        return ''"
   ]
  },
  {
   "cell_type": "code",
   "execution_count": 81,
   "metadata": {},
   "outputs": [
    {
     "name": "stdout",
     "output_type": "stream",
     "text": [
      "babad  False\n",
      "baba  False\n",
      "abad  False\n",
      "bab  False\n"
     ]
    },
    {
     "data": {
      "text/plain": [
       "'bab'"
      ]
     },
     "execution_count": 81,
     "metadata": {},
     "output_type": "execute_result"
    }
   ],
   "source": [
    "target = \"babad\"\n",
    "Solution.longestPalindrome(target)"
   ]
  },
  {
   "cell_type": "markdown",
   "metadata": {},
   "source": [
    "# problem8\n",
    "https://leetcode-cn.com/problems/string-to-integer-atoi/\n",
    "\n",
    "    请你来实现一个 atoi 函数，使其能将字符串转换成整数。\n",
    "    首先，该函数会根据需要丢弃无用的开头空格字符，直到寻找到第一个非空格的字符为止。\n",
    "    当我们寻找到的第一个非空字符为正或者负号时，则将该符号与之后面尽可能多的连续数字组合起来，作为该整数的正负号；假如第一个非空字符是数字，则直接将其与之后连续的数字字符组合起来，形成整数。\n",
    "    该字符串除了有效的整数部分之后也可能会存在多余的字符，这些字符可以被忽略，它们对于函数不应该造成影响。\n",
    "    注意：假如该字符串中的第一个非空格字符不是一个有效整数字符、字符串为空或字符串仅包含空白字符时，则你的函数不需要进行转换。\n",
    "    在任何情况下，若函数不能进行有效的转换时，请返回 0。\n",
    "    说明：\n",
    "    假设我们的环境只能存储 32 位大小的有符号整数，那么其数值范围为 [−2^31,  2^31 − 1]。如果数值超过这个范围，qing返回  INT_MAX (231 − 1) 或 INT_MIN (−231) 。"
   ]
  },
  {
   "cell_type": "code",
   "execution_count": null,
   "metadata": {},
   "outputs": [],
   "source": []
  }
 ],
 "metadata": {
  "kernelspec": {
   "display_name": "Python 3",
   "language": "python",
   "name": "python3"
  },
  "language_info": {
   "codemirror_mode": {
    "name": "ipython",
    "version": 3
   },
   "file_extension": ".py",
   "mimetype": "text/x-python",
   "name": "python",
   "nbconvert_exporter": "python",
   "pygments_lexer": "ipython3",
   "version": "3.7.3"
  },
  "toc": {
   "base_numbering": 1,
   "nav_menu": {},
   "number_sections": true,
   "sideBar": true,
   "skip_h1_title": false,
   "title_cell": "Table of Contents",
   "title_sidebar": "Contents",
   "toc_cell": false,
   "toc_position": {},
   "toc_section_display": true,
   "toc_window_display": true
  }
 },
 "nbformat": 4,
 "nbformat_minor": 2
}
