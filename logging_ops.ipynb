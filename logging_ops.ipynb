{
 "cells": [
  {
   "cell_type": "markdown",
   "metadata": {},
   "source": [
    "# 1ogging\n",
    "https://cuiqingcai.com/6080.html\n",
    "\n",
    "logging 模块相比 print 有这么几个优点：\n",
    "\n",
    "* 可以在 logging 模块中设置日志等级，在不同的版本（如开发环境、生产环境）上通过设置不同的输出等级来记录对应的日志，非常灵活。\n",
    "\n",
    "* print 的输出信息都会输出到标准输出流中，而 logging 模块就更加灵活，可以设置输出到任意位置，如写入文件、写入远程服务器等。\n",
    "\n",
    "* logging 模块具有灵活的配置和格式化功能，如配置输出当前模块信息、运行时间等，相比 print 的字符串格式化更加方便易用。\n",
    "\n",
    "下面我们初步来了解下 logging 模块的基本用法，先用一个实例来感受一下："
   ]
  },
  {
   "cell_type": "code",
   "execution_count": 1,
   "metadata": {},
   "outputs": [],
   "source": [
    "import logging"
   ]
  },
  {
   "cell_type": "markdown",
   "metadata": {},
   "source": [
    "# 基本配置basicConfig"
   ]
  },
  {
   "cell_type": "markdown",
   "metadata": {},
   "source": [
    "在这里我们首先引入了 logging 模块，然后进行了一下基本的配置，这里通过 basicConfig 配置了 level 信息和 format 信息，\n",
    "## level 信息\n",
    "这里 level 配置为 INFO 信息，即只输出 INFO 级别的信息，  \n",
    "\n",
    "首先我们来了解一下输出日志的等级信息，logging 模块共提供了如下等级，每个等级其实都对应了一个数值，列表如下：\n",
    "\n",
    "|等级\t|数值|\n",
    "|-|-|\n",
    "|CRITICAL\t|50\n",
    "|FATAL\t|50\n",
    "|ERROR\t|40\n",
    "|WARNING\t|30\n",
    "|WARN\t|30\n",
    "|INFO\t|20\n",
    "|DEBUG\t|10\n",
    "|NOTSET\t|0\n",
    "\n",
    "## format 信息\n",
    "另外这里指定了 format 格式的字符串，包括 \n",
    "* asctime、运行时间、\n",
    "* name、模块名称、\n",
    "* levelname、日志级别、\n",
    "* message  日志内容\n",
    "\n",
    "这样输出内容便是这四者组合而成的内容了，这就是 logging 的全局配置。"
   ]
  },
  {
   "cell_type": "code",
   "execution_count": 1,
   "metadata": {},
   "outputs": [
    {
     "data": {
      "text/plain": [
       "'__main__'"
      ]
     },
     "execution_count": 1,
     "metadata": {},
     "output_type": "execute_result"
    }
   ],
   "source": [
    "__name__"
   ]
  },
  {
   "cell_type": "code",
   "execution_count": 4,
   "metadata": {},
   "outputs": [
    {
     "name": "stderr",
     "output_type": "stream",
     "text": [
      "2019-08-08 13:17:58,989 - my.py - INFO - This is a log info\n",
      "2019-08-08 13:17:58,990 - my.py - WARNING - Warning exists\n",
      "2019-08-08 13:17:58,994 - my.py - INFO - Finish\n"
     ]
    }
   ],
   "source": [
    "import logging\n",
    "logging.basicConfig(level=logging.INFO, format='%(asctime)s - %(name)s - %(levelname)s - %(message)s')\n",
    "logger = logging.getLogger('my.py')\n",
    " \n",
    "logger.info('This is a log info')\n",
    "logger.debug('Debugging')\n",
    "logger.warning('Warning exists')\n",
    "logger.info('Finish')\n"
   ]
  },
  {
   "cell_type": "code",
   "execution_count": 2,
   "metadata": {},
   "outputs": [
    {
     "name": "stderr",
     "output_type": "stream",
     "text": [
      "2019-08-08 13:22:22,491 - __main__ - INFO - This is a log info\n",
      "2019-08-08 13:22:22,492 - __main__ - DEBUG - Debugging\n",
      "2019-08-08 13:22:22,493 - __main__ - WARNING - Warning exists\n",
      "2019-08-08 13:22:22,494 - __main__ - INFO - Finish\n"
     ]
    }
   ],
   "source": [
    "import logging\n",
    "logging.basicConfig(level=logging.DEBUG, format='%(asctime)s - %(name)s - %(levelname)s - %(message)s')\n",
    "logger1 = logging.getLogger(__name__)\n",
    "\n",
    "logger1.info('This is a log info')\n",
    "logger1.debug('Debugging')\n",
    "logger1.warning('Warning exists')\n",
    "logger1.info('Finish')"
   ]
  },
  {
   "cell_type": "code",
   "execution_count": 1,
   "metadata": {},
   "outputs": [],
   "source": [
    "import logging\n",
    " \n",
    "logging.basicConfig(level=logging.DEBUG,\n",
    "                    filename='output.log',\n",
    "                    datefmt='%Y/%m/%d %H:%M:%S',\n",
    "                    format='%(asctime)s - %(name)s - %(levelname)s - %(lineno)d - %(module)s - %(message)s')\n",
    "logger = logging.getLogger(__name__)\n",
    " \n",
    "logger.info('This is a log info')\n",
    "logger.debug('Debugging')\n",
    "logger.warning('Warning exists')\n",
    "logger.info('Finish')"
   ]
  },
  {
   "cell_type": "markdown",
   "metadata": {},
   "source": [
    "# Handler\n",
    "下面我们先来了解一下 Handler 的用法，看下面的实例："
   ]
  },
  {
   "cell_type": "code",
   "execution_count": 1,
   "metadata": {},
   "outputs": [],
   "source": [
    "import logging\n",
    " \n",
    "logger = logging.getLogger(__name__)\n",
    "logger.setLevel(level=logging.INFO)\n",
    "handler = logging.FileHandler('output.log')\n",
    "formatter = logging.Formatter('%(asctime)s - %(name)s - %(levelname)s - %(message)s')\n",
    "handler.setFormatter(formatter)\n",
    "logger.addHandler(handler)\n",
    " \n",
    "logger.info('This is a log info')\n",
    "logger.debug('Debugging')\n",
    "logger.warning('Warning exists')\n",
    "logger.info('Finish')"
   ]
  },
  {
   "cell_type": "markdown",
   "metadata": {},
   "source": [
    "这里我们没有再使用 basicConfig 全局配置，而是先声明了一个 Logger 对象，然后指定了其对应的 Handler 为 FileHandler 对象，然后 Handler 对象还单独指定了 Formatter 对象单独配置输出格式，最后给 Logger 对象添加对应的 Handler 即可，最后可以发现日志就会被输出到 output.log 中，内容如下："
   ]
  },
  {
   "cell_type": "markdown",
   "metadata": {},
   "source": [
    "另外我们还可以使用其他的 Handler 进行日志的输出，logging 模块提供的 Handler 有：\n",
    "\n",
    "* StreamHandler：logging.StreamHandler；日志输出到流，可以是 sys.stderr，sys.stdout 或者文件。\n",
    "* FileHandler：logging.FileHandler；日志输出到文件。\n",
    "* BaseRotatingHandler：logging.handlers.BaseRotatingHandler；基本的日志回滚方式。\n",
    "* RotatingHandler：logging.handlers.RotatingHandler；日志回滚方式，支持日志文件最大数量和日志文件回滚。\n",
    "* TimeRotatingHandler：logging.handlers.TimeRotatingHandler；日志回滚方式，在一定时间区域内回滚日志文件。\n",
    "* SocketHandler：logging.handlers.SocketHandler；远程输出日志到TCP/IP sockets。\n",
    "* DatagramHandler：logging.handlers.DatagramHandler；远程输出日志到UDP sockets。\n",
    "* SMTPHandler：logging.handlers.SMTPHandler；远程输出日志到邮件地址。\n",
    "* SysLogHandler：logging.handlers.SysLogHandler；日志输出到syslog。\n",
    "* NTEventLogHandler：logging.handlers.NTEventLogHandler；远程输出日志到Windows NT/2000/XP的事件日志。\n",
    "* MemoryHandler：logging.handlers.MemoryHandler；日志输出到内存中的指定buffer。\n",
    "* HTTPHandler：logging.handlers.HTTPHandler；通过”GET”或者”POST”远程输出到HTTP服务器。\n",
    "\n",
    "下面我们使用三个 Handler 来实现日志同时输出到控制台、文件、HTTP 服务器："
   ]
  },
  {
   "cell_type": "code",
   "execution_count": 1,
   "metadata": {},
   "outputs": [
    {
     "name": "stdout",
     "output_type": "stream",
     "text": [
      "This is a log info\n",
      "Debugging\n",
      "Warning exists\n",
      "Finish\n"
     ]
    }
   ],
   "source": [
    "import logging\n",
    "from logging.handlers import HTTPHandler\n",
    "import sys\n",
    " \n",
    "logger = logging.getLogger(__name__)\n",
    "logger.setLevel(level=logging.DEBUG)\n",
    " \n",
    "# StreamHandler\n",
    "stream_handler = logging.StreamHandler(sys.stdout)\n",
    "stream_handler.setLevel(level=logging.DEBUG)\n",
    "logger.addHandler(stream_handler)\n",
    " \n",
    "# FileHandler\n",
    "file_handler = logging.FileHandler('output.log')\n",
    "file_handler.setLevel(level=logging.INFO)\n",
    "formatter = logging.Formatter('%(asctime)s - %(name)s - %(levelname)s - %(message)s')\n",
    "file_handler.setFormatter(formatter)\n",
    "logger.addHandler(file_handler)\n",
    " \n",
    "# HTTPHandler\n",
    "# http_handler = HTTPHandler(host='localhost:8001', url='log', method='POST')\n",
    "# logger.addHandler(http_handler)\n",
    " \n",
    "# Log\n",
    "logger.info('This is a log info')\n",
    "logger.debug('Debugging')\n",
    "logger.warning('Warning exists')\n",
    "logger.info('Finish')"
   ]
  },
  {
   "cell_type": "markdown",
   "metadata": {},
   "source": [
    "运行之前我们需要先启动 HTTP Server，并运行在 8001 端口，其中 log 接口是用来接收日志的接口。\n",
    "\n",
    "运行之后控制台输出会输出如下内容：\n",
    "\n",
    "HTTP Server 会收到控制台输出的信息。\n",
    "\n",
    "这样一来，我们就通过设置多个 Handler 来控制了日志的多目标输出。\n",
    "\n",
    "另外值得注意的是，在这里 StreamHandler 对象我们没有设置 Formatter，因此控制台只输出了日志的内容，而没有包含时间、模块等信息，而 FileHandler 我们通过 setFormatter() 方法设置了一个 Formatter 对象，因此输出的内容便是格式化后的日志信息。\n",
    "\n",
    "另外每个 Handler 还可以设置 level 信息，最终输出结果的 level 信息会取 Logger 对象的 level 和 Handler 对象的 level 的交集。"
   ]
  },
  {
   "cell_type": "markdown",
   "metadata": {},
   "source": [
    "# Formatter\n",
    "在进行日志格式化输出的时候，我们可以不借助于 basicConfig 来全局配置格式化输出内容，可以借助于 Formatter 来完成，下面我们再来单独看下 Formatter 的用法："
   ]
  },
  {
   "cell_type": "code",
   "execution_count": 1,
   "metadata": {},
   "outputs": [
    {
     "name": "stderr",
     "output_type": "stream",
     "text": [
      "2019/08/08 13:47:35 - __main__ - CRITICAL - Critical Something\n",
      "2019/08/08 13:47:35 - __main__ - ERROR - Error Occurred\n",
      "2019/08/08 13:47:35 - __main__ - WARNING - Warning exists\n"
     ]
    }
   ],
   "source": [
    "import logging\n",
    " \n",
    "logger = logging.getLogger(__name__)\n",
    "logger.setLevel(level=logging.WARN)\n",
    "formatter = logging.Formatter(fmt='%(asctime)s - %(name)s - %(levelname)s - %(message)s', datefmt='%Y/%m/%d %H:%M:%S')\n",
    "handler = logging.StreamHandler()\n",
    "handler.setFormatter(formatter)\n",
    "logger.addHandler(handler)\n",
    " \n",
    "# Log\n",
    "logger.debug('Debugging')\n",
    "logger.critical('Critical Something')\n",
    "logger.error('Error Occurred')\n",
    "logger.warning('Warning exists')\n",
    "logger.info('Finished')"
   ]
  },
  {
   "cell_type": "markdown",
   "metadata": {},
   "source": [
    "# 配置共享\n",
    "在写项目的时候，我们肯定会将许多配置放置在许多模块下面，这时如果我们每个文件都来配置 logging 配置那就太繁琐了，logging 模块提供了父子模块共享配置的机制，会根据 Logger 的名称来自动加载父模块的配置。\n",
    "\n",
    "例如我们这里首先定义一个 main.py 文件："
   ]
  },
  {
   "cell_type": "code",
   "execution_count": null,
   "metadata": {},
   "outputs": [],
   "source": [
    "。。。"
   ]
  }
 ],
 "metadata": {
  "kernelspec": {
   "display_name": "Python 3",
   "language": "python",
   "name": "python3"
  },
  "language_info": {
   "codemirror_mode": {
    "name": "ipython",
    "version": 3
   },
   "file_extension": ".py",
   "mimetype": "text/x-python",
   "name": "python",
   "nbconvert_exporter": "python",
   "pygments_lexer": "ipython3",
   "version": "3.7.3"
  },
  "toc": {
   "base_numbering": 1,
   "nav_menu": {},
   "number_sections": true,
   "sideBar": true,
   "skip_h1_title": false,
   "title_cell": "Table of Contents",
   "title_sidebar": "Contents",
   "toc_cell": false,
   "toc_position": {},
   "toc_section_display": true,
   "toc_window_display": true
  }
 },
 "nbformat": 4,
 "nbformat_minor": 2
}
