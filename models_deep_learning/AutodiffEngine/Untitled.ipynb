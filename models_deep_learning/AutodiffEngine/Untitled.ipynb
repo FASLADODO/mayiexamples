{
 "cells": [
  {
   "cell_type": "code",
   "execution_count": 1,
   "metadata": {},
   "outputs": [],
   "source": [
    "import autodiff as ad\n",
    "import numpy as np"
   ]
  },
  {
   "cell_type": "code",
   "execution_count": 2,
   "metadata": {},
   "outputs": [],
   "source": [
    "x2 = ad.Variable(name=\"x2\")\n",
    "y = x2\n",
    "\n",
    "grad_x2, = ad.gradients(y, [x2])\n",
    "\n",
    "executor = ad.Executor([y, grad_x2])\n",
    "x2_val = 2 * np.ones(3)\n",
    "y_val, grad_x2_val = executor.run(feed_dict={x2: x2_val})"
   ]
  },
  {
   "cell_type": "code",
   "execution_count": 13,
   "metadata": {},
   "outputs": [
    {
     "data": {
      "text/plain": [
       "(array([2., 2., 2.]), array([1., 1., 1.]))"
      ]
     },
     "execution_count": 13,
     "metadata": {},
     "output_type": "execute_result"
    }
   ],
   "source": [
    "y_val, grad_x2_val"
   ]
  },
  {
   "cell_type": "code",
   "execution_count": 3,
   "metadata": {},
   "outputs": [
    {
     "name": "stdout",
     "output_type": "stream",
     "text": [
      "[<autodiff.Node object at 0x1148ba4a8>]\n"
     ]
    }
   ],
   "source": [
    "print(ad.gradients(y, [x2]))"
   ]
  },
  {
   "cell_type": "code",
   "execution_count": 2,
   "metadata": {},
   "outputs": [],
   "source": [
    "# 定义输入\n",
    "x2 = ad.Variable(name = \"x2\")\n",
    "x3 = ad.Variable(name = \"x3\")\n",
    "# 画图\n",
    "y = x2 + x3"
   ]
  },
  {
   "cell_type": "markdown",
   "metadata": {},
   "source": [
    "## gradients 自动求微分"
   ]
  },
  {
   "cell_type": "code",
   "execution_count": 3,
   "metadata": {},
   "outputs": [
    {
     "data": {
      "text/plain": [
       "<autodiff.Node at 0x10e3ff320>"
      ]
     },
     "execution_count": 3,
     "metadata": {},
     "output_type": "execute_result"
    }
   ],
   "source": [
    "x2"
   ]
  },
  {
   "cell_type": "code",
   "execution_count": 4,
   "metadata": {},
   "outputs": [
    {
     "data": {
      "text/plain": [
       "<autodiff.Node at 0x10e3ff358>"
      ]
     },
     "execution_count": 4,
     "metadata": {},
     "output_type": "execute_result"
    }
   ],
   "source": [
    "x3"
   ]
  },
  {
   "cell_type": "code",
   "execution_count": 5,
   "metadata": {},
   "outputs": [
    {
     "data": {
      "text/plain": [
       "<autodiff.Node at 0x10e3ff3c8>"
      ]
     },
     "execution_count": 5,
     "metadata": {},
     "output_type": "execute_result"
    }
   ],
   "source": [
    "y"
   ]
  },
  {
   "cell_type": "code",
   "execution_count": 6,
   "metadata": {},
   "outputs": [
    {
     "name": "stdout",
     "output_type": "stream",
     "text": [
      "{<autodiff.Node object at 0x10e3ff3c8>: [<autodiff.Node object at 0x10e3ffac8>]} Oneslike((x2+x3))\n",
      "{<autodiff.Node object at 0x10e3ff3c8>: [<autodiff.Node object at 0x10e3ffac8>], <autodiff.Node object at 0x10e3ff320>: [<autodiff.Node object at 0x10e3ffac8>], <autodiff.Node object at 0x10e3ff358>: [<autodiff.Node object at 0x10e3ffac8>]} Oneslike((x2+x3))\n",
      "{<autodiff.Node object at 0x10e3ff3c8>: [<autodiff.Node object at 0x10e3ffac8>], <autodiff.Node object at 0x10e3ff320>: [<autodiff.Node object at 0x10e3ffac8>], <autodiff.Node object at 0x10e3ff358>: [<autodiff.Node object at 0x10e3ffac8>]} Oneslike((x2+x3))\n"
     ]
    }
   ],
   "source": [
    "grad_x2, grad_x3 = ad.gradients(y, [x2, x3])"
   ]
  },
  {
   "cell_type": "code",
   "execution_count": 4,
   "metadata": {},
   "outputs": [
    {
     "data": {
      "text/plain": [
       "<autodiff.Node at 0x1170b6438>"
      ]
     },
     "execution_count": 4,
     "metadata": {},
     "output_type": "execute_result"
    }
   ],
   "source": [
    "grad_x2"
   ]
  },
  {
   "cell_type": "code",
   "execution_count": 8,
   "metadata": {},
   "outputs": [
    {
     "data": {
      "text/plain": [
       "<autodiff.Executor at 0x10e8565c0>"
      ]
     },
     "execution_count": 8,
     "metadata": {},
     "output_type": "execute_result"
    }
   ],
   "source": [
    "executor = ad.Executor([y, grad_x2, grad_x3])\n",
    "executor"
   ]
  },
  {
   "cell_type": "code",
   "execution_count": 9,
   "metadata": {},
   "outputs": [
    {
     "data": {
      "text/plain": [
       "array([2., 2., 2.])"
      ]
     },
     "execution_count": 9,
     "metadata": {},
     "output_type": "execute_result"
    }
   ],
   "source": [
    "x2_val = 2 * np.ones(3)\n",
    "x3_val = 3 * np.ones(3)\n",
    "x2_val"
   ]
  },
  {
   "cell_type": "code",
   "execution_count": 10,
   "metadata": {},
   "outputs": [],
   "source": [
    "y_val, grad_x2_val, grad_x3_val = executor.run(feed_dict = {x2: x2_val, x3: x3_val})"
   ]
  },
  {
   "cell_type": "code",
   "execution_count": 11,
   "metadata": {},
   "outputs": [
    {
     "data": {
      "text/plain": [
       "(array([5., 5., 5.]), array([1., 1., 1.]), array([1., 1., 1.]))"
      ]
     },
     "execution_count": 11,
     "metadata": {},
     "output_type": "execute_result"
    }
   ],
   "source": [
    "y_val, grad_x2_val, grad_x3_val"
   ]
  },
  {
   "cell_type": "code",
   "execution_count": null,
   "metadata": {},
   "outputs": [],
   "source": []
  }
 ],
 "metadata": {
  "kernelspec": {
   "display_name": "Python 3",
   "language": "python",
   "name": "python3"
  },
  "language_info": {
   "codemirror_mode": {
    "name": "ipython",
    "version": 3
   },
   "file_extension": ".py",
   "mimetype": "text/x-python",
   "name": "python",
   "nbconvert_exporter": "python",
   "pygments_lexer": "ipython3",
   "version": "3.7.3"
  },
  "toc": {
   "base_numbering": 1,
   "nav_menu": {},
   "number_sections": true,
   "sideBar": true,
   "skip_h1_title": false,
   "title_cell": "Table of Contents",
   "title_sidebar": "Contents",
   "toc_cell": false,
   "toc_position": {},
   "toc_section_display": true,
   "toc_window_display": false
  }
 },
 "nbformat": 4,
 "nbformat_minor": 2
}
