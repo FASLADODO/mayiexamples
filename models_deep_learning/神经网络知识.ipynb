{
 "cells": [
  {
   "attachments": {},
   "cell_type": "markdown",
   "metadata": {},
   "source": [
    "## loss function, cost function\n",
    "Loss function衡量的是在单个样本上的表现；\n",
    "\n",
    "cost function衡量的是在全体样本上的表现\n"
   ]
  },
  {
   "cell_type": "markdown",
   "metadata": {},
   "source": [
    "## 前向传播和反向传播\n",
    "* 前向传播：由input计算y_pred的过程；\n",
    "* 反向传播: 根据每个神经元对误差(y_true-y_pred)的贡献，来调节其连接权重\n",
    "\n",
    "如何来根据误差调节权重？ 按照负梯度方向调整，是最快的！"
   ]
  },
  {
   "cell_type": "markdown",
   "metadata": {},
   "source": [
    "如："
   ]
  },
  {
   "cell_type": "code",
   "execution_count": 14,
   "metadata": {},
   "outputs": [],
   "source": [
    "\n",
    "def forwoad(x1, x2, a1, a2):\n",
    "    \n",
    "    y_pred = a1*x1 + a2*x2\n",
    "    return y_pred"
   ]
  },
  {
   "cell_type": "code",
   "execution_count": 16,
   "metadata": {},
   "outputs": [
    {
     "data": {
      "text/plain": [
       "3"
      ]
     },
     "execution_count": 16,
     "metadata": {},
     "output_type": "execute_result"
    }
   ],
   "source": [
    "# 随机初始化权重\n",
    "a1, a2 = 1, 1\n",
    "#假设\n",
    "x1, x2 = 1, 2\n",
    "y_true=8\n",
    "y_pred = forwoad(x1, x2, a1, a2)\n",
    "y_pred"
   ]
  },
  {
   "cell_type": "code",
   "execution_count": 11,
   "metadata": {},
   "outputs": [],
   "source": [
    "def loss_function(y_pred, y_true):\n",
    "    return 1/2*(y_true-y_pred)**2"
   ]
  },
  {
   "cell_type": "code",
   "execution_count": 12,
   "metadata": {},
   "outputs": [
    {
     "data": {
      "text/plain": [
       "12.5"
      ]
     },
     "execution_count": 12,
     "metadata": {},
     "output_type": "execute_result"
    }
   ],
   "source": [
    "loss = loss_function(y_pred, y_true)\n",
    "loss"
   ]
  },
  {
   "cell_type": "markdown",
   "metadata": {},
   "source": [
    "#### 根据梯度调节x1和x2的权值\n",
    "\n",
    "dL/da1 = -(y_true-y_pred) * dy_pred/da1 * lr = -5 * 1 * 0.01 = -0.05\n",
    "\n",
    "dL/da2= -(y_true-y_pred) /da2 * lr = -5 * 2 * 0.01 = 0.1"
   ]
  },
  {
   "cell_type": "markdown",
   "metadata": {},
   "source": [
    "a1 = 1 - dL/da1 = 1.05\n",
    "\n",
    "a2 = 1 - dL/da2 = 1.1"
   ]
  },
  {
   "cell_type": "code",
   "execution_count": 18,
   "metadata": {},
   "outputs": [
    {
     "data": {
      "text/plain": [
       "3.25"
      ]
     },
     "execution_count": 18,
     "metadata": {},
     "output_type": "execute_result"
    }
   ],
   "source": [
    "y_pred = forwoad(1, 2, 1.05, 1.1)\n",
    "y_pred"
   ]
  },
  {
   "cell_type": "code",
   "execution_count": 19,
   "metadata": {},
   "outputs": [
    {
     "data": {
      "text/plain": [
       "3.2"
      ]
     },
     "execution_count": 19,
     "metadata": {},
     "output_type": "execute_result"
    }
   ],
   "source": [
    "# 按照梯度方向调整是最快的，假设调整反了，\n",
    "forwoad(1, 2, 1.1, 1.05)"
   ]
  },
  {
   "cell_type": "markdown",
   "metadata": {},
   "source": [
    "## 使用向量和矩阵来摆脱显示的调用for循环"
   ]
  },
  {
   "cell_type": "markdown",
   "metadata": {},
   "source": [
    "显示的调用for循环是很低效的"
   ]
  },
  {
   "cell_type": "code",
   "execution_count": null,
   "metadata": {},
   "outputs": [],
   "source": []
  }
 ],
 "metadata": {
  "kernelspec": {
   "display_name": "Python 3",
   "language": "python",
   "name": "python3"
  },
  "language_info": {
   "codemirror_mode": {
    "name": "ipython",
    "version": 3
   },
   "file_extension": ".py",
   "mimetype": "text/x-python",
   "name": "python",
   "nbconvert_exporter": "python",
   "pygments_lexer": "ipython3",
   "version": "3.7.3"
  },
  "toc": {
   "base_numbering": 1,
   "nav_menu": {},
   "number_sections": true,
   "sideBar": true,
   "skip_h1_title": false,
   "title_cell": "Table of Contents",
   "title_sidebar": "Contents",
   "toc_cell": false,
   "toc_position": {},
   "toc_section_display": true,
   "toc_window_display": true
  }
 },
 "nbformat": 4,
 "nbformat_minor": 2
}
