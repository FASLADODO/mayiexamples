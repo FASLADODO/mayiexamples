{
 "cells": [
  {
   "cell_type": "markdown",
   "metadata": {},
   "source": [
    "# 自然语言处理全家福：纵览当前NLP中的任务、数据、模型与论文\n",
    "http://baijiahao.baidu.com/s?id=1604151538041689491&wfr=spider&for=pc"
   ]
  },
  {
   "cell_type": "markdown",
   "metadata": {},
   "source": [
    "## 多任务学习\n",
    "\n",
    "多任务学习的目标是同时学习多个不同的任务，并最大化其中一个或全部任务的性能。\n",
    "\n",
    "### GLUE\n",
    "通用语言理解评估基准（GLUE）是用于评估和分析多种已有自然语言理解任务的模型性能的工具。模型基于在所有任务的平均准确率进行评估。\n",
    "\n",
    "当前最佳结果可以在公开 GLUE 排行榜上查看：https://gluebenchmark.com/leaderboard。"
   ]
  },
  {
   "cell_type": "markdown",
   "metadata": {},
   "source": [
    "## 语义文本相似性\n",
    "\n",
    "语义文本相似性在于推断两段文本之间的距离，例如我们可以分配 1 到 5 来表示文本有多么相似。对应任务有释义转换和重复识别。\n",
    "\n",
    "### Microsoft Research Paraphrase Corpus（MRPC）语料库\n",
    "是释义识别的数据集，其中系统旨在识别两个语句是否相互为释义句。评估标准为分类准确度和 F1 分数。"
   ]
  },
  {
   "cell_type": "code",
   "execution_count": null,
   "metadata": {},
   "outputs": [],
   "source": []
  }
 ],
 "metadata": {
  "kernelspec": {
   "display_name": "Python 3",
   "language": "python",
   "name": "python3"
  },
  "language_info": {
   "codemirror_mode": {
    "name": "ipython",
    "version": 3
   },
   "file_extension": ".py",
   "mimetype": "text/x-python",
   "name": "python",
   "nbconvert_exporter": "python",
   "pygments_lexer": "ipython3",
   "version": "3.7.3"
  },
  "toc": {
   "base_numbering": 1,
   "nav_menu": {},
   "number_sections": true,
   "sideBar": true,
   "skip_h1_title": false,
   "title_cell": "Table of Contents",
   "title_sidebar": "Contents",
   "toc_cell": false,
   "toc_position": {},
   "toc_section_display": true,
   "toc_window_display": false
  }
 },
 "nbformat": 4,
 "nbformat_minor": 2
}
