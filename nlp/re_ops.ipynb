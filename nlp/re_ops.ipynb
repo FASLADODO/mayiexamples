{
 "cells": [
  {
   "cell_type": "markdown",
   "metadata": {},
   "source": [
    "https://www.runoob.com/python/python-reg-expressions.html"
   ]
  },
  {
   "cell_type": "markdown",
   "metadata": {},
   "source": [
    "        re.I: 对大小写不敏感\n",
    "        re.M: 多行匹配， 影响^和$\n",
    "        re.S: 使 . 匹配换行在内的所有字符\n",
    "        re.U: 根据Unicode字符集解析字符。这个标志影响\\w, \\W, \\b, \\B\n",
    "        re.L: 做本地识别匹配"
   ]
  },
  {
   "cell_type": "code",
   "execution_count": 1,
   "metadata": {},
   "outputs": [],
   "source": [
    "import re\n",
    "import nltk"
   ]
  },
  {
   "cell_type": "markdown",
   "metadata": {},
   "source": [
    "# api"
   ]
  },
  {
   "cell_type": "markdown",
   "metadata": {},
   "source": [
    "## 生成pattern对象"
   ]
  },
  {
   "cell_type": "markdown",
   "metadata": {},
   "source": [
    "re.DOTALL 可以让正则表达式中的点（.）匹配包括换行符在内的任意字符"
   ]
  },
  {
   "cell_type": "code",
   "execution_count": 31,
   "metadata": {},
   "outputs": [
    {
     "data": {
      "text/plain": [
       "['a\\n           b']"
      ]
     },
     "execution_count": 31,
     "metadata": {},
     "output_type": "execute_result"
    }
   ],
   "source": [
    "pattern = re.compile(r'a.+b', flags=re.DOTALL)\n",
    "\n",
    "re.findall(pattern, \"\"\"a\n",
    "           b\"\"\")"
   ]
  },
  {
   "cell_type": "code",
   "execution_count": 30,
   "metadata": {},
   "outputs": [
    {
     "data": {
      "text/plain": [
       "[]"
      ]
     },
     "execution_count": 30,
     "metadata": {},
     "output_type": "execute_result"
    }
   ],
   "source": [
    "pattern = re.compile(r'a.+b')\n",
    "\n",
    "re.findall(pattern, \"\"\"a\n",
    "           b\"\"\")"
   ]
  },
  {
   "cell_type": "markdown",
   "metadata": {},
   "source": [
    "## nltk.re_show(regexp, string, left='{', right='}')"
   ]
  },
  {
   "cell_type": "code",
   "execution_count": 2,
   "metadata": {},
   "outputs": [
    {
     "name": "stdout",
     "output_type": "stream",
     "text": [
      "12{fF}{ds}{DF}{DS}3{rt}{G}4\n"
     ]
    }
   ],
   "source": [
    "nltk.re_show(r'[a-zA-Z]{1,2}', '12fFdsDFDS3rtG4')"
   ]
  },
  {
   "cell_type": "markdown",
   "metadata": {},
   "source": [
    "## \\w匹配字母、数字、下划线。注意不会匹配到中英文标点符号"
   ]
  },
  {
   "cell_type": "code",
   "execution_count": 3,
   "metadata": {},
   "outputs": [
    {
     "name": "stdout",
     "output_type": "stream",
     "text": [
      "{12fFdsD}.{FDS3rtG4}\n"
     ]
    }
   ],
   "source": [
    "nltk.re_show(r'\\w+', '12fFdsD.FDS3rtG4')"
   ]
  },
  {
   "cell_type": "code",
   "execution_count": 4,
   "metadata": {},
   "outputs": [
    {
     "name": "stdout",
     "output_type": "stream",
     "text": [
      "{ian说}：{你好}，{我}（{ian}）{是ian_luo}。{hi}, {nice} {to} {meet} {u}!\n"
     ]
    }
   ],
   "source": [
    "nltk.re_show(r'\\w+', 'ian说：你好，我（ian）是ian_luo。hi, nice to meet u!')"
   ]
  },
  {
   "cell_type": "markdown",
   "metadata": {},
   "source": [
    "## match & search \n",
    "match 和search的区别是从字符串开头开始匹配，如果开头匹配不到，则返回None  \n",
    "        Try to apply the pattern at the start of the string, returning\n",
    "        a match object, or None if no match was found."
   ]
  },
  {
   "cell_type": "code",
   "execution_count": 19,
   "metadata": {},
   "outputs": [],
   "source": [
    "re.match(r'肚子|小腹|上腹|下腹|腹部|肚|腹','我腹疼啊腹好痛')"
   ]
  },
  {
   "cell_type": "code",
   "execution_count": 15,
   "metadata": {},
   "outputs": [
    {
     "data": {
      "text/plain": [
       "<re.Match object; span=(1, 2), match='腹'>"
      ]
     },
     "execution_count": 15,
     "metadata": {},
     "output_type": "execute_result"
    }
   ],
   "source": [
    "re.search(r'肚子|小腹|上腹|下腹|腹部|肚|腹','我腹疼啊腹好痛')"
   ]
  },
  {
   "cell_type": "code",
   "execution_count": 16,
   "metadata": {},
   "outputs": [
    {
     "data": {
      "text/plain": [
       "(1, 2)"
      ]
     },
     "execution_count": 16,
     "metadata": {},
     "output_type": "execute_result"
    }
   ],
   "source": [
    "re.search(r'肚子|小腹|上腹|下腹|腹部|肚|腹','我腹疼啊腹好痛').span()"
   ]
  },
  {
   "cell_type": "code",
   "execution_count": 17,
   "metadata": {},
   "outputs": [
    {
     "data": {
      "text/plain": [
       "'腹'"
      ]
     },
     "execution_count": 17,
     "metadata": {},
     "output_type": "execute_result"
    }
   ],
   "source": [
    "re.search(r'肚子|小腹|上腹|下腹|腹部|肚|腹','我腹疼啊腹好痛').group()"
   ]
  },
  {
   "cell_type": "markdown",
   "metadata": {},
   "source": [
    "## findall"
   ]
  },
  {
   "cell_type": "code",
   "execution_count": 6,
   "metadata": {},
   "outputs": [
    {
     "data": {
      "text/plain": [
       "['ⅰ']"
      ]
     },
     "execution_count": 6,
     "metadata": {},
     "output_type": "execute_result"
    }
   ],
   "source": [
    "re.findall('([ⅰ]+)','ⅰ ⅱ')"
   ]
  },
  {
   "cell_type": "code",
   "execution_count": 7,
   "metadata": {},
   "outputs": [
    {
     "data": {
      "text/plain": [
       "['f', 's', 'r']"
      ]
     },
     "execution_count": 7,
     "metadata": {},
     "output_type": "execute_result"
    }
   ],
   "source": [
    "re.findall('([s|rf]+)','12fFdsDFDS3rtG4')"
   ]
  },
  {
   "cell_type": "code",
   "execution_count": 9,
   "metadata": {},
   "outputs": [
    {
     "data": {
      "text/plain": [
       "['f', 's', 'r']"
      ]
     },
     "execution_count": 9,
     "metadata": {},
     "output_type": "execute_result"
    }
   ],
   "source": [
    "re.findall('([srf]+)','12fFdsDFDS3rtG4')"
   ]
  },
  {
   "cell_type": "code",
   "execution_count": 10,
   "metadata": {},
   "outputs": [
    {
     "data": {
      "text/plain": [
       "['fFdsDFDS', 'rtG']"
      ]
     },
     "execution_count": 10,
     "metadata": {},
     "output_type": "execute_result"
    }
   ],
   "source": [
    "re.findall('([a-zA-Z]+)','12fFdsDFDS3rtG4')"
   ]
  },
  {
   "cell_type": "code",
   "execution_count": 11,
   "metadata": {},
   "outputs": [
    {
     "data": {
      "text/plain": [
       "['fFdsDFDS', 'rtG']"
      ]
     },
     "execution_count": 11,
     "metadata": {},
     "output_type": "execute_result"
    }
   ],
   "source": [
    "re.findall('[a-zA-Z]+','12fFdsDFDS3rtG4')"
   ]
  },
  {
   "cell_type": "code",
   "execution_count": 24,
   "metadata": {},
   "outputs": [
    {
     "data": {
      "text/plain": [
       "[('2', '3'), ('3', '4')]"
      ]
     },
     "execution_count": 24,
     "metadata": {},
     "output_type": "execute_result"
    }
   ],
   "source": [
    "re.findall('(\\d)\\s+(\\d)','12 3fFdsDFDS3 4rtG4')"
   ]
  },
  {
   "cell_type": "markdown",
   "metadata": {},
   "source": [
    "## sub subn"
   ]
  },
  {
   "cell_type": "code",
   "execution_count": 12,
   "metadata": {},
   "outputs": [
    {
     "data": {
      "text/plain": [
       "('1_2_2_3_4', 4)"
      ]
     },
     "execution_count": 12,
     "metadata": {},
     "output_type": "execute_result"
    }
   ],
   "source": [
    "re.subn(r' ','_', '1 2 2 3 4')"
   ]
  },
  {
   "cell_type": "code",
   "execution_count": 13,
   "metadata": {},
   "outputs": [
    {
     "data": {
      "text/plain": [
       "'1_2_2_3_4'"
      ]
     },
     "execution_count": 13,
     "metadata": {},
     "output_type": "execute_result"
    }
   ],
   "source": [
    "re.sub(r' ', '_', '1 2 2 3 4')"
   ]
  },
  {
   "cell_type": "markdown",
   "metadata": {},
   "source": [
    "## split"
   ]
  },
  {
   "cell_type": "code",
   "execution_count": 20,
   "metadata": {},
   "outputs": [
    {
     "data": {
      "text/plain": [
       "['1', '2', '2', '3', '4']"
      ]
     },
     "execution_count": 20,
     "metadata": {},
     "output_type": "execute_result"
    }
   ],
   "source": [
    "re.split(r' ', '1 2 2 3 4')"
   ]
  },
  {
   "cell_type": "code",
   "execution_count": 14,
   "metadata": {},
   "outputs": [
    {
     "data": {
      "text/plain": [
       "['1', '2', '2 3 4']"
      ]
     },
     "execution_count": 14,
     "metadata": {},
     "output_type": "execute_result"
    }
   ],
   "source": [
    "re.split(r' ', '1 2 2 3 4', maxsplit=2)"
   ]
  },
  {
   "cell_type": "code",
   "execution_count": 23,
   "metadata": {},
   "outputs": [
    {
     "data": {
      "text/plain": [
       "['a', 'c', '']"
      ]
     },
     "execution_count": 23,
     "metadata": {},
     "output_type": "execute_result"
    }
   ],
   "source": [
    "re.split(r'[，。！？、]/[bems]', 'a。/bc，/e')"
   ]
  },
  {
   "cell_type": "markdown",
   "metadata": {},
   "source": [
    "# examples"
   ]
  },
  {
   "cell_type": "markdown",
   "metadata": {},
   "source": [
    "## 同义词替换 match search"
   ]
  },
  {
   "cell_type": "code",
   "execution_count": 5,
   "metadata": {},
   "outputs": [
    {
     "name": "stdout",
     "output_type": "stream",
     "text": [
      "<re.Match object; span=(1, 2), match='腹'>\n",
      "(1, 2)\n",
      "腹\n",
      "None\n",
      "<re.Match object; span=(0, 1), match='腹'>\n"
     ]
    }
   ],
   "source": [
    "fubu = ['肚子', '小腹', '上腹', '下腹', '腹部', '肚', '腹']\n",
    "jinbu = ['脖子', '头颈', '脖颈', '脖梗', '颈部', '颈椎', '颈', '脖']\n",
    "yanhou = ['扁桃体', '嗓子', '喉咙', '咽喉', '食管', '喉结', '声带', '咽', '喉']\n",
    "nanxsz = ['男性生殖', '睾丸', '包皮', '阴茎', '阴囊', '鸡鸡', '龟头', '精']\n",
    "nvxsz = ['女性生殖', '产褥期', '排卵期', '阴道', '白带', '经期', '月经', '闭经', '会阴', '子宫']\n",
    "penqiang = ['尿道', '盆腔', '耻骨', '髋']\n",
    "beibu = ['脊柱', '背脊', '背部', '背']\n",
    "tunbu = ['肛门', '臀部', '屁股', '屁', '臀', '髋']\n",
    "yaobu = ['肾区', '腰部', '腰']\n",
    "daxiaobian = ['大小便', '大便', '小便', '屎', '尿']\n",
    "pattern = re.compile(r'|'.join(fubu))\n",
    "r = re.search(r'肚子|小腹|上腹|下腹|腹部|肚|腹', '我腹疼啊腹好痛')\n",
    "print(r)#<_sre.SRE_Match object; span=(1, 2), match='腹'>\n",
    "print(r.span())#(1, 2)\n",
    "print(r.group())#腹\n",
    "r = re.match(r'肚子|小腹|上腹|下腹|腹部|肚|腹', '我腹疼啊腹好痛')\n",
    "print(r)#None\n",
    "print(re.match(r'肚子|小腹|上腹|下腹|腹部|肚|腹','腹疼啊腹好痛'))#<_sre.SRE_Match object; span=(0, 1), match='腹'>\n"
   ]
  },
  {
   "cell_type": "code",
   "execution_count": null,
   "metadata": {},
   "outputs": [],
   "source": []
  }
 ],
 "metadata": {
  "kernelspec": {
   "display_name": "Python 3",
   "language": "python",
   "name": "python3"
  },
  "language_info": {
   "codemirror_mode": {
    "name": "ipython",
    "version": 3
   },
   "file_extension": ".py",
   "mimetype": "text/x-python",
   "name": "python",
   "nbconvert_exporter": "python",
   "pygments_lexer": "ipython3",
   "version": "3.7.3"
  },
  "toc": {
   "base_numbering": 1,
   "nav_menu": {},
   "number_sections": true,
   "sideBar": true,
   "skip_h1_title": false,
   "title_cell": "Table of Contents",
   "title_sidebar": "Contents",
   "toc_cell": false,
   "toc_position": {},
   "toc_section_display": true,
   "toc_window_display": true
  }
 },
 "nbformat": 4,
 "nbformat_minor": 2
}
