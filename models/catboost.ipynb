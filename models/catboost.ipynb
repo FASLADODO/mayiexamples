{
 "cells": [
  {
   "cell_type": "markdown",
   "metadata": {},
   "source": [
    "# catboost\n",
    "CatBoost is a fast, scalable, high performance gradient boosting on decision trees library. Used for   \n",
    "* ranking, \n",
    "* classification, \n",
    "* regression \n",
    "* other ML tasks.\n",
    "------\n",
    "* 官网https://catboost.ai/\n",
    "* https://github.com/catboost/catboost 是一个C++库  \n",
    "* https://github.com/catboost/tutorials  \n",
    "* 论文地址https://arxiv.org/pdf/1706.09516.pdf"
   ]
  },
  {
   "cell_type": "markdown",
   "metadata": {},
   "source": [
    "## features\n",
    "* Great quality without parameter tuning\n",
    "Reduce time spent on parameter tuning, because CatBoost provides great results with default parameters\n",
    "\n",
    "* Categorical features support  \n",
    "支持非数值特征，不需要在手动处理类别特征！！！  \n",
    "Improve your training results with CatBoost that allows you to use non-numeric factors, instead of having to pre-process your data or spend time and effort turning it to numbers.\n",
    "\n",
    "\n",
    "\n",
    "* Fast and scalable GPU version  \n",
    "Train your model on a fast implementation of gradient-boosting algorithm for GPU. Use a multi-card configuration for large datasets.\n",
    "\n",
    "* Improved accuracy  \n",
    "Reduce overfitting when constructing your models with a novel gradient-boosting scheme.\n",
    "\n",
    "* Fast prediction  \n",
    "Apply your trained model quickly and efficiently even to latency-critical tasks using CatBoost's model applier"
   ]
  },
  {
   "cell_type": "markdown",
   "metadata": {},
   "source": [
    "## installation"
   ]
  },
  {
   "cell_type": "code",
   "execution_count": 2,
   "metadata": {},
   "outputs": [
    {
     "name": "stdout",
     "output_type": "stream",
     "text": [
      "catboost==0.16.1\r\n"
     ]
    }
   ],
   "source": [
    "# !pip install catboost\n",
    "!pip freeze | grep catboost"
   ]
  },
  {
   "cell_type": "markdown",
   "metadata": {},
   "source": [
    "# examples"
   ]
  },
  {
   "cell_type": "markdown",
   "metadata": {},
   "source": [
    "## 查看myapps中IEEE-CIS Fraud Detection"
   ]
  },
  {
   "cell_type": "code",
   "execution_count": null,
   "metadata": {},
   "outputs": [],
   "source": []
  }
 ],
 "metadata": {
  "kernelspec": {
   "display_name": "Python 3",
   "language": "python",
   "name": "python3"
  },
  "language_info": {
   "codemirror_mode": {
    "name": "ipython",
    "version": 3
   },
   "file_extension": ".py",
   "mimetype": "text/x-python",
   "name": "python",
   "nbconvert_exporter": "python",
   "pygments_lexer": "ipython3",
   "version": "3.7.3"
  },
  "toc": {
   "base_numbering": 1,
   "nav_menu": {},
   "number_sections": true,
   "sideBar": true,
   "skip_h1_title": false,
   "title_cell": "Table of Contents",
   "title_sidebar": "Contents",
   "toc_cell": false,
   "toc_position": {},
   "toc_section_display": true,
   "toc_window_display": false
  }
 },
 "nbformat": 4,
 "nbformat_minor": 2
}
