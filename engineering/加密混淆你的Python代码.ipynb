{
 "cells": [
  {
   "cell_type": "markdown",
   "metadata": {},
   "source": [
    "找了一圈回来，也没有找到满意的代码混淆的方法！！！\n",
    "\n",
    "现在用python的人也多了起来，代码安全始终是我们要考虑的问题，比如说我们要将我们的成果发布出去，py直接发布肯定是不行的（除非你是开源的）\n",
    "一般的做法：\n",
    "* 先做代码混淆；\n",
    "* 再编译为二进制文件，如pyc"
   ]
  },
  {
   "cell_type": "markdown",
   "metadata": {},
   "source": [
    "# pyc\n",
    "pyc文件是一个二进制的文件，是不具备可读性的。\n",
    "那么我们就只能考虑发布pyc文件了，"
   ]
  },
  {
   "cell_type": "markdown",
   "metadata": {},
   "source": [
    "## 单个文件"
   ]
  },
  {
   "cell_type": "code",
   "execution_count": null,
   "metadata": {},
   "outputs": [],
   "source": [
    "python -m py_compile test.py"
   ]
  },
  {
   "cell_type": "markdown",
   "metadata": {},
   "source": [
    "## 多个文件"
   ]
  },
  {
   "cell_type": "code",
   "execution_count": null,
   "metadata": {},
   "outputs": [],
   "source": [
    "python -m compileall 存放海量py的目录"
   ]
  },
  {
   "cell_type": "markdown",
   "metadata": {},
   "source": [
    "## 反编译 pyc"
   ]
  },
  {
   "cell_type": "code",
   "execution_count": 2,
   "metadata": {},
   "outputs": [
    {
     "name": "stdout",
     "output_type": "stream",
     "text": [
      "uncompyle==2.0.0\r\n",
      "uncompyle6==3.4.1\r\n"
     ]
    }
   ],
   "source": [
    "# !pip install uncompyle -U\n",
    "!pip freeze | grep uncompyle"
   ]
  },
  {
   "cell_type": "code",
   "execution_count": null,
   "metadata": {},
   "outputs": [],
   "source": [
    "uncompyle6 test.pyc > test1.py"
   ]
  },
  {
   "cell_type": "markdown",
   "metadata": {},
   "source": [
    "反编译的效果和原文件一模一样，连注释都一样！！！\n",
    "\n",
    "证明pyc就是吓唬人的，一点用都没有。。。"
   ]
  },
  {
   "cell_type": "markdown",
   "metadata": {},
   "source": [
    "# 代码混淆pyminifier\n",
    "代码混淆，也是一种常见的“加密”方式，严格意义上说，这一方法并不是加密，而是上代码的可读性变差。比如删除注释，添加毫无意义的注释，添加无效代码，对变量、函数、类进行重命名等。"
   ]
  },
  {
   "cell_type": "code",
   "execution_count": 3,
   "metadata": {},
   "outputs": [
    {
     "name": "stdout",
     "output_type": "stream",
     "text": [
      "Usage: pyminifier [options] \"<input file>\"\r\n",
      "\r\n",
      "Options:\r\n",
      "  --version             show program's version number and exit\r\n",
      "  -h, --help            show this help message and exit\r\n",
      "  -o <file path>, --outfile=<file path>\r\n",
      "                        Save output to the given file.\r\n",
      "  -d <file path>, --destdir=<file path>\r\n",
      "                        Save output to the given directory. This option is\r\n",
      "                        required when handling multiple files. Defaults to\r\n",
      "                        './minified' and will be created if not present.\r\n",
      "  --nominify            Don't bother minifying (only used with --pyz).\r\n",
      "  --use-tabs            Use tabs for indentation instead of spaces.\r\n",
      "  --bzip2               bzip2-compress the result into a self-executing python\r\n",
      "                        script.  Only works on stand-alone scripts without\r\n",
      "                        implicit imports.\r\n",
      "  --gzip                gzip-compress the result into a self-executing python\r\n",
      "                        script.  Only works on stand-alone scripts without\r\n",
      "                        implicit imports.\r\n",
      "  --lzma                lzma-compress the result into a self-executing python\r\n",
      "                        script.  Only works on stand-alone scripts without\r\n",
      "                        implicit imports.\r\n",
      "  --pyz=<name of archive>.pyz\r\n",
      "                        zip-compress the result into a self-executing python\r\n",
      "                        script. This will create a new file that includes any\r\n",
      "                        necessary implicit (local to the script) modules.\r\n",
      "                        Will include/process all files given as arguments to\r\n",
      "                        pyminifier.py on the command line.\r\n",
      "  -O, --obfuscate       Obfuscate all function/method names, variables, and\r\n",
      "                        classes.  Default is to NOT obfuscate.\r\n",
      "  --obfuscate-classes   Obfuscate class names.\r\n",
      "  --obfuscate-functions\r\n",
      "                        Obfuscate function and method names.\r\n",
      "  --obfuscate-variables\r\n",
      "                        Obfuscate variable names.\r\n",
      "  --obfuscate-import-methods\r\n",
      "                        Obfuscate globally-imported mouled methods (e.g.\r\n",
      "                        'Ag=re.compile').\r\n",
      "  --obfuscate-builtins  Obfuscate built-ins (i.e. True, False, object,\r\n",
      "                        Exception, etc).\r\n",
      "  --replacement-length=1\r\n",
      "                        The length of the random names that will be used when\r\n",
      "                        obfuscating identifiers.\r\n",
      "  --nonlatin            Use non-latin (unicode) characters in obfuscation\r\n",
      "                        (Python 3 only).  WARNING: This results in some\r\n",
      "                        SERIOUSLY hard-to-read code.\r\n",
      "  --prepend=<file path>\r\n",
      "                        Prepend the text in this file to the top of our\r\n",
      "                        output.  e.g. A copyright notice.\r\n"
     ]
    }
   ],
   "source": [
    "!pyminifier --help"
   ]
  },
  {
   "cell_type": "code",
   "execution_count": 4,
   "metadata": {},
   "outputs": [
    {
     "name": "stdout",
     "output_type": "stream",
     "text": [
      "account        OTHER          PA  ...       ZLT         TOTAL\r\n",
      "2019-09-23  142000.0  317481.000  ...  159254.8  1.671302e+06\r\n",
      "2019-09-24  142000.0  317503.000  ...  159519.2  1.672387e+06\r\n",
      "2019-09-25  142000.0  311118.997  ...  159519.2  1.666003e+06\r\n",
      "2019-09-26  142000.0  311118.997  ...  159519.2  1.666003e+06\r\n",
      "\r\n",
      "[4 rows x 6 columns]\r\n"
     ]
    }
   ],
   "source": [
    "!python test.py"
   ]
  },
  {
   "cell_type": "code",
   "execution_count": 15,
   "metadata": {},
   "outputs": [
    {
     "name": "stdout",
     "output_type": "stream",
     "text": [
      "#!/usr/bin/python\r\n",
      "# encoding: utf-8\r\n",
      "import os\r\n",
      "import sys\r\n",
      "sys.path.append('/Users/luoyonggui/PycharmProjects/mayiutils_n1/mayiutils/db')\r\n",
      "from pymongo_wrapper import PyMongoWrapper\r\n",
      "import pandas as pd\r\n",
      "import numpy as np\r\n",
      "class Publisher:\r\n",
      " def __init__(self):\r\n",
      "  pass\r\n",
      " def register(self):\r\n",
      "  pass\r\n",
      " def unregister(self):\r\n",
      "  pass\r\n",
      " def notify_all(self):\r\n",
      "  pass\r\n",
      "class Subscriber:\r\n",
      " def __init__(self):\r\n",
      "  pass\r\n",
      " def notify(self):\r\n",
      "  pass\r\n",
      "from attr import attrs,attrib,fields\r\n",
      "from cattr import unstructure,structure\r\n",
      "from datetime import datetime,date\r\n",
      "@attrs\r\n",
      "class Transaction:\r\n",
      " num=attrib(type=float,default=0)\r\n",
      " price=attrib(type=float,default=0)\r\n",
      " fee_rate=attrib(type=float,default=0)\r\n",
      " trade_date=attrib(type=datetime,default=datetime.now())\r\n",
      " target=attrib(type=str,default='cash')\r\n",
      " account=attrib(type=str,default='pingan')\r\n",
      "@attrs\r\n",
      "class Trade(Publisher):\r\n",
      " _transaction_list=attrib(factory=list,repr=False)\r\n",
      " _accounts=attrib(factory=list)\r\n",
      " def register(self,account):\r\n",
      "  if account not in self._accounts:\r\n",
      "   self._accounts.append(account)\r\n",
      " def unregister(self,account):\r\n",
      "  if account not in self._accounts:\r\n",
      "   self._accounts.remove(account)\r\n",
      " def notify_all(self):\r\n",
      "  for a in self._accounts:\r\n",
      "   a.notify(self._transaction_list)\r\n",
      "@attrs\r\n",
      "class Account(Subscriber):\r\n",
      " _name=attrib(type=str)\r\n",
      " _trade_list=attrib(factory=list,repr=False)\r\n",
      " _positions=attrib(factory=dict)\r\n",
      " _cash=attrib(type=float,default=0)\r\n",
      " def notify(self,transaction_list):\r\n",
      "  for t in transaction_list:\r\n",
      "   if t.account==self._name:\r\n",
      "    self._trade_list.append(t)\r\n",
      "    if t.target=='cash':\r\n",
      "     self._cash+=t.num\r\n",
      "    else:\r\n",
      "     num=t.num\r\n",
      "     amount=t.num*t.price\r\n",
      "     fee=5 if amount*0.00025<5 else amount*0.00025\r\n",
      "     if t.target in self._positions:\r\n",
      "      num+=self._positions[t.target][0]\r\n",
      "      amount+=self._positions[t.target][1]*self._positions[t.target][0]\r\n",
      "     price_mean=(amount+fee)/num\r\n",
      "     self._positions[t.target]=(num,price_mean)\r\n",
      "def add_transactions():\r\n",
      " df=pd.read_excel('data/transactions.xlsx')\r\n",
      " r=[]\r\n",
      " for line in df.itertuples():\r\n",
      "  if line.target!='cash':\r\n",
      "   r.append([line.trade_date,line.account,'cash',1,-1*(line.price*line.num*1+line.fee_rate),0])\r\n",
      " dft=pd.DataFrame(r,columns=df.columns)\r\n",
      " df=pd.concat([df,dft],ignore_index=True)\r\n",
      " print(df)\r\n",
      " if not df.empty:\r\n",
      "  mongo=PyMongoWrapper()\r\n",
      "  mongo.insertDataframe(df,'finance','transactions')\r\n",
      " else:\r\n",
      "  print('no transactions!')\r\n",
      "FILE_DIR=os.path.dirname(os.path.abspath(__file__))\r\n",
      "stock_series=pd.read_pickle(os.path.join(FILE_DIR,'data/stock_dict.pkl'))\r\n",
      "fund_otc_series=pd.read_pickle(os.path.join(FILE_DIR,'data/fund_otc_series.pkl'))\r\n",
      "series=stock_series.append(fund_otc_series)\r\n",
      "def get_last_day_market_val(target,tdate):\r\n",
      " if target=='cash':\r\n",
      "  return datetime.now().date(),1\r\n",
      " if any([target.endswith('.SZ'),target.endswith('.SH')]):\r\n",
      "  tname=target\r\n",
      " else:\r\n",
      "  tname=series.loc[target]\r\n",
      " mongo=PyMongoWrapper()\r\n",
      " table=mongo.getCollection('finance',tname)\r\n",
      " r=list(mongo.findAll(table,{'trade_date':{'$lte':datetime.strptime(tdate,'%Y%m%d')}},fieldlist=['trade_date','close','pct_chg'],sort=[('trade_date',-1)],limit=1))[0]\r\n",
      " return r['trade_date'].date(),r['close']\r\n",
      "def get_account_val(trans_df,tdate):\r\n",
      " trans_df=trans_df[:tdate]\r\n",
      " df_ac=trans_df.groupby(['account','target'])['num','cost'].sum()\r\n",
      " df_ac.reset_index(inplace=True)\r\n",
      " df_ac['price']=0\r\n",
      " df_ac['tdate']=0\r\n",
      " for i in trans_df['target'].unique():\r\n",
      "  df_ac.loc[df_ac.target==i,['tdate','price']]=get_last_day_market_val(i,tdate)\r\n",
      " df_ac['type']=np.where((df_ac.account=='PA')&(df_ac.target!='cash'),'STOCK',np.where((df_ac.account=='ZLT')&(df_ac.target!='cash'),'FUND',np.where((df_ac.account.isin(['TTJ','TTA']))&(df_ac.target!='cash'),'OTC_FUND','cash')))\r\n",
      " df_ac['market_val']=df_ac.num*df_ac.price\r\n",
      " df_ac['profit']=df_ac['market_val']-df_ac['cost']\r\n",
      " s=df_ac.groupby('account')['market_val'].sum()\r\n",
      " s.loc['TOTAL']=s.sum()\r\n",
      " dfr=pd.DataFrame(s).T\r\n",
      " dfr.index.name='date'\r\n",
      " dfr.index=pd.to_datetime([tdate])\r\n",
      " return dfr\r\n",
      "if __name__=='__main__':\r\n",
      " transaction_list=[]\r\n",
      " mongo=PyMongoWrapper()\r\n",
      " table=mongo.getCollection('finance','transactions')\r\n",
      " cols='trade_date account target price num fee_rate'.split()\r\n",
      " rs=mongo.findAll(table,fieldlist=cols,sort=[('trade_date',1)])\r\n",
      " trans_df=pd.DataFrame(rs)\r\n",
      " trans_df.set_index('trade_date',inplace=True)\r\n",
      " trans_df['cost']=trans_df['price']*trans_df['num']*(1+trans_df.fee_rate)\r\n",
      " dfc=pd.DataFrame()\r\n",
      " dates=pd.date_range('20190921','20190926',freq='B')\r\n",
      " for d in dates:\r\n",
      "  d=d.strftime('%Y%m%d')\r\n",
      "  if dfc.empty:\r\n",
      "   dfc=get_account_val(trans_df,d)\r\n",
      "  else:\r\n",
      "   dfc=pd.concat([dfc,get_account_val(trans_df,d)])\r\n",
      " print(dfc)\r\n",
      " dfc.plot(subplots=True,figsize=(8,14))\r\n",
      "# Created by pyminifier (https://github.com/liftoff/pyminifier)\r\n",
      "\r\n"
     ]
    }
   ],
   "source": [
    "!pyminifier test.py"
   ]
  },
  {
   "cell_type": "code",
   "execution_count": 7,
   "metadata": {},
   "outputs": [
    {
     "name": "stdout",
     "output_type": "stream",
     "text": [
      "account        OTHER          PA  ...       ZLT         TOTAL\r\n",
      "2019-09-23  142000.0  317481.000  ...  159254.8  1.671302e+06\r\n",
      "2019-09-24  142000.0  317503.000  ...  159519.2  1.672387e+06\r\n",
      "2019-09-25  142000.0  311118.997  ...  159519.2  1.666003e+06\r\n",
      "2019-09-26  142000.0  311118.997  ...  159519.2  1.666003e+06\r\n",
      "\r\n",
      "[4 rows x 6 columns]\r\n"
     ]
    }
   ],
   "source": [
    "!pyminifier test.py  | python"
   ]
  },
  {
   "cell_type": "code",
   "execution_count": 8,
   "metadata": {},
   "outputs": [
    {
     "name": "stdout",
     "output_type": "stream",
     "text": [
      "#!/usr/bin/python\r\n",
      "# encoding: utf-8\r\n",
      "Yk=float\r\n",
      "Yd=str\r\n",
      "Yw=list\r\n",
      "YB=False\r\n",
      "YM=dict\r\n",
      "Yo=True\r\n",
      "YS=print\r\n",
      "YD=any\r\n",
      "import os\r\n",
      "h=os.path\r\n",
      "import sys\r\n",
      "f=sys.path\r\n",
      "f.append('/Users/luoyonggui/PycharmProjects/mayiutils_n1/mayiutils/db')\r\n",
      "from pymongo_wrapper import PyMongoWrapper\r\n",
      "import pandas as pd\r\n",
      "Yn=pd.date_range\r\n",
      "Yi=pd.to_datetime\r\n",
      "YW=pd.read_pickle\r\n",
      "YQ=pd.concat\r\n",
      "G=pd.DataFrame\r\n",
      "p=pd.read_excel\r\n",
      "import numpy as np\r\n",
      "Yy=np.where\r\n",
      "class v:\r\n",
      " def __init__(k):\r\n",
      "  pass\r\n",
      " def g(k):\r\n",
      "  pass\r\n",
      " def m(k):\r\n",
      "  pass\r\n",
      " def K(k):\r\n",
      "  pass\r\n",
      "class b:\r\n",
      " def __init__(k):\r\n",
      "  pass\r\n",
      " def T(k):\r\n",
      "  pass\r\n",
      "from attr import attrs,attrib,fields\r\n",
      "from cattr import unstructure,structure\r\n",
      "from datetime import datetime,date\r\n",
      "YJ=datetime.strptime\r\n",
      "Yx=datetime.now\r\n",
      "@attrs\r\n",
      "class H:\r\n",
      " Y=attrib(type=Yk,default=0)\r\n",
      " Q=attrib(type=Yk,default=0)\r\n",
      " W=attrib(type=Yk,default=0)\r\n",
      " i=attrib(type=datetime,default=Yx())\r\n",
      " n=attrib(type=Yd,default='cash')\r\n",
      " y=attrib(type=Yd,default='pingan')\r\n",
      "@attrs\r\n",
      "class V(v):\r\n",
      " x=attrib(factory=Yw,repr=YB)\r\n",
      " J=attrib(factory=Yw)\r\n",
      " def g(k,y):\r\n",
      "  if y not in k._accounts:\r\n",
      "   k._accounts.append(y)\r\n",
      " def m(k,y):\r\n",
      "  if y not in k._accounts:\r\n",
      "   k._accounts.remove(y)\r\n",
      " def K(k):\r\n",
      "  for a in k._accounts:\r\n",
      "   a.T(k._transaction_list)\r\n",
      "@attrs\r\n",
      "class L(b):\r\n",
      " d=attrib(type=Yd)\r\n",
      " w=attrib(factory=Yw,repr=YB)\r\n",
      " B=attrib(factory=YM)\r\n",
      " M=attrib(type=Yk,default=0)\r\n",
      " def T(k,l):\r\n",
      "  for t in l:\r\n",
      "   if t.account==k._name:\r\n",
      "    k._trade_list.append(t)\r\n",
      "    if t.target=='cash':\r\n",
      "     k._cash+=t.num\r\n",
      "    else:\r\n",
      "     Y=t.num\r\n",
      "     o=t.num*t.price\r\n",
      "     S=5 if o*0.00025<5 else o*0.00025\r\n",
      "     if t.target in k._positions:\r\n",
      "      Y+=k._positions[t.target][0]\r\n",
      "      o+=k._positions[t.target][1]*k._positions[t.target][0]\r\n",
      "     D=(o+S)/Y\r\n",
      "     k._positions[t.target]=(Y,D)\r\n",
      "def j():\r\n",
      " df=p('data/transactions.xlsx')\r\n",
      " r=[]\r\n",
      " for e in df.itertuples():\r\n",
      "  if e.target!='cash':\r\n",
      "   r.append([e.trade_date,e.account,'cash',1,-1*(e.price*e.num*1+e.fee_rate),0])\r\n",
      " t=G(r,columns=df.columns)\r\n",
      " df=YQ([df,t],ignore_index=Yo)\r\n",
      " YS(df)\r\n",
      " if not df.empty:\r\n",
      "  s=PyMongoWrapper()\r\n",
      "  s.insertDataframe(df,'finance','transactions')\r\n",
      " else:\r\n",
      "  YS('no transactions!')\r\n",
      "C=h.dirname(h.abspath(__file__))\r\n",
      "N=YW(h.join(C,'data/stock_dict.pkl'))\r\n",
      "I=YW(h.join(C,'data/fund_otc_series.pkl'))\r\n",
      "u=N.append(I)\r\n",
      "def z(n,P):\r\n",
      " if n=='cash':\r\n",
      "  return Yx().date(),1\r\n",
      " if YD([n.endswith('.SZ'),n.endswith('.SH')]):\r\n",
      "  c=n\r\n",
      " else:\r\n",
      "  c=u.loc[n]\r\n",
      " s=PyMongoWrapper()\r\n",
      " a=s.getCollection('finance',c)\r\n",
      " r=Yw(s.findAll(a,{'trade_date':{'$lte':YJ(P,'%Y%m%d')}},fieldlist=['trade_date','close','pct_chg'],sort=[('trade_date',-1)],limit=1))[0]\r\n",
      " return r['trade_date'].date(),r['close']\r\n",
      "def U(A,P):\r\n",
      " A=A[:P]\r\n",
      " R=A.groupby(['account','target'])['num','cost'].sum()\r\n",
      " R.reset_index(inplace=Yo)\r\n",
      " R['price']=0\r\n",
      " R['tdate']=0\r\n",
      " for i in A['target'].unique():\r\n",
      "  R.loc[R.target==i,['tdate','price']]=z(i,P)\r\n",
      " R['type']=Yy((R.account=='PA')&(R.target!='cash'),'STOCK',Yy((R.account=='ZLT')&(R.target!='cash'),'FUND',Yy((R.account.isin(['TTJ','TTA']))&(R.target!='cash'),'OTC_FUND','cash')))\r\n",
      " R['market_val']=R.num*R.price\r\n",
      " R['profit']=R['market_val']-R['cost']\r\n",
      " s=R.groupby('account')['market_val'].sum()\r\n",
      " s.loc['TOTAL']=s.sum()\r\n",
      " r=G(s).T\r\n",
      " r.index.name='date'\r\n",
      " r.index=Yi([P])\r\n",
      " return r\r\n",
      "if __name__=='__main__':\r\n",
      " l=[]\r\n",
      " s=PyMongoWrapper()\r\n",
      " a=s.getCollection('finance','transactions')\r\n",
      " q='trade_date account target price num fee_rate'.split()\r\n",
      " rs=s.findAll(a,fieldlist=cols,sort=[('trade_date',1)])\r\n",
      " A=G(rs)\r\n",
      " A.set_index('trade_date',inplace=Yo)\r\n",
      " A['cost']=A['price']*A['num']*(1+A.fee_rate)\r\n",
      " F=G()\r\n",
      " X=Yn('20190921','20190926',freq='B')\r\n",
      " for d in X:\r\n",
      "  d=d.strftime('%Y%m%d')\r\n",
      "  if F.empty:\r\n",
      "   F=U(A,d)\r\n",
      "  else:\r\n",
      "   F=YQ([F,U(A,d)])\r\n",
      " YS(F)\r\n",
      " F.plot(subplots=Yo,figsize=(8,14))\r\n",
      "# Created by pyminifier (https://github.com/liftoff/pyminifier)\r\n",
      "\r\n"
     ]
    }
   ],
   "source": [
    "!pyminifier --obfuscate test.py"
   ]
  },
  {
   "cell_type": "code",
   "execution_count": 10,
   "metadata": {},
   "outputs": [],
   "source": [
    "!pyminifier --obfuscate test.py > test_obfuscate.py"
   ]
  },
  {
   "cell_type": "code",
   "execution_count": 12,
   "metadata": {},
   "outputs": [
    {
     "name": "stdout",
     "output_type": "stream",
     "text": [
      "Traceback (most recent call last):\r\n",
      "  File \"test_obfuscate.py\", line 147, in <module>\r\n",
      "    e=H(J,d)\r\n",
      "  File \"test_obfuscate.py\", line 131, in H\r\n",
      "    l.index=CI([s])\r\n",
      "  File \"/Users/luoyonggui/anaconda3/lib/python3.7/site-packages/pandas/core/tools/datetimes.py\", line 609, in to_datetime\r\n",
      "    result = convert_listlike(arg, box, format)\r\n",
      "  File \"/Users/luoyonggui/anaconda3/lib/python3.7/site-packages/pandas/core/tools/datetimes.py\", line 217, in _convert_listlike_datetimes\r\n",
      "    raise TypeError('arg must be a string, datetime, list, tuple, '\r\n",
      "TypeError: arg must be a string, datetime, list, tuple, 1-d array, or Series\r\n"
     ]
    }
   ],
   "source": [
    "!python test_obfuscate.py"
   ]
  },
  {
   "cell_type": "code",
   "execution_count": 12,
   "metadata": {},
   "outputs": [],
   "source": [
    "# pyminifier -O test.py >> test_py.py\n",
    "!pyminifier --replacement-length=1 --obfuscate-builtins --obfuscate-import-methods --obfuscate-variables test.py > test_obfuscate1.py"
   ]
  },
  {
   "cell_type": "code",
   "execution_count": 14,
   "metadata": {},
   "outputs": [
    {
     "name": "stdout",
     "output_type": "stream",
     "text": [
      "account        OTHER          PA  ...        ZLT         TOTAL\r\n",
      "2019-09-23  142000.0  316602.000  ...  159254.80  1.670423e+06\r\n",
      "2019-09-24  142000.0  316403.000  ...  159519.20  1.670986e+06\r\n",
      "2019-09-25  142000.0  314555.997  ...  158537.50  1.664697e+06\r\n",
      "2019-09-26  142000.0  313524.967  ...  156692.97  1.657532e+06\r\n",
      "\r\n",
      "[4 rows x 6 columns]\r\n"
     ]
    }
   ],
   "source": [
    "!python test_obfuscate1.py"
   ]
  },
  {
   "cell_type": "code",
   "execution_count": 17,
   "metadata": {},
   "outputs": [
    {
     "name": "stdout",
     "output_type": "stream",
     "text": [
      "#!/usr/bin/python3\r\n",
      "import zlib, base64\r\n",
      "exec(zlib.decompress(base64.b64decode('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')))\r\n",
      "# Created by pyminifier (https://github.com/liftoff/pyminifier)\r\n",
      "\r\n"
     ]
    }
   ],
   "source": [
    "!pyminifier --gzip test.py"
   ]
  },
  {
   "cell_type": "code",
   "execution_count": 18,
   "metadata": {},
   "outputs": [],
   "source": [
    "import zlib, base64"
   ]
  },
  {
   "cell_type": "code",
   "execution_count": 19,
   "metadata": {},
   "outputs": [
    {
     "data": {
      "text/plain": [
       "b'x\\x9c\\xa5W{\\x8f\\xdb6\\x12\\xff\\xdf\\x9fBA\\x9a#\\xb5Qd;h\\x0emP\\x01\\xddK\\x1a\\\\\\xaf\\xb9fqqQ\\xb4\\x86!\\xd0\\x12\\xe5e#\\x91*I%q\\x8b~\\xf7\\x9b\\xe1C\\x92\\xbd\\x8f\\x14-\\x90\\xc4\\xd4p\\xde\\xf3\\x9b\\xe1\\xe4\\xe1\\x83\\xe5`\\xf4r/\\xe4\\xb2?\\xdak%\\x17\\x0f\\x13.+U\\x0byx\\x9e\\x0c\\xb6y\\xf2\\xc5Bt\\xbd\\xd26Q&\\x9e\\xcc\\xd1,\\xe0o\\xde3{\\x9d\\xb3\\xbe\\xe7\\xb2\\xa6d\\xf9\\x83\\xe1\\xda,\\xdbA\\x1d\\x95<\\x1c\\x06\\xb1\\xbc:V\\xd7LwWZ\\xfd\\xc2+k\\x96\\x1d;\\x8a\\xc1\\x8a\\xd6\\x94r=},\\xeb=I\\x17\\x8dV]\\xd2\\x1f;\\x10U\\xe5\\x07\\x8dJu\\x12\\xcc]\\x1d\\xff\\x8b\\xe4\\x1f=5:\\xd13Y3\\x93\\xc0\\x9f\\xbe\\x8e49t\\xfd\\x11I\\xb2_T-3&\\xb9\\x1a\\xf6\\xad0\\xd7\\\\?_$5o\\x92\\xb2\\x14R\\xd8\\xb2\\xa4\\x86\\xb7M\\nD\\xd0c\\x8c\\xbf\\xd3\\xfc \\x8c\\xe5\\xfa\\xb6\\xbbA\\xdew+\\x95\\x15\\xcd\\xb1dm{v\\xeb\\x9dx;\\xecM\\xa5\\xc5\\xfeOy\\xe1u\\x9d\\xdd\\xb8\\xf40k\\xc7\\x9c\\xe0\\xd9d\\xf8\\xaf\\xd8g\\x8d\\xe0m\\x1d\\x98\\xaa9\\xd7 \\x8d\\xd5Ce\\x07\\xcd\\xb3\\xf1\\xe4\\xf9jf\\xb9\\x15\\x1d\\x8f\\xac\\xf1;\\xc3\\xc3\\xe2k\\xa7?\\xb8\\xbf\\xd1L\\x1aVY\\xa1$8\\x049.\\xbc]j\\x8f=/\\x9aV1\\x9b\\x81\\xe7lhm\\xb1J\\x17I\\xafE\\xc5?\\xc1\\xd3p^j\\xb0\\xf4\\t6\\xabY\\xcd\\xcb\\xfa\\x9cqr6\\xf0FB.\\xd5\\x07\\x9a\\xa2 \\xd3\\x07nO\\x84 \\x01#?\\xa9\\x98\\xb9\\x06\\xd8%\\xac\\xaa\\xd4 \\xefa\\xec\\xa1\\x11\\x98\\x04\\xd6\\xf3\\x94\\xd4\\x9c\\x8e\\xe0\\xc2B\\x95vJS\\t\\xe4Qg\\x034\\xa5\\x8f\\x05\\xd22\\xcd{]\\xbcb\\xad\\xe1`\\xbc\\x0c\\xd6\\xcdm\\xac\\xe9-\\xa0\\xcc\\x82\\x80\\x03\\x86h\\xa2\\xf7\\x88\\x99D\\xc8\\x04Y\\xf2Q)\\xf2\\x9c\\x91b\\xb3F5\\xb7b\\xfbo\\x1b\\xd1\\xbcS\\xef\\xf9\\x99\\x91\\xdbZ\\xa4Q:aw\\xe8d\\xf9\\xac\\x11\\xf2\\x1b\\xc9=\\xab\\xc7\\xa5\\x17\\xa5S\\xa7\\xb9\\x92H\\xd6\\xf1\\xf3\\xd2\\xa6\\xbeT\\x00\\xab?Y\\xa4^\\x19\\x81voT\\xa9\\x16\\x15FW\"\\x96>\\x81\\xe3\\xb3\\xc6\\xcen\\x84\\x13\\xd3\\xe1R|~\\xeb\\x12\\x02\\x95\\xb0y\\x84k\\xe1\\xb3\\x82\\xf1\\xb9\\xcbd\\xccR\\x88+V\\x1a\\x1d\\x8c\\xc2\\xa1\\'\\x02\\xf8\\xbd\\\\\\x10D\\xca\\xe3\\xc2\\xe6\\xd0\\xdc\\x8e\\xcc!\\xf6\\xc0\\x80\\xfd>]$\\xacs\\x0e8\\xca\\x85\\xcd]\\xaf\\xfb\\x1bh\\xe9\\xe2\\x99\\x03\\x8cc\\xb9X\\xe5\\xab\\xd5\\xea\\xe9\\xb3\\xaf\\x9e9mgT/2sk\\x82\\xc1\\x98\\xef\\xe0\\x00z\\xf0\\xb88\\xbb\\xdbF\\xb9\\xddv\\xb5\\x0b|\\xde\\xc2}\\xac\\xeb\\xdd\\xc5\\xa7\\xf5\\xb8\\x90\\xca\\x8e3Y\\xd0\\xa0\\x12BK\\x97c\\n\\xeeTQP\\xe0\\xc9&\\xf9t\\x81ugu=\\x87\\xaf\\xa1X\\xec\\xba)\\xfa\\x1a:\\x85\\xd5%\\xffX\\xf1\\x96\\x12\\x18al9\\xe7\\xcb?\\xb6\\xe6#\\xce(]l\\xc15DG+$\\xc7D\\xd5M.\\xa0]\\xed\\xd0\\xb7\\xdc\\xeb\\xc3T\\xe2mp\\xe5\\xc1\\xbc\\xc8:\\x82a\\xeb9\\xc6\\x99\\x9a\\xb9\\xef\\x80\\xa9\\xccKd\\xeb\\xec\\xc9\\xfa\\x82\\xba\\x1b\\x17\\xc9\\x85;b\\xb5\\xd7\\x8f\\xdd1\\x8e\\xee4[\\xed\\x10\\xda\\x8d\\xc5P^\\x82\\xfb\\xaf4\\xe0\\x91\\xea\\xacR\\xed\\xd0A\\xbf\\x80\\x9b\\xe1\\x98\\xc6\\x88+%\\xe1\\x85\\xa2\\xdb\\xba\\xc9@p\\x97\\x89\\x83T\\x9a\\xc3sX\\xf3\\x8f\\xc5F\\x0f\\xdc\\xbf\\x1f\\xd0\\xcau\\x03G\\xe1\\xda\\x06\\xe3\\xe5]o\\x8f\\x18\\x8e[\\x11\\x8a\\xd3\\x9d\\x80\\xa6\\xf1\"\\x17\\x12\\xd6\\x10\\x8b\\xde4\\xce\\x1b0D\\x1a!\\x99\\xac8\\xc9\\xc8<\\xbf\\x98\\xda\\x88so\\x92H5\\xef=\\xf3\\x00X^}\\xfb\\xfa\\x9b\\xf2\\xe5\\xb7\\xff+T\\xd8wj\\xa1\\xb1\\xedh\\xfcf{\\x83\\xbf\\xb4,\\x1b\\xd1\\xf2\\xb2\\x84\\xd7\\xc7XU\\xbd+\\xc1\\x0f\\xc1\\xcdX\\xe6^T\\xef\\xdaI\\xec\\x17%$\\x8d\\xca3_}/\\x87c%\\xef\\xdf\\xb5\\x0445\\x83\\xacKe\\xab\\xbf\\xa0\\xecL4j\\x0c\\x8a\\xe6.Fx\\x9cIx\\xf4\\x02\\x98J\\x18\\xb1\\x16\\x00s,;\\xa6\\xdf\\xc1\\xf7{\\xd6R\\x8f\\xb3\\xcc\"\\x8e\\x10\\x80\\xd8\\xca7\\xe6\\x8b\\xe6\\xb0p\\xc8\\xe4\\xf4u\\xce\\xf1\\x93\\xa6\\xd9\\xda\\t1y\\xa4[/\\x99\\x83\\x13\\xe6\\x83\\x80\\\\\\x92\\xfc\\xed\\xcf$\\xcdn!\\xff\\x9b\\xa4;\\x87w\\xebf\\xbb\\xe7\\x98\\xea\\xe8\\xa9!\\xacVUA3\\xb4\\xcf]\\xb0\\xb1l\\xdf\\xf2\\xc2c\\x078_\\xa8\\xb6\\xe5\\xae\\xfat\\x82\\x8d\\xd3\\xea\\x1a\\x11G+\\xf5\\xccp[_\\xb6\\x98\\x08P\\x90\\xfdN\\xa6\\xb6\"\\xcf\\x7f\\'\\x9f\\xb5\\xf8;\\x06\\x0e\\xefN\\x8f\\x07\\xea\\xf2\\x95\\x91G?=\\xea\\x1e\\xd5$\\xfd\\xe3\\x0f\\xbf\\xbc\\xb9\\xa7h;\\xd7\\x01\\xed\\xd8*\\x83\\xbf}e\\xcb\\xea\\xfa@v\\x99\\x81E\\xad\\xd8\\xd2\\x13\\xb6\\'\\xebt\\x07}\\xdc\\t[\\xac\\xd3\\xd4\\r\\xb1\\x90u}\\xa2o\\x17\\xd3\\x0ed\\xafy7\\xd67L\\x00_W\\xc4\\x7f\\t]3V6R\\x8ax\\xd8>ww;\\xeci\\x90\\x1d\\xe9\\xf9A\\xab\\xa1\\xdfC=I\\xd0\\x88\\x1d\\xe7\\n@v\\xe9\\x96\\xc0\\x0c\\xc1\\xb0\\x94\\x81\\xcf\\xdc\\x0c\\x1dM\\x83\\x06\\xc0\\xb4\\x017\\xdc\\x10\\xa0B\\xf6-\\x83\\xfd1\\x0c\\x03\\xc7\\xb0%n\\x14\\x91]\\xb1\\x1a)\\xd6\\x87\\x85\\x14\\x1c\\x8db|8\\xd1\\xc3\\xd1l>H\\xf1\\xeb\\xc0\\xfd\\x8c\\xf4\\xc6\\x10\\x16\\xfe\\x14\\x01+\\xb2\\xa8.\\x8b\\x86v\\xc5]\\xc0\\x17!3\\x93#\\xf0\\xe4\\x83\\x1f\\xb2\\xcf?\\xc0*\\xc8)\\xf5\\xca\\xc7\\xa7\\x9a\\\\]\\x92\\xf4\\x1ftn2\\x8e\\xe74#o7o^|G\\xb2\\xbb\\xa5\\x7f~\\xbd\\xb9G\\xfc\\xd5\\x0f\\xdf\\xbf\\xbcS:\\x17\\x06\\xe6\\xc2\\x96l6\\xff\\x81\\xc86\\x9bK(\\xc3\\xdd\\xaa\\xdel^\\x94^] \\xa5S\\x8cS\\xfc\\x10\\xa9\\x97\\xc7\\x17\\xc1\\x9f\\xc2\\x0e0VJ5\\xc2F\\xb6S\\xd1\\'\\x81\\xe61\\xb0HL\\xd0\\x15\\x813\\xe2&=\\x95\\x8bh\\xf1=M6o6\\x97\\xaf\\xc1\\x82\\x99P\\xa4O\\xdf \\x93\\xe6\\x1bG\\xce\\x1d\\xa8r7\\x16\\x88+\\xf1\\x8c\\x8c2V\\x95\\xb1Ka\\x0e9\\\\\\xa7c\\x0b\\x01\\xe7B\\xe0\\x7f\\xd7P\\xbe,\\xa1\\x1a%@A\\xc8\\xb2$\\xb11\\xe6\\x0b\\xff\\xf6o\\xce\\x99\\x1b\\xcf\\x13\\xbc\\x9e\\xa6\\x98u\\xf1\\xb8\\x8b\\x87\\x9d\\xc9e\\x1e\\xf7\\xa3\\xf1\\xffS$7}+,Z\\xd4\\xa6\\xb8mRM\\xf3\\x06\\xb5\\xdf:S`\\xa4\\xa4\\xb3\\xbe?}\\xdd\\xcd\\xec*\\x9f\\xda\\xf6D\\xc1Y\\x0fOm\\xe9\\x0b?M\\x92\\xd8n\\x17\\x13\\x05\\xa7\\xc4\\xee\\x82\\xae\\x1f\\x8fF\\xc6\\x85\\x03KW\\x9d\\xba\\x834\\xb8r/#\\x1e\\x80Q\\x1e8%OW\\xeb/W_>]CR\\xc3\\xf1\\x9f$k4\\xff\\xb5 \\xff\\xc2\\xcc\\xe2\\xc8\\xa8\\xdd*\\x85\\xd2n8\\x145\\x8e\\xe9\\xc6!a\\x1c\\xd0~\\xb3\\x02\\xb3\\xd3\\x02\\xe2\\x9c\\xb8sl\\xd6(2\\xae\\xcf\\xc1\\xdfi\\xeb\\xa9\\xb2{$w\\xb3\\xe5\\xa7\\xf2\\xd1\\xe6}\\xab,5\\xc3\\x1e\\x7f\\x8dK(T\\xf0`\\xc4o\\xbc\\xa0_d\\xeb\\xcf\\xa1I\\xff\\x0f\\xf5\\xad\\x1f\\xdb'"
      ]
     },
     "execution_count": 19,
     "metadata": {},
     "output_type": "execute_result"
    }
   ],
   "source": [
    "base64.b64decode('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')"
   ]
  },
  {
   "cell_type": "code",
   "execution_count": 20,
   "metadata": {},
   "outputs": [
    {
     "data": {
      "text/plain": [
       "b\"#!/usr/bin/python\\n# encoding: utf-8\\nimport os\\nimport sys\\nsys.path.append('/Users/luoyonggui/PycharmProjects/mayiutils_n1/mayiutils/db')\\nfrom pymongo_wrapper import PyMongoWrapper\\nimport pandas as pd\\nimport numpy as np\\nclass Publisher:\\n def __init__(self):\\n  pass\\n def register(self):\\n  pass\\n def unregister(self):\\n  pass\\n def notify_all(self):\\n  pass\\nclass Subscriber:\\n def __init__(self):\\n  pass\\n def notify(self):\\n  pass\\nfrom attr import attrs,attrib,fields\\nfrom cattr import unstructure,structure\\nfrom datetime import datetime,date\\n@attrs\\nclass Transaction:\\n num=attrib(type=float,default=0)\\n price=attrib(type=float,default=0)\\n fee_rate=attrib(type=float,default=0)\\n trade_date=attrib(type=datetime,default=datetime.now())\\n target=attrib(type=str,default='cash')\\n account=attrib(type=str,default='pingan')\\n@attrs\\nclass Trade(Publisher):\\n _transaction_list=attrib(factory=list,repr=False)\\n _accounts=attrib(factory=list)\\n def register(self,account):\\n  if account not in self._accounts:\\n   self._accounts.append(account)\\n def unregister(self,account):\\n  if account not in self._accounts:\\n   self._accounts.remove(account)\\n def notify_all(self):\\n  for a in self._accounts:\\n   a.notify(self._transaction_list)\\n@attrs\\nclass Account(Subscriber):\\n _name=attrib(type=str)\\n _trade_list=attrib(factory=list,repr=False)\\n _positions=attrib(factory=dict)\\n _cash=attrib(type=float,default=0)\\n def notify(self,transaction_list):\\n  for t in transaction_list:\\n   if t.account==self._name:\\n    self._trade_list.append(t)\\n    if t.target=='cash':\\n     self._cash+=t.num\\n    else:\\n     num=t.num\\n     amount=t.num*t.price\\n     fee=5 if amount*0.00025<5 else amount*0.00025\\n     if t.target in self._positions:\\n      num+=self._positions[t.target][0]\\n      amount+=self._positions[t.target][1]*self._positions[t.target][0]\\n     price_mean=(amount+fee)/num\\n     self._positions[t.target]=(num,price_mean)\\ndef add_transactions():\\n df=pd.read_excel('data/transactions.xlsx')\\n r=[]\\n for line in df.itertuples():\\n  if line.target!='cash':\\n   r.append([line.trade_date,line.account,'cash',1,-1*(line.price*line.num*1+line.fee_rate),0])\\n dft=pd.DataFrame(r,columns=df.columns)\\n df=pd.concat([df,dft],ignore_index=True)\\n print(df)\\n if not df.empty:\\n  mongo=PyMongoWrapper()\\n  mongo.insertDataframe(df,'finance','transactions')\\n else:\\n  print('no transactions!')\\nFILE_DIR=os.path.dirname(os.path.abspath(__file__))\\nstock_series=pd.read_pickle(os.path.join(FILE_DIR,'data/stock_dict.pkl'))\\nfund_otc_series=pd.read_pickle(os.path.join(FILE_DIR,'data/fund_otc_series.pkl'))\\nseries=stock_series.append(fund_otc_series)\\ndef get_last_day_market_val(target,tdate):\\n if target=='cash':\\n  return datetime.now().date(),1\\n if any([target.endswith('.SZ'),target.endswith('.SH')]):\\n  tname=target\\n else:\\n  tname=series.loc[target]\\n mongo=PyMongoWrapper()\\n table=mongo.getCollection('finance',tname)\\n r=list(mongo.findAll(table,{'trade_date':{'$lte':datetime.strptime(tdate,'%Y%m%d')}},fieldlist=['trade_date','close','pct_chg'],sort=[('trade_date',-1)],limit=1))[0]\\n return r['trade_date'].date(),r['close']\\ndef get_account_val(trans_df,tdate):\\n trans_df=trans_df[:tdate]\\n df_ac=trans_df.groupby(['account','target'])['num','cost'].sum()\\n df_ac.reset_index(inplace=True)\\n df_ac['price']=0\\n df_ac['tdate']=0\\n for i in trans_df['target'].unique():\\n  df_ac.loc[df_ac.target==i,['tdate','price']]=get_last_day_market_val(i,tdate)\\n df_ac['type']=np.where((df_ac.account=='PA')&(df_ac.target!='cash'),'STOCK',np.where((df_ac.account=='ZLT')&(df_ac.target!='cash'),'FUND',np.where((df_ac.account.isin(['TTJ','TTA']))&(df_ac.target!='cash'),'OTC_FUND','cash')))\\n df_ac['market_val']=df_ac.num*df_ac.price\\n df_ac['profit']=df_ac['market_val']-df_ac['cost']\\n s=df_ac.groupby('account')['market_val'].sum()\\n s.loc['TOTAL']=s.sum()\\n dfr=pd.DataFrame(s).T\\n dfr.index.name='date'\\n dfr.index=pd.to_datetime([tdate])\\n return dfr\\nif __name__=='__main__':\\n transaction_list=[]\\n mongo=PyMongoWrapper()\\n table=mongo.getCollection('finance','transactions')\\n cols='trade_date account target price num fee_rate'.split()\\n rs=mongo.findAll(table,fieldlist=cols,sort=[('trade_date',1)])\\n trans_df=pd.DataFrame(rs)\\n trans_df.set_index('trade_date',inplace=True)\\n trans_df['cost']=trans_df['price']*trans_df['num']*(1+trans_df.fee_rate)\\n dfc=pd.DataFrame()\\n dates=pd.date_range('20190921','20190926',freq='B')\\n for d in dates:\\n  d=d.strftime('%Y%m%d')\\n  if dfc.empty:\\n   dfc=get_account_val(trans_df,d)\\n  else:\\n   dfc=pd.concat([dfc,get_account_val(trans_df,d)])\\n print(dfc)\\n dfc.plot(subplots=True,figsize=(8,14))\\n\""
      ]
     },
     "execution_count": 20,
     "metadata": {},
     "output_type": "execute_result"
    }
   ],
   "source": [
    "zlib.decompress(base64.b64decode('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'))"
   ]
  },
  {
   "cell_type": "code",
   "execution_count": 22,
   "metadata": {},
   "outputs": [
    {
     "name": "stdout",
     "output_type": "stream",
     "text": [
      "#!/usr/bin/python\n",
      "# encoding: utf-8\n",
      "import os\n",
      "import sys\n",
      "sys.path.append('/Users/luoyonggui/PycharmProjects/mayiutils_n1/mayiutils/db')\n",
      "from pymongo_wrapper import PyMongoWrapper\n",
      "import pandas as pd\n",
      "import numpy as np\n",
      "class Publisher:\n",
      " def __init__(self):\n",
      "  pass\n",
      " def register(self):\n",
      "  pass\n",
      " def unregister(self):\n",
      "  pass\n",
      " def notify_all(self):\n",
      "  pass\n",
      "class Subscriber:\n",
      " def __init__(self):\n",
      "  pass\n",
      " def notify(self):\n",
      "  pass\n",
      "from attr import attrs,attrib,fields\n",
      "from cattr import unstructure,structure\n",
      "from datetime import datetime,date\n",
      "@attrs\n",
      "class Transaction:\n",
      " num=attrib(type=float,default=0)\n",
      " price=attrib(type=float,default=0)\n",
      " fee_rate=attrib(type=float,default=0)\n",
      " trade_date=attrib(type=datetime,default=datetime.now())\n",
      " target=attrib(type=str,default='cash')\n",
      " account=attrib(type=str,default='pingan')\n",
      "@attrs\n",
      "class Trade(Publisher):\n",
      " _transaction_list=attrib(factory=list,repr=False)\n",
      " _accounts=attrib(factory=list)\n",
      " def register(self,account):\n",
      "  if account not in self._accounts:\n",
      "   self._accounts.append(account)\n",
      " def unregister(self,account):\n",
      "  if account not in self._accounts:\n",
      "   self._accounts.remove(account)\n",
      " def notify_all(self):\n",
      "  for a in self._accounts:\n",
      "   a.notify(self._transaction_list)\n",
      "@attrs\n",
      "class Account(Subscriber):\n",
      " _name=attrib(type=str)\n",
      " _trade_list=attrib(factory=list,repr=False)\n",
      " _positions=attrib(factory=dict)\n",
      " _cash=attrib(type=float,default=0)\n",
      " def notify(self,transaction_list):\n",
      "  for t in transaction_list:\n",
      "   if t.account==self._name:\n",
      "    self._trade_list.append(t)\n",
      "    if t.target=='cash':\n",
      "     self._cash+=t.num\n",
      "    else:\n",
      "     num=t.num\n",
      "     amount=t.num*t.price\n",
      "     fee=5 if amount*0.00025<5 else amount*0.00025\n",
      "     if t.target in self._positions:\n",
      "      num+=self._positions[t.target][0]\n",
      "      amount+=self._positions[t.target][1]*self._positions[t.target][0]\n",
      "     price_mean=(amount+fee)/num\n",
      "     self._positions[t.target]=(num,price_mean)\n",
      "def add_transactions():\n",
      " df=pd.read_excel('data/transactions.xlsx')\n",
      " r=[]\n",
      " for line in df.itertuples():\n",
      "  if line.target!='cash':\n",
      "   r.append([line.trade_date,line.account,'cash',1,-1*(line.price*line.num*1+line.fee_rate),0])\n",
      " dft=pd.DataFrame(r,columns=df.columns)\n",
      " df=pd.concat([df,dft],ignore_index=True)\n",
      " print(df)\n",
      " if not df.empty:\n",
      "  mongo=PyMongoWrapper()\n",
      "  mongo.insertDataframe(df,'finance','transactions')\n",
      " else:\n",
      "  print('no transactions!')\n",
      "FILE_DIR=os.path.dirname(os.path.abspath(__file__))\n",
      "stock_series=pd.read_pickle(os.path.join(FILE_DIR,'data/stock_dict.pkl'))\n",
      "fund_otc_series=pd.read_pickle(os.path.join(FILE_DIR,'data/fund_otc_series.pkl'))\n",
      "series=stock_series.append(fund_otc_series)\n",
      "def get_last_day_market_val(target,tdate):\n",
      " if target=='cash':\n",
      "  return datetime.now().date(),1\n",
      " if any([target.endswith('.SZ'),target.endswith('.SH')]):\n",
      "  tname=target\n",
      " else:\n",
      "  tname=series.loc[target]\n",
      " mongo=PyMongoWrapper()\n",
      " table=mongo.getCollection('finance',tname)\n",
      " r=list(mongo.findAll(table,{'trade_date':{'$lte':datetime.strptime(tdate,'%Y%m%d')}},fieldlist=['trade_date','close','pct_chg'],sort=[('trade_date',-1)],limit=1))[0]\n",
      " return r['trade_date'].date(),r['close']\n",
      "def get_account_val(trans_df,tdate):\n",
      " trans_df=trans_df[:tdate]\n",
      " df_ac=trans_df.groupby(['account','target'])['num','cost'].sum()\n",
      " df_ac.reset_index(inplace=True)\n",
      " df_ac['price']=0\n",
      " df_ac['tdate']=0\n",
      " for i in trans_df['target'].unique():\n",
      "  df_ac.loc[df_ac.target==i,['tdate','price']]=get_last_day_market_val(i,tdate)\n",
      " df_ac['type']=np.where((df_ac.account=='PA')&(df_ac.target!='cash'),'STOCK',np.where((df_ac.account=='ZLT')&(df_ac.target!='cash'),'FUND',np.where((df_ac.account.isin(['TTJ','TTA']))&(df_ac.target!='cash'),'OTC_FUND','cash')))\n",
      " df_ac['market_val']=df_ac.num*df_ac.price\n",
      " df_ac['profit']=df_ac['market_val']-df_ac['cost']\n",
      " s=df_ac.groupby('account')['market_val'].sum()\n",
      " s.loc['TOTAL']=s.sum()\n",
      " dfr=pd.DataFrame(s).T\n",
      " dfr.index.name='date'\n",
      " dfr.index=pd.to_datetime([tdate])\n",
      " return dfr\n",
      "if __name__=='__main__':\n",
      " transaction_list=[]\n",
      " mongo=PyMongoWrapper()\n",
      " table=mongo.getCollection('finance','transactions')\n",
      " cols='trade_date account target price num fee_rate'.split()\n",
      " rs=mongo.findAll(table,fieldlist=cols,sort=[('trade_date',1)])\n",
      " trans_df=pd.DataFrame(rs)\n",
      " trans_df.set_index('trade_date',inplace=True)\n",
      " trans_df['cost']=trans_df['price']*trans_df['num']*(1+trans_df.fee_rate)\n",
      " dfc=pd.DataFrame()\n",
      " dates=pd.date_range('20190921','20190926',freq='B')\n",
      " for d in dates:\n",
      "  d=d.strftime('%Y%m%d')\n",
      "  if dfc.empty:\n",
      "   dfc=get_account_val(trans_df,d)\n",
      "  else:\n",
      "   dfc=pd.concat([dfc,get_account_val(trans_df,d)])\n",
      " print(dfc)\n",
      " dfc.plot(subplots=True,figsize=(8,14))\n",
      "\n"
     ]
    }
   ],
   "source": [
    "print(zlib.decompress(base64.b64decode('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')).decode())"
   ]
  },
  {
   "cell_type": "code",
   "execution_count": 15,
   "metadata": {},
   "outputs": [],
   "source": [
    "!pyminifier --gzip test.py > test_gzip.py"
   ]
  },
  {
   "cell_type": "code",
   "execution_count": 16,
   "metadata": {},
   "outputs": [
    {
     "name": "stdout",
     "output_type": "stream",
     "text": [
      "account        OTHER          PA  ...       ZLT         TOTAL\r\n",
      "2019-09-23  142000.0  317481.000  ...  159254.8  1.671302e+06\r\n",
      "2019-09-24  142000.0  317503.000  ...  159519.2  1.672387e+06\r\n",
      "2019-09-25  142000.0  311118.997  ...  159519.2  1.666003e+06\r\n",
      "2019-09-26  142000.0  311118.997  ...  159519.2  1.666003e+06\r\n",
      "\r\n",
      "[4 rows x 6 columns]\r\n"
     ]
    }
   ],
   "source": [
    "!python test_gzip.py"
   ]
  },
  {
   "cell_type": "code",
   "execution_count": 14,
   "metadata": {},
   "outputs": [
    {
     "name": "stdout",
     "output_type": "stream",
     "text": [
      "account        OTHER          PA  ...       ZLT         TOTAL\r\n",
      "2019-09-23  142000.0  317481.000  ...  159254.8  1.671302e+06\r\n",
      "2019-09-24  142000.0  317503.000  ...  159519.2  1.672387e+06\r\n",
      "2019-09-25  142000.0  311118.997  ...  159519.2  1.666003e+06\r\n",
      "2019-09-26  142000.0  311118.997  ...  159519.2  1.666003e+06\r\n",
      "\r\n",
      "[4 rows x 6 columns]\r\n"
     ]
    }
   ],
   "source": [
    "!pyminifier --gzip test.py | python"
   ]
  },
  {
   "cell_type": "code",
   "execution_count": null,
   "metadata": {},
   "outputs": [],
   "source": []
  }
 ],
 "metadata": {
  "kernelspec": {
   "display_name": "Python 3",
   "language": "python",
   "name": "python3"
  },
  "language_info": {
   "codemirror_mode": {
    "name": "ipython",
    "version": 3
   },
   "file_extension": ".py",
   "mimetype": "text/x-python",
   "name": "python",
   "nbconvert_exporter": "python",
   "pygments_lexer": "ipython3",
   "version": "3.7.3"
  },
  "toc": {
   "base_numbering": 1,
   "nav_menu": {},
   "number_sections": true,
   "sideBar": true,
   "skip_h1_title": false,
   "title_cell": "Table of Contents",
   "title_sidebar": "Contents",
   "toc_cell": false,
   "toc_position": {},
   "toc_section_display": true,
   "toc_window_display": true
  }
 },
 "nbformat": 4,
 "nbformat_minor": 2
}
