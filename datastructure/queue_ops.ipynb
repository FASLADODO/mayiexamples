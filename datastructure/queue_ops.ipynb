{
 "cells": [
  {
   "cell_type": "markdown",
   "metadata": {},
   "source": [
    "https://www.jb51.net/article/161036.htm\n",
    "\n",
    "Queue是python标准库中的线程安全的队列（FIFO）实现,提供了一个适用于多线程编程的先进先出的数据结构，即队列，用来在生产者和消费者线程之间的信息传递"
   ]
  },
  {
   "cell_type": "markdown",
   "metadata": {},
   "source": [
    "# 基本FIFO队列\n",
    "\n",
    "class Queue.Queue(maxsize=0)\n",
    "\n",
    "FIFO即First in First Out,先进先出。Queue提供了一个基本的FIFO容器，使用方法很简单,maxsize是个整数，指明了队列中能存放的数据个数的上限。一旦达到上限，插入会导致阻塞，直到队列中的数据被消费掉。如果maxsize小于或者等于0，队列大小没有限制。\n",
    "\n",
    "举个栗子："
   ]
  },
  {
   "cell_type": "code",
   "execution_count": 1,
   "metadata": {},
   "outputs": [],
   "source": [
    "from queue import Queue"
   ]
  },
  {
   "cell_type": "code",
   "execution_count": 2,
   "metadata": {},
   "outputs": [],
   "source": [
    "q = Queue()"
   ]
  },
  {
   "cell_type": "code",
   "execution_count": 3,
   "metadata": {},
   "outputs": [],
   "source": [
    "for i in range(3):\n",
    "    q.put(i)"
   ]
  },
  {
   "cell_type": "code",
   "execution_count": 4,
   "metadata": {},
   "outputs": [
    {
     "name": "stdout",
     "output_type": "stream",
     "text": [
      "0\n",
      "1\n",
      "2\n"
     ]
    }
   ],
   "source": [
    "while not q.empty():\n",
    "    print(q.get())"
   ]
  },
  {
   "cell_type": "markdown",
   "metadata": {},
   "source": [
    "# LIFO队列\n",
    "\n",
    "class Queue.LifoQueue(maxsize=0)\n",
    "\n",
    "LIFO即Last in First Out,后进先出。与栈的类似，使用也很简单,maxsize用法同上\n",
    "\n",
    "再举个栗子："
   ]
  },
  {
   "cell_type": "code",
   "execution_count": 7,
   "metadata": {},
   "outputs": [
    {
     "name": "stdout",
     "output_type": "stream",
     "text": [
      "2\n",
      "1\n",
      "0\n"
     ]
    }
   ],
   "source": [
    "import queue\n",
    " \n",
    "q = queue.LifoQueue()\n",
    " \n",
    "for i in range(3):\n",
    "  q.put(i)\n",
    " \n",
    "while not q.empty():\n",
    "  print (q.get())"
   ]
  },
  {
   "cell_type": "markdown",
   "metadata": {},
   "source": [
    "# 优先级队列\n",
    "\n",
    "class Queue.PriorityQueue(maxsize=0)\n",
    "\n",
    "构造一个优先队列。maxsize用法同上。"
   ]
  },
  {
   "cell_type": "code",
   "execution_count": null,
   "metadata": {},
   "outputs": [],
   "source": [
    "cmp()"
   ]
  },
  {
   "cell_type": "code",
   "execution_count": 10,
   "metadata": {},
   "outputs": [
    {
     "name": "stdout",
     "output_type": "stream",
     "text": [
      "Job: level 3 job\n",
      "Job: level 10 job\n",
      "Job: level 1 job\n",
      "for: level 1 job\n",
      "for: level 3 job\n",
      "for: level 10 job\n"
     ]
    }
   ],
   "source": [
    "import queue\n",
    "import threading\n",
    " \n",
    "class Job(object):\n",
    "  def __init__(self, priority, description):\n",
    "    self.priority = priority\n",
    "    self.description = description\n",
    "    print ('Job:',description)\n",
    "    return\n",
    "  def __gt__(self, other):\n",
    "    return self.priority>other.priority\n",
    " \n",
    "q = queue.PriorityQueue()\n",
    " \n",
    "q.put(Job(3, 'level 3 job'))\n",
    "q.put(Job(10, 'level 10 job'))\n",
    "q.put(Job(1, 'level 1 job'))\n",
    " \n",
    "def process_job(q):\n",
    "  while True:\n",
    "    next_job = q.get()\n",
    "    print ('for:', next_job.description)\n",
    "    q.task_done()\n",
    " \n",
    "workers = [threading.Thread(target=process_job, args=(q,)),\n",
    "    threading.Thread(target=process_job, args=(q,))\n",
    "    ]\n",
    " \n",
    "for w in workers:\n",
    "  w.setDaemon(True)\n",
    "  w.start()\n",
    " \n",
    "q.join()"
   ]
  },
  {
   "cell_type": "markdown",
   "metadata": {},
   "source": [
    "# 一些常用方法\n",
    "\n",
    "## task_done()\n",
    "\n",
    "意味着之前入队的一个任务已经完成。由队列的消费者线程调用。每一个get()调用得到一个任务，接下来的task_done()调用告诉队列该任务已经处理完毕。\n",
    "\n",
    "如果当前一个join()正在阻塞，它将在队列中的所有任务都处理完时恢复执行（即每一个由put()调用入队的任务都有一个对应的task_done()调用）。\n",
    "\n",
    "## join()\n",
    "\n",
    "阻塞调用线程，直到队列中的所有任务被处理掉。\n",
    "\n",
    "只要有数据被加入队列，未完成的任务数就会增加。当消费者线程调用task_done()（意味着有消费者取得任务并完成任务），未完成的任务数就会减少。当未完成的任务数降到0，join()解除阻塞。\n",
    "\n",
    "## put(item[, block[, timeout]])\n",
    "\n",
    "将item放入队列中。\n",
    "\n",
    "如果可选的参数block为True且timeout为空对象（默认的情况，阻塞调用，无超时）。\n",
    "如果timeout是个正整数，阻塞调用进程最多timeout秒，如果一直无空空间可用，抛出Full异常（带超时的阻塞调用）。\n",
    "如果block为False，如果有空闲空间可用将数据放入队列，否则立即抛出Full异常\n",
    "其非阻塞版本为put_nowait等同于put(item, False)\n",
    "## get([block[, timeout]])\n",
    "\n",
    "从队列中移除并返回一个数据。block跟timeout参数同put方法\n",
    "\n",
    "其非阻塞方法为｀get_nowait()｀相当与get(False)\n",
    "\n",
    "## empty()\n",
    "\n",
    "如果队列为空，返回True,反之返回False"
   ]
  },
  {
   "cell_type": "code",
   "execution_count": null,
   "metadata": {},
   "outputs": [],
   "source": []
  }
 ],
 "metadata": {
  "kernelspec": {
   "display_name": "Python 3",
   "language": "python",
   "name": "python3"
  },
  "language_info": {
   "codemirror_mode": {
    "name": "ipython",
    "version": 3
   },
   "file_extension": ".py",
   "mimetype": "text/x-python",
   "name": "python",
   "nbconvert_exporter": "python",
   "pygments_lexer": "ipython3",
   "version": "3.7.3"
  },
  "toc": {
   "base_numbering": 1,
   "nav_menu": {},
   "number_sections": true,
   "sideBar": true,
   "skip_h1_title": false,
   "title_cell": "Table of Contents",
   "title_sidebar": "Contents",
   "toc_cell": false,
   "toc_position": {},
   "toc_section_display": true,
   "toc_window_display": true
  }
 },
 "nbformat": 4,
 "nbformat_minor": 2
}
