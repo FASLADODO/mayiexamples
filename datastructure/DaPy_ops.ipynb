{
 "cells": [
  {
   "cell_type": "markdown",
   "metadata": {},
   "source": [
    "我的想法：总的看了一下，没有很吸引我的功能。\n",
    "\n",
    "主要 特征工程和数据处理的封装可以借鉴一下， 封装成自己的方法！"
   ]
  },
  {
   "cell_type": "markdown",
   "metadata": {},
   "source": [
    "# 一个全新的Python数据分析框架：DaPy带你领略从未有过的丝滑般数据分析体验\n",
    "对标pandas。。。\n",
    "\n",
    "https://juejin.im/post/5d60d051e51d4561d106cc02\n",
    "\n",
    "https://github.com/JacksonWuxs/DaPy\n",
    "\n",
    "\n",
    "DaPy是一个在设计时就非常关注易用性的数据分析库。通过为您提供设计合理的数据结构和丰富的机器学习模型，它能帮您快速地实现数据分析思路。早已经有了很多例如Pandas之类的著名数据分析模块，但仍没有一个相关的模块能做到：\n",
    "\n",
    "1. 以链式编程的方式编写代码；\n",
    "1. 调用几个API就能完成简单的特征工程；\n",
    "1. 能够轻松的按行处理数据；\n",
    "1. 能够像MySQL那样在命令行中显示日志。\n",
    "\n",
    "## Why I need DaPy?\n",
    "我们已经有了例如Numpy和Pandas这样优秀的数据分析库，为什么我们还需要DaPy？\n",
    "\n",
    "上面那个问题的答案就是， DaPy专为数据分析师设计，而不是程序员. DaPy的用户只需要关注于他们解决问题的思路，而不必太在意数据结构这些编程陷阱。这些大量编程陷阱出现的原因分为两方面，其一，API的设计较为严格，符合程序开发的要求，但不太适合数据分析师的学习。其二，Pandas在设计时以列存数据，并且没有进行行优化的情况下，导致了这个极差的操作体验。下面，我们将具体讨论，DaPy在这两个问题上的表现。\n",
    "\n",
    "1. 按列存数据方式的改进 （Balance efficient and usability）\n",
    "按行操作一个二维表数据结构是符合人们习惯的，因此，几乎所有的数据库都是以行为单位进行数据存储。Pandas由于研发初衷是处理时间序列问题，所以Pandas按列存数据的方法是非常高效的。由于市面上一直找不到一款可以与Pandas相抗衡的数据分析框架，数据分析师们不得不学习非常不符合人们直觉的按列操作方式。DaPy在设计的过程中，不但要考虑性能的问题，同时也要考虑易用性的问题。至此，按行存数据的易用性和按列存数据的高效性产生了冲突。为了解决这个冲突，我们沿用Pandas按列存数据的方法，但是，通过引入“视图”的概念，解决了按列存数据时仍可以保持符合人们习惯的数据处理习惯。\n",
    "\n",
    "上面这个讨论的典型案例是Pandas不支持对于DataFrame.iterrows()迭代出来的行进行操作。DaPy以视图的方式，让人们又可以轻松地按照符合人们习惯的方式处理数据了。下面是我们对于“行视图”对象的一些案例。"
   ]
  },
  {
   "cell_type": "code",
   "execution_count": 3,
   "metadata": {},
   "outputs": [],
   "source": [
    "import DaPy as dp"
   ]
  },
  {
   "cell_type": "code",
   "execution_count": 4,
   "metadata": {},
   "outputs": [],
   "source": [
    "sheet = dp.SeriesSet({'A': [1, 2, 3], 'B': [4, 5, 6]})"
   ]
  },
  {
   "cell_type": "code",
   "execution_count": 5,
   "metadata": {},
   "outputs": [
    {
     "data": {
      "text/plain": [
       "A: <1, 2, 3>\n",
       "B: <4, 5, 6>"
      ]
     },
     "execution_count": 5,
     "metadata": {},
     "output_type": "execute_result"
    }
   ],
   "source": [
    "sheet"
   ]
  },
  {
   "cell_type": "code",
   "execution_count": 6,
   "metadata": {},
   "outputs": [
    {
     "name": "stdout",
     "output_type": "stream",
     "text": [
      "1 1\n",
      "1 2\n",
      "1 3\n"
     ]
    }
   ],
   "source": [
    "for row in sheet:\n",
    "    print(row.A, row[0])   # 按照下标或者列名访问行数据的值\n",
    "    row[1] = 'b'   # 用下表为行赋值"
   ]
  },
  {
   "cell_type": "code",
   "execution_count": 7,
   "metadata": {},
   "outputs": [
    {
     "name": "stdout",
     "output_type": "stream",
     "text": [
      " A | B\n",
      "---+---\n",
      " 1 | b \n",
      " 2 | b \n",
      " 3 | b \n",
      "\n"
     ]
    }
   ],
   "source": [
    "sheet.show()   # 你的操作会映射到原表中"
   ]
  },
  {
   "cell_type": "code",
   "execution_count": 8,
   "metadata": {},
   "outputs": [
    {
     "data": {
      "text/plain": [
       "[1, 'b']"
      ]
     },
     "execution_count": 8,
     "metadata": {},
     "output_type": "execute_result"
    }
   ],
   "source": [
    "row0 = sheet[0]   # 拿到行的索引 \n",
    "row0"
   ]
  },
  {
   "cell_type": "code",
   "execution_count": 9,
   "metadata": {},
   "outputs": [
    {
     "name": "stdout",
     "output_type": "stream",
     "text": [
      " A | B | newColumn\n",
      "---+---+-----------\n",
      " 1 | b |     7     \n",
      " 2 | b |     8     \n",
      " 3 | b |     9     \n",
      "\n"
     ]
    }
   ],
   "source": [
    "sheet.append_col(series=[7, 8, 9], variable_name='newColumn') # 为表添加新列\n",
    "sheet.show()"
   ]
  },
  {
   "cell_type": "code",
   "execution_count": 10,
   "metadata": {},
   "outputs": [
    {
     "data": {
      "text/plain": [
       "[1, 'b', 7]"
      ]
     },
     "execution_count": 10,
     "metadata": {},
     "output_type": "execute_result"
    }
   ],
   "source": [
    "row0   # 表的操作会时时刻刻反映到行上"
   ]
  },
  {
   "cell_type": "markdown",
   "metadata": {},
   "source": [
    "2. 更为符合数据分析师视角的APIs设计\n",
    "我们希望DaPy是一个对用户友好的框架，为此, 我们极力优化DaPy的API接口设计，以便让你更快地适应和灵活地使用它。下面是DaPy较为友好的功能:\n",
    "\n",
    "多种在CMD中呈现数据的方式\n",
    "符合Python语法习惯的二维数据表结构\n",
    "与SQL语法相似的函数封装方法\n",
    "封装了许多常用的数据预处理或者特征工程方法\n",
    "支持多种文件格式的I/O工具 (支持格式：Html网页, xls表格, SQLite3数据库, .csv文本文件, SPSS数据文件, MySQL导出文件, 直连MySQL服务器)\n",
    "内建基本机器学习模型(决策树、多层感知机、线性回归等)\n",
    "\n",
    "3. DaPy的性能表现\n",
    "另外, 为了让DaPy能应付真实世界中的任务, 我们还时刻关注DaPy的性能表现。虽然DaPy目前是由纯Python语言实现的，但它与现有的数据处理框架在性能上也具有可比性。下图展示了使用具有432万条记录及7个变量的数据集的性能测试结果。"
   ]
  },
  {
   "cell_type": "markdown",
   "metadata": {},
   "source": [
    "## 安装"
   ]
  },
  {
   "cell_type": "code",
   "execution_count": 2,
   "metadata": {},
   "outputs": [
    {
     "name": "stdout",
     "output_type": "stream",
     "text": [
      "DaPy==1.10.8\r\n"
     ]
    }
   ],
   "source": [
    "#!pip install DaPy -U\n",
    "!pip freeze | grep DaPy"
   ]
  },
  {
   "cell_type": "code",
   "execution_count": null,
   "metadata": {},
   "outputs": [],
   "source": []
  },
  {
   "cell_type": "code",
   "execution_count": null,
   "metadata": {},
   "outputs": [],
   "source": []
  },
  {
   "cell_type": "code",
   "execution_count": null,
   "metadata": {},
   "outputs": [],
   "source": []
  },
  {
   "cell_type": "code",
   "execution_count": null,
   "metadata": {},
   "outputs": [],
   "source": []
  },
  {
   "cell_type": "code",
   "execution_count": null,
   "metadata": {},
   "outputs": [],
   "source": []
  },
  {
   "cell_type": "code",
   "execution_count": null,
   "metadata": {},
   "outputs": [],
   "source": []
  },
  {
   "cell_type": "code",
   "execution_count": null,
   "metadata": {},
   "outputs": [],
   "source": []
  }
 ],
 "metadata": {
  "kernelspec": {
   "display_name": "Python 3",
   "language": "python",
   "name": "python3"
  },
  "language_info": {
   "codemirror_mode": {
    "name": "ipython",
    "version": 3
   },
   "file_extension": ".py",
   "mimetype": "text/x-python",
   "name": "python",
   "nbconvert_exporter": "python",
   "pygments_lexer": "ipython3",
   "version": "3.7.3"
  },
  "toc": {
   "base_numbering": 1,
   "nav_menu": {},
   "number_sections": true,
   "sideBar": true,
   "skip_h1_title": false,
   "title_cell": "Table of Contents",
   "title_sidebar": "Contents",
   "toc_cell": false,
   "toc_position": {},
   "toc_section_display": true,
   "toc_window_display": true
  }
 },
 "nbformat": 4,
 "nbformat_minor": 2
}
