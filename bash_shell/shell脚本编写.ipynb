{
 "cells": [
  {
   "cell_type": "markdown",
   "metadata": {},
   "source": [
    "# bash脚本需要掌握知识\n",
    "* 命令\n",
    "* bash语法\n",
    "* Linux系统方面的知识\n"
   ]
  },
  {
   "cell_type": "markdown",
   "metadata": {},
   "source": [
    "## 什么是Linux?\n",
    "硬件：工作中真正工作的组成部分是硬件\n",
    "\n",
    "linux内核（kernel）：管理硬件.  \n",
    "Linux团队管理的版本\n",
    "\n",
    "lib库：封装内核接口，提供应用程序调用\n",
    "\n",
    "应用程序：和用户交互，提供某项特定的服务  \n",
    "GNU：在linux内核之上研发了很多常见的应用程序，并且把这些应用程序开源了"
   ]
  },
  {
   "cell_type": "markdown",
   "metadata": {},
   "source": [
    "### Linux哲学思想：\n",
    "1、Linux中一切皆文件  \n",
    "2、Linux将一个大型需求，分解成非常多的的小需求，有专门的小程序去完成每个小需求，一个小程序只干一件事情"
   ]
  },
  {
   "cell_type": "markdown",
   "metadata": {},
   "source": [
    "## 什么是shell？\n",
    "shell是用户接口（用户和操作系统之间的接口，）\n",
    "shell是不是应用程序，shell是个特殊的应用程序，所有运行在内核之上的程序都称之为应用程序\n",
    "\n",
    "shell是一个特殊的交互式实用程序。它为用户提供了一种启动程序、管理文件系统中的文件和管理运行在Linux系统上的进程的方式。\n",
    "\n",
    "shell包含一组内部命令，此命令可以用来控制文件复制、文件移动、文件重命名，以及显示当前运行在系统上的程序等操作。除了内部命令外，shell还允许命令在命令提示符处输出程序的名称shell可以将程序名称传递到内核以启动该程序.\n",
    "\n",
    "## 命令分类：\n",
    "使用`type`判断命令是内部命令还是外部命令  \n",
    "内部命令：   \n",
    "外部命令："
   ]
  },
  {
   "cell_type": "code",
   "execution_count": 3,
   "metadata": {},
   "outputs": [
    {
     "name": "stdout",
     "output_type": "stream",
     "text": [
      "type is a shell builtin\r\n"
     ]
    }
   ],
   "source": [
    "!type type"
   ]
  },
  {
   "cell_type": "code",
   "execution_count": 1,
   "metadata": {},
   "outputs": [
    {
     "name": "stdout",
     "output_type": "stream",
     "text": [
      "cd is a shell builtin\r\n"
     ]
    }
   ],
   "source": [
    "!type cd"
   ]
  },
  {
   "cell_type": "code",
   "execution_count": 2,
   "metadata": {},
   "outputs": [
    {
     "name": "stdout",
     "output_type": "stream",
     "text": [
      "mongo is /usr/local/Cellar/mongodb/4.0.3_1/bin/mongo\r\n"
     ]
    }
   ],
   "source": [
    "!type mongo"
   ]
  },
  {
   "cell_type": "markdown",
   "metadata": {},
   "source": [
    "https://www.runoob.com/linux/linux-shell-basic-operators.html\n",
    "\n",
    "https://www.jianshu.com/writer#/notebooks/6656264/notes/33341890/preview"
   ]
  },
  {
   "cell_type": "markdown",
   "metadata": {},
   "source": [
    "Shell脚本可以完成比Python更高一层的“胶水语言”，把Python和C++实现的Shell命令与其他内部命令很好的衔接起来，完成一整套pipeline。"
   ]
  },
  {
   "cell_type": "markdown",
   "metadata": {},
   "source": [
    "https://mp.weixin.qq.com/s/hv6luTsRhZpOVu39HtonQQ"
   ]
  },
  {
   "cell_type": "markdown",
   "metadata": {},
   "source": [
    "Shell脚本文件本质就是一个纯文本文件，只要把我们常用的txt文件的后缀名改成sh，甚至不改（只要你自己不混淆就可以）就可以作为脚本文件来用。一般，sh脚本应注意以下几点："
   ]
  },
  {
   "cell_type": "markdown",
   "metadata": {},
   "source": [
    "## globbing通配符\n",
    "*: 匹配任意长度的任意字符\n",
    "?：匹配任意单个字符\n",
    "[]：匹配指定集合内的任意单个字符\n",
    "            [0-9]：任意数字\n",
    "            [a-z]：任意小写字符\n",
    "            [A-Z]：\n",
    "            [0-9a-zA-Z]\n",
    "            p[mn]*\n",
    "\n",
    "        [^]：匹配指定集合外的任意单个字符\n",
    "            p[^m-z]*\n",
    "            \n",
    "字符集合：\n",
    "            [:space:] 所有的空白字符， [[:space:]]\n",
    "            [:punct:] 所有标点符号\n",
    "            [:lower:] 所有小写字母\n",
    "            [:upper:]     大\n",
    "            [:digit:] 所有数字\n",
    "            [:alpha:] 所有字母\n",
    "            [:alnum:] 所有字母和数字"
   ]
  },
  {
   "cell_type": "code",
   "execution_count": null,
   "metadata": {},
   "outputs": [],
   "source": []
  },
  {
   "cell_type": "markdown",
   "metadata": {},
   "source": [
    "## 常见命令"
   ]
  },
  {
   "cell_type": "markdown",
   "metadata": {},
   "source": [
    "### ls"
   ]
  },
  {
   "cell_type": "code",
   "execution_count": null,
   "metadata": {},
   "outputs": [],
   "source": [
    "# 递归显示\n",
    "!ls -R "
   ]
  },
  {
   "cell_type": "markdown",
   "metadata": {},
   "source": [
    "## 首行"
   ]
  },
  {
   "cell_type": "code",
   "execution_count": null,
   "metadata": {},
   "outputs": [],
   "source": [
    "#！/bin/bash\n",
    "# encoding: utf-8"
   ]
  },
  {
   "cell_type": "markdown",
   "metadata": {},
   "source": [
    "保存文件后，为方便脚本文件能直接和命令一样运行，需要执行`chmod +x file`。"
   ]
  },
  {
   "cell_type": "markdown",
   "metadata": {},
   "source": [
    "# 变量"
   ]
  },
  {
   "cell_type": "markdown",
   "metadata": {},
   "source": [
    "## 定义变量\n",
    "定义Shell变量的形式为：变量名=变量值。例如："
   ]
  },
  {
   "cell_type": "code",
   "execution_count": null,
   "metadata": {},
   "outputs": [],
   "source": [
    "PATH1=\"/tmp\"\n",
    "PATH1=$(pwd)"
   ]
  },
  {
   "cell_type": "markdown",
   "metadata": {},
   "source": [
    "## 使用变量\n",
    "Shell中需要用$变量名的形式使用变量。结合前面所讲的定义赋值，我们可以使用一个已有变量的值，直接赋给另一个变量：\n",
    "注意，$PWD是系统维护的环境变量，和pwd效果一致。"
   ]
  },
  {
   "cell_type": "code",
   "execution_count": 6,
   "metadata": {},
   "outputs": [
    {
     "name": "stdout",
     "output_type": "stream",
     "text": [
      "/Users/luoyonggui/PycharmProjects/mayiexamples/bash_shell\r\n"
     ]
    }
   ],
   "source": [
    "!echo $PWD"
   ]
  },
  {
   "cell_type": "code",
   "execution_count": 7,
   "metadata": {},
   "outputs": [
    {
     "name": "stdout",
     "output_type": "stream",
     "text": [
      "/Users/luoyonggui/PycharmProjects/mayiexamples/bash_shell\r\n"
     ]
    }
   ],
   "source": [
    "!echo ${PWD}"
   ]
  },
  {
   "cell_type": "markdown",
   "metadata": {},
   "source": [
    "# 命令行参数\n",
    "与很多命令行环境相似，Shell脚本需要对多个参数进行处理。我们编写脚本时，可以通过一些特殊的变量获取命令行参数。首先，我们先写一个脚本testpara.sh，内容如下："
   ]
  },
  {
   "cell_type": "code",
   "execution_count": null,
   "metadata": {},
   "outputs": [],
   "source": [
    "#!/bin/bash\n",
    "\n",
    "param1=$1\n",
    "param2=$2\n",
    "echo \"Running :$0\"\n",
    "echo \"Parameter1: $param1\"\n",
    "echo \"Parameter1: $param2\""
   ]
  },
  {
   "cell_type": "code",
   "execution_count": 2,
   "metadata": {},
   "outputs": [
    {
     "name": "stdout",
     "output_type": "stream",
     "text": [
      "Running :./testpara.sh\r\n",
      "Parameter1: p1\r\n",
      "Parameter1: p2\r\n"
     ]
    }
   ],
   "source": [
    "!sh ./testpara.sh p1 p2"
   ]
  },
  {
   "cell_type": "markdown",
   "metadata": {},
   "source": [
    "## 缺省参数\n",
    "请注意，如果参数很多时，脚本最好支持缺省参数，这样就不用每个参数都必须写全。我们可以把testpara.sh略微改造下，支持缺省参数:"
   ]
  },
  {
   "cell_type": "code",
   "execution_count": null,
   "metadata": {},
   "outputs": [],
   "source": [
    "#!/bin/bash\n",
    "param1=${1:-para1}\n",
    "param2=${2:-para2}\n",
    "echo \"Running :$0\"\n",
    "echo \"Parameter1: $param1\"\n",
    "echo \"Parameter1: $param2\""
   ]
  },
  {
   "cell_type": "code",
   "execution_count": 3,
   "metadata": {},
   "outputs": [
    {
     "name": "stdout",
     "output_type": "stream",
     "text": [
      "Running :./testpara1.sh\r\n",
      "Parameter1: para1\r\n",
      "Parameter1: para2\r\n"
     ]
    }
   ],
   "source": [
    "!sh ./testpara1.sh "
   ]
  },
  {
   "cell_type": "markdown",
   "metadata": {},
   "source": [
    "# 退出状态码"
   ]
  },
  {
   "cell_type": "markdown",
   "metadata": {},
   "source": [
    "基本上所有命令在退出时，都会返回一个状态值，表示这条命令是否成功。类似于c里面的int function的return 1或return 0一样。在Linux中，一般定义0表示成功，非0表示失败。在Shell环境里，可以用$?获取上条命令的状态。例如，我们在成功执行testpara.sh后，可以运行echo $?，Shell这时返回了0，提示我们命令成功。\n",
    "\n",
    "常见的非0码包括：127表示命令没找到，126表示不可执行。"
   ]
  },
  {
   "cell_type": "markdown",
   "metadata": {},
   "source": [
    "# 逻辑控制"
   ]
  },
  {
   "cell_type": "markdown",
   "metadata": {},
   "source": [
    "## if"
   ]
  },
  {
   "cell_type": "markdown",
   "metadata": {},
   "source": [
    "Shell的if语句与其他语言的很类似，唯一需要注意的是语法，以及与if成对的关键字fi。我们通过pip命令来举例："
   ]
  },
  {
   "cell_type": "code",
   "execution_count": null,
   "metadata": {},
   "outputs": [],
   "source": [
    "sudo pip3 install numpy\n",
    "\n",
    "if [ $? = 0 ]; then\n",
    "echo \"Installation Successfully\"\n",
    "else\n",
    "echo \"Problems to install Essential packages, check this!\"\n",
    "exit 1\n",
    "fi"
   ]
  },
  {
   "cell_type": "code",
   "execution_count": 4,
   "metadata": {},
   "outputs": [
    {
     "name": "stdout",
     "output_type": "stream",
     "text": [
      "Requirement already satisfied: numpy in /Users/luoyonggui/anaconda3/lib/python3.7/site-packages (1.17.0)\n",
      "Installation Successfully\n"
     ]
    }
   ],
   "source": [
    "!sh if.sh"
   ]
  },
  {
   "cell_type": "markdown",
   "metadata": {},
   "source": [
    "注意，Shell脚本的语句段不需要括号包围。"
   ]
  },
  {
   "cell_type": "markdown",
   "metadata": {},
   "source": [
    "## case\n",
    "Shell中的case语句与其他语言的case也很相似，是多分支选择结构。注意，与case对应的结束关键字是esac。我们来看一个判断输入数字的例子："
   ]
  },
  {
   "cell_type": "code",
   "execution_count": null,
   "metadata": {},
   "outputs": [],
   "source": [
    "echo 'Please press a number to select options'\n",
    "read num\n",
    "case $num in\n",
    "    1)  echo 'option 1'\n",
    "    ;;\n",
    "    2)  echo 'option 2'\n",
    "    ;;\n",
    "    3)  echo 'option 3'\n",
    "    ;;\n",
    "    *)   echo 'Other'\n",
    "    ;;\n",
    "esac"
   ]
  },
  {
   "cell_type": "code",
   "execution_count": 2,
   "metadata": {},
   "outputs": [
    {
     "name": "stdout",
     "output_type": "stream",
     "text": [
      "Please press a number to select options\r\n",
      "option 2\r\n"
     ]
    }
   ],
   "source": [
    "!sh case.sh 2"
   ]
  },
  {
   "cell_type": "markdown",
   "metadata": {},
   "source": [
    "注意，read读取键盘输入，并保存在变量num中。同时，注意case语句选项的写法。"
   ]
  },
  {
   "cell_type": "markdown",
   "metadata": {},
   "source": [
    "## 循环\n",
    "上面的例子为我们展示了Shell中的多分支结构，但我们注意到这个脚本只能执行一次选择就退出。在其他语言中，我们可以使用循环不断重复这个选择过程。同样，Shell中可以这样实现："
   ]
  },
  {
   "cell_type": "markdown",
   "metadata": {},
   "source": [
    "https://www.runoob.com/linux/linux-shell-basic-operators.html"
   ]
  },
  {
   "cell_type": "code",
   "execution_count": null,
   "metadata": {},
   "outputs": [],
   "source": [
    "echo 'Input a number（press q to quit）'\n",
    "# read num\n",
    "num=5\n",
    "while [ $num -gt 0 ];do\n",
    "    echo $num\n",
    "    num=`expr $num - 1`\n",
    "done\n",
    "\n",
    "for ((i=1;i<=5;i++))\n",
    "do   \n",
    "    echo $i\n",
    "done"
   ]
  },
  {
   "cell_type": "code",
   "execution_count": 5,
   "metadata": {},
   "outputs": [
    {
     "name": "stdout",
     "output_type": "stream",
     "text": [
      "Input a number（press q to quit）\r\n",
      "5\r\n",
      "4\r\n",
      "3\r\n",
      "2\r\n",
      "1\r\n",
      "1\r\n",
      "2\r\n",
      "3\r\n",
      "4\r\n",
      "5\r\n"
     ]
    }
   ],
   "source": [
    "!sh while_for.sh"
   ]
  },
  {
   "cell_type": "markdown",
   "metadata": {},
   "source": [
    "# 函数\n",
    "Shell中支持用户自定义函数，形式如下：\n",
    "这里，方括号表示可选内容。即function关键词可以省略，直接写函数名()就可以定义："
   ]
  },
  {
   "cell_type": "code",
   "execution_count": null,
   "metadata": {},
   "outputs": [],
   "source": [
    "[ function ] funname [()]\n",
    "\n",
    "{\n",
    "\n",
    "    XXXXX;\n",
    "\n",
    "    [return int;]\n",
    "\n",
    "}\n"
   ]
  },
  {
   "cell_type": "code",
   "execution_count": null,
   "metadata": {},
   "outputs": [],
   "source": [
    "test(){\n",
    "    echo \"hello\"\n",
    "    echo hello, world\n",
    "}\n",
    "test"
   ]
  },
  {
   "cell_type": "code",
   "execution_count": 11,
   "metadata": {},
   "outputs": [
    {
     "name": "stdout",
     "output_type": "stream",
     "text": [
      "hello\r\n",
      "hello, world\r\n"
     ]
    }
   ],
   "source": [
    "!sh function.sh"
   ]
  },
  {
   "cell_type": "markdown",
   "metadata": {},
   "source": [
    "# 日期\n",
    "[SHELL脚本 中日期的使用以及时间变量的使用](https://www.cnblogs.com/guoch1017/p/9530701.html)"
   ]
  },
  {
   "cell_type": "code",
   "execution_count": 12,
   "metadata": {},
   "outputs": [
    {
     "name": "stdout",
     "output_type": "stream",
     "text": [
      "今天日期是: 20190912\r\n"
     ]
    }
   ],
   "source": [
    "!echo \"今天日期是: `date +%Y%m%d`\"  "
   ]
  },
  {
   "cell_type": "code",
   "execution_count": null,
   "metadata": {},
   "outputs": [],
   "source": []
  }
 ],
 "metadata": {
  "kernelspec": {
   "display_name": "Python 3",
   "language": "python",
   "name": "python3"
  },
  "language_info": {
   "codemirror_mode": {
    "name": "ipython",
    "version": 3
   },
   "file_extension": ".py",
   "mimetype": "text/x-python",
   "name": "python",
   "nbconvert_exporter": "python",
   "pygments_lexer": "ipython3",
   "version": "3.7.3"
  },
  "toc": {
   "base_numbering": 1,
   "nav_menu": {},
   "number_sections": true,
   "sideBar": true,
   "skip_h1_title": false,
   "title_cell": "Table of Contents",
   "title_sidebar": "Contents",
   "toc_cell": false,
   "toc_position": {},
   "toc_section_display": true,
   "toc_window_display": true
  }
 },
 "nbformat": 4,
 "nbformat_minor": 2
}
